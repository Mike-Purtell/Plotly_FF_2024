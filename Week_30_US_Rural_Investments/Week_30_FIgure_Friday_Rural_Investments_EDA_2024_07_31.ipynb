{
 "cells": [
  {
   "cell_type": "markdown",
   "id": "ce0238ea-6930-4a02-ace7-ae0d786c43f7",
   "metadata": {},
   "source": [
    "### Friday week 30 - Rural Investments, USA July 31, 2024 - EXPLORATORY DATA ANALYSIS"
   ]
  },
  {
   "cell_type": "code",
   "execution_count": 1,
   "id": "04c647fd-001e-4acc-95f4-f52370d928f8",
   "metadata": {},
   "outputs": [
    {
     "name": "stdout",
     "output_type": "stream",
     "text": [
      "\n",
      "\n",
      "\n",
      "\n",
      "\n",
      "\n"
     ]
    },
    {
     "data": {
      "application/vnd.plotly.v1+json": {
       "config": {
        "plotlyServerURL": "https://plot.ly"
       },
       "data": [
        {
         "alignmentgroup": "True",
         "customdata": [
          [
           20481,
           5493154660,
           268207.3463209804
          ]
         ],
         "hovertemplate": "Investment Count %{customdata[0]:,d}<br>Total $%{customdata[1]:,d}<br>Average $%{customdata[2]:,d}<br><extra></extra>",
         "legendgroup": "Single Family Housing  ",
         "marker": {
          "color": "#FB0D0D",
          "pattern": {
           "shape": ""
          }
         },
         "name": "Single Family Housing  ",
         "offsetgroup": "Single Family Housing  ",
         "orientation": "h",
         "showlegend": true,
         "textposition": "auto",
         "type": "bar",
         "x": [
          20481
         ],
         "xaxis": "x",
         "y": [
          "Single Family Housing  "
         ],
         "yaxis": "y"
        },
        {
         "alignmentgroup": "True",
         "customdata": [
          [
           7978,
           1245033728,
           156058.37653547255
          ]
         ],
         "hovertemplate": "Investment Count %{customdata[0]:,d}<br>Total $%{customdata[1]:,d}<br>Average $%{customdata[2]:,d}<br><extra></extra>",
         "legendgroup": "Multifamily Housing  ",
         "marker": {
          "color": "#1CA71C",
          "pattern": {
           "shape": ""
          }
         },
         "name": "Multifamily Housing  ",
         "offsetgroup": "Multifamily Housing  ",
         "orientation": "h",
         "showlegend": true,
         "textposition": "auto",
         "type": "bar",
         "x": [
          7978
         ],
         "xaxis": "x",
         "y": [
          "Multifamily Housing  "
         ],
         "yaxis": "y"
        },
        {
         "alignmentgroup": "True",
         "customdata": [
          [
           2075,
           1500799132,
           723276.6901204819
          ]
         ],
         "hovertemplate": "Investment Count %{customdata[0]:,d}<br>Total $%{customdata[1]:,d}<br>Average $%{customdata[2]:,d}<br><extra></extra>",
         "legendgroup": "Business Programs  ",
         "marker": {
          "color": "#2E91E5",
          "pattern": {
           "shape": ""
          }
         },
         "name": "Business Programs  ",
         "offsetgroup": "Business Programs  ",
         "orientation": "h",
         "showlegend": true,
         "textposition": "auto",
         "type": "bar",
         "x": [
          2075
         ],
         "xaxis": "x",
         "y": [
          "Business Programs  "
         ],
         "yaxis": "y"
        },
        {
         "alignmentgroup": "True",
         "customdata": [
          [
           101,
           111571478,
           1104668.099009901
          ]
         ],
         "hovertemplate": "Investment Count %{customdata[0]:,d}<br>Total $%{customdata[1]:,d}<br>Average $%{customdata[2]:,d}<br><extra></extra>",
         "legendgroup": "Community Facilities  ",
         "marker": {
          "color": "#E15F99",
          "pattern": {
           "shape": ""
          }
         },
         "name": "Community Facilities  ",
         "offsetgroup": "Community Facilities  ",
         "orientation": "h",
         "showlegend": true,
         "textposition": "auto",
         "type": "bar",
         "x": [
          101
         ],
         "xaxis": "x",
         "y": [
          "Community Facilities  "
         ],
         "yaxis": "y"
        },
        {
         "alignmentgroup": "True",
         "customdata": [
          [
           55,
           147197037,
           2676309.7636363637
          ]
         ],
         "hovertemplate": "Investment Count %{customdata[0]:,d}<br>Total $%{customdata[1]:,d}<br>Average $%{customdata[2]:,d}<br><extra></extra>",
         "legendgroup": "Water and Environmental  ",
         "marker": {
          "color": "#DA16FF",
          "pattern": {
           "shape": ""
          }
         },
         "name": "Water and Environmental  ",
         "offsetgroup": "Water and Environmental  ",
         "orientation": "h",
         "showlegend": true,
         "textposition": "auto",
         "type": "bar",
         "x": [
          55
         ],
         "xaxis": "x",
         "y": [
          "Water and Environmental  "
         ],
         "yaxis": "y"
        }
       ],
       "layout": {
        "annotations": [
         {
          "align": "left",
          "font": {
           "color": "darkslategray",
           "size": 14
          },
          "showarrow": false,
          "text": "<b>Data Source:</b> US Department of Agriculture<br>",
          "x": 0.9,
          "xanchor": "right",
          "xref": "paper",
          "y": 0.6,
          "yanchor": "top",
          "yref": "paper"
         }
        ],
        "autosize": false,
        "barmode": "relative",
        "height": 250,
        "legend": {
         "title": {
          "text": "Region"
         },
         "tracegroupgap": 0
        },
        "margin": {
         "b": 50,
         "l": 50,
         "r": 50,
         "t": 50
        },
        "showlegend": false,
        "template": {
         "data": {
          "bar": [
           {
            "error_x": {
             "color": "#2a3f5f"
            },
            "error_y": {
             "color": "#2a3f5f"
            },
            "marker": {
             "line": {
              "color": "white",
              "width": 0.5
             },
             "pattern": {
              "fillmode": "overlay",
              "size": 10,
              "solidity": 0.2
             }
            },
            "type": "bar"
           }
          ],
          "barpolar": [
           {
            "marker": {
             "line": {
              "color": "white",
              "width": 0.5
             },
             "pattern": {
              "fillmode": "overlay",
              "size": 10,
              "solidity": 0.2
             }
            },
            "type": "barpolar"
           }
          ],
          "carpet": [
           {
            "aaxis": {
             "endlinecolor": "#2a3f5f",
             "gridcolor": "#C8D4E3",
             "linecolor": "#C8D4E3",
             "minorgridcolor": "#C8D4E3",
             "startlinecolor": "#2a3f5f"
            },
            "baxis": {
             "endlinecolor": "#2a3f5f",
             "gridcolor": "#C8D4E3",
             "linecolor": "#C8D4E3",
             "minorgridcolor": "#C8D4E3",
             "startlinecolor": "#2a3f5f"
            },
            "type": "carpet"
           }
          ],
          "choropleth": [
           {
            "colorbar": {
             "outlinewidth": 0,
             "ticks": ""
            },
            "type": "choropleth"
           }
          ],
          "contour": [
           {
            "colorbar": {
             "outlinewidth": 0,
             "ticks": ""
            },
            "colorscale": [
             [
              0,
              "#0d0887"
             ],
             [
              0.1111111111111111,
              "#46039f"
             ],
             [
              0.2222222222222222,
              "#7201a8"
             ],
             [
              0.3333333333333333,
              "#9c179e"
             ],
             [
              0.4444444444444444,
              "#bd3786"
             ],
             [
              0.5555555555555556,
              "#d8576b"
             ],
             [
              0.6666666666666666,
              "#ed7953"
             ],
             [
              0.7777777777777778,
              "#fb9f3a"
             ],
             [
              0.8888888888888888,
              "#fdca26"
             ],
             [
              1,
              "#f0f921"
             ]
            ],
            "type": "contour"
           }
          ],
          "contourcarpet": [
           {
            "colorbar": {
             "outlinewidth": 0,
             "ticks": ""
            },
            "type": "contourcarpet"
           }
          ],
          "heatmap": [
           {
            "colorbar": {
             "outlinewidth": 0,
             "ticks": ""
            },
            "colorscale": [
             [
              0,
              "#0d0887"
             ],
             [
              0.1111111111111111,
              "#46039f"
             ],
             [
              0.2222222222222222,
              "#7201a8"
             ],
             [
              0.3333333333333333,
              "#9c179e"
             ],
             [
              0.4444444444444444,
              "#bd3786"
             ],
             [
              0.5555555555555556,
              "#d8576b"
             ],
             [
              0.6666666666666666,
              "#ed7953"
             ],
             [
              0.7777777777777778,
              "#fb9f3a"
             ],
             [
              0.8888888888888888,
              "#fdca26"
             ],
             [
              1,
              "#f0f921"
             ]
            ],
            "type": "heatmap"
           }
          ],
          "heatmapgl": [
           {
            "colorbar": {
             "outlinewidth": 0,
             "ticks": ""
            },
            "colorscale": [
             [
              0,
              "#0d0887"
             ],
             [
              0.1111111111111111,
              "#46039f"
             ],
             [
              0.2222222222222222,
              "#7201a8"
             ],
             [
              0.3333333333333333,
              "#9c179e"
             ],
             [
              0.4444444444444444,
              "#bd3786"
             ],
             [
              0.5555555555555556,
              "#d8576b"
             ],
             [
              0.6666666666666666,
              "#ed7953"
             ],
             [
              0.7777777777777778,
              "#fb9f3a"
             ],
             [
              0.8888888888888888,
              "#fdca26"
             ],
             [
              1,
              "#f0f921"
             ]
            ],
            "type": "heatmapgl"
           }
          ],
          "histogram": [
           {
            "marker": {
             "pattern": {
              "fillmode": "overlay",
              "size": 10,
              "solidity": 0.2
             }
            },
            "type": "histogram"
           }
          ],
          "histogram2d": [
           {
            "colorbar": {
             "outlinewidth": 0,
             "ticks": ""
            },
            "colorscale": [
             [
              0,
              "#0d0887"
             ],
             [
              0.1111111111111111,
              "#46039f"
             ],
             [
              0.2222222222222222,
              "#7201a8"
             ],
             [
              0.3333333333333333,
              "#9c179e"
             ],
             [
              0.4444444444444444,
              "#bd3786"
             ],
             [
              0.5555555555555556,
              "#d8576b"
             ],
             [
              0.6666666666666666,
              "#ed7953"
             ],
             [
              0.7777777777777778,
              "#fb9f3a"
             ],
             [
              0.8888888888888888,
              "#fdca26"
             ],
             [
              1,
              "#f0f921"
             ]
            ],
            "type": "histogram2d"
           }
          ],
          "histogram2dcontour": [
           {
            "colorbar": {
             "outlinewidth": 0,
             "ticks": ""
            },
            "colorscale": [
             [
              0,
              "#0d0887"
             ],
             [
              0.1111111111111111,
              "#46039f"
             ],
             [
              0.2222222222222222,
              "#7201a8"
             ],
             [
              0.3333333333333333,
              "#9c179e"
             ],
             [
              0.4444444444444444,
              "#bd3786"
             ],
             [
              0.5555555555555556,
              "#d8576b"
             ],
             [
              0.6666666666666666,
              "#ed7953"
             ],
             [
              0.7777777777777778,
              "#fb9f3a"
             ],
             [
              0.8888888888888888,
              "#fdca26"
             ],
             [
              1,
              "#f0f921"
             ]
            ],
            "type": "histogram2dcontour"
           }
          ],
          "mesh3d": [
           {
            "colorbar": {
             "outlinewidth": 0,
             "ticks": ""
            },
            "type": "mesh3d"
           }
          ],
          "parcoords": [
           {
            "line": {
             "colorbar": {
              "outlinewidth": 0,
              "ticks": ""
             }
            },
            "type": "parcoords"
           }
          ],
          "pie": [
           {
            "automargin": true,
            "type": "pie"
           }
          ],
          "scatter": [
           {
            "fillpattern": {
             "fillmode": "overlay",
             "size": 10,
             "solidity": 0.2
            },
            "type": "scatter"
           }
          ],
          "scatter3d": [
           {
            "line": {
             "colorbar": {
              "outlinewidth": 0,
              "ticks": ""
             }
            },
            "marker": {
             "colorbar": {
              "outlinewidth": 0,
              "ticks": ""
             }
            },
            "type": "scatter3d"
           }
          ],
          "scattercarpet": [
           {
            "marker": {
             "colorbar": {
              "outlinewidth": 0,
              "ticks": ""
             }
            },
            "type": "scattercarpet"
           }
          ],
          "scattergeo": [
           {
            "marker": {
             "colorbar": {
              "outlinewidth": 0,
              "ticks": ""
             }
            },
            "type": "scattergeo"
           }
          ],
          "scattergl": [
           {
            "marker": {
             "colorbar": {
              "outlinewidth": 0,
              "ticks": ""
             }
            },
            "type": "scattergl"
           }
          ],
          "scattermapbox": [
           {
            "marker": {
             "colorbar": {
              "outlinewidth": 0,
              "ticks": ""
             }
            },
            "type": "scattermapbox"
           }
          ],
          "scatterpolar": [
           {
            "marker": {
             "colorbar": {
              "outlinewidth": 0,
              "ticks": ""
             }
            },
            "type": "scatterpolar"
           }
          ],
          "scatterpolargl": [
           {
            "marker": {
             "colorbar": {
              "outlinewidth": 0,
              "ticks": ""
             }
            },
            "type": "scatterpolargl"
           }
          ],
          "scatterternary": [
           {
            "marker": {
             "colorbar": {
              "outlinewidth": 0,
              "ticks": ""
             }
            },
            "type": "scatterternary"
           }
          ],
          "surface": [
           {
            "colorbar": {
             "outlinewidth": 0,
             "ticks": ""
            },
            "colorscale": [
             [
              0,
              "#0d0887"
             ],
             [
              0.1111111111111111,
              "#46039f"
             ],
             [
              0.2222222222222222,
              "#7201a8"
             ],
             [
              0.3333333333333333,
              "#9c179e"
             ],
             [
              0.4444444444444444,
              "#bd3786"
             ],
             [
              0.5555555555555556,
              "#d8576b"
             ],
             [
              0.6666666666666666,
              "#ed7953"
             ],
             [
              0.7777777777777778,
              "#fb9f3a"
             ],
             [
              0.8888888888888888,
              "#fdca26"
             ],
             [
              1,
              "#f0f921"
             ]
            ],
            "type": "surface"
           }
          ],
          "table": [
           {
            "cells": {
             "fill": {
              "color": "#EBF0F8"
             },
             "line": {
              "color": "white"
             }
            },
            "header": {
             "fill": {
              "color": "#C8D4E3"
             },
             "line": {
              "color": "white"
             }
            },
            "type": "table"
           }
          ]
         },
         "layout": {
          "annotationdefaults": {
           "arrowcolor": "#2a3f5f",
           "arrowhead": 0,
           "arrowwidth": 1
          },
          "autotypenumbers": "strict",
          "coloraxis": {
           "colorbar": {
            "outlinewidth": 0,
            "ticks": ""
           }
          },
          "colorscale": {
           "diverging": [
            [
             0,
             "#8e0152"
            ],
            [
             0.1,
             "#c51b7d"
            ],
            [
             0.2,
             "#de77ae"
            ],
            [
             0.3,
             "#f1b6da"
            ],
            [
             0.4,
             "#fde0ef"
            ],
            [
             0.5,
             "#f7f7f7"
            ],
            [
             0.6,
             "#e6f5d0"
            ],
            [
             0.7,
             "#b8e186"
            ],
            [
             0.8,
             "#7fbc41"
            ],
            [
             0.9,
             "#4d9221"
            ],
            [
             1,
             "#276419"
            ]
           ],
           "sequential": [
            [
             0,
             "#0d0887"
            ],
            [
             0.1111111111111111,
             "#46039f"
            ],
            [
             0.2222222222222222,
             "#7201a8"
            ],
            [
             0.3333333333333333,
             "#9c179e"
            ],
            [
             0.4444444444444444,
             "#bd3786"
            ],
            [
             0.5555555555555556,
             "#d8576b"
            ],
            [
             0.6666666666666666,
             "#ed7953"
            ],
            [
             0.7777777777777778,
             "#fb9f3a"
            ],
            [
             0.8888888888888888,
             "#fdca26"
            ],
            [
             1,
             "#f0f921"
            ]
           ],
           "sequentialminus": [
            [
             0,
             "#0d0887"
            ],
            [
             0.1111111111111111,
             "#46039f"
            ],
            [
             0.2222222222222222,
             "#7201a8"
            ],
            [
             0.3333333333333333,
             "#9c179e"
            ],
            [
             0.4444444444444444,
             "#bd3786"
            ],
            [
             0.5555555555555556,
             "#d8576b"
            ],
            [
             0.6666666666666666,
             "#ed7953"
            ],
            [
             0.7777777777777778,
             "#fb9f3a"
            ],
            [
             0.8888888888888888,
             "#fdca26"
            ],
            [
             1,
             "#f0f921"
            ]
           ]
          },
          "colorway": [
           "#636efa",
           "#EF553B",
           "#00cc96",
           "#ab63fa",
           "#FFA15A",
           "#19d3f3",
           "#FF6692",
           "#B6E880",
           "#FF97FF",
           "#FECB52"
          ],
          "font": {
           "color": "#2a3f5f"
          },
          "geo": {
           "bgcolor": "white",
           "lakecolor": "white",
           "landcolor": "white",
           "showlakes": true,
           "showland": true,
           "subunitcolor": "#C8D4E3"
          },
          "hoverlabel": {
           "align": "left"
          },
          "hovermode": "closest",
          "mapbox": {
           "style": "light"
          },
          "paper_bgcolor": "white",
          "plot_bgcolor": "white",
          "polar": {
           "angularaxis": {
            "gridcolor": "#EBF0F8",
            "linecolor": "#EBF0F8",
            "ticks": ""
           },
           "bgcolor": "white",
           "radialaxis": {
            "gridcolor": "#EBF0F8",
            "linecolor": "#EBF0F8",
            "ticks": ""
           }
          },
          "scene": {
           "xaxis": {
            "backgroundcolor": "white",
            "gridcolor": "#DFE8F3",
            "gridwidth": 2,
            "linecolor": "#EBF0F8",
            "showbackground": true,
            "ticks": "",
            "zerolinecolor": "#EBF0F8"
           },
           "yaxis": {
            "backgroundcolor": "white",
            "gridcolor": "#DFE8F3",
            "gridwidth": 2,
            "linecolor": "#EBF0F8",
            "showbackground": true,
            "ticks": "",
            "zerolinecolor": "#EBF0F8"
           },
           "zaxis": {
            "backgroundcolor": "white",
            "gridcolor": "#DFE8F3",
            "gridwidth": 2,
            "linecolor": "#EBF0F8",
            "showbackground": true,
            "ticks": "",
            "zerolinecolor": "#EBF0F8"
           }
          },
          "shapedefaults": {
           "line": {
            "color": "#2a3f5f"
           }
          },
          "ternary": {
           "aaxis": {
            "gridcolor": "#DFE8F3",
            "linecolor": "#A2B1C6",
            "ticks": ""
           },
           "baxis": {
            "gridcolor": "#DFE8F3",
            "linecolor": "#A2B1C6",
            "ticks": ""
           },
           "bgcolor": "white",
           "caxis": {
            "gridcolor": "#DFE8F3",
            "linecolor": "#A2B1C6",
            "ticks": ""
           }
          },
          "title": {
           "x": 0.05
          },
          "xaxis": {
           "automargin": true,
           "gridcolor": "#EBF0F8",
           "linecolor": "#EBF0F8",
           "ticks": "",
           "title": {
            "standoff": 15
           },
           "zerolinecolor": "#EBF0F8",
           "zerolinewidth": 2
          },
          "yaxis": {
           "automargin": true,
           "gridcolor": "#EBF0F8",
           "linecolor": "#EBF0F8",
           "ticks": "",
           "title": {
            "standoff": 15
           },
           "zerolinecolor": "#EBF0F8",
           "zerolinewidth": 2
          }
         }
        },
        "title": {
         "text": "USA Rural Investment by Program Area - 2024"
        },
        "width": 1000,
        "xaxis": {
         "anchor": "y",
         "categoryorder": "total descending",
         "domain": [
          0,
          1
         ],
         "showgrid": false,
         "title": {
          "text": "Count"
         }
        },
        "yaxis": {
         "anchor": "x",
         "categoryarray": [
          "Water and Environmental  ",
          "Community Facilities  ",
          "Business Programs  ",
          "Multifamily Housing  ",
          "Single Family Housing  "
         ],
         "categoryorder": "array",
         "domain": [
          0,
          1
         ],
         "showgrid": false,
         "title": {
          "text": "Program Area"
         }
        }
       }
      }
     },
     "metadata": {},
     "output_type": "display_data"
    },
    {
     "name": "stdout",
     "output_type": "stream",
     "text": [
      "\n",
      "\n",
      "\n",
      "\n",
      "\n",
      "\n"
     ]
    },
    {
     "data": {
      "application/vnd.plotly.v1+json": {
       "config": {
        "plotlyServerURL": "https://plot.ly"
       },
       "data": [
        {
         "alignmentgroup": "True",
         "customdata": [
          [
           16057,
           4718698136,
           293871.7155134832
          ]
         ],
         "hovertemplate": "Investment Count %{customdata[0]:,d}<br>Total $%{customdata[1]:,d}<br>Average $%{customdata[2]:,d}<br><extra></extra>",
         "legendgroup": "Guaranteed Loans (SFH)  ",
         "marker": {
          "color": "#B68100",
          "pattern": {
           "shape": ""
          }
         },
         "name": "Guaranteed Loans (SFH)  ",
         "offsetgroup": "Guaranteed Loans (SFH)  ",
         "orientation": "h",
         "showlegend": true,
         "textposition": "auto",
         "type": "bar",
         "x": [
          16057
         ],
         "xaxis": "x",
         "y": [
          "Guaranteed Loans (SFH)  "
         ],
         "yaxis": "y"
        },
        {
         "alignmentgroup": "True",
         "customdata": [
          [
           7959,
           1161820422,
           145975.67810026385
          ]
         ],
         "hovertemplate": "Investment Count %{customdata[0]:,d}<br>Total $%{customdata[1]:,d}<br>Average $%{customdata[2]:,d}<br><extra></extra>",
         "legendgroup": "Rental Assistance (MFH)  ",
         "marker": {
          "color": "#EB663B",
          "pattern": {
           "shape": ""
          }
         },
         "name": "Rental Assistance (MFH)  ",
         "offsetgroup": "Rental Assistance (MFH)  ",
         "orientation": "h",
         "showlegend": true,
         "textposition": "auto",
         "type": "bar",
         "x": [
          7959
         ],
         "xaxis": "x",
         "y": [
          "Rental Assistance (MFH)  "
         ],
         "yaxis": "y"
        },
        {
         "alignmentgroup": "True",
         "customdata": [
          [
           1811,
           733947687,
           405272.05245720595
          ]
         ],
         "hovertemplate": "Investment Count %{customdata[0]:,d}<br>Total $%{customdata[1]:,d}<br>Average $%{customdata[2]:,d}<br><extra></extra>",
         "legendgroup": "Direct Loans (SFH)  ",
         "marker": {
          "color": "#1CA71C",
          "pattern": {
           "shape": ""
          }
         },
         "name": "Direct Loans (SFH)  ",
         "offsetgroup": "Direct Loans (SFH)  ",
         "orientation": "h",
         "showlegend": true,
         "textposition": "auto",
         "type": "bar",
         "x": [
          1811
         ],
         "xaxis": "x",
         "y": [
          "Direct Loans (SFH)  "
         ],
         "yaxis": "y"
        },
        {
         "alignmentgroup": "True",
         "customdata": [
          [
           1755,
           451348308,
           257178.52307692307
          ]
         ],
         "hovertemplate": "Investment Count %{customdata[0]:,d}<br>Total $%{customdata[1]:,d}<br>Average $%{customdata[2]:,d}<br><extra></extra>",
         "legendgroup": "Rural Energy  ",
         "marker": {
          "color": "#FB00D1",
          "pattern": {
           "shape": ""
          }
         },
         "name": "Rural Energy  ",
         "offsetgroup": "Rural Energy  ",
         "orientation": "h",
         "showlegend": true,
         "textposition": "auto",
         "type": "bar",
         "x": [
          1755
         ],
         "xaxis": "x",
         "y": [
          "Rural Energy  "
         ],
         "yaxis": "y"
        },
        {
         "alignmentgroup": "True",
         "customdata": [
          [
           1665,
           21898047,
           13151.98018018018
          ]
         ],
         "hovertemplate": "Investment Count %{customdata[0]:,d}<br>Total $%{customdata[1]:,d}<br>Average $%{customdata[2]:,d}<br><extra></extra>",
         "legendgroup": "Repair Grants (SFH)  ",
         "marker": {
          "color": "#511CFB",
          "pattern": {
           "shape": ""
          }
         },
         "name": "Repair Grants (SFH)  ",
         "offsetgroup": "Repair Grants (SFH)  ",
         "orientation": "h",
         "showlegend": true,
         "textposition": "auto",
         "type": "bar",
         "x": [
          1665
         ],
         "xaxis": "x",
         "y": [
          "Repair Grants (SFH)  "
         ],
         "yaxis": "y"
        },
        {
         "alignmentgroup": "True",
         "customdata": [
          [
           734,
           7802246,
           10629.76294277929
          ]
         ],
         "hovertemplate": "Investment Count %{customdata[0]:,d}<br>Total $%{customdata[1]:,d}<br>Average $%{customdata[2]:,d}<br><extra></extra>",
         "legendgroup": "Repair Loans (SFH)  ",
         "marker": {
          "color": "#00A08B",
          "pattern": {
           "shape": ""
          }
         },
         "name": "Repair Loans (SFH)  ",
         "offsetgroup": "Repair Loans (SFH)  ",
         "orientation": "h",
         "showlegend": true,
         "textposition": "auto",
         "type": "bar",
         "x": [
          734
         ],
         "xaxis": "x",
         "y": [
          "Repair Loans (SFH)  "
         ],
         "yaxis": "y"
        },
        {
         "alignmentgroup": "True",
         "customdata": [
          [
           133,
           6628243,
           49836.41353383459
          ]
         ],
         "hovertemplate": "Investment Count %{customdata[0]:,d}<br>Total $%{customdata[1]:,d}<br>Average $%{customdata[2]:,d}<br><extra></extra>",
         "legendgroup": "Disaster Grants (SFH)  ",
         "marker": {
          "color": "#FB0D0D",
          "pattern": {
           "shape": ""
          }
         },
         "name": "Disaster Grants (SFH)  ",
         "offsetgroup": "Disaster Grants (SFH)  ",
         "orientation": "h",
         "showlegend": true,
         "textposition": "auto",
         "type": "bar",
         "x": [
          133
         ],
         "xaxis": "x",
         "y": [
          "Disaster Grants (SFH)  "
         ],
         "yaxis": "y"
        },
        {
         "alignmentgroup": "True",
         "customdata": [
          [
           98,
           832076416,
           8490575.673469387
          ]
         ],
         "hovertemplate": "Investment Count %{customdata[0]:,d}<br>Total $%{customdata[1]:,d}<br>Average $%{customdata[2]:,d}<br><extra></extra>",
         "legendgroup": "B & I Loan Guar. (BP)  ",
         "marker": {
          "color": "#E15F99",
          "pattern": {
           "shape": ""
          }
         },
         "name": "B & I Loan Guar. (BP)  ",
         "offsetgroup": "B & I Loan Guar. (BP)  ",
         "orientation": "h",
         "showlegend": true,
         "textposition": "auto",
         "type": "bar",
         "x": [
          98
         ],
         "xaxis": "x",
         "y": [
          "B & I Loan Guar. (BP)  "
         ],
         "yaxis": "y"
        },
        {
         "alignmentgroup": "True",
         "customdata": [
          [
           95,
           3420445,
           36004.68421052631
          ]
         ],
         "hovertemplate": "Investment Count %{customdata[0]:,d}<br>Total $%{customdata[1]:,d}<br>Average $%{customdata[2]:,d}<br><extra></extra>",
         "legendgroup": "Advanced Biofuel  ",
         "marker": {
          "color": "#2E91E5",
          "pattern": {
           "shape": ""
          }
         },
         "name": "Advanced Biofuel  ",
         "offsetgroup": "Advanced Biofuel  ",
         "orientation": "h",
         "showlegend": true,
         "textposition": "auto",
         "type": "bar",
         "x": [
          95
         ],
         "xaxis": "x",
         "y": [
          "Advanced Biofuel  "
         ],
         "yaxis": "y"
        },
        {
         "alignmentgroup": "True",
         "customdata": [
          [
           81,
           4180301,
           51608.654320987655
          ]
         ],
         "hovertemplate": "Investment Count %{customdata[0]:,d}<br>Total $%{customdata[1]:,d}<br>Average $%{customdata[2]:,d}<br><extra></extra>",
         "legendgroup": "Disaster Repair Grants (SFH)  ",
         "marker": {
          "color": "#DA16FF",
          "pattern": {
           "shape": ""
          }
         },
         "name": "Disaster Repair Grants (SFH)  ",
         "offsetgroup": "Disaster Repair Grants (SFH)  ",
         "orientation": "h",
         "showlegend": true,
         "textposition": "auto",
         "type": "bar",
         "x": [
          81
         ],
         "xaxis": "x",
         "y": [
          "Disaster Repair Grants (SFH)  "
         ],
         "yaxis": "y"
        },
        {
         "alignmentgroup": "True",
         "customdata": [
          [
           72,
           54050278,
           750698.3055555555
          ]
         ],
         "hovertemplate": "Investment Count %{customdata[0]:,d}<br>Total $%{customdata[1]:,d}<br>Average $%{customdata[2]:,d}<br><extra></extra>",
         "legendgroup": "Grants (CF)  ",
         "marker": {
          "color": "#222A2A",
          "pattern": {
           "shape": ""
          }
         },
         "name": "Grants (CF)  ",
         "offsetgroup": "Grants (CF)  ",
         "orientation": "h",
         "showlegend": true,
         "textposition": "auto",
         "type": "bar",
         "x": [
          72
         ],
         "xaxis": "x",
         "y": [
          "Grants (CF)  "
         ],
         "yaxis": "y"
        },
        {
         "alignmentgroup": "True",
         "customdata": [
          [
           61,
           56131225,
           920184.0163934426
          ]
         ],
         "hovertemplate": "Investment Count %{customdata[0]:,d}<br>Total $%{customdata[1]:,d}<br>Average $%{customdata[2]:,d}<br><extra></extra>",
         "legendgroup": "Higher Blends Infra. Incent.  ",
         "marker": {
          "color": "#750D86",
          "pattern": {
           "shape": ""
          }
         },
         "name": "Higher Blends Infra. Incent.  ",
         "offsetgroup": "Higher Blends Infra. Incent.  ",
         "orientation": "h",
         "showlegend": true,
         "textposition": "auto",
         "type": "bar",
         "x": [
          61
         ],
         "xaxis": "x",
         "y": [
          "Higher Blends Infra. Incent.  "
         ],
         "yaxis": "y"
        }
       ],
       "layout": {
        "annotations": [
         {
          "align": "left",
          "font": {
           "color": "darkslategray",
           "size": 14
          },
          "showarrow": false,
          "text": "<b>Data Source:</b> US Department of Agriculture<br>",
          "x": 0.9,
          "xanchor": "right",
          "xref": "paper",
          "y": 0.6,
          "yanchor": "top",
          "yref": "paper"
         }
        ],
        "autosize": false,
        "barmode": "relative",
        "height": 400,
        "legend": {
         "title": {
          "text": "Region"
         },
         "tracegroupgap": 0
        },
        "margin": {
         "b": 50,
         "l": 50,
         "r": 50,
         "t": 50
        },
        "showlegend": false,
        "template": {
         "data": {
          "bar": [
           {
            "error_x": {
             "color": "#2a3f5f"
            },
            "error_y": {
             "color": "#2a3f5f"
            },
            "marker": {
             "line": {
              "color": "white",
              "width": 0.5
             },
             "pattern": {
              "fillmode": "overlay",
              "size": 10,
              "solidity": 0.2
             }
            },
            "type": "bar"
           }
          ],
          "barpolar": [
           {
            "marker": {
             "line": {
              "color": "white",
              "width": 0.5
             },
             "pattern": {
              "fillmode": "overlay",
              "size": 10,
              "solidity": 0.2
             }
            },
            "type": "barpolar"
           }
          ],
          "carpet": [
           {
            "aaxis": {
             "endlinecolor": "#2a3f5f",
             "gridcolor": "#C8D4E3",
             "linecolor": "#C8D4E3",
             "minorgridcolor": "#C8D4E3",
             "startlinecolor": "#2a3f5f"
            },
            "baxis": {
             "endlinecolor": "#2a3f5f",
             "gridcolor": "#C8D4E3",
             "linecolor": "#C8D4E3",
             "minorgridcolor": "#C8D4E3",
             "startlinecolor": "#2a3f5f"
            },
            "type": "carpet"
           }
          ],
          "choropleth": [
           {
            "colorbar": {
             "outlinewidth": 0,
             "ticks": ""
            },
            "type": "choropleth"
           }
          ],
          "contour": [
           {
            "colorbar": {
             "outlinewidth": 0,
             "ticks": ""
            },
            "colorscale": [
             [
              0,
              "#0d0887"
             ],
             [
              0.1111111111111111,
              "#46039f"
             ],
             [
              0.2222222222222222,
              "#7201a8"
             ],
             [
              0.3333333333333333,
              "#9c179e"
             ],
             [
              0.4444444444444444,
              "#bd3786"
             ],
             [
              0.5555555555555556,
              "#d8576b"
             ],
             [
              0.6666666666666666,
              "#ed7953"
             ],
             [
              0.7777777777777778,
              "#fb9f3a"
             ],
             [
              0.8888888888888888,
              "#fdca26"
             ],
             [
              1,
              "#f0f921"
             ]
            ],
            "type": "contour"
           }
          ],
          "contourcarpet": [
           {
            "colorbar": {
             "outlinewidth": 0,
             "ticks": ""
            },
            "type": "contourcarpet"
           }
          ],
          "heatmap": [
           {
            "colorbar": {
             "outlinewidth": 0,
             "ticks": ""
            },
            "colorscale": [
             [
              0,
              "#0d0887"
             ],
             [
              0.1111111111111111,
              "#46039f"
             ],
             [
              0.2222222222222222,
              "#7201a8"
             ],
             [
              0.3333333333333333,
              "#9c179e"
             ],
             [
              0.4444444444444444,
              "#bd3786"
             ],
             [
              0.5555555555555556,
              "#d8576b"
             ],
             [
              0.6666666666666666,
              "#ed7953"
             ],
             [
              0.7777777777777778,
              "#fb9f3a"
             ],
             [
              0.8888888888888888,
              "#fdca26"
             ],
             [
              1,
              "#f0f921"
             ]
            ],
            "type": "heatmap"
           }
          ],
          "heatmapgl": [
           {
            "colorbar": {
             "outlinewidth": 0,
             "ticks": ""
            },
            "colorscale": [
             [
              0,
              "#0d0887"
             ],
             [
              0.1111111111111111,
              "#46039f"
             ],
             [
              0.2222222222222222,
              "#7201a8"
             ],
             [
              0.3333333333333333,
              "#9c179e"
             ],
             [
              0.4444444444444444,
              "#bd3786"
             ],
             [
              0.5555555555555556,
              "#d8576b"
             ],
             [
              0.6666666666666666,
              "#ed7953"
             ],
             [
              0.7777777777777778,
              "#fb9f3a"
             ],
             [
              0.8888888888888888,
              "#fdca26"
             ],
             [
              1,
              "#f0f921"
             ]
            ],
            "type": "heatmapgl"
           }
          ],
          "histogram": [
           {
            "marker": {
             "pattern": {
              "fillmode": "overlay",
              "size": 10,
              "solidity": 0.2
             }
            },
            "type": "histogram"
           }
          ],
          "histogram2d": [
           {
            "colorbar": {
             "outlinewidth": 0,
             "ticks": ""
            },
            "colorscale": [
             [
              0,
              "#0d0887"
             ],
             [
              0.1111111111111111,
              "#46039f"
             ],
             [
              0.2222222222222222,
              "#7201a8"
             ],
             [
              0.3333333333333333,
              "#9c179e"
             ],
             [
              0.4444444444444444,
              "#bd3786"
             ],
             [
              0.5555555555555556,
              "#d8576b"
             ],
             [
              0.6666666666666666,
              "#ed7953"
             ],
             [
              0.7777777777777778,
              "#fb9f3a"
             ],
             [
              0.8888888888888888,
              "#fdca26"
             ],
             [
              1,
              "#f0f921"
             ]
            ],
            "type": "histogram2d"
           }
          ],
          "histogram2dcontour": [
           {
            "colorbar": {
             "outlinewidth": 0,
             "ticks": ""
            },
            "colorscale": [
             [
              0,
              "#0d0887"
             ],
             [
              0.1111111111111111,
              "#46039f"
             ],
             [
              0.2222222222222222,
              "#7201a8"
             ],
             [
              0.3333333333333333,
              "#9c179e"
             ],
             [
              0.4444444444444444,
              "#bd3786"
             ],
             [
              0.5555555555555556,
              "#d8576b"
             ],
             [
              0.6666666666666666,
              "#ed7953"
             ],
             [
              0.7777777777777778,
              "#fb9f3a"
             ],
             [
              0.8888888888888888,
              "#fdca26"
             ],
             [
              1,
              "#f0f921"
             ]
            ],
            "type": "histogram2dcontour"
           }
          ],
          "mesh3d": [
           {
            "colorbar": {
             "outlinewidth": 0,
             "ticks": ""
            },
            "type": "mesh3d"
           }
          ],
          "parcoords": [
           {
            "line": {
             "colorbar": {
              "outlinewidth": 0,
              "ticks": ""
             }
            },
            "type": "parcoords"
           }
          ],
          "pie": [
           {
            "automargin": true,
            "type": "pie"
           }
          ],
          "scatter": [
           {
            "fillpattern": {
             "fillmode": "overlay",
             "size": 10,
             "solidity": 0.2
            },
            "type": "scatter"
           }
          ],
          "scatter3d": [
           {
            "line": {
             "colorbar": {
              "outlinewidth": 0,
              "ticks": ""
             }
            },
            "marker": {
             "colorbar": {
              "outlinewidth": 0,
              "ticks": ""
             }
            },
            "type": "scatter3d"
           }
          ],
          "scattercarpet": [
           {
            "marker": {
             "colorbar": {
              "outlinewidth": 0,
              "ticks": ""
             }
            },
            "type": "scattercarpet"
           }
          ],
          "scattergeo": [
           {
            "marker": {
             "colorbar": {
              "outlinewidth": 0,
              "ticks": ""
             }
            },
            "type": "scattergeo"
           }
          ],
          "scattergl": [
           {
            "marker": {
             "colorbar": {
              "outlinewidth": 0,
              "ticks": ""
             }
            },
            "type": "scattergl"
           }
          ],
          "scattermapbox": [
           {
            "marker": {
             "colorbar": {
              "outlinewidth": 0,
              "ticks": ""
             }
            },
            "type": "scattermapbox"
           }
          ],
          "scatterpolar": [
           {
            "marker": {
             "colorbar": {
              "outlinewidth": 0,
              "ticks": ""
             }
            },
            "type": "scatterpolar"
           }
          ],
          "scatterpolargl": [
           {
            "marker": {
             "colorbar": {
              "outlinewidth": 0,
              "ticks": ""
             }
            },
            "type": "scatterpolargl"
           }
          ],
          "scatterternary": [
           {
            "marker": {
             "colorbar": {
              "outlinewidth": 0,
              "ticks": ""
             }
            },
            "type": "scatterternary"
           }
          ],
          "surface": [
           {
            "colorbar": {
             "outlinewidth": 0,
             "ticks": ""
            },
            "colorscale": [
             [
              0,
              "#0d0887"
             ],
             [
              0.1111111111111111,
              "#46039f"
             ],
             [
              0.2222222222222222,
              "#7201a8"
             ],
             [
              0.3333333333333333,
              "#9c179e"
             ],
             [
              0.4444444444444444,
              "#bd3786"
             ],
             [
              0.5555555555555556,
              "#d8576b"
             ],
             [
              0.6666666666666666,
              "#ed7953"
             ],
             [
              0.7777777777777778,
              "#fb9f3a"
             ],
             [
              0.8888888888888888,
              "#fdca26"
             ],
             [
              1,
              "#f0f921"
             ]
            ],
            "type": "surface"
           }
          ],
          "table": [
           {
            "cells": {
             "fill": {
              "color": "#EBF0F8"
             },
             "line": {
              "color": "white"
             }
            },
            "header": {
             "fill": {
              "color": "#C8D4E3"
             },
             "line": {
              "color": "white"
             }
            },
            "type": "table"
           }
          ]
         },
         "layout": {
          "annotationdefaults": {
           "arrowcolor": "#2a3f5f",
           "arrowhead": 0,
           "arrowwidth": 1
          },
          "autotypenumbers": "strict",
          "coloraxis": {
           "colorbar": {
            "outlinewidth": 0,
            "ticks": ""
           }
          },
          "colorscale": {
           "diverging": [
            [
             0,
             "#8e0152"
            ],
            [
             0.1,
             "#c51b7d"
            ],
            [
             0.2,
             "#de77ae"
            ],
            [
             0.3,
             "#f1b6da"
            ],
            [
             0.4,
             "#fde0ef"
            ],
            [
             0.5,
             "#f7f7f7"
            ],
            [
             0.6,
             "#e6f5d0"
            ],
            [
             0.7,
             "#b8e186"
            ],
            [
             0.8,
             "#7fbc41"
            ],
            [
             0.9,
             "#4d9221"
            ],
            [
             1,
             "#276419"
            ]
           ],
           "sequential": [
            [
             0,
             "#0d0887"
            ],
            [
             0.1111111111111111,
             "#46039f"
            ],
            [
             0.2222222222222222,
             "#7201a8"
            ],
            [
             0.3333333333333333,
             "#9c179e"
            ],
            [
             0.4444444444444444,
             "#bd3786"
            ],
            [
             0.5555555555555556,
             "#d8576b"
            ],
            [
             0.6666666666666666,
             "#ed7953"
            ],
            [
             0.7777777777777778,
             "#fb9f3a"
            ],
            [
             0.8888888888888888,
             "#fdca26"
            ],
            [
             1,
             "#f0f921"
            ]
           ],
           "sequentialminus": [
            [
             0,
             "#0d0887"
            ],
            [
             0.1111111111111111,
             "#46039f"
            ],
            [
             0.2222222222222222,
             "#7201a8"
            ],
            [
             0.3333333333333333,
             "#9c179e"
            ],
            [
             0.4444444444444444,
             "#bd3786"
            ],
            [
             0.5555555555555556,
             "#d8576b"
            ],
            [
             0.6666666666666666,
             "#ed7953"
            ],
            [
             0.7777777777777778,
             "#fb9f3a"
            ],
            [
             0.8888888888888888,
             "#fdca26"
            ],
            [
             1,
             "#f0f921"
            ]
           ]
          },
          "colorway": [
           "#636efa",
           "#EF553B",
           "#00cc96",
           "#ab63fa",
           "#FFA15A",
           "#19d3f3",
           "#FF6692",
           "#B6E880",
           "#FF97FF",
           "#FECB52"
          ],
          "font": {
           "color": "#2a3f5f"
          },
          "geo": {
           "bgcolor": "white",
           "lakecolor": "white",
           "landcolor": "white",
           "showlakes": true,
           "showland": true,
           "subunitcolor": "#C8D4E3"
          },
          "hoverlabel": {
           "align": "left"
          },
          "hovermode": "closest",
          "mapbox": {
           "style": "light"
          },
          "paper_bgcolor": "white",
          "plot_bgcolor": "white",
          "polar": {
           "angularaxis": {
            "gridcolor": "#EBF0F8",
            "linecolor": "#EBF0F8",
            "ticks": ""
           },
           "bgcolor": "white",
           "radialaxis": {
            "gridcolor": "#EBF0F8",
            "linecolor": "#EBF0F8",
            "ticks": ""
           }
          },
          "scene": {
           "xaxis": {
            "backgroundcolor": "white",
            "gridcolor": "#DFE8F3",
            "gridwidth": 2,
            "linecolor": "#EBF0F8",
            "showbackground": true,
            "ticks": "",
            "zerolinecolor": "#EBF0F8"
           },
           "yaxis": {
            "backgroundcolor": "white",
            "gridcolor": "#DFE8F3",
            "gridwidth": 2,
            "linecolor": "#EBF0F8",
            "showbackground": true,
            "ticks": "",
            "zerolinecolor": "#EBF0F8"
           },
           "zaxis": {
            "backgroundcolor": "white",
            "gridcolor": "#DFE8F3",
            "gridwidth": 2,
            "linecolor": "#EBF0F8",
            "showbackground": true,
            "ticks": "",
            "zerolinecolor": "#EBF0F8"
           }
          },
          "shapedefaults": {
           "line": {
            "color": "#2a3f5f"
           }
          },
          "ternary": {
           "aaxis": {
            "gridcolor": "#DFE8F3",
            "linecolor": "#A2B1C6",
            "ticks": ""
           },
           "baxis": {
            "gridcolor": "#DFE8F3",
            "linecolor": "#A2B1C6",
            "ticks": ""
           },
           "bgcolor": "white",
           "caxis": {
            "gridcolor": "#DFE8F3",
            "linecolor": "#A2B1C6",
            "ticks": ""
           }
          },
          "title": {
           "x": 0.05
          },
          "xaxis": {
           "automargin": true,
           "gridcolor": "#EBF0F8",
           "linecolor": "#EBF0F8",
           "ticks": "",
           "title": {
            "standoff": 15
           },
           "zerolinecolor": "#EBF0F8",
           "zerolinewidth": 2
          },
          "yaxis": {
           "automargin": true,
           "gridcolor": "#EBF0F8",
           "linecolor": "#EBF0F8",
           "ticks": "",
           "title": {
            "standoff": 15
           },
           "zerolinecolor": "#EBF0F8",
           "zerolinewidth": 2
          }
         }
        },
        "title": {
         "text": "USA Rural Investment by Program - 2024 (Top 12)"
        },
        "width": 1000,
        "xaxis": {
         "anchor": "y",
         "domain": [
          0,
          1
         ],
         "showgrid": false,
         "title": {
          "text": "Count"
         }
        },
        "yaxis": {
         "anchor": "x",
         "categoryarray": [
          "Higher Blends Infra. Incent.  ",
          "Grants (CF)  ",
          "Disaster Repair Grants (SFH)  ",
          "Advanced Biofuel  ",
          "B & I Loan Guar. (BP)  ",
          "Disaster Grants (SFH)  ",
          "Repair Loans (SFH)  ",
          "Repair Grants (SFH)  ",
          "Rural Energy  ",
          "Direct Loans (SFH)  ",
          "Rental Assistance (MFH)  ",
          "Guaranteed Loans (SFH)  "
         ],
         "categoryorder": "array",
         "domain": [
          0,
          1
         ],
         "showgrid": false,
         "title": {
          "text": "Program"
         }
        }
       }
      }
     },
     "metadata": {},
     "output_type": "display_data"
    }
   ],
   "source": [
    "'''\n",
    "Create horizontonal bar charts of rural investments by program and by program area\n",
    "'''\n",
    "import polars as pl   # dataframe library\n",
    "import plotly.express as px\n",
    "\n",
    "#------------------------------------------------------------------------------#\n",
    "#     Functions                                                                #\n",
    "#------------------------------------------------------------------------------#\n",
    "def add_annotation(fig, annotation, x, y, align, xanchor, yanchor):\n",
    "    fig.add_annotation(\n",
    "        text=annotation,\n",
    "        showarrow=False,\n",
    "        xref = 'paper', x=x, yref = 'paper', y=y,\n",
    "        align= align, xanchor=xanchor, yanchor=yanchor,\n",
    "        font =  {'size': 14, 'color': 'darkslategray'}\n",
    "    )\n",
    "    return fig\n",
    "\n",
    "def update_layout(\n",
    "        fig, my_title, my_height, my_width,              # mandatory parameters\n",
    "        my_xtitle='', my_ytitle='', my_legend_title='',  # optional parameters\n",
    "        my_showlegend=False\n",
    "    ):\n",
    "    fig.update_layout(\n",
    "        title = my_title,\n",
    "        xaxis_title=my_xtitle,\n",
    "        yaxis_title=my_ytitle,\n",
    "        legend_title=my_legend_title,\n",
    "        height=my_height, width=my_width,\n",
    "        margin={\"r\":50, \"t\":50, \"l\":50, \"b\":50},\n",
    "        autosize=False,\n",
    "        showlegend=my_showlegend\n",
    "    )\n",
    "    return fig\n",
    "\n",
    "def make_color_dict(my_categories):\n",
    "    ''' map colors to categories ''' \n",
    "    my_colors = px.colors.qualitative.Dark24\n",
    "    color_dict = dict(zip(sorted(list(set(my_categories))), my_colors))\n",
    "    return color_dict\n",
    "    \n",
    "#------------------------------------------------------------------------------#\n",
    "#     Create dataframes                                                        #\n",
    "#------------------------------------------------------------------------------#\n",
    "df_csv =  (  # df_csv is used for making both pareto dataframes\n",
    "    pl.read_csv(\n",
    "        'https://raw.githubusercontent.com/plotly/Figure-Friday/' +\n",
    "        'main/2024/week-30/rural-investments.csv',\n",
    "        ignore_errors = True\n",
    "    )\n",
    "    .with_columns(\n",
    "        pl.col('Investment Dollars').str.replace_all(',', '').cast(pl.Float64),\n",
    "    )\n",
    ")\n",
    "\n",
    "investment_by_program_area = (\n",
    "    df_csv\n",
    "    .group_by('Program Area')\n",
    "    .agg(\n",
    "        Count = pl.col('Program Area').count(),\n",
    "        Total_Invest = pl.col('Investment Dollars').sum(),\n",
    "        Avg_Invest = pl.col('Investment Dollars').mean(),\n",
    "    )\n",
    "    .with_columns(   # add space between the end of each tick label and the bar\n",
    "        Program_Area = pl.col('Program Area') + '  '\n",
    "    )\n",
    "    .drop('Program Area')\n",
    "    .rename({'Program_Area': 'Program Area'})\n",
    "    .sort('Count', descending = True)\n",
    ")\n",
    "program_area_cm = make_color_dict(investment_by_program_area['Program Area'])\n",
    "\n",
    "\n",
    "investment_by_program = (\n",
    "    df_csv\n",
    "    .group_by('Program')\n",
    "    .agg(\n",
    "        Count = pl.col('Program Area').count(),\n",
    "        Total_Invest = pl.col('Investment Dollars').sum(),\n",
    "        Avg_Invest = pl.col('Investment Dollars').mean(),\n",
    "    )\n",
    "    .sort('Count', descending = True)\n",
    "    .head(12)   # taking top 12 Program Areas\n",
    "    # Clean up/shorten program names\n",
    "    .with_columns(\n",
    "        Program = pl.when(pl.col('Program').str.starts_with('Rural Energy'))\n",
    "                    .then(pl.lit('Rural Energy')).otherwise('Program')\n",
    "    )\n",
    "    .with_columns(\n",
    "        Program = pl.when(pl.col('Program').str.starts_with('Business and Industry'))\n",
    "                    .then(pl.lit('B & I Loan Guar. (BP)')).otherwise('Program')\n",
    "    )\n",
    "    .with_columns(\n",
    "        Program = pl.when(pl.col('Program').str.starts_with('Higher Blends'))\n",
    "                    .then(pl.lit('Higher Blends Infra. Incent.')).otherwise('Program')\n",
    "    )\n",
    "    .with_columns(\n",
    "        Program = pl.when(pl.col('Program').str.starts_with('Rural Disaster'))\n",
    "                    .then(pl.lit('Disaster Grants (SFH)')).otherwise('Program')\n",
    "    )\n",
    "    .with_columns(\n",
    "        Program = pl.when(pl.col('Program').str.starts_with('Advanced Biofuel Payment'))\n",
    "                    .then(pl.lit('Advanced Biofuel')).otherwise('Program')\n",
    "    )\n",
    "    .with_columns(Program = (pl.col('Program') + '  '))  # spaces added to labels\n",
    ")\n",
    "program_cm = make_color_dict(investment_by_program['Program'])\n",
    "\n",
    "\n",
    "#------------------------------------------------------------------------------#\n",
    "#     Pareto: data grouped by Program Area                                     #\n",
    "#------------------------------------------------------------------------------#\n",
    "print('\\n\\n\\n\\n\\n')\n",
    "fig = px.bar(\n",
    "    investment_by_program_area.sort('Count', descending=True),\n",
    "    x = 'Count', y = 'Program Area', \n",
    "    template='plotly_white',\n",
    "    color='Program Area',\n",
    "    color_discrete_map=program_area_cm,\n",
    "    custom_data=['Count','Total_Invest','Avg_Invest'],\n",
    "    orientation='h'\n",
    ")\n",
    "\n",
    "# add custom hover information\n",
    "fig.update_traces(\n",
    "    hovertemplate=\"<br>\".join([\n",
    "        'Investment Count %{customdata[0]:,d}',\n",
    "        'Total $%{customdata[1]:,d}',\n",
    "        'Average $%{customdata[2]:,d}',\n",
    "        '<extra></extra>'\n",
    "    ])\n",
    ")\n",
    "fig = update_layout(\n",
    "    fig, 'USA Rural Investment by Program Area - 2024', 250, 1000, \n",
    "    my_ytitle= 'Program Area', \n",
    "    my_xtitle= 'Count',\n",
    "    my_legend_title='Region',\n",
    "    my_showlegend=False\n",
    ")\n",
    "fig.update_xaxes(showgrid=False)\n",
    "fig.update_yaxes(showgrid=False)\n",
    "\n",
    "annotation = '<b>Data Source:</b> US Department of Agriculture<br>'\n",
    "add_annotation(fig, annotation, 0.9, 0.6, 'left', 'right', 'top')\n",
    "\n",
    "# chart gets reordered after applying colors, next line restores intended order\n",
    "fig.update_xaxes(categoryorder='total descending')\n",
    "\n",
    "fig.show()\n",
    "print('\\n\\n\\n\\n\\n')\n",
    "\n",
    "#------------------------------------------------------------------------------#\n",
    "#     Pareto: data grouped by Program                                          #\n",
    "#------------------------------------------------------------------------------#\n",
    "fig = px.bar(\n",
    "    investment_by_program.sort('Count', descending=True),\n",
    "    x = 'Count', y = 'Program', \n",
    "    template='plotly_white',\n",
    "    color='Program',\n",
    "    color_discrete_map=program_cm,\n",
    "    custom_data=['Count','Total_Invest','Avg_Invest'],\n",
    "    orientation='h',\n",
    ")\n",
    "\n",
    "# add custom hover information\n",
    "fig.update_traces(\n",
    "    hovertemplate=\"<br>\".join([\n",
    "        'Investment Count %{customdata[0]:,d}',\n",
    "        'Total $%{customdata[1]:,d}',\n",
    "        'Average $%{customdata[2]:,d}',\n",
    "        '<extra></extra>'\n",
    "    ])\n",
    ")\n",
    "fig = update_layout(\n",
    "    fig, 'USA Rural Investment by Program - 2024 (Top 12)', 400, 1000, \n",
    "    my_ytitle= 'Program', \n",
    "    my_xtitle= 'Count',\n",
    "    my_legend_title='Region',\n",
    "    my_showlegend=False\n",
    ")\n",
    "fig.update_xaxes(showgrid=False)\n",
    "fig.update_yaxes(showgrid=False)\n",
    "\n",
    "annotation = '<b>Data Source:</b> US Department of Agriculture<br>'\n",
    "add_annotation(fig, annotation, 0.9, 0.6, 'left', 'right', 'top')\n",
    "\n",
    "fig.show()\n"
   ]
  },
  {
   "cell_type": "code",
   "execution_count": null,
   "id": "91f92199-8c09-4773-b047-24fd1e891bd8",
   "metadata": {},
   "outputs": [],
   "source": []
  },
  {
   "cell_type": "code",
   "execution_count": 2,
   "id": "57bc8a7d-9b8f-4fd1-a291-fc86e184813b",
   "metadata": {},
   "outputs": [
    {
     "name": "stdout",
     "output_type": "stream",
     "text": [
      "#------------------------------------------------------------------------------#\n",
      "#                            Create choropleth map                             #\n",
      "#------------------------------------------------------------------------------#\n"
     ]
    }
   ],
   "source": [
    "#  Center text center \n",
    "my_banner = 'Create choropleth map'\n",
    "print(f'{\"#\"}{\"-\"*78}{\"#\"}')\n",
    "print(f'{\"#\"}{my_banner:^78}{\"#\"}')\n",
    "print(f'{\"#\"}{\"-\"*78}{\"#\"}')"
   ]
  },
  {
   "cell_type": "code",
   "execution_count": 3,
   "id": "90d81b98-0631-4751-9e07-4968792be694",
   "metadata": {},
   "outputs": [
    {
     "name": "stdout",
     "output_type": "stream",
     "text": [
      "#------------------------------------------------------------------------------#\n",
      "#     Clean up (shorten) long names                                            #\n",
      "#------------------------------------------------------------------------------#\n"
     ]
    }
   ],
   "source": [
    "#  Center text left\n",
    "my_banner = 'Clean up (shorten) long names'\n",
    "print(f'{\"#\"}{\"-\"*78}{\"#\"}')\n",
    "print(f'{\"#\"}{\" \"*5}{my_banner:<73}{\"#\"}')\n",
    "print(f'{\"#\"}{\"-\"*78}{\"#\"}')"
   ]
  },
  {
   "cell_type": "code",
   "execution_count": null,
   "id": "046d4bf3-05ba-4508-8dd3-b1a86f8e514d",
   "metadata": {},
   "outputs": [],
   "source": []
  },
  {
   "cell_type": "code",
   "execution_count": null,
   "id": "cc43dca6-369c-4739-88d4-42f331eac563",
   "metadata": {},
   "outputs": [],
   "source": []
  },
  {
   "cell_type": "code",
   "execution_count": null,
   "id": "e67e6707-3859-4210-9fd5-d45e145e318e",
   "metadata": {},
   "outputs": [],
   "source": []
  },
  {
   "cell_type": "code",
   "execution_count": null,
   "id": "8ad359d2-b562-4e10-98eb-cdcdccee7773",
   "metadata": {},
   "outputs": [],
   "source": []
  }
 ],
 "metadata": {
  "kernelspec": {
   "display_name": "Python 3",
   "language": "python",
   "name": "python3"
  },
  "language_info": {
   "codemirror_mode": {
    "name": "ipython",
    "version": 3
   },
   "file_extension": ".py",
   "mimetype": "text/x-python",
   "name": "python",
   "nbconvert_exporter": "python",
   "pygments_lexer": "ipython3",
   "version": "3.13.1"
  }
 },
 "nbformat": 4,
 "nbformat_minor": 5
}
