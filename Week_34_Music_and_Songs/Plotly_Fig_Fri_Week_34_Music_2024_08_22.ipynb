{
 "cells": [
  {
   "cell_type": "markdown",
   "metadata": {},
   "source": [
    "## Figure Friday - Week 34 - Music and songs\n",
    "August 23, 2024\n"
   ]
  },
  {
   "cell_type": "code",
   "execution_count": 113,
   "metadata": {},
   "outputs": [
    {
     "name": "stdout",
     "output_type": "stream",
     "text": [
      "--------Version info---------\n",
      "Polars:               1.5.0\n",
      "Index type:           UInt32\n",
      "Platform:             Windows-10-10.0.22631-SP0\n",
      "Python:               3.11.9 | packaged by conda-forge | (main, Apr 19 2024, 18:27:10) [MSC v.1938 64 bit (AMD64)]\n",
      "\n",
      "----Optional dependencies----\n",
      "adbc_driver_manager:  0.9.0\n",
      "cloudpickle:          3.0.0\n",
      "connectorx:           <not installed>\n",
      "deltalake:            0.18.2\n",
      "fastexcel:            0.9.1\n",
      "fsspec:               2024.5.0\n",
      "gevent:               <not installed>\n",
      "great_tables:         0.10.0\n",
      "hvplot:               0.10.0\n",
      "matplotlib:           3.9.2\n",
      "nest_asyncio:         1.6.0\n",
      "numpy:                1.26.4\n",
      "openpyxl:             3.1.5\n",
      "pandas:               2.2.2\n",
      "pyarrow:              17.0.0\n",
      "pydantic:             2.8.2\n",
      "pyiceberg:            <not installed>\n",
      "sqlalchemy:           2.0.32\n",
      "torch:                2.3.0\n",
      "xlsx2csv:             0.8.2\n",
      "xlsxwriter:           3.1.9\n"
     ]
    },
    {
     "data": {
      "text/html": [
       "<div><style>\n",
       ".dataframe > thead > tr,\n",
       ".dataframe > tbody > tr {\n",
       "  text-align: right;\n",
       "  white-space: pre-wrap;\n",
       "}\n",
       "</style>\n",
       "<small>shape: (114, 2)</small><table border=\"1\" class=\"dataframe\"><thead><tr><th>track_genre</th><th>count</th></tr><tr><td>str</td><td>u32</td></tr></thead><tbody><tr><td>&quot;chill&quot;</td><td>1000</td></tr><tr><td>&quot;indie&quot;</td><td>1000</td></tr><tr><td>&quot;punk&quot;</td><td>1000</td></tr><tr><td>&quot;comedy&quot;</td><td>1000</td></tr><tr><td>&quot;j-idol&quot;</td><td>1000</td></tr><tr><td>&quot;dubstep&quot;</td><td>1000</td></tr><tr><td>&quot;romance&quot;</td><td>1000</td></tr><tr><td>&quot;k-pop&quot;</td><td>1000</td></tr><tr><td>&quot;disney&quot;</td><td>1000</td></tr><tr><td>&quot;german&quot;</td><td>1000</td></tr><tr><td>&hellip;</td><td>&hellip;</td></tr><tr><td>&quot;progressive-house&quot;</td><td>1000</td></tr><tr><td>&quot;gospel&quot;</td><td>1000</td></tr><tr><td>&quot;garage&quot;</td><td>1000</td></tr><tr><td>&quot;reggae&quot;</td><td>1000</td></tr><tr><td>&quot;opera&quot;</td><td>1000</td></tr><tr><td>&quot;malay&quot;</td><td>1000</td></tr><tr><td>&quot;pop&quot;</td><td>1000</td></tr><tr><td>&quot;happy&quot;</td><td>1000</td></tr><tr><td>&quot;j-rock&quot;</td><td>1000</td></tr><tr><td>&quot;brazil&quot;</td><td>1000</td></tr></tbody></table></div>"
      ],
      "text/plain": [
       "shape: (114, 2)\n",
       "┌───────────────────┬───────┐\n",
       "│ track_genre       ┆ count │\n",
       "│ ---               ┆ ---   │\n",
       "│ str               ┆ u32   │\n",
       "╞═══════════════════╪═══════╡\n",
       "│ chill             ┆ 1000  │\n",
       "│ indie             ┆ 1000  │\n",
       "│ punk              ┆ 1000  │\n",
       "│ comedy            ┆ 1000  │\n",
       "│ j-idol            ┆ 1000  │\n",
       "│ dubstep           ┆ 1000  │\n",
       "│ romance           ┆ 1000  │\n",
       "│ k-pop             ┆ 1000  │\n",
       "│ disney            ┆ 1000  │\n",
       "│ german            ┆ 1000  │\n",
       "│ …                 ┆ …     │\n",
       "│ progressive-house ┆ 1000  │\n",
       "│ gospel            ┆ 1000  │\n",
       "│ garage            ┆ 1000  │\n",
       "│ reggae            ┆ 1000  │\n",
       "│ opera             ┆ 1000  │\n",
       "│ malay             ┆ 1000  │\n",
       "│ pop               ┆ 1000  │\n",
       "│ happy             ┆ 1000  │\n",
       "│ j-rock            ┆ 1000  │\n",
       "│ brazil            ┆ 1000  │\n",
       "└───────────────────┴───────┘"
      ]
     },
     "execution_count": 113,
     "metadata": {},
     "output_type": "execute_result"
    }
   ],
   "source": [
    "## Imports\n",
    "import polars as pl\n",
    "\n",
    "\n",
    "pl.show_versions()\n",
    "pl.Config().set_tbl_rows(20)\n",
    "## load dataset - first time read from git repo. Save to disk for offline reading\n",
    "\n",
    "df = pl.read_csv(\n",
    "    'https://raw.githubusercontent.com/plotly/Figure-Friday/main/2024/week-34/dataset.csv'\n",
    ")\n",
    "# df.write_csv('dataset.csv')\n"
   ]
  },
  {
   "cell_type": "code",
   "execution_count": 128,
   "metadata": {},
   "outputs": [
    {
     "data": {
      "text/html": [
       "<div><style>\n",
       ".dataframe > thead > tr,\n",
       ".dataframe > tbody > tr {\n",
       "  text-align: right;\n",
       "  white-space: pre-wrap;\n",
       "}\n",
       "</style>\n",
       "<small>shape: (1_140, 4)</small><table border=\"1\" class=\"dataframe\"><thead><tr><th>track_genre</th><th>artists</th><th>popularity</th><th>TRACK_GENRE_RANK</th></tr><tr><td>str</td><td>str</td><td>f64</td><td>u32</td></tr></thead><tbody><tr><td>&quot;world-music&quot;</td><td>&quot;Kari Jobe;Cody Carnes;Elevatio…</td><td>61.0</td><td>1</td></tr><tr><td>&quot;world-music&quot;</td><td>&quot;Bethel Music;Dante Bowe&quot;</td><td>60.0</td><td>2</td></tr><tr><td>&quot;world-music&quot;</td><td>&quot;Michael W. Smith;Vanessa Campa…</td><td>60.0</td><td>3</td></tr><tr><td>&quot;world-music&quot;</td><td>&quot;one sonic society&quot;</td><td>59.0</td><td>4</td></tr><tr><td>&quot;world-music&quot;</td><td>&quot;All Sons &amp; Daughters;Leslie Jo…</td><td>58.5</td><td>5</td></tr><tr><td>&quot;world-music&quot;</td><td>&quot;I AM THEY;Cheyenne Mitchell&quot;</td><td>58.0</td><td>6</td></tr><tr><td>&quot;world-music&quot;</td><td>&quot;Phil Wickham;Chandler Moore;Ma…</td><td>58.0</td><td>7</td></tr><tr><td>&quot;world-music&quot;</td><td>&quot;for KING &amp; COUNTRY;Kirk Frankl…</td><td>57.0</td><td>8</td></tr><tr><td>&quot;world-music&quot;</td><td>&quot;Actress&quot;</td><td>57.0</td><td>9</td></tr><tr><td>&quot;world-music&quot;</td><td>&quot;Bethel Music;Jonathan David He…</td><td>56.571429</td><td>10</td></tr><tr><td>&hellip;</td><td>&hellip;</td><td>&hellip;</td><td>&hellip;</td></tr><tr><td>&quot;acoustic&quot;</td><td>&quot;Jason Mraz;Colbie Caillat&quot;</td><td>71.0</td><td>1</td></tr><tr><td>&quot;acoustic&quot;</td><td>&quot;Caleb Santos;Viva Music Publis…</td><td>68.0</td><td>2</td></tr><tr><td>&quot;acoustic&quot;</td><td>&quot;Ray LaMontagne;Sierra Ferrell&quot;</td><td>67.0</td><td>3</td></tr><tr><td>&quot;acoustic&quot;</td><td>&quot;Anna Nalick&quot;</td><td>65.0</td><td>4</td></tr><tr><td>&quot;acoustic&quot;</td><td>&quot;Stephen Speaks&quot;</td><td>64.75</td><td>5</td></tr><tr><td>&quot;acoustic&quot;</td><td>&quot;Sara Bareilles&quot;</td><td>64.571429</td><td>6</td></tr><tr><td>&quot;acoustic&quot;</td><td>&quot;krissy &amp; ericka&quot;</td><td>64.0</td><td>7</td></tr><tr><td>&quot;acoustic&quot;</td><td>&quot;Five For Fighting&quot;</td><td>63.25</td><td>8</td></tr><tr><td>&quot;acoustic&quot;</td><td>&quot;Boyce Avenue;Connie Talbot&quot;</td><td>63.0</td><td>9</td></tr><tr><td>&quot;acoustic&quot;</td><td>&quot;A Great Big World;Christina Ag…</td><td>63.0</td><td>10</td></tr></tbody></table></div>"
      ],
      "text/plain": [
       "shape: (1_140, 4)\n",
       "┌─────────────┬─────────────────────────────────┬────────────┬──────────────────┐\n",
       "│ track_genre ┆ artists                         ┆ popularity ┆ TRACK_GENRE_RANK │\n",
       "│ ---         ┆ ---                             ┆ ---        ┆ ---              │\n",
       "│ str         ┆ str                             ┆ f64        ┆ u32              │\n",
       "╞═════════════╪═════════════════════════════════╪════════════╪══════════════════╡\n",
       "│ world-music ┆ Kari Jobe;Cody Carnes;Elevatio… ┆ 61.0       ┆ 1                │\n",
       "│ world-music ┆ Bethel Music;Dante Bowe         ┆ 60.0       ┆ 2                │\n",
       "│ world-music ┆ Michael W. Smith;Vanessa Campa… ┆ 60.0       ┆ 3                │\n",
       "│ world-music ┆ one sonic society               ┆ 59.0       ┆ 4                │\n",
       "│ world-music ┆ All Sons & Daughters;Leslie Jo… ┆ 58.5       ┆ 5                │\n",
       "│ world-music ┆ I AM THEY;Cheyenne Mitchell     ┆ 58.0       ┆ 6                │\n",
       "│ world-music ┆ Phil Wickham;Chandler Moore;Ma… ┆ 58.0       ┆ 7                │\n",
       "│ world-music ┆ for KING & COUNTRY;Kirk Frankl… ┆ 57.0       ┆ 8                │\n",
       "│ world-music ┆ Actress                         ┆ 57.0       ┆ 9                │\n",
       "│ world-music ┆ Bethel Music;Jonathan David He… ┆ 56.571429  ┆ 10               │\n",
       "│ …           ┆ …                               ┆ …          ┆ …                │\n",
       "│ acoustic    ┆ Jason Mraz;Colbie Caillat       ┆ 71.0       ┆ 1                │\n",
       "│ acoustic    ┆ Caleb Santos;Viva Music Publis… ┆ 68.0       ┆ 2                │\n",
       "│ acoustic    ┆ Ray LaMontagne;Sierra Ferrell   ┆ 67.0       ┆ 3                │\n",
       "│ acoustic    ┆ Anna Nalick                     ┆ 65.0       ┆ 4                │\n",
       "│ acoustic    ┆ Stephen Speaks                  ┆ 64.75      ┆ 5                │\n",
       "│ acoustic    ┆ Sara Bareilles                  ┆ 64.571429  ┆ 6                │\n",
       "│ acoustic    ┆ krissy & ericka                 ┆ 64.0       ┆ 7                │\n",
       "│ acoustic    ┆ Five For Fighting               ┆ 63.25      ┆ 8                │\n",
       "│ acoustic    ┆ Boyce Avenue;Connie Talbot      ┆ 63.0       ┆ 9                │\n",
       "│ acoustic    ┆ A Great Big World;Christina Ag… ┆ 63.0       ┆ 10               │\n",
       "└─────────────┴─────────────────────────────────┴────────────┴──────────────────┘"
      ]
     },
     "execution_count": 128,
     "metadata": {},
     "output_type": "execute_result"
    }
   ],
   "source": [
    "# find the top 10 genres.  Each genre has 1000 entries, so base the ranking on group_by sum of popularity\n",
    "\n",
    "top_10_by_genres = (\n",
    "    df\n",
    "        .select(pl.col('track_genre', 'artists', 'track_name', 'popularity',))\n",
    "        .group_by(['track_genre', 'artists']).agg(pl.mean('popularity'))\n",
    "        .sort(['track_genre','popularity'], descending=True)\n",
    "        .with_columns(TRACK_GENRE_RANK = pl.col('track_genre').cum_count().over('track_genre'))\n",
    "        .filter(pl.col('TRACK_GENRE_RANK') <= 10)\n",
    ")\n",
    "top_10_by_genres"
   ]
  },
  {
   "cell_type": "code",
   "execution_count": null,
   "metadata": {},
   "outputs": [],
   "source": [
    "# find the top 10 genres by \n",
    "top_10_genres = (\n",
    "\n",
    ")\n",
    "top_10_genres"
   ]
  },
  {
   "cell_type": "markdown",
   "metadata": {},
   "source": [
    "## Load the dataset"
   ]
  },
  {
   "cell_type": "code",
   "execution_count": 105,
   "metadata": {},
   "outputs": [
    {
     "data": {
      "text/html": [
       "<div><style>\n",
       ".dataframe > thead > tr,\n",
       ".dataframe > tbody > tr {\n",
       "  text-align: right;\n",
       "  white-space: pre-wrap;\n",
       "}\n",
       "</style>\n",
       "<small>shape: (10, 8)</small><table border=\"1\" class=\"dataframe\"><thead><tr><th>index</th><th>artists</th><th>track_name</th><th>popularity</th><th>track_genre</th><th>ARTIST_TOTAL</th><th>ARTIST_COUNT</th><th>ARTIST_TRACK</th></tr><tr><td>u32</td><td>str</td><td>str</td><td>i64</td><td>str</td><td>u32</td><td>u32</td><td>str</td></tr></thead><tbody><tr><td>31420</td><td>&quot;Onerepublic&quot;</td><td>&quot;I Ain&#x27;t Worried&quot;</td><td>96</td><td>&quot;piano&quot;</td><td>181</td><td>1</td><td>&quot;&lt;b&gt;Onerepublic&lt;/b&gt;&lt;br&gt;I Ain&#x27;t …</td></tr><tr><td>31421</td><td>&quot;Håkan Hellström&quot;</td><td>&quot;Nordhemsgatan leder rakt in i …</td><td>45</td><td>&quot;goth&quot;</td><td>183</td><td>1</td><td>&quot;&lt;b&gt;Håkan Hellström&lt;/b&gt;&lt;br&gt;Nord…</td></tr><tr><td>31422</td><td>&quot;Chuck Berry&quot;</td><td>&quot;Run Rudolph Run&quot;</td><td>0</td><td>&quot;blues&quot;</td><td>190</td><td>1</td><td>&quot;&lt;b&gt;Chuck Berry&lt;/b&gt;&lt;br&gt;Run Rudo…</td></tr><tr><td>31423</td><td>&quot;Feid&quot;</td><td>&quot;Belixe&quot;</td><td>1</td><td>&quot;latin&quot;</td><td>202</td><td>1</td><td>&quot;&lt;b&gt;Feid&lt;/b&gt;&lt;br&gt;Belixe&quot;</td></tr><tr><td>31424</td><td>&quot;Prateek Kuhad&quot;</td><td>&quot;Kasoor&quot;</td><td>70</td><td>&quot;folk&quot;</td><td>217</td><td>1</td><td>&quot;&lt;b&gt;Prateek Kuhad&lt;/b&gt;&lt;br&gt;Kasoor&quot;</td></tr><tr><td>31425</td><td>&quot;Ella Fitzgerald&quot;</td><td>&quot;Sleigh Ride&quot;</td><td>0</td><td>&quot;blues&quot;</td><td>222</td><td>1</td><td>&quot;&lt;b&gt;Ella Fitzgerald&lt;/b&gt;&lt;br&gt;Slei…</td></tr><tr><td>31426</td><td>&quot;Linkin Park&quot;</td><td>&quot;In the End&quot;</td><td>85</td><td>&quot;alternative&quot;</td><td>224</td><td>1</td><td>&quot;&lt;b&gt;Linkin Park&lt;/b&gt;&lt;br&gt;In the E…</td></tr><tr><td>31427</td><td>&quot;Stevie Wonder&quot;</td><td>&quot;Someday At Christmas&quot;</td><td>1</td><td>&quot;funk&quot;</td><td>236</td><td>1</td><td>&quot;&lt;b&gt;Stevie Wonder&lt;/b&gt;&lt;br&gt;Someda…</td></tr><tr><td>31428</td><td>&quot;George Jones&quot;</td><td>&quot;He Stopped Loving Her Today&quot;</td><td>54</td><td>&quot;honky-tonk&quot;</td><td>271</td><td>1</td><td>&quot;&lt;b&gt;George Jones&lt;/b&gt;&lt;br&gt;He Stop…</td></tr><tr><td>31429</td><td>&quot;The Beatles&quot;</td><td>&quot;Here Comes The Sun - Remastere…</td><td>82</td><td>&quot;british&quot;</td><td>279</td><td>1</td><td>&quot;&lt;b&gt;The Beatles&lt;/b&gt;&lt;br&gt;Here Com…</td></tr></tbody></table></div>"
      ],
      "text/plain": [
       "shape: (10, 8)\n",
       "┌───────┬────────────┬────────────┬────────────┬────────────┬────────────┬────────────┬────────────┐\n",
       "│ index ┆ artists    ┆ track_name ┆ popularity ┆ track_genr ┆ ARTIST_TOT ┆ ARTIST_COU ┆ ARTIST_TRA │\n",
       "│ ---   ┆ ---        ┆ ---        ┆ ---        ┆ e          ┆ AL         ┆ NT         ┆ CK         │\n",
       "│ u32   ┆ str        ┆ str        ┆ i64        ┆ ---        ┆ ---        ┆ ---        ┆ ---        │\n",
       "│       ┆            ┆            ┆            ┆ str        ┆ u32        ┆ u32        ┆ str        │\n",
       "╞═══════╪════════════╪════════════╪════════════╪════════════╪════════════╪════════════╪════════════╡\n",
       "│ 31420 ┆ Onerepubli ┆ I Ain't    ┆ 96         ┆ piano      ┆ 181        ┆ 1          ┆ <b>Onerepu │\n",
       "│       ┆ c          ┆ Worried    ┆            ┆            ┆            ┆            ┆ blic</b><b │\n",
       "│       ┆            ┆            ┆            ┆            ┆            ┆            ┆ r>I Ain't  │\n",
       "│       ┆            ┆            ┆            ┆            ┆            ┆            ┆ …          │\n",
       "│ 31421 ┆ Håkan      ┆ Nordhemsga ┆ 45         ┆ goth       ┆ 183        ┆ 1          ┆ <b>Håkan   │\n",
       "│       ┆ Hellström  ┆ tan leder  ┆            ┆            ┆            ┆            ┆ Hellström< │\n",
       "│       ┆            ┆ rakt in i  ┆            ┆            ┆            ┆            ┆ /b><br>Nor │\n",
       "│       ┆            ┆ …          ┆            ┆            ┆            ┆            ┆ d…         │\n",
       "│ 31422 ┆ Chuck      ┆ Run        ┆ 0          ┆ blues      ┆ 190        ┆ 1          ┆ <b>Chuck   │\n",
       "│       ┆ Berry      ┆ Rudolph    ┆            ┆            ┆            ┆            ┆ Berry</b>< │\n",
       "│       ┆            ┆ Run        ┆            ┆            ┆            ┆            ┆ br>Run     │\n",
       "│       ┆            ┆            ┆            ┆            ┆            ┆            ┆ Rudo…      │\n",
       "│ 31423 ┆ Feid       ┆ Belixe     ┆ 1          ┆ latin      ┆ 202        ┆ 1          ┆ <b>Feid</b │\n",
       "│       ┆            ┆            ┆            ┆            ┆            ┆            ┆ ><br>Belix │\n",
       "│       ┆            ┆            ┆            ┆            ┆            ┆            ┆ e          │\n",
       "│ 31424 ┆ Prateek    ┆ Kasoor     ┆ 70         ┆ folk       ┆ 217        ┆ 1          ┆ <b>Prateek │\n",
       "│       ┆ Kuhad      ┆            ┆            ┆            ┆            ┆            ┆ Kuhad</b>< │\n",
       "│       ┆            ┆            ┆            ┆            ┆            ┆            ┆ br>Kasoor  │\n",
       "│ 31425 ┆ Ella       ┆ Sleigh     ┆ 0          ┆ blues      ┆ 222        ┆ 1          ┆ <b>Ella    │\n",
       "│       ┆ Fitzgerald ┆ Ride       ┆            ┆            ┆            ┆            ┆ Fitzgerald │\n",
       "│       ┆            ┆            ┆            ┆            ┆            ┆            ┆ </b><br>Sl │\n",
       "│       ┆            ┆            ┆            ┆            ┆            ┆            ┆ ei…        │\n",
       "│ 31426 ┆ Linkin     ┆ In the End ┆ 85         ┆ alternativ ┆ 224        ┆ 1          ┆ <b>Linkin  │\n",
       "│       ┆ Park       ┆            ┆            ┆ e          ┆            ┆            ┆ Park</b><b │\n",
       "│       ┆            ┆            ┆            ┆            ┆            ┆            ┆ r>In the   │\n",
       "│       ┆            ┆            ┆            ┆            ┆            ┆            ┆ E…         │\n",
       "│ 31427 ┆ Stevie     ┆ Someday At ┆ 1          ┆ funk       ┆ 236        ┆ 1          ┆ <b>Stevie  │\n",
       "│       ┆ Wonder     ┆ Christmas  ┆            ┆            ┆            ┆            ┆ Wonder</b> │\n",
       "│       ┆            ┆            ┆            ┆            ┆            ┆            ┆ <br>Someda │\n",
       "│       ┆            ┆            ┆            ┆            ┆            ┆            ┆ …          │\n",
       "│ 31428 ┆ George     ┆ He Stopped ┆ 54         ┆ honky-tonk ┆ 271        ┆ 1          ┆ <b>George  │\n",
       "│       ┆ Jones      ┆ Loving Her ┆            ┆            ┆            ┆            ┆ Jones</b>< │\n",
       "│       ┆            ┆ Today      ┆            ┆            ┆            ┆            ┆ br>He      │\n",
       "│       ┆            ┆            ┆            ┆            ┆            ┆            ┆ Stop…      │\n",
       "│ 31429 ┆ The        ┆ Here Comes ┆ 82         ┆ british    ┆ 279        ┆ 1          ┆ <b>The Bea │\n",
       "│       ┆ Beatles    ┆ The Sun -  ┆            ┆            ┆            ┆            ┆ tles</b><b │\n",
       "│       ┆            ┆ Remastere… ┆            ┆            ┆            ┆            ┆ r>Here     │\n",
       "│       ┆            ┆            ┆            ┆            ┆            ┆            ┆ Com…       │\n",
       "└───────┴────────────┴────────────┴────────────┴────────────┴────────────┴────────────┴────────────┘"
      ]
     },
     "execution_count": 105,
     "metadata": {},
     "output_type": "execute_result"
    }
   ],
   "source": [
    "#Focus on most popular track by artist\n",
    "df_plot = (\n",
    "    df\n",
    "    .select(pl.col('artists', 'track_name', 'popularity','track_genre'))\n",
    "    .with_columns(\n",
    "        pl.col('artists').str.to_titlecase(),\n",
    "    )\n",
    "    .with_columns(\n",
    "        ARTIST_TOTAL = pl.col('artists').count().over('artists')\n",
    "    )\n",
    "    # .sort(['ARTIST_TOTAL','popularity',  'artists'], descending=[False, True, False])\n",
    "    \n",
    "    .with_columns(\n",
    "        ARTIST_COUNT = pl.col('artists').cum_count().over('artists')\n",
    "    )\n",
    "    .filter(pl.col('ARTIST_COUNT') == 1)\n",
    "    .sort(['ARTIST_TOTAL','track_genre'], descending=[False, False])\n",
    "    .with_row_index(offset=1)\n",
    "    .tail(10)\n",
    "    .with_columns(ARTIST_TRACK =  pl.lit('<b>') + pl.col('artists') + pl.lit('</b>') +  pl.lit('<br>') + pl.col('track_name'))\n",
    "    # .write_csv('df.csv')\n",
    ")\n",
    "df_plot"
   ]
  },
  {
   "cell_type": "code",
   "execution_count": null,
   "metadata": {},
   "outputs": [],
   "source": []
  },
  {
   "cell_type": "code",
   "execution_count": null,
   "metadata": {},
   "outputs": [],
   "source": []
  },
  {
   "cell_type": "code",
   "execution_count": 106,
   "metadata": {},
   "outputs": [
    {
     "data": {
      "application/vnd.plotly.v1+json": {
       "config": {
        "plotlyServerURL": "https://plot.ly"
       },
       "data": [
        {
         "alignmentgroup": "True",
         "hovertemplate": "track_genre=piano<br>ARTIST_TOTAL=%{x}<br>ARTIST_TRACK=%{y}<extra></extra>",
         "legendgroup": "piano",
         "marker": {
          "color": "#636efa",
          "pattern": {
           "shape": ""
          }
         },
         "name": "piano",
         "offsetgroup": "piano",
         "orientation": "h",
         "showlegend": true,
         "textposition": "auto",
         "type": "bar",
         "x": [
          181
         ],
         "xaxis": "x",
         "y": [
          "<b>Onerepublic</b><br>I Ain't Worried"
         ],
         "yaxis": "y"
        },
        {
         "alignmentgroup": "True",
         "hovertemplate": "track_genre=goth<br>ARTIST_TOTAL=%{x}<br>ARTIST_TRACK=%{y}<extra></extra>",
         "legendgroup": "goth",
         "marker": {
          "color": "#EF553B",
          "pattern": {
           "shape": ""
          }
         },
         "name": "goth",
         "offsetgroup": "goth",
         "orientation": "h",
         "showlegend": true,
         "textposition": "auto",
         "type": "bar",
         "x": [
          183
         ],
         "xaxis": "x",
         "y": [
          "<b>Håkan Hellström</b><br>Nordhemsgatan leder rakt in i himlen"
         ],
         "yaxis": "y"
        },
        {
         "alignmentgroup": "True",
         "hovertemplate": "track_genre=blues<br>ARTIST_TOTAL=%{x}<br>ARTIST_TRACK=%{y}<extra></extra>",
         "legendgroup": "blues",
         "marker": {
          "color": "#00cc96",
          "pattern": {
           "shape": ""
          }
         },
         "name": "blues",
         "offsetgroup": "blues",
         "orientation": "h",
         "showlegend": true,
         "textposition": "auto",
         "type": "bar",
         "x": [
          190,
          222
         ],
         "xaxis": "x",
         "y": [
          "<b>Chuck Berry</b><br>Run Rudolph Run",
          "<b>Ella Fitzgerald</b><br>Sleigh Ride"
         ],
         "yaxis": "y"
        },
        {
         "alignmentgroup": "True",
         "hovertemplate": "track_genre=latin<br>ARTIST_TOTAL=%{x}<br>ARTIST_TRACK=%{y}<extra></extra>",
         "legendgroup": "latin",
         "marker": {
          "color": "#ab63fa",
          "pattern": {
           "shape": ""
          }
         },
         "name": "latin",
         "offsetgroup": "latin",
         "orientation": "h",
         "showlegend": true,
         "textposition": "auto",
         "type": "bar",
         "x": [
          202
         ],
         "xaxis": "x",
         "y": [
          "<b>Feid</b><br>Belixe"
         ],
         "yaxis": "y"
        },
        {
         "alignmentgroup": "True",
         "hovertemplate": "track_genre=folk<br>ARTIST_TOTAL=%{x}<br>ARTIST_TRACK=%{y}<extra></extra>",
         "legendgroup": "folk",
         "marker": {
          "color": "#FFA15A",
          "pattern": {
           "shape": ""
          }
         },
         "name": "folk",
         "offsetgroup": "folk",
         "orientation": "h",
         "showlegend": true,
         "textposition": "auto",
         "type": "bar",
         "x": [
          217
         ],
         "xaxis": "x",
         "y": [
          "<b>Prateek Kuhad</b><br>Kasoor"
         ],
         "yaxis": "y"
        },
        {
         "alignmentgroup": "True",
         "hovertemplate": "track_genre=alternative<br>ARTIST_TOTAL=%{x}<br>ARTIST_TRACK=%{y}<extra></extra>",
         "legendgroup": "alternative",
         "marker": {
          "color": "#19d3f3",
          "pattern": {
           "shape": ""
          }
         },
         "name": "alternative",
         "offsetgroup": "alternative",
         "orientation": "h",
         "showlegend": true,
         "textposition": "auto",
         "type": "bar",
         "x": [
          224
         ],
         "xaxis": "x",
         "y": [
          "<b>Linkin Park</b><br>In the End"
         ],
         "yaxis": "y"
        },
        {
         "alignmentgroup": "True",
         "hovertemplate": "track_genre=funk<br>ARTIST_TOTAL=%{x}<br>ARTIST_TRACK=%{y}<extra></extra>",
         "legendgroup": "funk",
         "marker": {
          "color": "#FF6692",
          "pattern": {
           "shape": ""
          }
         },
         "name": "funk",
         "offsetgroup": "funk",
         "orientation": "h",
         "showlegend": true,
         "textposition": "auto",
         "type": "bar",
         "x": [
          236
         ],
         "xaxis": "x",
         "y": [
          "<b>Stevie Wonder</b><br>Someday At Christmas"
         ],
         "yaxis": "y"
        },
        {
         "alignmentgroup": "True",
         "hovertemplate": "track_genre=honky-tonk<br>ARTIST_TOTAL=%{x}<br>ARTIST_TRACK=%{y}<extra></extra>",
         "legendgroup": "honky-tonk",
         "marker": {
          "color": "#B6E880",
          "pattern": {
           "shape": ""
          }
         },
         "name": "honky-tonk",
         "offsetgroup": "honky-tonk",
         "orientation": "h",
         "showlegend": true,
         "textposition": "auto",
         "type": "bar",
         "x": [
          271
         ],
         "xaxis": "x",
         "y": [
          "<b>George Jones</b><br>He Stopped Loving Her Today"
         ],
         "yaxis": "y"
        },
        {
         "alignmentgroup": "True",
         "hovertemplate": "track_genre=british<br>ARTIST_TOTAL=%{x}<br>ARTIST_TRACK=%{y}<extra></extra>",
         "legendgroup": "british",
         "marker": {
          "color": "#FF97FF",
          "pattern": {
           "shape": ""
          }
         },
         "name": "british",
         "offsetgroup": "british",
         "orientation": "h",
         "showlegend": true,
         "textposition": "auto",
         "type": "bar",
         "x": [
          279
         ],
         "xaxis": "x",
         "y": [
          "<b>The Beatles</b><br>Here Comes The Sun - Remastered 2009"
         ],
         "yaxis": "y"
        }
       ],
       "layout": {
        "barmode": "relative",
        "height": 800,
        "legend": {
         "title": {
          "text": "track_genre"
         },
         "tracegroupgap": 0
        },
        "margin": {
         "t": 60
        },
        "template": {
         "data": {
          "bar": [
           {
            "error_x": {
             "color": "#2a3f5f"
            },
            "error_y": {
             "color": "#2a3f5f"
            },
            "marker": {
             "line": {
              "color": "white",
              "width": 0.5
             },
             "pattern": {
              "fillmode": "overlay",
              "size": 10,
              "solidity": 0.2
             }
            },
            "type": "bar"
           }
          ],
          "barpolar": [
           {
            "marker": {
             "line": {
              "color": "white",
              "width": 0.5
             },
             "pattern": {
              "fillmode": "overlay",
              "size": 10,
              "solidity": 0.2
             }
            },
            "type": "barpolar"
           }
          ],
          "carpet": [
           {
            "aaxis": {
             "endlinecolor": "#2a3f5f",
             "gridcolor": "#C8D4E3",
             "linecolor": "#C8D4E3",
             "minorgridcolor": "#C8D4E3",
             "startlinecolor": "#2a3f5f"
            },
            "baxis": {
             "endlinecolor": "#2a3f5f",
             "gridcolor": "#C8D4E3",
             "linecolor": "#C8D4E3",
             "minorgridcolor": "#C8D4E3",
             "startlinecolor": "#2a3f5f"
            },
            "type": "carpet"
           }
          ],
          "choropleth": [
           {
            "colorbar": {
             "outlinewidth": 0,
             "ticks": ""
            },
            "type": "choropleth"
           }
          ],
          "contour": [
           {
            "colorbar": {
             "outlinewidth": 0,
             "ticks": ""
            },
            "colorscale": [
             [
              0,
              "#0d0887"
             ],
             [
              0.1111111111111111,
              "#46039f"
             ],
             [
              0.2222222222222222,
              "#7201a8"
             ],
             [
              0.3333333333333333,
              "#9c179e"
             ],
             [
              0.4444444444444444,
              "#bd3786"
             ],
             [
              0.5555555555555556,
              "#d8576b"
             ],
             [
              0.6666666666666666,
              "#ed7953"
             ],
             [
              0.7777777777777778,
              "#fb9f3a"
             ],
             [
              0.8888888888888888,
              "#fdca26"
             ],
             [
              1,
              "#f0f921"
             ]
            ],
            "type": "contour"
           }
          ],
          "contourcarpet": [
           {
            "colorbar": {
             "outlinewidth": 0,
             "ticks": ""
            },
            "type": "contourcarpet"
           }
          ],
          "heatmap": [
           {
            "colorbar": {
             "outlinewidth": 0,
             "ticks": ""
            },
            "colorscale": [
             [
              0,
              "#0d0887"
             ],
             [
              0.1111111111111111,
              "#46039f"
             ],
             [
              0.2222222222222222,
              "#7201a8"
             ],
             [
              0.3333333333333333,
              "#9c179e"
             ],
             [
              0.4444444444444444,
              "#bd3786"
             ],
             [
              0.5555555555555556,
              "#d8576b"
             ],
             [
              0.6666666666666666,
              "#ed7953"
             ],
             [
              0.7777777777777778,
              "#fb9f3a"
             ],
             [
              0.8888888888888888,
              "#fdca26"
             ],
             [
              1,
              "#f0f921"
             ]
            ],
            "type": "heatmap"
           }
          ],
          "heatmapgl": [
           {
            "colorbar": {
             "outlinewidth": 0,
             "ticks": ""
            },
            "colorscale": [
             [
              0,
              "#0d0887"
             ],
             [
              0.1111111111111111,
              "#46039f"
             ],
             [
              0.2222222222222222,
              "#7201a8"
             ],
             [
              0.3333333333333333,
              "#9c179e"
             ],
             [
              0.4444444444444444,
              "#bd3786"
             ],
             [
              0.5555555555555556,
              "#d8576b"
             ],
             [
              0.6666666666666666,
              "#ed7953"
             ],
             [
              0.7777777777777778,
              "#fb9f3a"
             ],
             [
              0.8888888888888888,
              "#fdca26"
             ],
             [
              1,
              "#f0f921"
             ]
            ],
            "type": "heatmapgl"
           }
          ],
          "histogram": [
           {
            "marker": {
             "pattern": {
              "fillmode": "overlay",
              "size": 10,
              "solidity": 0.2
             }
            },
            "type": "histogram"
           }
          ],
          "histogram2d": [
           {
            "colorbar": {
             "outlinewidth": 0,
             "ticks": ""
            },
            "colorscale": [
             [
              0,
              "#0d0887"
             ],
             [
              0.1111111111111111,
              "#46039f"
             ],
             [
              0.2222222222222222,
              "#7201a8"
             ],
             [
              0.3333333333333333,
              "#9c179e"
             ],
             [
              0.4444444444444444,
              "#bd3786"
             ],
             [
              0.5555555555555556,
              "#d8576b"
             ],
             [
              0.6666666666666666,
              "#ed7953"
             ],
             [
              0.7777777777777778,
              "#fb9f3a"
             ],
             [
              0.8888888888888888,
              "#fdca26"
             ],
             [
              1,
              "#f0f921"
             ]
            ],
            "type": "histogram2d"
           }
          ],
          "histogram2dcontour": [
           {
            "colorbar": {
             "outlinewidth": 0,
             "ticks": ""
            },
            "colorscale": [
             [
              0,
              "#0d0887"
             ],
             [
              0.1111111111111111,
              "#46039f"
             ],
             [
              0.2222222222222222,
              "#7201a8"
             ],
             [
              0.3333333333333333,
              "#9c179e"
             ],
             [
              0.4444444444444444,
              "#bd3786"
             ],
             [
              0.5555555555555556,
              "#d8576b"
             ],
             [
              0.6666666666666666,
              "#ed7953"
             ],
             [
              0.7777777777777778,
              "#fb9f3a"
             ],
             [
              0.8888888888888888,
              "#fdca26"
             ],
             [
              1,
              "#f0f921"
             ]
            ],
            "type": "histogram2dcontour"
           }
          ],
          "mesh3d": [
           {
            "colorbar": {
             "outlinewidth": 0,
             "ticks": ""
            },
            "type": "mesh3d"
           }
          ],
          "parcoords": [
           {
            "line": {
             "colorbar": {
              "outlinewidth": 0,
              "ticks": ""
             }
            },
            "type": "parcoords"
           }
          ],
          "pie": [
           {
            "automargin": true,
            "type": "pie"
           }
          ],
          "scatter": [
           {
            "fillpattern": {
             "fillmode": "overlay",
             "size": 10,
             "solidity": 0.2
            },
            "type": "scatter"
           }
          ],
          "scatter3d": [
           {
            "line": {
             "colorbar": {
              "outlinewidth": 0,
              "ticks": ""
             }
            },
            "marker": {
             "colorbar": {
              "outlinewidth": 0,
              "ticks": ""
             }
            },
            "type": "scatter3d"
           }
          ],
          "scattercarpet": [
           {
            "marker": {
             "colorbar": {
              "outlinewidth": 0,
              "ticks": ""
             }
            },
            "type": "scattercarpet"
           }
          ],
          "scattergeo": [
           {
            "marker": {
             "colorbar": {
              "outlinewidth": 0,
              "ticks": ""
             }
            },
            "type": "scattergeo"
           }
          ],
          "scattergl": [
           {
            "marker": {
             "colorbar": {
              "outlinewidth": 0,
              "ticks": ""
             }
            },
            "type": "scattergl"
           }
          ],
          "scattermapbox": [
           {
            "marker": {
             "colorbar": {
              "outlinewidth": 0,
              "ticks": ""
             }
            },
            "type": "scattermapbox"
           }
          ],
          "scatterpolar": [
           {
            "marker": {
             "colorbar": {
              "outlinewidth": 0,
              "ticks": ""
             }
            },
            "type": "scatterpolar"
           }
          ],
          "scatterpolargl": [
           {
            "marker": {
             "colorbar": {
              "outlinewidth": 0,
              "ticks": ""
             }
            },
            "type": "scatterpolargl"
           }
          ],
          "scatterternary": [
           {
            "marker": {
             "colorbar": {
              "outlinewidth": 0,
              "ticks": ""
             }
            },
            "type": "scatterternary"
           }
          ],
          "surface": [
           {
            "colorbar": {
             "outlinewidth": 0,
             "ticks": ""
            },
            "colorscale": [
             [
              0,
              "#0d0887"
             ],
             [
              0.1111111111111111,
              "#46039f"
             ],
             [
              0.2222222222222222,
              "#7201a8"
             ],
             [
              0.3333333333333333,
              "#9c179e"
             ],
             [
              0.4444444444444444,
              "#bd3786"
             ],
             [
              0.5555555555555556,
              "#d8576b"
             ],
             [
              0.6666666666666666,
              "#ed7953"
             ],
             [
              0.7777777777777778,
              "#fb9f3a"
             ],
             [
              0.8888888888888888,
              "#fdca26"
             ],
             [
              1,
              "#f0f921"
             ]
            ],
            "type": "surface"
           }
          ],
          "table": [
           {
            "cells": {
             "fill": {
              "color": "#EBF0F8"
             },
             "line": {
              "color": "white"
             }
            },
            "header": {
             "fill": {
              "color": "#C8D4E3"
             },
             "line": {
              "color": "white"
             }
            },
            "type": "table"
           }
          ]
         },
         "layout": {
          "annotationdefaults": {
           "arrowcolor": "#2a3f5f",
           "arrowhead": 0,
           "arrowwidth": 1
          },
          "autotypenumbers": "strict",
          "coloraxis": {
           "colorbar": {
            "outlinewidth": 0,
            "ticks": ""
           }
          },
          "colorscale": {
           "diverging": [
            [
             0,
             "#8e0152"
            ],
            [
             0.1,
             "#c51b7d"
            ],
            [
             0.2,
             "#de77ae"
            ],
            [
             0.3,
             "#f1b6da"
            ],
            [
             0.4,
             "#fde0ef"
            ],
            [
             0.5,
             "#f7f7f7"
            ],
            [
             0.6,
             "#e6f5d0"
            ],
            [
             0.7,
             "#b8e186"
            ],
            [
             0.8,
             "#7fbc41"
            ],
            [
             0.9,
             "#4d9221"
            ],
            [
             1,
             "#276419"
            ]
           ],
           "sequential": [
            [
             0,
             "#0d0887"
            ],
            [
             0.1111111111111111,
             "#46039f"
            ],
            [
             0.2222222222222222,
             "#7201a8"
            ],
            [
             0.3333333333333333,
             "#9c179e"
            ],
            [
             0.4444444444444444,
             "#bd3786"
            ],
            [
             0.5555555555555556,
             "#d8576b"
            ],
            [
             0.6666666666666666,
             "#ed7953"
            ],
            [
             0.7777777777777778,
             "#fb9f3a"
            ],
            [
             0.8888888888888888,
             "#fdca26"
            ],
            [
             1,
             "#f0f921"
            ]
           ],
           "sequentialminus": [
            [
             0,
             "#0d0887"
            ],
            [
             0.1111111111111111,
             "#46039f"
            ],
            [
             0.2222222222222222,
             "#7201a8"
            ],
            [
             0.3333333333333333,
             "#9c179e"
            ],
            [
             0.4444444444444444,
             "#bd3786"
            ],
            [
             0.5555555555555556,
             "#d8576b"
            ],
            [
             0.6666666666666666,
             "#ed7953"
            ],
            [
             0.7777777777777778,
             "#fb9f3a"
            ],
            [
             0.8888888888888888,
             "#fdca26"
            ],
            [
             1,
             "#f0f921"
            ]
           ]
          },
          "colorway": [
           "#636efa",
           "#EF553B",
           "#00cc96",
           "#ab63fa",
           "#FFA15A",
           "#19d3f3",
           "#FF6692",
           "#B6E880",
           "#FF97FF",
           "#FECB52"
          ],
          "font": {
           "color": "#2a3f5f"
          },
          "geo": {
           "bgcolor": "white",
           "lakecolor": "white",
           "landcolor": "white",
           "showlakes": true,
           "showland": true,
           "subunitcolor": "#C8D4E3"
          },
          "hoverlabel": {
           "align": "left"
          },
          "hovermode": "closest",
          "mapbox": {
           "style": "light"
          },
          "paper_bgcolor": "white",
          "plot_bgcolor": "white",
          "polar": {
           "angularaxis": {
            "gridcolor": "#EBF0F8",
            "linecolor": "#EBF0F8",
            "ticks": ""
           },
           "bgcolor": "white",
           "radialaxis": {
            "gridcolor": "#EBF0F8",
            "linecolor": "#EBF0F8",
            "ticks": ""
           }
          },
          "scene": {
           "xaxis": {
            "backgroundcolor": "white",
            "gridcolor": "#DFE8F3",
            "gridwidth": 2,
            "linecolor": "#EBF0F8",
            "showbackground": true,
            "ticks": "",
            "zerolinecolor": "#EBF0F8"
           },
           "yaxis": {
            "backgroundcolor": "white",
            "gridcolor": "#DFE8F3",
            "gridwidth": 2,
            "linecolor": "#EBF0F8",
            "showbackground": true,
            "ticks": "",
            "zerolinecolor": "#EBF0F8"
           },
           "zaxis": {
            "backgroundcolor": "white",
            "gridcolor": "#DFE8F3",
            "gridwidth": 2,
            "linecolor": "#EBF0F8",
            "showbackground": true,
            "ticks": "",
            "zerolinecolor": "#EBF0F8"
           }
          },
          "shapedefaults": {
           "line": {
            "color": "#2a3f5f"
           }
          },
          "ternary": {
           "aaxis": {
            "gridcolor": "#DFE8F3",
            "linecolor": "#A2B1C6",
            "ticks": ""
           },
           "baxis": {
            "gridcolor": "#DFE8F3",
            "linecolor": "#A2B1C6",
            "ticks": ""
           },
           "bgcolor": "white",
           "caxis": {
            "gridcolor": "#DFE8F3",
            "linecolor": "#A2B1C6",
            "ticks": ""
           }
          },
          "title": {
           "x": 0.05
          },
          "xaxis": {
           "automargin": true,
           "gridcolor": "#EBF0F8",
           "linecolor": "#EBF0F8",
           "ticks": "",
           "title": {
            "standoff": 15
           },
           "zerolinecolor": "#EBF0F8",
           "zerolinewidth": 2
          },
          "yaxis": {
           "automargin": true,
           "gridcolor": "#EBF0F8",
           "linecolor": "#EBF0F8",
           "ticks": "",
           "title": {
            "standoff": 15
           },
           "zerolinecolor": "#EBF0F8",
           "zerolinewidth": 2
          }
         }
        },
        "width": 1500,
        "xaxis": {
         "anchor": "y",
         "domain": [
          0,
          1
         ],
         "range": [
          100,
          300
         ],
         "title": {
          "text": "ARTIST_TOTAL"
         }
        },
        "yaxis": {
         "anchor": "x",
         "domain": [
          0,
          1
         ],
         "title": {
          "text": "ARTIST_TRACK"
         }
        }
       }
      }
     },
     "metadata": {},
     "output_type": "display_data"
    }
   ],
   "source": [
    "import plotly.express as px\n",
    "#  Make horizontal bar chart\n",
    "fig = px.bar(\n",
    "    df_plot,\n",
    "    x='ARTIST_TOTAL', \n",
    "    y=\"ARTIST_TRACK\",\n",
    "    color = 'track_genre',\n",
    "    orientation = 'h',\n",
    "    template='plotly_white',\n",
    "    height=800,\n",
    "    width=1500,\n",
    "    range_x=[100, 300]\n",
    "    # color=\"Age\",\n",
    "    #barmode = 'horizontal',\n",
    "    #custom_data = ['Age', 'PCT', 'Count', 'TOTAL']\n",
    "    )\n",
    "fig.show()"
   ]
  }
 ],
 "metadata": {
  "kernelspec": {
   "display_name": "Python 3 (ipykernel)",
   "language": "python",
   "name": "python3"
  },
  "language_info": {
   "codemirror_mode": {
    "name": "ipython",
    "version": 3
   },
   "file_extension": ".py",
   "mimetype": "text/x-python",
   "name": "python",
   "nbconvert_exporter": "python",
   "pygments_lexer": "ipython3",
   "version": "3.11.9"
  }
 },
 "nbformat": 4,
 "nbformat_minor": 4
}
