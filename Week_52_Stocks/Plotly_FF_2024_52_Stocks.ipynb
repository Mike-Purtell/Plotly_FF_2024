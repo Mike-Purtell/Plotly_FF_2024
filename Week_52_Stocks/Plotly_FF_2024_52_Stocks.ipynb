{
 "cells": [
  {
   "cell_type": "markdown",
   "id": "ce0238ea-6930-4a02-ace7-ae0d786c43f7",
   "metadata": {},
   "source": [
    "### Plotly Figure Friday - 2024 week 52 - Stocks"
   ]
  },
  {
   "cell_type": "code",
   "execution_count": 27,
   "id": "7dbd1b61",
   "metadata": {},
   "outputs": [
    {
     "data": {
      "application/vnd.plotly.v1+json": {
       "config": {
        "plotlyServerURL": "https://plot.ly"
       },
       "data": [
        {
         "customdata": [
          [
           "Netflix",
           1997,
           2002,
           "Los Gatos",
           398442,
           "Subscription-based streaming service for TV shows,<br>movies, documentaries, etc."
          ],
          [
           "Salesforce",
           1999,
           2004,
           "San Francisco",
           329620,
           "Customer relationship management (CRM) software<br>with a focus on enterprise. One of the first successful<br>SaaS companies"
          ],
          [
           "ServiceNow",
           2004,
           2012,
           "Santa Clara",
           227745,
           "Solutions for IT service management, IT operations<br>management, and IT business management."
          ],
          [
           "Adobe",
           1982,
           1986,
           "San Jose",
           197183,
           "Applications for graphic design, video editing,<br>web development, and document management."
          ],
          [
           "Intuit",
           1983,
           1993,
           "Mountain View",
           180628,
           "Main application is QuickBooks, a financial management<br>tool for accounting, invoicing, and tax preparation."
          ],
          [
           "Palo Alto Networks",
           2005,
           2012,
           "Santa Clara",
           124357,
           "Cybersecurity solutions including next-generation<br>firewalls, cloud security, and threat intelligence<br>services to protect organizations from cyber threats<br>and safeguard their digital assets and networks"
          ],
          [
           "AppLovin",
           2012,
           2021,
           "Palo Alto",
           114715,
           "Mobile advertising platform geared towards app<br>developers to optimize their app listings and<br>targeted ads."
          ]
         ],
         "hovertemplate": "<b>%{customdata[0]} (Founded: %{customdata[1]},  IPO: %{customdata[2]})</b><br>%{customdata[3]}<br>Market Cap : $%{customdata[4]:,}M<br>Products : %{customdata[5]}<br><extra></extra>",
         "lat": [
          37.2594,
          37.7897,
          37.3876,
          37.3319,
          37.4265,
          37.3875,
          37.4143
         ],
         "legendgroup": "> $100B",
         "lon": [
          -121.963,
          -122.3965,
          -121.9736,
          -121.8934,
          -122.0809,
          -121.9636,
          -122
         ],
         "marker": {
          "color": "rgb(77,175,74)",
          "size": [
           6,
           6,
           6,
           6,
           6,
           6,
           6
          ],
          "sizemode": "area",
          "sizeref": 0.015
         },
         "mode": "markers",
         "name": "> $100B",
         "showlegend": true,
         "subplot": "map",
         "type": "scattermap"
        },
        {
         "customdata": [
          [
           "CrowdStrike",
           2011,
           2019,
           "Sunnyvale",
           90098,
           "Cybersecurity platform for endpoint protection,<br>threat intelligence, and incident response."
          ],
          [
           "Synopsys",
           1986,
           1992,
           "Sunnyvale",
           77314,
           "Electronic design automation (EDA) software that<br>streamlines the design, verification, and manufacturing<br>processes for semiconductor and electronic systems."
          ],
          [
           "Fortinet",
           2000,
           2009,
           "Sunnyvale",
           74967,
           "Cybersecurity solutions, including firewalls,<br>VPNs, and antivirus software."
          ],
          [
           "Workday",
           2005,
           2012,
           "Pleasanton",
           71565,
           "Applications for human resources, finance, business<br>planning, workforce management."
          ],
          [
           "Autodesk",
           1982,
           1994,
           "San Rafael",
           64764,
           "Design and engineering software for various industries,<br>including architecture, engineering, construction,<br>and manufacturing."
          ],
          [
           "Cloudflare",
           2009,
           2019,
           "San Francisco",
           38637,
           "Content delivery network (CDN), DDoS protection,<br>and internet security mostly for SMBs."
          ],
          [
           "Zscaler",
           2008,
           2018,
           "San Jose",
           28733,
           "Security platform that provides secure access<br>to the internet and protects organizations from<br>cyber threats."
          ],
          [
           "Zoom",
           2011,
           2019,
           "San Jose",
           26257,
           "Video conferencing for virtual meetings, webinars,<br>and online events."
          ],
          [
           "Samsara",
           2015,
           2021,
           "San Francisco",
           25563,
           "Fleet management and industrial IoT solutions,<br>including GPS tracking, real-time monitoring,<br>and data analytics."
          ],
          [
           "DocuSign",
           2003,
           2018,
           "San Francisco",
           19162,
           "Electronic signature software"
          ],
          [
           "Twilio",
           2008,
           2016,
           "San Francisco",
           17084,
           "Cloud communications platform to integrate messaging,<br>voice, and video capabilities into applications."
          ],
          [
           "Guidewire Software",
           2001,
           2012,
           "San Mateo",
           14584,
           "Solutions for the insurance industry, including<br>claims management, policy administration, and<br>billing."
          ],
          [
           "Okta",
           2009,
           2017,
           "San Francisco",
           14255,
           "Identity management solutions for secure access<br>to applications and data."
          ],
          [
           "Doximity",
           2010,
           2021,
           "San Francisco",
           10879,
           "Healthcare collaboration, patient data management,<br>and healthcare job opportunities."
          ],
          [
           "Elastic NV",
           2012,
           2018,
           "Mountain View",
           10738,
           "Open-source software suite that enables search,<br>logging, and analytics."
          ]
         ],
         "hovertemplate": "<b>%{customdata[0]} (Founded: %{customdata[1]},  IPO: %{customdata[2]})</b><br>%{customdata[3]}<br>Market Cap : $%{customdata[4]:,}M<br>Products : %{customdata[5]}<br><extra></extra>",
         "lat": [
          37.3781,
          37.3903,
          37.3788,
          37.6936,
          38.0266,
          37.78,
          37.4143,
          37.333,
          null,
          37.7898,
          37.7917,
          37.5399,
          37.789,
          null,
          37.3861
         ],
         "legendgroup": "> $10B",
         "lon": [
          -122.0307,
          -122.0511,
          -122.0145,
          -121.9289,
          -122.5311,
          -122.3905,
          -121.9524,
          -121.8943,
          null,
          -122.3942,
          -122.3917,
          -122.2993,
          -122.3949,
          null,
          -122.0839
         ],
         "marker": {
          "color": "rgb(55,126,184)",
          "size": [
           5,
           5,
           5,
           5,
           5,
           5,
           5,
           5,
           5,
           5,
           5,
           5,
           5,
           5,
           5
          ],
          "sizemode": "area",
          "sizeref": 0.015
         },
         "mode": "markers",
         "name": "> $10B",
         "showlegend": true,
         "subplot": "map",
         "type": "scattermap"
        },
        {
         "customdata": [
          [
           "Confluent",
           2014,
           2021,
           "Mountain View",
           9843,
           "Real-time data processing and analytics including<br>data integration, event streaming, and data management."
          ],
          [
           "GitLab",
           2011,
           2021,
           "San Francisco",
           9811,
           "Version control, CI/CD pipelines, issue tracking,<br>and collaboration tools for developers."
          ],
          [
           "Dropbox",
           2007,
           2018,
           "San Francisco",
           9527,
           "File storage and file synchronization application."
          ],
          [
           "BILL Holdings",
           2006,
           2019,
           "San Jose",
           9008,
           "Cloud-based software to streamline and automate<br>accounts payable and accounts receivable processes"
          ],
          [
           "Informatica",
           1993,
           2021,
           "Redwood City",
           8224,
           "Data integration and data management solutions."
          ],
          [
           "SoundHound AI",
           2005,
           2022,
           "Santa Clara",
           7484,
           "Voice recognition technology to identify songs,<br>provide lyrics, and offer music recommendations."
          ],
          [
           "SentinelOne",
           2013,
           2021,
           "Mountain View",
           7291,
           "Endpoint security platform that uses AI to provide<br>threat prevention, detection, and response."
          ],
          [
           "HashiCorp",
           2012,
           2021,
           "San Francisco",
           7000,
           "Open-source tools and commercial products for<br>cloud infrastructure automation, including Terraform,<br>Vault, Consul, and Nomad sub-brands."
          ],
          [
           "Qualys",
           1999,
           2012,
           "Foster City",
           5181,
           "Cloud-based security and compliance solutions,<br>including vulnerability management, threat protection,<br>and asset inventory services"
          ],
          [
           "Asana",
           2008,
           2020,
           "San Francisco",
           5027,
           "Project management solution for task management,<br>collaboration, and progress tracking."
          ],
          [
           "Freshworks",
           2010,
           2021,
           "San Mateo",
           4815,
           "Customer engagement tools, including customer<br>support, CRM, and marketing automation."
          ],
          [
           "C3 AI",
           2009,
           2020,
           "Redwood City",
           4609,
           "Enterprise AI software for developing and deploying<br>AI applications for various industries."
          ],
          [
           "Box",
           2005,
           2015,
           "Redwood City",
           4601,
           "Content management and file sharing platform for<br>file storage, access management, and collaboration."
          ],
          [
           "Rumble",
           2016,
           2021,
           "San Francisco",
           3601,
           "Video hosting, sharing, and monetization for content<br>creators and businesses."
          ],
          [
           "Jfrog",
           2008,
           2020,
           "Sunnyvale",
           3402,
           "DevOps platform for developers to manage and distribute<br>software packages."
          ],
          [
           "RingCentral",
           1999,
           2013,
           "Belmont",
           3329,
           "Cloud-based communication and collaboration solutions,<br>including voice, video, messaging, and contact<br>center services."
          ],
          [
           "Five9",
           2001,
           2014,
           "San Ramon",
           3188,
           "Contact center software that offers features like<br>omnichannel routing, workforce optimization, and<br>AI-powered virtual agents."
          ],
          [
           "LiveRamp",
           2011,
           2018,
           "San Francisco",
           2017,
           "Data connectivity and data management solutions<br>aimed at unifying data from various marketing<br>platforms."
          ],
          [
           "Marqeta",
           2010,
           2021,
           "Oakland",
           1859,
           "Card issuing platform, enabling businesses to<br>create and manage payment cards."
          ],
          [
           "PagerDuty",
           2010,
           2019,
           "San Francisco",
           1662,
           "Incident management platform that helps businesses<br>respond to critical issues, providing real-time<br>alerts, on-call scheduling, and automated escalations."
          ],
          [
           "Livongo",
           2008,
           2015,
           "Mountain View",
           1594,
           "Mobile application in the healthcare space for<br>managing chronic conditions, providing personalized<br>insights, coaching, and support."
          ],
          [
           "Matterport",
           2011,
           2021,
           "Sunnyvale",
           1547,
           "Platform for creating and sharing immersive 3D<br>virtual tours and models of physical spaces."
          ],
          [
           "Zuora",
           2007,
           2018,
           "Redwood City",
           1525,
           "Subscription management platform for management<br>of recurring billing products and services."
          ],
          [
           "Fastly",
           2011,
           2019,
           "San Francisco",
           1409,
           "Enterprise content delivery network (CDN)."
          ],
          [
           "Amplitude",
           2012,
           2021,
           "San Francisco",
           1362,
           "Platform for the measurement, storage, and analysis<br>of user behavior in apps and on websites."
          ],
          [
           "Coursera",
           2012,
           2021,
           "Mountain View",
           1327,
           "Online courses and educational content in partnership<br>with universities and organizations worldwide."
          ],
          [
           "Udemy",
           2010,
           2021,
           "San Francisco",
           1164,
           "Online learning platform that offers a wide range<br>of courses on various subjects, and enables course<br>creators to reach their audience."
          ],
          [
           "Blend Labs",
           2012,
           2021,
           "San Francisco",
           1152,
           "A digital lending platform for financial institutions<br>geared towards the automation of the lending process."
          ]
         ],
         "hovertemplate": "<b>%{customdata[0]} (Founded: %{customdata[1]},  IPO: %{customdata[2]})</b><br>%{customdata[3]}<br>Market Cap : $%{customdata[4]:,}M<br>Products : %{customdata[5]}<br><extra></extra>",
         "lat": [
          null,
          null,
          37.7693,
          37.6936,
          null,
          null,
          null,
          null,
          37.5585,
          37.784,
          null,
          37.5331,
          37.4848,
          null,
          null,
          37.5213,
          37.7658,
          37.7908,
          null,
          37.7739,
          37.3947,
          null,
          37.5331,
          37.7786,
          37.7866,
          null,
          null,
          null
         ],
         "legendgroup": "> $1B",
         "lon": [
          null,
          null,
          -122.3875,
          -121.9289,
          null,
          null,
          null,
          null,
          -122.2711,
          -122.3967,
          null,
          -122.2486,
          -122.2307,
          null,
          null,
          -122.2758,
          -121.9641,
          -122.4015,
          null,
          -122.4035,
          -122.076,
          null,
          -122.2486,
          -122.3969,
          -122.3986,
          null,
          null,
          null
         ],
         "marker": {
          "color": "rgb(152,78,163)",
          "size": [
           4,
           4,
           4,
           4,
           4,
           4,
           4,
           4,
           4,
           4,
           4,
           4,
           4,
           4,
           4,
           4,
           4,
           4,
           4,
           4,
           4,
           4,
           4,
           4,
           4,
           4,
           4,
           4
          ],
          "sizemode": "area",
          "sizeref": 0.015
         },
         "mode": "markers",
         "name": "> $1B",
         "showlegend": true,
         "subplot": "map",
         "type": "scattermap"
        },
        {
         "customdata": [
          [
           "Couchbase",
           2011,
           2021,
           "Mountain View",
           811,
           "NoSQL database"
          ],
          [
           "PubMatic",
           2006,
           2020,
           "Redwood City",
           762,
           "Digital advertising with features like programmatic<br>advertising, real-time bid management, and analytics."
          ],
          [
           "Eventbrite",
           2006,
           2018,
           "San Francisco",
           344,
           "Event management platform that allows users to<br>create, promote, and sell tickets for events online."
          ],
          [
           "Backblaze",
           2007,
           2021,
           "San Mateo",
           322,
           "Cloud backup and storage solution."
          ],
          [
           "Expensify",
           2008,
           2021,
           "San Francisco",
           313,
           "Expense management application that automates<br>expense reporting, receipt tracking, and reimbursement<br>processes."
          ],
          [
           "eGain",
           1997,
           1999,
           "Sunnyvale",
           154,
           "Customer engagement solutions, including AI-powered<br>virtual assistants, knowledge management, and<br>analytics."
          ]
         ],
         "hovertemplate": "<b>%{customdata[0]} (Founded: %{customdata[1]},  IPO: %{customdata[2]})</b><br>%{customdata[3]}<br>Market Cap : $%{customdata[4]:,}M<br>Products : %{customdata[5]}<br><extra></extra>",
         "lat": [
          null,
          37.5326,
          37.7817,
          null,
          null,
          37.4043
         ],
         "legendgroup": "> $100M",
         "lon": [
          null,
          -122.2646,
          -122.4058,
          null,
          null,
          -122.0176
         ],
         "marker": {
          "color": "rgb(255,127,0)",
          "size": [
           3,
           3,
           3,
           3,
           3,
           3
          ],
          "sizemode": "area",
          "sizeref": 0.015
         },
         "mode": "markers",
         "name": "> $100M",
         "showlegend": true,
         "subplot": "map",
         "type": "scattermap"
        },
        {
         "customdata": [
          [
           "Marin Software",
           2006,
           2013,
           "San Francisco",
           6,
           "Digital advertising management with features like<br>ad campaign optimization, reporting, and audience<br>targeting."
          ]
         ],
         "hovertemplate": "<b>%{customdata[0]} (Founded: %{customdata[1]},  IPO: %{customdata[2]})</b><br>%{customdata[3]}<br>Market Cap : $%{customdata[4]:,}M<br>Products : %{customdata[5]}<br><extra></extra>",
         "lat": [
          37.7911
         ],
         "legendgroup": "> $1M",
         "lon": [
          -122.3969
         ],
         "marker": {
          "color": "rgb(228,26,28)",
          "size": [
           1
          ],
          "sizemode": "area",
          "sizeref": 0.015
         },
         "mode": "markers",
         "name": "> $1M",
         "showlegend": true,
         "subplot": "map",
         "type": "scattermap"
        }
       ],
       "layout": {
        "height": 1000,
        "hoverlabel": {
         "bgcolor": "white",
         "font": {
          "family": "arial",
          "size": 16
         }
        },
        "legend": {
         "itemsizing": "constant",
         "title": {
          "text": "Market Cap"
         },
         "tracegroupgap": 0
        },
        "map": {
         "center": {
          "lat": 37.58857631578947,
          "lon": -122.19320789473683
         },
         "domain": {
          "x": [
           0,
           1
          ],
          "y": [
           0,
           1
          ]
         },
         "style": "carto-voyager",
         "zoom": 9
        },
        "mapbox": {
         "center": {
          "lat": 37.58857631578947,
          "lon": -122.19320789473683
         },
         "style": "carto-voyager",
         "zoom": 9
        },
        "template": {
         "data": {
          "bar": [
           {
            "error_x": {
             "color": "#2a3f5f"
            },
            "error_y": {
             "color": "#2a3f5f"
            },
            "marker": {
             "line": {
              "color": "#E5ECF6",
              "width": 0.5
             },
             "pattern": {
              "fillmode": "overlay",
              "size": 10,
              "solidity": 0.2
             }
            },
            "type": "bar"
           }
          ],
          "barpolar": [
           {
            "marker": {
             "line": {
              "color": "#E5ECF6",
              "width": 0.5
             },
             "pattern": {
              "fillmode": "overlay",
              "size": 10,
              "solidity": 0.2
             }
            },
            "type": "barpolar"
           }
          ],
          "carpet": [
           {
            "aaxis": {
             "endlinecolor": "#2a3f5f",
             "gridcolor": "white",
             "linecolor": "white",
             "minorgridcolor": "white",
             "startlinecolor": "#2a3f5f"
            },
            "baxis": {
             "endlinecolor": "#2a3f5f",
             "gridcolor": "white",
             "linecolor": "white",
             "minorgridcolor": "white",
             "startlinecolor": "#2a3f5f"
            },
            "type": "carpet"
           }
          ],
          "choropleth": [
           {
            "colorbar": {
             "outlinewidth": 0,
             "ticks": ""
            },
            "type": "choropleth"
           }
          ],
          "contour": [
           {
            "colorbar": {
             "outlinewidth": 0,
             "ticks": ""
            },
            "colorscale": [
             [
              0,
              "#0d0887"
             ],
             [
              0.1111111111111111,
              "#46039f"
             ],
             [
              0.2222222222222222,
              "#7201a8"
             ],
             [
              0.3333333333333333,
              "#9c179e"
             ],
             [
              0.4444444444444444,
              "#bd3786"
             ],
             [
              0.5555555555555556,
              "#d8576b"
             ],
             [
              0.6666666666666666,
              "#ed7953"
             ],
             [
              0.7777777777777778,
              "#fb9f3a"
             ],
             [
              0.8888888888888888,
              "#fdca26"
             ],
             [
              1,
              "#f0f921"
             ]
            ],
            "type": "contour"
           }
          ],
          "contourcarpet": [
           {
            "colorbar": {
             "outlinewidth": 0,
             "ticks": ""
            },
            "type": "contourcarpet"
           }
          ],
          "heatmap": [
           {
            "colorbar": {
             "outlinewidth": 0,
             "ticks": ""
            },
            "colorscale": [
             [
              0,
              "#0d0887"
             ],
             [
              0.1111111111111111,
              "#46039f"
             ],
             [
              0.2222222222222222,
              "#7201a8"
             ],
             [
              0.3333333333333333,
              "#9c179e"
             ],
             [
              0.4444444444444444,
              "#bd3786"
             ],
             [
              0.5555555555555556,
              "#d8576b"
             ],
             [
              0.6666666666666666,
              "#ed7953"
             ],
             [
              0.7777777777777778,
              "#fb9f3a"
             ],
             [
              0.8888888888888888,
              "#fdca26"
             ],
             [
              1,
              "#f0f921"
             ]
            ],
            "type": "heatmap"
           }
          ],
          "heatmapgl": [
           {
            "colorbar": {
             "outlinewidth": 0,
             "ticks": ""
            },
            "colorscale": [
             [
              0,
              "#0d0887"
             ],
             [
              0.1111111111111111,
              "#46039f"
             ],
             [
              0.2222222222222222,
              "#7201a8"
             ],
             [
              0.3333333333333333,
              "#9c179e"
             ],
             [
              0.4444444444444444,
              "#bd3786"
             ],
             [
              0.5555555555555556,
              "#d8576b"
             ],
             [
              0.6666666666666666,
              "#ed7953"
             ],
             [
              0.7777777777777778,
              "#fb9f3a"
             ],
             [
              0.8888888888888888,
              "#fdca26"
             ],
             [
              1,
              "#f0f921"
             ]
            ],
            "type": "heatmapgl"
           }
          ],
          "histogram": [
           {
            "marker": {
             "pattern": {
              "fillmode": "overlay",
              "size": 10,
              "solidity": 0.2
             }
            },
            "type": "histogram"
           }
          ],
          "histogram2d": [
           {
            "colorbar": {
             "outlinewidth": 0,
             "ticks": ""
            },
            "colorscale": [
             [
              0,
              "#0d0887"
             ],
             [
              0.1111111111111111,
              "#46039f"
             ],
             [
              0.2222222222222222,
              "#7201a8"
             ],
             [
              0.3333333333333333,
              "#9c179e"
             ],
             [
              0.4444444444444444,
              "#bd3786"
             ],
             [
              0.5555555555555556,
              "#d8576b"
             ],
             [
              0.6666666666666666,
              "#ed7953"
             ],
             [
              0.7777777777777778,
              "#fb9f3a"
             ],
             [
              0.8888888888888888,
              "#fdca26"
             ],
             [
              1,
              "#f0f921"
             ]
            ],
            "type": "histogram2d"
           }
          ],
          "histogram2dcontour": [
           {
            "colorbar": {
             "outlinewidth": 0,
             "ticks": ""
            },
            "colorscale": [
             [
              0,
              "#0d0887"
             ],
             [
              0.1111111111111111,
              "#46039f"
             ],
             [
              0.2222222222222222,
              "#7201a8"
             ],
             [
              0.3333333333333333,
              "#9c179e"
             ],
             [
              0.4444444444444444,
              "#bd3786"
             ],
             [
              0.5555555555555556,
              "#d8576b"
             ],
             [
              0.6666666666666666,
              "#ed7953"
             ],
             [
              0.7777777777777778,
              "#fb9f3a"
             ],
             [
              0.8888888888888888,
              "#fdca26"
             ],
             [
              1,
              "#f0f921"
             ]
            ],
            "type": "histogram2dcontour"
           }
          ],
          "mesh3d": [
           {
            "colorbar": {
             "outlinewidth": 0,
             "ticks": ""
            },
            "type": "mesh3d"
           }
          ],
          "parcoords": [
           {
            "line": {
             "colorbar": {
              "outlinewidth": 0,
              "ticks": ""
             }
            },
            "type": "parcoords"
           }
          ],
          "pie": [
           {
            "automargin": true,
            "type": "pie"
           }
          ],
          "scatter": [
           {
            "fillpattern": {
             "fillmode": "overlay",
             "size": 10,
             "solidity": 0.2
            },
            "type": "scatter"
           }
          ],
          "scatter3d": [
           {
            "line": {
             "colorbar": {
              "outlinewidth": 0,
              "ticks": ""
             }
            },
            "marker": {
             "colorbar": {
              "outlinewidth": 0,
              "ticks": ""
             }
            },
            "type": "scatter3d"
           }
          ],
          "scattercarpet": [
           {
            "marker": {
             "colorbar": {
              "outlinewidth": 0,
              "ticks": ""
             }
            },
            "type": "scattercarpet"
           }
          ],
          "scattergeo": [
           {
            "marker": {
             "colorbar": {
              "outlinewidth": 0,
              "ticks": ""
             }
            },
            "type": "scattergeo"
           }
          ],
          "scattergl": [
           {
            "marker": {
             "colorbar": {
              "outlinewidth": 0,
              "ticks": ""
             }
            },
            "type": "scattergl"
           }
          ],
          "scattermapbox": [
           {
            "marker": {
             "colorbar": {
              "outlinewidth": 0,
              "ticks": ""
             }
            },
            "type": "scattermapbox"
           }
          ],
          "scatterpolar": [
           {
            "marker": {
             "colorbar": {
              "outlinewidth": 0,
              "ticks": ""
             }
            },
            "type": "scatterpolar"
           }
          ],
          "scatterpolargl": [
           {
            "marker": {
             "colorbar": {
              "outlinewidth": 0,
              "ticks": ""
             }
            },
            "type": "scatterpolargl"
           }
          ],
          "scatterternary": [
           {
            "marker": {
             "colorbar": {
              "outlinewidth": 0,
              "ticks": ""
             }
            },
            "type": "scatterternary"
           }
          ],
          "surface": [
           {
            "colorbar": {
             "outlinewidth": 0,
             "ticks": ""
            },
            "colorscale": [
             [
              0,
              "#0d0887"
             ],
             [
              0.1111111111111111,
              "#46039f"
             ],
             [
              0.2222222222222222,
              "#7201a8"
             ],
             [
              0.3333333333333333,
              "#9c179e"
             ],
             [
              0.4444444444444444,
              "#bd3786"
             ],
             [
              0.5555555555555556,
              "#d8576b"
             ],
             [
              0.6666666666666666,
              "#ed7953"
             ],
             [
              0.7777777777777778,
              "#fb9f3a"
             ],
             [
              0.8888888888888888,
              "#fdca26"
             ],
             [
              1,
              "#f0f921"
             ]
            ],
            "type": "surface"
           }
          ],
          "table": [
           {
            "cells": {
             "fill": {
              "color": "#EBF0F8"
             },
             "line": {
              "color": "white"
             }
            },
            "header": {
             "fill": {
              "color": "#C8D4E3"
             },
             "line": {
              "color": "white"
             }
            },
            "type": "table"
           }
          ]
         },
         "layout": {
          "annotationdefaults": {
           "arrowcolor": "#2a3f5f",
           "arrowhead": 0,
           "arrowwidth": 1
          },
          "autotypenumbers": "strict",
          "coloraxis": {
           "colorbar": {
            "outlinewidth": 0,
            "ticks": ""
           }
          },
          "colorscale": {
           "diverging": [
            [
             0,
             "#8e0152"
            ],
            [
             0.1,
             "#c51b7d"
            ],
            [
             0.2,
             "#de77ae"
            ],
            [
             0.3,
             "#f1b6da"
            ],
            [
             0.4,
             "#fde0ef"
            ],
            [
             0.5,
             "#f7f7f7"
            ],
            [
             0.6,
             "#e6f5d0"
            ],
            [
             0.7,
             "#b8e186"
            ],
            [
             0.8,
             "#7fbc41"
            ],
            [
             0.9,
             "#4d9221"
            ],
            [
             1,
             "#276419"
            ]
           ],
           "sequential": [
            [
             0,
             "#0d0887"
            ],
            [
             0.1111111111111111,
             "#46039f"
            ],
            [
             0.2222222222222222,
             "#7201a8"
            ],
            [
             0.3333333333333333,
             "#9c179e"
            ],
            [
             0.4444444444444444,
             "#bd3786"
            ],
            [
             0.5555555555555556,
             "#d8576b"
            ],
            [
             0.6666666666666666,
             "#ed7953"
            ],
            [
             0.7777777777777778,
             "#fb9f3a"
            ],
            [
             0.8888888888888888,
             "#fdca26"
            ],
            [
             1,
             "#f0f921"
            ]
           ],
           "sequentialminus": [
            [
             0,
             "#0d0887"
            ],
            [
             0.1111111111111111,
             "#46039f"
            ],
            [
             0.2222222222222222,
             "#7201a8"
            ],
            [
             0.3333333333333333,
             "#9c179e"
            ],
            [
             0.4444444444444444,
             "#bd3786"
            ],
            [
             0.5555555555555556,
             "#d8576b"
            ],
            [
             0.6666666666666666,
             "#ed7953"
            ],
            [
             0.7777777777777778,
             "#fb9f3a"
            ],
            [
             0.8888888888888888,
             "#fdca26"
            ],
            [
             1,
             "#f0f921"
            ]
           ]
          },
          "colorway": [
           "#636efa",
           "#EF553B",
           "#00cc96",
           "#ab63fa",
           "#FFA15A",
           "#19d3f3",
           "#FF6692",
           "#B6E880",
           "#FF97FF",
           "#FECB52"
          ],
          "font": {
           "color": "#2a3f5f"
          },
          "geo": {
           "bgcolor": "white",
           "lakecolor": "white",
           "landcolor": "#E5ECF6",
           "showlakes": true,
           "showland": true,
           "subunitcolor": "white"
          },
          "hoverlabel": {
           "align": "left"
          },
          "hovermode": "closest",
          "mapbox": {
           "style": "light"
          },
          "paper_bgcolor": "white",
          "plot_bgcolor": "#E5ECF6",
          "polar": {
           "angularaxis": {
            "gridcolor": "white",
            "linecolor": "white",
            "ticks": ""
           },
           "bgcolor": "#E5ECF6",
           "radialaxis": {
            "gridcolor": "white",
            "linecolor": "white",
            "ticks": ""
           }
          },
          "scene": {
           "xaxis": {
            "backgroundcolor": "#E5ECF6",
            "gridcolor": "white",
            "gridwidth": 2,
            "linecolor": "white",
            "showbackground": true,
            "ticks": "",
            "zerolinecolor": "white"
           },
           "yaxis": {
            "backgroundcolor": "#E5ECF6",
            "gridcolor": "white",
            "gridwidth": 2,
            "linecolor": "white",
            "showbackground": true,
            "ticks": "",
            "zerolinecolor": "white"
           },
           "zaxis": {
            "backgroundcolor": "#E5ECF6",
            "gridcolor": "white",
            "gridwidth": 2,
            "linecolor": "white",
            "showbackground": true,
            "ticks": "",
            "zerolinecolor": "white"
           }
          },
          "shapedefaults": {
           "line": {
            "color": "#2a3f5f"
           }
          },
          "ternary": {
           "aaxis": {
            "gridcolor": "white",
            "linecolor": "white",
            "ticks": ""
           },
           "baxis": {
            "gridcolor": "white",
            "linecolor": "white",
            "ticks": ""
           },
           "bgcolor": "#E5ECF6",
           "caxis": {
            "gridcolor": "white",
            "linecolor": "white",
            "ticks": ""
           }
          },
          "title": {
           "x": 0.05
          },
          "xaxis": {
           "automargin": true,
           "gridcolor": "white",
           "linecolor": "white",
           "ticks": "",
           "title": {
            "standoff": 15
           },
           "zerolinecolor": "white",
           "zerolinewidth": 2
          },
          "yaxis": {
           "automargin": true,
           "gridcolor": "white",
           "linecolor": "white",
           "ticks": "",
           "title": {
            "standoff": 15
           },
           "zerolinecolor": "white",
           "zerolinewidth": 2
          }
         }
        },
        "title": {
         "text": "SaaS Companies in San Francisco Bay Area/Silicon Valley"
        },
        "width": 800
       }
      }
     },
     "metadata": {},
     "output_type": "display_data"
    }
   ],
   "source": [
    "'''\n",
    "Plotly Figure Friday - 2024 week 52 - stocks \n",
    "58 out of 172 SaaS (Software as a Service) companies in this dataset (34%) are\n",
    "based in the San Francisco Bay Area, a region that includes San Jose, Silicon \n",
    "Valley, Palo Alto and Berkeley. This script uses map Libre to map the locations \n",
    "of the SF Bay Area companies, with useful hover and marker sized by Market Cap.\n",
    "'''\n",
    "import plotly.express as px\n",
    "import polars as pl\n",
    "currency_to_floats = ['Stock Price']\n",
    "currency_to_mils = [\n",
    "    'Market Cap', 'Last Quarter Revenue','Annualized Revenue',\n",
    "    'Last Quarter EBITDA','Annualized EBITDA','Last Quarter Net Income',\n",
    "    'Annualized Net Income','Cash and Short Term Investments'\n",
    "    ]\n",
    "\n",
    "def wrap_hover(text, CHARS_PER_LINE=45):\n",
    "    '''\n",
    "    break long hover text into multiple lines, split with html line feeds.\n",
    "    1st whitespace after chars_per_line value is exceeeded is replaced with <br>\n",
    "    '''\n",
    "    result = []\n",
    "    \n",
    "    # Counter to track line_Length\n",
    "    line_length = 0\n",
    "    \n",
    "    # Iterate over each character in the text\n",
    "    for char in text:\n",
    "        line_length += 1\n",
    "        if char.isspace():\n",
    "            if line_length > CHARS_PER_LINE:\n",
    "                result.append('<br>')\n",
    "                line_length = 0\n",
    "            else:\n",
    "                result.append(char)\n",
    "        else:\n",
    "            result.append(char)\n",
    "    \n",
    "    return ''.join(result)\n",
    "\n",
    "\n",
    "df_norcal = (\n",
    "    pl.scan_csv('SaaS-businesses-NYSE-NASDAQ.csv')  # scan_csv --> lazy frame\n",
    "    .filter(pl.col('Headquarters').str.contains('California'))\n",
    "    .with_columns(\n",
    "        Headquarters = \n",
    "            pl.col('Headquarters')\n",
    "            .str.split(by =',')\n",
    "            .list.slice(0,1)\n",
    "            .list.first()\n",
    "    )\n",
    "    .filter(    # exclude 4 cities on the list from southern california\n",
    "        ~pl.col('Headquarters')\n",
    "        .is_in(['Glendale', 'San Diego', 'Santa Barbara','Ventura'])\n",
    "    )\n",
    "    # remove Orcacle, and Snowflake - they have moved out of the Bay Area\n",
    "    .filter(~pl.col('Company').str.contains('Oracle'))\n",
    "    .filter(~pl.col('Company').str.contains('Snowflake'))\n",
    "\n",
    "    # convert dollars as strings to millions of dollars as floats\n",
    "    .with_columns(pl.col(currency_to_mils).str.replace_all(',', ''))\n",
    "    .with_columns(pl.col(currency_to_mils).str.replace('$', '', literal=True))\n",
    "    .with_columns(pl.col(currency_to_mils).cast(pl.Float64))\n",
    "    .with_columns(pl.col(currency_to_mils)/1000000)\n",
    "    .with_columns(pl.col(currency_to_mils).round(0))\n",
    "\n",
    "    # convert dollars as strings to floats\n",
    "    .with_columns(pl.col(currency_to_floats).str.replace_all(',', ''))\n",
    "    .with_columns(pl.col(currency_to_floats).str.replace('$', '', literal=True))\n",
    "    .with_columns(pl.col(currency_to_floats).cast(pl.Float64))\n",
    "    .with_columns(pl.col(currency_to_floats).round(2))\n",
    "\n",
    "    # create a categorical column based on Market Cap\n",
    "    .with_columns(MKT_CAP_CAT = pl.lit('')) # intialize\n",
    "    .with_columns(\n",
    "        MKT_CAP_CAT = \n",
    "            pl.when(pl.col('Market Cap')>100e3).then(pl.lit('> $100B'))\n",
    "              .when(pl.col('Market Cap')>10e3).then(pl.lit('> $10B'))\n",
    "              .when(pl.col('Market Cap')>1e3).then(pl.lit('> $1B'))\n",
    "              .when(pl.col('Market Cap')>100).then(pl.lit('> $100M'))\n",
    "              .when(pl.col('Market Cap')>10).then(pl.lit('> $10M'))\n",
    "              .when(pl.col('Market Cap')>1).then(pl.lit('> $1M'))\n",
    "    )\n",
    "    .with_columns(\n",
    "        MARKER_SIZE = \n",
    "            pl.when(pl.col('Market Cap')>100e3).then(pl.lit(6))\n",
    "              .when(pl.col('Market Cap')>10e3).then(pl.lit(5))\n",
    "              .when(pl.col('Market Cap')>1e3).then(pl.lit(4))\n",
    "              .when(pl.col('Market Cap')>100).then(pl.lit(3))\n",
    "              .when(pl.col('Market Cap')>10).then(pl.lit(2))\n",
    "              .when(pl.col('Market Cap')>1).then(pl.lit(1))\n",
    "    )\n",
    "    .with_columns(\n",
    "        PROD_DESC_WRAP = \n",
    "            pl.col('Product Description')\n",
    "            .map_elements(wrap_hover, return_dtype=pl.String)\n",
    "    )\n",
    "    .drop('Company Website', \n",
    "          'Company Investor Relations Page',\n",
    "          'Lead Investor(s) Pre-IPO',\n",
    "          'S-1 Filing',\n",
    "          'September 2024 Website Traffic (Estimate)',\n",
    "          'YoY Change in Website Traffic%',\n",
    "          '2023 10-K Filing',\n",
    "          'Product Description'\n",
    "    )\n",
    "    .collect()      # collect uses lazy frame to make polars dataframe\n",
    ")\n",
    "for c in currency_to_mils:\n",
    "    df_norcal = df_norcal.rename({c: c + ' [M$]'})\n",
    "\n",
    "#-------------------------------------------------------------------------------\n",
    "#    Load file with GPS coordinates -- this data is from ChatGPT \n",
    "#-------------------------------------------------------------------------------\n",
    "df_coords =(\n",
    "    pl.scan_csv('df_norcal_coords.csv')\n",
    "    # remove degree notation from Long, Lat strings before convert to float\n",
    "    .with_columns(pl.col(['Long', 'Lat']).str.replace('°N', ''))\n",
    "    .with_columns(pl.col(['Long', 'Lat']).str.replace('°W', '')) \n",
    "    .with_columns(pl.col(['Long', 'Lat']).cast(pl.Float64))\n",
    "    # For Longitude, have to multiply by -1 to get degrees west\n",
    "    .with_columns(pl.col(['Long'])*-1.0)\n",
    "    .collect()\n",
    ")\n",
    "#-------------------------------------------------------------------------------\n",
    "#    Join GPS coordinates with main dataset \n",
    "#-------------------------------------------------------------------------------\n",
    "df = (\n",
    "    df_norcal\n",
    "    .join(\n",
    "        df_coords,\n",
    "        how = 'left',\n",
    "        on='Company'\n",
    "    )\n",
    ")\n",
    "df_cols = df.columns\n",
    "left_cols = [c for c in df_cols if c not in ['PROD_DESC_WRAP', 'Founder(s)']]\n",
    "right_cols = ['PROD_DESC_WRAP', 'Founder(s)']\n",
    "df = df.select(pl.col(left_cols  + right_cols))\n",
    "\n",
    "#-------------------------------------------------------------------------------\n",
    "#    Make a GPS Scatter Plot of Bay Area Companies \n",
    "#-------------------------------------------------------------------------------\n",
    "#define marker colors based on Market Cap\n",
    "dict_marker_map = {\n",
    "    '> $1M': px.colors.qualitative.Set1[0],\n",
    "    '> $10M':  px.colors.qualitative.Set1[5],\n",
    "    '> $100M': px.colors.qualitative.Set1[4],\n",
    "    '> $1B':  px.colors.qualitative.Set1[3],\n",
    "    '> $10B':px.colors.qualitative.Set1[1],\n",
    "    '> $100B':px.colors.qualitative.Set1[2],\n",
    "}\n",
    "fig = px.scatter_map(\n",
    "    df.sort('Market Cap [M$]', descending=True),\n",
    "    lat='Lat',\n",
    "    lon='Long',\n",
    "    height=1000, width=800,\n",
    "    size='MARKER_SIZE', # 'Market Cap [M$]', \n",
    "    color='MKT_CAP_CAT',\n",
    "    color_discrete_map= dict_marker_map,\n",
    "    zoom=9,\n",
    "    map_style='carto-voyager', #open-street-map',  # 'streets',\n",
    "    custom_data=[\n",
    "        'Company',             #  customdata[0]\n",
    "        'Year Founded',        #  customdata[1]\n",
    "        'IPO Year',            #  customdata[2]\n",
    "        'Headquarters',        #  customdata[3]\n",
    "        'Market Cap [M$]',     #  customdata[4]\n",
    "        'PROD_DESC_WRAP',      #  customdata[5]\n",
    "    ],\n",
    "    title='SaaS Companies in San Francisco Bay Area/Silicon Valley'\n",
    ")\n",
    "#------------------------------------------------------------------------------#\n",
    "#     Apply hovertemplate                                                      #\n",
    "#------------------------------------------------------------------------------#\n",
    "fig.update_traces(\n",
    "    hovertemplate =\n",
    "        '<b>%{customdata[0]}' +\n",
    "        ' (Founded: %{customdata[1]},  ' +\n",
    "        'IPO: %{customdata[2]})</b><br>' +\n",
    "        '%{customdata[3]}<br>' +\n",
    "        'Market Cap : $%{customdata[4]:,}M<br>' +\n",
    "        'Products : %{customdata[5]}<br>' +\n",
    "        '<extra></extra>'\n",
    ")\n",
    "\n",
    "fig.update_layout(\n",
    "    hoverlabel=dict(\n",
    "        bgcolor=\"white\",\n",
    "        font_size=16,\n",
    "        font_family='arial',  # 'sans-serif mono', # 'courier new', \n",
    "    ),\n",
    "    legend_title='Market Cap'\n",
    ")\n",
    "\n",
    "fig.show()"
   ]
  },
  {
   "cell_type": "code",
   "execution_count": null,
   "id": "b02e4f35",
   "metadata": {},
   "outputs": [],
   "source": []
  }
 ],
 "metadata": {
  "kernelspec": {
   "display_name": "Python 3",
   "language": "python",
   "name": "python3"
  },
  "language_info": {
   "codemirror_mode": {
    "name": "ipython",
    "version": 3
   },
   "file_extension": ".py",
   "mimetype": "text/x-python",
   "name": "python",
   "nbconvert_exporter": "python",
   "pygments_lexer": "ipython3",
   "version": "3.13.1"
  }
 },
 "nbformat": 4,
 "nbformat_minor": 5
}
