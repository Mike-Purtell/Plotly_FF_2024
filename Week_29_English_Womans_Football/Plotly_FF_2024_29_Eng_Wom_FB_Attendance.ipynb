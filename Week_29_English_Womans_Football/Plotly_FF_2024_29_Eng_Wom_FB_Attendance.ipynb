{
 "cells": [
  {
   "cell_type": "markdown",
   "metadata": {},
   "source": [
    "## Plotly Figure Friday - July 19, 2024\n",
    "This notebook is used for exploration and dataviz using files provided by Plotly for the weekly Figure Friday program.\n"
   ]
  },
  {
   "cell_type": "code",
   "execution_count": 1,
   "metadata": {
    "tags": []
   },
   "outputs": [],
   "source": [
    "import polars as pl\n",
    "import plotly.express as px\n",
    "import plotly.graph_objects as go\n"
   ]
  },
  {
   "cell_type": "markdown",
   "metadata": {},
   "source": [
    "## Constants"
   ]
  },
  {
   "cell_type": "code",
   "execution_count": 2,
   "metadata": {},
   "outputs": [],
   "source": [
    "my_arrow_size = 1\n",
    "my_arrow_style = 1\n",
    "my_arrow_width = 1.5"
   ]
  },
  {
   "cell_type": "markdown",
   "metadata": {},
   "source": [
    "## Functions"
   ]
  },
  {
   "cell_type": "code",
   "execution_count": 3,
   "metadata": {},
   "outputs": [],
   "source": [
    "def custom_annotation(fig, text, showarrow, x, y,  xanchor, yanchor, xshift, yshift, align, ax=0, ay=0):\n",
    "    fig.add_annotation(\n",
    "        text = text,\n",
    "        showarrow=showarrow,\n",
    "        arrowwidth=my_arrow_width,\n",
    "        arrowsize= my_arrow_size,\n",
    "        arrowhead = my_arrow_style,\n",
    "        x = x,\n",
    "        y = y,\n",
    "        # xref = 'paper', \n",
    "        # yref = 'paper',\n",
    "        xanchor=xanchor,\n",
    "        yanchor=yanchor,\n",
    "        xshift=xshift,\n",
    "        yshift=yshift,\n",
    "        font=dict(size=10, color=\"grey\"),\n",
    "        align=align,\n",
    "        ax=ax,\n",
    "        ay=ay\n",
    "    )\n",
    "    return fig"
   ]
  },
  {
   "cell_type": "markdown",
   "metadata": {
    "tags": []
   },
   "source": [
    "## Appearances Dataframe"
   ]
  },
  {
   "cell_type": "code",
   "execution_count": null,
   "metadata": {},
   "outputs": [],
   "source": [
    "df_appearances = (\n",
    "    pl.read_csv('ewf_appearances.csv')\n",
    "    .filter(\n",
    "        pl.col('attendance') != 'NA',\n",
    "        pl.col('tier') == 1\n",
    "    )\n",
    "    .with_columns(\n",
    "        pl.col('attendance').str.replace(',', '').cast(pl.Int32),\n",
    "        SEASON = pl.col('season').str.slice(0,4).cast(pl.Int32)\n",
    "    )\n",
    "    .with_columns(\n",
    "         Q1 = pl.col('attendance').quantile(0.25).over('season').cast(pl.Int32),\n",
    "         Q3 = pl.col('attendance').quantile(0.75).over('season').cast(pl.Int32),\n",
    "    )\n",
    "    .with_columns(\n",
    "         IQR = (pl.col('Q3') -  pl.col('Q1')).cast(pl.Int32)\n",
    "    )\n",
    "    .with_columns(\n",
    "         OUTLIER_L = (pl.col('Q1') - 1.5 * pl.col('IQR')).cast(pl.Int32),\n",
    "         OUTLIER_H = (pl.col('Q3') + 1.5 * pl.col('IQR')).cast(pl.Int32),\n",
    "    )\n",
    "    .with_columns(\n",
    "         IS_OUTLIER = (\n",
    "             pl.when(\n",
    "                 (pl.col('attendance') > pl.col('OUTLIER_H')) \n",
    "                 | \n",
    "                 (pl.col('attendance') < pl.col('OUTLIER_L'))\n",
    "             )\n",
    "         .then(pl.lit(True))\n",
    "         .otherwise(pl.lit(False))\n",
    "        )\n",
    "    )\n",
    "    .with_columns(MEDIAN = pl.col('attendance').median().round(0).over('season'))       \n",
    "    .select(pl.col('SEASON', 'attendance', 'MEDIAN', 'Q1', 'Q3', 'IQR','OUTLIER_L','OUTLIER_H','IS_OUTLIER'))\n",
    "    .unique(subset='SEASON')\n",
    "    .sort('SEASON')\n",
    ")\n",
    "print(df_appearances.shape)\n",
    "print(df_appearances.head())\n"
   ]
  },
  {
   "cell_type": "markdown",
   "metadata": {},
   "source": [
    "## visualize EWF's median game attendance"
   ]
  },
  {
   "cell_type": "code",
   "execution_count": null,
   "metadata": {},
   "outputs": [],
   "source": [
    "df_no_fliers = df_appearances.filter(pl.col('IS_OUTLIER') == False)\n",
    "\n",
    "fig  = px.line(df_no_fliers, 'SEASON', 'MEDIAN')\n",
    "fig.layout.template = 'plotly_white' \n",
    "\n",
    "fig.add_trace(\n",
    "    go.Scatter(\n",
    "        # connectgaps=False,\n",
    "        x=df_no_fliers['SEASON'],\n",
    "        y=df_no_fliers['MEDIAN'],\n",
    "        marker=dict(color='blue',  size=10), \n",
    "    ),\n",
    ")\n",
    "\n",
    "fig.update_layout(\n",
    "    title=go.layout.Title(\n",
    "        text=\"English Woman's Football, Tier 1\",\n",
    "        xref=\"paper\",\n",
    "        x=0\n",
    "    ),\n",
    "    xaxis=go.layout.XAxis(\n",
    "        title=go.layout.xaxis.Title(\n",
    "            text='' # \"Year refers to start of the season<br>SOURCE: The English Women's Football (EWF) Database, May 2024, https://github.com/probjects/ewf-database.\",\n",
    "            )\n",
    "    ),\n",
    "    yaxis=go.layout.YAxis(\n",
    "        title=go.layout.yaxis.Title(\n",
    "            text='League-wide median attendance'\n",
    "            ),\n",
    "    )\n",
    ")\n",
    "\n",
    "fig.update_layout(yaxis_range=[0, 3500])\n",
    "\n",
    "text = \"Year refers to start of the season<br><br>\"\n",
    "text += \"SOURCE: The English Women's Football (EWF) Database, May 2024  \"\n",
    "text += '<a href=\"https://github.com/probjects/ewf-database\">https://github.com/probjects/ewf-database</a>'\n",
    "fig.add_annotation(\n",
    "    text = text, showarrow=False, x = 0, y = -0.05, xref='paper', yref='paper',\n",
    "    xanchor='left', yanchor='top', xshift=0, yshift=0,\n",
    "    font=dict(size=10, color=\"grey\"), align=\"left\",\n",
    ")\n",
    "\n",
    "# Annotate 2015\n",
    "text = f'2015 World Cup, Canada.<br>EWF Attendance up 50%<br>54,000 people attended match<br>when 3rd place England beat Canada<br>'\n",
    "fig = custom_annotation(fig, text, showarrow=True,  x = 2015, y = 951,  xanchor='center', yanchor='bottom', xshift=-1, yshift=10,  align=\"left\", ax=-50, ay=-20)\n",
    "\n",
    "# Annotate 2019\n",
    "text = f'2019 World Cup, France.<br>EWF Attendance up 97% after <br>England finished 4th<br>Season shortened by Covid'\n",
    "fig = custom_annotation(fig, text, showarrow=True,  x = 2019, y = 1306,  xanchor='center', yanchor='bottom', xshift=0, yshift=10,  align=\"left\", ax=0,ay=-20)\n",
    "\n",
    "# Annotate 2021\n",
    "text = f'2020 cancelled,<br>league play resumed in 2021'\n",
    "fig = custom_annotation(fig, text, showarrow=True,  x = 2021, y = 1439,  xanchor='center', yanchor='top', xshift=0, yshift=-20,  align=\"left\", ay=30)\n",
    "\n",
    "# Annotate 2022\n",
    "text = f'2022: attendance up 100%'\n",
    "fig = custom_annotation(fig, text, showarrow=True,  x = 2022, y = 2966,  xanchor='right', yanchor='middle', xshift=-10, yshift=0,  align=\"left\", ax=-50, ay=25)\n",
    "\n",
    "# Annotate Summer League\n",
    "text = f'<b>Summer schedule</b><br>'\n",
    "fig = custom_annotation(fig, text, showarrow=False,  x = 2012.5, y = 3200,  xanchor='left', yanchor='top', xshift=0, yshift=10,  align=\"left\", ax=0,ay=-20)\n",
    "\n",
    "# Annotate Summer League\n",
    "text = f'<b>Fall to Spring schedule</b> <br>Traditional English football season'\n",
    "fig = custom_annotation(fig, text, showarrow=False,  x = 2017, y = 3200,  xanchor='left', yanchor='top', xshift=0, yshift=10,  align=\"left\", ax=0,ay=-20)\n",
    "\n",
    "# Annotate Takeaway\n",
    "text = f'<b>Early years, low attendance</b>'\n",
    "fig = custom_annotation(fig, text, showarrow=False,  x = 2012, y = 3500,  xanchor='left', yanchor='top', xshift=0, yshift=10,  align=\"left\", ax=0,ay=-20)\n",
    "\n",
    "# Annotate Takeaway\n",
    "text = f'<b>Big attendance boost in 2022</b>'\n",
    "fig = custom_annotation(fig, text, showarrow=False,  x = 2017, y = 3500,  xanchor='left', yanchor='top', xshift=0, yshift=10,  align=\"left\", ax=0,ay=-20)\n",
    "\n",
    "\n",
    "fig.update_layout(\n",
    "    autosize=False,\n",
    "    width=800,\n",
    "    height=600,\n",
    "    showlegend=False,\n",
    ")\n",
    "\n",
    "fig.add_vrect(\n",
    "    x0=2012, x1=2016.5,\n",
    "    y0=0, y1=0.95,\n",
    "    fillcolor=\"LightSalmon\", opacity=0.25,\n",
    "    layer=\"below\", line_width=0,\n",
    ")\n",
    "fig.add_vrect(\n",
    "    x0=2016.5, x1=2022.5,\n",
    "    y0=0, y1=0.95,\n",
    "    fillcolor=\"wheat\", opacity=0.25,\n",
    "    layer=\"below\", line_width=0,\n",
    ")\n",
    "\n",
    "fig.update_xaxes(showgrid=False)\n",
    "fig.update_yaxes(showgrid=False)\n",
    "fig.update_layout(margin=dict(t=100))\n",
    "fig.show()\n",
    "fig.write_html('EWF-League-Wide-Attendance.html')"
   ]
  }
 ],
 "metadata": {
  "kernelspec": {
   "display_name": "Python 3",
   "language": "python",
   "name": "python3"
  },
  "language_info": {
   "codemirror_mode": {
    "name": "ipython",
    "version": 3
   },
   "file_extension": ".py",
   "mimetype": "text/x-python",
   "name": "python",
   "nbconvert_exporter": "python",
   "pygments_lexer": "ipython3",
   "version": "3.13.1"
  }
 },
 "nbformat": 4,
 "nbformat_minor": 4
}
