{
 "cells": [
  {
   "cell_type": "markdown",
   "metadata": {},
   "source": [
    "## Plotly Figure Friday - July 19, 2024\n",
    "Cumulative Goal Differential\n",
    "Plot the cumulative goal differential of each team over the course of each season.\n",
    "Annotate the team rank and its cumulative home attendance to the farthest right point\n"
   ]
  },
  {
   "cell_type": "code",
   "execution_count": 6,
   "metadata": {
    "tags": []
   },
   "outputs": [],
   "source": [
    "import polars as pl\n",
    "import plotly\n",
    "import polars.selectors as cs\n",
    "import plotly.express as px\n",
    "import plotly.graph_objects as go\n"
   ]
  },
  {
   "cell_type": "markdown",
   "metadata": {},
   "source": [
    "## Functions"
   ]
  },
  {
   "cell_type": "code",
   "execution_count": 7,
   "metadata": {},
   "outputs": [],
   "source": [
    "def tweak_df_appearances():\n",
    "    return(\n",
    "        pl.read_csv('ewf_appearances.csv')\n",
    "        .filter(pl.col('tier') == 1)\n",
    "        .with_columns(                     \n",
    "            pl.col('attendance')\n",
    "                .str.replace('NA', '0') # when attendance is NA, replace with string 0\n",
    "                .str.replace(',', '')   # get rid of thousands commas\n",
    "                .cast(pl.Int32),\n",
    "            SEASON = pl.col('season').str.slice(0,4).cast(pl.Int32),\n",
    "        )\n",
    "        .rename({'date': 'date_str'})\n",
    "        .with_columns(\n",
    "            DATE = pl.col('date_str').str.to_date(format='%m/%d/%Y', strict=True)\n",
    "        )    \n",
    "        .sort('SEASON', 'team_name', 'DATE')\n",
    "        .with_columns(\n",
    "           MATCH_NUM = pl.cum_count('attendance').over('SEASON','team_name'),\n",
    "           SEASON_GOAL_DIFF = pl.cum_sum('goal_difference').over('SEASON','team_name'),\n",
    "        )\n",
    "        .select(\n",
    "            pl.col(\n",
    "                'SEASON', 'MATCH_NUM',  'DATE', 'team_name', \n",
    "                'goal_difference', 'SEASON_GOAL_DIFF', 'result', 'win', 'loss', 'draw', 'points'\n",
    "            )\n",
    "        )\n",
    "    )\n",
    "\n",
    "\n",
    "def custom_annotation(fig, text, showarrow, x, y,  xanchor, yanchor, xshift, yshift, align, ax=0, ay=0, my_color='gray'):\n",
    "    fig.add_annotation(\n",
    "        text = text,\n",
    "        x = x,\n",
    "        y = y,\n",
    "        xanchor=xanchor,\n",
    "        yanchor=yanchor,\n",
    "        xshift=xshift,\n",
    "        yshift=yshift,\n",
    "        font=dict(size=10, color=\"grey\"),\n",
    "        align=align,\n",
    "        ax=ax,\n",
    "        ay=ay,\n",
    "        font_color=my_color\n",
    "    )\n",
    "\n",
    "    return fig"
   ]
  },
  {
   "cell_type": "markdown",
   "metadata": {
    "tags": []
   },
   "source": [
    "## Appearances Dataframe"
   ]
  },
  {
   "cell_type": "code",
   "execution_count": 8,
   "metadata": {},
   "outputs": [],
   "source": [
    "df_appearances = tweak_df_appearances()\n"
   ]
  },
  {
   "cell_type": "markdown",
   "metadata": {},
   "source": [
    "## Season Standings, aka table\n",
    "Create a win-loss-draw table from the appearances dataframe. Note that this data can be read directly from ewf_standings.csv. More fun to roll your own."
   ]
  },
  {
   "cell_type": "code",
   "execution_count": null,
   "metadata": {},
   "outputs": [],
   "source": [
    "df_table = (\n",
    "    df_appearances\n",
    "    .group_by('SEASON', 'team_name')\n",
    "    .agg(\n",
    "        pl.col('win').sum().alias('W'),\n",
    "        pl.col('draw').sum().alias('D'),\n",
    "        pl.col('loss').sum().alias('L'),\n",
    "        pl.col('points').sum().alias('P'),\n",
    "        pl.col('goal_difference').sum().alias('GD'),\n",
    "    )\n",
    "    .with_columns(\n",
    "        MATCHES = (pl.col('W') + pl.col('D') + pl.col('L'))\n",
    "    )\n",
    "    .with_columns(\n",
    "        PTS_PER_MATCH = (pl.col('P')/pl.col('MATCHES'))\n",
    "    )\n",
    "    .sort('SEASON', 'PTS_PER_MATCH', 'GD', descending = [False, True, True])\n",
    "    .with_columns(RANK = pl.col('SEASON').cum_count().over('SEASON'))\n",
    "    .select(pl.col(['SEASON', 'RANK','team_name', 'W', 'D', 'L', 'P', 'GD', 'MATCHES', 'PTS_PER_MATCH']))\n",
    ")\n",
    "print(df_table)\n"
   ]
  },
  {
   "cell_type": "markdown",
   "metadata": {},
   "source": [
    "## Iterate through each season, plot cumulative goal differential of each team.\n"
   ]
  },
  {
   "cell_type": "code",
   "execution_count": null,
   "metadata": {},
   "outputs": [],
   "source": [
    "seasons =  df_appearances['SEASON'].unique().to_list()\n",
    "\n",
    "df_pivot = (\n",
    "    df_appearances\n",
    "    .with_columns(\n",
    "        SEASON_GOAL_DIFF = pl.cum_sum('goal_difference').over('SEASON', 'team_name')\n",
    "    )\n",
    "    .pivot(\n",
    "        on = 'team_name',\n",
    "        index=['SEASON', 'MATCH_NUM'],\n",
    "        values = 'SEASON_GOAL_DIFF'\n",
    "    )\n",
    ")\n",
    "for season in df_pivot['SEASON'].unique().to_list():\n",
    "    print(season)\n",
    "    df = (\n",
    "        df_pivot.filter(pl.col('SEASON') == season)\n",
    "    )\n",
    "    df_cols = list(df.columns)\n",
    "    null_cols = [c for c in df_cols if len(df.filter(pl.col(c).is_not_null())) == 0]\n",
    "    df = df.drop(null_cols)\n",
    "    df = (\n",
    "        pl.concat([df, df.select(pl.all().sum())])\n",
    "        .with_row_index('ROW_NUM')\n",
    "    )\n",
    "    max_row_num = df['ROW_NUM'].max()\n",
    "    for c in df.columns[2:]:    \n",
    "        df = (\n",
    "            df\n",
    "            .with_columns(\n",
    "                pl.when(pl.col('ROW_NUM') == max_row_num)\n",
    "                .then(pl.lit(0))\n",
    "                .otherwise(c)\n",
    "                .name.keep()\n",
    "            )\n",
    "            .sort('MATCH_NUM', descending=False)\n",
    "        )\n",
    "\n",
    "    y_cols = df.columns[3:]\n",
    "    fig = px.line(\n",
    "        df,\n",
    "        x = 'MATCH_NUM',\n",
    "        y = df.columns[3:],\n",
    "        template='plotly_white',\n",
    "        line_shape='hvh'\n",
    "    )\n",
    "\n",
    "    for i, col in enumerate(y_cols):\n",
    "        season_rank = (\n",
    "            df_table\n",
    "            .filter(\n",
    "                pl.col('SEASON') == season,\n",
    "                pl.col('team_name') == col\n",
    "            )\n",
    "            .select(pl.col('RANK'))\n",
    "            .to_series()\n",
    "        )[0]\n",
    "        goal_differential = (\n",
    "            df_table\n",
    "            .filter(\n",
    "                pl.col('SEASON') == season,\n",
    "                pl.col('team_name') == col\n",
    "            )\n",
    "            .select(pl.col('GD'))\n",
    "            .to_series()\n",
    "        )[0]\n",
    "        # print(f'{goal_differential = }')\n",
    "        my_color = px.colors.qualitative.Plotly[i%10]\n",
    "        annotate_text = col.replace('Women', '').replace('Ladies', '') + f'({season_rank}, Goal Diff. = {goal_differential})'\n",
    "        y_final = df.filter(pl.col('MATCH_NUM') == max_row_num)[col][0]\n",
    "        fig = custom_annotation(fig, annotate_text, False, max_row_num+0.2, y_final, 'left',  'middle',  0, 0, 'left', my_color=my_color) \n",
    "\n",
    "    x_label = \"MATCH NUMBER<br><sup>\"\n",
    "    x_label += \"SOURCE: The English Women's Football (EWF) Database, May 2024<br>\"\n",
    "    x_label += '<a href=\"https://github.com/probjects/ewf-database\">https://github.com/probjects/ewf-database</a>'\n",
    "    x_label += '</sup>'\n",
    "    fig.update_layout(\n",
    "        autosize=False,\n",
    "        width=800,\n",
    "        height=600,\n",
    "        showlegend=False,\n",
    "        title=go.layout.Title(\n",
    "            text=f\"English Woman's Football, Tier 1  {season} Goal Differential\",\n",
    "            xref=\"paper\",\n",
    "            x=0\n",
    "        ),\n",
    "        xaxis=go.layout.XAxis(\n",
    "            title=go.layout.xaxis.Title(\n",
    "                text=x_label\n",
    "            ),\n",
    "            range=[0, max_row_num+6],\n",
    "            showgrid=False,\n",
    "           \n",
    "        ),\n",
    "        yaxis=go.layout.YAxis(\n",
    "            title=go.layout.yaxis.Title(\n",
    "                text='Season Goal Differential'\n",
    "                ),\n",
    "             showgrid=False,\n",
    "             zeroline=False\n",
    "        )\n",
    "    )\n",
    "\n",
    "    fig.show()   \n"
   ]
  },
  {
   "cell_type": "code",
   "execution_count": null,
   "metadata": {},
   "outputs": [],
   "source": []
  },
  {
   "cell_type": "code",
   "execution_count": null,
   "metadata": {},
   "outputs": [],
   "source": []
  }
 ],
 "metadata": {
  "kernelspec": {
   "display_name": "Python 3",
   "language": "python",
   "name": "python3"
  },
  "language_info": {
   "codemirror_mode": {
    "name": "ipython",
    "version": 3
   },
   "file_extension": ".py",
   "mimetype": "text/x-python",
   "name": "python",
   "nbconvert_exporter": "python",
   "pygments_lexer": "ipython3",
   "version": "3.13.1"
  }
 },
 "nbformat": 4,
 "nbformat_minor": 4
}
