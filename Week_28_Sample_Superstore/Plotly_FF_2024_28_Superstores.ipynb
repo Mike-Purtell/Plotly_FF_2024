{
 "cells": [
  {
   "cell_type": "markdown",
   "metadata": {},
   "source": [
    "## Plotly Figure Friday - July 12, 2024\n",
    "THis notebook is used for experimenting with polars, a new-to-me library for dataframe manipulation and exploratoin.\n"
   ]
  },
  {
   "cell_type": "code",
   "execution_count": null,
   "metadata": {
    "tags": []
   },
   "outputs": [],
   "source": [
    "import polars as pl\n",
    "import plotly\n",
    "import plotly.express as px\n",
    "import plotly.graph_objects as go\n",
    "pl.show_versions()"
   ]
  },
  {
   "cell_type": "markdown",
   "metadata": {
    "tags": []
   },
   "source": [
    "## Read excel file to a dataframe\n",
    "shape is number of rows (devices) by number of columns (tests and test information)\n"
   ]
  },
  {
   "cell_type": "code",
   "execution_count": null,
   "metadata": {},
   "outputs": [],
   "source": [
    "# enumeration list generated in exploratory mode with value counts\n",
    "\n",
    "enum_category = pl.Enum(['Furniture', 'Office Supplies', 'Technology'])\n",
    "enum_country_region = pl.Enum(['Canada', 'United States'])\n",
    "enum_sub_category = pl.Enum(\n",
    "    ['Accessories', 'Appliances', 'Art', 'Binders', 'Bookcases', \n",
    "     'Chairs', 'Copiers', 'Envelopes', 'Fasteners', 'Furnishings', \n",
    "     'Labels', 'Machines', 'Paper', 'Phones', 'Storage', 'Supplies', 'Tables']\n",
    ")\n",
    "enum_region = pl.Enum(['Central', 'East', 'South', 'West'])\n",
    "\n",
    "enum_segment = pl.Enum(['Consumer', 'Corporate', 'Home Office'])\n",
    "enum_ship_mode =  pl.Enum(['First Class', 'Same Day', 'Second Class', 'Standard Class'])\n",
    "\n",
    "\n",
    "df = (\n",
    "    pl.read_excel('Sample - Superstore.xlsx')\n",
    "    .with_columns(\n",
    "        pl.col('Category').cast(enum_category),\n",
    "        pl.col('Sub-Category').cast(enum_sub_category),\n",
    "        pl.col('Country/Region').cast(enum_country_region),\n",
    "        pl.col('Region').cast(enum_region),\n",
    "        pl.col('Ship Mode').cast(enum_ship_mode),\n",
    "        pl.col('Segment').cast(enum_segment),\n",
    "        SHIP_YEAR = pl.col('Ship Date').dt.year(),\n",
    "        SHIP_MONTH = pl.col('Ship Date').dt.month(),\n",
    "        \n",
    "    )\n",
    ")\n",
    "df.sample(5)"
   ]
  },
  {
   "cell_type": "markdown",
   "metadata": {},
   "source": [
    "## Total Sales by month, year and country\n",
    "\n"
   ]
  },
  {
   "cell_type": "code",
   "execution_count": null,
   "metadata": {},
   "outputs": [],
   "source": [
    "df_sales_by_year_month_country = (\n",
    "    df.group_by(['SHIP_YEAR', 'SHIP_MONTH', 'Country/Region']).agg(pl.col('Sales').sum())\n",
    "    .pivot(index = ['SHIP_YEAR', 'SHIP_MONTH'],\n",
    "           on = 'Country/Region')\n",
    "    .sort('SHIP_YEAR', 'SHIP_MONTH')\n",
    ")\n",
    "df_sales_by_year_month_country\n"
   ]
  },
  {
   "cell_type": "code",
   "execution_count": null,
   "metadata": {},
   "outputs": [],
   "source": [
    "df = (\n",
    "    df.group_by(['SHIP_YEAR', 'SHIP_MONTH', 'Country/Region']).agg(pl.col('Profit').sum())\n",
    "    .pivot(index = ['SHIP_YEAR', 'SHIP_MONTH'],\n",
    "           on = 'Country/Region')\n",
    "    .sort('SHIP_YEAR', 'SHIP_MONTH')\n",
    "    .with_columns(YEAR_MONTH = pl.col('SHIP_YEAR').cast(pl.String) + '_' + pl.col('SHIP_MONTH').cast(pl.String).str.zfill(2))\n",
    "    .with_columns(dt_YEAR_MONTH = pl.col('SHIP_YEAR').cast(pl.String) + '_' + pl.col('SHIP_MONTH').cast(pl.String).str.zfill(2))\n",
    ")\n",
    "df"
   ]
  },
  {
   "cell_type": "code",
   "execution_count": null,
   "metadata": {},
   "outputs": [],
   "source": [
    "canada_red = '#FF0000'\n",
    "usa_blue ='#0000FF'\n",
    "fig = px.line(\n",
    "    df, \n",
    "    x=\"YEAR_MONTH\", \n",
    "    y=['Canada', 'United States'],\n",
    "    template=\"simple_white\",\n",
    "    color_discrete_map={\n",
    "        \"Canada\": canada_red,\n",
    "        \"United States\": usa_blue\n",
    "    },\n",
    ")\n",
    "fig.update_traces(line=dict(width=1))\n",
    "\n",
    "usa_mean = df['United States'].mean()\n",
    "canada_mean = df['Canada'].mean()\n",
    "\n",
    "fig.update_layout(\n",
    "    autosize=False,\n",
    "    width=800,\n",
    "    height=600,\n",
    "    font_family='arial',\n",
    "    font_color='gray',\n",
    "    title_font_family='arial',\n",
    "    title_font_color='gray',\n",
    "    legend_title_font_color='gray',\n",
    ")\n",
    "fig.add_hline(y=canada_mean, line_width=2, line_dash='dot', line_color=\"gray\")\n",
    "fig.add_hline(y=usa_mean, line_width=2, line_dash='dot', line_color=\"gray\")\n",
    "# fig.annotate('USA', x=1.0, y=usa_mean, )   # line_width=3, line_dash='dot', line_color=\"gray\")\n",
    "fig.add_annotation(\n",
    "    dict(\n",
    "        font=dict(color=usa_blue,size=12),\n",
    "        x=1.02,\n",
    "        y=usa_mean,\n",
    "        showarrow=False,\n",
    "        text=f'${usa_mean:,.0f} (USA AVG)',\n",
    "        textangle=0,\n",
    "        xanchor='left',\n",
    "        xref=\"paper\",\n",
    "       )\n",
    "  )\n",
    "fig.add_annotation(\n",
    "    dict(\n",
    "        font=dict(\n",
    "            color=canada_red,\n",
    "            size=12\n",
    "        ),\n",
    "        x=1.02,\n",
    "        y=canada_mean,\n",
    "        showarrow=False,\n",
    "        text=f'${canada_mean:,.0f} (CANADA AVG) ',\n",
    "        textangle=0,\n",
    "        xanchor='left',\n",
    "        xref=\"paper\",\n",
    "        # yref=\"paper\")\n",
    "       )\n",
    "  )\n",
    "fig.update_layout(title='Sales by Country, USA vs Canada',  font = dict(size=24))\n",
    "fig.update_layout(xaxis_title='')\n",
    "fig.update_layout(yaxis_title='SALES (US$)', font = dict(size=16))\n",
    "\n",
    "\n",
    "fig.update_layout(legend_title='Country')\n",
    "\n",
    "annotate_string = (\n",
    "    f'<b><span style=\"color: {usa_blue}\">USA</b> population is 8.5x larger than ' +\n",
    "    f'<b><span style=\"color: {canada_red}\">Canada</b>, sales volume is 37x larger.<br>' +\n",
    "    f'<b>Call to Action:</b> Improve sales volume in <b><span style=\"color: {canada_red}\">Canada</b> and ' +\n",
    "    f'figure out why <span style=\"color: {usa_blue}\">USA</b> sales vary so wildly'\n",
    ")\n",
    "fig.add_annotation(\n",
    "    text= annotate_string,\n",
    "    align='left',\n",
    "    showarrow=False,\n",
    "    xref='paper',\n",
    "    yref='paper',\n",
    "    x=0.02,\n",
    "    y=1.04,\n",
    "    font = dict(size=12)\n",
    ")\n",
    "\n",
    "fig.show()\n",
    "fig.write_html('USA_Canada_Sales.html')"
   ]
  }
 ],
 "metadata": {
  "kernelspec": {
   "display_name": "Python 3",
   "language": "python",
   "name": "python3"
  },
  "language_info": {
   "codemirror_mode": {
    "name": "ipython",
    "version": 3
   },
   "file_extension": ".py",
   "mimetype": "text/x-python",
   "name": "python",
   "nbconvert_exporter": "python",
   "pygments_lexer": "ipython3",
   "version": "3.13.1"
  }
 },
 "nbformat": 4,
 "nbformat_minor": 4
}
