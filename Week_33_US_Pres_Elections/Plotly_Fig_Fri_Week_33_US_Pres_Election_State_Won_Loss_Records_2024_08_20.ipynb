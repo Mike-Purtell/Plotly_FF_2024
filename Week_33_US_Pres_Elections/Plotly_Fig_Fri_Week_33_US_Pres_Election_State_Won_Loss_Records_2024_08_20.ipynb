{
 "cells": [
  {
   "cell_type": "markdown",
   "metadata": {},
   "source": [
    "## Aug 20, 2024 - Plotly Figure Friday - Week 33 - US Presidential Elections\n",
    "State win-loss records\n"
   ]
  },
  {
   "cell_type": "code",
   "execution_count": 1,
   "metadata": {},
   "outputs": [
    {
     "name": "stdout",
     "output_type": "stream",
     "text": [
      "df_election_winners =  <LazyFrame at 0x25D6FE64690>\n",
      "df_election_winners.collect_schema() =  Schema({'YEAR': Int16, 'WINNER': String})\n",
      "df_election_winners.describe =  <bound method LazyFrame.describe of <LazyFrame at 0x25D6FE64690>>\n",
      "df_election_winners.inspect =  <bound method LazyFrame.inspect of <LazyFrame at 0x25D6FE64690>>\n",
      "df_state_winners.head(2) = shape: (2, 52)\n",
      "┌──────┬────────────┬────────────┬────────────┬───┬────────────┬───────────┬───────────┬───────────┐\n",
      "│ YEAR ┆ ALABAMA    ┆ ALASKA     ┆ ARIZONA    ┆ … ┆ WASHINGTON ┆ WEST      ┆ WISCONSIN ┆ WYOMING   │\n",
      "│ ---  ┆ ---        ┆ ---        ┆ ---        ┆   ┆ ---        ┆ VIRGINIA  ┆ ---       ┆ ---       │\n",
      "│ str  ┆ str        ┆ str        ┆ str        ┆   ┆ str        ┆ ---       ┆ str       ┆ str       │\n",
      "│      ┆            ┆            ┆            ┆   ┆            ┆ str       ┆           ┆           │\n",
      "╞══════╪════════════╪════════════╪════════════╪═══╪════════════╪═══════════╪═══════════╪═══════════╡\n",
      "│ 1976 ┆ Democrat   ┆ Republican ┆ Republican ┆ … ┆ Republican ┆ Democrat  ┆ Democrat  ┆ Republica │\n",
      "│      ┆            ┆            ┆            ┆   ┆            ┆           ┆           ┆ n         │\n",
      "│ 1980 ┆ Republican ┆ Republican ┆ Republican ┆ … ┆ Republican ┆ Democrat  ┆ Republica ┆ Republica │\n",
      "│      ┆            ┆            ┆            ┆   ┆            ┆           ┆ n         ┆ n         │\n",
      "└──────┴────────────┴────────────┴────────────┴───┴────────────┴───────────┴───────────┴───────────┘\n",
      "Rows: 12\n",
      "Columns: 52\n",
      "$ YEAR                 <str> '1976', '1980', '1984', '1988', '1992', '1996', '2000', '2004', '2008', '2012'\n",
      "$ ALABAMA              <str> 'Democrat', 'Republican', 'Republican', 'Republican', 'Republican', 'Republican', 'Republican', 'Republican', 'Republican', 'Republican'\n",
      "$ ALASKA               <str> 'Republican', 'Republican', 'Republican', 'Republican', 'Republican', 'Republican', 'Republican', 'Republican', 'Republican', 'Republican'\n",
      "$ ARIZONA              <str> 'Republican', 'Republican', 'Republican', 'Republican', 'Republican', 'Democrat', 'Republican', 'Republican', 'Republican', 'Republican'\n",
      "$ ARKANSAS             <str> 'Democrat', 'Republican', 'Republican', 'Republican', 'Democrat', 'Democrat', 'Republican', 'Republican', 'Republican', 'Republican'\n",
      "$ CALIFORNIA           <str> 'Republican', 'Republican', 'Republican', 'Republican', 'Democrat', 'Democrat', 'Democrat', 'Democrat', 'Democrat', 'Democrat'\n",
      "$ COLORADO             <str> 'Republican', 'Republican', 'Republican', 'Republican', 'Democrat', 'Republican', 'Republican', 'Republican', 'Democrat', 'Democrat'\n",
      "$ CONNECTICUT          <str> 'Republican', 'Republican', 'Republican', 'Republican', 'Democrat', 'Democrat', 'Democrat', 'Democrat', 'Democrat', 'Democrat'\n",
      "$ DELAWARE             <str> 'Democrat', 'Republican', 'Republican', 'Republican', 'Democrat', 'Democrat', 'Democrat', 'Democrat', 'Democrat', 'Democrat'\n",
      "$ DISTRICT OF COLUMBIA <str> 'Democrat', 'Democrat', 'Democrat', 'Democrat', 'Democrat', 'Democrat', 'Democrat', 'Democrat', 'Democrat', 'Democrat'\n",
      "$ FLORIDA              <str> 'Democrat', 'Republican', 'Republican', 'Republican', 'Republican', 'Democrat', 'Republican', 'Republican', 'Democrat', 'Democrat'\n",
      "$ GEORGIA              <str> 'Democrat', 'Democrat', 'Republican', 'Republican', 'Democrat', 'Republican', 'Republican', 'Republican', 'Republican', 'Republican'\n",
      "$ HAWAII               <str> 'Democrat', 'Democrat', 'Republican', 'Democrat', 'Democrat', 'Democrat', 'Democrat', 'Democrat', 'Democrat', 'Democrat'\n",
      "$ IDAHO                <str> 'Republican', 'Republican', 'Republican', 'Republican', 'Republican', 'Republican', 'Republican', 'Republican', 'Republican', 'Republican'\n",
      "$ ILLINOIS             <str> 'Republican', 'Republican', 'Republican', 'Republican', 'Democrat', 'Democrat', 'Democrat', 'Democrat', 'Democrat', 'Democrat'\n",
      "$ INDIANA              <str> 'Republican', 'Republican', 'Republican', 'Republican', 'Republican', 'Republican', 'Republican', 'Republican', 'Democrat', 'Republican'\n",
      "$ IOWA                 <str> 'Republican', 'Republican', 'Republican', 'Democrat', 'Democrat', 'Democrat', 'Democrat', 'Republican', 'Democrat', 'Democrat'\n",
      "$ KANSAS               <str> 'Republican', 'Republican', 'Republican', 'Republican', 'Republican', 'Republican', 'Republican', 'Republican', 'Republican', 'Republican'\n",
      "$ KENTUCKY             <str> 'Democrat', 'Republican', 'Republican', 'Republican', 'Democrat', 'Democrat', 'Republican', 'Republican', 'Republican', 'Republican'\n",
      "$ LOUISIANA            <str> 'Democrat', 'Republican', 'Republican', 'Republican', 'Democrat', 'Democrat', 'Republican', 'Republican', 'Republican', 'Republican'\n",
      "$ MAINE                <str> 'Republican', 'Republican', 'Republican', 'Republican', 'Democrat', 'Democrat', 'Democrat', 'Democrat', 'Democrat', 'Democrat'\n",
      "$ MARYLAND             <str> 'Democrat', 'Democrat', 'Republican', 'Republican', 'Democrat', 'Democrat', 'Democrat', 'Democrat', 'Democrat', 'Democrat'\n",
      "$ MASSACHUSETTS        <str> 'Democrat', 'Republican', 'Republican', 'Democrat', 'Democrat', 'Democrat', 'Democrat', 'Democrat', 'Democrat', 'Democrat'\n",
      "$ MICHIGAN             <str> 'Republican', 'Republican', 'Republican', 'Republican', 'Democrat', 'Democrat', 'Democrat', 'Democrat', 'Democrat', 'Democrat'\n",
      "$ MINNESOTA            <str> 'Democrat', 'Democrat', 'Democrat', 'Democrat', 'Democrat', 'Democrat', 'Democrat', 'Democrat', 'Democrat', 'Democrat'\n",
      "$ MISSISSIPPI          <str> 'Democrat', 'Republican', 'Republican', 'Republican', 'Republican', 'Republican', 'Republican', 'Republican', 'Republican', 'Republican'\n",
      "$ MISSOURI             <str> 'Democrat', 'Republican', 'Republican', 'Republican', 'Democrat', 'Democrat', 'Republican', 'Republican', 'Republican', 'Republican'\n",
      "$ MONTANA              <str> 'Republican', 'Republican', 'Republican', 'Republican', 'Democrat', 'Republican', 'Republican', 'Republican', 'Republican', 'Republican'\n",
      "$ NEBRASKA             <str> 'Republican', 'Republican', 'Republican', 'Republican', 'Republican', 'Republican', 'Republican', 'Republican', 'Republican', 'Republican'\n",
      "$ NEVADA               <str> 'Republican', 'Republican', 'Republican', 'Republican', 'Democrat', 'Democrat', 'Republican', 'Republican', 'Democrat', 'Democrat'\n",
      "$ NEW HAMPSHIRE        <str> 'Republican', 'Republican', 'Republican', 'Republican', 'Democrat', 'Democrat', 'Republican', 'Democrat', 'Democrat', 'Democrat'\n",
      "$ NEW JERSEY           <str> 'Republican', 'Republican', 'Republican', 'Republican', 'Democrat', 'Democrat', 'Democrat', 'Democrat', 'Democrat', 'Democrat'\n",
      "$ NEW MEXICO           <str> 'Republican', 'Republican', 'Republican', 'Republican', 'Democrat', 'Democrat', 'Democrat', 'Republican', 'Democrat', 'Democrat'\n",
      "$ NEW YORK             <str> 'Democrat', 'Democrat', 'Republican', 'Democrat', 'Democrat', 'Democrat', 'Democrat', 'Democrat', 'Democrat', 'Democrat'\n",
      "$ NORTH CAROLINA       <str> 'Democrat', 'Republican', 'Republican', 'Republican', 'Republican', 'Republican', 'Republican', 'Republican', 'Democrat', 'Republican'\n",
      "$ NORTH DAKOTA         <str> 'Republican', 'Republican', 'Republican', 'Republican', 'Republican', 'Republican', 'Republican', 'Republican', 'Republican', 'Republican'\n",
      "$ OHIO                 <str> 'Democrat', 'Republican', 'Republican', 'Republican', 'Democrat', 'Democrat', 'Republican', 'Republican', 'Democrat', 'Democrat'\n",
      "$ OKLAHOMA             <str> 'Republican', 'Republican', 'Republican', 'Republican', 'Republican', 'Republican', 'Republican', 'Republican', 'Republican', 'Republican'\n",
      "$ OREGON               <str> 'Republican', 'Republican', 'Republican', 'Democrat', 'Democrat', 'Democrat', 'Democrat', 'Democrat', 'Democrat', 'Democrat'\n",
      "$ PENNSYLVANIA         <str> 'Democrat', 'Republican', 'Republican', 'Republican', 'Democrat', 'Democrat', 'Democrat', 'Democrat', 'Democrat', 'Democrat'\n",
      "$ RHODE ISLAND         <str> 'Democrat', 'Democrat', 'Republican', 'Democrat', 'Democrat', 'Democrat', 'Democrat', 'Democrat', 'Democrat', 'Democrat'\n",
      "$ SOUTH CAROLINA       <str> 'Democrat', 'Republican', 'Republican', 'Republican', 'Republican', 'Republican', 'Republican', 'Republican', 'Republican', 'Republican'\n",
      "$ SOUTH DAKOTA         <str> 'Republican', 'Republican', 'Republican', 'Republican', 'Republican', 'Republican', 'Republican', 'Republican', 'Republican', 'Republican'\n",
      "$ TENNESSEE            <str> 'Democrat', 'Republican', 'Republican', 'Republican', 'Democrat', 'Democrat', 'Republican', 'Republican', 'Republican', 'Republican'\n",
      "$ TEXAS                <str> 'Democrat', 'Republican', 'Republican', 'Republican', 'Republican', 'Republican', 'Republican', 'Republican', 'Republican', 'Republican'\n",
      "$ UTAH                 <str> 'Republican', 'Republican', 'Republican', 'Republican', 'Republican', 'Republican', 'Republican', 'Republican', 'Republican', 'Republican'\n",
      "$ VERMONT              <str> 'Republican', 'Republican', 'Republican', 'Republican', 'Democrat', 'Democrat', 'Democrat', 'Democrat', 'Democrat', 'Democrat'\n",
      "$ VIRGINIA             <str> 'Republican', 'Republican', 'Republican', 'Republican', 'Republican', 'Republican', 'Republican', 'Republican', 'Democrat', 'Democrat'\n",
      "$ WASHINGTON           <str> 'Republican', 'Republican', 'Republican', 'Democrat', 'Democrat', 'Democrat', 'Democrat', 'Democrat', 'Democrat', 'Democrat'\n",
      "$ WEST VIRGINIA        <str> 'Democrat', 'Democrat', 'Republican', 'Democrat', 'Democrat', 'Democrat', 'Republican', 'Republican', 'Republican', 'Republican'\n",
      "$ WISCONSIN            <str> 'Democrat', 'Republican', 'Republican', 'Democrat', 'Democrat', 'Democrat', 'Democrat', 'Democrat', 'Democrat', 'Democrat'\n",
      "$ WYOMING              <str> 'Republican', 'Republican', 'Republican', 'Republican', 'Republican', 'Republican', 'Republican', 'Republican', 'Republican', 'Republican'\n",
      "\n",
      "df_state_winners.glimpse() = None\n"
     ]
    },
    {
     "data": {
      "application/vnd.plotly.v1+json": {
       "config": {
        "plotlyServerURL": "https://plot.ly"
       },
       "data": [
        {
         "hovertemplate": "variable=ALABAMA<br>YEAR=%{x}<br>value=%{y}<extra></extra>",
         "legendgroup": "ALABAMA",
         "marker": {
          "color": "#636efa",
          "line": {
           "width": 0
          },
          "size": 12,
          "symbol": "circle"
         },
         "mode": "markers+lines",
         "name": "ALABAMA",
         "orientation": "v",
         "showlegend": true,
         "type": "scatter",
         "x": [
          "1976",
          "1980",
          "1984",
          "1988",
          "1992",
          "1996",
          "2000",
          "2004",
          "2008",
          "2012",
          "2016",
          "2020"
         ],
         "xaxis": "x",
         "y": [
          "Democrat",
          "Republican",
          "Republican",
          "Republican",
          "Republican",
          "Republican",
          "Republican",
          "Republican",
          "Republican",
          "Republican",
          "Republican",
          "Republican"
         ],
         "yaxis": "y"
        },
        {
         "hovertemplate": "variable=ALASKA<br>YEAR=%{x}<br>value=%{y}<extra></extra>",
         "legendgroup": "ALASKA",
         "marker": {
          "color": "#EF553B",
          "line": {
           "width": 0
          },
          "size": 12,
          "symbol": "circle"
         },
         "mode": "markers+lines",
         "name": "ALASKA",
         "orientation": "v",
         "showlegend": true,
         "type": "scatter",
         "x": [
          "1976",
          "1980",
          "1984",
          "1988",
          "1992",
          "1996",
          "2000",
          "2004",
          "2008",
          "2012",
          "2016",
          "2020"
         ],
         "xaxis": "x",
         "y": [
          "Republican",
          "Republican",
          "Republican",
          "Republican",
          "Republican",
          "Republican",
          "Republican",
          "Republican",
          "Republican",
          "Republican",
          "Republican",
          "Republican"
         ],
         "yaxis": "y"
        },
        {
         "hovertemplate": "variable=ARIZONA<br>YEAR=%{x}<br>value=%{y}<extra></extra>",
         "legendgroup": "ARIZONA",
         "marker": {
          "color": "#00cc96",
          "line": {
           "width": 0
          },
          "size": 12,
          "symbol": "circle"
         },
         "mode": "markers+lines",
         "name": "ARIZONA",
         "orientation": "v",
         "showlegend": true,
         "type": "scatter",
         "x": [
          "1976",
          "1980",
          "1984",
          "1988",
          "1992",
          "1996",
          "2000",
          "2004",
          "2008",
          "2012",
          "2016",
          "2020"
         ],
         "xaxis": "x",
         "y": [
          "Republican",
          "Republican",
          "Republican",
          "Republican",
          "Republican",
          "Democrat",
          "Republican",
          "Republican",
          "Republican",
          "Republican",
          "Republican",
          "Democrat"
         ],
         "yaxis": "y"
        },
        {
         "hovertemplate": "variable=ARKANSAS<br>YEAR=%{x}<br>value=%{y}<extra></extra>",
         "legendgroup": "ARKANSAS",
         "marker": {
          "color": "#ab63fa",
          "line": {
           "width": 0
          },
          "size": 12,
          "symbol": "circle"
         },
         "mode": "markers+lines",
         "name": "ARKANSAS",
         "orientation": "v",
         "showlegend": true,
         "type": "scatter",
         "x": [
          "1976",
          "1980",
          "1984",
          "1988",
          "1992",
          "1996",
          "2000",
          "2004",
          "2008",
          "2012",
          "2016",
          "2020"
         ],
         "xaxis": "x",
         "y": [
          "Democrat",
          "Republican",
          "Republican",
          "Republican",
          "Democrat",
          "Democrat",
          "Republican",
          "Republican",
          "Republican",
          "Republican",
          "Republican",
          "Republican"
         ],
         "yaxis": "y"
        },
        {
         "hovertemplate": "variable=CALIFORNIA<br>YEAR=%{x}<br>value=%{y}<extra></extra>",
         "legendgroup": "CALIFORNIA",
         "marker": {
          "color": "#FFA15A",
          "line": {
           "width": 0
          },
          "size": 12,
          "symbol": "circle"
         },
         "mode": "markers+lines",
         "name": "CALIFORNIA",
         "orientation": "v",
         "showlegend": true,
         "type": "scatter",
         "x": [
          "1976",
          "1980",
          "1984",
          "1988",
          "1992",
          "1996",
          "2000",
          "2004",
          "2008",
          "2012",
          "2016",
          "2020"
         ],
         "xaxis": "x",
         "y": [
          "Republican",
          "Republican",
          "Republican",
          "Republican",
          "Democrat",
          "Democrat",
          "Democrat",
          "Democrat",
          "Democrat",
          "Democrat",
          "Democrat",
          "Democrat"
         ],
         "yaxis": "y"
        },
        {
         "hovertemplate": "variable=COLORADO<br>YEAR=%{x}<br>value=%{y}<extra></extra>",
         "legendgroup": "COLORADO",
         "marker": {
          "color": "#19d3f3",
          "line": {
           "width": 0
          },
          "size": 12,
          "symbol": "circle"
         },
         "mode": "markers+lines",
         "name": "COLORADO",
         "orientation": "v",
         "showlegend": true,
         "type": "scatter",
         "x": [
          "1976",
          "1980",
          "1984",
          "1988",
          "1992",
          "1996",
          "2000",
          "2004",
          "2008",
          "2012",
          "2016",
          "2020"
         ],
         "xaxis": "x",
         "y": [
          "Republican",
          "Republican",
          "Republican",
          "Republican",
          "Democrat",
          "Republican",
          "Republican",
          "Republican",
          "Democrat",
          "Democrat",
          "Democrat",
          "Democrat"
         ],
         "yaxis": "y"
        },
        {
         "hovertemplate": "variable=CONNECTICUT<br>YEAR=%{x}<br>value=%{y}<extra></extra>",
         "legendgroup": "CONNECTICUT",
         "marker": {
          "color": "#FF6692",
          "line": {
           "width": 0
          },
          "size": 12,
          "symbol": "circle"
         },
         "mode": "markers+lines",
         "name": "CONNECTICUT",
         "orientation": "v",
         "showlegend": true,
         "type": "scatter",
         "x": [
          "1976",
          "1980",
          "1984",
          "1988",
          "1992",
          "1996",
          "2000",
          "2004",
          "2008",
          "2012",
          "2016",
          "2020"
         ],
         "xaxis": "x",
         "y": [
          "Republican",
          "Republican",
          "Republican",
          "Republican",
          "Democrat",
          "Democrat",
          "Democrat",
          "Democrat",
          "Democrat",
          "Democrat",
          "Democrat",
          "Democrat"
         ],
         "yaxis": "y"
        },
        {
         "hovertemplate": "variable=DELAWARE<br>YEAR=%{x}<br>value=%{y}<extra></extra>",
         "legendgroup": "DELAWARE",
         "marker": {
          "color": "#B6E880",
          "line": {
           "width": 0
          },
          "size": 12,
          "symbol": "circle"
         },
         "mode": "markers+lines",
         "name": "DELAWARE",
         "orientation": "v",
         "showlegend": true,
         "type": "scatter",
         "x": [
          "1976",
          "1980",
          "1984",
          "1988",
          "1992",
          "1996",
          "2000",
          "2004",
          "2008",
          "2012",
          "2016",
          "2020"
         ],
         "xaxis": "x",
         "y": [
          "Democrat",
          "Republican",
          "Republican",
          "Republican",
          "Democrat",
          "Democrat",
          "Democrat",
          "Democrat",
          "Democrat",
          "Democrat",
          "Democrat",
          "Democrat"
         ],
         "yaxis": "y"
        },
        {
         "hovertemplate": "variable=DISTRICT OF COLUMBIA<br>YEAR=%{x}<br>value=%{y}<extra></extra>",
         "legendgroup": "DISTRICT OF COLUMBIA",
         "marker": {
          "color": "#FF97FF",
          "line": {
           "width": 0
          },
          "size": 12,
          "symbol": "circle"
         },
         "mode": "markers+lines",
         "name": "DISTRICT OF COLUMBIA",
         "orientation": "v",
         "showlegend": true,
         "type": "scatter",
         "x": [
          "1976",
          "1980",
          "1984",
          "1988",
          "1992",
          "1996",
          "2000",
          "2004",
          "2008",
          "2012",
          "2016",
          "2020"
         ],
         "xaxis": "x",
         "y": [
          "Democrat",
          "Democrat",
          "Democrat",
          "Democrat",
          "Democrat",
          "Democrat",
          "Democrat",
          "Democrat",
          "Democrat",
          "Democrat",
          "Democrat",
          "Democrat"
         ],
         "yaxis": "y"
        },
        {
         "hovertemplate": "variable=FLORIDA<br>YEAR=%{x}<br>value=%{y}<extra></extra>",
         "legendgroup": "FLORIDA",
         "marker": {
          "color": "#FECB52",
          "line": {
           "width": 0
          },
          "size": 12,
          "symbol": "circle"
         },
         "mode": "markers+lines",
         "name": "FLORIDA",
         "orientation": "v",
         "showlegend": true,
         "type": "scatter",
         "x": [
          "1976",
          "1980",
          "1984",
          "1988",
          "1992",
          "1996",
          "2000",
          "2004",
          "2008",
          "2012",
          "2016",
          "2020"
         ],
         "xaxis": "x",
         "y": [
          "Democrat",
          "Republican",
          "Republican",
          "Republican",
          "Republican",
          "Democrat",
          "Republican",
          "Republican",
          "Democrat",
          "Democrat",
          "Republican",
          "Republican"
         ],
         "yaxis": "y"
        },
        {
         "hovertemplate": "variable=GEORGIA<br>YEAR=%{x}<br>value=%{y}<extra></extra>",
         "legendgroup": "GEORGIA",
         "marker": {
          "color": "#636efa",
          "line": {
           "width": 0
          },
          "size": 12,
          "symbol": "circle"
         },
         "mode": "markers+lines",
         "name": "GEORGIA",
         "orientation": "v",
         "showlegend": true,
         "type": "scatter",
         "x": [
          "1976",
          "1980",
          "1984",
          "1988",
          "1992",
          "1996",
          "2000",
          "2004",
          "2008",
          "2012",
          "2016",
          "2020"
         ],
         "xaxis": "x",
         "y": [
          "Democrat",
          "Democrat",
          "Republican",
          "Republican",
          "Democrat",
          "Republican",
          "Republican",
          "Republican",
          "Republican",
          "Republican",
          "Republican",
          "Democrat"
         ],
         "yaxis": "y"
        },
        {
         "hovertemplate": "variable=HAWAII<br>YEAR=%{x}<br>value=%{y}<extra></extra>",
         "legendgroup": "HAWAII",
         "marker": {
          "color": "#EF553B",
          "line": {
           "width": 0
          },
          "size": 12,
          "symbol": "circle"
         },
         "mode": "markers+lines",
         "name": "HAWAII",
         "orientation": "v",
         "showlegend": true,
         "type": "scatter",
         "x": [
          "1976",
          "1980",
          "1984",
          "1988",
          "1992",
          "1996",
          "2000",
          "2004",
          "2008",
          "2012",
          "2016",
          "2020"
         ],
         "xaxis": "x",
         "y": [
          "Democrat",
          "Democrat",
          "Republican",
          "Democrat",
          "Democrat",
          "Democrat",
          "Democrat",
          "Democrat",
          "Democrat",
          "Democrat",
          "Democrat",
          "Democrat"
         ],
         "yaxis": "y"
        },
        {
         "hovertemplate": "variable=IDAHO<br>YEAR=%{x}<br>value=%{y}<extra></extra>",
         "legendgroup": "IDAHO",
         "marker": {
          "color": "#00cc96",
          "line": {
           "width": 0
          },
          "size": 12,
          "symbol": "circle"
         },
         "mode": "markers+lines",
         "name": "IDAHO",
         "orientation": "v",
         "showlegend": true,
         "type": "scatter",
         "x": [
          "1976",
          "1980",
          "1984",
          "1988",
          "1992",
          "1996",
          "2000",
          "2004",
          "2008",
          "2012",
          "2016",
          "2020"
         ],
         "xaxis": "x",
         "y": [
          "Republican",
          "Republican",
          "Republican",
          "Republican",
          "Republican",
          "Republican",
          "Republican",
          "Republican",
          "Republican",
          "Republican",
          "Republican",
          "Republican"
         ],
         "yaxis": "y"
        },
        {
         "hovertemplate": "variable=ILLINOIS<br>YEAR=%{x}<br>value=%{y}<extra></extra>",
         "legendgroup": "ILLINOIS",
         "marker": {
          "color": "#ab63fa",
          "line": {
           "width": 0
          },
          "size": 12,
          "symbol": "circle"
         },
         "mode": "markers+lines",
         "name": "ILLINOIS",
         "orientation": "v",
         "showlegend": true,
         "type": "scatter",
         "x": [
          "1976",
          "1980",
          "1984",
          "1988",
          "1992",
          "1996",
          "2000",
          "2004",
          "2008",
          "2012",
          "2016",
          "2020"
         ],
         "xaxis": "x",
         "y": [
          "Republican",
          "Republican",
          "Republican",
          "Republican",
          "Democrat",
          "Democrat",
          "Democrat",
          "Democrat",
          "Democrat",
          "Democrat",
          "Democrat",
          "Democrat"
         ],
         "yaxis": "y"
        },
        {
         "hovertemplate": "variable=INDIANA<br>YEAR=%{x}<br>value=%{y}<extra></extra>",
         "legendgroup": "INDIANA",
         "marker": {
          "color": "#FFA15A",
          "line": {
           "width": 0
          },
          "size": 12,
          "symbol": "circle"
         },
         "mode": "markers+lines",
         "name": "INDIANA",
         "orientation": "v",
         "showlegend": true,
         "type": "scatter",
         "x": [
          "1976",
          "1980",
          "1984",
          "1988",
          "1992",
          "1996",
          "2000",
          "2004",
          "2008",
          "2012",
          "2016",
          "2020"
         ],
         "xaxis": "x",
         "y": [
          "Republican",
          "Republican",
          "Republican",
          "Republican",
          "Republican",
          "Republican",
          "Republican",
          "Republican",
          "Democrat",
          "Republican",
          "Republican",
          "Republican"
         ],
         "yaxis": "y"
        },
        {
         "hovertemplate": "variable=IOWA<br>YEAR=%{x}<br>value=%{y}<extra></extra>",
         "legendgroup": "IOWA",
         "marker": {
          "color": "#19d3f3",
          "line": {
           "width": 0
          },
          "size": 12,
          "symbol": "circle"
         },
         "mode": "markers+lines",
         "name": "IOWA",
         "orientation": "v",
         "showlegend": true,
         "type": "scatter",
         "x": [
          "1976",
          "1980",
          "1984",
          "1988",
          "1992",
          "1996",
          "2000",
          "2004",
          "2008",
          "2012",
          "2016",
          "2020"
         ],
         "xaxis": "x",
         "y": [
          "Republican",
          "Republican",
          "Republican",
          "Democrat",
          "Democrat",
          "Democrat",
          "Democrat",
          "Republican",
          "Democrat",
          "Democrat",
          "Republican",
          "Republican"
         ],
         "yaxis": "y"
        },
        {
         "hovertemplate": "variable=KANSAS<br>YEAR=%{x}<br>value=%{y}<extra></extra>",
         "legendgroup": "KANSAS",
         "marker": {
          "color": "#FF6692",
          "line": {
           "width": 0
          },
          "size": 12,
          "symbol": "circle"
         },
         "mode": "markers+lines",
         "name": "KANSAS",
         "orientation": "v",
         "showlegend": true,
         "type": "scatter",
         "x": [
          "1976",
          "1980",
          "1984",
          "1988",
          "1992",
          "1996",
          "2000",
          "2004",
          "2008",
          "2012",
          "2016",
          "2020"
         ],
         "xaxis": "x",
         "y": [
          "Republican",
          "Republican",
          "Republican",
          "Republican",
          "Republican",
          "Republican",
          "Republican",
          "Republican",
          "Republican",
          "Republican",
          "Republican",
          "Republican"
         ],
         "yaxis": "y"
        },
        {
         "hovertemplate": "variable=KENTUCKY<br>YEAR=%{x}<br>value=%{y}<extra></extra>",
         "legendgroup": "KENTUCKY",
         "marker": {
          "color": "#B6E880",
          "line": {
           "width": 0
          },
          "size": 12,
          "symbol": "circle"
         },
         "mode": "markers+lines",
         "name": "KENTUCKY",
         "orientation": "v",
         "showlegend": true,
         "type": "scatter",
         "x": [
          "1976",
          "1980",
          "1984",
          "1988",
          "1992",
          "1996",
          "2000",
          "2004",
          "2008",
          "2012",
          "2016",
          "2020"
         ],
         "xaxis": "x",
         "y": [
          "Democrat",
          "Republican",
          "Republican",
          "Republican",
          "Democrat",
          "Democrat",
          "Republican",
          "Republican",
          "Republican",
          "Republican",
          "Republican",
          "Republican"
         ],
         "yaxis": "y"
        },
        {
         "hovertemplate": "variable=LOUISIANA<br>YEAR=%{x}<br>value=%{y}<extra></extra>",
         "legendgroup": "LOUISIANA",
         "marker": {
          "color": "#FF97FF",
          "line": {
           "width": 0
          },
          "size": 12,
          "symbol": "circle"
         },
         "mode": "markers+lines",
         "name": "LOUISIANA",
         "orientation": "v",
         "showlegend": true,
         "type": "scatter",
         "x": [
          "1976",
          "1980",
          "1984",
          "1988",
          "1992",
          "1996",
          "2000",
          "2004",
          "2008",
          "2012",
          "2016",
          "2020"
         ],
         "xaxis": "x",
         "y": [
          "Democrat",
          "Republican",
          "Republican",
          "Republican",
          "Democrat",
          "Democrat",
          "Republican",
          "Republican",
          "Republican",
          "Republican",
          "Republican",
          "Republican"
         ],
         "yaxis": "y"
        },
        {
         "hovertemplate": "variable=MAINE<br>YEAR=%{x}<br>value=%{y}<extra></extra>",
         "legendgroup": "MAINE",
         "marker": {
          "color": "#FECB52",
          "line": {
           "width": 0
          },
          "size": 12,
          "symbol": "circle"
         },
         "mode": "markers+lines",
         "name": "MAINE",
         "orientation": "v",
         "showlegend": true,
         "type": "scatter",
         "x": [
          "1976",
          "1980",
          "1984",
          "1988",
          "1992",
          "1996",
          "2000",
          "2004",
          "2008",
          "2012",
          "2016",
          "2020"
         ],
         "xaxis": "x",
         "y": [
          "Republican",
          "Republican",
          "Republican",
          "Republican",
          "Democrat",
          "Democrat",
          "Democrat",
          "Democrat",
          "Democrat",
          "Democrat",
          "Democrat",
          "Democrat"
         ],
         "yaxis": "y"
        },
        {
         "hovertemplate": "variable=MARYLAND<br>YEAR=%{x}<br>value=%{y}<extra></extra>",
         "legendgroup": "MARYLAND",
         "marker": {
          "color": "#636efa",
          "line": {
           "width": 0
          },
          "size": 12,
          "symbol": "circle"
         },
         "mode": "markers+lines",
         "name": "MARYLAND",
         "orientation": "v",
         "showlegend": true,
         "type": "scatter",
         "x": [
          "1976",
          "1980",
          "1984",
          "1988",
          "1992",
          "1996",
          "2000",
          "2004",
          "2008",
          "2012",
          "2016",
          "2020"
         ],
         "xaxis": "x",
         "y": [
          "Democrat",
          "Democrat",
          "Republican",
          "Republican",
          "Democrat",
          "Democrat",
          "Democrat",
          "Democrat",
          "Democrat",
          "Democrat",
          "Democrat",
          "Democrat"
         ],
         "yaxis": "y"
        },
        {
         "hovertemplate": "variable=MASSACHUSETTS<br>YEAR=%{x}<br>value=%{y}<extra></extra>",
         "legendgroup": "MASSACHUSETTS",
         "marker": {
          "color": "#EF553B",
          "line": {
           "width": 0
          },
          "size": 12,
          "symbol": "circle"
         },
         "mode": "markers+lines",
         "name": "MASSACHUSETTS",
         "orientation": "v",
         "showlegend": true,
         "type": "scatter",
         "x": [
          "1976",
          "1980",
          "1984",
          "1988",
          "1992",
          "1996",
          "2000",
          "2004",
          "2008",
          "2012",
          "2016",
          "2020"
         ],
         "xaxis": "x",
         "y": [
          "Democrat",
          "Republican",
          "Republican",
          "Democrat",
          "Democrat",
          "Democrat",
          "Democrat",
          "Democrat",
          "Democrat",
          "Democrat",
          "Democrat",
          "Democrat"
         ],
         "yaxis": "y"
        },
        {
         "hovertemplate": "variable=MICHIGAN<br>YEAR=%{x}<br>value=%{y}<extra></extra>",
         "legendgroup": "MICHIGAN",
         "marker": {
          "color": "#00cc96",
          "line": {
           "width": 0
          },
          "size": 12,
          "symbol": "circle"
         },
         "mode": "markers+lines",
         "name": "MICHIGAN",
         "orientation": "v",
         "showlegend": true,
         "type": "scatter",
         "x": [
          "1976",
          "1980",
          "1984",
          "1988",
          "1992",
          "1996",
          "2000",
          "2004",
          "2008",
          "2012",
          "2016",
          "2020"
         ],
         "xaxis": "x",
         "y": [
          "Republican",
          "Republican",
          "Republican",
          "Republican",
          "Democrat",
          "Democrat",
          "Democrat",
          "Democrat",
          "Democrat",
          "Democrat",
          "Republican",
          "Democrat"
         ],
         "yaxis": "y"
        },
        {
         "hovertemplate": "variable=MINNESOTA<br>YEAR=%{x}<br>value=%{y}<extra></extra>",
         "legendgroup": "MINNESOTA",
         "marker": {
          "color": "#ab63fa",
          "line": {
           "width": 0
          },
          "size": 12,
          "symbol": "circle"
         },
         "mode": "markers+lines",
         "name": "MINNESOTA",
         "orientation": "v",
         "showlegend": true,
         "type": "scatter",
         "x": [
          "1976",
          "1980",
          "1984",
          "1988",
          "1992",
          "1996",
          "2000",
          "2004",
          "2008",
          "2012",
          "2016",
          "2020"
         ],
         "xaxis": "x",
         "y": [
          "Democrat",
          "Democrat",
          "Democrat",
          "Democrat",
          "Democrat",
          "Democrat",
          "Democrat",
          "Democrat",
          "Democrat",
          "Democrat",
          "Democrat",
          "Democrat"
         ],
         "yaxis": "y"
        },
        {
         "hovertemplate": "variable=MISSISSIPPI<br>YEAR=%{x}<br>value=%{y}<extra></extra>",
         "legendgroup": "MISSISSIPPI",
         "marker": {
          "color": "#FFA15A",
          "line": {
           "width": 0
          },
          "size": 12,
          "symbol": "circle"
         },
         "mode": "markers+lines",
         "name": "MISSISSIPPI",
         "orientation": "v",
         "showlegend": true,
         "type": "scatter",
         "x": [
          "1976",
          "1980",
          "1984",
          "1988",
          "1992",
          "1996",
          "2000",
          "2004",
          "2008",
          "2012",
          "2016",
          "2020"
         ],
         "xaxis": "x",
         "y": [
          "Democrat",
          "Republican",
          "Republican",
          "Republican",
          "Republican",
          "Republican",
          "Republican",
          "Republican",
          "Republican",
          "Republican",
          "Republican",
          "Republican"
         ],
         "yaxis": "y"
        },
        {
         "hovertemplate": "variable=MISSOURI<br>YEAR=%{x}<br>value=%{y}<extra></extra>",
         "legendgroup": "MISSOURI",
         "marker": {
          "color": "#19d3f3",
          "line": {
           "width": 0
          },
          "size": 12,
          "symbol": "circle"
         },
         "mode": "markers+lines",
         "name": "MISSOURI",
         "orientation": "v",
         "showlegend": true,
         "type": "scatter",
         "x": [
          "1976",
          "1980",
          "1984",
          "1988",
          "1992",
          "1996",
          "2000",
          "2004",
          "2008",
          "2012",
          "2016",
          "2020"
         ],
         "xaxis": "x",
         "y": [
          "Democrat",
          "Republican",
          "Republican",
          "Republican",
          "Democrat",
          "Democrat",
          "Republican",
          "Republican",
          "Republican",
          "Republican",
          "Republican",
          "Republican"
         ],
         "yaxis": "y"
        },
        {
         "hovertemplate": "variable=MONTANA<br>YEAR=%{x}<br>value=%{y}<extra></extra>",
         "legendgroup": "MONTANA",
         "marker": {
          "color": "#FF6692",
          "line": {
           "width": 0
          },
          "size": 12,
          "symbol": "circle"
         },
         "mode": "markers+lines",
         "name": "MONTANA",
         "orientation": "v",
         "showlegend": true,
         "type": "scatter",
         "x": [
          "1976",
          "1980",
          "1984",
          "1988",
          "1992",
          "1996",
          "2000",
          "2004",
          "2008",
          "2012",
          "2016",
          "2020"
         ],
         "xaxis": "x",
         "y": [
          "Republican",
          "Republican",
          "Republican",
          "Republican",
          "Democrat",
          "Republican",
          "Republican",
          "Republican",
          "Republican",
          "Republican",
          "Republican",
          "Republican"
         ],
         "yaxis": "y"
        },
        {
         "hovertemplate": "variable=NEBRASKA<br>YEAR=%{x}<br>value=%{y}<extra></extra>",
         "legendgroup": "NEBRASKA",
         "marker": {
          "color": "#B6E880",
          "line": {
           "width": 0
          },
          "size": 12,
          "symbol": "circle"
         },
         "mode": "markers+lines",
         "name": "NEBRASKA",
         "orientation": "v",
         "showlegend": true,
         "type": "scatter",
         "x": [
          "1976",
          "1980",
          "1984",
          "1988",
          "1992",
          "1996",
          "2000",
          "2004",
          "2008",
          "2012",
          "2016",
          "2020"
         ],
         "xaxis": "x",
         "y": [
          "Republican",
          "Republican",
          "Republican",
          "Republican",
          "Republican",
          "Republican",
          "Republican",
          "Republican",
          "Republican",
          "Republican",
          "Republican",
          "Republican"
         ],
         "yaxis": "y"
        },
        {
         "hovertemplate": "variable=NEVADA<br>YEAR=%{x}<br>value=%{y}<extra></extra>",
         "legendgroup": "NEVADA",
         "marker": {
          "color": "#FF97FF",
          "line": {
           "width": 0
          },
          "size": 12,
          "symbol": "circle"
         },
         "mode": "markers+lines",
         "name": "NEVADA",
         "orientation": "v",
         "showlegend": true,
         "type": "scatter",
         "x": [
          "1976",
          "1980",
          "1984",
          "1988",
          "1992",
          "1996",
          "2000",
          "2004",
          "2008",
          "2012",
          "2016",
          "2020"
         ],
         "xaxis": "x",
         "y": [
          "Republican",
          "Republican",
          "Republican",
          "Republican",
          "Democrat",
          "Democrat",
          "Republican",
          "Republican",
          "Democrat",
          "Democrat",
          "Democrat",
          "Democrat"
         ],
         "yaxis": "y"
        },
        {
         "hovertemplate": "variable=NEW HAMPSHIRE<br>YEAR=%{x}<br>value=%{y}<extra></extra>",
         "legendgroup": "NEW HAMPSHIRE",
         "marker": {
          "color": "#FECB52",
          "line": {
           "width": 0
          },
          "size": 12,
          "symbol": "circle"
         },
         "mode": "markers+lines",
         "name": "NEW HAMPSHIRE",
         "orientation": "v",
         "showlegend": true,
         "type": "scatter",
         "x": [
          "1976",
          "1980",
          "1984",
          "1988",
          "1992",
          "1996",
          "2000",
          "2004",
          "2008",
          "2012",
          "2016",
          "2020"
         ],
         "xaxis": "x",
         "y": [
          "Republican",
          "Republican",
          "Republican",
          "Republican",
          "Democrat",
          "Democrat",
          "Republican",
          "Democrat",
          "Democrat",
          "Democrat",
          "Democrat",
          "Democrat"
         ],
         "yaxis": "y"
        },
        {
         "hovertemplate": "variable=NEW JERSEY<br>YEAR=%{x}<br>value=%{y}<extra></extra>",
         "legendgroup": "NEW JERSEY",
         "marker": {
          "color": "#636efa",
          "line": {
           "width": 0
          },
          "size": 12,
          "symbol": "circle"
         },
         "mode": "markers+lines",
         "name": "NEW JERSEY",
         "orientation": "v",
         "showlegend": true,
         "type": "scatter",
         "x": [
          "1976",
          "1980",
          "1984",
          "1988",
          "1992",
          "1996",
          "2000",
          "2004",
          "2008",
          "2012",
          "2016",
          "2020"
         ],
         "xaxis": "x",
         "y": [
          "Republican",
          "Republican",
          "Republican",
          "Republican",
          "Democrat",
          "Democrat",
          "Democrat",
          "Democrat",
          "Democrat",
          "Democrat",
          "Democrat",
          "Democrat"
         ],
         "yaxis": "y"
        },
        {
         "hovertemplate": "variable=NEW MEXICO<br>YEAR=%{x}<br>value=%{y}<extra></extra>",
         "legendgroup": "NEW MEXICO",
         "marker": {
          "color": "#EF553B",
          "line": {
           "width": 0
          },
          "size": 12,
          "symbol": "circle"
         },
         "mode": "markers+lines",
         "name": "NEW MEXICO",
         "orientation": "v",
         "showlegend": true,
         "type": "scatter",
         "x": [
          "1976",
          "1980",
          "1984",
          "1988",
          "1992",
          "1996",
          "2000",
          "2004",
          "2008",
          "2012",
          "2016",
          "2020"
         ],
         "xaxis": "x",
         "y": [
          "Republican",
          "Republican",
          "Republican",
          "Republican",
          "Democrat",
          "Democrat",
          "Democrat",
          "Republican",
          "Democrat",
          "Democrat",
          "Democrat",
          "Democrat"
         ],
         "yaxis": "y"
        },
        {
         "hovertemplate": "variable=NEW YORK<br>YEAR=%{x}<br>value=%{y}<extra></extra>",
         "legendgroup": "NEW YORK",
         "marker": {
          "color": "#00cc96",
          "line": {
           "width": 0
          },
          "size": 12,
          "symbol": "circle"
         },
         "mode": "markers+lines",
         "name": "NEW YORK",
         "orientation": "v",
         "showlegend": true,
         "type": "scatter",
         "x": [
          "1976",
          "1980",
          "1984",
          "1988",
          "1992",
          "1996",
          "2000",
          "2004",
          "2008",
          "2012",
          "2016",
          "2020"
         ],
         "xaxis": "x",
         "y": [
          "Democrat",
          "Democrat",
          "Republican",
          "Democrat",
          "Democrat",
          "Democrat",
          "Democrat",
          "Democrat",
          "Democrat",
          "Democrat",
          "Democrat",
          "Democrat"
         ],
         "yaxis": "y"
        },
        {
         "hovertemplate": "variable=NORTH CAROLINA<br>YEAR=%{x}<br>value=%{y}<extra></extra>",
         "legendgroup": "NORTH CAROLINA",
         "marker": {
          "color": "#ab63fa",
          "line": {
           "width": 0
          },
          "size": 12,
          "symbol": "circle"
         },
         "mode": "markers+lines",
         "name": "NORTH CAROLINA",
         "orientation": "v",
         "showlegend": true,
         "type": "scatter",
         "x": [
          "1976",
          "1980",
          "1984",
          "1988",
          "1992",
          "1996",
          "2000",
          "2004",
          "2008",
          "2012",
          "2016",
          "2020"
         ],
         "xaxis": "x",
         "y": [
          "Democrat",
          "Republican",
          "Republican",
          "Republican",
          "Republican",
          "Republican",
          "Republican",
          "Republican",
          "Democrat",
          "Republican",
          "Republican",
          "Republican"
         ],
         "yaxis": "y"
        },
        {
         "hovertemplate": "variable=NORTH DAKOTA<br>YEAR=%{x}<br>value=%{y}<extra></extra>",
         "legendgroup": "NORTH DAKOTA",
         "marker": {
          "color": "#FFA15A",
          "line": {
           "width": 0
          },
          "size": 12,
          "symbol": "circle"
         },
         "mode": "markers+lines",
         "name": "NORTH DAKOTA",
         "orientation": "v",
         "showlegend": true,
         "type": "scatter",
         "x": [
          "1976",
          "1980",
          "1984",
          "1988",
          "1992",
          "1996",
          "2000",
          "2004",
          "2008",
          "2012",
          "2016",
          "2020"
         ],
         "xaxis": "x",
         "y": [
          "Republican",
          "Republican",
          "Republican",
          "Republican",
          "Republican",
          "Republican",
          "Republican",
          "Republican",
          "Republican",
          "Republican",
          "Republican",
          "Republican"
         ],
         "yaxis": "y"
        },
        {
         "hovertemplate": "variable=OHIO<br>YEAR=%{x}<br>value=%{y}<extra></extra>",
         "legendgroup": "OHIO",
         "marker": {
          "color": "#19d3f3",
          "line": {
           "width": 0
          },
          "size": 12,
          "symbol": "circle"
         },
         "mode": "markers+lines",
         "name": "OHIO",
         "orientation": "v",
         "showlegend": true,
         "type": "scatter",
         "x": [
          "1976",
          "1980",
          "1984",
          "1988",
          "1992",
          "1996",
          "2000",
          "2004",
          "2008",
          "2012",
          "2016",
          "2020"
         ],
         "xaxis": "x",
         "y": [
          "Democrat",
          "Republican",
          "Republican",
          "Republican",
          "Democrat",
          "Democrat",
          "Republican",
          "Republican",
          "Democrat",
          "Democrat",
          "Republican",
          "Republican"
         ],
         "yaxis": "y"
        },
        {
         "hovertemplate": "variable=OKLAHOMA<br>YEAR=%{x}<br>value=%{y}<extra></extra>",
         "legendgroup": "OKLAHOMA",
         "marker": {
          "color": "#FF6692",
          "line": {
           "width": 0
          },
          "size": 12,
          "symbol": "circle"
         },
         "mode": "markers+lines",
         "name": "OKLAHOMA",
         "orientation": "v",
         "showlegend": true,
         "type": "scatter",
         "x": [
          "1976",
          "1980",
          "1984",
          "1988",
          "1992",
          "1996",
          "2000",
          "2004",
          "2008",
          "2012",
          "2016",
          "2020"
         ],
         "xaxis": "x",
         "y": [
          "Republican",
          "Republican",
          "Republican",
          "Republican",
          "Republican",
          "Republican",
          "Republican",
          "Republican",
          "Republican",
          "Republican",
          "Republican",
          "Republican"
         ],
         "yaxis": "y"
        },
        {
         "hovertemplate": "variable=OREGON<br>YEAR=%{x}<br>value=%{y}<extra></extra>",
         "legendgroup": "OREGON",
         "marker": {
          "color": "#B6E880",
          "line": {
           "width": 0
          },
          "size": 12,
          "symbol": "circle"
         },
         "mode": "markers+lines",
         "name": "OREGON",
         "orientation": "v",
         "showlegend": true,
         "type": "scatter",
         "x": [
          "1976",
          "1980",
          "1984",
          "1988",
          "1992",
          "1996",
          "2000",
          "2004",
          "2008",
          "2012",
          "2016",
          "2020"
         ],
         "xaxis": "x",
         "y": [
          "Republican",
          "Republican",
          "Republican",
          "Democrat",
          "Democrat",
          "Democrat",
          "Democrat",
          "Democrat",
          "Democrat",
          "Democrat",
          "Democrat",
          "Democrat"
         ],
         "yaxis": "y"
        },
        {
         "hovertemplate": "variable=PENNSYLVANIA<br>YEAR=%{x}<br>value=%{y}<extra></extra>",
         "legendgroup": "PENNSYLVANIA",
         "marker": {
          "color": "#FF97FF",
          "line": {
           "width": 0
          },
          "size": 12,
          "symbol": "circle"
         },
         "mode": "markers+lines",
         "name": "PENNSYLVANIA",
         "orientation": "v",
         "showlegend": true,
         "type": "scatter",
         "x": [
          "1976",
          "1980",
          "1984",
          "1988",
          "1992",
          "1996",
          "2000",
          "2004",
          "2008",
          "2012",
          "2016",
          "2020"
         ],
         "xaxis": "x",
         "y": [
          "Democrat",
          "Republican",
          "Republican",
          "Republican",
          "Democrat",
          "Democrat",
          "Democrat",
          "Democrat",
          "Democrat",
          "Democrat",
          "Republican",
          "Democrat"
         ],
         "yaxis": "y"
        },
        {
         "hovertemplate": "variable=RHODE ISLAND<br>YEAR=%{x}<br>value=%{y}<extra></extra>",
         "legendgroup": "RHODE ISLAND",
         "marker": {
          "color": "#FECB52",
          "line": {
           "width": 0
          },
          "size": 12,
          "symbol": "circle"
         },
         "mode": "markers+lines",
         "name": "RHODE ISLAND",
         "orientation": "v",
         "showlegend": true,
         "type": "scatter",
         "x": [
          "1976",
          "1980",
          "1984",
          "1988",
          "1992",
          "1996",
          "2000",
          "2004",
          "2008",
          "2012",
          "2016",
          "2020"
         ],
         "xaxis": "x",
         "y": [
          "Democrat",
          "Democrat",
          "Republican",
          "Democrat",
          "Democrat",
          "Democrat",
          "Democrat",
          "Democrat",
          "Democrat",
          "Democrat",
          "Democrat",
          "Democrat"
         ],
         "yaxis": "y"
        },
        {
         "hovertemplate": "variable=SOUTH CAROLINA<br>YEAR=%{x}<br>value=%{y}<extra></extra>",
         "legendgroup": "SOUTH CAROLINA",
         "marker": {
          "color": "#636efa",
          "line": {
           "width": 0
          },
          "size": 12,
          "symbol": "circle"
         },
         "mode": "markers+lines",
         "name": "SOUTH CAROLINA",
         "orientation": "v",
         "showlegend": true,
         "type": "scatter",
         "x": [
          "1976",
          "1980",
          "1984",
          "1988",
          "1992",
          "1996",
          "2000",
          "2004",
          "2008",
          "2012",
          "2016",
          "2020"
         ],
         "xaxis": "x",
         "y": [
          "Democrat",
          "Republican",
          "Republican",
          "Republican",
          "Republican",
          "Republican",
          "Republican",
          "Republican",
          "Republican",
          "Republican",
          "Republican",
          "Republican"
         ],
         "yaxis": "y"
        },
        {
         "hovertemplate": "variable=SOUTH DAKOTA<br>YEAR=%{x}<br>value=%{y}<extra></extra>",
         "legendgroup": "SOUTH DAKOTA",
         "marker": {
          "color": "#EF553B",
          "line": {
           "width": 0
          },
          "size": 12,
          "symbol": "circle"
         },
         "mode": "markers+lines",
         "name": "SOUTH DAKOTA",
         "orientation": "v",
         "showlegend": true,
         "type": "scatter",
         "x": [
          "1976",
          "1980",
          "1984",
          "1988",
          "1992",
          "1996",
          "2000",
          "2004",
          "2008",
          "2012",
          "2016",
          "2020"
         ],
         "xaxis": "x",
         "y": [
          "Republican",
          "Republican",
          "Republican",
          "Republican",
          "Republican",
          "Republican",
          "Republican",
          "Republican",
          "Republican",
          "Republican",
          "Republican",
          "Republican"
         ],
         "yaxis": "y"
        },
        {
         "hovertemplate": "variable=TENNESSEE<br>YEAR=%{x}<br>value=%{y}<extra></extra>",
         "legendgroup": "TENNESSEE",
         "marker": {
          "color": "#00cc96",
          "line": {
           "width": 0
          },
          "size": 12,
          "symbol": "circle"
         },
         "mode": "markers+lines",
         "name": "TENNESSEE",
         "orientation": "v",
         "showlegend": true,
         "type": "scatter",
         "x": [
          "1976",
          "1980",
          "1984",
          "1988",
          "1992",
          "1996",
          "2000",
          "2004",
          "2008",
          "2012",
          "2016",
          "2020"
         ],
         "xaxis": "x",
         "y": [
          "Democrat",
          "Republican",
          "Republican",
          "Republican",
          "Democrat",
          "Democrat",
          "Republican",
          "Republican",
          "Republican",
          "Republican",
          "Republican",
          "Republican"
         ],
         "yaxis": "y"
        },
        {
         "hovertemplate": "variable=TEXAS<br>YEAR=%{x}<br>value=%{y}<extra></extra>",
         "legendgroup": "TEXAS",
         "marker": {
          "color": "#ab63fa",
          "line": {
           "width": 0
          },
          "size": 12,
          "symbol": "circle"
         },
         "mode": "markers+lines",
         "name": "TEXAS",
         "orientation": "v",
         "showlegend": true,
         "type": "scatter",
         "x": [
          "1976",
          "1980",
          "1984",
          "1988",
          "1992",
          "1996",
          "2000",
          "2004",
          "2008",
          "2012",
          "2016",
          "2020"
         ],
         "xaxis": "x",
         "y": [
          "Democrat",
          "Republican",
          "Republican",
          "Republican",
          "Republican",
          "Republican",
          "Republican",
          "Republican",
          "Republican",
          "Republican",
          "Republican",
          "Republican"
         ],
         "yaxis": "y"
        },
        {
         "hovertemplate": "variable=UTAH<br>YEAR=%{x}<br>value=%{y}<extra></extra>",
         "legendgroup": "UTAH",
         "marker": {
          "color": "#FFA15A",
          "line": {
           "width": 0
          },
          "size": 12,
          "symbol": "circle"
         },
         "mode": "markers+lines",
         "name": "UTAH",
         "orientation": "v",
         "showlegend": true,
         "type": "scatter",
         "x": [
          "1976",
          "1980",
          "1984",
          "1988",
          "1992",
          "1996",
          "2000",
          "2004",
          "2008",
          "2012",
          "2016",
          "2020"
         ],
         "xaxis": "x",
         "y": [
          "Republican",
          "Republican",
          "Republican",
          "Republican",
          "Republican",
          "Republican",
          "Republican",
          "Republican",
          "Republican",
          "Republican",
          "Republican",
          "Republican"
         ],
         "yaxis": "y"
        },
        {
         "hovertemplate": "variable=VERMONT<br>YEAR=%{x}<br>value=%{y}<extra></extra>",
         "legendgroup": "VERMONT",
         "marker": {
          "color": "#19d3f3",
          "line": {
           "width": 0
          },
          "size": 12,
          "symbol": "circle"
         },
         "mode": "markers+lines",
         "name": "VERMONT",
         "orientation": "v",
         "showlegend": true,
         "type": "scatter",
         "x": [
          "1976",
          "1980",
          "1984",
          "1988",
          "1992",
          "1996",
          "2000",
          "2004",
          "2008",
          "2012",
          "2016",
          "2020"
         ],
         "xaxis": "x",
         "y": [
          "Republican",
          "Republican",
          "Republican",
          "Republican",
          "Democrat",
          "Democrat",
          "Democrat",
          "Democrat",
          "Democrat",
          "Democrat",
          "Democrat",
          "Democrat"
         ],
         "yaxis": "y"
        },
        {
         "hovertemplate": "variable=VIRGINIA<br>YEAR=%{x}<br>value=%{y}<extra></extra>",
         "legendgroup": "VIRGINIA",
         "marker": {
          "color": "#FF6692",
          "line": {
           "width": 0
          },
          "size": 12,
          "symbol": "circle"
         },
         "mode": "markers+lines",
         "name": "VIRGINIA",
         "orientation": "v",
         "showlegend": true,
         "type": "scatter",
         "x": [
          "1976",
          "1980",
          "1984",
          "1988",
          "1992",
          "1996",
          "2000",
          "2004",
          "2008",
          "2012",
          "2016",
          "2020"
         ],
         "xaxis": "x",
         "y": [
          "Republican",
          "Republican",
          "Republican",
          "Republican",
          "Republican",
          "Republican",
          "Republican",
          "Republican",
          "Democrat",
          "Democrat",
          "Democrat",
          "Democrat"
         ],
         "yaxis": "y"
        },
        {
         "hovertemplate": "variable=WASHINGTON<br>YEAR=%{x}<br>value=%{y}<extra></extra>",
         "legendgroup": "WASHINGTON",
         "marker": {
          "color": "#B6E880",
          "line": {
           "width": 0
          },
          "size": 12,
          "symbol": "circle"
         },
         "mode": "markers+lines",
         "name": "WASHINGTON",
         "orientation": "v",
         "showlegend": true,
         "type": "scatter",
         "x": [
          "1976",
          "1980",
          "1984",
          "1988",
          "1992",
          "1996",
          "2000",
          "2004",
          "2008",
          "2012",
          "2016",
          "2020"
         ],
         "xaxis": "x",
         "y": [
          "Republican",
          "Republican",
          "Republican",
          "Democrat",
          "Democrat",
          "Democrat",
          "Democrat",
          "Democrat",
          "Democrat",
          "Democrat",
          "Democrat",
          "Democrat"
         ],
         "yaxis": "y"
        },
        {
         "hovertemplate": "variable=WEST VIRGINIA<br>YEAR=%{x}<br>value=%{y}<extra></extra>",
         "legendgroup": "WEST VIRGINIA",
         "marker": {
          "color": "#FF97FF",
          "line": {
           "width": 0
          },
          "size": 12,
          "symbol": "circle"
         },
         "mode": "markers+lines",
         "name": "WEST VIRGINIA",
         "orientation": "v",
         "showlegend": true,
         "type": "scatter",
         "x": [
          "1976",
          "1980",
          "1984",
          "1988",
          "1992",
          "1996",
          "2000",
          "2004",
          "2008",
          "2012",
          "2016",
          "2020"
         ],
         "xaxis": "x",
         "y": [
          "Democrat",
          "Democrat",
          "Republican",
          "Democrat",
          "Democrat",
          "Democrat",
          "Republican",
          "Republican",
          "Republican",
          "Republican",
          "Republican",
          "Republican"
         ],
         "yaxis": "y"
        },
        {
         "hovertemplate": "variable=WISCONSIN<br>YEAR=%{x}<br>value=%{y}<extra></extra>",
         "legendgroup": "WISCONSIN",
         "marker": {
          "color": "#FECB52",
          "line": {
           "width": 0
          },
          "size": 12,
          "symbol": "circle"
         },
         "mode": "markers+lines",
         "name": "WISCONSIN",
         "orientation": "v",
         "showlegend": true,
         "type": "scatter",
         "x": [
          "1976",
          "1980",
          "1984",
          "1988",
          "1992",
          "1996",
          "2000",
          "2004",
          "2008",
          "2012",
          "2016",
          "2020"
         ],
         "xaxis": "x",
         "y": [
          "Democrat",
          "Republican",
          "Republican",
          "Democrat",
          "Democrat",
          "Democrat",
          "Democrat",
          "Democrat",
          "Democrat",
          "Democrat",
          "Republican",
          "Democrat"
         ],
         "yaxis": "y"
        },
        {
         "hovertemplate": "variable=WYOMING<br>YEAR=%{x}<br>value=%{y}<extra></extra>",
         "legendgroup": "WYOMING",
         "marker": {
          "color": "#636efa",
          "line": {
           "width": 0
          },
          "size": 12,
          "symbol": "circle"
         },
         "mode": "markers+lines",
         "name": "WYOMING",
         "orientation": "v",
         "showlegend": true,
         "type": "scatter",
         "x": [
          "1976",
          "1980",
          "1984",
          "1988",
          "1992",
          "1996",
          "2000",
          "2004",
          "2008",
          "2012",
          "2016",
          "2020"
         ],
         "xaxis": "x",
         "y": [
          "Republican",
          "Republican",
          "Republican",
          "Republican",
          "Republican",
          "Republican",
          "Republican",
          "Republican",
          "Republican",
          "Republican",
          "Republican",
          "Republican"
         ],
         "yaxis": "y"
        }
       ],
       "layout": {
        "autosize": false,
        "height": 300,
        "legend": {
         "title": {
          "text": "STATE"
         },
         "tracegroupgap": 0
        },
        "margin": {
         "b": 50,
         "l": 50,
         "r": 50,
         "t": 50
        },
        "showlegend": true,
        "template": {
         "data": {
          "bar": [
           {
            "error_x": {
             "color": "#2a3f5f"
            },
            "error_y": {
             "color": "#2a3f5f"
            },
            "marker": {
             "line": {
              "color": "white",
              "width": 0.5
             },
             "pattern": {
              "fillmode": "overlay",
              "size": 10,
              "solidity": 0.2
             }
            },
            "type": "bar"
           }
          ],
          "barpolar": [
           {
            "marker": {
             "line": {
              "color": "white",
              "width": 0.5
             },
             "pattern": {
              "fillmode": "overlay",
              "size": 10,
              "solidity": 0.2
             }
            },
            "type": "barpolar"
           }
          ],
          "carpet": [
           {
            "aaxis": {
             "endlinecolor": "#2a3f5f",
             "gridcolor": "#C8D4E3",
             "linecolor": "#C8D4E3",
             "minorgridcolor": "#C8D4E3",
             "startlinecolor": "#2a3f5f"
            },
            "baxis": {
             "endlinecolor": "#2a3f5f",
             "gridcolor": "#C8D4E3",
             "linecolor": "#C8D4E3",
             "minorgridcolor": "#C8D4E3",
             "startlinecolor": "#2a3f5f"
            },
            "type": "carpet"
           }
          ],
          "choropleth": [
           {
            "colorbar": {
             "outlinewidth": 0,
             "ticks": ""
            },
            "type": "choropleth"
           }
          ],
          "contour": [
           {
            "colorbar": {
             "outlinewidth": 0,
             "ticks": ""
            },
            "colorscale": [
             [
              0,
              "#0d0887"
             ],
             [
              0.1111111111111111,
              "#46039f"
             ],
             [
              0.2222222222222222,
              "#7201a8"
             ],
             [
              0.3333333333333333,
              "#9c179e"
             ],
             [
              0.4444444444444444,
              "#bd3786"
             ],
             [
              0.5555555555555556,
              "#d8576b"
             ],
             [
              0.6666666666666666,
              "#ed7953"
             ],
             [
              0.7777777777777778,
              "#fb9f3a"
             ],
             [
              0.8888888888888888,
              "#fdca26"
             ],
             [
              1,
              "#f0f921"
             ]
            ],
            "type": "contour"
           }
          ],
          "contourcarpet": [
           {
            "colorbar": {
             "outlinewidth": 0,
             "ticks": ""
            },
            "type": "contourcarpet"
           }
          ],
          "heatmap": [
           {
            "colorbar": {
             "outlinewidth": 0,
             "ticks": ""
            },
            "colorscale": [
             [
              0,
              "#0d0887"
             ],
             [
              0.1111111111111111,
              "#46039f"
             ],
             [
              0.2222222222222222,
              "#7201a8"
             ],
             [
              0.3333333333333333,
              "#9c179e"
             ],
             [
              0.4444444444444444,
              "#bd3786"
             ],
             [
              0.5555555555555556,
              "#d8576b"
             ],
             [
              0.6666666666666666,
              "#ed7953"
             ],
             [
              0.7777777777777778,
              "#fb9f3a"
             ],
             [
              0.8888888888888888,
              "#fdca26"
             ],
             [
              1,
              "#f0f921"
             ]
            ],
            "type": "heatmap"
           }
          ],
          "heatmapgl": [
           {
            "colorbar": {
             "outlinewidth": 0,
             "ticks": ""
            },
            "colorscale": [
             [
              0,
              "#0d0887"
             ],
             [
              0.1111111111111111,
              "#46039f"
             ],
             [
              0.2222222222222222,
              "#7201a8"
             ],
             [
              0.3333333333333333,
              "#9c179e"
             ],
             [
              0.4444444444444444,
              "#bd3786"
             ],
             [
              0.5555555555555556,
              "#d8576b"
             ],
             [
              0.6666666666666666,
              "#ed7953"
             ],
             [
              0.7777777777777778,
              "#fb9f3a"
             ],
             [
              0.8888888888888888,
              "#fdca26"
             ],
             [
              1,
              "#f0f921"
             ]
            ],
            "type": "heatmapgl"
           }
          ],
          "histogram": [
           {
            "marker": {
             "pattern": {
              "fillmode": "overlay",
              "size": 10,
              "solidity": 0.2
             }
            },
            "type": "histogram"
           }
          ],
          "histogram2d": [
           {
            "colorbar": {
             "outlinewidth": 0,
             "ticks": ""
            },
            "colorscale": [
             [
              0,
              "#0d0887"
             ],
             [
              0.1111111111111111,
              "#46039f"
             ],
             [
              0.2222222222222222,
              "#7201a8"
             ],
             [
              0.3333333333333333,
              "#9c179e"
             ],
             [
              0.4444444444444444,
              "#bd3786"
             ],
             [
              0.5555555555555556,
              "#d8576b"
             ],
             [
              0.6666666666666666,
              "#ed7953"
             ],
             [
              0.7777777777777778,
              "#fb9f3a"
             ],
             [
              0.8888888888888888,
              "#fdca26"
             ],
             [
              1,
              "#f0f921"
             ]
            ],
            "type": "histogram2d"
           }
          ],
          "histogram2dcontour": [
           {
            "colorbar": {
             "outlinewidth": 0,
             "ticks": ""
            },
            "colorscale": [
             [
              0,
              "#0d0887"
             ],
             [
              0.1111111111111111,
              "#46039f"
             ],
             [
              0.2222222222222222,
              "#7201a8"
             ],
             [
              0.3333333333333333,
              "#9c179e"
             ],
             [
              0.4444444444444444,
              "#bd3786"
             ],
             [
              0.5555555555555556,
              "#d8576b"
             ],
             [
              0.6666666666666666,
              "#ed7953"
             ],
             [
              0.7777777777777778,
              "#fb9f3a"
             ],
             [
              0.8888888888888888,
              "#fdca26"
             ],
             [
              1,
              "#f0f921"
             ]
            ],
            "type": "histogram2dcontour"
           }
          ],
          "mesh3d": [
           {
            "colorbar": {
             "outlinewidth": 0,
             "ticks": ""
            },
            "type": "mesh3d"
           }
          ],
          "parcoords": [
           {
            "line": {
             "colorbar": {
              "outlinewidth": 0,
              "ticks": ""
             }
            },
            "type": "parcoords"
           }
          ],
          "pie": [
           {
            "automargin": true,
            "type": "pie"
           }
          ],
          "scatter": [
           {
            "fillpattern": {
             "fillmode": "overlay",
             "size": 10,
             "solidity": 0.2
            },
            "type": "scatter"
           }
          ],
          "scatter3d": [
           {
            "line": {
             "colorbar": {
              "outlinewidth": 0,
              "ticks": ""
             }
            },
            "marker": {
             "colorbar": {
              "outlinewidth": 0,
              "ticks": ""
             }
            },
            "type": "scatter3d"
           }
          ],
          "scattercarpet": [
           {
            "marker": {
             "colorbar": {
              "outlinewidth": 0,
              "ticks": ""
             }
            },
            "type": "scattercarpet"
           }
          ],
          "scattergeo": [
           {
            "marker": {
             "colorbar": {
              "outlinewidth": 0,
              "ticks": ""
             }
            },
            "type": "scattergeo"
           }
          ],
          "scattergl": [
           {
            "marker": {
             "colorbar": {
              "outlinewidth": 0,
              "ticks": ""
             }
            },
            "type": "scattergl"
           }
          ],
          "scattermapbox": [
           {
            "marker": {
             "colorbar": {
              "outlinewidth": 0,
              "ticks": ""
             }
            },
            "type": "scattermapbox"
           }
          ],
          "scatterpolar": [
           {
            "marker": {
             "colorbar": {
              "outlinewidth": 0,
              "ticks": ""
             }
            },
            "type": "scatterpolar"
           }
          ],
          "scatterpolargl": [
           {
            "marker": {
             "colorbar": {
              "outlinewidth": 0,
              "ticks": ""
             }
            },
            "type": "scatterpolargl"
           }
          ],
          "scatterternary": [
           {
            "marker": {
             "colorbar": {
              "outlinewidth": 0,
              "ticks": ""
             }
            },
            "type": "scatterternary"
           }
          ],
          "surface": [
           {
            "colorbar": {
             "outlinewidth": 0,
             "ticks": ""
            },
            "colorscale": [
             [
              0,
              "#0d0887"
             ],
             [
              0.1111111111111111,
              "#46039f"
             ],
             [
              0.2222222222222222,
              "#7201a8"
             ],
             [
              0.3333333333333333,
              "#9c179e"
             ],
             [
              0.4444444444444444,
              "#bd3786"
             ],
             [
              0.5555555555555556,
              "#d8576b"
             ],
             [
              0.6666666666666666,
              "#ed7953"
             ],
             [
              0.7777777777777778,
              "#fb9f3a"
             ],
             [
              0.8888888888888888,
              "#fdca26"
             ],
             [
              1,
              "#f0f921"
             ]
            ],
            "type": "surface"
           }
          ],
          "table": [
           {
            "cells": {
             "fill": {
              "color": "#EBF0F8"
             },
             "line": {
              "color": "white"
             }
            },
            "header": {
             "fill": {
              "color": "#C8D4E3"
             },
             "line": {
              "color": "white"
             }
            },
            "type": "table"
           }
          ]
         },
         "layout": {
          "annotationdefaults": {
           "arrowcolor": "#2a3f5f",
           "arrowhead": 0,
           "arrowwidth": 1
          },
          "autotypenumbers": "strict",
          "coloraxis": {
           "colorbar": {
            "outlinewidth": 0,
            "ticks": ""
           }
          },
          "colorscale": {
           "diverging": [
            [
             0,
             "#8e0152"
            ],
            [
             0.1,
             "#c51b7d"
            ],
            [
             0.2,
             "#de77ae"
            ],
            [
             0.3,
             "#f1b6da"
            ],
            [
             0.4,
             "#fde0ef"
            ],
            [
             0.5,
             "#f7f7f7"
            ],
            [
             0.6,
             "#e6f5d0"
            ],
            [
             0.7,
             "#b8e186"
            ],
            [
             0.8,
             "#7fbc41"
            ],
            [
             0.9,
             "#4d9221"
            ],
            [
             1,
             "#276419"
            ]
           ],
           "sequential": [
            [
             0,
             "#0d0887"
            ],
            [
             0.1111111111111111,
             "#46039f"
            ],
            [
             0.2222222222222222,
             "#7201a8"
            ],
            [
             0.3333333333333333,
             "#9c179e"
            ],
            [
             0.4444444444444444,
             "#bd3786"
            ],
            [
             0.5555555555555556,
             "#d8576b"
            ],
            [
             0.6666666666666666,
             "#ed7953"
            ],
            [
             0.7777777777777778,
             "#fb9f3a"
            ],
            [
             0.8888888888888888,
             "#fdca26"
            ],
            [
             1,
             "#f0f921"
            ]
           ],
           "sequentialminus": [
            [
             0,
             "#0d0887"
            ],
            [
             0.1111111111111111,
             "#46039f"
            ],
            [
             0.2222222222222222,
             "#7201a8"
            ],
            [
             0.3333333333333333,
             "#9c179e"
            ],
            [
             0.4444444444444444,
             "#bd3786"
            ],
            [
             0.5555555555555556,
             "#d8576b"
            ],
            [
             0.6666666666666666,
             "#ed7953"
            ],
            [
             0.7777777777777778,
             "#fb9f3a"
            ],
            [
             0.8888888888888888,
             "#fdca26"
            ],
            [
             1,
             "#f0f921"
            ]
           ]
          },
          "colorway": [
           "#636efa",
           "#EF553B",
           "#00cc96",
           "#ab63fa",
           "#FFA15A",
           "#19d3f3",
           "#FF6692",
           "#B6E880",
           "#FF97FF",
           "#FECB52"
          ],
          "font": {
           "color": "#2a3f5f"
          },
          "geo": {
           "bgcolor": "white",
           "lakecolor": "white",
           "landcolor": "white",
           "showlakes": true,
           "showland": true,
           "subunitcolor": "#C8D4E3"
          },
          "hoverlabel": {
           "align": "left"
          },
          "hovermode": "closest",
          "mapbox": {
           "style": "light"
          },
          "paper_bgcolor": "white",
          "plot_bgcolor": "white",
          "polar": {
           "angularaxis": {
            "gridcolor": "#EBF0F8",
            "linecolor": "#EBF0F8",
            "ticks": ""
           },
           "bgcolor": "white",
           "radialaxis": {
            "gridcolor": "#EBF0F8",
            "linecolor": "#EBF0F8",
            "ticks": ""
           }
          },
          "scene": {
           "xaxis": {
            "backgroundcolor": "white",
            "gridcolor": "#DFE8F3",
            "gridwidth": 2,
            "linecolor": "#EBF0F8",
            "showbackground": true,
            "ticks": "",
            "zerolinecolor": "#EBF0F8"
           },
           "yaxis": {
            "backgroundcolor": "white",
            "gridcolor": "#DFE8F3",
            "gridwidth": 2,
            "linecolor": "#EBF0F8",
            "showbackground": true,
            "ticks": "",
            "zerolinecolor": "#EBF0F8"
           },
           "zaxis": {
            "backgroundcolor": "white",
            "gridcolor": "#DFE8F3",
            "gridwidth": 2,
            "linecolor": "#EBF0F8",
            "showbackground": true,
            "ticks": "",
            "zerolinecolor": "#EBF0F8"
           }
          },
          "shapedefaults": {
           "line": {
            "color": "#2a3f5f"
           }
          },
          "ternary": {
           "aaxis": {
            "gridcolor": "#DFE8F3",
            "linecolor": "#A2B1C6",
            "ticks": ""
           },
           "baxis": {
            "gridcolor": "#DFE8F3",
            "linecolor": "#A2B1C6",
            "ticks": ""
           },
           "bgcolor": "white",
           "caxis": {
            "gridcolor": "#DFE8F3",
            "linecolor": "#A2B1C6",
            "ticks": ""
           }
          },
          "title": {
           "x": 0.05
          },
          "xaxis": {
           "automargin": true,
           "gridcolor": "#EBF0F8",
           "linecolor": "#EBF0F8",
           "ticks": "",
           "title": {
            "standoff": 15
           },
           "zerolinecolor": "#EBF0F8",
           "zerolinewidth": 2
          },
          "yaxis": {
           "automargin": true,
           "gridcolor": "#EBF0F8",
           "linecolor": "#EBF0F8",
           "ticks": "",
           "title": {
            "standoff": 15
           },
           "zerolinecolor": "#EBF0F8",
           "zerolinewidth": 2
          }
         }
        },
        "title": {
         "text": "USA ELECTIONS: STATE WINNER BY YEAR"
        },
        "width": 1000,
        "xaxis": {
         "anchor": "y",
         "domain": [
          0,
          1
         ],
         "title": {
          "font": {
           "size": 14
          },
          "text": "ELECTION YEAR"
         }
        },
        "yaxis": {
         "anchor": "x",
         "categoryorder": "category descending",
         "domain": [
          0,
          1
         ],
         "range": [
          "REP",
          "DEM"
         ],
         "title": {
          "font": {
           "size": 14
          },
          "text": "WINNING PARTY"
         }
        }
       }
      }
     },
     "metadata": {},
     "output_type": "display_data"
    },
    {
     "data": {
      "application/vnd.plotly.v1+json": {
       "config": {
        "plotlyServerURL": "https://plot.ly"
       },
       "data": [
        {
         "cells": {
          "align": [
           "left",
           "center"
          ],
          "fill": {
           "color": "white"
          },
          "font": {
           "size": 20
          },
          "height": 40,
          "line": {
           "color": "gray"
          },
          "values": [
           [
            "OHIO",
            "FLORIDA",
            "NEVADA",
            "PENNSYLVANIA",
            "ARKANSAS",
            "COLORADO",
            "DELAWARE",
            "KENTUCKY",
            "LOUISIANA",
            "MICHIGAN",
            "MISSOURI",
            "NEW HAMPSHIRE",
            "NEW MEXICO",
            "TENNESSEE",
            "WISCONSIN",
            "ARIZONA",
            "CALIFORNIA",
            "CONNECTICUT",
            "GEORGIA",
            "ILLINOIS",
            "IOWA",
            "MAINE",
            "MARYLAND",
            "MASSACHUSETTS",
            "NEW JERSEY",
            "NORTH CAROLINA",
            "VERMONT",
            "VIRGINIA",
            "ALABAMA",
            "HAWAII",
            "INDIANA",
            "MISSISSIPPI",
            "MONTANA",
            "NEW YORK",
            "OREGON",
            "RHODE ISLAND",
            "SOUTH CAROLINA",
            "TEXAS",
            "WASHINGTON",
            "WEST VIRGINIA",
            "ALASKA",
            "DISTRICT OF COLUMBIA",
            "IDAHO",
            "KANSAS",
            "MINNESOTA",
            "NEBRASKA",
            "NORTH DAKOTA",
            "OKLAHOMA",
            "SOUTH DAKOTA",
            "UTAH",
            "WYOMING"
           ],
           [
            11,
            10,
            10,
            10,
            9,
            9,
            9,
            9,
            9,
            9,
            9,
            9,
            9,
            9,
            9,
            8,
            8,
            8,
            8,
            8,
            8,
            8,
            8,
            8,
            8,
            8,
            8,
            8,
            7,
            7,
            7,
            7,
            7,
            7,
            7,
            7,
            7,
            7,
            7,
            7,
            6,
            6,
            6,
            6,
            6,
            6,
            6,
            6,
            6,
            6,
            6
           ],
           [
            1,
            2,
            2,
            2,
            3,
            3,
            3,
            3,
            3,
            3,
            3,
            3,
            3,
            3,
            3,
            4,
            4,
            4,
            4,
            4,
            4,
            4,
            4,
            4,
            4,
            4,
            4,
            4,
            5,
            5,
            5,
            5,
            5,
            5,
            5,
            5,
            5,
            5,
            5,
            5,
            6,
            6,
            6,
            6,
            6,
            6,
            6,
            6,
            6,
            6,
            6
           ]
          ]
         },
         "header": {
          "align": [
           "left",
           "center"
          ],
          "fill": {
           "color": "royalblue"
          },
          "font": {
           "color": "white",
           "size": 20
          },
          "height": 40,
          "line": {
           "color": "darkslategray"
          },
          "values": [
           "STATE",
           "ELECTION<br>WINS",
           "ELECTION<br>LOSSES"
          ]
         },
         "type": "table"
        }
       ],
       "layout": {
        "height": 800,
        "template": {
         "data": {
          "bar": [
           {
            "error_x": {
             "color": "#2a3f5f"
            },
            "error_y": {
             "color": "#2a3f5f"
            },
            "marker": {
             "line": {
              "color": "white",
              "width": 0.5
             },
             "pattern": {
              "fillmode": "overlay",
              "size": 10,
              "solidity": 0.2
             }
            },
            "type": "bar"
           }
          ],
          "barpolar": [
           {
            "marker": {
             "line": {
              "color": "white",
              "width": 0.5
             },
             "pattern": {
              "fillmode": "overlay",
              "size": 10,
              "solidity": 0.2
             }
            },
            "type": "barpolar"
           }
          ],
          "carpet": [
           {
            "aaxis": {
             "endlinecolor": "#2a3f5f",
             "gridcolor": "#C8D4E3",
             "linecolor": "#C8D4E3",
             "minorgridcolor": "#C8D4E3",
             "startlinecolor": "#2a3f5f"
            },
            "baxis": {
             "endlinecolor": "#2a3f5f",
             "gridcolor": "#C8D4E3",
             "linecolor": "#C8D4E3",
             "minorgridcolor": "#C8D4E3",
             "startlinecolor": "#2a3f5f"
            },
            "type": "carpet"
           }
          ],
          "choropleth": [
           {
            "colorbar": {
             "outlinewidth": 0,
             "ticks": ""
            },
            "type": "choropleth"
           }
          ],
          "contour": [
           {
            "colorbar": {
             "outlinewidth": 0,
             "ticks": ""
            },
            "colorscale": [
             [
              0,
              "#0d0887"
             ],
             [
              0.1111111111111111,
              "#46039f"
             ],
             [
              0.2222222222222222,
              "#7201a8"
             ],
             [
              0.3333333333333333,
              "#9c179e"
             ],
             [
              0.4444444444444444,
              "#bd3786"
             ],
             [
              0.5555555555555556,
              "#d8576b"
             ],
             [
              0.6666666666666666,
              "#ed7953"
             ],
             [
              0.7777777777777778,
              "#fb9f3a"
             ],
             [
              0.8888888888888888,
              "#fdca26"
             ],
             [
              1,
              "#f0f921"
             ]
            ],
            "type": "contour"
           }
          ],
          "contourcarpet": [
           {
            "colorbar": {
             "outlinewidth": 0,
             "ticks": ""
            },
            "type": "contourcarpet"
           }
          ],
          "heatmap": [
           {
            "colorbar": {
             "outlinewidth": 0,
             "ticks": ""
            },
            "colorscale": [
             [
              0,
              "#0d0887"
             ],
             [
              0.1111111111111111,
              "#46039f"
             ],
             [
              0.2222222222222222,
              "#7201a8"
             ],
             [
              0.3333333333333333,
              "#9c179e"
             ],
             [
              0.4444444444444444,
              "#bd3786"
             ],
             [
              0.5555555555555556,
              "#d8576b"
             ],
             [
              0.6666666666666666,
              "#ed7953"
             ],
             [
              0.7777777777777778,
              "#fb9f3a"
             ],
             [
              0.8888888888888888,
              "#fdca26"
             ],
             [
              1,
              "#f0f921"
             ]
            ],
            "type": "heatmap"
           }
          ],
          "heatmapgl": [
           {
            "colorbar": {
             "outlinewidth": 0,
             "ticks": ""
            },
            "colorscale": [
             [
              0,
              "#0d0887"
             ],
             [
              0.1111111111111111,
              "#46039f"
             ],
             [
              0.2222222222222222,
              "#7201a8"
             ],
             [
              0.3333333333333333,
              "#9c179e"
             ],
             [
              0.4444444444444444,
              "#bd3786"
             ],
             [
              0.5555555555555556,
              "#d8576b"
             ],
             [
              0.6666666666666666,
              "#ed7953"
             ],
             [
              0.7777777777777778,
              "#fb9f3a"
             ],
             [
              0.8888888888888888,
              "#fdca26"
             ],
             [
              1,
              "#f0f921"
             ]
            ],
            "type": "heatmapgl"
           }
          ],
          "histogram": [
           {
            "marker": {
             "pattern": {
              "fillmode": "overlay",
              "size": 10,
              "solidity": 0.2
             }
            },
            "type": "histogram"
           }
          ],
          "histogram2d": [
           {
            "colorbar": {
             "outlinewidth": 0,
             "ticks": ""
            },
            "colorscale": [
             [
              0,
              "#0d0887"
             ],
             [
              0.1111111111111111,
              "#46039f"
             ],
             [
              0.2222222222222222,
              "#7201a8"
             ],
             [
              0.3333333333333333,
              "#9c179e"
             ],
             [
              0.4444444444444444,
              "#bd3786"
             ],
             [
              0.5555555555555556,
              "#d8576b"
             ],
             [
              0.6666666666666666,
              "#ed7953"
             ],
             [
              0.7777777777777778,
              "#fb9f3a"
             ],
             [
              0.8888888888888888,
              "#fdca26"
             ],
             [
              1,
              "#f0f921"
             ]
            ],
            "type": "histogram2d"
           }
          ],
          "histogram2dcontour": [
           {
            "colorbar": {
             "outlinewidth": 0,
             "ticks": ""
            },
            "colorscale": [
             [
              0,
              "#0d0887"
             ],
             [
              0.1111111111111111,
              "#46039f"
             ],
             [
              0.2222222222222222,
              "#7201a8"
             ],
             [
              0.3333333333333333,
              "#9c179e"
             ],
             [
              0.4444444444444444,
              "#bd3786"
             ],
             [
              0.5555555555555556,
              "#d8576b"
             ],
             [
              0.6666666666666666,
              "#ed7953"
             ],
             [
              0.7777777777777778,
              "#fb9f3a"
             ],
             [
              0.8888888888888888,
              "#fdca26"
             ],
             [
              1,
              "#f0f921"
             ]
            ],
            "type": "histogram2dcontour"
           }
          ],
          "mesh3d": [
           {
            "colorbar": {
             "outlinewidth": 0,
             "ticks": ""
            },
            "type": "mesh3d"
           }
          ],
          "parcoords": [
           {
            "line": {
             "colorbar": {
              "outlinewidth": 0,
              "ticks": ""
             }
            },
            "type": "parcoords"
           }
          ],
          "pie": [
           {
            "automargin": true,
            "type": "pie"
           }
          ],
          "scatter": [
           {
            "fillpattern": {
             "fillmode": "overlay",
             "size": 10,
             "solidity": 0.2
            },
            "type": "scatter"
           }
          ],
          "scatter3d": [
           {
            "line": {
             "colorbar": {
              "outlinewidth": 0,
              "ticks": ""
             }
            },
            "marker": {
             "colorbar": {
              "outlinewidth": 0,
              "ticks": ""
             }
            },
            "type": "scatter3d"
           }
          ],
          "scattercarpet": [
           {
            "marker": {
             "colorbar": {
              "outlinewidth": 0,
              "ticks": ""
             }
            },
            "type": "scattercarpet"
           }
          ],
          "scattergeo": [
           {
            "marker": {
             "colorbar": {
              "outlinewidth": 0,
              "ticks": ""
             }
            },
            "type": "scattergeo"
           }
          ],
          "scattergl": [
           {
            "marker": {
             "colorbar": {
              "outlinewidth": 0,
              "ticks": ""
             }
            },
            "type": "scattergl"
           }
          ],
          "scattermapbox": [
           {
            "marker": {
             "colorbar": {
              "outlinewidth": 0,
              "ticks": ""
             }
            },
            "type": "scattermapbox"
           }
          ],
          "scatterpolar": [
           {
            "marker": {
             "colorbar": {
              "outlinewidth": 0,
              "ticks": ""
             }
            },
            "type": "scatterpolar"
           }
          ],
          "scatterpolargl": [
           {
            "marker": {
             "colorbar": {
              "outlinewidth": 0,
              "ticks": ""
             }
            },
            "type": "scatterpolargl"
           }
          ],
          "scatterternary": [
           {
            "marker": {
             "colorbar": {
              "outlinewidth": 0,
              "ticks": ""
             }
            },
            "type": "scatterternary"
           }
          ],
          "surface": [
           {
            "colorbar": {
             "outlinewidth": 0,
             "ticks": ""
            },
            "colorscale": [
             [
              0,
              "#0d0887"
             ],
             [
              0.1111111111111111,
              "#46039f"
             ],
             [
              0.2222222222222222,
              "#7201a8"
             ],
             [
              0.3333333333333333,
              "#9c179e"
             ],
             [
              0.4444444444444444,
              "#bd3786"
             ],
             [
              0.5555555555555556,
              "#d8576b"
             ],
             [
              0.6666666666666666,
              "#ed7953"
             ],
             [
              0.7777777777777778,
              "#fb9f3a"
             ],
             [
              0.8888888888888888,
              "#fdca26"
             ],
             [
              1,
              "#f0f921"
             ]
            ],
            "type": "surface"
           }
          ],
          "table": [
           {
            "cells": {
             "fill": {
              "color": "#EBF0F8"
             },
             "line": {
              "color": "white"
             }
            },
            "header": {
             "fill": {
              "color": "#C8D4E3"
             },
             "line": {
              "color": "white"
             }
            },
            "type": "table"
           }
          ]
         },
         "layout": {
          "annotationdefaults": {
           "arrowcolor": "#2a3f5f",
           "arrowhead": 0,
           "arrowwidth": 1
          },
          "autotypenumbers": "strict",
          "coloraxis": {
           "colorbar": {
            "outlinewidth": 0,
            "ticks": ""
           }
          },
          "colorscale": {
           "diverging": [
            [
             0,
             "#8e0152"
            ],
            [
             0.1,
             "#c51b7d"
            ],
            [
             0.2,
             "#de77ae"
            ],
            [
             0.3,
             "#f1b6da"
            ],
            [
             0.4,
             "#fde0ef"
            ],
            [
             0.5,
             "#f7f7f7"
            ],
            [
             0.6,
             "#e6f5d0"
            ],
            [
             0.7,
             "#b8e186"
            ],
            [
             0.8,
             "#7fbc41"
            ],
            [
             0.9,
             "#4d9221"
            ],
            [
             1,
             "#276419"
            ]
           ],
           "sequential": [
            [
             0,
             "#0d0887"
            ],
            [
             0.1111111111111111,
             "#46039f"
            ],
            [
             0.2222222222222222,
             "#7201a8"
            ],
            [
             0.3333333333333333,
             "#9c179e"
            ],
            [
             0.4444444444444444,
             "#bd3786"
            ],
            [
             0.5555555555555556,
             "#d8576b"
            ],
            [
             0.6666666666666666,
             "#ed7953"
            ],
            [
             0.7777777777777778,
             "#fb9f3a"
            ],
            [
             0.8888888888888888,
             "#fdca26"
            ],
            [
             1,
             "#f0f921"
            ]
           ],
           "sequentialminus": [
            [
             0,
             "#0d0887"
            ],
            [
             0.1111111111111111,
             "#46039f"
            ],
            [
             0.2222222222222222,
             "#7201a8"
            ],
            [
             0.3333333333333333,
             "#9c179e"
            ],
            [
             0.4444444444444444,
             "#bd3786"
            ],
            [
             0.5555555555555556,
             "#d8576b"
            ],
            [
             0.6666666666666666,
             "#ed7953"
            ],
            [
             0.7777777777777778,
             "#fb9f3a"
            ],
            [
             0.8888888888888888,
             "#fdca26"
            ],
            [
             1,
             "#f0f921"
            ]
           ]
          },
          "colorway": [
           "#636efa",
           "#EF553B",
           "#00cc96",
           "#ab63fa",
           "#FFA15A",
           "#19d3f3",
           "#FF6692",
           "#B6E880",
           "#FF97FF",
           "#FECB52"
          ],
          "font": {
           "color": "#2a3f5f"
          },
          "geo": {
           "bgcolor": "white",
           "lakecolor": "white",
           "landcolor": "white",
           "showlakes": true,
           "showland": true,
           "subunitcolor": "#C8D4E3"
          },
          "hoverlabel": {
           "align": "left"
          },
          "hovermode": "closest",
          "mapbox": {
           "style": "light"
          },
          "paper_bgcolor": "white",
          "plot_bgcolor": "white",
          "polar": {
           "angularaxis": {
            "gridcolor": "#EBF0F8",
            "linecolor": "#EBF0F8",
            "ticks": ""
           },
           "bgcolor": "white",
           "radialaxis": {
            "gridcolor": "#EBF0F8",
            "linecolor": "#EBF0F8",
            "ticks": ""
           }
          },
          "scene": {
           "xaxis": {
            "backgroundcolor": "white",
            "gridcolor": "#DFE8F3",
            "gridwidth": 2,
            "linecolor": "#EBF0F8",
            "showbackground": true,
            "ticks": "",
            "zerolinecolor": "#EBF0F8"
           },
           "yaxis": {
            "backgroundcolor": "white",
            "gridcolor": "#DFE8F3",
            "gridwidth": 2,
            "linecolor": "#EBF0F8",
            "showbackground": true,
            "ticks": "",
            "zerolinecolor": "#EBF0F8"
           },
           "zaxis": {
            "backgroundcolor": "white",
            "gridcolor": "#DFE8F3",
            "gridwidth": 2,
            "linecolor": "#EBF0F8",
            "showbackground": true,
            "ticks": "",
            "zerolinecolor": "#EBF0F8"
           }
          },
          "shapedefaults": {
           "line": {
            "color": "#2a3f5f"
           }
          },
          "ternary": {
           "aaxis": {
            "gridcolor": "#DFE8F3",
            "linecolor": "#A2B1C6",
            "ticks": ""
           },
           "baxis": {
            "gridcolor": "#DFE8F3",
            "linecolor": "#A2B1C6",
            "ticks": ""
           },
           "bgcolor": "white",
           "caxis": {
            "gridcolor": "#DFE8F3",
            "linecolor": "#A2B1C6",
            "ticks": ""
           }
          },
          "title": {
           "x": 0.05
          },
          "xaxis": {
           "automargin": true,
           "gridcolor": "#EBF0F8",
           "linecolor": "#EBF0F8",
           "ticks": "",
           "title": {
            "standoff": 15
           },
           "zerolinecolor": "#EBF0F8",
           "zerolinewidth": 2
          },
          "yaxis": {
           "automargin": true,
           "gridcolor": "#EBF0F8",
           "linecolor": "#EBF0F8",
           "ticks": "",
           "title": {
            "standoff": 15
           },
           "zerolinecolor": "#EBF0F8",
           "zerolinewidth": 2
          }
         }
        },
        "width": 800
       }
      }
     },
     "metadata": {},
     "output_type": "display_data"
    }
   ],
   "source": [
    "import plotly.express as px\n",
    "import plotly.graph_objects as go\n",
    "import polars as pl\n",
    "import numpy as np\n",
    "\n",
    "#------------------------------------------------------------------------------#\n",
    "#     Election winners cannot be determined from the weekly dataset. Two       # \n",
    "#     elections were won by candidates who loser of the popular vote.          #\n",
    "#------------------------------------------------------------------------------#\n",
    "df_election_winners = (\n",
    "    # this df created as Lazy Frame for later join with other lazy frame\n",
    "    pl.LazyFrame(\n",
    "    {\n",
    "        'YEAR'    : [1976, 1980, 1984, 1988, 1992, 1996, 2000, 2004, 2008 ,2012, 2016, 2020],\n",
    "        'WINNER'  : ['Democrat','Republican','Republican','Republican', 'Democrat', \n",
    "                     'Democrat','Republican','Republican','Democrat','Democrat',\n",
    "                     'Republican','Democrat'] \n",
    "    }\n",
    "    )\n",
    "    .with_columns(pl.col('YEAR').cast(pl.Int16))\n",
    ")\n",
    "print(f'{df_election_winners =  }')\n",
    "# print(f'{df_election_winners.schema =  }')\n",
    "print(f'{df_election_winners.collect_schema() =  }')\n",
    "print(f'{df_election_winners.describe =  }')\n",
    "print(f'{df_election_winners.inspect =  }')\n",
    "\n",
    "#------------------------------------------------------------------------------#\n",
    "#     Read dataset from local file, clean up - uses polars LazyFrame           #\n",
    "#------------------------------------------------------------------------------#\n",
    "df = (\n",
    "    pl.scan_csv(       # pl.scan_csv creates Lazy Frame for query optimization\n",
    "    './Dataset/1976-2020-president.csv',\n",
    "    ignore_errors=True\n",
    "    )\n",
    "    .select(pl.col('year', 'state', 'party_simplified', 'candidatevotes'))\n",
    "    .rename(\n",
    "        {\n",
    "            'year': 'YEAR',\n",
    "            'state':'STATE',\n",
    "            'party_simplified':'PARTY',\n",
    "            'candidatevotes':'VOTES'\n",
    "        }\n",
    "    )\n",
    "    .filter(pl.col('PARTY').is_in(['DEMOCRAT', 'REPUBLICAN']))\n",
    "    .with_columns(\n",
    "        pl.col('PARTY')\n",
    "        .str.replace('DEMOCRAT', 'DEM')\n",
    "        .str.replace('REPUBLICAN', 'REP'),\n",
    "        pl.col('YEAR').cast(pl.Int16),\n",
    "        pl.col('VOTES').cast(pl.Int32)\n",
    "    )\n",
    "     # optimize & run query from scan_csv to .collect() on the next line\n",
    "    .collect()   \n",
    "    .pivot(\n",
    "         index =['YEAR', 'STATE'],\n",
    "         on = 'PARTY',\n",
    "         values='VOTES',\n",
    "         aggregate_function='sum'\n",
    "    )\n",
    "    # convert back to lazy mode post-pivot\n",
    "    .lazy()     # converting back to Lazy Frames\n",
    "    .with_columns(\n",
    "        STATE_WINNER = \n",
    "            pl.when(pl.col('DEM')> pl.col('REP'))\n",
    "            .then(pl.lit('Democrat'))\n",
    "            .otherwise(pl.lit('Republican'))\n",
    "    )\n",
    "    .with_columns(\n",
    "        STATE_LOSER = \n",
    "            pl.when(pl.col('DEM')> pl.col('REP'))\n",
    "            .then(pl.lit('Republican'))\n",
    "            .otherwise(pl.lit('Democrat'))\n",
    "    )\n",
    "    .join(\n",
    "        df_election_winners,\n",
    "        on='YEAR',\n",
    "        how='left'\n",
    "    )\n",
    "    .with_columns(\n",
    "        WIN = pl.when(pl.col('STATE_WINNER') == pl.col('WINNER'))\n",
    "                .then(pl.lit(1))\n",
    "                .otherwise(pl.lit(0))\n",
    "    )\n",
    "    .with_columns(\n",
    "        LOSS = pl.when(pl.col('STATE_WINNER') != pl.col('WINNER'))\n",
    "                .then(pl.lit(1))\n",
    "                .otherwise(pl.lit(0))\n",
    "    )\n",
    "\n",
    "    # optimize & run query from previous .lazy() to .collect() on the next line\n",
    "    .collect()\n",
    ")\n",
    "\n",
    "#------------------------------------------------------------------------------#\n",
    "#     Make scatter plot to show  each state's winning party by year            #\n",
    "#------------------------------------------------------------------------------#\n",
    "states = df.columns[0:-2]\n",
    "df_state_winners = (\n",
    "    df\n",
    "    .pivot(\n",
    "        index = 'YEAR',\n",
    "        on = 'STATE',\n",
    "        values = 'STATE_WINNER'\n",
    "    )\n",
    "    .with_columns(pl.col('YEAR').cast(pl.String))\n",
    ")\n",
    "print(f'{df_state_winners.head(2) = }')\n",
    "print(f'{df_state_winners.glimpse() = }')\n",
    "\n",
    "states = df_state_winners.columns[1:]\n",
    "\n",
    "fig = px.scatter(df_state_winners, 'YEAR', states)\n",
    "fig.update_layout(\n",
    "    title = f'USA Elections: State Winner by YEAR'.upper(),\n",
    "    height=300, width=1000,\n",
    "    xaxis_title='ELECTION YEAR'.upper(),\n",
    "    yaxis_title=\"Winning party\".upper(),\n",
    "    yaxis_title_font=dict(size=14),\n",
    "    xaxis_title_font=dict(size=14),\n",
    "    margin={\"r\":50, \"t\":50, \"l\":50, \"b\":50},\n",
    "    autosize=False,\n",
    "    showlegend=True,\n",
    "    template='plotly_white'\n",
    ")\n",
    "#  Setup hover elements\n",
    "fig.update_traces(\n",
    "    mode='markers+lines',\n",
    "    marker=dict(size=12, line=dict(width=0)),\n",
    "    )\n",
    "# fig.update_layout(hovermode='x unified')\n",
    "fig.update_layout(legend_title='STATE')\n",
    "fig.update_yaxes(range = ['REP', 'DEM'])\n",
    "fig.update_yaxes(categoryorder='category descending')\n",
    "\n",
    "fig.show()\n",
    "\n",
    "#------------------------------------------------------------------------------#\n",
    "#     Draw a plotly table with the win/loss results                            #\n",
    "#------------------------------------------------------------------------------#\n",
    "df_wins_losses = (\n",
    "    pl.LazyFrame(   # start as a lazy frame\n",
    "        df\n",
    "        .group_by('STATE')\n",
    "        .agg(\n",
    "            [\n",
    "                pl.col('WIN').sum(),\n",
    "                pl.col('LOSS').sum()\n",
    "            ]\n",
    "        )\n",
    "        .sort('WIN', 'STATE', descending =[True, False])\n",
    "    )\n",
    "    .collect()    # convert lazy frame to dataframe\n",
    ")\n",
    "\n",
    "fig = go.Figure(\n",
    "    data=[\n",
    "        go.Table(\n",
    "            header=dict(\n",
    "                values=['STATE', 'ELECTION<br>WINS', 'ELECTION<br>LOSSES'],\n",
    "                line_color='darkslategray',\n",
    "                fill_color='royalblue',\n",
    "                align=['left','center'],\n",
    "                font=dict(color='white', size=20),\n",
    "                height=40\n",
    "                ),\n",
    "                cells = dict (\n",
    "                    values=[\n",
    "                            df_wins_losses['STATE'], \n",
    "                            df_wins_losses['WIN'],\n",
    "                            df_wins_losses['LOSS'],\n",
    "                        ],\n",
    "                        line_color='gray',\n",
    "                        fill_color='white',\n",
    "                        align=['left','center'],\n",
    "                        font_size=20,\n",
    "                        height=40\n",
    "                ),\n",
    "        )\n",
    "    ]\n",
    ")\n",
    "fig.update_layout(template = 'plotly_white', width=800, height=800)\n",
    "\n",
    "fig.show()\n"
   ]
  },
  {
   "cell_type": "markdown",
   "metadata": {},
   "source": []
  }
 ],
 "metadata": {
  "kernelspec": {
   "display_name": "Python 3",
   "language": "python",
   "name": "python3"
  },
  "language_info": {
   "codemirror_mode": {
    "name": "ipython",
    "version": 3
   },
   "file_extension": ".py",
   "mimetype": "text/x-python",
   "name": "python",
   "nbconvert_exporter": "python",
   "pygments_lexer": "ipython3",
   "version": "3.13.1"
  }
 },
 "nbformat": 4,
 "nbformat_minor": 4
}
