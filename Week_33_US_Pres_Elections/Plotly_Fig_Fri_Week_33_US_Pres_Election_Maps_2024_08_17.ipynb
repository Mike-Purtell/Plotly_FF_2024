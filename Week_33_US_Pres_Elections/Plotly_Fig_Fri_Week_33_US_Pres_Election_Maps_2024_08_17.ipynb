{
 "cells": [
  {
   "cell_type": "markdown",
   "metadata": {},
   "source": [
    "## Aug 17, 2024 - Plotly Figure Friday - Week 33 - US Presidential Elections\n"
   ]
  },
  {
   "cell_type": "code",
   "execution_count": 16,
   "metadata": {},
   "outputs": [
    {
     "name": "stdout",
     "output_type": "stream",
     "text": [
      "\n",
      "\n",
      "\n",
      "\n",
      "\n",
      "                                                   1976\n"
     ]
    },
    {
     "data": {
      "application/vnd.plotly.v1+json": {
       "config": {
        "plotlyServerURL": "https://plot.ly"
       },
       "data": [
        {
         "coloraxis": "coloraxis",
         "customdata": [
          [
           "ALABAMA",
           1976,
           "Carter",
           "D",
           "Ford",
           "R",
           0.5572726888447394,
           0.42614870862746757,
           0.13112398021727178
          ],
          [
           "ALASKA",
           1976,
           "Ford",
           "R",
           "Carter",
           "D",
           0.5790457539611893,
           0.3565313091750692,
           0.2225144447861201
          ],
          [
           "ARIZONA",
           1976,
           "Ford",
           "R",
           "Carter",
           "D",
           0.5636613577948053,
           0.39799978188251545,
           0.16566157591228986
          ],
          [
           "ARKANSAS",
           1976,
           "Carter",
           "D",
           "Ford",
           "R",
           0.6496172812966184,
           0.3490433661005687,
           0.30057391519604976
          ],
          [
           "CALIFORNIA",
           1976,
           "Ford",
           "R",
           "Carter",
           "D",
           0.4974831395594693,
           0.47954821836112543,
           0.01793492119834389
          ],
          [
           "COLORADO",
           1976,
           "Ford",
           "R",
           "Carter",
           "D",
           0.5402777777777777,
           0.4260994599792869,
           0.11417831779849086
          ],
          [
           "CONNECTICUT",
           1976,
           "Ford",
           "R",
           "Carter",
           "D",
           0.5188144450735923,
           0.46733700964038793,
           0.05147743543320438
          ],
          [
           "DELAWARE",
           1976,
           "Carter",
           "D",
           "Ford",
           "R",
           0.5196908870235357,
           0.46587620203529084,
           0.053814684988244876
          ],
          [
           "DISTRICT OF COLUMBIA",
           1976,
           "Carter",
           "D",
           "Ford",
           "R",
           0.8163122667772316,
           0.16509506604276492,
           0.6512172007344667
          ],
          [
           "FLORIDA",
           1976,
           "Carter",
           "D",
           "Ford",
           "R",
           0.5192610623078361,
           0.46642434483758966,
           0.05283671747024643
          ],
          [
           "GEORGIA",
           1976,
           "Carter",
           "D",
           "Ford",
           "R",
           0.6693829485931742,
           0.3306170514068258,
           0.33876589718634836
          ],
          [
           "HAWAII",
           1976,
           "Carter",
           "D",
           "Ford",
           "R",
           0.5059199934088795,
           0.48061283689379714,
           0.025307156515082363
          ],
          [
           "IDAHO",
           1976,
           "Ford",
           "R",
           "Carter",
           "D",
           0.5988026937923104,
           0.37118545633733413,
           0.2276172374549763
          ],
          [
           "ILLINOIS",
           1976,
           "Ford",
           "R",
           "Carter",
           "D",
           0.5007684353529401,
           0.48107590268914247,
           0.01969253266379767
          ],
          [
           "INDIANA",
           1976,
           "Ford",
           "R",
           "Carter",
           "D",
           0.5332274647107094,
           0.45700385792947273,
           0.07622360678123663
          ],
          [
           "IOWA",
           1976,
           "Ford",
           "R",
           "Carter",
           "D",
           0.49469437654722925,
           0.48458496540694423,
           0.010109411140285018
          ],
          [
           "KANSAS",
           1976,
           "Ford",
           "R",
           "Carter",
           "D",
           0.5248782423043394,
           0.44936393675385894,
           0.0755143055504805
          ],
          [
           "KENTUCKY",
           1976,
           "Carter",
           "D",
           "Ford",
           "R",
           0.5275424926872652,
           0.45568748275702525,
           0.07185500993023991
          ],
          [
           "LOUISIANA",
           1976,
           "Carter",
           "D",
           "Ford",
           "R",
           0.5177499622274604,
           0.45988243150253294,
           0.05786753072492745
          ],
          [
           "MAINE",
           1976,
           "Ford",
           "R",
           "Carter",
           "D",
           0.489307780225605,
           0.480940766261947,
           0.008367013963658021
          ],
          [
           "MARYLAND",
           1976,
           "Carter",
           "D",
           "Ford",
           "R",
           0.5303541992343639,
           0.46964580076563617,
           0.06070839846872772
          ],
          [
           "MASSACHUSETTS",
           1976,
           "Carter",
           "D",
           "Ford",
           "R",
           0.5611157822510813,
           0.40441709276098914,
           0.15669868949009214
          ],
          [
           "MICHIGAN",
           1976,
           "Ford",
           "R",
           "Carter",
           "D",
           0.518607510700818,
           0.46465074118397737,
           0.05395676951684064
          ],
          [
           "MINNESOTA",
           1976,
           "Carter",
           "D",
           "Ford",
           "R",
           0.5489630145887213,
           0.4202174333348206,
           0.12874558125390073
          ],
          [
           "MISSISSIPPI",
           1976,
           "Carter",
           "D",
           "Ford",
           "R",
           0.4962701232447065,
           0.4774216218326631,
           0.01884850141204336
          ],
          [
           "MISSOURI",
           1976,
           "Carter",
           "D",
           "Ford",
           "R",
           0.5110498566748567,
           0.47473536036036035,
           0.03631449631449635
          ],
          [
           "MONTANA",
           1976,
           "Ford",
           "R",
           "Carter",
           "D",
           0.5283998612860246,
           0.4540418697183741,
           0.07435799156765044
          ],
          [
           "NEBRASKA",
           1976,
           "Ford",
           "R",
           "Carter",
           "D",
           0.5920388826351588,
           0.38449671940126806,
           0.20754216323389074
          ],
          [
           "NEVADA",
           1976,
           "Ford",
           "R",
           "Carter",
           "D",
           0.5016594345043492,
           0.4580980403812241,
           0.04356139412312515
          ],
          [
           "NEW HAMPSHIRE",
           1976,
           "Ford",
           "R",
           "Carter",
           "D",
           0.5474682519352113,
           0.43472692100451377,
           0.11274133093069755
          ],
          [
           "NEW JERSEY",
           1976,
           "Ford",
           "R",
           "Carter",
           "D",
           0.500813409446165,
           0.4792391503387658,
           0.02157425910739924
          ],
          [
           "NEW MEXICO",
           1976,
           "Ford",
           "R",
           "Carter",
           "D",
           0.5074989798122854,
           0.4828440433039679,
           0.024654936508317515
          ],
          [
           "NEW YORK",
           1976,
           "Carter",
           "D",
           "Ford",
           "R",
           0.4865083285569763,
           0.4237855381207277,
           0.06272279043624857
          ],
          [
           "NORTH CAROLINA",
           1976,
           "Carter",
           "D",
           "Ford",
           "R",
           0.5526918671248569,
           0.4421940204040036,
           0.11049784672085328
          ],
          [
           "NORTH DAKOTA",
           1976,
           "Ford",
           "R",
           "Carter",
           "D",
           0.5169184818437446,
           0.4577004318753616,
           0.05921804996838298
          ],
          [
           "OHIO",
           1976,
           "Carter",
           "D",
           "Ford",
           "R",
           0.4889868666639419,
           0.48671631565938184,
           0.002270551004560084
          ],
          [
           "OKLAHOMA",
           1976,
           "Ford",
           "R",
           "Carter",
           "D",
           0.4996177618514426,
           0.48747220190231,
           0.012145559949132578
          ],
          [
           "OREGON",
           1976,
           "Ford",
           "R",
           "Carter",
           "D",
           0.4778439346096035,
           0.47618062757069785,
           0.0016633070389056592
          ],
          [
           "PENNSYLVANIA",
           1976,
           "Carter",
           "D",
           "Ford",
           "R",
           0.5039567935072532,
           0.4773221531310575,
           0.026634640376195673
          ],
          [
           "RHODE ISLAND",
           1976,
           "Carter",
           "D",
           "Ford",
           "R",
           0.5544200455935935,
           0.4414419461060343,
           0.11297809948755916
          ],
          [
           "SOUTH CAROLINA",
           1976,
           "Carter",
           "D",
           "Ford",
           "R",
           0.5616951766982355,
           0.43129371043244125,
           0.1304014662657943
          ],
          [
           "SOUTH DAKOTA",
           1976,
           "Ford",
           "R",
           "Carter",
           "D",
           0.5038779026067753,
           0.48912125263570994,
           0.014756649971065405
          ],
          [
           "TENNESSEE",
           1976,
           "Carter",
           "D",
           "Ford",
           "R",
           0.5594074830696869,
           0.4294176297426213,
           0.12998985332706559
          ],
          [
           "TEXAS",
           1976,
           "Carter",
           "D",
           "Ford",
           "R",
           0.511389568072175,
           0.4797042351894111,
           0.03168533288276387
          ],
          [
           "UTAH",
           1976,
           "Ford",
           "R",
           "Carter",
           "D",
           0.6243473055219892,
           0.3364817873758818,
           0.28786551814610745
          ],
          [
           "VERMONT",
           1976,
           "Ford",
           "R",
           "Carter",
           "D",
           0.5458722580504834,
           0.42304053245750456,
           0.12283172559297889
          ],
          [
           "VIRGINIA",
           1976,
           "Ford",
           "R",
           "Carter",
           "D",
           0.4929332140706408,
           0.47958215632133516,
           0.013351057749305617
          ],
          [
           "WASHINGTON",
           1976,
           "Ford",
           "R",
           "Carter",
           "D",
           0.49997749968821,
           0.46114260440466104,
           0.03883489528354894
          ],
          [
           "WEST VIRGINIA",
           1976,
           "Carter",
           "D",
           "Ford",
           "R",
           0.5806951864533234,
           0.4193048135466766,
           0.16139037290664682
          ],
          [
           "WISCONSIN",
           1976,
           "Carter",
           "D",
           "Ford",
           "R",
           0.4950336357441171,
           0.4782609730190698,
           0.016772662725047294
          ],
          [
           "WYOMING",
           1976,
           "Ford",
           "R",
           "Carter",
           "D",
           0.5930358250769142,
           0.39809265525159426,
           0.19494316982531995
          ]
         ],
         "geo": "geo",
         "geojson": "https://raw.githubusercontent.com/plotly/datasets/master/geojson-counties-fips.json",
         "hovertemplate": "%{customdata[0]}: %{customdata[1]}<br>%{customdata[2]}-%{customdata[3]} def. %{customdata[4]}-%{customdata[5]}<br>%{customdata[6]:.1%} to %{customdata[7]:.1%}<br>Margin: %{customdata[8]:.1%}<br><extra></extra>",
         "locationmode": "USA-states",
         "locations": [
          "AL",
          "AK",
          "AZ",
          "AR",
          "CA",
          "CO",
          "CT",
          "DE",
          "DC",
          "FL",
          "GA",
          "HI",
          "ID",
          "IL",
          "IN",
          "IA",
          "KS",
          "KY",
          "LA",
          "ME",
          "MD",
          "MA",
          "MI",
          "MN",
          "MS",
          "MO",
          "MT",
          "NE",
          "NV",
          "NH",
          "NJ",
          "NM",
          "NY",
          "NC",
          "ND",
          "OH",
          "OK",
          "OR",
          "PA",
          "RI",
          "SC",
          "SD",
          "TN",
          "TX",
          "UT",
          "VT",
          "VA",
          "WA",
          "WV",
          "WI",
          "WY"
         ],
         "name": "",
         "type": "choropleth",
         "z": [
          0.13112398021727178,
          -0.2225144447861201,
          -0.16566157591228986,
          0.30057391519604976,
          -0.01793492119834389,
          -0.11417831779849086,
          -0.05147743543320438,
          0.053814684988244876,
          0.6512172007344667,
          0.05283671747024643,
          0.33876589718634836,
          0.025307156515082363,
          -0.2276172374549763,
          -0.01969253266379767,
          -0.07622360678123663,
          -0.010109411140285018,
          -0.0755143055504805,
          0.07185500993023991,
          0.05786753072492745,
          -0.008367013963658021,
          0.06070839846872772,
          0.15669868949009214,
          -0.05395676951684064,
          0.12874558125390073,
          0.01884850141204336,
          0.03631449631449635,
          -0.07435799156765044,
          -0.20754216323389074,
          -0.04356139412312515,
          -0.11274133093069755,
          -0.02157425910739924,
          -0.024654936508317515,
          0.06272279043624857,
          0.11049784672085328,
          -0.05921804996838298,
          0.002270551004560084,
          -0.012145559949132578,
          -0.0016633070389056592,
          0.026634640376195673,
          0.11297809948755916,
          0.1304014662657943,
          -0.014756649971065405,
          0.12998985332706559,
          0.03168533288276387,
          -0.28786551814610745,
          -0.12283172559297889,
          -0.013351057749305617,
          -0.03883489528354894,
          0.16139037290664682,
          0.016772662725047294,
          -0.19494316982531995
         ]
        }
       ],
       "layout": {
        "coloraxis": {
         "cmax": 0.35,
         "cmid": 0,
         "cmin": -0.35,
         "colorbar": {
          "title": {
           "text": "DIFF_PCT"
          }
         },
         "colorscale": [
          [
           0,
           "rgb(103,0,31)"
          ],
          [
           0.1,
           "rgb(178,24,43)"
          ],
          [
           0.2,
           "rgb(214,96,77)"
          ],
          [
           0.3,
           "rgb(244,165,130)"
          ],
          [
           0.4,
           "rgb(253,219,199)"
          ],
          [
           0.5,
           "rgb(247,247,247)"
          ],
          [
           0.6,
           "rgb(209,229,240)"
          ],
          [
           0.7,
           "rgb(146,197,222)"
          ],
          [
           0.8,
           "rgb(67,147,195)"
          ],
          [
           0.9,
           "rgb(33,102,172)"
          ],
          [
           1,
           "rgb(5,48,97)"
          ]
         ]
        },
        "geo": {
         "center": {},
         "domain": {
          "x": [
           0,
           1
          ],
          "y": [
           0,
           1
          ]
         },
         "scope": "usa"
        },
        "legend": {
         "tracegroupgap": 0
        },
        "margin": {
         "b": 0,
         "l": 0,
         "r": 0,
         "t": 0
        },
        "template": {
         "data": {
          "bar": [
           {
            "error_x": {
             "color": "#2a3f5f"
            },
            "error_y": {
             "color": "#2a3f5f"
            },
            "marker": {
             "line": {
              "color": "#E5ECF6",
              "width": 0.5
             },
             "pattern": {
              "fillmode": "overlay",
              "size": 10,
              "solidity": 0.2
             }
            },
            "type": "bar"
           }
          ],
          "barpolar": [
           {
            "marker": {
             "line": {
              "color": "#E5ECF6",
              "width": 0.5
             },
             "pattern": {
              "fillmode": "overlay",
              "size": 10,
              "solidity": 0.2
             }
            },
            "type": "barpolar"
           }
          ],
          "carpet": [
           {
            "aaxis": {
             "endlinecolor": "#2a3f5f",
             "gridcolor": "white",
             "linecolor": "white",
             "minorgridcolor": "white",
             "startlinecolor": "#2a3f5f"
            },
            "baxis": {
             "endlinecolor": "#2a3f5f",
             "gridcolor": "white",
             "linecolor": "white",
             "minorgridcolor": "white",
             "startlinecolor": "#2a3f5f"
            },
            "type": "carpet"
           }
          ],
          "choropleth": [
           {
            "colorbar": {
             "outlinewidth": 0,
             "ticks": ""
            },
            "type": "choropleth"
           }
          ],
          "contour": [
           {
            "colorbar": {
             "outlinewidth": 0,
             "ticks": ""
            },
            "colorscale": [
             [
              0,
              "#0d0887"
             ],
             [
              0.1111111111111111,
              "#46039f"
             ],
             [
              0.2222222222222222,
              "#7201a8"
             ],
             [
              0.3333333333333333,
              "#9c179e"
             ],
             [
              0.4444444444444444,
              "#bd3786"
             ],
             [
              0.5555555555555556,
              "#d8576b"
             ],
             [
              0.6666666666666666,
              "#ed7953"
             ],
             [
              0.7777777777777778,
              "#fb9f3a"
             ],
             [
              0.8888888888888888,
              "#fdca26"
             ],
             [
              1,
              "#f0f921"
             ]
            ],
            "type": "contour"
           }
          ],
          "contourcarpet": [
           {
            "colorbar": {
             "outlinewidth": 0,
             "ticks": ""
            },
            "type": "contourcarpet"
           }
          ],
          "heatmap": [
           {
            "colorbar": {
             "outlinewidth": 0,
             "ticks": ""
            },
            "colorscale": [
             [
              0,
              "#0d0887"
             ],
             [
              0.1111111111111111,
              "#46039f"
             ],
             [
              0.2222222222222222,
              "#7201a8"
             ],
             [
              0.3333333333333333,
              "#9c179e"
             ],
             [
              0.4444444444444444,
              "#bd3786"
             ],
             [
              0.5555555555555556,
              "#d8576b"
             ],
             [
              0.6666666666666666,
              "#ed7953"
             ],
             [
              0.7777777777777778,
              "#fb9f3a"
             ],
             [
              0.8888888888888888,
              "#fdca26"
             ],
             [
              1,
              "#f0f921"
             ]
            ],
            "type": "heatmap"
           }
          ],
          "heatmapgl": [
           {
            "colorbar": {
             "outlinewidth": 0,
             "ticks": ""
            },
            "colorscale": [
             [
              0,
              "#0d0887"
             ],
             [
              0.1111111111111111,
              "#46039f"
             ],
             [
              0.2222222222222222,
              "#7201a8"
             ],
             [
              0.3333333333333333,
              "#9c179e"
             ],
             [
              0.4444444444444444,
              "#bd3786"
             ],
             [
              0.5555555555555556,
              "#d8576b"
             ],
             [
              0.6666666666666666,
              "#ed7953"
             ],
             [
              0.7777777777777778,
              "#fb9f3a"
             ],
             [
              0.8888888888888888,
              "#fdca26"
             ],
             [
              1,
              "#f0f921"
             ]
            ],
            "type": "heatmapgl"
           }
          ],
          "histogram": [
           {
            "marker": {
             "pattern": {
              "fillmode": "overlay",
              "size": 10,
              "solidity": 0.2
             }
            },
            "type": "histogram"
           }
          ],
          "histogram2d": [
           {
            "colorbar": {
             "outlinewidth": 0,
             "ticks": ""
            },
            "colorscale": [
             [
              0,
              "#0d0887"
             ],
             [
              0.1111111111111111,
              "#46039f"
             ],
             [
              0.2222222222222222,
              "#7201a8"
             ],
             [
              0.3333333333333333,
              "#9c179e"
             ],
             [
              0.4444444444444444,
              "#bd3786"
             ],
             [
              0.5555555555555556,
              "#d8576b"
             ],
             [
              0.6666666666666666,
              "#ed7953"
             ],
             [
              0.7777777777777778,
              "#fb9f3a"
             ],
             [
              0.8888888888888888,
              "#fdca26"
             ],
             [
              1,
              "#f0f921"
             ]
            ],
            "type": "histogram2d"
           }
          ],
          "histogram2dcontour": [
           {
            "colorbar": {
             "outlinewidth": 0,
             "ticks": ""
            },
            "colorscale": [
             [
              0,
              "#0d0887"
             ],
             [
              0.1111111111111111,
              "#46039f"
             ],
             [
              0.2222222222222222,
              "#7201a8"
             ],
             [
              0.3333333333333333,
              "#9c179e"
             ],
             [
              0.4444444444444444,
              "#bd3786"
             ],
             [
              0.5555555555555556,
              "#d8576b"
             ],
             [
              0.6666666666666666,
              "#ed7953"
             ],
             [
              0.7777777777777778,
              "#fb9f3a"
             ],
             [
              0.8888888888888888,
              "#fdca26"
             ],
             [
              1,
              "#f0f921"
             ]
            ],
            "type": "histogram2dcontour"
           }
          ],
          "mesh3d": [
           {
            "colorbar": {
             "outlinewidth": 0,
             "ticks": ""
            },
            "type": "mesh3d"
           }
          ],
          "parcoords": [
           {
            "line": {
             "colorbar": {
              "outlinewidth": 0,
              "ticks": ""
             }
            },
            "type": "parcoords"
           }
          ],
          "pie": [
           {
            "automargin": true,
            "type": "pie"
           }
          ],
          "scatter": [
           {
            "fillpattern": {
             "fillmode": "overlay",
             "size": 10,
             "solidity": 0.2
            },
            "type": "scatter"
           }
          ],
          "scatter3d": [
           {
            "line": {
             "colorbar": {
              "outlinewidth": 0,
              "ticks": ""
             }
            },
            "marker": {
             "colorbar": {
              "outlinewidth": 0,
              "ticks": ""
             }
            },
            "type": "scatter3d"
           }
          ],
          "scattercarpet": [
           {
            "marker": {
             "colorbar": {
              "outlinewidth": 0,
              "ticks": ""
             }
            },
            "type": "scattercarpet"
           }
          ],
          "scattergeo": [
           {
            "marker": {
             "colorbar": {
              "outlinewidth": 0,
              "ticks": ""
             }
            },
            "type": "scattergeo"
           }
          ],
          "scattergl": [
           {
            "marker": {
             "colorbar": {
              "outlinewidth": 0,
              "ticks": ""
             }
            },
            "type": "scattergl"
           }
          ],
          "scattermapbox": [
           {
            "marker": {
             "colorbar": {
              "outlinewidth": 0,
              "ticks": ""
             }
            },
            "type": "scattermapbox"
           }
          ],
          "scatterpolar": [
           {
            "marker": {
             "colorbar": {
              "outlinewidth": 0,
              "ticks": ""
             }
            },
            "type": "scatterpolar"
           }
          ],
          "scatterpolargl": [
           {
            "marker": {
             "colorbar": {
              "outlinewidth": 0,
              "ticks": ""
             }
            },
            "type": "scatterpolargl"
           }
          ],
          "scatterternary": [
           {
            "marker": {
             "colorbar": {
              "outlinewidth": 0,
              "ticks": ""
             }
            },
            "type": "scatterternary"
           }
          ],
          "surface": [
           {
            "colorbar": {
             "outlinewidth": 0,
             "ticks": ""
            },
            "colorscale": [
             [
              0,
              "#0d0887"
             ],
             [
              0.1111111111111111,
              "#46039f"
             ],
             [
              0.2222222222222222,
              "#7201a8"
             ],
             [
              0.3333333333333333,
              "#9c179e"
             ],
             [
              0.4444444444444444,
              "#bd3786"
             ],
             [
              0.5555555555555556,
              "#d8576b"
             ],
             [
              0.6666666666666666,
              "#ed7953"
             ],
             [
              0.7777777777777778,
              "#fb9f3a"
             ],
             [
              0.8888888888888888,
              "#fdca26"
             ],
             [
              1,
              "#f0f921"
             ]
            ],
            "type": "surface"
           }
          ],
          "table": [
           {
            "cells": {
             "fill": {
              "color": "#EBF0F8"
             },
             "line": {
              "color": "white"
             }
            },
            "header": {
             "fill": {
              "color": "#C8D4E3"
             },
             "line": {
              "color": "white"
             }
            },
            "type": "table"
           }
          ]
         },
         "layout": {
          "annotationdefaults": {
           "arrowcolor": "#2a3f5f",
           "arrowhead": 0,
           "arrowwidth": 1
          },
          "autotypenumbers": "strict",
          "coloraxis": {
           "colorbar": {
            "outlinewidth": 0,
            "ticks": ""
           }
          },
          "colorscale": {
           "diverging": [
            [
             0,
             "#8e0152"
            ],
            [
             0.1,
             "#c51b7d"
            ],
            [
             0.2,
             "#de77ae"
            ],
            [
             0.3,
             "#f1b6da"
            ],
            [
             0.4,
             "#fde0ef"
            ],
            [
             0.5,
             "#f7f7f7"
            ],
            [
             0.6,
             "#e6f5d0"
            ],
            [
             0.7,
             "#b8e186"
            ],
            [
             0.8,
             "#7fbc41"
            ],
            [
             0.9,
             "#4d9221"
            ],
            [
             1,
             "#276419"
            ]
           ],
           "sequential": [
            [
             0,
             "#0d0887"
            ],
            [
             0.1111111111111111,
             "#46039f"
            ],
            [
             0.2222222222222222,
             "#7201a8"
            ],
            [
             0.3333333333333333,
             "#9c179e"
            ],
            [
             0.4444444444444444,
             "#bd3786"
            ],
            [
             0.5555555555555556,
             "#d8576b"
            ],
            [
             0.6666666666666666,
             "#ed7953"
            ],
            [
             0.7777777777777778,
             "#fb9f3a"
            ],
            [
             0.8888888888888888,
             "#fdca26"
            ],
            [
             1,
             "#f0f921"
            ]
           ],
           "sequentialminus": [
            [
             0,
             "#0d0887"
            ],
            [
             0.1111111111111111,
             "#46039f"
            ],
            [
             0.2222222222222222,
             "#7201a8"
            ],
            [
             0.3333333333333333,
             "#9c179e"
            ],
            [
             0.4444444444444444,
             "#bd3786"
            ],
            [
             0.5555555555555556,
             "#d8576b"
            ],
            [
             0.6666666666666666,
             "#ed7953"
            ],
            [
             0.7777777777777778,
             "#fb9f3a"
            ],
            [
             0.8888888888888888,
             "#fdca26"
            ],
            [
             1,
             "#f0f921"
            ]
           ]
          },
          "colorway": [
           "#636efa",
           "#EF553B",
           "#00cc96",
           "#ab63fa",
           "#FFA15A",
           "#19d3f3",
           "#FF6692",
           "#B6E880",
           "#FF97FF",
           "#FECB52"
          ],
          "font": {
           "color": "#2a3f5f"
          },
          "geo": {
           "bgcolor": "white",
           "lakecolor": "white",
           "landcolor": "#E5ECF6",
           "showlakes": true,
           "showland": true,
           "subunitcolor": "white"
          },
          "hoverlabel": {
           "align": "left"
          },
          "hovermode": "closest",
          "mapbox": {
           "style": "light"
          },
          "paper_bgcolor": "white",
          "plot_bgcolor": "#E5ECF6",
          "polar": {
           "angularaxis": {
            "gridcolor": "white",
            "linecolor": "white",
            "ticks": ""
           },
           "bgcolor": "#E5ECF6",
           "radialaxis": {
            "gridcolor": "white",
            "linecolor": "white",
            "ticks": ""
           }
          },
          "scene": {
           "xaxis": {
            "backgroundcolor": "#E5ECF6",
            "gridcolor": "white",
            "gridwidth": 2,
            "linecolor": "white",
            "showbackground": true,
            "ticks": "",
            "zerolinecolor": "white"
           },
           "yaxis": {
            "backgroundcolor": "#E5ECF6",
            "gridcolor": "white",
            "gridwidth": 2,
            "linecolor": "white",
            "showbackground": true,
            "ticks": "",
            "zerolinecolor": "white"
           },
           "zaxis": {
            "backgroundcolor": "#E5ECF6",
            "gridcolor": "white",
            "gridwidth": 2,
            "linecolor": "white",
            "showbackground": true,
            "ticks": "",
            "zerolinecolor": "white"
           }
          },
          "shapedefaults": {
           "line": {
            "color": "#2a3f5f"
           }
          },
          "ternary": {
           "aaxis": {
            "gridcolor": "white",
            "linecolor": "white",
            "ticks": ""
           },
           "baxis": {
            "gridcolor": "white",
            "linecolor": "white",
            "ticks": ""
           },
           "bgcolor": "#E5ECF6",
           "caxis": {
            "gridcolor": "white",
            "linecolor": "white",
            "ticks": ""
           }
          },
          "title": {
           "x": 0.05
          },
          "xaxis": {
           "automargin": true,
           "gridcolor": "white",
           "linecolor": "white",
           "ticks": "",
           "title": {
            "standoff": 15
           },
           "zerolinecolor": "white",
           "zerolinewidth": 2
          },
          "yaxis": {
           "automargin": true,
           "gridcolor": "white",
           "linecolor": "white",
           "ticks": "",
           "title": {
            "standoff": 15
           },
           "zerolinecolor": "white",
           "zerolinewidth": 2
          }
         }
        },
        "title": {
         "text": "1976"
        }
       }
      }
     },
     "metadata": {},
     "output_type": "display_data"
    },
    {
     "name": "stdout",
     "output_type": "stream",
     "text": [
      "\n",
      "\n",
      "\n",
      "\n",
      "\n",
      "                                                   1980\n"
     ]
    },
    {
     "data": {
      "application/vnd.plotly.v1+json": {
       "config": {
        "plotlyServerURL": "https://plot.ly"
       },
       "data": [
        {
         "coloraxis": "coloraxis",
         "customdata": [
          [
           "ALABAMA",
           1980,
           "Reagan",
           "R",
           "Carter",
           "D",
           0.4875012016284021,
           0.47448859067804633,
           0.013012610950355774
          ],
          [
           "ALASKA",
           1980,
           "Reagan",
           "R",
           "Carter",
           "D",
           0.5434819653507527,
           0.2640790179557575,
           0.27940294739499516
          ],
          [
           "ARIZONA",
           1980,
           "Reagan",
           "R",
           "Carter",
           "D",
           0.6060884838290739,
           0.28244683589928427,
           0.3236416479297896
          ],
          [
           "ARKANSAS",
           1980,
           "Reagan",
           "R",
           "Carter",
           "D",
           0.4813427222648051,
           0.4752263062004675,
           0.006116416064337604
          ],
          [
           "CALIFORNIA",
           1980,
           "Reagan",
           "R",
           "Carter",
           "D",
           0.5269750288304541,
           0.35919436910764124,
           0.16778065972281286
          ],
          [
           "COLORADO",
           1980,
           "Reagan",
           "R",
           "Carter",
           "D",
           0.5506893494871037,
           0.3107003250453797,
           0.23998902444172399
          ],
          [
           "CONNECTICUT",
           1980,
           "Reagan",
           "R",
           "Carter",
           "D",
           0.4815595700729226,
           0.3852220566954778,
           0.09633751337744478
          ],
          [
           "DELAWARE",
           1980,
           "Reagan",
           "R",
           "Carter",
           "D",
           0.47207087937267683,
           0.4487414498362103,
           0.02332942953646655
          ],
          [
           "DISTRICT OF COLUMBIA",
           1980,
           "Carter",
           "D",
           "Reagan",
           "R",
           0.7489317898199426,
           0.134068284940393,
           0.6148635048795495
          ],
          [
           "FLORIDA",
           1980,
           "Reagan",
           "R",
           "Carter",
           "D",
           0.5551916270650328,
           0.38500219830769633,
           0.17018942875733645
          ],
          [
           "GEORGIA",
           1980,
           "Carter",
           "D",
           "Reagan",
           "R",
           0.5579610534786652,
           0.409673065903476,
           0.14828798757518918
          ],
          [
           "HAWAII",
           1980,
           "Carter",
           "D",
           "Reagan",
           "R",
           0.4480211812573569,
           0.42900618885741887,
           0.019014992399938035
          ],
          [
           "IDAHO",
           1980,
           "Reagan",
           "R",
           "Carter",
           "D",
           0.6645596676961624,
           0.25190715792890767,
           0.4126525097672547
          ],
          [
           "ILLINOIS",
           1980,
           "Reagan",
           "R",
           "Carter",
           "D",
           0.49646052894475273,
           0.41716408184817594,
           0.0792964470965768
          ],
          [
           "INDIANA",
           1980,
           "Reagan",
           "R",
           "Carter",
           "D",
           0.5600524167128673,
           0.3765319243739945,
           0.1835204923388728
          ],
          [
           "IOWA",
           1980,
           "Reagan",
           "R",
           "Carter",
           "D",
           0.5130500181761469,
           0.3860416298273987,
           0.12700838834874822
          ],
          [
           "KANSAS",
           1980,
           "Reagan",
           "R",
           "Carter",
           "D",
           0.578500604718334,
           0.33287575462214036,
           0.24562485009619361
          ],
          [
           "KENTUCKY",
           1980,
           "Reagan",
           "R",
           "Carter",
           "D",
           0.4903216743707873,
           0.4765391582608266,
           0.013782516109960674
          ],
          [
           "LOUISIANA",
           1980,
           "Reagan",
           "R",
           "Carter",
           "D",
           0.5119834740095996,
           0.45748231779727505,
           0.0545011562123246
          ],
          [
           "MAINE",
           1980,
           "Reagan",
           "R",
           "Carter",
           "D",
           0.45605541757247936,
           0.42250354199051265,
           0.033551875581966706
          ],
          [
           "MARYLAND",
           1980,
           "Carter",
           "D",
           "Reagan",
           "R",
           0.4713812953749961,
           0.44180965091762653,
           0.029571644457369595
          ],
          [
           "MASSACHUSETTS",
           1980,
           "Reagan",
           "R",
           "Carter",
           "D",
           0.41901477364119344,
           0.41749779128319514,
           0.0015169823579982977
          ],
          [
           "MICHIGAN",
           1980,
           "Reagan",
           "R",
           "Carter",
           "D",
           0.48986181892588354,
           0.42497413500949555,
           0.064887683916388
          ],
          [
           "MINNESOTA",
           1980,
           "Carter",
           "D",
           "Reagan",
           "R",
           0.4650156244212726,
           0.4255866224543305,
           0.0394290019669421
          ],
          [
           "MISSISSIPPI",
           1980,
           "Reagan",
           "R",
           "Carter",
           "D",
           0.49463302495093914,
           0.48139164564059433,
           0.013241379310344803
          ],
          [
           "MISSOURI",
           1980,
           "Reagan",
           "R",
           "Carter",
           "D",
           0.511557635306578,
           0.4434571659339068,
           0.06810046937267122
          ],
          [
           "MONTANA",
           1980,
           "Reagan",
           "R",
           "Carter",
           "D",
           0.5682452631116192,
           0.32430650195630195,
           0.2439387611553172
          ],
          [
           "NEBRASKA",
           1980,
           "Reagan",
           "R",
           "Carter",
           "D",
           0.6555001852914548,
           0.2602273846697512,
           0.3952728006217036
          ],
          [
           "NEVADA",
           1980,
           "Reagan",
           "R",
           "Carter",
           "D",
           0.6361185430789685,
           0.2735666332912037,
           0.36255190978776486
          ],
          [
           "NEW HAMPSHIRE",
           1980,
           "Reagan",
           "R",
           "Carter",
           "D",
           0.5773718065574625,
           0.28350738300476575,
           0.2938644235526967
          ],
          [
           "NEW JERSEY",
           1980,
           "Reagan",
           "R",
           "Carter",
           "D",
           0.5197315978443948,
           0.3855799204485422,
           0.1341516773958526
          ],
          [
           "NEW MEXICO",
           1980,
           "Reagan",
           "R",
           "Carter",
           "D",
           0.5496682645204137,
           0.36784828937591646,
           0.18181997514449727
          ],
          [
           "NEW YORK",
           1980,
           "Carter",
           "D",
           "Reagan",
           "R",
           0.4399209991552669,
           0.4253011024419865,
           0.0146198967132804
          ],
          [
           "NORTH CAROLINA",
           1980,
           "Reagan",
           "R",
           "Carter",
           "D",
           0.49304975178262267,
           0.47182855353903075,
           0.02122119824359192
          ],
          [
           "NORTH DAKOTA",
           1980,
           "Reagan",
           "R",
           "Carter",
           "D",
           0.6432570836488264,
           0.262985029025359,
           0.3802720546234674
          ],
          [
           "OHIO",
           1980,
           "Reagan",
           "R",
           "Carter",
           "D",
           0.5151142624561613,
           0.40909813537809175,
           0.10601612707806957
          ],
          [
           "OKLAHOMA",
           1980,
           "Reagan",
           "R",
           "Carter",
           "D",
           0.6049970949145348,
           0.3496766135401337,
           0.2553204813744011
          ],
          [
           "OREGON",
           1980,
           "Reagan",
           "R",
           "Carter",
           "D",
           0.48331465676300617,
           0.3866981065004621,
           0.09661655026254407
          ],
          [
           "PENNSYLVANIA",
           1980,
           "Reagan",
           "R",
           "Carter",
           "D",
           0.49586134037896734,
           0.4247593062020594,
           0.07110203417690797
          ],
          [
           "RHODE ISLAND",
           1980,
           "Carter",
           "D",
           "Reagan",
           "R",
           0.4768214786269103,
           0.3721280774676837,
           0.1046934011592266
          ],
          [
           "SOUTH CAROLINA",
           1980,
           "Reagan",
           "R",
           "Carter",
           "D",
           0.4945376230779796,
           0.4820896631384125,
           0.0124479599395671
          ],
          [
           "SOUTH DAKOTA",
           1980,
           "Reagan",
           "R",
           "Carter",
           "D",
           0.605252316884496,
           0.3169180630021696,
           0.28833425388232636
          ],
          [
           "TENNESSEE",
           1980,
           "Reagan",
           "R",
           "Carter",
           "D",
           0.48698887745917446,
           0.4840771851910466,
           0.0029116922681278745
          ],
          [
           "TEXAS",
           1980,
           "Reagan",
           "R",
           "Carter",
           "D",
           0.5528195126161586,
           0.414200301389191,
           0.13861921122696758
          ],
          [
           "UTAH",
           1980,
           "Reagan",
           "R",
           "Carter",
           "D",
           0.7277754604801441,
           0.20568664839311962,
           0.5220888120870244
          ],
          [
           "VERMONT",
           1980,
           "Reagan",
           "R",
           "Carter",
           "D",
           0.4436401483363729,
           0.3842118340920492,
           0.05942831424432371
          ],
          [
           "VIRGINIA",
           1980,
           "Reagan",
           "R",
           "Carter",
           "D",
           0.5303279900880585,
           0.40308740686118993,
           0.1272405832268686
          ],
          [
           "WASHINGTON",
           1980,
           "Reagan",
           "R",
           "Carter",
           "D",
           0.4965834363525127,
           0.3731607202504141,
           0.1234227161020986
          ],
          [
           "WEST VIRGINIA",
           1980,
           "Carter",
           "D",
           "Reagan",
           "R",
           0.49810834807479853,
           0.45302860860901567,
           0.045079739465782864
          ],
          [
           "WISCONSIN",
           1980,
           "Reagan",
           "R",
           "Carter",
           "D",
           0.47898774470234085,
           0.4318031550825899,
           0.04718458961975097
          ],
          [
           "WYOMING",
           1980,
           "Reagan",
           "R",
           "Carter",
           "D",
           0.6264394809663126,
           0.27970211586018007,
           0.34673736510613257
          ]
         ],
         "geo": "geo",
         "geojson": "https://raw.githubusercontent.com/plotly/datasets/master/geojson-counties-fips.json",
         "hovertemplate": "%{customdata[0]}: %{customdata[1]}<br>%{customdata[2]}-%{customdata[3]} def. %{customdata[4]}-%{customdata[5]}<br>%{customdata[6]:.1%} to %{customdata[7]:.1%}<br>Margin: %{customdata[8]:.1%}<br><extra></extra>",
         "locationmode": "USA-states",
         "locations": [
          "AL",
          "AK",
          "AZ",
          "AR",
          "CA",
          "CO",
          "CT",
          "DE",
          "DC",
          "FL",
          "GA",
          "HI",
          "ID",
          "IL",
          "IN",
          "IA",
          "KS",
          "KY",
          "LA",
          "ME",
          "MD",
          "MA",
          "MI",
          "MN",
          "MS",
          "MO",
          "MT",
          "NE",
          "NV",
          "NH",
          "NJ",
          "NM",
          "NY",
          "NC",
          "ND",
          "OH",
          "OK",
          "OR",
          "PA",
          "RI",
          "SC",
          "SD",
          "TN",
          "TX",
          "UT",
          "VT",
          "VA",
          "WA",
          "WV",
          "WI",
          "WY"
         ],
         "name": "",
         "type": "choropleth",
         "z": [
          -0.013012610950355774,
          -0.27940294739499516,
          -0.3236416479297896,
          -0.006116416064337604,
          -0.16778065972281286,
          -0.23998902444172399,
          -0.09633751337744478,
          -0.02332942953646655,
          0.6148635048795495,
          -0.17018942875733645,
          0.14828798757518918,
          0.019014992399938035,
          -0.4126525097672547,
          -0.0792964470965768,
          -0.1835204923388728,
          -0.12700838834874822,
          -0.24562485009619361,
          -0.013782516109960674,
          -0.0545011562123246,
          -0.033551875581966706,
          0.029571644457369595,
          -0.0015169823579982977,
          -0.064887683916388,
          0.0394290019669421,
          -0.013241379310344803,
          -0.06810046937267122,
          -0.2439387611553172,
          -0.3952728006217036,
          -0.36255190978776486,
          -0.2938644235526967,
          -0.1341516773958526,
          -0.18181997514449727,
          0.0146198967132804,
          -0.02122119824359192,
          -0.3802720546234674,
          -0.10601612707806957,
          -0.2553204813744011,
          -0.09661655026254407,
          -0.07110203417690797,
          0.1046934011592266,
          -0.0124479599395671,
          -0.28833425388232636,
          -0.0029116922681278745,
          -0.13861921122696758,
          -0.5220888120870244,
          -0.05942831424432371,
          -0.1272405832268686,
          -0.1234227161020986,
          0.045079739465782864,
          -0.04718458961975097,
          -0.34673736510613257
         ]
        }
       ],
       "layout": {
        "coloraxis": {
         "cmax": 0.35,
         "cmid": 0,
         "cmin": -0.35,
         "colorbar": {
          "title": {
           "text": "DIFF_PCT"
          }
         },
         "colorscale": [
          [
           0,
           "rgb(103,0,31)"
          ],
          [
           0.1,
           "rgb(178,24,43)"
          ],
          [
           0.2,
           "rgb(214,96,77)"
          ],
          [
           0.3,
           "rgb(244,165,130)"
          ],
          [
           0.4,
           "rgb(253,219,199)"
          ],
          [
           0.5,
           "rgb(247,247,247)"
          ],
          [
           0.6,
           "rgb(209,229,240)"
          ],
          [
           0.7,
           "rgb(146,197,222)"
          ],
          [
           0.8,
           "rgb(67,147,195)"
          ],
          [
           0.9,
           "rgb(33,102,172)"
          ],
          [
           1,
           "rgb(5,48,97)"
          ]
         ]
        },
        "geo": {
         "center": {},
         "domain": {
          "x": [
           0,
           1
          ],
          "y": [
           0,
           1
          ]
         },
         "scope": "usa"
        },
        "legend": {
         "tracegroupgap": 0
        },
        "margin": {
         "b": 0,
         "l": 0,
         "r": 0,
         "t": 0
        },
        "template": {
         "data": {
          "bar": [
           {
            "error_x": {
             "color": "#2a3f5f"
            },
            "error_y": {
             "color": "#2a3f5f"
            },
            "marker": {
             "line": {
              "color": "#E5ECF6",
              "width": 0.5
             },
             "pattern": {
              "fillmode": "overlay",
              "size": 10,
              "solidity": 0.2
             }
            },
            "type": "bar"
           }
          ],
          "barpolar": [
           {
            "marker": {
             "line": {
              "color": "#E5ECF6",
              "width": 0.5
             },
             "pattern": {
              "fillmode": "overlay",
              "size": 10,
              "solidity": 0.2
             }
            },
            "type": "barpolar"
           }
          ],
          "carpet": [
           {
            "aaxis": {
             "endlinecolor": "#2a3f5f",
             "gridcolor": "white",
             "linecolor": "white",
             "minorgridcolor": "white",
             "startlinecolor": "#2a3f5f"
            },
            "baxis": {
             "endlinecolor": "#2a3f5f",
             "gridcolor": "white",
             "linecolor": "white",
             "minorgridcolor": "white",
             "startlinecolor": "#2a3f5f"
            },
            "type": "carpet"
           }
          ],
          "choropleth": [
           {
            "colorbar": {
             "outlinewidth": 0,
             "ticks": ""
            },
            "type": "choropleth"
           }
          ],
          "contour": [
           {
            "colorbar": {
             "outlinewidth": 0,
             "ticks": ""
            },
            "colorscale": [
             [
              0,
              "#0d0887"
             ],
             [
              0.1111111111111111,
              "#46039f"
             ],
             [
              0.2222222222222222,
              "#7201a8"
             ],
             [
              0.3333333333333333,
              "#9c179e"
             ],
             [
              0.4444444444444444,
              "#bd3786"
             ],
             [
              0.5555555555555556,
              "#d8576b"
             ],
             [
              0.6666666666666666,
              "#ed7953"
             ],
             [
              0.7777777777777778,
              "#fb9f3a"
             ],
             [
              0.8888888888888888,
              "#fdca26"
             ],
             [
              1,
              "#f0f921"
             ]
            ],
            "type": "contour"
           }
          ],
          "contourcarpet": [
           {
            "colorbar": {
             "outlinewidth": 0,
             "ticks": ""
            },
            "type": "contourcarpet"
           }
          ],
          "heatmap": [
           {
            "colorbar": {
             "outlinewidth": 0,
             "ticks": ""
            },
            "colorscale": [
             [
              0,
              "#0d0887"
             ],
             [
              0.1111111111111111,
              "#46039f"
             ],
             [
              0.2222222222222222,
              "#7201a8"
             ],
             [
              0.3333333333333333,
              "#9c179e"
             ],
             [
              0.4444444444444444,
              "#bd3786"
             ],
             [
              0.5555555555555556,
              "#d8576b"
             ],
             [
              0.6666666666666666,
              "#ed7953"
             ],
             [
              0.7777777777777778,
              "#fb9f3a"
             ],
             [
              0.8888888888888888,
              "#fdca26"
             ],
             [
              1,
              "#f0f921"
             ]
            ],
            "type": "heatmap"
           }
          ],
          "heatmapgl": [
           {
            "colorbar": {
             "outlinewidth": 0,
             "ticks": ""
            },
            "colorscale": [
             [
              0,
              "#0d0887"
             ],
             [
              0.1111111111111111,
              "#46039f"
             ],
             [
              0.2222222222222222,
              "#7201a8"
             ],
             [
              0.3333333333333333,
              "#9c179e"
             ],
             [
              0.4444444444444444,
              "#bd3786"
             ],
             [
              0.5555555555555556,
              "#d8576b"
             ],
             [
              0.6666666666666666,
              "#ed7953"
             ],
             [
              0.7777777777777778,
              "#fb9f3a"
             ],
             [
              0.8888888888888888,
              "#fdca26"
             ],
             [
              1,
              "#f0f921"
             ]
            ],
            "type": "heatmapgl"
           }
          ],
          "histogram": [
           {
            "marker": {
             "pattern": {
              "fillmode": "overlay",
              "size": 10,
              "solidity": 0.2
             }
            },
            "type": "histogram"
           }
          ],
          "histogram2d": [
           {
            "colorbar": {
             "outlinewidth": 0,
             "ticks": ""
            },
            "colorscale": [
             [
              0,
              "#0d0887"
             ],
             [
              0.1111111111111111,
              "#46039f"
             ],
             [
              0.2222222222222222,
              "#7201a8"
             ],
             [
              0.3333333333333333,
              "#9c179e"
             ],
             [
              0.4444444444444444,
              "#bd3786"
             ],
             [
              0.5555555555555556,
              "#d8576b"
             ],
             [
              0.6666666666666666,
              "#ed7953"
             ],
             [
              0.7777777777777778,
              "#fb9f3a"
             ],
             [
              0.8888888888888888,
              "#fdca26"
             ],
             [
              1,
              "#f0f921"
             ]
            ],
            "type": "histogram2d"
           }
          ],
          "histogram2dcontour": [
           {
            "colorbar": {
             "outlinewidth": 0,
             "ticks": ""
            },
            "colorscale": [
             [
              0,
              "#0d0887"
             ],
             [
              0.1111111111111111,
              "#46039f"
             ],
             [
              0.2222222222222222,
              "#7201a8"
             ],
             [
              0.3333333333333333,
              "#9c179e"
             ],
             [
              0.4444444444444444,
              "#bd3786"
             ],
             [
              0.5555555555555556,
              "#d8576b"
             ],
             [
              0.6666666666666666,
              "#ed7953"
             ],
             [
              0.7777777777777778,
              "#fb9f3a"
             ],
             [
              0.8888888888888888,
              "#fdca26"
             ],
             [
              1,
              "#f0f921"
             ]
            ],
            "type": "histogram2dcontour"
           }
          ],
          "mesh3d": [
           {
            "colorbar": {
             "outlinewidth": 0,
             "ticks": ""
            },
            "type": "mesh3d"
           }
          ],
          "parcoords": [
           {
            "line": {
             "colorbar": {
              "outlinewidth": 0,
              "ticks": ""
             }
            },
            "type": "parcoords"
           }
          ],
          "pie": [
           {
            "automargin": true,
            "type": "pie"
           }
          ],
          "scatter": [
           {
            "fillpattern": {
             "fillmode": "overlay",
             "size": 10,
             "solidity": 0.2
            },
            "type": "scatter"
           }
          ],
          "scatter3d": [
           {
            "line": {
             "colorbar": {
              "outlinewidth": 0,
              "ticks": ""
             }
            },
            "marker": {
             "colorbar": {
              "outlinewidth": 0,
              "ticks": ""
             }
            },
            "type": "scatter3d"
           }
          ],
          "scattercarpet": [
           {
            "marker": {
             "colorbar": {
              "outlinewidth": 0,
              "ticks": ""
             }
            },
            "type": "scattercarpet"
           }
          ],
          "scattergeo": [
           {
            "marker": {
             "colorbar": {
              "outlinewidth": 0,
              "ticks": ""
             }
            },
            "type": "scattergeo"
           }
          ],
          "scattergl": [
           {
            "marker": {
             "colorbar": {
              "outlinewidth": 0,
              "ticks": ""
             }
            },
            "type": "scattergl"
           }
          ],
          "scattermapbox": [
           {
            "marker": {
             "colorbar": {
              "outlinewidth": 0,
              "ticks": ""
             }
            },
            "type": "scattermapbox"
           }
          ],
          "scatterpolar": [
           {
            "marker": {
             "colorbar": {
              "outlinewidth": 0,
              "ticks": ""
             }
            },
            "type": "scatterpolar"
           }
          ],
          "scatterpolargl": [
           {
            "marker": {
             "colorbar": {
              "outlinewidth": 0,
              "ticks": ""
             }
            },
            "type": "scatterpolargl"
           }
          ],
          "scatterternary": [
           {
            "marker": {
             "colorbar": {
              "outlinewidth": 0,
              "ticks": ""
             }
            },
            "type": "scatterternary"
           }
          ],
          "surface": [
           {
            "colorbar": {
             "outlinewidth": 0,
             "ticks": ""
            },
            "colorscale": [
             [
              0,
              "#0d0887"
             ],
             [
              0.1111111111111111,
              "#46039f"
             ],
             [
              0.2222222222222222,
              "#7201a8"
             ],
             [
              0.3333333333333333,
              "#9c179e"
             ],
             [
              0.4444444444444444,
              "#bd3786"
             ],
             [
              0.5555555555555556,
              "#d8576b"
             ],
             [
              0.6666666666666666,
              "#ed7953"
             ],
             [
              0.7777777777777778,
              "#fb9f3a"
             ],
             [
              0.8888888888888888,
              "#fdca26"
             ],
             [
              1,
              "#f0f921"
             ]
            ],
            "type": "surface"
           }
          ],
          "table": [
           {
            "cells": {
             "fill": {
              "color": "#EBF0F8"
             },
             "line": {
              "color": "white"
             }
            },
            "header": {
             "fill": {
              "color": "#C8D4E3"
             },
             "line": {
              "color": "white"
             }
            },
            "type": "table"
           }
          ]
         },
         "layout": {
          "annotationdefaults": {
           "arrowcolor": "#2a3f5f",
           "arrowhead": 0,
           "arrowwidth": 1
          },
          "autotypenumbers": "strict",
          "coloraxis": {
           "colorbar": {
            "outlinewidth": 0,
            "ticks": ""
           }
          },
          "colorscale": {
           "diverging": [
            [
             0,
             "#8e0152"
            ],
            [
             0.1,
             "#c51b7d"
            ],
            [
             0.2,
             "#de77ae"
            ],
            [
             0.3,
             "#f1b6da"
            ],
            [
             0.4,
             "#fde0ef"
            ],
            [
             0.5,
             "#f7f7f7"
            ],
            [
             0.6,
             "#e6f5d0"
            ],
            [
             0.7,
             "#b8e186"
            ],
            [
             0.8,
             "#7fbc41"
            ],
            [
             0.9,
             "#4d9221"
            ],
            [
             1,
             "#276419"
            ]
           ],
           "sequential": [
            [
             0,
             "#0d0887"
            ],
            [
             0.1111111111111111,
             "#46039f"
            ],
            [
             0.2222222222222222,
             "#7201a8"
            ],
            [
             0.3333333333333333,
             "#9c179e"
            ],
            [
             0.4444444444444444,
             "#bd3786"
            ],
            [
             0.5555555555555556,
             "#d8576b"
            ],
            [
             0.6666666666666666,
             "#ed7953"
            ],
            [
             0.7777777777777778,
             "#fb9f3a"
            ],
            [
             0.8888888888888888,
             "#fdca26"
            ],
            [
             1,
             "#f0f921"
            ]
           ],
           "sequentialminus": [
            [
             0,
             "#0d0887"
            ],
            [
             0.1111111111111111,
             "#46039f"
            ],
            [
             0.2222222222222222,
             "#7201a8"
            ],
            [
             0.3333333333333333,
             "#9c179e"
            ],
            [
             0.4444444444444444,
             "#bd3786"
            ],
            [
             0.5555555555555556,
             "#d8576b"
            ],
            [
             0.6666666666666666,
             "#ed7953"
            ],
            [
             0.7777777777777778,
             "#fb9f3a"
            ],
            [
             0.8888888888888888,
             "#fdca26"
            ],
            [
             1,
             "#f0f921"
            ]
           ]
          },
          "colorway": [
           "#636efa",
           "#EF553B",
           "#00cc96",
           "#ab63fa",
           "#FFA15A",
           "#19d3f3",
           "#FF6692",
           "#B6E880",
           "#FF97FF",
           "#FECB52"
          ],
          "font": {
           "color": "#2a3f5f"
          },
          "geo": {
           "bgcolor": "white",
           "lakecolor": "white",
           "landcolor": "#E5ECF6",
           "showlakes": true,
           "showland": true,
           "subunitcolor": "white"
          },
          "hoverlabel": {
           "align": "left"
          },
          "hovermode": "closest",
          "mapbox": {
           "style": "light"
          },
          "paper_bgcolor": "white",
          "plot_bgcolor": "#E5ECF6",
          "polar": {
           "angularaxis": {
            "gridcolor": "white",
            "linecolor": "white",
            "ticks": ""
           },
           "bgcolor": "#E5ECF6",
           "radialaxis": {
            "gridcolor": "white",
            "linecolor": "white",
            "ticks": ""
           }
          },
          "scene": {
           "xaxis": {
            "backgroundcolor": "#E5ECF6",
            "gridcolor": "white",
            "gridwidth": 2,
            "linecolor": "white",
            "showbackground": true,
            "ticks": "",
            "zerolinecolor": "white"
           },
           "yaxis": {
            "backgroundcolor": "#E5ECF6",
            "gridcolor": "white",
            "gridwidth": 2,
            "linecolor": "white",
            "showbackground": true,
            "ticks": "",
            "zerolinecolor": "white"
           },
           "zaxis": {
            "backgroundcolor": "#E5ECF6",
            "gridcolor": "white",
            "gridwidth": 2,
            "linecolor": "white",
            "showbackground": true,
            "ticks": "",
            "zerolinecolor": "white"
           }
          },
          "shapedefaults": {
           "line": {
            "color": "#2a3f5f"
           }
          },
          "ternary": {
           "aaxis": {
            "gridcolor": "white",
            "linecolor": "white",
            "ticks": ""
           },
           "baxis": {
            "gridcolor": "white",
            "linecolor": "white",
            "ticks": ""
           },
           "bgcolor": "#E5ECF6",
           "caxis": {
            "gridcolor": "white",
            "linecolor": "white",
            "ticks": ""
           }
          },
          "title": {
           "x": 0.05
          },
          "xaxis": {
           "automargin": true,
           "gridcolor": "white",
           "linecolor": "white",
           "ticks": "",
           "title": {
            "standoff": 15
           },
           "zerolinecolor": "white",
           "zerolinewidth": 2
          },
          "yaxis": {
           "automargin": true,
           "gridcolor": "white",
           "linecolor": "white",
           "ticks": "",
           "title": {
            "standoff": 15
           },
           "zerolinecolor": "white",
           "zerolinewidth": 2
          }
         }
        },
        "title": {
         "text": "1980"
        }
       }
      }
     },
     "metadata": {},
     "output_type": "display_data"
    },
    {
     "name": "stdout",
     "output_type": "stream",
     "text": [
      "\n",
      "\n",
      "\n",
      "\n",
      "\n",
      "                                                   1984\n"
     ]
    },
    {
     "data": {
      "application/vnd.plotly.v1+json": {
       "config": {
        "plotlyServerURL": "https://plot.ly"
       },
       "data": [
        {
         "coloraxis": "coloraxis",
         "customdata": [
          [
           "ALABAMA",
           1984,
           "Reagan",
           "R",
           "Mondale",
           "D",
           0.6054249354760621,
           0.38280781265064545,
           0.22261712282541668
          ],
          [
           "ALASKA",
           1984,
           "Reagan",
           "R",
           "Mondale",
           "D",
           0.666539823221984,
           0.29867777751017555,
           0.36786204571180847
          ],
          [
           "ARIZONA",
           1984,
           "Reagan",
           "R",
           "Mondale",
           "D",
           0.6642148285841561,
           0.32542643169830887,
           0.3387883968858473
          ],
          [
           "ARKANSAS",
           1984,
           "Reagan",
           "R",
           "Mondale",
           "D",
           0.6046702532547269,
           0.38290785001458605,
           0.22176240324014085
          ],
          [
           "CALIFORNIA",
           1984,
           "Reagan",
           "R",
           "Mondale",
           "D",
           0.5751694285169312,
           0.41267775699231596,
           0.16249167152461524
          ],
          [
           "COLORADO",
           1984,
           "Reagan",
           "R",
           "Mondale",
           "D",
           0.6344215596967685,
           0.3512289830011271,
           0.2831925766956414
          ],
          [
           "CONNECTICUT",
           1984,
           "Reagan",
           "R",
           "Mondale",
           "D",
           0.6073195173495126,
           0.3882998159383734,
           0.2190197014111392
          ],
          [
           "DELAWARE",
           1984,
           "Reagan",
           "R",
           "Mondale",
           "D",
           0.5978269409047342,
           0.3993212136448627,
           0.19850572725987148
          ],
          [
           "DISTRICT OF COLUMBIA",
           1984,
           "Mondale",
           "D",
           "Reagan",
           "R",
           0.853848775131574,
           0.137296013024876,
           0.7165527621066979
          ],
          [
           "FLORIDA",
           1984,
           "Reagan",
           "R",
           "Mondale",
           "D",
           0.653185810412361,
           0.3466024696827862,
           0.3065833407295748
          ],
          [
           "GEORGIA",
           1984,
           "Reagan",
           "R",
           "Mondale",
           "D",
           0.6017229856601785,
           0.3978530524412154,
           0.20386993321896307
          ],
          [
           "HAWAII",
           1984,
           "Reagan",
           "R",
           "Mondale",
           "D",
           0.5509965877217534,
           0.43815915627996166,
           0.11283743144179176
          ],
          [
           "IDAHO",
           1984,
           "Reagan",
           "R",
           "Mondale",
           "D",
           0.723646702858366,
           0.2639221294728854,
           0.45972457338548056
          ],
          [
           "ILLINOIS",
           1984,
           "Reagan",
           "R",
           "Mondale",
           "D",
           0.5617459154097206,
           0.43296553206747834,
           0.1287803833422423
          ],
          [
           "INDIANA",
           1984,
           "Reagan",
           "R",
           "Mondale",
           "D",
           0.6167431458678617,
           0.3768271378985602,
           0.23991600796930151
          ],
          [
           "IOWA",
           1984,
           "Reagan",
           "R",
           "Mondale",
           "D",
           0.5327211216808544,
           0.4588708180375131,
           0.07385030364334128
          ],
          [
           "KANSAS",
           1984,
           "Reagan",
           "R",
           "Mondale",
           "D",
           0.66272207876586,
           0.32598036577621525,
           0.3367417129896447
          ],
          [
           "KENTUCKY",
           1984,
           "Reagan",
           "R",
           "Mondale",
           "D",
           0.6000693762346231,
           0.39401246581394755,
           0.20605691042067553
          ],
          [
           "LOUISIANA",
           1984,
           "Reagan",
           "R",
           "Mondale",
           "D",
           0.6077370692433072,
           0.38175392630280136,
           0.2259831429405058
          ],
          [
           "MAINE",
           1984,
           "Reagan",
           "R",
           "Mondale",
           "D",
           0.6083406852465181,
           0.3878104074165136,
           0.22053027783000445
          ],
          [
           "MARYLAND",
           1984,
           "Reagan",
           "R",
           "Mondale",
           "D",
           0.5250505259050059,
           0.4701639086016661,
           0.05488661730333977
          ],
          [
           "MASSACHUSETTS",
           1984,
           "Reagan",
           "R",
           "Mondale",
           "D",
           0.5122078250890938,
           0.4843378267340214,
           0.027869998355072367
          ],
          [
           "MICHIGAN",
           1984,
           "Reagan",
           "R",
           "Mondale",
           "D",
           0.5922602717025045,
           0.4023607594370667,
           0.18989951226543783
          ],
          [
           "MINNESOTA",
           1984,
           "Mondale",
           "D",
           "Reagan",
           "R",
           0.49718846563288427,
           0.49538415187898577,
           0.001804313753898501
          ],
          [
           "MISSISSIPPI",
           1984,
           "Reagan",
           "R",
           "Mondale",
           "D",
           0.6188232118873154,
           0.3742328159268264,
           0.24459039596048898
          ],
          [
           "MISSOURI",
           1984,
           "Reagan",
           "R",
           "Mondale",
           "D",
           0.6002475066787704,
           0.39975249332122964,
           0.20049501335754072
          ],
          [
           "MONTANA",
           1984,
           "Reagan",
           "R",
           "Mondale",
           "D",
           0.6047448208399566,
           0.381765818454278,
           0.22297900238567864
          ],
          [
           "NEBRASKA",
           1984,
           "Reagan",
           "R",
           "Mondale",
           "D",
           0.7055069085555675,
           0.28809826864389887,
           0.41740863991166866
          ],
          [
           "NEVADA",
           1984,
           "Reagan",
           "R",
           "Mondale",
           "D",
           0.6676995016217631,
           0.32419345140193195,
           0.3435060502198311
          ],
          [
           "NEW HAMPSHIRE",
           1984,
           "Reagan",
           "R",
           "Mondale",
           "D",
           0.6866733178367926,
           0.30945168987719335,
           0.3772216279595993
          ],
          [
           "NEW JERSEY",
           1984,
           "Reagan",
           "R",
           "Mondale",
           "D",
           0.6009051973018109,
           0.3919754793710855,
           0.2089297179307254
          ],
          [
           "NEW MEXICO",
           1984,
           "Reagan",
           "R",
           "Mondale",
           "D",
           0.5970429846219647,
           0.392264323347007,
           0.2047786612749577
          ],
          [
           "NEW YORK",
           1984,
           "Reagan",
           "R",
           "Mondale",
           "D",
           0.49605013214707033,
           0.4409238688901262,
           0.05512626325694414
          ],
          [
           "NORTH CAROLINA",
           1984,
           "Reagan",
           "R",
           "Mondale",
           "D",
           0.6189689895148437,
           0.37891963678672186,
           0.24004935272812183
          ],
          [
           "NORTH DAKOTA",
           1984,
           "Reagan",
           "R",
           "Mondale",
           "D",
           0.6483974224118121,
           0.33798964951403204,
           0.31040777289778004
          ],
          [
           "OHIO",
           1984,
           "Reagan",
           "R",
           "Mondale",
           "D",
           0.5869868634861014,
           0.40003199484576185,
           0.18695486864033956
          ],
          [
           "OKLAHOMA",
           1984,
           "Reagan",
           "R",
           "Mondale",
           "D",
           0.6861085184394701,
           0.30667146620625063,
           0.37943705223321944
          ],
          [
           "OREGON",
           1984,
           "Reagan",
           "R",
           "Mondale",
           "D",
           0.559058218856984,
           0.43739681230009614,
           0.1216614065568879
          ],
          [
           "PENNSYLVANIA",
           1984,
           "Reagan",
           "R",
           "Mondale",
           "D",
           0.5334106792230928,
           0.45989176666694875,
           0.07351891255614407
          ],
          [
           "RHODE ISLAND",
           1984,
           "Reagan",
           "R",
           "Mondale",
           "D",
           0.5166520905554107,
           0.4801736465532572,
           0.0364784440021535
          ],
          [
           "SOUTH CAROLINA",
           1984,
           "Reagan",
           "R",
           "Mondale",
           "D",
           0.6355400819180427,
           0.3556517151267541,
           0.2798883667912886
          ],
          [
           "SOUTH DAKOTA",
           1984,
           "Reagan",
           "R",
           "Mondale",
           "D",
           0.6300339450147389,
           0.365287997810405,
           0.26474594720433386
          ],
          [
           "TENNESSEE",
           1984,
           "Reagan",
           "R",
           "Mondale",
           "D",
           0.5783972247550078,
           0.4157224941924412,
           0.16267473056256654
          ],
          [
           "TEXAS",
           1984,
           "Reagan",
           "R",
           "Mondale",
           "D",
           0.636106129961051,
           0.36113948292667203,
           0.27496664703437895
          ],
          [
           "UTAH",
           1984,
           "Reagan",
           "R",
           "Mondale",
           "D",
           0.7450179145438144,
           0.246752194849251,
           0.49826571969456335
          ],
          [
           "VERMONT",
           1984,
           "Reagan",
           "R",
           "Mondale",
           "D",
           0.579230988953833,
           0.408124112704158,
           0.17110687624967497
          ],
          [
           "VIRGINIA",
           1984,
           "Reagan",
           "R",
           "Mondale",
           "D",
           0.622871610683698,
           0.3709293848278818,
           0.2519422258558162
          ],
          [
           "WASHINGTON",
           1984,
           "Reagan",
           "R",
           "Mondale",
           "D",
           0.5609175907110208,
           0.42580817212559535,
           0.1351094185854254
          ],
          [
           "WEST VIRGINIA",
           1984,
           "Reagan",
           "R",
           "Mondale",
           "D",
           0.551121181066189,
           0.44597834567008543,
           0.10514283539610358
          ],
          [
           "WISCONSIN",
           1984,
           "Reagan",
           "R",
           "Mondale",
           "D",
           0.5419315283477921,
           0.4502170060980545,
           0.09171452224973764
          ],
          [
           "WYOMING",
           1984,
           "Reagan",
           "R",
           "Mondale",
           "D",
           0.7050982176876508,
           0.28242877100884806,
           0.42266944667880274
          ]
         ],
         "geo": "geo",
         "geojson": "https://raw.githubusercontent.com/plotly/datasets/master/geojson-counties-fips.json",
         "hovertemplate": "%{customdata[0]}: %{customdata[1]}<br>%{customdata[2]}-%{customdata[3]} def. %{customdata[4]}-%{customdata[5]}<br>%{customdata[6]:.1%} to %{customdata[7]:.1%}<br>Margin: %{customdata[8]:.1%}<br><extra></extra>",
         "locationmode": "USA-states",
         "locations": [
          "AL",
          "AK",
          "AZ",
          "AR",
          "CA",
          "CO",
          "CT",
          "DE",
          "DC",
          "FL",
          "GA",
          "HI",
          "ID",
          "IL",
          "IN",
          "IA",
          "KS",
          "KY",
          "LA",
          "ME",
          "MD",
          "MA",
          "MI",
          "MN",
          "MS",
          "MO",
          "MT",
          "NE",
          "NV",
          "NH",
          "NJ",
          "NM",
          "NY",
          "NC",
          "ND",
          "OH",
          "OK",
          "OR",
          "PA",
          "RI",
          "SC",
          "SD",
          "TN",
          "TX",
          "UT",
          "VT",
          "VA",
          "WA",
          "WV",
          "WI",
          "WY"
         ],
         "name": "",
         "type": "choropleth",
         "z": [
          -0.22261712282541668,
          -0.36786204571180847,
          -0.3387883968858473,
          -0.22176240324014085,
          -0.16249167152461524,
          -0.2831925766956414,
          -0.2190197014111392,
          -0.19850572725987148,
          0.7165527621066979,
          -0.3065833407295748,
          -0.20386993321896307,
          -0.11283743144179176,
          -0.45972457338548056,
          -0.1287803833422423,
          -0.23991600796930151,
          -0.07385030364334128,
          -0.3367417129896447,
          -0.20605691042067553,
          -0.2259831429405058,
          -0.22053027783000445,
          -0.05488661730333977,
          -0.027869998355072367,
          -0.18989951226543783,
          0.001804313753898501,
          -0.24459039596048898,
          -0.20049501335754072,
          -0.22297900238567864,
          -0.41740863991166866,
          -0.3435060502198311,
          -0.3772216279595993,
          -0.2089297179307254,
          -0.2047786612749577,
          -0.05512626325694414,
          -0.24004935272812183,
          -0.31040777289778004,
          -0.18695486864033956,
          -0.37943705223321944,
          -0.1216614065568879,
          -0.07351891255614407,
          -0.0364784440021535,
          -0.2798883667912886,
          -0.26474594720433386,
          -0.16267473056256654,
          -0.27496664703437895,
          -0.49826571969456335,
          -0.17110687624967497,
          -0.2519422258558162,
          -0.1351094185854254,
          -0.10514283539610358,
          -0.09171452224973764,
          -0.42266944667880274
         ]
        }
       ],
       "layout": {
        "coloraxis": {
         "cmax": 0.35,
         "cmid": 0,
         "cmin": -0.35,
         "colorbar": {
          "title": {
           "text": "DIFF_PCT"
          }
         },
         "colorscale": [
          [
           0,
           "rgb(103,0,31)"
          ],
          [
           0.1,
           "rgb(178,24,43)"
          ],
          [
           0.2,
           "rgb(214,96,77)"
          ],
          [
           0.3,
           "rgb(244,165,130)"
          ],
          [
           0.4,
           "rgb(253,219,199)"
          ],
          [
           0.5,
           "rgb(247,247,247)"
          ],
          [
           0.6,
           "rgb(209,229,240)"
          ],
          [
           0.7,
           "rgb(146,197,222)"
          ],
          [
           0.8,
           "rgb(67,147,195)"
          ],
          [
           0.9,
           "rgb(33,102,172)"
          ],
          [
           1,
           "rgb(5,48,97)"
          ]
         ]
        },
        "geo": {
         "center": {},
         "domain": {
          "x": [
           0,
           1
          ],
          "y": [
           0,
           1
          ]
         },
         "scope": "usa"
        },
        "legend": {
         "tracegroupgap": 0
        },
        "margin": {
         "b": 0,
         "l": 0,
         "r": 0,
         "t": 0
        },
        "template": {
         "data": {
          "bar": [
           {
            "error_x": {
             "color": "#2a3f5f"
            },
            "error_y": {
             "color": "#2a3f5f"
            },
            "marker": {
             "line": {
              "color": "#E5ECF6",
              "width": 0.5
             },
             "pattern": {
              "fillmode": "overlay",
              "size": 10,
              "solidity": 0.2
             }
            },
            "type": "bar"
           }
          ],
          "barpolar": [
           {
            "marker": {
             "line": {
              "color": "#E5ECF6",
              "width": 0.5
             },
             "pattern": {
              "fillmode": "overlay",
              "size": 10,
              "solidity": 0.2
             }
            },
            "type": "barpolar"
           }
          ],
          "carpet": [
           {
            "aaxis": {
             "endlinecolor": "#2a3f5f",
             "gridcolor": "white",
             "linecolor": "white",
             "minorgridcolor": "white",
             "startlinecolor": "#2a3f5f"
            },
            "baxis": {
             "endlinecolor": "#2a3f5f",
             "gridcolor": "white",
             "linecolor": "white",
             "minorgridcolor": "white",
             "startlinecolor": "#2a3f5f"
            },
            "type": "carpet"
           }
          ],
          "choropleth": [
           {
            "colorbar": {
             "outlinewidth": 0,
             "ticks": ""
            },
            "type": "choropleth"
           }
          ],
          "contour": [
           {
            "colorbar": {
             "outlinewidth": 0,
             "ticks": ""
            },
            "colorscale": [
             [
              0,
              "#0d0887"
             ],
             [
              0.1111111111111111,
              "#46039f"
             ],
             [
              0.2222222222222222,
              "#7201a8"
             ],
             [
              0.3333333333333333,
              "#9c179e"
             ],
             [
              0.4444444444444444,
              "#bd3786"
             ],
             [
              0.5555555555555556,
              "#d8576b"
             ],
             [
              0.6666666666666666,
              "#ed7953"
             ],
             [
              0.7777777777777778,
              "#fb9f3a"
             ],
             [
              0.8888888888888888,
              "#fdca26"
             ],
             [
              1,
              "#f0f921"
             ]
            ],
            "type": "contour"
           }
          ],
          "contourcarpet": [
           {
            "colorbar": {
             "outlinewidth": 0,
             "ticks": ""
            },
            "type": "contourcarpet"
           }
          ],
          "heatmap": [
           {
            "colorbar": {
             "outlinewidth": 0,
             "ticks": ""
            },
            "colorscale": [
             [
              0,
              "#0d0887"
             ],
             [
              0.1111111111111111,
              "#46039f"
             ],
             [
              0.2222222222222222,
              "#7201a8"
             ],
             [
              0.3333333333333333,
              "#9c179e"
             ],
             [
              0.4444444444444444,
              "#bd3786"
             ],
             [
              0.5555555555555556,
              "#d8576b"
             ],
             [
              0.6666666666666666,
              "#ed7953"
             ],
             [
              0.7777777777777778,
              "#fb9f3a"
             ],
             [
              0.8888888888888888,
              "#fdca26"
             ],
             [
              1,
              "#f0f921"
             ]
            ],
            "type": "heatmap"
           }
          ],
          "heatmapgl": [
           {
            "colorbar": {
             "outlinewidth": 0,
             "ticks": ""
            },
            "colorscale": [
             [
              0,
              "#0d0887"
             ],
             [
              0.1111111111111111,
              "#46039f"
             ],
             [
              0.2222222222222222,
              "#7201a8"
             ],
             [
              0.3333333333333333,
              "#9c179e"
             ],
             [
              0.4444444444444444,
              "#bd3786"
             ],
             [
              0.5555555555555556,
              "#d8576b"
             ],
             [
              0.6666666666666666,
              "#ed7953"
             ],
             [
              0.7777777777777778,
              "#fb9f3a"
             ],
             [
              0.8888888888888888,
              "#fdca26"
             ],
             [
              1,
              "#f0f921"
             ]
            ],
            "type": "heatmapgl"
           }
          ],
          "histogram": [
           {
            "marker": {
             "pattern": {
              "fillmode": "overlay",
              "size": 10,
              "solidity": 0.2
             }
            },
            "type": "histogram"
           }
          ],
          "histogram2d": [
           {
            "colorbar": {
             "outlinewidth": 0,
             "ticks": ""
            },
            "colorscale": [
             [
              0,
              "#0d0887"
             ],
             [
              0.1111111111111111,
              "#46039f"
             ],
             [
              0.2222222222222222,
              "#7201a8"
             ],
             [
              0.3333333333333333,
              "#9c179e"
             ],
             [
              0.4444444444444444,
              "#bd3786"
             ],
             [
              0.5555555555555556,
              "#d8576b"
             ],
             [
              0.6666666666666666,
              "#ed7953"
             ],
             [
              0.7777777777777778,
              "#fb9f3a"
             ],
             [
              0.8888888888888888,
              "#fdca26"
             ],
             [
              1,
              "#f0f921"
             ]
            ],
            "type": "histogram2d"
           }
          ],
          "histogram2dcontour": [
           {
            "colorbar": {
             "outlinewidth": 0,
             "ticks": ""
            },
            "colorscale": [
             [
              0,
              "#0d0887"
             ],
             [
              0.1111111111111111,
              "#46039f"
             ],
             [
              0.2222222222222222,
              "#7201a8"
             ],
             [
              0.3333333333333333,
              "#9c179e"
             ],
             [
              0.4444444444444444,
              "#bd3786"
             ],
             [
              0.5555555555555556,
              "#d8576b"
             ],
             [
              0.6666666666666666,
              "#ed7953"
             ],
             [
              0.7777777777777778,
              "#fb9f3a"
             ],
             [
              0.8888888888888888,
              "#fdca26"
             ],
             [
              1,
              "#f0f921"
             ]
            ],
            "type": "histogram2dcontour"
           }
          ],
          "mesh3d": [
           {
            "colorbar": {
             "outlinewidth": 0,
             "ticks": ""
            },
            "type": "mesh3d"
           }
          ],
          "parcoords": [
           {
            "line": {
             "colorbar": {
              "outlinewidth": 0,
              "ticks": ""
             }
            },
            "type": "parcoords"
           }
          ],
          "pie": [
           {
            "automargin": true,
            "type": "pie"
           }
          ],
          "scatter": [
           {
            "fillpattern": {
             "fillmode": "overlay",
             "size": 10,
             "solidity": 0.2
            },
            "type": "scatter"
           }
          ],
          "scatter3d": [
           {
            "line": {
             "colorbar": {
              "outlinewidth": 0,
              "ticks": ""
             }
            },
            "marker": {
             "colorbar": {
              "outlinewidth": 0,
              "ticks": ""
             }
            },
            "type": "scatter3d"
           }
          ],
          "scattercarpet": [
           {
            "marker": {
             "colorbar": {
              "outlinewidth": 0,
              "ticks": ""
             }
            },
            "type": "scattercarpet"
           }
          ],
          "scattergeo": [
           {
            "marker": {
             "colorbar": {
              "outlinewidth": 0,
              "ticks": ""
             }
            },
            "type": "scattergeo"
           }
          ],
          "scattergl": [
           {
            "marker": {
             "colorbar": {
              "outlinewidth": 0,
              "ticks": ""
             }
            },
            "type": "scattergl"
           }
          ],
          "scattermapbox": [
           {
            "marker": {
             "colorbar": {
              "outlinewidth": 0,
              "ticks": ""
             }
            },
            "type": "scattermapbox"
           }
          ],
          "scatterpolar": [
           {
            "marker": {
             "colorbar": {
              "outlinewidth": 0,
              "ticks": ""
             }
            },
            "type": "scatterpolar"
           }
          ],
          "scatterpolargl": [
           {
            "marker": {
             "colorbar": {
              "outlinewidth": 0,
              "ticks": ""
             }
            },
            "type": "scatterpolargl"
           }
          ],
          "scatterternary": [
           {
            "marker": {
             "colorbar": {
              "outlinewidth": 0,
              "ticks": ""
             }
            },
            "type": "scatterternary"
           }
          ],
          "surface": [
           {
            "colorbar": {
             "outlinewidth": 0,
             "ticks": ""
            },
            "colorscale": [
             [
              0,
              "#0d0887"
             ],
             [
              0.1111111111111111,
              "#46039f"
             ],
             [
              0.2222222222222222,
              "#7201a8"
             ],
             [
              0.3333333333333333,
              "#9c179e"
             ],
             [
              0.4444444444444444,
              "#bd3786"
             ],
             [
              0.5555555555555556,
              "#d8576b"
             ],
             [
              0.6666666666666666,
              "#ed7953"
             ],
             [
              0.7777777777777778,
              "#fb9f3a"
             ],
             [
              0.8888888888888888,
              "#fdca26"
             ],
             [
              1,
              "#f0f921"
             ]
            ],
            "type": "surface"
           }
          ],
          "table": [
           {
            "cells": {
             "fill": {
              "color": "#EBF0F8"
             },
             "line": {
              "color": "white"
             }
            },
            "header": {
             "fill": {
              "color": "#C8D4E3"
             },
             "line": {
              "color": "white"
             }
            },
            "type": "table"
           }
          ]
         },
         "layout": {
          "annotationdefaults": {
           "arrowcolor": "#2a3f5f",
           "arrowhead": 0,
           "arrowwidth": 1
          },
          "autotypenumbers": "strict",
          "coloraxis": {
           "colorbar": {
            "outlinewidth": 0,
            "ticks": ""
           }
          },
          "colorscale": {
           "diverging": [
            [
             0,
             "#8e0152"
            ],
            [
             0.1,
             "#c51b7d"
            ],
            [
             0.2,
             "#de77ae"
            ],
            [
             0.3,
             "#f1b6da"
            ],
            [
             0.4,
             "#fde0ef"
            ],
            [
             0.5,
             "#f7f7f7"
            ],
            [
             0.6,
             "#e6f5d0"
            ],
            [
             0.7,
             "#b8e186"
            ],
            [
             0.8,
             "#7fbc41"
            ],
            [
             0.9,
             "#4d9221"
            ],
            [
             1,
             "#276419"
            ]
           ],
           "sequential": [
            [
             0,
             "#0d0887"
            ],
            [
             0.1111111111111111,
             "#46039f"
            ],
            [
             0.2222222222222222,
             "#7201a8"
            ],
            [
             0.3333333333333333,
             "#9c179e"
            ],
            [
             0.4444444444444444,
             "#bd3786"
            ],
            [
             0.5555555555555556,
             "#d8576b"
            ],
            [
             0.6666666666666666,
             "#ed7953"
            ],
            [
             0.7777777777777778,
             "#fb9f3a"
            ],
            [
             0.8888888888888888,
             "#fdca26"
            ],
            [
             1,
             "#f0f921"
            ]
           ],
           "sequentialminus": [
            [
             0,
             "#0d0887"
            ],
            [
             0.1111111111111111,
             "#46039f"
            ],
            [
             0.2222222222222222,
             "#7201a8"
            ],
            [
             0.3333333333333333,
             "#9c179e"
            ],
            [
             0.4444444444444444,
             "#bd3786"
            ],
            [
             0.5555555555555556,
             "#d8576b"
            ],
            [
             0.6666666666666666,
             "#ed7953"
            ],
            [
             0.7777777777777778,
             "#fb9f3a"
            ],
            [
             0.8888888888888888,
             "#fdca26"
            ],
            [
             1,
             "#f0f921"
            ]
           ]
          },
          "colorway": [
           "#636efa",
           "#EF553B",
           "#00cc96",
           "#ab63fa",
           "#FFA15A",
           "#19d3f3",
           "#FF6692",
           "#B6E880",
           "#FF97FF",
           "#FECB52"
          ],
          "font": {
           "color": "#2a3f5f"
          },
          "geo": {
           "bgcolor": "white",
           "lakecolor": "white",
           "landcolor": "#E5ECF6",
           "showlakes": true,
           "showland": true,
           "subunitcolor": "white"
          },
          "hoverlabel": {
           "align": "left"
          },
          "hovermode": "closest",
          "mapbox": {
           "style": "light"
          },
          "paper_bgcolor": "white",
          "plot_bgcolor": "#E5ECF6",
          "polar": {
           "angularaxis": {
            "gridcolor": "white",
            "linecolor": "white",
            "ticks": ""
           },
           "bgcolor": "#E5ECF6",
           "radialaxis": {
            "gridcolor": "white",
            "linecolor": "white",
            "ticks": ""
           }
          },
          "scene": {
           "xaxis": {
            "backgroundcolor": "#E5ECF6",
            "gridcolor": "white",
            "gridwidth": 2,
            "linecolor": "white",
            "showbackground": true,
            "ticks": "",
            "zerolinecolor": "white"
           },
           "yaxis": {
            "backgroundcolor": "#E5ECF6",
            "gridcolor": "white",
            "gridwidth": 2,
            "linecolor": "white",
            "showbackground": true,
            "ticks": "",
            "zerolinecolor": "white"
           },
           "zaxis": {
            "backgroundcolor": "#E5ECF6",
            "gridcolor": "white",
            "gridwidth": 2,
            "linecolor": "white",
            "showbackground": true,
            "ticks": "",
            "zerolinecolor": "white"
           }
          },
          "shapedefaults": {
           "line": {
            "color": "#2a3f5f"
           }
          },
          "ternary": {
           "aaxis": {
            "gridcolor": "white",
            "linecolor": "white",
            "ticks": ""
           },
           "baxis": {
            "gridcolor": "white",
            "linecolor": "white",
            "ticks": ""
           },
           "bgcolor": "#E5ECF6",
           "caxis": {
            "gridcolor": "white",
            "linecolor": "white",
            "ticks": ""
           }
          },
          "title": {
           "x": 0.05
          },
          "xaxis": {
           "automargin": true,
           "gridcolor": "white",
           "linecolor": "white",
           "ticks": "",
           "title": {
            "standoff": 15
           },
           "zerolinecolor": "white",
           "zerolinewidth": 2
          },
          "yaxis": {
           "automargin": true,
           "gridcolor": "white",
           "linecolor": "white",
           "ticks": "",
           "title": {
            "standoff": 15
           },
           "zerolinecolor": "white",
           "zerolinewidth": 2
          }
         }
        },
        "title": {
         "text": "1984"
        }
       }
      }
     },
     "metadata": {},
     "output_type": "display_data"
    },
    {
     "name": "stdout",
     "output_type": "stream",
     "text": [
      "\n",
      "\n",
      "\n",
      "\n",
      "\n",
      "                                                   1988\n"
     ]
    },
    {
     "data": {
      "application/vnd.plotly.v1+json": {
       "config": {
        "plotlyServerURL": "https://plot.ly"
       },
       "data": [
        {
         "coloraxis": "coloraxis",
         "customdata": [
          [
           "ALABAMA",
           1988,
           "Bush Senior",
           "R",
           "Dukakis",
           "D",
           0.5916504893810266,
           0.39863298309147205,
           0.19301750628955455
          ],
          [
           "ALASKA",
           1988,
           "Bush Senior",
           "R",
           "Dukakis",
           "D",
           0.595909372563913,
           0.362709628415519,
           0.23319974414839395
          ],
          [
           "ARIZONA",
           1988,
           "Bush Senior",
           "R",
           "Dukakis",
           "D",
           0.5995026764845679,
           0.387438741228785,
           0.21206393525578288
          ],
          [
           "ARKANSAS",
           1988,
           "Bush Senior",
           "R",
           "Dukakis",
           "D",
           0.563678361993771,
           0.4219173216645847,
           0.1417610403291863
          ],
          [
           "CALIFORNIA",
           1988,
           "Bush Senior",
           "R",
           "Dukakis",
           "D",
           0.5112656789451673,
           0.4755944256460335,
           0.03567125329913379
          ],
          [
           "COLORADO",
           1988,
           "Bush Senior",
           "R",
           "Dukakis",
           "D",
           0.5305888833673129,
           0.45282404324122666,
           0.07776484012608625
          ],
          [
           "CONNECTICUT",
           1988,
           "Bush Senior",
           "R",
           "Dukakis",
           "D",
           0.5197756122029051,
           0.4687451936200372,
           0.05103041858286794
          ],
          [
           "DELAWARE",
           1988,
           "Bush Senior",
           "R",
           "Dukakis",
           "D",
           0.5587996366415757,
           0.4347775630174756,
           0.12402207362410012
          ],
          [
           "DISTRICT OF COLUMBIA",
           1988,
           "Dukakis",
           "D",
           "Bush Senior",
           "R",
           0.8264697190437429,
           0.1430445309705149,
           0.683425188073228
          ],
          [
           "FLORIDA",
           1988,
           "Bush Senior",
           "R",
           "Dukakis",
           "D",
           0.6087155908926198,
           0.3850721693191546,
           0.22364342157346523
          ],
          [
           "GEORGIA",
           1988,
           "Bush Senior",
           "R",
           "Dukakis",
           "D",
           0.5975287234371753,
           0.394984284444916,
           0.20254443899225932
          ],
          [
           "HAWAII",
           1988,
           "Dukakis",
           "D",
           "Bush Senior",
           "R",
           0.5426944007944456,
           0.44751044543687457,
           0.09518395535757107
          ],
          [
           "IDAHO",
           1988,
           "Bush Senior",
           "R",
           "Dukakis",
           "D",
           0.6207845112576045,
           0.36010641419377554,
           0.26067809706382894
          ],
          [
           "ILLINOIS",
           1988,
           "Bush Senior",
           "R",
           "Dukakis",
           "D",
           0.5068826878871361,
           0.4860455526505115,
           0.02083713523662456
          ],
          [
           "INDIANA",
           1988,
           "Bush Senior",
           "R",
           "Dukakis",
           "D",
           0.5984277566250626,
           0.39686187674102574,
           0.2015658798840369
          ],
          [
           "IOWA",
           1988,
           "Dukakis",
           "D",
           "Bush Senior",
           "R",
           0.5471192398259158,
           0.4449647278833303,
           0.10215451194258551
          ],
          [
           "KANSAS",
           1988,
           "Bush Senior",
           "R",
           "Dukakis",
           "D",
           0.5579299608073761,
           0.4255964488985382,
           0.1323335119088379
          ],
          [
           "KENTUCKY",
           1988,
           "Bush Senior",
           "R",
           "Dukakis",
           "D",
           0.5552147911898297,
           0.4388359469103233,
           0.11637884427950645
          ],
          [
           "LOUISIANA",
           1988,
           "Bush Senior",
           "R",
           "Dukakis",
           "D",
           0.5427471529945301,
           0.4406455710040892,
           0.10210158199044095
          ],
          [
           "MAINE",
           1988,
           "Bush Senior",
           "R",
           "Dukakis",
           "D",
           0.5533542929725153,
           0.4388353887592674,
           0.11451890421324784
          ],
          [
           "MARYLAND",
           1988,
           "Bush Senior",
           "R",
           "Dukakis",
           "D",
           0.511075866300971,
           0.48199034274054775,
           0.029085523560423265
          ],
          [
           "MASSACHUSETTS",
           1988,
           "Dukakis",
           "D",
           "Bush Senior",
           "R",
           0.5322905149306765,
           0.4537505873022686,
           0.07853992762840789
          ],
          [
           "MICHIGAN",
           1988,
           "Bush Senior",
           "R",
           "Dukakis",
           "D",
           0.5356769377648254,
           0.4567207834593339,
           0.07895615430549147
          ],
          [
           "MINNESOTA",
           1988,
           "Dukakis",
           "D",
           "Bush Senior",
           "R",
           0.5291283342633263,
           0.4589572632452463,
           0.07017107101807996
          ],
          [
           "MISSISSIPPI",
           1988,
           "Bush Senior",
           "R",
           "Dukakis",
           "D",
           0.5988983679485405,
           0.39067144591622144,
           0.20822692203231902
          ],
          [
           "MISSOURI",
           1988,
           "Bush Senior",
           "R",
           "Dukakis",
           "D",
           0.5183157305367595,
           0.4785044916272857,
           0.0398112389094738
          ],
          [
           "MONTANA",
           1988,
           "Bush Senior",
           "R",
           "Dukakis",
           "D",
           0.5207151725307241,
           0.46198526556440983,
           0.05872990696631425
          ],
          [
           "NEBRASKA",
           1988,
           "Bush Senior",
           "R",
           "Dukakis",
           "D",
           0.6016282040621953,
           0.39191038074576884,
           0.20971782331642647
          ],
          [
           "NEVADA",
           1988,
           "Bush Senior",
           "R",
           "Dukakis",
           "D",
           0.6004668743606706,
           0.38684125397440644,
           0.21362562038626415
          ],
          [
           "NEW HAMPSHIRE",
           1988,
           "Bush Senior",
           "R",
           "Dukakis",
           "D",
           0.624908717607236,
           0.36334498640475,
           0.261563731202486
          ],
          [
           "NEW JERSEY",
           1988,
           "Bush Senior",
           "R",
           "Dukakis",
           "D",
           0.5624010946094485,
           0.4259814237730408,
           0.1364196708364077
          ],
          [
           "NEW MEXICO",
           1988,
           "Bush Senior",
           "R",
           "Dukakis",
           "D",
           0.5185035300074609,
           0.4689357425482415,
           0.04956778745921936
          ],
          [
           "NEW YORK",
           1988,
           "Dukakis",
           "D",
           "Bush Senior",
           "R",
           0.5019497561012464,
           0.4376430362075976,
           0.06430671989364878
          ],
          [
           "NORTH CAROLINA",
           1988,
           "Bush Senior",
           "R",
           "Dukakis",
           "D",
           0.5796829977932598,
           0.41706311464272827,
           0.16261988315053155
          ],
          [
           "NORTH DAKOTA",
           1988,
           "Bush Senior",
           "R",
           "Dukakis",
           "D",
           0.5603123181312045,
           0.429720010361265,
           0.13059230776993952
          ],
          [
           "OHIO",
           1988,
           "Bush Senior",
           "R",
           "Dukakis",
           "D",
           0.5500175824525985,
           0.4414684136075665,
           0.10854916884503196
          ],
          [
           "OKLAHOMA",
           1988,
           "Bush Senior",
           "R",
           "Dukakis",
           "D",
           0.5792879125833877,
           0.41281651460757823,
           0.1664713979758095
          ],
          [
           "OREGON",
           1988,
           "Dukakis",
           "D",
           "Bush Senior",
           "R",
           0.5127811239799815,
           0.4661136695365043,
           0.04666745444347725
          ],
          [
           "PENNSYLVANIA",
           1988,
           "Bush Senior",
           "R",
           "Dukakis",
           "D",
           0.5070457961872039,
           0.48386740504438575,
           0.023178391142818167
          ],
          [
           "RHODE ISLAND",
           1988,
           "Dukakis",
           "D",
           "Bush Senior",
           "R",
           0.5563785459021012,
           0.43932608706397575,
           0.11705245883812548
          ],
          [
           "SOUTH CAROLINA",
           1988,
           "Bush Senior",
           "R",
           "Dukakis",
           "D",
           0.6150481385058352,
           0.37581198548897626,
           0.2392361530168589
          ],
          [
           "SOUTH DAKOTA",
           1988,
           "Bush Senior",
           "R",
           "Dukakis",
           "D",
           0.5284976245323348,
           0.4650612956922084,
           0.06343632884012645
          ],
          [
           "TENNESSEE",
           1988,
           "Bush Senior",
           "R",
           "Dukakis",
           "D",
           0.5789048128342246,
           0.4154585179526356,
           0.16344629488158896
          ],
          [
           "TEXAS",
           1988,
           "Bush Senior",
           "R",
           "Dukakis",
           "D",
           0.559535579585843,
           0.433493692203095,
           0.12604188738274796
          ],
          [
           "UTAH",
           1988,
           "Bush Senior",
           "R",
           "Dukakis",
           "D",
           0.6621896483505614,
           0.320464352836441,
           0.3417252955141204
          ],
          [
           "VERMONT",
           1988,
           "Bush Senior",
           "R",
           "Dukakis",
           "D",
           0.510960514203051,
           0.47579809968437664,
           0.035162414518674356
          ],
          [
           "VIRGINIA",
           1988,
           "Bush Senior",
           "R",
           "Dukakis",
           "D",
           0.5973519911626572,
           0.3923140487194568,
           0.20503794244320045
          ],
          [
           "WASHINGTON",
           1988,
           "Dukakis",
           "D",
           "Bush Senior",
           "R",
           0.5004768790078343,
           0.48456429235068915,
           0.015912586657145178
          ],
          [
           "WEST VIRGINIA",
           1988,
           "Dukakis",
           "D",
           "Bush Senior",
           "R",
           0.5219811085378939,
           0.47460550947404834,
           0.047375599063845586
          ],
          [
           "WISCONSIN",
           1988,
           "Dukakis",
           "D",
           "Bush Senior",
           "R",
           0.5141403024628491,
           0.47795910582549433,
           0.03618119663735481
          ],
          [
           "WYOMING",
           1988,
           "Bush Senior",
           "R",
           "Dukakis",
           "D",
           0.6053038498790718,
           0.3801337857049804,
           0.2251700641740914
          ]
         ],
         "geo": "geo",
         "geojson": "https://raw.githubusercontent.com/plotly/datasets/master/geojson-counties-fips.json",
         "hovertemplate": "%{customdata[0]}: %{customdata[1]}<br>%{customdata[2]}-%{customdata[3]} def. %{customdata[4]}-%{customdata[5]}<br>%{customdata[6]:.1%} to %{customdata[7]:.1%}<br>Margin: %{customdata[8]:.1%}<br><extra></extra>",
         "locationmode": "USA-states",
         "locations": [
          "AL",
          "AK",
          "AZ",
          "AR",
          "CA",
          "CO",
          "CT",
          "DE",
          "DC",
          "FL",
          "GA",
          "HI",
          "ID",
          "IL",
          "IN",
          "IA",
          "KS",
          "KY",
          "LA",
          "ME",
          "MD",
          "MA",
          "MI",
          "MN",
          "MS",
          "MO",
          "MT",
          "NE",
          "NV",
          "NH",
          "NJ",
          "NM",
          "NY",
          "NC",
          "ND",
          "OH",
          "OK",
          "OR",
          "PA",
          "RI",
          "SC",
          "SD",
          "TN",
          "TX",
          "UT",
          "VT",
          "VA",
          "WA",
          "WV",
          "WI",
          "WY"
         ],
         "name": "",
         "type": "choropleth",
         "z": [
          -0.19301750628955455,
          -0.23319974414839395,
          -0.21206393525578288,
          -0.1417610403291863,
          -0.03567125329913379,
          -0.07776484012608625,
          -0.05103041858286794,
          -0.12402207362410012,
          0.683425188073228,
          -0.22364342157346523,
          -0.20254443899225932,
          0.09518395535757107,
          -0.26067809706382894,
          -0.02083713523662456,
          -0.2015658798840369,
          0.10215451194258551,
          -0.1323335119088379,
          -0.11637884427950645,
          -0.10210158199044095,
          -0.11451890421324784,
          -0.029085523560423265,
          0.07853992762840789,
          -0.07895615430549147,
          0.07017107101807996,
          -0.20822692203231902,
          -0.0398112389094738,
          -0.05872990696631425,
          -0.20971782331642647,
          -0.21362562038626415,
          -0.261563731202486,
          -0.1364196708364077,
          -0.04956778745921936,
          0.06430671989364878,
          -0.16261988315053155,
          -0.13059230776993952,
          -0.10854916884503196,
          -0.1664713979758095,
          0.04666745444347725,
          -0.023178391142818167,
          0.11705245883812548,
          -0.2392361530168589,
          -0.06343632884012645,
          -0.16344629488158896,
          -0.12604188738274796,
          -0.3417252955141204,
          -0.035162414518674356,
          -0.20503794244320045,
          0.015912586657145178,
          0.047375599063845586,
          0.03618119663735481,
          -0.2251700641740914
         ]
        }
       ],
       "layout": {
        "coloraxis": {
         "cmax": 0.35,
         "cmid": 0,
         "cmin": -0.35,
         "colorbar": {
          "title": {
           "text": "DIFF_PCT"
          }
         },
         "colorscale": [
          [
           0,
           "rgb(103,0,31)"
          ],
          [
           0.1,
           "rgb(178,24,43)"
          ],
          [
           0.2,
           "rgb(214,96,77)"
          ],
          [
           0.3,
           "rgb(244,165,130)"
          ],
          [
           0.4,
           "rgb(253,219,199)"
          ],
          [
           0.5,
           "rgb(247,247,247)"
          ],
          [
           0.6,
           "rgb(209,229,240)"
          ],
          [
           0.7,
           "rgb(146,197,222)"
          ],
          [
           0.8,
           "rgb(67,147,195)"
          ],
          [
           0.9,
           "rgb(33,102,172)"
          ],
          [
           1,
           "rgb(5,48,97)"
          ]
         ]
        },
        "geo": {
         "center": {},
         "domain": {
          "x": [
           0,
           1
          ],
          "y": [
           0,
           1
          ]
         },
         "scope": "usa"
        },
        "legend": {
         "tracegroupgap": 0
        },
        "margin": {
         "b": 0,
         "l": 0,
         "r": 0,
         "t": 0
        },
        "template": {
         "data": {
          "bar": [
           {
            "error_x": {
             "color": "#2a3f5f"
            },
            "error_y": {
             "color": "#2a3f5f"
            },
            "marker": {
             "line": {
              "color": "#E5ECF6",
              "width": 0.5
             },
             "pattern": {
              "fillmode": "overlay",
              "size": 10,
              "solidity": 0.2
             }
            },
            "type": "bar"
           }
          ],
          "barpolar": [
           {
            "marker": {
             "line": {
              "color": "#E5ECF6",
              "width": 0.5
             },
             "pattern": {
              "fillmode": "overlay",
              "size": 10,
              "solidity": 0.2
             }
            },
            "type": "barpolar"
           }
          ],
          "carpet": [
           {
            "aaxis": {
             "endlinecolor": "#2a3f5f",
             "gridcolor": "white",
             "linecolor": "white",
             "minorgridcolor": "white",
             "startlinecolor": "#2a3f5f"
            },
            "baxis": {
             "endlinecolor": "#2a3f5f",
             "gridcolor": "white",
             "linecolor": "white",
             "minorgridcolor": "white",
             "startlinecolor": "#2a3f5f"
            },
            "type": "carpet"
           }
          ],
          "choropleth": [
           {
            "colorbar": {
             "outlinewidth": 0,
             "ticks": ""
            },
            "type": "choropleth"
           }
          ],
          "contour": [
           {
            "colorbar": {
             "outlinewidth": 0,
             "ticks": ""
            },
            "colorscale": [
             [
              0,
              "#0d0887"
             ],
             [
              0.1111111111111111,
              "#46039f"
             ],
             [
              0.2222222222222222,
              "#7201a8"
             ],
             [
              0.3333333333333333,
              "#9c179e"
             ],
             [
              0.4444444444444444,
              "#bd3786"
             ],
             [
              0.5555555555555556,
              "#d8576b"
             ],
             [
              0.6666666666666666,
              "#ed7953"
             ],
             [
              0.7777777777777778,
              "#fb9f3a"
             ],
             [
              0.8888888888888888,
              "#fdca26"
             ],
             [
              1,
              "#f0f921"
             ]
            ],
            "type": "contour"
           }
          ],
          "contourcarpet": [
           {
            "colorbar": {
             "outlinewidth": 0,
             "ticks": ""
            },
            "type": "contourcarpet"
           }
          ],
          "heatmap": [
           {
            "colorbar": {
             "outlinewidth": 0,
             "ticks": ""
            },
            "colorscale": [
             [
              0,
              "#0d0887"
             ],
             [
              0.1111111111111111,
              "#46039f"
             ],
             [
              0.2222222222222222,
              "#7201a8"
             ],
             [
              0.3333333333333333,
              "#9c179e"
             ],
             [
              0.4444444444444444,
              "#bd3786"
             ],
             [
              0.5555555555555556,
              "#d8576b"
             ],
             [
              0.6666666666666666,
              "#ed7953"
             ],
             [
              0.7777777777777778,
              "#fb9f3a"
             ],
             [
              0.8888888888888888,
              "#fdca26"
             ],
             [
              1,
              "#f0f921"
             ]
            ],
            "type": "heatmap"
           }
          ],
          "heatmapgl": [
           {
            "colorbar": {
             "outlinewidth": 0,
             "ticks": ""
            },
            "colorscale": [
             [
              0,
              "#0d0887"
             ],
             [
              0.1111111111111111,
              "#46039f"
             ],
             [
              0.2222222222222222,
              "#7201a8"
             ],
             [
              0.3333333333333333,
              "#9c179e"
             ],
             [
              0.4444444444444444,
              "#bd3786"
             ],
             [
              0.5555555555555556,
              "#d8576b"
             ],
             [
              0.6666666666666666,
              "#ed7953"
             ],
             [
              0.7777777777777778,
              "#fb9f3a"
             ],
             [
              0.8888888888888888,
              "#fdca26"
             ],
             [
              1,
              "#f0f921"
             ]
            ],
            "type": "heatmapgl"
           }
          ],
          "histogram": [
           {
            "marker": {
             "pattern": {
              "fillmode": "overlay",
              "size": 10,
              "solidity": 0.2
             }
            },
            "type": "histogram"
           }
          ],
          "histogram2d": [
           {
            "colorbar": {
             "outlinewidth": 0,
             "ticks": ""
            },
            "colorscale": [
             [
              0,
              "#0d0887"
             ],
             [
              0.1111111111111111,
              "#46039f"
             ],
             [
              0.2222222222222222,
              "#7201a8"
             ],
             [
              0.3333333333333333,
              "#9c179e"
             ],
             [
              0.4444444444444444,
              "#bd3786"
             ],
             [
              0.5555555555555556,
              "#d8576b"
             ],
             [
              0.6666666666666666,
              "#ed7953"
             ],
             [
              0.7777777777777778,
              "#fb9f3a"
             ],
             [
              0.8888888888888888,
              "#fdca26"
             ],
             [
              1,
              "#f0f921"
             ]
            ],
            "type": "histogram2d"
           }
          ],
          "histogram2dcontour": [
           {
            "colorbar": {
             "outlinewidth": 0,
             "ticks": ""
            },
            "colorscale": [
             [
              0,
              "#0d0887"
             ],
             [
              0.1111111111111111,
              "#46039f"
             ],
             [
              0.2222222222222222,
              "#7201a8"
             ],
             [
              0.3333333333333333,
              "#9c179e"
             ],
             [
              0.4444444444444444,
              "#bd3786"
             ],
             [
              0.5555555555555556,
              "#d8576b"
             ],
             [
              0.6666666666666666,
              "#ed7953"
             ],
             [
              0.7777777777777778,
              "#fb9f3a"
             ],
             [
              0.8888888888888888,
              "#fdca26"
             ],
             [
              1,
              "#f0f921"
             ]
            ],
            "type": "histogram2dcontour"
           }
          ],
          "mesh3d": [
           {
            "colorbar": {
             "outlinewidth": 0,
             "ticks": ""
            },
            "type": "mesh3d"
           }
          ],
          "parcoords": [
           {
            "line": {
             "colorbar": {
              "outlinewidth": 0,
              "ticks": ""
             }
            },
            "type": "parcoords"
           }
          ],
          "pie": [
           {
            "automargin": true,
            "type": "pie"
           }
          ],
          "scatter": [
           {
            "fillpattern": {
             "fillmode": "overlay",
             "size": 10,
             "solidity": 0.2
            },
            "type": "scatter"
           }
          ],
          "scatter3d": [
           {
            "line": {
             "colorbar": {
              "outlinewidth": 0,
              "ticks": ""
             }
            },
            "marker": {
             "colorbar": {
              "outlinewidth": 0,
              "ticks": ""
             }
            },
            "type": "scatter3d"
           }
          ],
          "scattercarpet": [
           {
            "marker": {
             "colorbar": {
              "outlinewidth": 0,
              "ticks": ""
             }
            },
            "type": "scattercarpet"
           }
          ],
          "scattergeo": [
           {
            "marker": {
             "colorbar": {
              "outlinewidth": 0,
              "ticks": ""
             }
            },
            "type": "scattergeo"
           }
          ],
          "scattergl": [
           {
            "marker": {
             "colorbar": {
              "outlinewidth": 0,
              "ticks": ""
             }
            },
            "type": "scattergl"
           }
          ],
          "scattermapbox": [
           {
            "marker": {
             "colorbar": {
              "outlinewidth": 0,
              "ticks": ""
             }
            },
            "type": "scattermapbox"
           }
          ],
          "scatterpolar": [
           {
            "marker": {
             "colorbar": {
              "outlinewidth": 0,
              "ticks": ""
             }
            },
            "type": "scatterpolar"
           }
          ],
          "scatterpolargl": [
           {
            "marker": {
             "colorbar": {
              "outlinewidth": 0,
              "ticks": ""
             }
            },
            "type": "scatterpolargl"
           }
          ],
          "scatterternary": [
           {
            "marker": {
             "colorbar": {
              "outlinewidth": 0,
              "ticks": ""
             }
            },
            "type": "scatterternary"
           }
          ],
          "surface": [
           {
            "colorbar": {
             "outlinewidth": 0,
             "ticks": ""
            },
            "colorscale": [
             [
              0,
              "#0d0887"
             ],
             [
              0.1111111111111111,
              "#46039f"
             ],
             [
              0.2222222222222222,
              "#7201a8"
             ],
             [
              0.3333333333333333,
              "#9c179e"
             ],
             [
              0.4444444444444444,
              "#bd3786"
             ],
             [
              0.5555555555555556,
              "#d8576b"
             ],
             [
              0.6666666666666666,
              "#ed7953"
             ],
             [
              0.7777777777777778,
              "#fb9f3a"
             ],
             [
              0.8888888888888888,
              "#fdca26"
             ],
             [
              1,
              "#f0f921"
             ]
            ],
            "type": "surface"
           }
          ],
          "table": [
           {
            "cells": {
             "fill": {
              "color": "#EBF0F8"
             },
             "line": {
              "color": "white"
             }
            },
            "header": {
             "fill": {
              "color": "#C8D4E3"
             },
             "line": {
              "color": "white"
             }
            },
            "type": "table"
           }
          ]
         },
         "layout": {
          "annotationdefaults": {
           "arrowcolor": "#2a3f5f",
           "arrowhead": 0,
           "arrowwidth": 1
          },
          "autotypenumbers": "strict",
          "coloraxis": {
           "colorbar": {
            "outlinewidth": 0,
            "ticks": ""
           }
          },
          "colorscale": {
           "diverging": [
            [
             0,
             "#8e0152"
            ],
            [
             0.1,
             "#c51b7d"
            ],
            [
             0.2,
             "#de77ae"
            ],
            [
             0.3,
             "#f1b6da"
            ],
            [
             0.4,
             "#fde0ef"
            ],
            [
             0.5,
             "#f7f7f7"
            ],
            [
             0.6,
             "#e6f5d0"
            ],
            [
             0.7,
             "#b8e186"
            ],
            [
             0.8,
             "#7fbc41"
            ],
            [
             0.9,
             "#4d9221"
            ],
            [
             1,
             "#276419"
            ]
           ],
           "sequential": [
            [
             0,
             "#0d0887"
            ],
            [
             0.1111111111111111,
             "#46039f"
            ],
            [
             0.2222222222222222,
             "#7201a8"
            ],
            [
             0.3333333333333333,
             "#9c179e"
            ],
            [
             0.4444444444444444,
             "#bd3786"
            ],
            [
             0.5555555555555556,
             "#d8576b"
            ],
            [
             0.6666666666666666,
             "#ed7953"
            ],
            [
             0.7777777777777778,
             "#fb9f3a"
            ],
            [
             0.8888888888888888,
             "#fdca26"
            ],
            [
             1,
             "#f0f921"
            ]
           ],
           "sequentialminus": [
            [
             0,
             "#0d0887"
            ],
            [
             0.1111111111111111,
             "#46039f"
            ],
            [
             0.2222222222222222,
             "#7201a8"
            ],
            [
             0.3333333333333333,
             "#9c179e"
            ],
            [
             0.4444444444444444,
             "#bd3786"
            ],
            [
             0.5555555555555556,
             "#d8576b"
            ],
            [
             0.6666666666666666,
             "#ed7953"
            ],
            [
             0.7777777777777778,
             "#fb9f3a"
            ],
            [
             0.8888888888888888,
             "#fdca26"
            ],
            [
             1,
             "#f0f921"
            ]
           ]
          },
          "colorway": [
           "#636efa",
           "#EF553B",
           "#00cc96",
           "#ab63fa",
           "#FFA15A",
           "#19d3f3",
           "#FF6692",
           "#B6E880",
           "#FF97FF",
           "#FECB52"
          ],
          "font": {
           "color": "#2a3f5f"
          },
          "geo": {
           "bgcolor": "white",
           "lakecolor": "white",
           "landcolor": "#E5ECF6",
           "showlakes": true,
           "showland": true,
           "subunitcolor": "white"
          },
          "hoverlabel": {
           "align": "left"
          },
          "hovermode": "closest",
          "mapbox": {
           "style": "light"
          },
          "paper_bgcolor": "white",
          "plot_bgcolor": "#E5ECF6",
          "polar": {
           "angularaxis": {
            "gridcolor": "white",
            "linecolor": "white",
            "ticks": ""
           },
           "bgcolor": "#E5ECF6",
           "radialaxis": {
            "gridcolor": "white",
            "linecolor": "white",
            "ticks": ""
           }
          },
          "scene": {
           "xaxis": {
            "backgroundcolor": "#E5ECF6",
            "gridcolor": "white",
            "gridwidth": 2,
            "linecolor": "white",
            "showbackground": true,
            "ticks": "",
            "zerolinecolor": "white"
           },
           "yaxis": {
            "backgroundcolor": "#E5ECF6",
            "gridcolor": "white",
            "gridwidth": 2,
            "linecolor": "white",
            "showbackground": true,
            "ticks": "",
            "zerolinecolor": "white"
           },
           "zaxis": {
            "backgroundcolor": "#E5ECF6",
            "gridcolor": "white",
            "gridwidth": 2,
            "linecolor": "white",
            "showbackground": true,
            "ticks": "",
            "zerolinecolor": "white"
           }
          },
          "shapedefaults": {
           "line": {
            "color": "#2a3f5f"
           }
          },
          "ternary": {
           "aaxis": {
            "gridcolor": "white",
            "linecolor": "white",
            "ticks": ""
           },
           "baxis": {
            "gridcolor": "white",
            "linecolor": "white",
            "ticks": ""
           },
           "bgcolor": "#E5ECF6",
           "caxis": {
            "gridcolor": "white",
            "linecolor": "white",
            "ticks": ""
           }
          },
          "title": {
           "x": 0.05
          },
          "xaxis": {
           "automargin": true,
           "gridcolor": "white",
           "linecolor": "white",
           "ticks": "",
           "title": {
            "standoff": 15
           },
           "zerolinecolor": "white",
           "zerolinewidth": 2
          },
          "yaxis": {
           "automargin": true,
           "gridcolor": "white",
           "linecolor": "white",
           "ticks": "",
           "title": {
            "standoff": 15
           },
           "zerolinecolor": "white",
           "zerolinewidth": 2
          }
         }
        },
        "title": {
         "text": "1988"
        }
       }
      }
     },
     "metadata": {},
     "output_type": "display_data"
    },
    {
     "name": "stdout",
     "output_type": "stream",
     "text": [
      "\n",
      "\n",
      "\n",
      "\n",
      "\n",
      "                                                   1992\n"
     ]
    },
    {
     "data": {
      "application/vnd.plotly.v1+json": {
       "config": {
        "plotlyServerURL": "https://plot.ly"
       },
       "data": [
        {
         "coloraxis": "coloraxis",
         "customdata": [
          [
           "ALABAMA",
           1992,
           "Bush Senior",
           "R",
           "Clinton B.",
           "D",
           0.4764540359939813,
           0.4088006350485172,
           0.06765340094546407
          ],
          [
           "ALASKA",
           1992,
           "Bush Senior",
           "R",
           "Clinton B.",
           "D",
           0.3945749808515083,
           0.3028711132430195,
           0.09170386760848875
          ],
          [
           "ARIZONA",
           1992,
           "Bush Senior",
           "R",
           "Clinton B.",
           "D",
           0.38473141781132836,
           0.3652045259671481,
           0.019526891844180272
          ],
          [
           "ARKANSAS",
           1992,
           "Clinton B.",
           "D",
           "Bush Senior",
           "R",
           0.5320795284925204,
           0.3548339930552999,
           0.1772455354372205
          ],
          [
           "CALIFORNIA",
           1992,
           "Clinton B.",
           "D",
           "Bush Senior",
           "R",
           0.46006587840280944,
           0.32614669375921296,
           0.13391918464359648
          ],
          [
           "COLORADO",
           1992,
           "Clinton B.",
           "D",
           "Bush Senior",
           "R",
           0.40128028651907366,
           0.35869052626212417,
           0.042589760256949494
          ],
          [
           "CONNECTICUT",
           1992,
           "Clinton B.",
           "D",
           "Bush Senior",
           "R",
           0.42218572959541034,
           0.35783241221763246,
           0.06435331737777789
          ],
          [
           "DELAWARE",
           1992,
           "Clinton B.",
           "D",
           "Bush Senior",
           "R",
           0.43523927905531384,
           0.35326634900904635,
           0.08197293004626749
          ],
          [
           "DISTRICT OF COLUMBIA",
           1992,
           "Clinton B.",
           "D",
           "Bush Senior",
           "R",
           0.8464090485648498,
           0.09095143515019423,
           0.7554576134146556
          ],
          [
           "FLORIDA",
           1992,
           "Bush Senior",
           "R",
           "Clinton B.",
           "D",
           0.4090249693604387,
           0.3899012156452978,
           0.019123753715140912
          ],
          [
           "GEORGIA",
           1992,
           "Clinton B.",
           "D",
           "Bush Senior",
           "R",
           0.4346868533599755,
           0.4287785318635339,
           0.005908321496441604
          ],
          [
           "HAWAII",
           1992,
           "Clinton B.",
           "D",
           "Bush Senior",
           "R",
           0.48092757790163126,
           0.3669704593366627,
           0.11395711856496854
          ],
          [
           "IDAHO",
           1992,
           "Bush Senior",
           "R",
           "Clinton B.",
           "D",
           0.4203258980241188,
           0.2841921205358069,
           0.1361337774883119
          ],
          [
           "ILLINOIS",
           1992,
           "Clinton B.",
           "D",
           "Bush Senior",
           "R",
           0.48579677819917283,
           0.3433746713220995,
           0.14242210687707335
          ],
          [
           "INDIANA",
           1992,
           "Bush Senior",
           "R",
           "Clinton B.",
           "D",
           0.42906780127769506,
           0.3679390564346401,
           0.06112874484305497
          ],
          [
           "IOWA",
           1992,
           "Clinton B.",
           "D",
           "Bush Senior",
           "R",
           0.43285838623305506,
           0.37272138708865377,
           0.06013699914440129
          ],
          [
           "KANSAS",
           1992,
           "Bush Senior",
           "R",
           "Clinton B.",
           "D",
           0.38881524598266903,
           0.3373849413602757,
           0.05143030462239334
          ],
          [
           "KENTUCKY",
           1992,
           "Clinton B.",
           "D",
           "Bush Senior",
           "R",
           0.4455114207247639,
           0.4134088016611963,
           0.032102619063567595
          ],
          [
           "LOUISIANA",
           1992,
           "Clinton B.",
           "D",
           "Bush Senior",
           "R",
           0.4558453914124838,
           0.40970895807134794,
           0.046136433341135874
          ],
          [
           "MAINE",
           1992,
           "Clinton B.",
           "D",
           "Bush Senior",
           "R",
           0.3876679730212995,
           0.30390626034769735,
           0.08376171267360216
          ],
          [
           "MARYLAND",
           1992,
           "Clinton B.",
           "D",
           "Bush Senior",
           "R",
           0.4981260518598394,
           0.3562940269477673,
           0.14183202491207209
          ],
          [
           "MASSACHUSETTS",
           1992,
           "Clinton B.",
           "D",
           "Bush Senior",
           "R",
           0.47541410927927824,
           0.2902438795758967,
           0.18517022970338154
          ],
          [
           "MICHIGAN",
           1992,
           "Clinton B.",
           "D",
           "Bush Senior",
           "R",
           0.43773687484399393,
           0.36375647915056897,
           0.07398039569342496
          ],
          [
           "MINNESOTA",
           1992,
           "Clinton B.",
           "D",
           "Bush Senior",
           "R",
           0.4348465127847806,
           0.3185083315303405,
           0.11633818125444007
          ],
          [
           "MISSISSIPPI",
           1992,
           "Bush Senior",
           "R",
           "Clinton B.",
           "D",
           0.4968389467026145,
           0.40768064143867394,
           0.08915830526394058
          ],
          [
           "MISSOURI",
           1992,
           "Clinton B.",
           "D",
           "Bush Senior",
           "R",
           0.4407168575694087,
           0.3392168178415654,
           0.10150003972784333
          ],
          [
           "MONTANA",
           1992,
           "Clinton B.",
           "D",
           "Bush Senior",
           "R",
           0.3763112452293446,
           0.3512249654759208,
           0.025086279753423812
          ],
          [
           "NEBRASKA",
           1992,
           "Bush Senior",
           "R",
           "Clinton B.",
           "D",
           0.4659750035929962,
           0.29403454157435605,
           0.17194046201864016
          ],
          [
           "NEVADA",
           1992,
           "Clinton B.",
           "D",
           "Bush Senior",
           "R",
           0.3735754999822246,
           0.34726792253089955,
           0.02630757745132506
          ],
          [
           "NEW HAMPSHIRE",
           1992,
           "Clinton B.",
           "D",
           "Bush Senior",
           "R",
           0.38911795091350765,
           0.37691427082266876,
           0.012203680090838886
          ],
          [
           "NEW JERSEY",
           1992,
           "Clinton B.",
           "D",
           "Bush Senior",
           "R",
           0.42953959123027496,
           0.40581033462794824,
           0.02372925660232672
          ],
          [
           "NEW MEXICO",
           1992,
           "Clinton B.",
           "D",
           "Bush Senior",
           "R",
           0.45898846638338486,
           0.37338460944654783,
           0.08560385693683703
          ],
          [
           "NEW YORK",
           1992,
           "Clinton B.",
           "D",
           "Bush Senior",
           "R",
           0.4727630691275797,
           0.2883974307543317,
           0.184365638373248
          ],
          [
           "NORTH CAROLINA",
           1992,
           "Bush Senior",
           "R",
           "Clinton B.",
           "D",
           0.43442808737102057,
           0.42653368302161304,
           0.007894404349407524
          ],
          [
           "NORTH DAKOTA",
           1992,
           "Bush Senior",
           "R",
           "Clinton B.",
           "D",
           0.442159716745691,
           0.32183505174713517,
           0.12032466499855582
          ],
          [
           "OHIO",
           1992,
           "Clinton B.",
           "D",
           "Bush Senior",
           "R",
           0.4018128056321024,
           0.383466124368847,
           0.01834668126325545
          ],
          [
           "OKLAHOMA",
           1992,
           "Bush Senior",
           "R",
           "Clinton B.",
           "D",
           0.4264574832830945,
           0.3402473749585539,
           0.08621010832454062
          ],
          [
           "OREGON",
           1992,
           "Clinton B.",
           "D",
           "Bush Senior",
           "R",
           0.42478855058958337,
           0.32527212723815724,
           0.09951642335142613
          ],
          [
           "PENNSYLVANIA",
           1992,
           "Clinton B.",
           "D",
           "Bush Senior",
           "R",
           0.45146164873251193,
           0.3612721051814485,
           0.09018954355106346
          ],
          [
           "RHODE ISLAND",
           1992,
           "Clinton B.",
           "D",
           "Bush Senior",
           "R",
           0.4704796356136888,
           0.29027604689378317,
           0.1802035887199056
          ],
          [
           "SOUTH CAROLINA",
           1992,
           "Bush Senior",
           "R",
           "Clinton B.",
           "D",
           0.46993356725298474,
           0.4276254117463252,
           0.04230815550665956
          ],
          [
           "SOUTH DAKOTA",
           1992,
           "Bush Senior",
           "R",
           "Clinton B.",
           "D",
           0.4065914457523182,
           0.37140970813730095,
           0.03518173761501725
          ],
          [
           "TENNESSEE",
           1992,
           "Clinton B.",
           "D",
           "Bush Senior",
           "R",
           0.47084793088803906,
           0.42433364033171966,
           0.04651429055631939
          ],
          [
           "TEXAS",
           1992,
           "Bush Senior",
           "R",
           "Clinton B.",
           "D",
           0.40560021111410466,
           0.37078458334051023,
           0.034815627773594426
          ],
          [
           "UTAH",
           1992,
           "Bush Senior",
           "R",
           "Clinton B.",
           "D",
           0.4336463270062554,
           0.24654501759413333,
           0.18710130941212205
          ],
          [
           "VERMONT",
           1992,
           "Clinton B.",
           "D",
           "Bush Senior",
           "R",
           0.46113751764750555,
           0.30418258825478683,
           0.1569549293927187
          ],
          [
           "VIRGINIA",
           1992,
           "Bush Senior",
           "R",
           "Clinton B.",
           "D",
           0.4495736635394308,
           0.4058607440265809,
           0.04371291951284989
          ],
          [
           "WASHINGTON",
           1992,
           "Clinton B.",
           "D",
           "Bush Senior",
           "R",
           0.43410220037463415,
           0.31965605348919046,
           0.11444614688544369
          ],
          [
           "WEST VIRGINIA",
           1992,
           "Clinton B.",
           "D",
           "Bush Senior",
           "R",
           0.4841482161898089,
           0.35393029164356854,
           0.13021792454624037
          ],
          [
           "WISCONSIN",
           1992,
           "Clinton B.",
           "D",
           "Bush Senior",
           "R",
           0.4113155574098482,
           0.36777220963199664,
           0.04354334777785157
          ],
          [
           "WYOMING",
           1992,
           "Bush Senior",
           "R",
           "Clinton B.",
           "D",
           0.3969652398391067,
           0.34099777871165277,
           0.05596746112745393
          ]
         ],
         "geo": "geo",
         "geojson": "https://raw.githubusercontent.com/plotly/datasets/master/geojson-counties-fips.json",
         "hovertemplate": "%{customdata[0]}: %{customdata[1]}<br>%{customdata[2]}-%{customdata[3]} def. %{customdata[4]}-%{customdata[5]}<br>%{customdata[6]:.1%} to %{customdata[7]:.1%}<br>Margin: %{customdata[8]:.1%}<br><extra></extra>",
         "locationmode": "USA-states",
         "locations": [
          "AL",
          "AK",
          "AZ",
          "AR",
          "CA",
          "CO",
          "CT",
          "DE",
          "DC",
          "FL",
          "GA",
          "HI",
          "ID",
          "IL",
          "IN",
          "IA",
          "KS",
          "KY",
          "LA",
          "ME",
          "MD",
          "MA",
          "MI",
          "MN",
          "MS",
          "MO",
          "MT",
          "NE",
          "NV",
          "NH",
          "NJ",
          "NM",
          "NY",
          "NC",
          "ND",
          "OH",
          "OK",
          "OR",
          "PA",
          "RI",
          "SC",
          "SD",
          "TN",
          "TX",
          "UT",
          "VT",
          "VA",
          "WA",
          "WV",
          "WI",
          "WY"
         ],
         "name": "",
         "type": "choropleth",
         "z": [
          -0.06765340094546407,
          -0.09170386760848875,
          -0.019526891844180272,
          0.1772455354372205,
          0.13391918464359648,
          0.042589760256949494,
          0.06435331737777789,
          0.08197293004626749,
          0.7554576134146556,
          -0.019123753715140912,
          0.005908321496441604,
          0.11395711856496854,
          -0.1361337774883119,
          0.14242210687707335,
          -0.06112874484305497,
          0.06013699914440129,
          -0.05143030462239334,
          0.032102619063567595,
          0.046136433341135874,
          0.08376171267360216,
          0.14183202491207209,
          0.18517022970338154,
          0.07398039569342496,
          0.11633818125444007,
          -0.08915830526394058,
          0.10150003972784333,
          0.025086279753423812,
          -0.17194046201864016,
          0.02630757745132506,
          0.012203680090838886,
          0.02372925660232672,
          0.08560385693683703,
          0.184365638373248,
          -0.007894404349407524,
          -0.12032466499855582,
          0.01834668126325545,
          -0.08621010832454062,
          0.09951642335142613,
          0.09018954355106346,
          0.1802035887199056,
          -0.04230815550665956,
          -0.03518173761501725,
          0.04651429055631939,
          -0.034815627773594426,
          -0.18710130941212205,
          0.1569549293927187,
          -0.04371291951284989,
          0.11444614688544369,
          0.13021792454624037,
          0.04354334777785157,
          -0.05596746112745393
         ]
        }
       ],
       "layout": {
        "coloraxis": {
         "cmax": 0.35,
         "cmid": 0,
         "cmin": -0.35,
         "colorbar": {
          "title": {
           "text": "DIFF_PCT"
          }
         },
         "colorscale": [
          [
           0,
           "rgb(103,0,31)"
          ],
          [
           0.1,
           "rgb(178,24,43)"
          ],
          [
           0.2,
           "rgb(214,96,77)"
          ],
          [
           0.3,
           "rgb(244,165,130)"
          ],
          [
           0.4,
           "rgb(253,219,199)"
          ],
          [
           0.5,
           "rgb(247,247,247)"
          ],
          [
           0.6,
           "rgb(209,229,240)"
          ],
          [
           0.7,
           "rgb(146,197,222)"
          ],
          [
           0.8,
           "rgb(67,147,195)"
          ],
          [
           0.9,
           "rgb(33,102,172)"
          ],
          [
           1,
           "rgb(5,48,97)"
          ]
         ]
        },
        "geo": {
         "center": {},
         "domain": {
          "x": [
           0,
           1
          ],
          "y": [
           0,
           1
          ]
         },
         "scope": "usa"
        },
        "legend": {
         "tracegroupgap": 0
        },
        "margin": {
         "b": 0,
         "l": 0,
         "r": 0,
         "t": 0
        },
        "template": {
         "data": {
          "bar": [
           {
            "error_x": {
             "color": "#2a3f5f"
            },
            "error_y": {
             "color": "#2a3f5f"
            },
            "marker": {
             "line": {
              "color": "#E5ECF6",
              "width": 0.5
             },
             "pattern": {
              "fillmode": "overlay",
              "size": 10,
              "solidity": 0.2
             }
            },
            "type": "bar"
           }
          ],
          "barpolar": [
           {
            "marker": {
             "line": {
              "color": "#E5ECF6",
              "width": 0.5
             },
             "pattern": {
              "fillmode": "overlay",
              "size": 10,
              "solidity": 0.2
             }
            },
            "type": "barpolar"
           }
          ],
          "carpet": [
           {
            "aaxis": {
             "endlinecolor": "#2a3f5f",
             "gridcolor": "white",
             "linecolor": "white",
             "minorgridcolor": "white",
             "startlinecolor": "#2a3f5f"
            },
            "baxis": {
             "endlinecolor": "#2a3f5f",
             "gridcolor": "white",
             "linecolor": "white",
             "minorgridcolor": "white",
             "startlinecolor": "#2a3f5f"
            },
            "type": "carpet"
           }
          ],
          "choropleth": [
           {
            "colorbar": {
             "outlinewidth": 0,
             "ticks": ""
            },
            "type": "choropleth"
           }
          ],
          "contour": [
           {
            "colorbar": {
             "outlinewidth": 0,
             "ticks": ""
            },
            "colorscale": [
             [
              0,
              "#0d0887"
             ],
             [
              0.1111111111111111,
              "#46039f"
             ],
             [
              0.2222222222222222,
              "#7201a8"
             ],
             [
              0.3333333333333333,
              "#9c179e"
             ],
             [
              0.4444444444444444,
              "#bd3786"
             ],
             [
              0.5555555555555556,
              "#d8576b"
             ],
             [
              0.6666666666666666,
              "#ed7953"
             ],
             [
              0.7777777777777778,
              "#fb9f3a"
             ],
             [
              0.8888888888888888,
              "#fdca26"
             ],
             [
              1,
              "#f0f921"
             ]
            ],
            "type": "contour"
           }
          ],
          "contourcarpet": [
           {
            "colorbar": {
             "outlinewidth": 0,
             "ticks": ""
            },
            "type": "contourcarpet"
           }
          ],
          "heatmap": [
           {
            "colorbar": {
             "outlinewidth": 0,
             "ticks": ""
            },
            "colorscale": [
             [
              0,
              "#0d0887"
             ],
             [
              0.1111111111111111,
              "#46039f"
             ],
             [
              0.2222222222222222,
              "#7201a8"
             ],
             [
              0.3333333333333333,
              "#9c179e"
             ],
             [
              0.4444444444444444,
              "#bd3786"
             ],
             [
              0.5555555555555556,
              "#d8576b"
             ],
             [
              0.6666666666666666,
              "#ed7953"
             ],
             [
              0.7777777777777778,
              "#fb9f3a"
             ],
             [
              0.8888888888888888,
              "#fdca26"
             ],
             [
              1,
              "#f0f921"
             ]
            ],
            "type": "heatmap"
           }
          ],
          "heatmapgl": [
           {
            "colorbar": {
             "outlinewidth": 0,
             "ticks": ""
            },
            "colorscale": [
             [
              0,
              "#0d0887"
             ],
             [
              0.1111111111111111,
              "#46039f"
             ],
             [
              0.2222222222222222,
              "#7201a8"
             ],
             [
              0.3333333333333333,
              "#9c179e"
             ],
             [
              0.4444444444444444,
              "#bd3786"
             ],
             [
              0.5555555555555556,
              "#d8576b"
             ],
             [
              0.6666666666666666,
              "#ed7953"
             ],
             [
              0.7777777777777778,
              "#fb9f3a"
             ],
             [
              0.8888888888888888,
              "#fdca26"
             ],
             [
              1,
              "#f0f921"
             ]
            ],
            "type": "heatmapgl"
           }
          ],
          "histogram": [
           {
            "marker": {
             "pattern": {
              "fillmode": "overlay",
              "size": 10,
              "solidity": 0.2
             }
            },
            "type": "histogram"
           }
          ],
          "histogram2d": [
           {
            "colorbar": {
             "outlinewidth": 0,
             "ticks": ""
            },
            "colorscale": [
             [
              0,
              "#0d0887"
             ],
             [
              0.1111111111111111,
              "#46039f"
             ],
             [
              0.2222222222222222,
              "#7201a8"
             ],
             [
              0.3333333333333333,
              "#9c179e"
             ],
             [
              0.4444444444444444,
              "#bd3786"
             ],
             [
              0.5555555555555556,
              "#d8576b"
             ],
             [
              0.6666666666666666,
              "#ed7953"
             ],
             [
              0.7777777777777778,
              "#fb9f3a"
             ],
             [
              0.8888888888888888,
              "#fdca26"
             ],
             [
              1,
              "#f0f921"
             ]
            ],
            "type": "histogram2d"
           }
          ],
          "histogram2dcontour": [
           {
            "colorbar": {
             "outlinewidth": 0,
             "ticks": ""
            },
            "colorscale": [
             [
              0,
              "#0d0887"
             ],
             [
              0.1111111111111111,
              "#46039f"
             ],
             [
              0.2222222222222222,
              "#7201a8"
             ],
             [
              0.3333333333333333,
              "#9c179e"
             ],
             [
              0.4444444444444444,
              "#bd3786"
             ],
             [
              0.5555555555555556,
              "#d8576b"
             ],
             [
              0.6666666666666666,
              "#ed7953"
             ],
             [
              0.7777777777777778,
              "#fb9f3a"
             ],
             [
              0.8888888888888888,
              "#fdca26"
             ],
             [
              1,
              "#f0f921"
             ]
            ],
            "type": "histogram2dcontour"
           }
          ],
          "mesh3d": [
           {
            "colorbar": {
             "outlinewidth": 0,
             "ticks": ""
            },
            "type": "mesh3d"
           }
          ],
          "parcoords": [
           {
            "line": {
             "colorbar": {
              "outlinewidth": 0,
              "ticks": ""
             }
            },
            "type": "parcoords"
           }
          ],
          "pie": [
           {
            "automargin": true,
            "type": "pie"
           }
          ],
          "scatter": [
           {
            "fillpattern": {
             "fillmode": "overlay",
             "size": 10,
             "solidity": 0.2
            },
            "type": "scatter"
           }
          ],
          "scatter3d": [
           {
            "line": {
             "colorbar": {
              "outlinewidth": 0,
              "ticks": ""
             }
            },
            "marker": {
             "colorbar": {
              "outlinewidth": 0,
              "ticks": ""
             }
            },
            "type": "scatter3d"
           }
          ],
          "scattercarpet": [
           {
            "marker": {
             "colorbar": {
              "outlinewidth": 0,
              "ticks": ""
             }
            },
            "type": "scattercarpet"
           }
          ],
          "scattergeo": [
           {
            "marker": {
             "colorbar": {
              "outlinewidth": 0,
              "ticks": ""
             }
            },
            "type": "scattergeo"
           }
          ],
          "scattergl": [
           {
            "marker": {
             "colorbar": {
              "outlinewidth": 0,
              "ticks": ""
             }
            },
            "type": "scattergl"
           }
          ],
          "scattermapbox": [
           {
            "marker": {
             "colorbar": {
              "outlinewidth": 0,
              "ticks": ""
             }
            },
            "type": "scattermapbox"
           }
          ],
          "scatterpolar": [
           {
            "marker": {
             "colorbar": {
              "outlinewidth": 0,
              "ticks": ""
             }
            },
            "type": "scatterpolar"
           }
          ],
          "scatterpolargl": [
           {
            "marker": {
             "colorbar": {
              "outlinewidth": 0,
              "ticks": ""
             }
            },
            "type": "scatterpolargl"
           }
          ],
          "scatterternary": [
           {
            "marker": {
             "colorbar": {
              "outlinewidth": 0,
              "ticks": ""
             }
            },
            "type": "scatterternary"
           }
          ],
          "surface": [
           {
            "colorbar": {
             "outlinewidth": 0,
             "ticks": ""
            },
            "colorscale": [
             [
              0,
              "#0d0887"
             ],
             [
              0.1111111111111111,
              "#46039f"
             ],
             [
              0.2222222222222222,
              "#7201a8"
             ],
             [
              0.3333333333333333,
              "#9c179e"
             ],
             [
              0.4444444444444444,
              "#bd3786"
             ],
             [
              0.5555555555555556,
              "#d8576b"
             ],
             [
              0.6666666666666666,
              "#ed7953"
             ],
             [
              0.7777777777777778,
              "#fb9f3a"
             ],
             [
              0.8888888888888888,
              "#fdca26"
             ],
             [
              1,
              "#f0f921"
             ]
            ],
            "type": "surface"
           }
          ],
          "table": [
           {
            "cells": {
             "fill": {
              "color": "#EBF0F8"
             },
             "line": {
              "color": "white"
             }
            },
            "header": {
             "fill": {
              "color": "#C8D4E3"
             },
             "line": {
              "color": "white"
             }
            },
            "type": "table"
           }
          ]
         },
         "layout": {
          "annotationdefaults": {
           "arrowcolor": "#2a3f5f",
           "arrowhead": 0,
           "arrowwidth": 1
          },
          "autotypenumbers": "strict",
          "coloraxis": {
           "colorbar": {
            "outlinewidth": 0,
            "ticks": ""
           }
          },
          "colorscale": {
           "diverging": [
            [
             0,
             "#8e0152"
            ],
            [
             0.1,
             "#c51b7d"
            ],
            [
             0.2,
             "#de77ae"
            ],
            [
             0.3,
             "#f1b6da"
            ],
            [
             0.4,
             "#fde0ef"
            ],
            [
             0.5,
             "#f7f7f7"
            ],
            [
             0.6,
             "#e6f5d0"
            ],
            [
             0.7,
             "#b8e186"
            ],
            [
             0.8,
             "#7fbc41"
            ],
            [
             0.9,
             "#4d9221"
            ],
            [
             1,
             "#276419"
            ]
           ],
           "sequential": [
            [
             0,
             "#0d0887"
            ],
            [
             0.1111111111111111,
             "#46039f"
            ],
            [
             0.2222222222222222,
             "#7201a8"
            ],
            [
             0.3333333333333333,
             "#9c179e"
            ],
            [
             0.4444444444444444,
             "#bd3786"
            ],
            [
             0.5555555555555556,
             "#d8576b"
            ],
            [
             0.6666666666666666,
             "#ed7953"
            ],
            [
             0.7777777777777778,
             "#fb9f3a"
            ],
            [
             0.8888888888888888,
             "#fdca26"
            ],
            [
             1,
             "#f0f921"
            ]
           ],
           "sequentialminus": [
            [
             0,
             "#0d0887"
            ],
            [
             0.1111111111111111,
             "#46039f"
            ],
            [
             0.2222222222222222,
             "#7201a8"
            ],
            [
             0.3333333333333333,
             "#9c179e"
            ],
            [
             0.4444444444444444,
             "#bd3786"
            ],
            [
             0.5555555555555556,
             "#d8576b"
            ],
            [
             0.6666666666666666,
             "#ed7953"
            ],
            [
             0.7777777777777778,
             "#fb9f3a"
            ],
            [
             0.8888888888888888,
             "#fdca26"
            ],
            [
             1,
             "#f0f921"
            ]
           ]
          },
          "colorway": [
           "#636efa",
           "#EF553B",
           "#00cc96",
           "#ab63fa",
           "#FFA15A",
           "#19d3f3",
           "#FF6692",
           "#B6E880",
           "#FF97FF",
           "#FECB52"
          ],
          "font": {
           "color": "#2a3f5f"
          },
          "geo": {
           "bgcolor": "white",
           "lakecolor": "white",
           "landcolor": "#E5ECF6",
           "showlakes": true,
           "showland": true,
           "subunitcolor": "white"
          },
          "hoverlabel": {
           "align": "left"
          },
          "hovermode": "closest",
          "mapbox": {
           "style": "light"
          },
          "paper_bgcolor": "white",
          "plot_bgcolor": "#E5ECF6",
          "polar": {
           "angularaxis": {
            "gridcolor": "white",
            "linecolor": "white",
            "ticks": ""
           },
           "bgcolor": "#E5ECF6",
           "radialaxis": {
            "gridcolor": "white",
            "linecolor": "white",
            "ticks": ""
           }
          },
          "scene": {
           "xaxis": {
            "backgroundcolor": "#E5ECF6",
            "gridcolor": "white",
            "gridwidth": 2,
            "linecolor": "white",
            "showbackground": true,
            "ticks": "",
            "zerolinecolor": "white"
           },
           "yaxis": {
            "backgroundcolor": "#E5ECF6",
            "gridcolor": "white",
            "gridwidth": 2,
            "linecolor": "white",
            "showbackground": true,
            "ticks": "",
            "zerolinecolor": "white"
           },
           "zaxis": {
            "backgroundcolor": "#E5ECF6",
            "gridcolor": "white",
            "gridwidth": 2,
            "linecolor": "white",
            "showbackground": true,
            "ticks": "",
            "zerolinecolor": "white"
           }
          },
          "shapedefaults": {
           "line": {
            "color": "#2a3f5f"
           }
          },
          "ternary": {
           "aaxis": {
            "gridcolor": "white",
            "linecolor": "white",
            "ticks": ""
           },
           "baxis": {
            "gridcolor": "white",
            "linecolor": "white",
            "ticks": ""
           },
           "bgcolor": "#E5ECF6",
           "caxis": {
            "gridcolor": "white",
            "linecolor": "white",
            "ticks": ""
           }
          },
          "title": {
           "x": 0.05
          },
          "xaxis": {
           "automargin": true,
           "gridcolor": "white",
           "linecolor": "white",
           "ticks": "",
           "title": {
            "standoff": 15
           },
           "zerolinecolor": "white",
           "zerolinewidth": 2
          },
          "yaxis": {
           "automargin": true,
           "gridcolor": "white",
           "linecolor": "white",
           "ticks": "",
           "title": {
            "standoff": 15
           },
           "zerolinecolor": "white",
           "zerolinewidth": 2
          }
         }
        },
        "title": {
         "text": "1992"
        }
       }
      }
     },
     "metadata": {},
     "output_type": "display_data"
    },
    {
     "name": "stdout",
     "output_type": "stream",
     "text": [
      "\n",
      "\n",
      "\n",
      "\n",
      "\n",
      "                                                   1996\n"
     ]
    },
    {
     "data": {
      "application/vnd.plotly.v1+json": {
       "config": {
        "plotlyServerURL": "https://plot.ly"
       },
       "data": [
        {
         "coloraxis": "coloraxis",
         "customdata": [
          [
           "ALABAMA",
           1996,
           "Dole",
           "R",
           "Clinton B.",
           "D",
           0.5012184320516389,
           0.4315608769582409,
           0.06965755509339794
          ],
          [
           "ALASKA",
           1996,
           "Dole",
           "R",
           "Clinton B.",
           "D",
           0.5080125817399221,
           0.33267113649532326,
           0.17534144524459888
          ],
          [
           "ARIZONA",
           1996,
           "Clinton B.",
           "D",
           "Dole",
           "R",
           0.4651706594607681,
           0.4429441649666585,
           0.022226494494109572
          ],
          [
           "ARKANSAS",
           1996,
           "Clinton B.",
           "D",
           "Dole",
           "R",
           0.5373644915194817,
           0.36800857664357395,
           0.1693559148759078
          ],
          [
           "CALIFORNIA",
           1996,
           "Clinton B.",
           "D",
           "Dole",
           "R",
           0.5109886561852729,
           0.3820942008004616,
           0.1288944553848113
          ],
          [
           "COLORADO",
           1996,
           "Dole",
           "R",
           "Clinton B.",
           "D",
           0.457964575409313,
           0.44426498409348764,
           0.013699591315825377
          ],
          [
           "CONNECTICUT",
           1996,
           "Clinton B.",
           "D",
           "Dole",
           "R",
           0.5283158147196567,
           0.34690804487101234,
           0.18140776984864437
          ],
          [
           "DELAWARE",
           1996,
           "Clinton B.",
           "D",
           "Dole",
           "R",
           0.518278497839814,
           0.3657988995975038,
           0.15247959824231017
          ],
          [
           "DISTRICT OF COLUMBIA",
           1996,
           "Clinton B.",
           "D",
           "Dole",
           "R",
           0.8519001109160806,
           0.09335795742114728,
           0.7585421534949334
          ],
          [
           "FLORIDA",
           1996,
           "Clinton B.",
           "D",
           "Dole",
           "R",
           0.4802557119781926,
           0.42324548749668595,
           0.057010224481506666
          ],
          [
           "GEORGIA",
           1996,
           "Dole",
           "R",
           "Clinton B.",
           "D",
           0.4701568011469838,
           0.4584146584952188,
           0.011742142651765042
          ],
          [
           "HAWAII",
           1996,
           "Clinton B.",
           "D",
           "Dole",
           "R",
           0.5692880151060757,
           0.3164028657114295,
           0.25288514939464624
          ],
          [
           "IDAHO",
           1996,
           "Dole",
           "R",
           "Clinton B.",
           "D",
           0.521841081448249,
           0.3364638985094903,
           0.1853771829387587
          ],
          [
           "ILLINOIS",
           1996,
           "Clinton B.",
           "D",
           "Dole",
           "R",
           0.5431527783028726,
           0.3680995298269166,
           0.17505324847595594
          ],
          [
           "INDIANA",
           1996,
           "Dole",
           "R",
           "Clinton B.",
           "D",
           0.4714238015651173,
           0.41557137645749265,
           0.05585242510762467
          ],
          [
           "IOWA",
           1996,
           "Clinton B.",
           "D",
           "Dole",
           "R",
           0.5026096469015254,
           0.3992010210076373,
           0.1034086258938881
          ],
          [
           "KANSAS",
           1996,
           "Dole",
           "R",
           "Clinton B.",
           "D",
           0.542907009215303,
           0.3608479940426324,
           0.1820590151726706
          ],
          [
           "KENTUCKY",
           1996,
           "Clinton B.",
           "D",
           "Dole",
           "R",
           0.4584217848532593,
           0.4488222146052302,
           0.009599570248029099
          ],
          [
           "LOUISIANA",
           1996,
           "Clinton B.",
           "D",
           "Dole",
           "R",
           0.5200999574541791,
           0.3994407943231879,
           0.12065916313099123
          ],
          [
           "MAINE",
           1996,
           "Clinton B.",
           "D",
           "Dole",
           "R",
           0.5162395588689167,
           0.3076067384390416,
           0.20863282042987508
          ],
          [
           "MARYLAND",
           1996,
           "Clinton B.",
           "D",
           "Dole",
           "R",
           0.5425477435186173,
           0.38269497492798465,
           0.1598527685906327
          ],
          [
           "MASSACHUSETTS",
           1996,
           "Clinton B.",
           "D",
           "Dole",
           "R",
           0.614720987115381,
           0.2808799202334166,
           0.3338410668819644
          ],
          [
           "MICHIGAN",
           1996,
           "Clinton B.",
           "D",
           "Dole",
           "R",
           0.5169482057469723,
           0.3848459433533809,
           0.1321022623935914
          ],
          [
           "MINNESOTA",
           1996,
           "Clinton B.",
           "D",
           "Dole",
           "R",
           0.5110075658200806,
           0.3495542971194422,
           0.16145326870063836
          ],
          [
           "MISSISSIPPI",
           1996,
           "Dole",
           "R",
           "Clinton B.",
           "D",
           0.4920675231049262,
           0.4408110022072882,
           0.05125652089763799
          ],
          [
           "MISSOURI",
           1996,
           "Clinton B.",
           "D",
           "Dole",
           "R",
           0.4753957827961623,
           0.41241389856190613,
           0.06298188423425616
          ],
          [
           "MONTANA",
           1996,
           "Dole",
           "R",
           "Clinton B.",
           "D",
           0.44131540742305625,
           0.41250064483164367,
           0.02881476259141258
          ],
          [
           "NEBRASKA",
           1996,
           "Dole",
           "R",
           "Clinton B.",
           "D",
           0.5365499730593506,
           0.34950658016134867,
           0.18704339289800193
          ],
          [
           "NEVADA",
           1996,
           "Clinton B.",
           "D",
           "Dole",
           "R",
           0.43933496884416484,
           0.4291471292046377,
           0.01018783963952713
          ],
          [
           "NEW HAMPSHIRE",
           1996,
           "Clinton B.",
           "D",
           "Dole",
           "R",
           0.4957057734944029,
           0.395664895277257,
           0.10004087821714591
          ],
          [
           "NEW JERSEY",
           1996,
           "Clinton B.",
           "D",
           "Dole",
           "R",
           0.5372029286118354,
           0.3586310820388444,
           0.17857184657299097
          ],
          [
           "NEW MEXICO",
           1996,
           "Clinton B.",
           "D",
           "Dole",
           "R",
           0.4918320223567367,
           0.4185611986893831,
           0.0732708236673536
          ],
          [
           "NEW YORK",
           1996,
           "Clinton B.",
           "D",
           "Dole",
           "R",
           0.5667893903041855,
           0.27002207907311687,
           0.29676731123106864
          ],
          [
           "NORTH CAROLINA",
           1996,
           "Dole",
           "R",
           "Clinton B.",
           "D",
           0.4872941366328975,
           0.4403553213740164,
           0.046938815258881106
          ],
          [
           "NORTH DAKOTA",
           1996,
           "Dole",
           "R",
           "Clinton B.",
           "D",
           0.46938752528987165,
           0.4012784757386144,
           0.06810904955125724
          ],
          [
           "OHIO",
           1996,
           "Clinton B.",
           "D",
           "Dole",
           "R",
           0.4737574744720069,
           0.4101687222705193,
           0.06358875220148758
          ],
          [
           "OKLAHOMA",
           1996,
           "Dole",
           "R",
           "Clinton B.",
           "D",
           0.48256296236139,
           0.40449137450247075,
           0.07807158785891927
          ],
          [
           "OREGON",
           1996,
           "Clinton B.",
           "D",
           "Dole",
           "R",
           0.4715197131575891,
           0.3905992335384973,
           0.08092047961909182
          ],
          [
           "PENNSYLVANIA",
           1996,
           "Clinton B.",
           "D",
           "Dole",
           "R",
           0.492261247677619,
           0.40014355830428805,
           0.09211768937333092
          ],
          [
           "RHODE ISLAND",
           1996,
           "Clinton B.",
           "D",
           "Dole",
           "R",
           0.5971858848370392,
           0.26824805828103737,
           0.3289378265560018
          ],
          [
           "SOUTH CAROLINA",
           1996,
           "Dole",
           "R",
           "Clinton B.",
           "D",
           0.498476762807973,
           0.44006252923450373,
           0.058414233573469254
          ],
          [
           "SOUTH DAKOTA",
           1996,
           "Dole",
           "R",
           "Clinton B.",
           "D",
           0.46488855125900946,
           0.43027119502448846,
           0.034617356234521
          ],
          [
           "TENNESSEE",
           1996,
           "Clinton B.",
           "D",
           "Dole",
           "R",
           0.4799871179264085,
           0.4559039757563599,
           0.024083142170048644
          ],
          [
           "TEXAS",
           1996,
           "Dole",
           "R",
           "Clinton B.",
           "D",
           0.48758741645050896,
           0.43831771937065145,
           0.04926969707985751
          ],
          [
           "UTAH",
           1996,
           "Dole",
           "R",
           "Clinton B.",
           "D",
           0.54371278895601,
           0.3329677643251721,
           0.21074502463083794
          ],
          [
           "VERMONT",
           1996,
           "Clinton B.",
           "D",
           "Dole",
           "R",
           0.5335443356329489,
           0.31090079667555304,
           0.22264353895739586
          ],
          [
           "VIRGINIA",
           1996,
           "Dole",
           "R",
           "Clinton B.",
           "D",
           0.471046187230049,
           0.45147771163457395,
           0.019568475595475032
          ],
          [
           "WASHINGTON",
           1996,
           "Clinton B.",
           "D",
           "Dole",
           "R",
           0.49840472048333573,
           0.3730136651408243,
           0.12539105534251144
          ],
          [
           "WEST VIRGINIA",
           1996,
           "Clinton B.",
           "D",
           "Dole",
           "R",
           0.515055958042859,
           0.3675743449303097,
           0.14748161311254926
          ],
          [
           "WISCONSIN",
           1996,
           "Clinton B.",
           "D",
           "Dole",
           "R",
           0.48810952162606797,
           0.3847741225743556,
           0.10333539905171235
          ],
          [
           "WYOMING",
           1996,
           "Dole",
           "R",
           "Clinton B.",
           "D",
           0.4981211980848037,
           0.3683586124752447,
           0.129762585609559
          ]
         ],
         "geo": "geo",
         "geojson": "https://raw.githubusercontent.com/plotly/datasets/master/geojson-counties-fips.json",
         "hovertemplate": "%{customdata[0]}: %{customdata[1]}<br>%{customdata[2]}-%{customdata[3]} def. %{customdata[4]}-%{customdata[5]}<br>%{customdata[6]:.1%} to %{customdata[7]:.1%}<br>Margin: %{customdata[8]:.1%}<br><extra></extra>",
         "locationmode": "USA-states",
         "locations": [
          "AL",
          "AK",
          "AZ",
          "AR",
          "CA",
          "CO",
          "CT",
          "DE",
          "DC",
          "FL",
          "GA",
          "HI",
          "ID",
          "IL",
          "IN",
          "IA",
          "KS",
          "KY",
          "LA",
          "ME",
          "MD",
          "MA",
          "MI",
          "MN",
          "MS",
          "MO",
          "MT",
          "NE",
          "NV",
          "NH",
          "NJ",
          "NM",
          "NY",
          "NC",
          "ND",
          "OH",
          "OK",
          "OR",
          "PA",
          "RI",
          "SC",
          "SD",
          "TN",
          "TX",
          "UT",
          "VT",
          "VA",
          "WA",
          "WV",
          "WI",
          "WY"
         ],
         "name": "",
         "type": "choropleth",
         "z": [
          -0.06965755509339794,
          -0.17534144524459888,
          0.022226494494109572,
          0.1693559148759078,
          0.1288944553848113,
          -0.013699591315825377,
          0.18140776984864437,
          0.15247959824231017,
          0.7585421534949334,
          0.057010224481506666,
          -0.011742142651765042,
          0.25288514939464624,
          -0.1853771829387587,
          0.17505324847595594,
          -0.05585242510762467,
          0.1034086258938881,
          -0.1820590151726706,
          0.009599570248029099,
          0.12065916313099123,
          0.20863282042987508,
          0.1598527685906327,
          0.3338410668819644,
          0.1321022623935914,
          0.16145326870063836,
          -0.05125652089763799,
          0.06298188423425616,
          -0.02881476259141258,
          -0.18704339289800193,
          0.01018783963952713,
          0.10004087821714591,
          0.17857184657299097,
          0.0732708236673536,
          0.29676731123106864,
          -0.046938815258881106,
          -0.06810904955125724,
          0.06358875220148758,
          -0.07807158785891927,
          0.08092047961909182,
          0.09211768937333092,
          0.3289378265560018,
          -0.058414233573469254,
          -0.034617356234521,
          0.024083142170048644,
          -0.04926969707985751,
          -0.21074502463083794,
          0.22264353895739586,
          -0.019568475595475032,
          0.12539105534251144,
          0.14748161311254926,
          0.10333539905171235,
          -0.129762585609559
         ]
        }
       ],
       "layout": {
        "coloraxis": {
         "cmax": 0.35,
         "cmid": 0,
         "cmin": -0.35,
         "colorbar": {
          "title": {
           "text": "DIFF_PCT"
          }
         },
         "colorscale": [
          [
           0,
           "rgb(103,0,31)"
          ],
          [
           0.1,
           "rgb(178,24,43)"
          ],
          [
           0.2,
           "rgb(214,96,77)"
          ],
          [
           0.3,
           "rgb(244,165,130)"
          ],
          [
           0.4,
           "rgb(253,219,199)"
          ],
          [
           0.5,
           "rgb(247,247,247)"
          ],
          [
           0.6,
           "rgb(209,229,240)"
          ],
          [
           0.7,
           "rgb(146,197,222)"
          ],
          [
           0.8,
           "rgb(67,147,195)"
          ],
          [
           0.9,
           "rgb(33,102,172)"
          ],
          [
           1,
           "rgb(5,48,97)"
          ]
         ]
        },
        "geo": {
         "center": {},
         "domain": {
          "x": [
           0,
           1
          ],
          "y": [
           0,
           1
          ]
         },
         "scope": "usa"
        },
        "legend": {
         "tracegroupgap": 0
        },
        "margin": {
         "b": 0,
         "l": 0,
         "r": 0,
         "t": 0
        },
        "template": {
         "data": {
          "bar": [
           {
            "error_x": {
             "color": "#2a3f5f"
            },
            "error_y": {
             "color": "#2a3f5f"
            },
            "marker": {
             "line": {
              "color": "#E5ECF6",
              "width": 0.5
             },
             "pattern": {
              "fillmode": "overlay",
              "size": 10,
              "solidity": 0.2
             }
            },
            "type": "bar"
           }
          ],
          "barpolar": [
           {
            "marker": {
             "line": {
              "color": "#E5ECF6",
              "width": 0.5
             },
             "pattern": {
              "fillmode": "overlay",
              "size": 10,
              "solidity": 0.2
             }
            },
            "type": "barpolar"
           }
          ],
          "carpet": [
           {
            "aaxis": {
             "endlinecolor": "#2a3f5f",
             "gridcolor": "white",
             "linecolor": "white",
             "minorgridcolor": "white",
             "startlinecolor": "#2a3f5f"
            },
            "baxis": {
             "endlinecolor": "#2a3f5f",
             "gridcolor": "white",
             "linecolor": "white",
             "minorgridcolor": "white",
             "startlinecolor": "#2a3f5f"
            },
            "type": "carpet"
           }
          ],
          "choropleth": [
           {
            "colorbar": {
             "outlinewidth": 0,
             "ticks": ""
            },
            "type": "choropleth"
           }
          ],
          "contour": [
           {
            "colorbar": {
             "outlinewidth": 0,
             "ticks": ""
            },
            "colorscale": [
             [
              0,
              "#0d0887"
             ],
             [
              0.1111111111111111,
              "#46039f"
             ],
             [
              0.2222222222222222,
              "#7201a8"
             ],
             [
              0.3333333333333333,
              "#9c179e"
             ],
             [
              0.4444444444444444,
              "#bd3786"
             ],
             [
              0.5555555555555556,
              "#d8576b"
             ],
             [
              0.6666666666666666,
              "#ed7953"
             ],
             [
              0.7777777777777778,
              "#fb9f3a"
             ],
             [
              0.8888888888888888,
              "#fdca26"
             ],
             [
              1,
              "#f0f921"
             ]
            ],
            "type": "contour"
           }
          ],
          "contourcarpet": [
           {
            "colorbar": {
             "outlinewidth": 0,
             "ticks": ""
            },
            "type": "contourcarpet"
           }
          ],
          "heatmap": [
           {
            "colorbar": {
             "outlinewidth": 0,
             "ticks": ""
            },
            "colorscale": [
             [
              0,
              "#0d0887"
             ],
             [
              0.1111111111111111,
              "#46039f"
             ],
             [
              0.2222222222222222,
              "#7201a8"
             ],
             [
              0.3333333333333333,
              "#9c179e"
             ],
             [
              0.4444444444444444,
              "#bd3786"
             ],
             [
              0.5555555555555556,
              "#d8576b"
             ],
             [
              0.6666666666666666,
              "#ed7953"
             ],
             [
              0.7777777777777778,
              "#fb9f3a"
             ],
             [
              0.8888888888888888,
              "#fdca26"
             ],
             [
              1,
              "#f0f921"
             ]
            ],
            "type": "heatmap"
           }
          ],
          "heatmapgl": [
           {
            "colorbar": {
             "outlinewidth": 0,
             "ticks": ""
            },
            "colorscale": [
             [
              0,
              "#0d0887"
             ],
             [
              0.1111111111111111,
              "#46039f"
             ],
             [
              0.2222222222222222,
              "#7201a8"
             ],
             [
              0.3333333333333333,
              "#9c179e"
             ],
             [
              0.4444444444444444,
              "#bd3786"
             ],
             [
              0.5555555555555556,
              "#d8576b"
             ],
             [
              0.6666666666666666,
              "#ed7953"
             ],
             [
              0.7777777777777778,
              "#fb9f3a"
             ],
             [
              0.8888888888888888,
              "#fdca26"
             ],
             [
              1,
              "#f0f921"
             ]
            ],
            "type": "heatmapgl"
           }
          ],
          "histogram": [
           {
            "marker": {
             "pattern": {
              "fillmode": "overlay",
              "size": 10,
              "solidity": 0.2
             }
            },
            "type": "histogram"
           }
          ],
          "histogram2d": [
           {
            "colorbar": {
             "outlinewidth": 0,
             "ticks": ""
            },
            "colorscale": [
             [
              0,
              "#0d0887"
             ],
             [
              0.1111111111111111,
              "#46039f"
             ],
             [
              0.2222222222222222,
              "#7201a8"
             ],
             [
              0.3333333333333333,
              "#9c179e"
             ],
             [
              0.4444444444444444,
              "#bd3786"
             ],
             [
              0.5555555555555556,
              "#d8576b"
             ],
             [
              0.6666666666666666,
              "#ed7953"
             ],
             [
              0.7777777777777778,
              "#fb9f3a"
             ],
             [
              0.8888888888888888,
              "#fdca26"
             ],
             [
              1,
              "#f0f921"
             ]
            ],
            "type": "histogram2d"
           }
          ],
          "histogram2dcontour": [
           {
            "colorbar": {
             "outlinewidth": 0,
             "ticks": ""
            },
            "colorscale": [
             [
              0,
              "#0d0887"
             ],
             [
              0.1111111111111111,
              "#46039f"
             ],
             [
              0.2222222222222222,
              "#7201a8"
             ],
             [
              0.3333333333333333,
              "#9c179e"
             ],
             [
              0.4444444444444444,
              "#bd3786"
             ],
             [
              0.5555555555555556,
              "#d8576b"
             ],
             [
              0.6666666666666666,
              "#ed7953"
             ],
             [
              0.7777777777777778,
              "#fb9f3a"
             ],
             [
              0.8888888888888888,
              "#fdca26"
             ],
             [
              1,
              "#f0f921"
             ]
            ],
            "type": "histogram2dcontour"
           }
          ],
          "mesh3d": [
           {
            "colorbar": {
             "outlinewidth": 0,
             "ticks": ""
            },
            "type": "mesh3d"
           }
          ],
          "parcoords": [
           {
            "line": {
             "colorbar": {
              "outlinewidth": 0,
              "ticks": ""
             }
            },
            "type": "parcoords"
           }
          ],
          "pie": [
           {
            "automargin": true,
            "type": "pie"
           }
          ],
          "scatter": [
           {
            "fillpattern": {
             "fillmode": "overlay",
             "size": 10,
             "solidity": 0.2
            },
            "type": "scatter"
           }
          ],
          "scatter3d": [
           {
            "line": {
             "colorbar": {
              "outlinewidth": 0,
              "ticks": ""
             }
            },
            "marker": {
             "colorbar": {
              "outlinewidth": 0,
              "ticks": ""
             }
            },
            "type": "scatter3d"
           }
          ],
          "scattercarpet": [
           {
            "marker": {
             "colorbar": {
              "outlinewidth": 0,
              "ticks": ""
             }
            },
            "type": "scattercarpet"
           }
          ],
          "scattergeo": [
           {
            "marker": {
             "colorbar": {
              "outlinewidth": 0,
              "ticks": ""
             }
            },
            "type": "scattergeo"
           }
          ],
          "scattergl": [
           {
            "marker": {
             "colorbar": {
              "outlinewidth": 0,
              "ticks": ""
             }
            },
            "type": "scattergl"
           }
          ],
          "scattermapbox": [
           {
            "marker": {
             "colorbar": {
              "outlinewidth": 0,
              "ticks": ""
             }
            },
            "type": "scattermapbox"
           }
          ],
          "scatterpolar": [
           {
            "marker": {
             "colorbar": {
              "outlinewidth": 0,
              "ticks": ""
             }
            },
            "type": "scatterpolar"
           }
          ],
          "scatterpolargl": [
           {
            "marker": {
             "colorbar": {
              "outlinewidth": 0,
              "ticks": ""
             }
            },
            "type": "scatterpolargl"
           }
          ],
          "scatterternary": [
           {
            "marker": {
             "colorbar": {
              "outlinewidth": 0,
              "ticks": ""
             }
            },
            "type": "scatterternary"
           }
          ],
          "surface": [
           {
            "colorbar": {
             "outlinewidth": 0,
             "ticks": ""
            },
            "colorscale": [
             [
              0,
              "#0d0887"
             ],
             [
              0.1111111111111111,
              "#46039f"
             ],
             [
              0.2222222222222222,
              "#7201a8"
             ],
             [
              0.3333333333333333,
              "#9c179e"
             ],
             [
              0.4444444444444444,
              "#bd3786"
             ],
             [
              0.5555555555555556,
              "#d8576b"
             ],
             [
              0.6666666666666666,
              "#ed7953"
             ],
             [
              0.7777777777777778,
              "#fb9f3a"
             ],
             [
              0.8888888888888888,
              "#fdca26"
             ],
             [
              1,
              "#f0f921"
             ]
            ],
            "type": "surface"
           }
          ],
          "table": [
           {
            "cells": {
             "fill": {
              "color": "#EBF0F8"
             },
             "line": {
              "color": "white"
             }
            },
            "header": {
             "fill": {
              "color": "#C8D4E3"
             },
             "line": {
              "color": "white"
             }
            },
            "type": "table"
           }
          ]
         },
         "layout": {
          "annotationdefaults": {
           "arrowcolor": "#2a3f5f",
           "arrowhead": 0,
           "arrowwidth": 1
          },
          "autotypenumbers": "strict",
          "coloraxis": {
           "colorbar": {
            "outlinewidth": 0,
            "ticks": ""
           }
          },
          "colorscale": {
           "diverging": [
            [
             0,
             "#8e0152"
            ],
            [
             0.1,
             "#c51b7d"
            ],
            [
             0.2,
             "#de77ae"
            ],
            [
             0.3,
             "#f1b6da"
            ],
            [
             0.4,
             "#fde0ef"
            ],
            [
             0.5,
             "#f7f7f7"
            ],
            [
             0.6,
             "#e6f5d0"
            ],
            [
             0.7,
             "#b8e186"
            ],
            [
             0.8,
             "#7fbc41"
            ],
            [
             0.9,
             "#4d9221"
            ],
            [
             1,
             "#276419"
            ]
           ],
           "sequential": [
            [
             0,
             "#0d0887"
            ],
            [
             0.1111111111111111,
             "#46039f"
            ],
            [
             0.2222222222222222,
             "#7201a8"
            ],
            [
             0.3333333333333333,
             "#9c179e"
            ],
            [
             0.4444444444444444,
             "#bd3786"
            ],
            [
             0.5555555555555556,
             "#d8576b"
            ],
            [
             0.6666666666666666,
             "#ed7953"
            ],
            [
             0.7777777777777778,
             "#fb9f3a"
            ],
            [
             0.8888888888888888,
             "#fdca26"
            ],
            [
             1,
             "#f0f921"
            ]
           ],
           "sequentialminus": [
            [
             0,
             "#0d0887"
            ],
            [
             0.1111111111111111,
             "#46039f"
            ],
            [
             0.2222222222222222,
             "#7201a8"
            ],
            [
             0.3333333333333333,
             "#9c179e"
            ],
            [
             0.4444444444444444,
             "#bd3786"
            ],
            [
             0.5555555555555556,
             "#d8576b"
            ],
            [
             0.6666666666666666,
             "#ed7953"
            ],
            [
             0.7777777777777778,
             "#fb9f3a"
            ],
            [
             0.8888888888888888,
             "#fdca26"
            ],
            [
             1,
             "#f0f921"
            ]
           ]
          },
          "colorway": [
           "#636efa",
           "#EF553B",
           "#00cc96",
           "#ab63fa",
           "#FFA15A",
           "#19d3f3",
           "#FF6692",
           "#B6E880",
           "#FF97FF",
           "#FECB52"
          ],
          "font": {
           "color": "#2a3f5f"
          },
          "geo": {
           "bgcolor": "white",
           "lakecolor": "white",
           "landcolor": "#E5ECF6",
           "showlakes": true,
           "showland": true,
           "subunitcolor": "white"
          },
          "hoverlabel": {
           "align": "left"
          },
          "hovermode": "closest",
          "mapbox": {
           "style": "light"
          },
          "paper_bgcolor": "white",
          "plot_bgcolor": "#E5ECF6",
          "polar": {
           "angularaxis": {
            "gridcolor": "white",
            "linecolor": "white",
            "ticks": ""
           },
           "bgcolor": "#E5ECF6",
           "radialaxis": {
            "gridcolor": "white",
            "linecolor": "white",
            "ticks": ""
           }
          },
          "scene": {
           "xaxis": {
            "backgroundcolor": "#E5ECF6",
            "gridcolor": "white",
            "gridwidth": 2,
            "linecolor": "white",
            "showbackground": true,
            "ticks": "",
            "zerolinecolor": "white"
           },
           "yaxis": {
            "backgroundcolor": "#E5ECF6",
            "gridcolor": "white",
            "gridwidth": 2,
            "linecolor": "white",
            "showbackground": true,
            "ticks": "",
            "zerolinecolor": "white"
           },
           "zaxis": {
            "backgroundcolor": "#E5ECF6",
            "gridcolor": "white",
            "gridwidth": 2,
            "linecolor": "white",
            "showbackground": true,
            "ticks": "",
            "zerolinecolor": "white"
           }
          },
          "shapedefaults": {
           "line": {
            "color": "#2a3f5f"
           }
          },
          "ternary": {
           "aaxis": {
            "gridcolor": "white",
            "linecolor": "white",
            "ticks": ""
           },
           "baxis": {
            "gridcolor": "white",
            "linecolor": "white",
            "ticks": ""
           },
           "bgcolor": "#E5ECF6",
           "caxis": {
            "gridcolor": "white",
            "linecolor": "white",
            "ticks": ""
           }
          },
          "title": {
           "x": 0.05
          },
          "xaxis": {
           "automargin": true,
           "gridcolor": "white",
           "linecolor": "white",
           "ticks": "",
           "title": {
            "standoff": 15
           },
           "zerolinecolor": "white",
           "zerolinewidth": 2
          },
          "yaxis": {
           "automargin": true,
           "gridcolor": "white",
           "linecolor": "white",
           "ticks": "",
           "title": {
            "standoff": 15
           },
           "zerolinecolor": "white",
           "zerolinewidth": 2
          }
         }
        },
        "title": {
         "text": "1996"
        }
       }
      }
     },
     "metadata": {},
     "output_type": "display_data"
    },
    {
     "name": "stdout",
     "output_type": "stream",
     "text": [
      "\n",
      "\n",
      "\n",
      "\n",
      "\n",
      "                                                   2000\n"
     ]
    },
    {
     "data": {
      "application/vnd.plotly.v1+json": {
       "config": {
        "plotlyServerURL": "https://plot.ly"
       },
       "data": [
        {
         "coloraxis": "coloraxis",
         "customdata": [
          [
           "ALABAMA",
           2000,
           "Bush Junior",
           "R",
           "Gore",
           "D",
           0.5648375535326765,
           0.4156650294789806,
           0.1491725240536959
          ],
          [
           "ALASKA",
           2000,
           "Bush Junior",
           "R",
           "Gore",
           "D",
           0.5862095531587057,
           0.27666339823504693,
           0.3095461549236588
          ],
          [
           "ARIZONA",
           2000,
           "Bush Junior",
           "R",
           "Gore",
           "D",
           0.5102113816043696,
           0.4473458501738885,
           0.06286553143048113
          ],
          [
           "ARKANSAS",
           2000,
           "Bush Junior",
           "R",
           "Gore",
           "D",
           0.5130719769663293,
           0.4586425626043496,
           0.05442941436197973
          ],
          [
           "CALIFORNIA",
           2000,
           "Gore",
           "D",
           "Bush Junior",
           "R",
           0.5344973682775446,
           0.41651496805255456,
           0.11798240022499001
          ],
          [
           "COLORADO",
           2000,
           "Bush Junior",
           "R",
           "Gore",
           "D",
           0.507502147736722,
           0.4239350901130605,
           0.08356705762366146
          ],
          [
           "CONNECTICUT",
           2000,
           "Gore",
           "D",
           "Bush Junior",
           "R",
           0.5590962813244035,
           0.384436032270773,
           0.17466024905363048
          ],
          [
           "DELAWARE",
           2000,
           "Gore",
           "D",
           "Bush Junior",
           "R",
           0.5497772716309091,
           0.4191628832866708,
           0.13061438834423827
          ],
          [
           "DISTRICT OF COLUMBIA",
           2000,
           "Gore",
           "D",
           "Bush Junior",
           "R",
           0.8515508137933767,
           0.08951727143946824,
           0.7620335423539085
          ],
          [
           "FLORIDA",
           2000,
           "Bush Junior",
           "R",
           "Gore",
           "D",
           0.4884682657204043,
           0.48837821204036147,
           0.0000900536800428342
          ],
          [
           "GEORGIA",
           2000,
           "Bush Junior",
           "R",
           "Gore",
           "D",
           0.5495956965137921,
           0.4321099965624139,
           0.11748569995137825
          ],
          [
           "HAWAII",
           2000,
           "Gore",
           "D",
           "Bush Junior",
           "R",
           0.5579166791230354,
           0.3746286869719066,
           0.18328799215112884
          ],
          [
           "IDAHO",
           2000,
           "Bush Junior",
           "R",
           "Gore",
           "D",
           0.6717043948047806,
           0.27638128843834414,
           0.39532310636643647
          ],
          [
           "ILLINOIS",
           2000,
           "Gore",
           "D",
           "Bush Junior",
           "R",
           0.545965212095549,
           0.42584879973210227,
           0.12011641236344678
          ],
          [
           "INDIANA",
           2000,
           "Bush Junior",
           "R",
           "Gore",
           "D",
           0.566468816015263,
           0.4101210293083897,
           0.15634778670687333
          ],
          [
           "IOWA",
           2000,
           "Gore",
           "D",
           "Bush Junior",
           "R",
           0.4719191557860848,
           0.4688563822317745,
           0.003062773554310283
          ],
          [
           "KANSAS",
           2000,
           "Bush Junior",
           "R",
           "Gore",
           "D",
           0.580416632469577,
           0.3723839226424526,
           0.20803270982712435
          ],
          [
           "KENTUCKY",
           2000,
           "Bush Junior",
           "R",
           "Gore",
           "D",
           0.565064833631888,
           0.4137818258591055,
           0.15128300777278247
          ],
          [
           "LOUISIANA",
           2000,
           "Bush Junior",
           "R",
           "Gore",
           "D",
           0.5255106317425365,
           0.44875332454339917,
           0.07675730719913737
          ],
          [
           "MAINE",
           2000,
           "Gore",
           "D",
           "Bush Junior",
           "R",
           0.4908601647394898,
           0.43971850994987854,
           0.051141654789611246
          ],
          [
           "MARYLAND",
           2000,
           "Gore",
           "D",
           "Bush Junior",
           "R",
           0.5648830838450493,
           0.40184780655062285,
           0.1630352772944264
          ],
          [
           "MASSACHUSETTS",
           2000,
           "Gore",
           "D",
           "Bush Junior",
           "R",
           0.5912612602067913,
           0.32132902993601964,
           0.2699322302707716
          ],
          [
           "MICHIGAN",
           2000,
           "Gore",
           "D",
           "Bush Junior",
           "R",
           0.5127979887069135,
           0.46146214732140645,
           0.051335841385507064
          ],
          [
           "MINNESOTA",
           2000,
           "Gore",
           "D",
           "Bush Junior",
           "R",
           0.479055720603522,
           0.4550235065209324,
           0.024032214082589598
          ],
          [
           "MISSISSIPPI",
           2000,
           "Bush Junior",
           "R",
           "Gore",
           "D",
           0.5761951509982056,
           0.40698100150475164,
           0.16921414949345398
          ],
          [
           "MISSOURI",
           2000,
           "Bush Junior",
           "R",
           "Gore",
           "D",
           0.5042281595937441,
           0.47084273348102373,
           0.033385426112720384
          ],
          [
           "MONTANA",
           2000,
           "Bush Junior",
           "R",
           "Gore",
           "D",
           0.584394602249225,
           0.3336512679264014,
           0.25074333432282364
          ],
          [
           "NEBRASKA",
           2000,
           "Bush Junior",
           "R",
           "Gore",
           "D",
           0.6224536203460738,
           0.33253039013283714,
           0.2899232302132366
          ],
          [
           "NEVADA",
           2000,
           "Bush Junior",
           "R",
           "Gore",
           "D",
           0.49485089247915254,
           0.4594126276200884,
           0.03543826485906415
          ],
          [
           "NEW HAMPSHIRE",
           2000,
           "Bush Junior",
           "R",
           "Gore",
           "D",
           0.4807030985044308,
           0.46803179160787306,
           0.012671306896557766
          ],
          [
           "NEW JERSEY",
           2000,
           "Gore",
           "D",
           "Bush Junior",
           "R",
           0.5612560891508792,
           0.40291243859079967,
           0.15834365056007954
          ],
          [
           "NEW MEXICO",
           2000,
           "Gore",
           "D",
           "Bush Junior",
           "R",
           0.47908554054844177,
           0.47847411899332615,
           0.000611421555115621
          ],
          [
           "NEW YORK",
           2000,
           "Gore",
           "D",
           "Bush Junior",
           "R",
           0.566392704823055,
           0.32449816564574513,
           0.2418945391773099
          ],
          [
           "NORTH CAROLINA",
           2000,
           "Bush Junior",
           "R",
           "Gore",
           "D",
           0.559577562873286,
           0.43145671168683253,
           0.12812085118645344
          ],
          [
           "NORTH DAKOTA",
           2000,
           "Bush Junior",
           "R",
           "Gore",
           "D",
           0.6065858126110124,
           0.3305533969804618,
           0.2760324156305506
          ],
          [
           "OHIO",
           2000,
           "Bush Junior",
           "R",
           "Gore",
           "D",
           0.4998647383516539,
           0.46440428090356484,
           0.03546045744808907
          ],
          [
           "OKLAHOMA",
           2000,
           "Bush Junior",
           "R",
           "Gore",
           "D",
           0.603078521084823,
           0.38426904569573395,
           0.21880947538908901
          ],
          [
           "OREGON",
           2000,
           "Gore",
           "D",
           "Bush Junior",
           "R",
           0.46959940024120733,
           0.46518921737996677,
           0.004410182861240564
          ],
          [
           "PENNSYLVANIA",
           2000,
           "Gore",
           "D",
           "Bush Junior",
           "R",
           0.5060817131276611,
           0.4643813292862545,
           0.041700383841406674
          ],
          [
           "RHODE ISLAND",
           2000,
           "Gore",
           "D",
           "Bush Junior",
           "R",
           0.6098770018967911,
           0.31911799213907194,
           0.2907590097577191
          ],
          [
           "SOUTH CAROLINA",
           2000,
           "Bush Junior",
           "R",
           "Gore",
           "D",
           0.5686038462261056,
           0.40901523373764903,
           0.15958861248845657
          ],
          [
           "SOUTH DAKOTA",
           2000,
           "Bush Junior",
           "R",
           "Gore",
           "D",
           0.6029677268401266,
           0.37564225390411327,
           0.2273254729360133
          ],
          [
           "TENNESSEE",
           2000,
           "Bush Junior",
           "R",
           "Gore",
           "D",
           0.5114915318076796,
           0.4728489471775341,
           0.03864258463014547
          ],
          [
           "TEXAS",
           2000,
           "Bush Junior",
           "R",
           "Gore",
           "D",
           0.5929859946810345,
           0.37981958091571044,
           0.21316641376532408
          ],
          [
           "UTAH",
           2000,
           "Bush Junior",
           "R",
           "Gore",
           "D",
           0.6683014295092857,
           0.26344722181136915,
           0.4048542076979166
          ],
          [
           "VERMONT",
           2000,
           "Gore",
           "D",
           "Bush Junior",
           "R",
           0.5063470921619528,
           0.4069716079753184,
           0.09937548418663444
          ],
          [
           "VIRGINIA",
           2000,
           "Bush Junior",
           "R",
           "Gore",
           "D",
           0.5247372918694905,
           0.4443561054475593,
           0.08038118642193115
          ],
          [
           "WASHINGTON",
           2000,
           "Gore",
           "D",
           "Bush Junior",
           "R",
           0.5015821531675426,
           0.44578647947502503,
           0.05579567369251759
          ],
          [
           "WEST VIRGINIA",
           2000,
           "Bush Junior",
           "R",
           "Gore",
           "D",
           0.5191521992705099,
           0.4559266436669526,
           0.0632255556035573
          ],
          [
           "WISCONSIN",
           2000,
           "Gore",
           "D",
           "Bush Junior",
           "R",
           0.47832819660687437,
           0.4761316351414431,
           0.0021965614654312904
          ],
          [
           "WYOMING",
           2000,
           "Bush Junior",
           "R",
           "Gore",
           "D",
           0.6922274313841086,
           0.282983820405566,
           0.40924361097854256
          ]
         ],
         "geo": "geo",
         "geojson": "https://raw.githubusercontent.com/plotly/datasets/master/geojson-counties-fips.json",
         "hovertemplate": "%{customdata[0]}: %{customdata[1]}<br>%{customdata[2]}-%{customdata[3]} def. %{customdata[4]}-%{customdata[5]}<br>%{customdata[6]:.1%} to %{customdata[7]:.1%}<br>Margin: %{customdata[8]:.1%}<br><extra></extra>",
         "locationmode": "USA-states",
         "locations": [
          "AL",
          "AK",
          "AZ",
          "AR",
          "CA",
          "CO",
          "CT",
          "DE",
          "DC",
          "FL",
          "GA",
          "HI",
          "ID",
          "IL",
          "IN",
          "IA",
          "KS",
          "KY",
          "LA",
          "ME",
          "MD",
          "MA",
          "MI",
          "MN",
          "MS",
          "MO",
          "MT",
          "NE",
          "NV",
          "NH",
          "NJ",
          "NM",
          "NY",
          "NC",
          "ND",
          "OH",
          "OK",
          "OR",
          "PA",
          "RI",
          "SC",
          "SD",
          "TN",
          "TX",
          "UT",
          "VT",
          "VA",
          "WA",
          "WV",
          "WI",
          "WY"
         ],
         "name": "",
         "type": "choropleth",
         "z": [
          -0.1491725240536959,
          -0.3095461549236588,
          -0.06286553143048113,
          -0.05442941436197973,
          0.11798240022499001,
          -0.08356705762366146,
          0.17466024905363048,
          0.13061438834423827,
          0.7620335423539085,
          -0.0000900536800428342,
          -0.11748569995137825,
          0.18328799215112884,
          -0.39532310636643647,
          0.12011641236344678,
          -0.15634778670687333,
          0.003062773554310283,
          -0.20803270982712435,
          -0.15128300777278247,
          -0.07675730719913737,
          0.051141654789611246,
          0.1630352772944264,
          0.2699322302707716,
          0.051335841385507064,
          0.024032214082589598,
          -0.16921414949345398,
          -0.033385426112720384,
          -0.25074333432282364,
          -0.2899232302132366,
          -0.03543826485906415,
          -0.012671306896557766,
          0.15834365056007954,
          0.000611421555115621,
          0.2418945391773099,
          -0.12812085118645344,
          -0.2760324156305506,
          -0.03546045744808907,
          -0.21880947538908901,
          0.004410182861240564,
          0.041700383841406674,
          0.2907590097577191,
          -0.15958861248845657,
          -0.2273254729360133,
          -0.03864258463014547,
          -0.21316641376532408,
          -0.4048542076979166,
          0.09937548418663444,
          -0.08038118642193115,
          0.05579567369251759,
          -0.0632255556035573,
          0.0021965614654312904,
          -0.40924361097854256
         ]
        }
       ],
       "layout": {
        "coloraxis": {
         "cmax": 0.35,
         "cmid": 0,
         "cmin": -0.35,
         "colorbar": {
          "title": {
           "text": "DIFF_PCT"
          }
         },
         "colorscale": [
          [
           0,
           "rgb(103,0,31)"
          ],
          [
           0.1,
           "rgb(178,24,43)"
          ],
          [
           0.2,
           "rgb(214,96,77)"
          ],
          [
           0.3,
           "rgb(244,165,130)"
          ],
          [
           0.4,
           "rgb(253,219,199)"
          ],
          [
           0.5,
           "rgb(247,247,247)"
          ],
          [
           0.6,
           "rgb(209,229,240)"
          ],
          [
           0.7,
           "rgb(146,197,222)"
          ],
          [
           0.8,
           "rgb(67,147,195)"
          ],
          [
           0.9,
           "rgb(33,102,172)"
          ],
          [
           1,
           "rgb(5,48,97)"
          ]
         ]
        },
        "geo": {
         "center": {},
         "domain": {
          "x": [
           0,
           1
          ],
          "y": [
           0,
           1
          ]
         },
         "scope": "usa"
        },
        "legend": {
         "tracegroupgap": 0
        },
        "margin": {
         "b": 0,
         "l": 0,
         "r": 0,
         "t": 0
        },
        "template": {
         "data": {
          "bar": [
           {
            "error_x": {
             "color": "#2a3f5f"
            },
            "error_y": {
             "color": "#2a3f5f"
            },
            "marker": {
             "line": {
              "color": "#E5ECF6",
              "width": 0.5
             },
             "pattern": {
              "fillmode": "overlay",
              "size": 10,
              "solidity": 0.2
             }
            },
            "type": "bar"
           }
          ],
          "barpolar": [
           {
            "marker": {
             "line": {
              "color": "#E5ECF6",
              "width": 0.5
             },
             "pattern": {
              "fillmode": "overlay",
              "size": 10,
              "solidity": 0.2
             }
            },
            "type": "barpolar"
           }
          ],
          "carpet": [
           {
            "aaxis": {
             "endlinecolor": "#2a3f5f",
             "gridcolor": "white",
             "linecolor": "white",
             "minorgridcolor": "white",
             "startlinecolor": "#2a3f5f"
            },
            "baxis": {
             "endlinecolor": "#2a3f5f",
             "gridcolor": "white",
             "linecolor": "white",
             "minorgridcolor": "white",
             "startlinecolor": "#2a3f5f"
            },
            "type": "carpet"
           }
          ],
          "choropleth": [
           {
            "colorbar": {
             "outlinewidth": 0,
             "ticks": ""
            },
            "type": "choropleth"
           }
          ],
          "contour": [
           {
            "colorbar": {
             "outlinewidth": 0,
             "ticks": ""
            },
            "colorscale": [
             [
              0,
              "#0d0887"
             ],
             [
              0.1111111111111111,
              "#46039f"
             ],
             [
              0.2222222222222222,
              "#7201a8"
             ],
             [
              0.3333333333333333,
              "#9c179e"
             ],
             [
              0.4444444444444444,
              "#bd3786"
             ],
             [
              0.5555555555555556,
              "#d8576b"
             ],
             [
              0.6666666666666666,
              "#ed7953"
             ],
             [
              0.7777777777777778,
              "#fb9f3a"
             ],
             [
              0.8888888888888888,
              "#fdca26"
             ],
             [
              1,
              "#f0f921"
             ]
            ],
            "type": "contour"
           }
          ],
          "contourcarpet": [
           {
            "colorbar": {
             "outlinewidth": 0,
             "ticks": ""
            },
            "type": "contourcarpet"
           }
          ],
          "heatmap": [
           {
            "colorbar": {
             "outlinewidth": 0,
             "ticks": ""
            },
            "colorscale": [
             [
              0,
              "#0d0887"
             ],
             [
              0.1111111111111111,
              "#46039f"
             ],
             [
              0.2222222222222222,
              "#7201a8"
             ],
             [
              0.3333333333333333,
              "#9c179e"
             ],
             [
              0.4444444444444444,
              "#bd3786"
             ],
             [
              0.5555555555555556,
              "#d8576b"
             ],
             [
              0.6666666666666666,
              "#ed7953"
             ],
             [
              0.7777777777777778,
              "#fb9f3a"
             ],
             [
              0.8888888888888888,
              "#fdca26"
             ],
             [
              1,
              "#f0f921"
             ]
            ],
            "type": "heatmap"
           }
          ],
          "heatmapgl": [
           {
            "colorbar": {
             "outlinewidth": 0,
             "ticks": ""
            },
            "colorscale": [
             [
              0,
              "#0d0887"
             ],
             [
              0.1111111111111111,
              "#46039f"
             ],
             [
              0.2222222222222222,
              "#7201a8"
             ],
             [
              0.3333333333333333,
              "#9c179e"
             ],
             [
              0.4444444444444444,
              "#bd3786"
             ],
             [
              0.5555555555555556,
              "#d8576b"
             ],
             [
              0.6666666666666666,
              "#ed7953"
             ],
             [
              0.7777777777777778,
              "#fb9f3a"
             ],
             [
              0.8888888888888888,
              "#fdca26"
             ],
             [
              1,
              "#f0f921"
             ]
            ],
            "type": "heatmapgl"
           }
          ],
          "histogram": [
           {
            "marker": {
             "pattern": {
              "fillmode": "overlay",
              "size": 10,
              "solidity": 0.2
             }
            },
            "type": "histogram"
           }
          ],
          "histogram2d": [
           {
            "colorbar": {
             "outlinewidth": 0,
             "ticks": ""
            },
            "colorscale": [
             [
              0,
              "#0d0887"
             ],
             [
              0.1111111111111111,
              "#46039f"
             ],
             [
              0.2222222222222222,
              "#7201a8"
             ],
             [
              0.3333333333333333,
              "#9c179e"
             ],
             [
              0.4444444444444444,
              "#bd3786"
             ],
             [
              0.5555555555555556,
              "#d8576b"
             ],
             [
              0.6666666666666666,
              "#ed7953"
             ],
             [
              0.7777777777777778,
              "#fb9f3a"
             ],
             [
              0.8888888888888888,
              "#fdca26"
             ],
             [
              1,
              "#f0f921"
             ]
            ],
            "type": "histogram2d"
           }
          ],
          "histogram2dcontour": [
           {
            "colorbar": {
             "outlinewidth": 0,
             "ticks": ""
            },
            "colorscale": [
             [
              0,
              "#0d0887"
             ],
             [
              0.1111111111111111,
              "#46039f"
             ],
             [
              0.2222222222222222,
              "#7201a8"
             ],
             [
              0.3333333333333333,
              "#9c179e"
             ],
             [
              0.4444444444444444,
              "#bd3786"
             ],
             [
              0.5555555555555556,
              "#d8576b"
             ],
             [
              0.6666666666666666,
              "#ed7953"
             ],
             [
              0.7777777777777778,
              "#fb9f3a"
             ],
             [
              0.8888888888888888,
              "#fdca26"
             ],
             [
              1,
              "#f0f921"
             ]
            ],
            "type": "histogram2dcontour"
           }
          ],
          "mesh3d": [
           {
            "colorbar": {
             "outlinewidth": 0,
             "ticks": ""
            },
            "type": "mesh3d"
           }
          ],
          "parcoords": [
           {
            "line": {
             "colorbar": {
              "outlinewidth": 0,
              "ticks": ""
             }
            },
            "type": "parcoords"
           }
          ],
          "pie": [
           {
            "automargin": true,
            "type": "pie"
           }
          ],
          "scatter": [
           {
            "fillpattern": {
             "fillmode": "overlay",
             "size": 10,
             "solidity": 0.2
            },
            "type": "scatter"
           }
          ],
          "scatter3d": [
           {
            "line": {
             "colorbar": {
              "outlinewidth": 0,
              "ticks": ""
             }
            },
            "marker": {
             "colorbar": {
              "outlinewidth": 0,
              "ticks": ""
             }
            },
            "type": "scatter3d"
           }
          ],
          "scattercarpet": [
           {
            "marker": {
             "colorbar": {
              "outlinewidth": 0,
              "ticks": ""
             }
            },
            "type": "scattercarpet"
           }
          ],
          "scattergeo": [
           {
            "marker": {
             "colorbar": {
              "outlinewidth": 0,
              "ticks": ""
             }
            },
            "type": "scattergeo"
           }
          ],
          "scattergl": [
           {
            "marker": {
             "colorbar": {
              "outlinewidth": 0,
              "ticks": ""
             }
            },
            "type": "scattergl"
           }
          ],
          "scattermapbox": [
           {
            "marker": {
             "colorbar": {
              "outlinewidth": 0,
              "ticks": ""
             }
            },
            "type": "scattermapbox"
           }
          ],
          "scatterpolar": [
           {
            "marker": {
             "colorbar": {
              "outlinewidth": 0,
              "ticks": ""
             }
            },
            "type": "scatterpolar"
           }
          ],
          "scatterpolargl": [
           {
            "marker": {
             "colorbar": {
              "outlinewidth": 0,
              "ticks": ""
             }
            },
            "type": "scatterpolargl"
           }
          ],
          "scatterternary": [
           {
            "marker": {
             "colorbar": {
              "outlinewidth": 0,
              "ticks": ""
             }
            },
            "type": "scatterternary"
           }
          ],
          "surface": [
           {
            "colorbar": {
             "outlinewidth": 0,
             "ticks": ""
            },
            "colorscale": [
             [
              0,
              "#0d0887"
             ],
             [
              0.1111111111111111,
              "#46039f"
             ],
             [
              0.2222222222222222,
              "#7201a8"
             ],
             [
              0.3333333333333333,
              "#9c179e"
             ],
             [
              0.4444444444444444,
              "#bd3786"
             ],
             [
              0.5555555555555556,
              "#d8576b"
             ],
             [
              0.6666666666666666,
              "#ed7953"
             ],
             [
              0.7777777777777778,
              "#fb9f3a"
             ],
             [
              0.8888888888888888,
              "#fdca26"
             ],
             [
              1,
              "#f0f921"
             ]
            ],
            "type": "surface"
           }
          ],
          "table": [
           {
            "cells": {
             "fill": {
              "color": "#EBF0F8"
             },
             "line": {
              "color": "white"
             }
            },
            "header": {
             "fill": {
              "color": "#C8D4E3"
             },
             "line": {
              "color": "white"
             }
            },
            "type": "table"
           }
          ]
         },
         "layout": {
          "annotationdefaults": {
           "arrowcolor": "#2a3f5f",
           "arrowhead": 0,
           "arrowwidth": 1
          },
          "autotypenumbers": "strict",
          "coloraxis": {
           "colorbar": {
            "outlinewidth": 0,
            "ticks": ""
           }
          },
          "colorscale": {
           "diverging": [
            [
             0,
             "#8e0152"
            ],
            [
             0.1,
             "#c51b7d"
            ],
            [
             0.2,
             "#de77ae"
            ],
            [
             0.3,
             "#f1b6da"
            ],
            [
             0.4,
             "#fde0ef"
            ],
            [
             0.5,
             "#f7f7f7"
            ],
            [
             0.6,
             "#e6f5d0"
            ],
            [
             0.7,
             "#b8e186"
            ],
            [
             0.8,
             "#7fbc41"
            ],
            [
             0.9,
             "#4d9221"
            ],
            [
             1,
             "#276419"
            ]
           ],
           "sequential": [
            [
             0,
             "#0d0887"
            ],
            [
             0.1111111111111111,
             "#46039f"
            ],
            [
             0.2222222222222222,
             "#7201a8"
            ],
            [
             0.3333333333333333,
             "#9c179e"
            ],
            [
             0.4444444444444444,
             "#bd3786"
            ],
            [
             0.5555555555555556,
             "#d8576b"
            ],
            [
             0.6666666666666666,
             "#ed7953"
            ],
            [
             0.7777777777777778,
             "#fb9f3a"
            ],
            [
             0.8888888888888888,
             "#fdca26"
            ],
            [
             1,
             "#f0f921"
            ]
           ],
           "sequentialminus": [
            [
             0,
             "#0d0887"
            ],
            [
             0.1111111111111111,
             "#46039f"
            ],
            [
             0.2222222222222222,
             "#7201a8"
            ],
            [
             0.3333333333333333,
             "#9c179e"
            ],
            [
             0.4444444444444444,
             "#bd3786"
            ],
            [
             0.5555555555555556,
             "#d8576b"
            ],
            [
             0.6666666666666666,
             "#ed7953"
            ],
            [
             0.7777777777777778,
             "#fb9f3a"
            ],
            [
             0.8888888888888888,
             "#fdca26"
            ],
            [
             1,
             "#f0f921"
            ]
           ]
          },
          "colorway": [
           "#636efa",
           "#EF553B",
           "#00cc96",
           "#ab63fa",
           "#FFA15A",
           "#19d3f3",
           "#FF6692",
           "#B6E880",
           "#FF97FF",
           "#FECB52"
          ],
          "font": {
           "color": "#2a3f5f"
          },
          "geo": {
           "bgcolor": "white",
           "lakecolor": "white",
           "landcolor": "#E5ECF6",
           "showlakes": true,
           "showland": true,
           "subunitcolor": "white"
          },
          "hoverlabel": {
           "align": "left"
          },
          "hovermode": "closest",
          "mapbox": {
           "style": "light"
          },
          "paper_bgcolor": "white",
          "plot_bgcolor": "#E5ECF6",
          "polar": {
           "angularaxis": {
            "gridcolor": "white",
            "linecolor": "white",
            "ticks": ""
           },
           "bgcolor": "#E5ECF6",
           "radialaxis": {
            "gridcolor": "white",
            "linecolor": "white",
            "ticks": ""
           }
          },
          "scene": {
           "xaxis": {
            "backgroundcolor": "#E5ECF6",
            "gridcolor": "white",
            "gridwidth": 2,
            "linecolor": "white",
            "showbackground": true,
            "ticks": "",
            "zerolinecolor": "white"
           },
           "yaxis": {
            "backgroundcolor": "#E5ECF6",
            "gridcolor": "white",
            "gridwidth": 2,
            "linecolor": "white",
            "showbackground": true,
            "ticks": "",
            "zerolinecolor": "white"
           },
           "zaxis": {
            "backgroundcolor": "#E5ECF6",
            "gridcolor": "white",
            "gridwidth": 2,
            "linecolor": "white",
            "showbackground": true,
            "ticks": "",
            "zerolinecolor": "white"
           }
          },
          "shapedefaults": {
           "line": {
            "color": "#2a3f5f"
           }
          },
          "ternary": {
           "aaxis": {
            "gridcolor": "white",
            "linecolor": "white",
            "ticks": ""
           },
           "baxis": {
            "gridcolor": "white",
            "linecolor": "white",
            "ticks": ""
           },
           "bgcolor": "#E5ECF6",
           "caxis": {
            "gridcolor": "white",
            "linecolor": "white",
            "ticks": ""
           }
          },
          "title": {
           "x": 0.05
          },
          "xaxis": {
           "automargin": true,
           "gridcolor": "white",
           "linecolor": "white",
           "ticks": "",
           "title": {
            "standoff": 15
           },
           "zerolinecolor": "white",
           "zerolinewidth": 2
          },
          "yaxis": {
           "automargin": true,
           "gridcolor": "white",
           "linecolor": "white",
           "ticks": "",
           "title": {
            "standoff": 15
           },
           "zerolinecolor": "white",
           "zerolinewidth": 2
          }
         }
        },
        "title": {
         "text": "2000"
        }
       }
      }
     },
     "metadata": {},
     "output_type": "display_data"
    },
    {
     "name": "stdout",
     "output_type": "stream",
     "text": [
      "\n",
      "\n",
      "\n",
      "\n",
      "\n",
      "                                                   2004\n"
     ]
    },
    {
     "data": {
      "application/vnd.plotly.v1+json": {
       "config": {
        "plotlyServerURL": "https://plot.ly"
       },
       "data": [
        {
         "coloraxis": "coloraxis",
         "customdata": [
          [
           "ALABAMA",
           2004,
           "Bush Junior",
           "R",
           "Kerry",
           "D",
           0.6246068975770077,
           0.36844402322377173,
           0.256162874353236
          ],
          [
           "ALASKA",
           2004,
           "Bush Junior",
           "R",
           "Kerry",
           "D",
           0.6106532991253942,
           0.35516861912104364,
           0.2554846800043506
          ],
          [
           "ARIZONA",
           2004,
           "Bush Junior",
           "R",
           "Kerry",
           "D",
           0.5486943408601376,
           0.44396832928795554,
           0.10472601157218203
          ],
          [
           "ARKANSAS",
           2004,
           "Bush Junior",
           "R",
           "Kerry",
           "D",
           0.5430595907843537,
           0.44547630445189085,
           0.09758328633246288
          ],
          [
           "CALIFORNIA",
           2004,
           "Kerry",
           "D",
           "Bush Junior",
           "R",
           0.5430555753467436,
           0.44357695977241773,
           0.09947861557432591
          ],
          [
           "COLORADO",
           2004,
           "Bush Junior",
           "R",
           "Kerry",
           "D",
           0.5171109535459211,
           0.47037842254288303,
           0.046732531003038036
          ],
          [
           "CONNECTICUT",
           2004,
           "Kerry",
           "D",
           "Bush Junior",
           "R",
           0.543137089719902,
           0.4394727791082799,
           0.10366431061162212
          ],
          [
           "DELAWARE",
           2004,
           "Kerry",
           "D",
           "Bush Junior",
           "R",
           0.5334683760228152,
           0.4575281857192356,
           0.07594019030357957
          ],
          [
           "DISTRICT OF COLUMBIA",
           2004,
           "Kerry",
           "D",
           "Bush Junior",
           "R",
           0.8918386895503239,
           0.09339766066454,
           0.7984410288857838
          ],
          [
           "FLORIDA",
           2004,
           "Bush Junior",
           "R",
           "Kerry",
           "D",
           0.5209751623233695,
           0.4709111002771423,
           0.05006406204622721
          ],
          [
           "GEORGIA",
           2004,
           "Bush Junior",
           "R",
           "Kerry",
           "D",
           0.5797475676698846,
           0.41374946053378764,
           0.16599810713609692
          ],
          [
           "HAWAII",
           2004,
           "Kerry",
           "D",
           "Bush Junior",
           "R",
           0.5400955215809311,
           0.45264595711551864,
           0.08744956446541247
          ],
          [
           "IDAHO",
           2004,
           "Bush Junior",
           "R",
           "Kerry",
           "D",
           0.6839094482399026,
           0.3026491704212736,
           0.38126027781862903
          ],
          [
           "ILLINOIS",
           2004,
           "Kerry",
           "D",
           "Bush Junior",
           "R",
           0.5482316020902781,
           0.4447862682634849,
           0.10344533382679322
          ],
          [
           "INDIANA",
           2004,
           "Bush Junior",
           "R",
           "Kerry",
           "D",
           0.5994476503665718,
           0.39262974665336575,
           0.20681790371320602
          ],
          [
           "IOWA",
           2004,
           "Bush Junior",
           "R",
           "Kerry",
           "D",
           0.4990065750530225,
           0.4923313168421695,
           0.0066752582108529634
          ],
          [
           "KANSAS",
           2004,
           "Bush Junior",
           "R",
           "Kerry",
           "D",
           0.620039806155473,
           0.3662309430556444,
           0.25380886309982864
          ],
          [
           "KENTUCKY",
           2004,
           "Bush Junior",
           "R",
           "Kerry",
           "D",
           0.5954951383220055,
           0.39687072981409693,
           0.19862440850790858
          ],
          [
           "LOUISIANA",
           2004,
           "Bush Junior",
           "R",
           "Kerry",
           "D",
           0.5672202134108999,
           0.4221586470321228,
           0.1450615663787771
          ],
          [
           "MAINE",
           2004,
           "Kerry",
           "D",
           "Bush Junior",
           "R",
           0.5357285569259347,
           0.44576457437846945,
           0.08996398254746524
          ],
          [
           "MARYLAND",
           2004,
           "Kerry",
           "D",
           "Bush Junior",
           "R",
           0.5597146761355201,
           0.4297821777859425,
           0.12993249834957754
          ],
          [
           "MASSACHUSETTS",
           2004,
           "Kerry",
           "D",
           "Bush Junior",
           "R",
           0.616166602048537,
           0.3658840187124994,
           0.2502825833360376
          ],
          [
           "MICHIGAN",
           2004,
           "Kerry",
           "D",
           "Bush Junior",
           "R",
           0.5123070672905647,
           0.4781205855781017,
           0.034186481712463024
          ],
          [
           "MINNESOTA",
           2004,
           "Kerry",
           "D",
           "Bush Junior",
           "R",
           0.5108968468600654,
           0.47613533791521456,
           0.03476150894485086
          ],
          [
           "MISSISSIPPI",
           2004,
           "Bush Junior",
           "R",
           "Kerry",
           "D",
           0.5901437414899142,
           0.40161112592821346,
           0.18853261556170076
          ],
          [
           "MISSOURI",
           2004,
           "Bush Junior",
           "R",
           "Kerry",
           "D",
           0.5329619193926551,
           0.46100446516831883,
           0.0719574542243363
          ],
          [
           "MONTANA",
           2004,
           "Bush Junior",
           "R",
           "Kerry",
           "D",
           0.5906814316858852,
           0.3856502839483698,
           0.20503114773751535
          ],
          [
           "NEBRASKA",
           2004,
           "Bush Junior",
           "R",
           "Kerry",
           "D",
           0.6589864119889075,
           0.3268216082016382,
           0.3321648037872693
          ],
          [
           "NEVADA",
           2004,
           "Bush Junior",
           "R",
           "Kerry",
           "D",
           0.504696915453111,
           0.4787804051895702,
           0.025916510263540804
          ],
          [
           "NEW HAMPSHIRE",
           2004,
           "Kerry",
           "D",
           "Bush Junior",
           "R",
           0.5020161082255741,
           0.4883434298460681,
           0.013672678379505976
          ],
          [
           "NEW JERSEY",
           2004,
           "Kerry",
           "D",
           "Bush Junior",
           "R",
           0.5292340900702746,
           0.4623881168128724,
           0.06684597325740216
          ],
          [
           "NEW MEXICO",
           2004,
           "Bush Junior",
           "R",
           "Kerry",
           "D",
           0.498384247604138,
           0.490466796420487,
           0.007917451183651003
          ],
          [
           "NEW YORK",
           2004,
           "Kerry",
           "D",
           "Bush Junior",
           "R",
           0.5613058126549186,
           0.376865299923499,
           0.18444051273141965
          ],
          [
           "NORTH CAROLINA",
           2004,
           "Bush Junior",
           "R",
           "Kerry",
           "D",
           0.5601719733779452,
           0.435831462205017,
           0.12434051117292821
          ],
          [
           "NORTH DAKOTA",
           2004,
           "Bush Junior",
           "R",
           "Kerry",
           "D",
           0.6286133496146507,
           0.3549881246543683,
           0.27362522496028235
          ],
          [
           "OHIO",
           2004,
           "Bush Junior",
           "R",
           "Kerry",
           "D",
           0.508140243355296,
           0.48706685243153625,
           0.021073390923759705
          ],
          [
           "OKLAHOMA",
           2004,
           "Bush Junior",
           "R",
           "Kerry",
           "D",
           0.6557040166475606,
           0.3442959833524394,
           0.31140803329512123
          ],
          [
           "OREGON",
           2004,
           "Kerry",
           "D",
           "Bush Junior",
           "R",
           0.5134866304221187,
           0.47192916742433233,
           0.0415574629977864
          ],
          [
           "PENNSYLVANIA",
           2004,
           "Kerry",
           "D",
           "Bush Junior",
           "R",
           0.5092380914415062,
           0.484236661530542,
           0.025001429910964212
          ],
          [
           "RHODE ISLAND",
           2004,
           "Kerry",
           "D",
           "Bush Junior",
           "R",
           0.5942342622628302,
           0.3867143713369356,
           0.20751989092589457
          ],
          [
           "SOUTH CAROLINA",
           2004,
           "Bush Junior",
           "R",
           "Kerry",
           "D",
           0.5798194968164678,
           0.40901835939914694,
           0.1708011374173209
          ],
          [
           "SOUTH DAKOTA",
           2004,
           "Bush Junior",
           "R",
           "Kerry",
           "D",
           0.5991113171824891,
           0.38443645917854796,
           0.21467485800394115
          ],
          [
           "TENNESSEE",
           2004,
           "Bush Junior",
           "R",
           "Kerry",
           "D",
           0.5679908949136325,
           0.4252529110879618,
           0.1427379838256707
          ],
          [
           "TEXAS",
           2004,
           "Bush Junior",
           "R",
           "Kerry",
           "D",
           0.6108582276906154,
           0.3822426046274135,
           0.22861562306320188
          ],
          [
           "UTAH",
           2004,
           "Bush Junior",
           "R",
           "Kerry",
           "D",
           0.7153594785330293,
           0.25995641508701894,
           0.45540306344601034
          ],
          [
           "VERMONT",
           2004,
           "Kerry",
           "D",
           "Bush Junior",
           "R",
           0.5893746257712714,
           0.38801315363950445,
           0.20136147213176697
          ],
          [
           "VIRGINIA",
           2004,
           "Bush Junior",
           "R",
           "Kerry",
           "D",
           0.5373195656902156,
           0.4552591760381672,
           0.08206038965204837
          ],
          [
           "WASHINGTON",
           2004,
           "Kerry",
           "D",
           "Bush Junior",
           "R",
           0.5282114831183694,
           0.45640281992414355,
           0.07180866319422585
          ],
          [
           "WEST VIRGINIA",
           2004,
           "Bush Junior",
           "R",
           "Kerry",
           "D",
           0.5607071786946674,
           0.43205141097021404,
           0.1286557677244533
          ],
          [
           "WISCONSIN",
           2004,
           "Kerry",
           "D",
           "Bush Junior",
           "R",
           0.49699717084411216,
           0.49319871458425024,
           0.0037984562598619154
          ],
          [
           "WYOMING",
           2004,
           "Bush Junior",
           "R",
           "Kerry",
           "D",
           0.6873956885274808,
           0.2902309102316484,
           0.3971647782958324
          ]
         ],
         "geo": "geo",
         "geojson": "https://raw.githubusercontent.com/plotly/datasets/master/geojson-counties-fips.json",
         "hovertemplate": "%{customdata[0]}: %{customdata[1]}<br>%{customdata[2]}-%{customdata[3]} def. %{customdata[4]}-%{customdata[5]}<br>%{customdata[6]:.1%} to %{customdata[7]:.1%}<br>Margin: %{customdata[8]:.1%}<br><extra></extra>",
         "locationmode": "USA-states",
         "locations": [
          "AL",
          "AK",
          "AZ",
          "AR",
          "CA",
          "CO",
          "CT",
          "DE",
          "DC",
          "FL",
          "GA",
          "HI",
          "ID",
          "IL",
          "IN",
          "IA",
          "KS",
          "KY",
          "LA",
          "ME",
          "MD",
          "MA",
          "MI",
          "MN",
          "MS",
          "MO",
          "MT",
          "NE",
          "NV",
          "NH",
          "NJ",
          "NM",
          "NY",
          "NC",
          "ND",
          "OH",
          "OK",
          "OR",
          "PA",
          "RI",
          "SC",
          "SD",
          "TN",
          "TX",
          "UT",
          "VT",
          "VA",
          "WA",
          "WV",
          "WI",
          "WY"
         ],
         "name": "",
         "type": "choropleth",
         "z": [
          -0.256162874353236,
          -0.2554846800043506,
          -0.10472601157218203,
          -0.09758328633246288,
          0.09947861557432591,
          -0.046732531003038036,
          0.10366431061162212,
          0.07594019030357957,
          0.7984410288857838,
          -0.05006406204622721,
          -0.16599810713609692,
          0.08744956446541247,
          -0.38126027781862903,
          0.10344533382679322,
          -0.20681790371320602,
          -0.0066752582108529634,
          -0.25380886309982864,
          -0.19862440850790858,
          -0.1450615663787771,
          0.08996398254746524,
          0.12993249834957754,
          0.2502825833360376,
          0.034186481712463024,
          0.03476150894485086,
          -0.18853261556170076,
          -0.0719574542243363,
          -0.20503114773751535,
          -0.3321648037872693,
          -0.025916510263540804,
          0.013672678379505976,
          0.06684597325740216,
          -0.007917451183651003,
          0.18444051273141965,
          -0.12434051117292821,
          -0.27362522496028235,
          -0.021073390923759705,
          -0.31140803329512123,
          0.0415574629977864,
          0.025001429910964212,
          0.20751989092589457,
          -0.1708011374173209,
          -0.21467485800394115,
          -0.1427379838256707,
          -0.22861562306320188,
          -0.45540306344601034,
          0.20136147213176697,
          -0.08206038965204837,
          0.07180866319422585,
          -0.1286557677244533,
          0.0037984562598619154,
          -0.3971647782958324
         ]
        }
       ],
       "layout": {
        "coloraxis": {
         "cmax": 0.35,
         "cmid": 0,
         "cmin": -0.35,
         "colorbar": {
          "title": {
           "text": "DIFF_PCT"
          }
         },
         "colorscale": [
          [
           0,
           "rgb(103,0,31)"
          ],
          [
           0.1,
           "rgb(178,24,43)"
          ],
          [
           0.2,
           "rgb(214,96,77)"
          ],
          [
           0.3,
           "rgb(244,165,130)"
          ],
          [
           0.4,
           "rgb(253,219,199)"
          ],
          [
           0.5,
           "rgb(247,247,247)"
          ],
          [
           0.6,
           "rgb(209,229,240)"
          ],
          [
           0.7,
           "rgb(146,197,222)"
          ],
          [
           0.8,
           "rgb(67,147,195)"
          ],
          [
           0.9,
           "rgb(33,102,172)"
          ],
          [
           1,
           "rgb(5,48,97)"
          ]
         ]
        },
        "geo": {
         "center": {},
         "domain": {
          "x": [
           0,
           1
          ],
          "y": [
           0,
           1
          ]
         },
         "scope": "usa"
        },
        "legend": {
         "tracegroupgap": 0
        },
        "margin": {
         "b": 0,
         "l": 0,
         "r": 0,
         "t": 0
        },
        "template": {
         "data": {
          "bar": [
           {
            "error_x": {
             "color": "#2a3f5f"
            },
            "error_y": {
             "color": "#2a3f5f"
            },
            "marker": {
             "line": {
              "color": "#E5ECF6",
              "width": 0.5
             },
             "pattern": {
              "fillmode": "overlay",
              "size": 10,
              "solidity": 0.2
             }
            },
            "type": "bar"
           }
          ],
          "barpolar": [
           {
            "marker": {
             "line": {
              "color": "#E5ECF6",
              "width": 0.5
             },
             "pattern": {
              "fillmode": "overlay",
              "size": 10,
              "solidity": 0.2
             }
            },
            "type": "barpolar"
           }
          ],
          "carpet": [
           {
            "aaxis": {
             "endlinecolor": "#2a3f5f",
             "gridcolor": "white",
             "linecolor": "white",
             "minorgridcolor": "white",
             "startlinecolor": "#2a3f5f"
            },
            "baxis": {
             "endlinecolor": "#2a3f5f",
             "gridcolor": "white",
             "linecolor": "white",
             "minorgridcolor": "white",
             "startlinecolor": "#2a3f5f"
            },
            "type": "carpet"
           }
          ],
          "choropleth": [
           {
            "colorbar": {
             "outlinewidth": 0,
             "ticks": ""
            },
            "type": "choropleth"
           }
          ],
          "contour": [
           {
            "colorbar": {
             "outlinewidth": 0,
             "ticks": ""
            },
            "colorscale": [
             [
              0,
              "#0d0887"
             ],
             [
              0.1111111111111111,
              "#46039f"
             ],
             [
              0.2222222222222222,
              "#7201a8"
             ],
             [
              0.3333333333333333,
              "#9c179e"
             ],
             [
              0.4444444444444444,
              "#bd3786"
             ],
             [
              0.5555555555555556,
              "#d8576b"
             ],
             [
              0.6666666666666666,
              "#ed7953"
             ],
             [
              0.7777777777777778,
              "#fb9f3a"
             ],
             [
              0.8888888888888888,
              "#fdca26"
             ],
             [
              1,
              "#f0f921"
             ]
            ],
            "type": "contour"
           }
          ],
          "contourcarpet": [
           {
            "colorbar": {
             "outlinewidth": 0,
             "ticks": ""
            },
            "type": "contourcarpet"
           }
          ],
          "heatmap": [
           {
            "colorbar": {
             "outlinewidth": 0,
             "ticks": ""
            },
            "colorscale": [
             [
              0,
              "#0d0887"
             ],
             [
              0.1111111111111111,
              "#46039f"
             ],
             [
              0.2222222222222222,
              "#7201a8"
             ],
             [
              0.3333333333333333,
              "#9c179e"
             ],
             [
              0.4444444444444444,
              "#bd3786"
             ],
             [
              0.5555555555555556,
              "#d8576b"
             ],
             [
              0.6666666666666666,
              "#ed7953"
             ],
             [
              0.7777777777777778,
              "#fb9f3a"
             ],
             [
              0.8888888888888888,
              "#fdca26"
             ],
             [
              1,
              "#f0f921"
             ]
            ],
            "type": "heatmap"
           }
          ],
          "heatmapgl": [
           {
            "colorbar": {
             "outlinewidth": 0,
             "ticks": ""
            },
            "colorscale": [
             [
              0,
              "#0d0887"
             ],
             [
              0.1111111111111111,
              "#46039f"
             ],
             [
              0.2222222222222222,
              "#7201a8"
             ],
             [
              0.3333333333333333,
              "#9c179e"
             ],
             [
              0.4444444444444444,
              "#bd3786"
             ],
             [
              0.5555555555555556,
              "#d8576b"
             ],
             [
              0.6666666666666666,
              "#ed7953"
             ],
             [
              0.7777777777777778,
              "#fb9f3a"
             ],
             [
              0.8888888888888888,
              "#fdca26"
             ],
             [
              1,
              "#f0f921"
             ]
            ],
            "type": "heatmapgl"
           }
          ],
          "histogram": [
           {
            "marker": {
             "pattern": {
              "fillmode": "overlay",
              "size": 10,
              "solidity": 0.2
             }
            },
            "type": "histogram"
           }
          ],
          "histogram2d": [
           {
            "colorbar": {
             "outlinewidth": 0,
             "ticks": ""
            },
            "colorscale": [
             [
              0,
              "#0d0887"
             ],
             [
              0.1111111111111111,
              "#46039f"
             ],
             [
              0.2222222222222222,
              "#7201a8"
             ],
             [
              0.3333333333333333,
              "#9c179e"
             ],
             [
              0.4444444444444444,
              "#bd3786"
             ],
             [
              0.5555555555555556,
              "#d8576b"
             ],
             [
              0.6666666666666666,
              "#ed7953"
             ],
             [
              0.7777777777777778,
              "#fb9f3a"
             ],
             [
              0.8888888888888888,
              "#fdca26"
             ],
             [
              1,
              "#f0f921"
             ]
            ],
            "type": "histogram2d"
           }
          ],
          "histogram2dcontour": [
           {
            "colorbar": {
             "outlinewidth": 0,
             "ticks": ""
            },
            "colorscale": [
             [
              0,
              "#0d0887"
             ],
             [
              0.1111111111111111,
              "#46039f"
             ],
             [
              0.2222222222222222,
              "#7201a8"
             ],
             [
              0.3333333333333333,
              "#9c179e"
             ],
             [
              0.4444444444444444,
              "#bd3786"
             ],
             [
              0.5555555555555556,
              "#d8576b"
             ],
             [
              0.6666666666666666,
              "#ed7953"
             ],
             [
              0.7777777777777778,
              "#fb9f3a"
             ],
             [
              0.8888888888888888,
              "#fdca26"
             ],
             [
              1,
              "#f0f921"
             ]
            ],
            "type": "histogram2dcontour"
           }
          ],
          "mesh3d": [
           {
            "colorbar": {
             "outlinewidth": 0,
             "ticks": ""
            },
            "type": "mesh3d"
           }
          ],
          "parcoords": [
           {
            "line": {
             "colorbar": {
              "outlinewidth": 0,
              "ticks": ""
             }
            },
            "type": "parcoords"
           }
          ],
          "pie": [
           {
            "automargin": true,
            "type": "pie"
           }
          ],
          "scatter": [
           {
            "fillpattern": {
             "fillmode": "overlay",
             "size": 10,
             "solidity": 0.2
            },
            "type": "scatter"
           }
          ],
          "scatter3d": [
           {
            "line": {
             "colorbar": {
              "outlinewidth": 0,
              "ticks": ""
             }
            },
            "marker": {
             "colorbar": {
              "outlinewidth": 0,
              "ticks": ""
             }
            },
            "type": "scatter3d"
           }
          ],
          "scattercarpet": [
           {
            "marker": {
             "colorbar": {
              "outlinewidth": 0,
              "ticks": ""
             }
            },
            "type": "scattercarpet"
           }
          ],
          "scattergeo": [
           {
            "marker": {
             "colorbar": {
              "outlinewidth": 0,
              "ticks": ""
             }
            },
            "type": "scattergeo"
           }
          ],
          "scattergl": [
           {
            "marker": {
             "colorbar": {
              "outlinewidth": 0,
              "ticks": ""
             }
            },
            "type": "scattergl"
           }
          ],
          "scattermapbox": [
           {
            "marker": {
             "colorbar": {
              "outlinewidth": 0,
              "ticks": ""
             }
            },
            "type": "scattermapbox"
           }
          ],
          "scatterpolar": [
           {
            "marker": {
             "colorbar": {
              "outlinewidth": 0,
              "ticks": ""
             }
            },
            "type": "scatterpolar"
           }
          ],
          "scatterpolargl": [
           {
            "marker": {
             "colorbar": {
              "outlinewidth": 0,
              "ticks": ""
             }
            },
            "type": "scatterpolargl"
           }
          ],
          "scatterternary": [
           {
            "marker": {
             "colorbar": {
              "outlinewidth": 0,
              "ticks": ""
             }
            },
            "type": "scatterternary"
           }
          ],
          "surface": [
           {
            "colorbar": {
             "outlinewidth": 0,
             "ticks": ""
            },
            "colorscale": [
             [
              0,
              "#0d0887"
             ],
             [
              0.1111111111111111,
              "#46039f"
             ],
             [
              0.2222222222222222,
              "#7201a8"
             ],
             [
              0.3333333333333333,
              "#9c179e"
             ],
             [
              0.4444444444444444,
              "#bd3786"
             ],
             [
              0.5555555555555556,
              "#d8576b"
             ],
             [
              0.6666666666666666,
              "#ed7953"
             ],
             [
              0.7777777777777778,
              "#fb9f3a"
             ],
             [
              0.8888888888888888,
              "#fdca26"
             ],
             [
              1,
              "#f0f921"
             ]
            ],
            "type": "surface"
           }
          ],
          "table": [
           {
            "cells": {
             "fill": {
              "color": "#EBF0F8"
             },
             "line": {
              "color": "white"
             }
            },
            "header": {
             "fill": {
              "color": "#C8D4E3"
             },
             "line": {
              "color": "white"
             }
            },
            "type": "table"
           }
          ]
         },
         "layout": {
          "annotationdefaults": {
           "arrowcolor": "#2a3f5f",
           "arrowhead": 0,
           "arrowwidth": 1
          },
          "autotypenumbers": "strict",
          "coloraxis": {
           "colorbar": {
            "outlinewidth": 0,
            "ticks": ""
           }
          },
          "colorscale": {
           "diverging": [
            [
             0,
             "#8e0152"
            ],
            [
             0.1,
             "#c51b7d"
            ],
            [
             0.2,
             "#de77ae"
            ],
            [
             0.3,
             "#f1b6da"
            ],
            [
             0.4,
             "#fde0ef"
            ],
            [
             0.5,
             "#f7f7f7"
            ],
            [
             0.6,
             "#e6f5d0"
            ],
            [
             0.7,
             "#b8e186"
            ],
            [
             0.8,
             "#7fbc41"
            ],
            [
             0.9,
             "#4d9221"
            ],
            [
             1,
             "#276419"
            ]
           ],
           "sequential": [
            [
             0,
             "#0d0887"
            ],
            [
             0.1111111111111111,
             "#46039f"
            ],
            [
             0.2222222222222222,
             "#7201a8"
            ],
            [
             0.3333333333333333,
             "#9c179e"
            ],
            [
             0.4444444444444444,
             "#bd3786"
            ],
            [
             0.5555555555555556,
             "#d8576b"
            ],
            [
             0.6666666666666666,
             "#ed7953"
            ],
            [
             0.7777777777777778,
             "#fb9f3a"
            ],
            [
             0.8888888888888888,
             "#fdca26"
            ],
            [
             1,
             "#f0f921"
            ]
           ],
           "sequentialminus": [
            [
             0,
             "#0d0887"
            ],
            [
             0.1111111111111111,
             "#46039f"
            ],
            [
             0.2222222222222222,
             "#7201a8"
            ],
            [
             0.3333333333333333,
             "#9c179e"
            ],
            [
             0.4444444444444444,
             "#bd3786"
            ],
            [
             0.5555555555555556,
             "#d8576b"
            ],
            [
             0.6666666666666666,
             "#ed7953"
            ],
            [
             0.7777777777777778,
             "#fb9f3a"
            ],
            [
             0.8888888888888888,
             "#fdca26"
            ],
            [
             1,
             "#f0f921"
            ]
           ]
          },
          "colorway": [
           "#636efa",
           "#EF553B",
           "#00cc96",
           "#ab63fa",
           "#FFA15A",
           "#19d3f3",
           "#FF6692",
           "#B6E880",
           "#FF97FF",
           "#FECB52"
          ],
          "font": {
           "color": "#2a3f5f"
          },
          "geo": {
           "bgcolor": "white",
           "lakecolor": "white",
           "landcolor": "#E5ECF6",
           "showlakes": true,
           "showland": true,
           "subunitcolor": "white"
          },
          "hoverlabel": {
           "align": "left"
          },
          "hovermode": "closest",
          "mapbox": {
           "style": "light"
          },
          "paper_bgcolor": "white",
          "plot_bgcolor": "#E5ECF6",
          "polar": {
           "angularaxis": {
            "gridcolor": "white",
            "linecolor": "white",
            "ticks": ""
           },
           "bgcolor": "#E5ECF6",
           "radialaxis": {
            "gridcolor": "white",
            "linecolor": "white",
            "ticks": ""
           }
          },
          "scene": {
           "xaxis": {
            "backgroundcolor": "#E5ECF6",
            "gridcolor": "white",
            "gridwidth": 2,
            "linecolor": "white",
            "showbackground": true,
            "ticks": "",
            "zerolinecolor": "white"
           },
           "yaxis": {
            "backgroundcolor": "#E5ECF6",
            "gridcolor": "white",
            "gridwidth": 2,
            "linecolor": "white",
            "showbackground": true,
            "ticks": "",
            "zerolinecolor": "white"
           },
           "zaxis": {
            "backgroundcolor": "#E5ECF6",
            "gridcolor": "white",
            "gridwidth": 2,
            "linecolor": "white",
            "showbackground": true,
            "ticks": "",
            "zerolinecolor": "white"
           }
          },
          "shapedefaults": {
           "line": {
            "color": "#2a3f5f"
           }
          },
          "ternary": {
           "aaxis": {
            "gridcolor": "white",
            "linecolor": "white",
            "ticks": ""
           },
           "baxis": {
            "gridcolor": "white",
            "linecolor": "white",
            "ticks": ""
           },
           "bgcolor": "#E5ECF6",
           "caxis": {
            "gridcolor": "white",
            "linecolor": "white",
            "ticks": ""
           }
          },
          "title": {
           "x": 0.05
          },
          "xaxis": {
           "automargin": true,
           "gridcolor": "white",
           "linecolor": "white",
           "ticks": "",
           "title": {
            "standoff": 15
           },
           "zerolinecolor": "white",
           "zerolinewidth": 2
          },
          "yaxis": {
           "automargin": true,
           "gridcolor": "white",
           "linecolor": "white",
           "ticks": "",
           "title": {
            "standoff": 15
           },
           "zerolinecolor": "white",
           "zerolinewidth": 2
          }
         }
        },
        "title": {
         "text": "2004"
        }
       }
      }
     },
     "metadata": {},
     "output_type": "display_data"
    },
    {
     "name": "stdout",
     "output_type": "stream",
     "text": [
      "\n",
      "\n",
      "\n",
      "\n",
      "\n",
      "                                                   2008\n"
     ]
    },
    {
     "data": {
      "application/vnd.plotly.v1+json": {
       "config": {
        "plotlyServerURL": "https://plot.ly"
       },
       "data": [
        {
         "coloraxis": "coloraxis",
         "customdata": [
          [
           "ALABAMA",
           2008,
           "McCain",
           "R",
           "Obama",
           "D",
           0.603169130291706,
           0.38740434294574916,
           0.2157647873459569
          ],
          [
           "ALASKA",
           2008,
           "McCain",
           "R",
           "Obama",
           "D",
           0.5942451953880631,
           0.37889373599389325,
           0.21535145939416983
          ],
          [
           "ARIZONA",
           2008,
           "McCain",
           "R",
           "Obama",
           "D",
           0.5363524782262724,
           0.4511525087476428,
           0.08519996947862962
          ],
          [
           "ARKANSAS",
           2008,
           "McCain",
           "R",
           "Obama",
           "D",
           0.5871590449992959,
           0.3886465976512423,
           0.19851244734805362
          ],
          [
           "CALIFORNIA",
           2008,
           "Obama",
           "D",
           "McCain",
           "R",
           0.6101263834713425,
           0.36954858832464477,
           0.24057779514669775
          ],
          [
           "COLORADO",
           2008,
           "Obama",
           "D",
           "McCain",
           "R",
           0.5366023684069159,
           0.4470752210933716,
           0.08952714731354428
          ],
          [
           "CONNECTICUT",
           2008,
           "Obama",
           "D",
           "McCain",
           "R",
           0.6058882967612181,
           0.3822146330562694,
           0.22367366370494873
          ],
          [
           "DELAWARE",
           2008,
           "Obama",
           "D",
           "McCain",
           "R",
           0.6194266898150393,
           0.36947033548975294,
           0.2499563543252864
          ],
          [
           "DISTRICT OF COLUMBIA",
           2008,
           "Obama",
           "D",
           "McCain",
           "R",
           0.9245710975614343,
           0.06532557465968035,
           0.8592455229017539
          ],
          [
           "FLORIDA",
           2008,
           "Obama",
           "D",
           "McCain",
           "R",
           0.5103330527066491,
           0.4821531916597622,
           0.028179861046886856
          ],
          [
           "GEORGIA",
           2008,
           "McCain",
           "R",
           "Obama",
           "D",
           0.5220451799292952,
           0.46990179096065066,
           0.052143388968644566
          ],
          [
           "HAWAII",
           2008,
           "Obama",
           "D",
           "McCain",
           "R",
           0.7145291011787819,
           0.2643620193657031,
           0.4501670818130788
          ],
          [
           "IDAHO",
           2008,
           "McCain",
           "R",
           "Obama",
           "D",
           0.6151709147303861,
           0.3609098763283785,
           0.2542610384020076
          ],
          [
           "ILLINOIS",
           2008,
           "Obama",
           "D",
           "McCain",
           "R",
           0.6191811452001323,
           0.36780922542147204,
           0.2513719197786603
          ],
          [
           "INDIANA",
           2008,
           "Obama",
           "D",
           "McCain",
           "R",
           0.4994591163968428,
           0.4891390717884854,
           0.010320044608357393
          ],
          [
           "IOWA",
           2008,
           "Obama",
           "D",
           "McCain",
           "R",
           0.5392802007386527,
           0.4439325935530208,
           0.0953476071856319
          ],
          [
           "KANSAS",
           2008,
           "McCain",
           "R",
           "Obama",
           "D",
           0.5661225434349189,
           0.41651967194013617,
           0.14960287149478269
          ],
          [
           "KENTUCKY",
           2008,
           "McCain",
           "R",
           "Obama",
           "D",
           0.5739902114287592,
           0.4116811378392879,
           0.16230907358947128
          ],
          [
           "LOUISIANA",
           2008,
           "McCain",
           "R",
           "Obama",
           "D",
           0.5856272131075638,
           0.3993291380234511,
           0.18629807508411272
          ],
          [
           "MAINE",
           2008,
           "Obama",
           "D",
           "McCain",
           "R",
           0.5770573729797597,
           0.40384018337908234,
           0.17321718960067733
          ],
          [
           "MARYLAND",
           2008,
           "Obama",
           "D",
           "McCain",
           "R",
           0.6191934476264593,
           0.364745196451127,
           0.2544482511753323
          ],
          [
           "MASSACHUSETTS",
           2008,
           "Obama",
           "D",
           "McCain",
           "R",
           0.6136319910280229,
           0.3573495928933176,
           0.2562823981347053
          ],
          [
           "MICHIGAN",
           2008,
           "Obama",
           "D",
           "McCain",
           "R",
           0.5743324730745946,
           0.40959705661952706,
           0.1647354164550675
          ],
          [
           "MINNESOTA",
           2008,
           "Obama",
           "D",
           "McCain",
           "R",
           0.5406029269827984,
           0.43822931044139074,
           0.1023736165414077
          ],
          [
           "MISSISSIPPI",
           2008,
           "McCain",
           "R",
           "Obama",
           "D",
           0.5617618898101739,
           0.43001554426238403,
           0.1317463455477899
          ],
          [
           "MISSOURI",
           2008,
           "McCain",
           "R",
           "Obama",
           "D",
           0.49426074411878823,
           0.49292647865705136,
           0.001334265461736872
          ],
          [
           "MONTANA",
           2008,
           "McCain",
           "R",
           "Obama",
           "D",
           0.495324509445858,
           0.4726846477008176,
           0.0226398617450404
          ],
          [
           "NEBRASKA",
           2008,
           "McCain",
           "R",
           "Obama",
           "D",
           0.5653185336979162,
           0.415982657769247,
           0.1493358759286692
          ],
          [
           "NEVADA",
           2008,
           "Obama",
           "D",
           "McCain",
           "R",
           0.551466759243187,
           0.42654115108984053,
           0.12492560815334647
          ],
          [
           "NEW HAMPSHIRE",
           2008,
           "Obama",
           "D",
           "McCain",
           "R",
           0.5412689705613458,
           0.44521428470962204,
           0.09605468585172378
          ],
          [
           "NEW JERSEY",
           2008,
           "Obama",
           "D",
           "McCain",
           "R",
           0.5727213715188599,
           0.4170393385927491,
           0.15568203292611082
          ],
          [
           "NEW MEXICO",
           2008,
           "Obama",
           "D",
           "McCain",
           "R",
           0.5690748026279335,
           0.4177903483433274,
           0.15128445428460613
          ],
          [
           "NEW YORK",
           2008,
           "Obama",
           "D",
           "McCain",
           "R",
           0.6015696154075767,
           0.313172371111752,
           0.2883972442958247
          ],
          [
           "NORTH CAROLINA",
           2008,
           "Obama",
           "D",
           "McCain",
           "R",
           0.49703666399047425,
           0.49374798618648613,
           0.003288677803988116
          ],
          [
           "NORTH DAKOTA",
           2008,
           "McCain",
           "R",
           "Obama",
           "D",
           0.5325010027761898,
           0.44620540014717913,
           0.0862956026290107
          ],
          [
           "OHIO",
           2008,
           "Obama",
           "D",
           "McCain",
           "R",
           0.5150427006052537,
           0.4691057836327485,
           0.04593691697250518
          ],
          [
           "OKLAHOMA",
           2008,
           "McCain",
           "R",
           "Obama",
           "D",
           0.656450811226935,
           0.343549188773065,
           0.31290162245387004
          ],
          [
           "OREGON",
           2008,
           "Obama",
           "D",
           "McCain",
           "R",
           0.5674880625692065,
           0.40400981692292204,
           0.16347824564628444
          ],
          [
           "PENNSYLVANIA",
           2008,
           "Obama",
           "D",
           "McCain",
           "R",
           0.5448552801203738,
           0.4416705247991443,
           0.10318475532122945
          ],
          [
           "RHODE ISLAND",
           2008,
           "Obama",
           "D",
           "McCain",
           "R",
           0.6286400461245617,
           0.35057846474735355,
           0.27806158137720816
          ],
          [
           "SOUTH CAROLINA",
           2008,
           "McCain",
           "R",
           "Obama",
           "D",
           0.5387364397863786,
           0.4489656001736624,
           0.08977083961271626
          ],
          [
           "SOUTH DAKOTA",
           2008,
           "McCain",
           "R",
           "Obama",
           "D",
           0.5315897637279927,
           0.44747431114601743,
           0.08411545258197528
          ],
          [
           "TENNESSEE",
           2008,
           "McCain",
           "R",
           "Obama",
           "D",
           0.5689695428289423,
           0.4182853806271298,
           0.15068416220181252
          ],
          [
           "TEXAS",
           2008,
           "McCain",
           "R",
           "Obama",
           "D",
           0.5545236045232641,
           0.4368312144588963,
           0.11769239006436782
          ],
          [
           "UTAH",
           2008,
           "McCain",
           "R",
           "Obama",
           "D",
           0.6258386971450172,
           0.3440574566607516,
           0.28178124048426556
          ],
          [
           "VERMONT",
           2008,
           "Obama",
           "D",
           "McCain",
           "R",
           0.6745568319560924,
           0.30449228724549754,
           0.37006454471059486
          ],
          [
           "VIRGINIA",
           2008,
           "Obama",
           "D",
           "McCain",
           "R",
           0.5262946987317566,
           0.46330500690255316,
           0.06298969182920344
          ],
          [
           "WASHINGTON",
           2008,
           "Obama",
           "D",
           "McCain",
           "R",
           0.5765289221364835,
           0.40476304942114893,
           0.1717658727153346
          ],
          [
           "WEST VIRGINIA",
           2008,
           "McCain",
           "R",
           "Obama",
           "D",
           0.5571034310695478,
           0.42589750382296754,
           0.1312059272465803
          ],
          [
           "WISCONSIN",
           2008,
           "Obama",
           "D",
           "McCain",
           "R",
           0.5621778651794235,
           0.4231366248834809,
           0.13904124029594256
          ],
          [
           "WYOMING",
           2008,
           "McCain",
           "R",
           "Obama",
           "D",
           0.6471377459749553,
           0.32509493770203685,
           0.3220428082729185
          ]
         ],
         "geo": "geo",
         "geojson": "https://raw.githubusercontent.com/plotly/datasets/master/geojson-counties-fips.json",
         "hovertemplate": "%{customdata[0]}: %{customdata[1]}<br>%{customdata[2]}-%{customdata[3]} def. %{customdata[4]}-%{customdata[5]}<br>%{customdata[6]:.1%} to %{customdata[7]:.1%}<br>Margin: %{customdata[8]:.1%}<br><extra></extra>",
         "locationmode": "USA-states",
         "locations": [
          "AL",
          "AK",
          "AZ",
          "AR",
          "CA",
          "CO",
          "CT",
          "DE",
          "DC",
          "FL",
          "GA",
          "HI",
          "ID",
          "IL",
          "IN",
          "IA",
          "KS",
          "KY",
          "LA",
          "ME",
          "MD",
          "MA",
          "MI",
          "MN",
          "MS",
          "MO",
          "MT",
          "NE",
          "NV",
          "NH",
          "NJ",
          "NM",
          "NY",
          "NC",
          "ND",
          "OH",
          "OK",
          "OR",
          "PA",
          "RI",
          "SC",
          "SD",
          "TN",
          "TX",
          "UT",
          "VT",
          "VA",
          "WA",
          "WV",
          "WI",
          "WY"
         ],
         "name": "",
         "type": "choropleth",
         "z": [
          -0.2157647873459569,
          -0.21535145939416983,
          -0.08519996947862962,
          -0.19851244734805362,
          0.24057779514669775,
          0.08952714731354428,
          0.22367366370494873,
          0.2499563543252864,
          0.8592455229017539,
          0.028179861046886856,
          -0.052143388968644566,
          0.4501670818130788,
          -0.2542610384020076,
          0.2513719197786603,
          0.010320044608357393,
          0.0953476071856319,
          -0.14960287149478269,
          -0.16230907358947128,
          -0.18629807508411272,
          0.17321718960067733,
          0.2544482511753323,
          0.2562823981347053,
          0.1647354164550675,
          0.1023736165414077,
          -0.1317463455477899,
          -0.001334265461736872,
          -0.0226398617450404,
          -0.1493358759286692,
          0.12492560815334647,
          0.09605468585172378,
          0.15568203292611082,
          0.15128445428460613,
          0.2883972442958247,
          0.003288677803988116,
          -0.0862956026290107,
          0.04593691697250518,
          -0.31290162245387004,
          0.16347824564628444,
          0.10318475532122945,
          0.27806158137720816,
          -0.08977083961271626,
          -0.08411545258197528,
          -0.15068416220181252,
          -0.11769239006436782,
          -0.28178124048426556,
          0.37006454471059486,
          0.06298969182920344,
          0.1717658727153346,
          -0.1312059272465803,
          0.13904124029594256,
          -0.3220428082729185
         ]
        }
       ],
       "layout": {
        "coloraxis": {
         "cmax": 0.35,
         "cmid": 0,
         "cmin": -0.35,
         "colorbar": {
          "title": {
           "text": "DIFF_PCT"
          }
         },
         "colorscale": [
          [
           0,
           "rgb(103,0,31)"
          ],
          [
           0.1,
           "rgb(178,24,43)"
          ],
          [
           0.2,
           "rgb(214,96,77)"
          ],
          [
           0.3,
           "rgb(244,165,130)"
          ],
          [
           0.4,
           "rgb(253,219,199)"
          ],
          [
           0.5,
           "rgb(247,247,247)"
          ],
          [
           0.6,
           "rgb(209,229,240)"
          ],
          [
           0.7,
           "rgb(146,197,222)"
          ],
          [
           0.8,
           "rgb(67,147,195)"
          ],
          [
           0.9,
           "rgb(33,102,172)"
          ],
          [
           1,
           "rgb(5,48,97)"
          ]
         ]
        },
        "geo": {
         "center": {},
         "domain": {
          "x": [
           0,
           1
          ],
          "y": [
           0,
           1
          ]
         },
         "scope": "usa"
        },
        "legend": {
         "tracegroupgap": 0
        },
        "margin": {
         "b": 0,
         "l": 0,
         "r": 0,
         "t": 0
        },
        "template": {
         "data": {
          "bar": [
           {
            "error_x": {
             "color": "#2a3f5f"
            },
            "error_y": {
             "color": "#2a3f5f"
            },
            "marker": {
             "line": {
              "color": "#E5ECF6",
              "width": 0.5
             },
             "pattern": {
              "fillmode": "overlay",
              "size": 10,
              "solidity": 0.2
             }
            },
            "type": "bar"
           }
          ],
          "barpolar": [
           {
            "marker": {
             "line": {
              "color": "#E5ECF6",
              "width": 0.5
             },
             "pattern": {
              "fillmode": "overlay",
              "size": 10,
              "solidity": 0.2
             }
            },
            "type": "barpolar"
           }
          ],
          "carpet": [
           {
            "aaxis": {
             "endlinecolor": "#2a3f5f",
             "gridcolor": "white",
             "linecolor": "white",
             "minorgridcolor": "white",
             "startlinecolor": "#2a3f5f"
            },
            "baxis": {
             "endlinecolor": "#2a3f5f",
             "gridcolor": "white",
             "linecolor": "white",
             "minorgridcolor": "white",
             "startlinecolor": "#2a3f5f"
            },
            "type": "carpet"
           }
          ],
          "choropleth": [
           {
            "colorbar": {
             "outlinewidth": 0,
             "ticks": ""
            },
            "type": "choropleth"
           }
          ],
          "contour": [
           {
            "colorbar": {
             "outlinewidth": 0,
             "ticks": ""
            },
            "colorscale": [
             [
              0,
              "#0d0887"
             ],
             [
              0.1111111111111111,
              "#46039f"
             ],
             [
              0.2222222222222222,
              "#7201a8"
             ],
             [
              0.3333333333333333,
              "#9c179e"
             ],
             [
              0.4444444444444444,
              "#bd3786"
             ],
             [
              0.5555555555555556,
              "#d8576b"
             ],
             [
              0.6666666666666666,
              "#ed7953"
             ],
             [
              0.7777777777777778,
              "#fb9f3a"
             ],
             [
              0.8888888888888888,
              "#fdca26"
             ],
             [
              1,
              "#f0f921"
             ]
            ],
            "type": "contour"
           }
          ],
          "contourcarpet": [
           {
            "colorbar": {
             "outlinewidth": 0,
             "ticks": ""
            },
            "type": "contourcarpet"
           }
          ],
          "heatmap": [
           {
            "colorbar": {
             "outlinewidth": 0,
             "ticks": ""
            },
            "colorscale": [
             [
              0,
              "#0d0887"
             ],
             [
              0.1111111111111111,
              "#46039f"
             ],
             [
              0.2222222222222222,
              "#7201a8"
             ],
             [
              0.3333333333333333,
              "#9c179e"
             ],
             [
              0.4444444444444444,
              "#bd3786"
             ],
             [
              0.5555555555555556,
              "#d8576b"
             ],
             [
              0.6666666666666666,
              "#ed7953"
             ],
             [
              0.7777777777777778,
              "#fb9f3a"
             ],
             [
              0.8888888888888888,
              "#fdca26"
             ],
             [
              1,
              "#f0f921"
             ]
            ],
            "type": "heatmap"
           }
          ],
          "heatmapgl": [
           {
            "colorbar": {
             "outlinewidth": 0,
             "ticks": ""
            },
            "colorscale": [
             [
              0,
              "#0d0887"
             ],
             [
              0.1111111111111111,
              "#46039f"
             ],
             [
              0.2222222222222222,
              "#7201a8"
             ],
             [
              0.3333333333333333,
              "#9c179e"
             ],
             [
              0.4444444444444444,
              "#bd3786"
             ],
             [
              0.5555555555555556,
              "#d8576b"
             ],
             [
              0.6666666666666666,
              "#ed7953"
             ],
             [
              0.7777777777777778,
              "#fb9f3a"
             ],
             [
              0.8888888888888888,
              "#fdca26"
             ],
             [
              1,
              "#f0f921"
             ]
            ],
            "type": "heatmapgl"
           }
          ],
          "histogram": [
           {
            "marker": {
             "pattern": {
              "fillmode": "overlay",
              "size": 10,
              "solidity": 0.2
             }
            },
            "type": "histogram"
           }
          ],
          "histogram2d": [
           {
            "colorbar": {
             "outlinewidth": 0,
             "ticks": ""
            },
            "colorscale": [
             [
              0,
              "#0d0887"
             ],
             [
              0.1111111111111111,
              "#46039f"
             ],
             [
              0.2222222222222222,
              "#7201a8"
             ],
             [
              0.3333333333333333,
              "#9c179e"
             ],
             [
              0.4444444444444444,
              "#bd3786"
             ],
             [
              0.5555555555555556,
              "#d8576b"
             ],
             [
              0.6666666666666666,
              "#ed7953"
             ],
             [
              0.7777777777777778,
              "#fb9f3a"
             ],
             [
              0.8888888888888888,
              "#fdca26"
             ],
             [
              1,
              "#f0f921"
             ]
            ],
            "type": "histogram2d"
           }
          ],
          "histogram2dcontour": [
           {
            "colorbar": {
             "outlinewidth": 0,
             "ticks": ""
            },
            "colorscale": [
             [
              0,
              "#0d0887"
             ],
             [
              0.1111111111111111,
              "#46039f"
             ],
             [
              0.2222222222222222,
              "#7201a8"
             ],
             [
              0.3333333333333333,
              "#9c179e"
             ],
             [
              0.4444444444444444,
              "#bd3786"
             ],
             [
              0.5555555555555556,
              "#d8576b"
             ],
             [
              0.6666666666666666,
              "#ed7953"
             ],
             [
              0.7777777777777778,
              "#fb9f3a"
             ],
             [
              0.8888888888888888,
              "#fdca26"
             ],
             [
              1,
              "#f0f921"
             ]
            ],
            "type": "histogram2dcontour"
           }
          ],
          "mesh3d": [
           {
            "colorbar": {
             "outlinewidth": 0,
             "ticks": ""
            },
            "type": "mesh3d"
           }
          ],
          "parcoords": [
           {
            "line": {
             "colorbar": {
              "outlinewidth": 0,
              "ticks": ""
             }
            },
            "type": "parcoords"
           }
          ],
          "pie": [
           {
            "automargin": true,
            "type": "pie"
           }
          ],
          "scatter": [
           {
            "fillpattern": {
             "fillmode": "overlay",
             "size": 10,
             "solidity": 0.2
            },
            "type": "scatter"
           }
          ],
          "scatter3d": [
           {
            "line": {
             "colorbar": {
              "outlinewidth": 0,
              "ticks": ""
             }
            },
            "marker": {
             "colorbar": {
              "outlinewidth": 0,
              "ticks": ""
             }
            },
            "type": "scatter3d"
           }
          ],
          "scattercarpet": [
           {
            "marker": {
             "colorbar": {
              "outlinewidth": 0,
              "ticks": ""
             }
            },
            "type": "scattercarpet"
           }
          ],
          "scattergeo": [
           {
            "marker": {
             "colorbar": {
              "outlinewidth": 0,
              "ticks": ""
             }
            },
            "type": "scattergeo"
           }
          ],
          "scattergl": [
           {
            "marker": {
             "colorbar": {
              "outlinewidth": 0,
              "ticks": ""
             }
            },
            "type": "scattergl"
           }
          ],
          "scattermapbox": [
           {
            "marker": {
             "colorbar": {
              "outlinewidth": 0,
              "ticks": ""
             }
            },
            "type": "scattermapbox"
           }
          ],
          "scatterpolar": [
           {
            "marker": {
             "colorbar": {
              "outlinewidth": 0,
              "ticks": ""
             }
            },
            "type": "scatterpolar"
           }
          ],
          "scatterpolargl": [
           {
            "marker": {
             "colorbar": {
              "outlinewidth": 0,
              "ticks": ""
             }
            },
            "type": "scatterpolargl"
           }
          ],
          "scatterternary": [
           {
            "marker": {
             "colorbar": {
              "outlinewidth": 0,
              "ticks": ""
             }
            },
            "type": "scatterternary"
           }
          ],
          "surface": [
           {
            "colorbar": {
             "outlinewidth": 0,
             "ticks": ""
            },
            "colorscale": [
             [
              0,
              "#0d0887"
             ],
             [
              0.1111111111111111,
              "#46039f"
             ],
             [
              0.2222222222222222,
              "#7201a8"
             ],
             [
              0.3333333333333333,
              "#9c179e"
             ],
             [
              0.4444444444444444,
              "#bd3786"
             ],
             [
              0.5555555555555556,
              "#d8576b"
             ],
             [
              0.6666666666666666,
              "#ed7953"
             ],
             [
              0.7777777777777778,
              "#fb9f3a"
             ],
             [
              0.8888888888888888,
              "#fdca26"
             ],
             [
              1,
              "#f0f921"
             ]
            ],
            "type": "surface"
           }
          ],
          "table": [
           {
            "cells": {
             "fill": {
              "color": "#EBF0F8"
             },
             "line": {
              "color": "white"
             }
            },
            "header": {
             "fill": {
              "color": "#C8D4E3"
             },
             "line": {
              "color": "white"
             }
            },
            "type": "table"
           }
          ]
         },
         "layout": {
          "annotationdefaults": {
           "arrowcolor": "#2a3f5f",
           "arrowhead": 0,
           "arrowwidth": 1
          },
          "autotypenumbers": "strict",
          "coloraxis": {
           "colorbar": {
            "outlinewidth": 0,
            "ticks": ""
           }
          },
          "colorscale": {
           "diverging": [
            [
             0,
             "#8e0152"
            ],
            [
             0.1,
             "#c51b7d"
            ],
            [
             0.2,
             "#de77ae"
            ],
            [
             0.3,
             "#f1b6da"
            ],
            [
             0.4,
             "#fde0ef"
            ],
            [
             0.5,
             "#f7f7f7"
            ],
            [
             0.6,
             "#e6f5d0"
            ],
            [
             0.7,
             "#b8e186"
            ],
            [
             0.8,
             "#7fbc41"
            ],
            [
             0.9,
             "#4d9221"
            ],
            [
             1,
             "#276419"
            ]
           ],
           "sequential": [
            [
             0,
             "#0d0887"
            ],
            [
             0.1111111111111111,
             "#46039f"
            ],
            [
             0.2222222222222222,
             "#7201a8"
            ],
            [
             0.3333333333333333,
             "#9c179e"
            ],
            [
             0.4444444444444444,
             "#bd3786"
            ],
            [
             0.5555555555555556,
             "#d8576b"
            ],
            [
             0.6666666666666666,
             "#ed7953"
            ],
            [
             0.7777777777777778,
             "#fb9f3a"
            ],
            [
             0.8888888888888888,
             "#fdca26"
            ],
            [
             1,
             "#f0f921"
            ]
           ],
           "sequentialminus": [
            [
             0,
             "#0d0887"
            ],
            [
             0.1111111111111111,
             "#46039f"
            ],
            [
             0.2222222222222222,
             "#7201a8"
            ],
            [
             0.3333333333333333,
             "#9c179e"
            ],
            [
             0.4444444444444444,
             "#bd3786"
            ],
            [
             0.5555555555555556,
             "#d8576b"
            ],
            [
             0.6666666666666666,
             "#ed7953"
            ],
            [
             0.7777777777777778,
             "#fb9f3a"
            ],
            [
             0.8888888888888888,
             "#fdca26"
            ],
            [
             1,
             "#f0f921"
            ]
           ]
          },
          "colorway": [
           "#636efa",
           "#EF553B",
           "#00cc96",
           "#ab63fa",
           "#FFA15A",
           "#19d3f3",
           "#FF6692",
           "#B6E880",
           "#FF97FF",
           "#FECB52"
          ],
          "font": {
           "color": "#2a3f5f"
          },
          "geo": {
           "bgcolor": "white",
           "lakecolor": "white",
           "landcolor": "#E5ECF6",
           "showlakes": true,
           "showland": true,
           "subunitcolor": "white"
          },
          "hoverlabel": {
           "align": "left"
          },
          "hovermode": "closest",
          "mapbox": {
           "style": "light"
          },
          "paper_bgcolor": "white",
          "plot_bgcolor": "#E5ECF6",
          "polar": {
           "angularaxis": {
            "gridcolor": "white",
            "linecolor": "white",
            "ticks": ""
           },
           "bgcolor": "#E5ECF6",
           "radialaxis": {
            "gridcolor": "white",
            "linecolor": "white",
            "ticks": ""
           }
          },
          "scene": {
           "xaxis": {
            "backgroundcolor": "#E5ECF6",
            "gridcolor": "white",
            "gridwidth": 2,
            "linecolor": "white",
            "showbackground": true,
            "ticks": "",
            "zerolinecolor": "white"
           },
           "yaxis": {
            "backgroundcolor": "#E5ECF6",
            "gridcolor": "white",
            "gridwidth": 2,
            "linecolor": "white",
            "showbackground": true,
            "ticks": "",
            "zerolinecolor": "white"
           },
           "zaxis": {
            "backgroundcolor": "#E5ECF6",
            "gridcolor": "white",
            "gridwidth": 2,
            "linecolor": "white",
            "showbackground": true,
            "ticks": "",
            "zerolinecolor": "white"
           }
          },
          "shapedefaults": {
           "line": {
            "color": "#2a3f5f"
           }
          },
          "ternary": {
           "aaxis": {
            "gridcolor": "white",
            "linecolor": "white",
            "ticks": ""
           },
           "baxis": {
            "gridcolor": "white",
            "linecolor": "white",
            "ticks": ""
           },
           "bgcolor": "#E5ECF6",
           "caxis": {
            "gridcolor": "white",
            "linecolor": "white",
            "ticks": ""
           }
          },
          "title": {
           "x": 0.05
          },
          "xaxis": {
           "automargin": true,
           "gridcolor": "white",
           "linecolor": "white",
           "ticks": "",
           "title": {
            "standoff": 15
           },
           "zerolinecolor": "white",
           "zerolinewidth": 2
          },
          "yaxis": {
           "automargin": true,
           "gridcolor": "white",
           "linecolor": "white",
           "ticks": "",
           "title": {
            "standoff": 15
           },
           "zerolinecolor": "white",
           "zerolinewidth": 2
          }
         }
        },
        "title": {
         "text": "2008"
        }
       }
      }
     },
     "metadata": {},
     "output_type": "display_data"
    },
    {
     "name": "stdout",
     "output_type": "stream",
     "text": [
      "\n",
      "\n",
      "\n",
      "\n",
      "\n",
      "                                                   2012\n"
     ]
    },
    {
     "data": {
      "application/vnd.plotly.v1+json": {
       "config": {
        "plotlyServerURL": "https://plot.ly"
       },
       "data": [
        {
         "coloraxis": "coloraxis",
         "customdata": [
          [
           "ALABAMA",
           2012,
           "Romney",
           "R",
           "Obama",
           "D",
           0.6054582232982282,
           0.3835903309875247,
           0.22186789231070347
          ],
          [
           "ALASKA",
           2012,
           "Romney",
           "R",
           "Obama",
           "D",
           0.5480157739729447,
           0.40812659112464433,
           0.13988918284830032
          ],
          [
           "ARIZONA",
           2012,
           "Romney",
           "R",
           "Obama",
           "D",
           0.536545331659747,
           0.44589766941799386,
           0.09064766224175319
          ],
          [
           "ARKANSAS",
           2012,
           "Romney",
           "R",
           "Obama",
           "D",
           0.6056693608410911,
           0.36878990301720105,
           0.23687945782389008
          ],
          [
           "CALIFORNIA",
           2012,
           "Obama",
           "D",
           "Romney",
           "R",
           0.6023895914168964,
           0.371203785207048,
           0.2311858062098484
          ],
          [
           "COLORADO",
           2012,
           "Obama",
           "D",
           "Romney",
           "R",
           0.5149222655161517,
           0.4612709163904798,
           0.05365134912567193
          ],
          [
           "CONNECTICUT",
           2012,
           "Obama",
           "D",
           "Romney",
           "R",
           0.5808501325885442,
           0.4074511424691504,
           0.17339899011939386
          ],
          [
           "DELAWARE",
           2012,
           "Obama",
           "D",
           "Romney",
           "R",
           0.5861074198458528,
           0.39982604073546113,
           0.18628137911039166
          ],
          [
           "DISTRICT OF COLUMBIA",
           2012,
           "Obama",
           "D",
           "Romney",
           "R",
           0.9091311392818725,
           0.07278291417600523,
           0.8363482251058673
          ],
          [
           "FLORIDA",
           2012,
           "Obama",
           "D",
           "Romney",
           "R",
           0.5000786506869869,
           0.49130977761975525,
           0.00876887306723162
          ],
          [
           "GEORGIA",
           2012,
           "Romney",
           "R",
           "Obama",
           "D",
           0.5332924217752452,
           0.45507959666882086,
           0.0782128251064243
          ],
          [
           "HAWAII",
           2012,
           "Obama",
           "D",
           "Romney",
           "R",
           0.7014793244563191,
           0.2768214768539593,
           0.4246578476023598
          ],
          [
           "IDAHO",
           2012,
           "Romney",
           "R",
           "Obama",
           "D",
           0.6452978349589283,
           0.3262233355920978,
           0.3190744993668305
          ],
          [
           "ILLINOIS",
           2012,
           "Obama",
           "D",
           "Romney",
           "R",
           0.5760213536247709,
           0.407327412708169,
           0.1686939409166019
          ],
          [
           "INDIANA",
           2012,
           "Romney",
           "R",
           "Obama",
           "D",
           0.5412553238022445,
           0.43927302904058396,
           0.10198229476166054
          ],
          [
           "IOWA",
           2012,
           "Obama",
           "D",
           "Romney",
           "R",
           0.5198801653414908,
           0.46177868510536096,
           0.05810148023612988
          ],
          [
           "KANSAS",
           2012,
           "Romney",
           "R",
           "Obama",
           "D",
           0.5971132036921613,
           0.3799457055391902,
           0.21716749815297104
          ],
          [
           "KENTUCKY",
           2012,
           "Romney",
           "R",
           "Obama",
           "D",
           0.6049314159932162,
           0.37801327834445797,
           0.22691813764875823
          ],
          [
           "LOUISIANA",
           2012,
           "Romney",
           "R",
           "Obama",
           "D",
           0.5778457572847425,
           0.4057746362330215,
           0.172071121051721
          ],
          [
           "MAINE",
           2012,
           "Obama",
           "D",
           "Romney",
           "R",
           0.5537103419348252,
           0.40327392039825705,
           0.1504364215365681
          ],
          [
           "MARYLAND",
           2012,
           "Obama",
           "D",
           "Romney",
           "R",
           0.6197419077931849,
           0.3589773233894539,
           0.26076458440373107
          ],
          [
           "MASSACHUSETTS",
           2012,
           "Obama",
           "D",
           "Romney",
           "R",
           0.6033830832021647,
           0.37319122315334863,
           0.2301918600488161
          ],
          [
           "MICHIGAN",
           2012,
           "Obama",
           "D",
           "Romney",
           "R",
           0.5420820421051875,
           0.4471091602742022,
           0.09497288183098529
          ],
          [
           "MINNESOTA",
           2012,
           "Obama",
           "D",
           "Romney",
           "R",
           0.5265230315324626,
           0.4495820110666865,
           0.07694102046577611
          ],
          [
           "MISSISSIPPI",
           2012,
           "Romney",
           "R",
           "Obama",
           "D",
           0.5528584674358112,
           0.4378935954398935,
           0.11496487199591776
          ],
          [
           "MISSOURI",
           2012,
           "Romney",
           "R",
           "Obama",
           "D",
           0.5376374113587709,
           0.4438348354545333,
           0.09380257590423757
          ],
          [
           "MONTANA",
           2012,
           "Romney",
           "R",
           "Obama",
           "D",
           0.553515353849205,
           0.41698137374805805,
           0.13653398010114698
          ],
          [
           "NEBRASKA",
           2012,
           "Romney",
           "R",
           "Obama",
           "D",
           0.5980319217904804,
           0.38027314417928976,
           0.2177587776111906
          ],
          [
           "NEVADA",
           2012,
           "Obama",
           "D",
           "Romney",
           "R",
           0.5235624947040056,
           0.4567531564126363,
           0.06680933829136931
          ],
          [
           "NEW HAMPSHIRE",
           2012,
           "Obama",
           "D",
           "Romney",
           "R",
           0.5197968415071198,
           0.4640379649268888,
           0.05575887658023099
          ],
          [
           "NEW JERSEY",
           2012,
           "Obama",
           "D",
           "Romney",
           "R",
           0.5834235491063761,
           0.4062356482714438,
           0.17718790083493224
          ],
          [
           "NEW MEXICO",
           2012,
           "Obama",
           "D",
           "Romney",
           "R",
           0.5299276052046678,
           0.4284332663909013,
           0.10149433881376646
          ],
          [
           "NEW YORK",
           2012,
           "Obama",
           "D",
           "Romney",
           "R",
           0.6076098417487449,
           0.312415973282314,
           0.29519386846643086
          ],
          [
           "NORTH CAROLINA",
           2012,
           "Romney",
           "R",
           "Obama",
           "D",
           0.5039306410214295,
           0.48350968577067555,
           0.020420955250753936
          ],
          [
           "NORTH DAKOTA",
           2012,
           "Romney",
           "R",
           "Obama",
           "D",
           0.5831568255855722,
           0.38697310888979725,
           0.196183716695775
          ],
          [
           "OHIO",
           2012,
           "Obama",
           "D",
           "Romney",
           "R",
           0.5066674765831987,
           0.47688440878422567,
           0.029783067798972995
          ],
          [
           "OKLAHOMA",
           2012,
           "Romney",
           "R",
           "Obama",
           "D",
           0.6677231974301656,
           0.3322768025698344,
           0.33544639486033123
          ],
          [
           "OREGON",
           2012,
           "Obama",
           "D",
           "Romney",
           "R",
           0.54239326652769,
           0.42149871176513326,
           0.12089455476255678
          ],
          [
           "PENNSYLVANIA",
           2012,
           "Obama",
           "D",
           "Romney",
           "R",
           0.520768577021407,
           0.46680866033674445,
           0.053959916684662546
          ],
          [
           "RHODE ISLAND",
           2012,
           "Obama",
           "D",
           "Romney",
           "R",
           0.627009588632639,
           0.35243661570813967,
           0.27457297292449934
          ],
          [
           "SOUTH CAROLINA",
           2012,
           "Romney",
           "R",
           "Obama",
           "D",
           0.5456113125586141,
           0.4408803340736147,
           0.10473097848499935
          ],
          [
           "SOUTH DAKOTA",
           2012,
           "Romney",
           "R",
           "Obama",
           "D",
           0.5788931187554114,
           0.3986614075835246,
           0.1802317111718868
          ],
          [
           "TENNESSEE",
           2012,
           "Romney",
           "R",
           "Obama",
           "D",
           0.5947871471993759,
           0.39075814993795194,
           0.20402899726142393
          ],
          [
           "TEXAS",
           2012,
           "Romney",
           "R",
           "Obama",
           "D",
           0.5716697746805639,
           0.41383358283760857,
           0.15783619184295533
          ],
          [
           "UTAH",
           2012,
           "Romney",
           "R",
           "Obama",
           "D",
           0.727905331026891,
           0.2474966582796037,
           0.4804086727472873
          ],
          [
           "VERMONT",
           2012,
           "Obama",
           "D",
           "Romney",
           "R",
           0.665705503023823,
           0.3097263523672692,
           0.35597915065655383
          ],
          [
           "VIRGINIA",
           2012,
           "Obama",
           "D",
           "Romney",
           "R",
           0.5115645679621864,
           0.4728310289638912,
           0.038733538998295236
          ],
          [
           "WASHINGTON",
           2012,
           "Obama",
           "D",
           "Romney",
           "R",
           0.5616339829967276,
           0.4129462143210913,
           0.14868776867563632
          ],
          [
           "WEST VIRGINIA",
           2012,
           "Romney",
           "R",
           "Obama",
           "D",
           0.6229584241943327,
           0.3553930415638732,
           0.2675653826304595
          ],
          [
           "WISCONSIN",
           2012,
           "Obama",
           "D",
           "Romney",
           "R",
           0.5277616253515459,
           0.4593834671361976,
           0.06837815821534832
          ],
          [
           "WYOMING",
           2012,
           "Romney",
           "R",
           "Obama",
           "D",
           0.6819358518713527,
           0.2763690611525283,
           0.40556679071882445
          ]
         ],
         "geo": "geo",
         "geojson": "https://raw.githubusercontent.com/plotly/datasets/master/geojson-counties-fips.json",
         "hovertemplate": "%{customdata[0]}: %{customdata[1]}<br>%{customdata[2]}-%{customdata[3]} def. %{customdata[4]}-%{customdata[5]}<br>%{customdata[6]:.1%} to %{customdata[7]:.1%}<br>Margin: %{customdata[8]:.1%}<br><extra></extra>",
         "locationmode": "USA-states",
         "locations": [
          "AL",
          "AK",
          "AZ",
          "AR",
          "CA",
          "CO",
          "CT",
          "DE",
          "DC",
          "FL",
          "GA",
          "HI",
          "ID",
          "IL",
          "IN",
          "IA",
          "KS",
          "KY",
          "LA",
          "ME",
          "MD",
          "MA",
          "MI",
          "MN",
          "MS",
          "MO",
          "MT",
          "NE",
          "NV",
          "NH",
          "NJ",
          "NM",
          "NY",
          "NC",
          "ND",
          "OH",
          "OK",
          "OR",
          "PA",
          "RI",
          "SC",
          "SD",
          "TN",
          "TX",
          "UT",
          "VT",
          "VA",
          "WA",
          "WV",
          "WI",
          "WY"
         ],
         "name": "",
         "type": "choropleth",
         "z": [
          -0.22186789231070347,
          -0.13988918284830032,
          -0.09064766224175319,
          -0.23687945782389008,
          0.2311858062098484,
          0.05365134912567193,
          0.17339899011939386,
          0.18628137911039166,
          0.8363482251058673,
          0.00876887306723162,
          -0.0782128251064243,
          0.4246578476023598,
          -0.3190744993668305,
          0.1686939409166019,
          -0.10198229476166054,
          0.05810148023612988,
          -0.21716749815297104,
          -0.22691813764875823,
          -0.172071121051721,
          0.1504364215365681,
          0.26076458440373107,
          0.2301918600488161,
          0.09497288183098529,
          0.07694102046577611,
          -0.11496487199591776,
          -0.09380257590423757,
          -0.13653398010114698,
          -0.2177587776111906,
          0.06680933829136931,
          0.05575887658023099,
          0.17718790083493224,
          0.10149433881376646,
          0.29519386846643086,
          -0.020420955250753936,
          -0.196183716695775,
          0.029783067798972995,
          -0.33544639486033123,
          0.12089455476255678,
          0.053959916684662546,
          0.27457297292449934,
          -0.10473097848499935,
          -0.1802317111718868,
          -0.20402899726142393,
          -0.15783619184295533,
          -0.4804086727472873,
          0.35597915065655383,
          0.038733538998295236,
          0.14868776867563632,
          -0.2675653826304595,
          0.06837815821534832,
          -0.40556679071882445
         ]
        }
       ],
       "layout": {
        "coloraxis": {
         "cmax": 0.35,
         "cmid": 0,
         "cmin": -0.35,
         "colorbar": {
          "title": {
           "text": "DIFF_PCT"
          }
         },
         "colorscale": [
          [
           0,
           "rgb(103,0,31)"
          ],
          [
           0.1,
           "rgb(178,24,43)"
          ],
          [
           0.2,
           "rgb(214,96,77)"
          ],
          [
           0.3,
           "rgb(244,165,130)"
          ],
          [
           0.4,
           "rgb(253,219,199)"
          ],
          [
           0.5,
           "rgb(247,247,247)"
          ],
          [
           0.6,
           "rgb(209,229,240)"
          ],
          [
           0.7,
           "rgb(146,197,222)"
          ],
          [
           0.8,
           "rgb(67,147,195)"
          ],
          [
           0.9,
           "rgb(33,102,172)"
          ],
          [
           1,
           "rgb(5,48,97)"
          ]
         ]
        },
        "geo": {
         "center": {},
         "domain": {
          "x": [
           0,
           1
          ],
          "y": [
           0,
           1
          ]
         },
         "scope": "usa"
        },
        "legend": {
         "tracegroupgap": 0
        },
        "margin": {
         "b": 0,
         "l": 0,
         "r": 0,
         "t": 0
        },
        "template": {
         "data": {
          "bar": [
           {
            "error_x": {
             "color": "#2a3f5f"
            },
            "error_y": {
             "color": "#2a3f5f"
            },
            "marker": {
             "line": {
              "color": "#E5ECF6",
              "width": 0.5
             },
             "pattern": {
              "fillmode": "overlay",
              "size": 10,
              "solidity": 0.2
             }
            },
            "type": "bar"
           }
          ],
          "barpolar": [
           {
            "marker": {
             "line": {
              "color": "#E5ECF6",
              "width": 0.5
             },
             "pattern": {
              "fillmode": "overlay",
              "size": 10,
              "solidity": 0.2
             }
            },
            "type": "barpolar"
           }
          ],
          "carpet": [
           {
            "aaxis": {
             "endlinecolor": "#2a3f5f",
             "gridcolor": "white",
             "linecolor": "white",
             "minorgridcolor": "white",
             "startlinecolor": "#2a3f5f"
            },
            "baxis": {
             "endlinecolor": "#2a3f5f",
             "gridcolor": "white",
             "linecolor": "white",
             "minorgridcolor": "white",
             "startlinecolor": "#2a3f5f"
            },
            "type": "carpet"
           }
          ],
          "choropleth": [
           {
            "colorbar": {
             "outlinewidth": 0,
             "ticks": ""
            },
            "type": "choropleth"
           }
          ],
          "contour": [
           {
            "colorbar": {
             "outlinewidth": 0,
             "ticks": ""
            },
            "colorscale": [
             [
              0,
              "#0d0887"
             ],
             [
              0.1111111111111111,
              "#46039f"
             ],
             [
              0.2222222222222222,
              "#7201a8"
             ],
             [
              0.3333333333333333,
              "#9c179e"
             ],
             [
              0.4444444444444444,
              "#bd3786"
             ],
             [
              0.5555555555555556,
              "#d8576b"
             ],
             [
              0.6666666666666666,
              "#ed7953"
             ],
             [
              0.7777777777777778,
              "#fb9f3a"
             ],
             [
              0.8888888888888888,
              "#fdca26"
             ],
             [
              1,
              "#f0f921"
             ]
            ],
            "type": "contour"
           }
          ],
          "contourcarpet": [
           {
            "colorbar": {
             "outlinewidth": 0,
             "ticks": ""
            },
            "type": "contourcarpet"
           }
          ],
          "heatmap": [
           {
            "colorbar": {
             "outlinewidth": 0,
             "ticks": ""
            },
            "colorscale": [
             [
              0,
              "#0d0887"
             ],
             [
              0.1111111111111111,
              "#46039f"
             ],
             [
              0.2222222222222222,
              "#7201a8"
             ],
             [
              0.3333333333333333,
              "#9c179e"
             ],
             [
              0.4444444444444444,
              "#bd3786"
             ],
             [
              0.5555555555555556,
              "#d8576b"
             ],
             [
              0.6666666666666666,
              "#ed7953"
             ],
             [
              0.7777777777777778,
              "#fb9f3a"
             ],
             [
              0.8888888888888888,
              "#fdca26"
             ],
             [
              1,
              "#f0f921"
             ]
            ],
            "type": "heatmap"
           }
          ],
          "heatmapgl": [
           {
            "colorbar": {
             "outlinewidth": 0,
             "ticks": ""
            },
            "colorscale": [
             [
              0,
              "#0d0887"
             ],
             [
              0.1111111111111111,
              "#46039f"
             ],
             [
              0.2222222222222222,
              "#7201a8"
             ],
             [
              0.3333333333333333,
              "#9c179e"
             ],
             [
              0.4444444444444444,
              "#bd3786"
             ],
             [
              0.5555555555555556,
              "#d8576b"
             ],
             [
              0.6666666666666666,
              "#ed7953"
             ],
             [
              0.7777777777777778,
              "#fb9f3a"
             ],
             [
              0.8888888888888888,
              "#fdca26"
             ],
             [
              1,
              "#f0f921"
             ]
            ],
            "type": "heatmapgl"
           }
          ],
          "histogram": [
           {
            "marker": {
             "pattern": {
              "fillmode": "overlay",
              "size": 10,
              "solidity": 0.2
             }
            },
            "type": "histogram"
           }
          ],
          "histogram2d": [
           {
            "colorbar": {
             "outlinewidth": 0,
             "ticks": ""
            },
            "colorscale": [
             [
              0,
              "#0d0887"
             ],
             [
              0.1111111111111111,
              "#46039f"
             ],
             [
              0.2222222222222222,
              "#7201a8"
             ],
             [
              0.3333333333333333,
              "#9c179e"
             ],
             [
              0.4444444444444444,
              "#bd3786"
             ],
             [
              0.5555555555555556,
              "#d8576b"
             ],
             [
              0.6666666666666666,
              "#ed7953"
             ],
             [
              0.7777777777777778,
              "#fb9f3a"
             ],
             [
              0.8888888888888888,
              "#fdca26"
             ],
             [
              1,
              "#f0f921"
             ]
            ],
            "type": "histogram2d"
           }
          ],
          "histogram2dcontour": [
           {
            "colorbar": {
             "outlinewidth": 0,
             "ticks": ""
            },
            "colorscale": [
             [
              0,
              "#0d0887"
             ],
             [
              0.1111111111111111,
              "#46039f"
             ],
             [
              0.2222222222222222,
              "#7201a8"
             ],
             [
              0.3333333333333333,
              "#9c179e"
             ],
             [
              0.4444444444444444,
              "#bd3786"
             ],
             [
              0.5555555555555556,
              "#d8576b"
             ],
             [
              0.6666666666666666,
              "#ed7953"
             ],
             [
              0.7777777777777778,
              "#fb9f3a"
             ],
             [
              0.8888888888888888,
              "#fdca26"
             ],
             [
              1,
              "#f0f921"
             ]
            ],
            "type": "histogram2dcontour"
           }
          ],
          "mesh3d": [
           {
            "colorbar": {
             "outlinewidth": 0,
             "ticks": ""
            },
            "type": "mesh3d"
           }
          ],
          "parcoords": [
           {
            "line": {
             "colorbar": {
              "outlinewidth": 0,
              "ticks": ""
             }
            },
            "type": "parcoords"
           }
          ],
          "pie": [
           {
            "automargin": true,
            "type": "pie"
           }
          ],
          "scatter": [
           {
            "fillpattern": {
             "fillmode": "overlay",
             "size": 10,
             "solidity": 0.2
            },
            "type": "scatter"
           }
          ],
          "scatter3d": [
           {
            "line": {
             "colorbar": {
              "outlinewidth": 0,
              "ticks": ""
             }
            },
            "marker": {
             "colorbar": {
              "outlinewidth": 0,
              "ticks": ""
             }
            },
            "type": "scatter3d"
           }
          ],
          "scattercarpet": [
           {
            "marker": {
             "colorbar": {
              "outlinewidth": 0,
              "ticks": ""
             }
            },
            "type": "scattercarpet"
           }
          ],
          "scattergeo": [
           {
            "marker": {
             "colorbar": {
              "outlinewidth": 0,
              "ticks": ""
             }
            },
            "type": "scattergeo"
           }
          ],
          "scattergl": [
           {
            "marker": {
             "colorbar": {
              "outlinewidth": 0,
              "ticks": ""
             }
            },
            "type": "scattergl"
           }
          ],
          "scattermapbox": [
           {
            "marker": {
             "colorbar": {
              "outlinewidth": 0,
              "ticks": ""
             }
            },
            "type": "scattermapbox"
           }
          ],
          "scatterpolar": [
           {
            "marker": {
             "colorbar": {
              "outlinewidth": 0,
              "ticks": ""
             }
            },
            "type": "scatterpolar"
           }
          ],
          "scatterpolargl": [
           {
            "marker": {
             "colorbar": {
              "outlinewidth": 0,
              "ticks": ""
             }
            },
            "type": "scatterpolargl"
           }
          ],
          "scatterternary": [
           {
            "marker": {
             "colorbar": {
              "outlinewidth": 0,
              "ticks": ""
             }
            },
            "type": "scatterternary"
           }
          ],
          "surface": [
           {
            "colorbar": {
             "outlinewidth": 0,
             "ticks": ""
            },
            "colorscale": [
             [
              0,
              "#0d0887"
             ],
             [
              0.1111111111111111,
              "#46039f"
             ],
             [
              0.2222222222222222,
              "#7201a8"
             ],
             [
              0.3333333333333333,
              "#9c179e"
             ],
             [
              0.4444444444444444,
              "#bd3786"
             ],
             [
              0.5555555555555556,
              "#d8576b"
             ],
             [
              0.6666666666666666,
              "#ed7953"
             ],
             [
              0.7777777777777778,
              "#fb9f3a"
             ],
             [
              0.8888888888888888,
              "#fdca26"
             ],
             [
              1,
              "#f0f921"
             ]
            ],
            "type": "surface"
           }
          ],
          "table": [
           {
            "cells": {
             "fill": {
              "color": "#EBF0F8"
             },
             "line": {
              "color": "white"
             }
            },
            "header": {
             "fill": {
              "color": "#C8D4E3"
             },
             "line": {
              "color": "white"
             }
            },
            "type": "table"
           }
          ]
         },
         "layout": {
          "annotationdefaults": {
           "arrowcolor": "#2a3f5f",
           "arrowhead": 0,
           "arrowwidth": 1
          },
          "autotypenumbers": "strict",
          "coloraxis": {
           "colorbar": {
            "outlinewidth": 0,
            "ticks": ""
           }
          },
          "colorscale": {
           "diverging": [
            [
             0,
             "#8e0152"
            ],
            [
             0.1,
             "#c51b7d"
            ],
            [
             0.2,
             "#de77ae"
            ],
            [
             0.3,
             "#f1b6da"
            ],
            [
             0.4,
             "#fde0ef"
            ],
            [
             0.5,
             "#f7f7f7"
            ],
            [
             0.6,
             "#e6f5d0"
            ],
            [
             0.7,
             "#b8e186"
            ],
            [
             0.8,
             "#7fbc41"
            ],
            [
             0.9,
             "#4d9221"
            ],
            [
             1,
             "#276419"
            ]
           ],
           "sequential": [
            [
             0,
             "#0d0887"
            ],
            [
             0.1111111111111111,
             "#46039f"
            ],
            [
             0.2222222222222222,
             "#7201a8"
            ],
            [
             0.3333333333333333,
             "#9c179e"
            ],
            [
             0.4444444444444444,
             "#bd3786"
            ],
            [
             0.5555555555555556,
             "#d8576b"
            ],
            [
             0.6666666666666666,
             "#ed7953"
            ],
            [
             0.7777777777777778,
             "#fb9f3a"
            ],
            [
             0.8888888888888888,
             "#fdca26"
            ],
            [
             1,
             "#f0f921"
            ]
           ],
           "sequentialminus": [
            [
             0,
             "#0d0887"
            ],
            [
             0.1111111111111111,
             "#46039f"
            ],
            [
             0.2222222222222222,
             "#7201a8"
            ],
            [
             0.3333333333333333,
             "#9c179e"
            ],
            [
             0.4444444444444444,
             "#bd3786"
            ],
            [
             0.5555555555555556,
             "#d8576b"
            ],
            [
             0.6666666666666666,
             "#ed7953"
            ],
            [
             0.7777777777777778,
             "#fb9f3a"
            ],
            [
             0.8888888888888888,
             "#fdca26"
            ],
            [
             1,
             "#f0f921"
            ]
           ]
          },
          "colorway": [
           "#636efa",
           "#EF553B",
           "#00cc96",
           "#ab63fa",
           "#FFA15A",
           "#19d3f3",
           "#FF6692",
           "#B6E880",
           "#FF97FF",
           "#FECB52"
          ],
          "font": {
           "color": "#2a3f5f"
          },
          "geo": {
           "bgcolor": "white",
           "lakecolor": "white",
           "landcolor": "#E5ECF6",
           "showlakes": true,
           "showland": true,
           "subunitcolor": "white"
          },
          "hoverlabel": {
           "align": "left"
          },
          "hovermode": "closest",
          "mapbox": {
           "style": "light"
          },
          "paper_bgcolor": "white",
          "plot_bgcolor": "#E5ECF6",
          "polar": {
           "angularaxis": {
            "gridcolor": "white",
            "linecolor": "white",
            "ticks": ""
           },
           "bgcolor": "#E5ECF6",
           "radialaxis": {
            "gridcolor": "white",
            "linecolor": "white",
            "ticks": ""
           }
          },
          "scene": {
           "xaxis": {
            "backgroundcolor": "#E5ECF6",
            "gridcolor": "white",
            "gridwidth": 2,
            "linecolor": "white",
            "showbackground": true,
            "ticks": "",
            "zerolinecolor": "white"
           },
           "yaxis": {
            "backgroundcolor": "#E5ECF6",
            "gridcolor": "white",
            "gridwidth": 2,
            "linecolor": "white",
            "showbackground": true,
            "ticks": "",
            "zerolinecolor": "white"
           },
           "zaxis": {
            "backgroundcolor": "#E5ECF6",
            "gridcolor": "white",
            "gridwidth": 2,
            "linecolor": "white",
            "showbackground": true,
            "ticks": "",
            "zerolinecolor": "white"
           }
          },
          "shapedefaults": {
           "line": {
            "color": "#2a3f5f"
           }
          },
          "ternary": {
           "aaxis": {
            "gridcolor": "white",
            "linecolor": "white",
            "ticks": ""
           },
           "baxis": {
            "gridcolor": "white",
            "linecolor": "white",
            "ticks": ""
           },
           "bgcolor": "#E5ECF6",
           "caxis": {
            "gridcolor": "white",
            "linecolor": "white",
            "ticks": ""
           }
          },
          "title": {
           "x": 0.05
          },
          "xaxis": {
           "automargin": true,
           "gridcolor": "white",
           "linecolor": "white",
           "ticks": "",
           "title": {
            "standoff": 15
           },
           "zerolinecolor": "white",
           "zerolinewidth": 2
          },
          "yaxis": {
           "automargin": true,
           "gridcolor": "white",
           "linecolor": "white",
           "ticks": "",
           "title": {
            "standoff": 15
           },
           "zerolinecolor": "white",
           "zerolinewidth": 2
          }
         }
        },
        "title": {
         "text": "2012"
        }
       }
      }
     },
     "metadata": {},
     "output_type": "display_data"
    },
    {
     "name": "stdout",
     "output_type": "stream",
     "text": [
      "\n",
      "\n",
      "\n",
      "\n",
      "\n",
      "                                                   2016\n"
     ]
    },
    {
     "data": {
      "application/vnd.plotly.v1+json": {
       "config": {
        "plotlyServerURL": "https://plot.ly"
       },
       "data": [
        {
         "coloraxis": "coloraxis",
         "customdata": [
          [
           "ALABAMA",
           2016,
           "Trump",
           "R",
           "Clinton H.",
           "D",
           0.6208309236440906,
           0.3435794575797364,
           0.27725146606435425
          ],
          [
           "ALASKA",
           2016,
           "Trump",
           "R",
           "Clinton H.",
           "D",
           0.5128151207753728,
           0.36550871290111986,
           0.14730640787425298
          ],
          [
           "ARIZONA",
           2016,
           "Trump",
           "R",
           "Clinton H.",
           "D",
           0.4867161647232105,
           0.4512602184469321,
           0.035455946276278405
          ],
          [
           "ARKANSAS",
           2016,
           "Trump",
           "R",
           "Clinton H.",
           "D",
           0.6057410216382829,
           0.33653124129360934,
           0.2692097803446736
          ],
          [
           "CALIFORNIA",
           2016,
           "Clinton H.",
           "D",
           "Trump",
           "R",
           0.6172639960455788,
           0.3161710653843943,
           0.3010929306611845
          ],
          [
           "COLORADO",
           2016,
           "Clinton H.",
           "D",
           "Trump",
           "R",
           0.48156980382847403,
           0.4325139737143104,
           0.049055830114163645
          ],
          [
           "CONNECTICUT",
           2016,
           "Clinton H.",
           "D",
           "Trump",
           "R",
           0.5456630109670987,
           0.40926914378814777,
           0.1363938671789509
          ],
          [
           "DELAWARE",
           2016,
           "Clinton H.",
           "D",
           "Trump",
           "R",
           0.5335333680563419,
           0.41922824339319276,
           0.11430512466314913
          ],
          [
           "DISTRICT OF COLUMBIA",
           2016,
           "Clinton H.",
           "D",
           "Trump",
           "R",
           0.9048388386787171,
           0.04070383108054067,
           0.8641350075981764
          ],
          [
           "FLORIDA",
           2016,
           "Trump",
           "R",
           "Clinton H.",
           "D",
           0.49021941416590736,
           0.4782331580580505,
           0.011986256107856863
          ],
          [
           "GEORGIA",
           2016,
           "Trump",
           "R",
           "Clinton H.",
           "D",
           0.50771326054771,
           0.4563998335736082,
           0.05131342697410185
          ],
          [
           "HAWAII",
           2016,
           "Clinton H.",
           "D",
           "Trump",
           "R",
           0.6098079805512905,
           0.29439707172625573,
           0.31541090882503475
          ],
          [
           "IDAHO",
           2016,
           "Trump",
           "R",
           "Clinton H.",
           "D",
           0.5926143236919689,
           0.27492013820979205,
           0.3176941854821768
          ],
          [
           "ILLINOIS",
           2016,
           "Clinton H.",
           "D",
           "Trump",
           "R",
           0.558253666987933,
           0.3876175307382527,
           0.17063613624968027
          ],
          [
           "INDIANA",
           2016,
           "Trump",
           "R",
           "Clinton H.",
           "D",
           0.5694003344841128,
           0.37774839686752043,
           0.19165193761659233
          ],
          [
           "IOWA",
           2016,
           "Trump",
           "R",
           "Clinton H.",
           "D",
           0.5116206134467737,
           0.41752513445496237,
           0.09409547899181131
          ],
          [
           "KANSAS",
           2016,
           "Trump",
           "R",
           "Clinton H.",
           "D",
           0.5665458180583958,
           0.36052370732234496,
           0.2060221107360508
          ],
          [
           "KENTUCKY",
           2016,
           "Trump",
           "R",
           "Clinton H.",
           "D",
           0.6251963855190009,
           0.3268218833364776,
           0.2983745021825233
          ],
          [
           "LOUISIANA",
           2016,
           "Trump",
           "R",
           "Clinton H.",
           "D",
           0.580886846535688,
           0.3844956609851397,
           0.1963911855505483
          ],
          [
           "MAINE",
           2016,
           "Clinton H.",
           "D",
           "Trump",
           "R",
           0.4634521409730895,
           0.43476678084498865,
           0.028685360128100856
          ],
          [
           "MARYLAND",
           2016,
           "Clinton H.",
           "D",
           "Trump",
           "R",
           0.6032854853195064,
           0.3391861643188471,
           0.2640993210006593
          ],
          [
           "MASSACHUSETTS",
           2016,
           "Clinton H.",
           "D",
           "Trump",
           "R",
           0.5905006509667129,
           0.3228620279085515,
           0.2676386230581614
          ],
          [
           "MICHIGAN",
           2016,
           "Trump",
           "R",
           "Clinton H.",
           "D",
           0.47497564219996147,
           0.4727453095086684,
           0.00223033269129308
          ],
          [
           "MINNESOTA",
           2016,
           "Clinton H.",
           "D",
           "Trump",
           "R",
           0.4644503396176695,
           0.4492519310427733,
           0.015198408574896238
          ],
          [
           "MISSISSIPPI",
           2016,
           "Trump",
           "R",
           "Clinton H.",
           "D",
           0.5794103808883564,
           0.40114788271784096,
           0.17826249817051543
          ],
          [
           "MISSOURI",
           2016,
           "Trump",
           "R",
           "Clinton H.",
           "D",
           0.5677234783816165,
           0.3813523083523671,
           0.1863711700292494
          ],
          [
           "MONTANA",
           2016,
           "Trump",
           "R",
           "Clinton H.",
           "D",
           0.5646619186857719,
           0.35935218775150346,
           0.2053097309342684
          ],
          [
           "NEBRASKA",
           2016,
           "Trump",
           "R",
           "Clinton H.",
           "D",
           0.5874735112712576,
           0.33698756377135536,
           0.2504859474999022
          ],
          [
           "NEVADA",
           2016,
           "Clinton H.",
           "D",
           "Trump",
           "R",
           0.4791782367811904,
           0.4550069531760242,
           0.02417128360516624
          ],
          [
           "NEW HAMPSHIRE",
           2016,
           "Clinton H.",
           "D",
           "Trump",
           "R",
           0.46826262669690555,
           0.46458666981953417,
           0.003675956877371378
          ],
          [
           "NEW JERSEY",
           2016,
           "Clinton H.",
           "D",
           "Trump",
           "R",
           0.554530844496942,
           0.4135038665002945,
           0.14102697799664748
          ],
          [
           "NEW MEXICO",
           2016,
           "Clinton H.",
           "D",
           "Trump",
           "R",
           0.48255647178634103,
           0.40042514333242724,
           0.0821313284539138
          ],
          [
           "NEW YORK",
           2016,
           "Clinton H.",
           "D",
           "Trump",
           "R",
           0.5613614259984896,
           0.32390602305742927,
           0.23745540294106032
          ],
          [
           "NORTH CAROLINA",
           2016,
           "Trump",
           "R",
           "Clinton H.",
           "D",
           0.49828094696180414,
           0.46172866168209475,
           0.036552285279709384
          ],
          [
           "NORTH DAKOTA",
           2016,
           "Trump",
           "R",
           "Clinton H.",
           "D",
           0.629556278313393,
           0.27226739458706006,
           0.35728888372633294
          ],
          [
           "OHIO",
           2016,
           "Trump",
           "R",
           "Clinton H.",
           "D",
           0.5168765067578619,
           0.4355807627672002,
           0.0812957439906617
          ],
          [
           "OKLAHOMA",
           2016,
           "Trump",
           "R",
           "Clinton H.",
           "D",
           0.6532286481962736,
           0.2893168028454389,
           0.36391184535083465
          ],
          [
           "OREGON",
           2016,
           "Clinton H.",
           "D",
           "Trump",
           "R",
           0.5007185200286208,
           0.39094035184496756,
           0.10977816818365327
          ],
          [
           "PENNSYLVANIA",
           2016,
           "Trump",
           "R",
           "Clinton H.",
           "D",
           0.4857788580374602,
           0.4785361616456285,
           0.007242696391831671
          ],
          [
           "RHODE ISLAND",
           2016,
           "Clinton H.",
           "D",
           "Trump",
           "R",
           0.5440660657037472,
           0.3889805749939674,
           0.15508549070977978
          ],
          [
           "SOUTH CAROLINA",
           2016,
           "Trump",
           "R",
           "Clinton H.",
           "D",
           0.5493933268569543,
           0.4067341978966509,
           0.14265912896030342
          ],
          [
           "SOUTH DAKOTA",
           2016,
           "Trump",
           "R",
           "Clinton H.",
           "D",
           0.615307503789588,
           0.3173742815994899,
           0.2979332221900981
          ],
          [
           "TENNESSEE",
           2016,
           "Trump",
           "R",
           "Clinton H.",
           "D",
           0.6072203369421462,
           0.34716332798650096,
           0.2600570089556452
          ],
          [
           "TEXAS",
           2016,
           "Trump",
           "R",
           "Clinton H.",
           "D",
           0.5223468557933538,
           0.4323525798101196,
           0.08999427598323423
          ],
          [
           "UTAH",
           2016,
           "Trump",
           "R",
           "Clinton H.",
           "D",
           0.4554081658810042,
           0.2746126859226901,
           0.18079547995831408
          ],
          [
           "VERMONT",
           2016,
           "Clinton H.",
           "D",
           "Trump",
           "R",
           0.5572274212321393,
           0.29759382401308093,
           0.2596335972190584
          ],
          [
           "VIRGINIA",
           2016,
           "Clinton H.",
           "D",
           "Trump",
           "R",
           0.49751352833417695,
           0.44427647013924043,
           0.053237058194936515
          ],
          [
           "WASHINGTON",
           2016,
           "Clinton H.",
           "D",
           "Trump",
           "R",
           0.5253868006182659,
           0.3683268018663746,
           0.1570599987518913
          ],
          [
           "WEST VIRGINIA",
           2016,
           "Trump",
           "R",
           "Clinton H.",
           "D",
           0.6863057481161936,
           0.26476928017771517,
           0.42153646793847843
          ],
          [
           "WISCONSIN",
           2016,
           "Trump",
           "R",
           "Clinton H.",
           "D",
           0.4721818456731012,
           0.4645384137224266,
           0.007643431950674573
          ],
          [
           "WYOMING",
           2016,
           "Trump",
           "R",
           "Clinton H.",
           "D",
           0.6739841105460841,
           0.2162890087639303,
           0.4576951017821538
          ]
         ],
         "geo": "geo",
         "geojson": "https://raw.githubusercontent.com/plotly/datasets/master/geojson-counties-fips.json",
         "hovertemplate": "%{customdata[0]}: %{customdata[1]}<br>%{customdata[2]}-%{customdata[3]} def. %{customdata[4]}-%{customdata[5]}<br>%{customdata[6]:.1%} to %{customdata[7]:.1%}<br>Margin: %{customdata[8]:.1%}<br><extra></extra>",
         "locationmode": "USA-states",
         "locations": [
          "AL",
          "AK",
          "AZ",
          "AR",
          "CA",
          "CO",
          "CT",
          "DE",
          "DC",
          "FL",
          "GA",
          "HI",
          "ID",
          "IL",
          "IN",
          "IA",
          "KS",
          "KY",
          "LA",
          "ME",
          "MD",
          "MA",
          "MI",
          "MN",
          "MS",
          "MO",
          "MT",
          "NE",
          "NV",
          "NH",
          "NJ",
          "NM",
          "NY",
          "NC",
          "ND",
          "OH",
          "OK",
          "OR",
          "PA",
          "RI",
          "SC",
          "SD",
          "TN",
          "TX",
          "UT",
          "VT",
          "VA",
          "WA",
          "WV",
          "WI",
          "WY"
         ],
         "name": "",
         "type": "choropleth",
         "z": [
          -0.27725146606435425,
          -0.14730640787425298,
          -0.035455946276278405,
          -0.2692097803446736,
          0.3010929306611845,
          0.049055830114163645,
          0.1363938671789509,
          0.11430512466314913,
          0.8641350075981764,
          -0.011986256107856863,
          -0.05131342697410185,
          0.31541090882503475,
          -0.3176941854821768,
          0.17063613624968027,
          -0.19165193761659233,
          -0.09409547899181131,
          -0.2060221107360508,
          -0.2983745021825233,
          -0.1963911855505483,
          0.028685360128100856,
          0.2640993210006593,
          0.2676386230581614,
          -0.00223033269129308,
          0.015198408574896238,
          -0.17826249817051543,
          -0.1863711700292494,
          -0.2053097309342684,
          -0.2504859474999022,
          0.02417128360516624,
          0.003675956877371378,
          0.14102697799664748,
          0.0821313284539138,
          0.23745540294106032,
          -0.036552285279709384,
          -0.35728888372633294,
          -0.0812957439906617,
          -0.36391184535083465,
          0.10977816818365327,
          -0.007242696391831671,
          0.15508549070977978,
          -0.14265912896030342,
          -0.2979332221900981,
          -0.2600570089556452,
          -0.08999427598323423,
          -0.18079547995831408,
          0.2596335972190584,
          0.053237058194936515,
          0.1570599987518913,
          -0.42153646793847843,
          -0.007643431950674573,
          -0.4576951017821538
         ]
        }
       ],
       "layout": {
        "coloraxis": {
         "cmax": 0.35,
         "cmid": 0,
         "cmin": -0.35,
         "colorbar": {
          "title": {
           "text": "DIFF_PCT"
          }
         },
         "colorscale": [
          [
           0,
           "rgb(103,0,31)"
          ],
          [
           0.1,
           "rgb(178,24,43)"
          ],
          [
           0.2,
           "rgb(214,96,77)"
          ],
          [
           0.3,
           "rgb(244,165,130)"
          ],
          [
           0.4,
           "rgb(253,219,199)"
          ],
          [
           0.5,
           "rgb(247,247,247)"
          ],
          [
           0.6,
           "rgb(209,229,240)"
          ],
          [
           0.7,
           "rgb(146,197,222)"
          ],
          [
           0.8,
           "rgb(67,147,195)"
          ],
          [
           0.9,
           "rgb(33,102,172)"
          ],
          [
           1,
           "rgb(5,48,97)"
          ]
         ]
        },
        "geo": {
         "center": {},
         "domain": {
          "x": [
           0,
           1
          ],
          "y": [
           0,
           1
          ]
         },
         "scope": "usa"
        },
        "legend": {
         "tracegroupgap": 0
        },
        "margin": {
         "b": 0,
         "l": 0,
         "r": 0,
         "t": 0
        },
        "template": {
         "data": {
          "bar": [
           {
            "error_x": {
             "color": "#2a3f5f"
            },
            "error_y": {
             "color": "#2a3f5f"
            },
            "marker": {
             "line": {
              "color": "#E5ECF6",
              "width": 0.5
             },
             "pattern": {
              "fillmode": "overlay",
              "size": 10,
              "solidity": 0.2
             }
            },
            "type": "bar"
           }
          ],
          "barpolar": [
           {
            "marker": {
             "line": {
              "color": "#E5ECF6",
              "width": 0.5
             },
             "pattern": {
              "fillmode": "overlay",
              "size": 10,
              "solidity": 0.2
             }
            },
            "type": "barpolar"
           }
          ],
          "carpet": [
           {
            "aaxis": {
             "endlinecolor": "#2a3f5f",
             "gridcolor": "white",
             "linecolor": "white",
             "minorgridcolor": "white",
             "startlinecolor": "#2a3f5f"
            },
            "baxis": {
             "endlinecolor": "#2a3f5f",
             "gridcolor": "white",
             "linecolor": "white",
             "minorgridcolor": "white",
             "startlinecolor": "#2a3f5f"
            },
            "type": "carpet"
           }
          ],
          "choropleth": [
           {
            "colorbar": {
             "outlinewidth": 0,
             "ticks": ""
            },
            "type": "choropleth"
           }
          ],
          "contour": [
           {
            "colorbar": {
             "outlinewidth": 0,
             "ticks": ""
            },
            "colorscale": [
             [
              0,
              "#0d0887"
             ],
             [
              0.1111111111111111,
              "#46039f"
             ],
             [
              0.2222222222222222,
              "#7201a8"
             ],
             [
              0.3333333333333333,
              "#9c179e"
             ],
             [
              0.4444444444444444,
              "#bd3786"
             ],
             [
              0.5555555555555556,
              "#d8576b"
             ],
             [
              0.6666666666666666,
              "#ed7953"
             ],
             [
              0.7777777777777778,
              "#fb9f3a"
             ],
             [
              0.8888888888888888,
              "#fdca26"
             ],
             [
              1,
              "#f0f921"
             ]
            ],
            "type": "contour"
           }
          ],
          "contourcarpet": [
           {
            "colorbar": {
             "outlinewidth": 0,
             "ticks": ""
            },
            "type": "contourcarpet"
           }
          ],
          "heatmap": [
           {
            "colorbar": {
             "outlinewidth": 0,
             "ticks": ""
            },
            "colorscale": [
             [
              0,
              "#0d0887"
             ],
             [
              0.1111111111111111,
              "#46039f"
             ],
             [
              0.2222222222222222,
              "#7201a8"
             ],
             [
              0.3333333333333333,
              "#9c179e"
             ],
             [
              0.4444444444444444,
              "#bd3786"
             ],
             [
              0.5555555555555556,
              "#d8576b"
             ],
             [
              0.6666666666666666,
              "#ed7953"
             ],
             [
              0.7777777777777778,
              "#fb9f3a"
             ],
             [
              0.8888888888888888,
              "#fdca26"
             ],
             [
              1,
              "#f0f921"
             ]
            ],
            "type": "heatmap"
           }
          ],
          "heatmapgl": [
           {
            "colorbar": {
             "outlinewidth": 0,
             "ticks": ""
            },
            "colorscale": [
             [
              0,
              "#0d0887"
             ],
             [
              0.1111111111111111,
              "#46039f"
             ],
             [
              0.2222222222222222,
              "#7201a8"
             ],
             [
              0.3333333333333333,
              "#9c179e"
             ],
             [
              0.4444444444444444,
              "#bd3786"
             ],
             [
              0.5555555555555556,
              "#d8576b"
             ],
             [
              0.6666666666666666,
              "#ed7953"
             ],
             [
              0.7777777777777778,
              "#fb9f3a"
             ],
             [
              0.8888888888888888,
              "#fdca26"
             ],
             [
              1,
              "#f0f921"
             ]
            ],
            "type": "heatmapgl"
           }
          ],
          "histogram": [
           {
            "marker": {
             "pattern": {
              "fillmode": "overlay",
              "size": 10,
              "solidity": 0.2
             }
            },
            "type": "histogram"
           }
          ],
          "histogram2d": [
           {
            "colorbar": {
             "outlinewidth": 0,
             "ticks": ""
            },
            "colorscale": [
             [
              0,
              "#0d0887"
             ],
             [
              0.1111111111111111,
              "#46039f"
             ],
             [
              0.2222222222222222,
              "#7201a8"
             ],
             [
              0.3333333333333333,
              "#9c179e"
             ],
             [
              0.4444444444444444,
              "#bd3786"
             ],
             [
              0.5555555555555556,
              "#d8576b"
             ],
             [
              0.6666666666666666,
              "#ed7953"
             ],
             [
              0.7777777777777778,
              "#fb9f3a"
             ],
             [
              0.8888888888888888,
              "#fdca26"
             ],
             [
              1,
              "#f0f921"
             ]
            ],
            "type": "histogram2d"
           }
          ],
          "histogram2dcontour": [
           {
            "colorbar": {
             "outlinewidth": 0,
             "ticks": ""
            },
            "colorscale": [
             [
              0,
              "#0d0887"
             ],
             [
              0.1111111111111111,
              "#46039f"
             ],
             [
              0.2222222222222222,
              "#7201a8"
             ],
             [
              0.3333333333333333,
              "#9c179e"
             ],
             [
              0.4444444444444444,
              "#bd3786"
             ],
             [
              0.5555555555555556,
              "#d8576b"
             ],
             [
              0.6666666666666666,
              "#ed7953"
             ],
             [
              0.7777777777777778,
              "#fb9f3a"
             ],
             [
              0.8888888888888888,
              "#fdca26"
             ],
             [
              1,
              "#f0f921"
             ]
            ],
            "type": "histogram2dcontour"
           }
          ],
          "mesh3d": [
           {
            "colorbar": {
             "outlinewidth": 0,
             "ticks": ""
            },
            "type": "mesh3d"
           }
          ],
          "parcoords": [
           {
            "line": {
             "colorbar": {
              "outlinewidth": 0,
              "ticks": ""
             }
            },
            "type": "parcoords"
           }
          ],
          "pie": [
           {
            "automargin": true,
            "type": "pie"
           }
          ],
          "scatter": [
           {
            "fillpattern": {
             "fillmode": "overlay",
             "size": 10,
             "solidity": 0.2
            },
            "type": "scatter"
           }
          ],
          "scatter3d": [
           {
            "line": {
             "colorbar": {
              "outlinewidth": 0,
              "ticks": ""
             }
            },
            "marker": {
             "colorbar": {
              "outlinewidth": 0,
              "ticks": ""
             }
            },
            "type": "scatter3d"
           }
          ],
          "scattercarpet": [
           {
            "marker": {
             "colorbar": {
              "outlinewidth": 0,
              "ticks": ""
             }
            },
            "type": "scattercarpet"
           }
          ],
          "scattergeo": [
           {
            "marker": {
             "colorbar": {
              "outlinewidth": 0,
              "ticks": ""
             }
            },
            "type": "scattergeo"
           }
          ],
          "scattergl": [
           {
            "marker": {
             "colorbar": {
              "outlinewidth": 0,
              "ticks": ""
             }
            },
            "type": "scattergl"
           }
          ],
          "scattermapbox": [
           {
            "marker": {
             "colorbar": {
              "outlinewidth": 0,
              "ticks": ""
             }
            },
            "type": "scattermapbox"
           }
          ],
          "scatterpolar": [
           {
            "marker": {
             "colorbar": {
              "outlinewidth": 0,
              "ticks": ""
             }
            },
            "type": "scatterpolar"
           }
          ],
          "scatterpolargl": [
           {
            "marker": {
             "colorbar": {
              "outlinewidth": 0,
              "ticks": ""
             }
            },
            "type": "scatterpolargl"
           }
          ],
          "scatterternary": [
           {
            "marker": {
             "colorbar": {
              "outlinewidth": 0,
              "ticks": ""
             }
            },
            "type": "scatterternary"
           }
          ],
          "surface": [
           {
            "colorbar": {
             "outlinewidth": 0,
             "ticks": ""
            },
            "colorscale": [
             [
              0,
              "#0d0887"
             ],
             [
              0.1111111111111111,
              "#46039f"
             ],
             [
              0.2222222222222222,
              "#7201a8"
             ],
             [
              0.3333333333333333,
              "#9c179e"
             ],
             [
              0.4444444444444444,
              "#bd3786"
             ],
             [
              0.5555555555555556,
              "#d8576b"
             ],
             [
              0.6666666666666666,
              "#ed7953"
             ],
             [
              0.7777777777777778,
              "#fb9f3a"
             ],
             [
              0.8888888888888888,
              "#fdca26"
             ],
             [
              1,
              "#f0f921"
             ]
            ],
            "type": "surface"
           }
          ],
          "table": [
           {
            "cells": {
             "fill": {
              "color": "#EBF0F8"
             },
             "line": {
              "color": "white"
             }
            },
            "header": {
             "fill": {
              "color": "#C8D4E3"
             },
             "line": {
              "color": "white"
             }
            },
            "type": "table"
           }
          ]
         },
         "layout": {
          "annotationdefaults": {
           "arrowcolor": "#2a3f5f",
           "arrowhead": 0,
           "arrowwidth": 1
          },
          "autotypenumbers": "strict",
          "coloraxis": {
           "colorbar": {
            "outlinewidth": 0,
            "ticks": ""
           }
          },
          "colorscale": {
           "diverging": [
            [
             0,
             "#8e0152"
            ],
            [
             0.1,
             "#c51b7d"
            ],
            [
             0.2,
             "#de77ae"
            ],
            [
             0.3,
             "#f1b6da"
            ],
            [
             0.4,
             "#fde0ef"
            ],
            [
             0.5,
             "#f7f7f7"
            ],
            [
             0.6,
             "#e6f5d0"
            ],
            [
             0.7,
             "#b8e186"
            ],
            [
             0.8,
             "#7fbc41"
            ],
            [
             0.9,
             "#4d9221"
            ],
            [
             1,
             "#276419"
            ]
           ],
           "sequential": [
            [
             0,
             "#0d0887"
            ],
            [
             0.1111111111111111,
             "#46039f"
            ],
            [
             0.2222222222222222,
             "#7201a8"
            ],
            [
             0.3333333333333333,
             "#9c179e"
            ],
            [
             0.4444444444444444,
             "#bd3786"
            ],
            [
             0.5555555555555556,
             "#d8576b"
            ],
            [
             0.6666666666666666,
             "#ed7953"
            ],
            [
             0.7777777777777778,
             "#fb9f3a"
            ],
            [
             0.8888888888888888,
             "#fdca26"
            ],
            [
             1,
             "#f0f921"
            ]
           ],
           "sequentialminus": [
            [
             0,
             "#0d0887"
            ],
            [
             0.1111111111111111,
             "#46039f"
            ],
            [
             0.2222222222222222,
             "#7201a8"
            ],
            [
             0.3333333333333333,
             "#9c179e"
            ],
            [
             0.4444444444444444,
             "#bd3786"
            ],
            [
             0.5555555555555556,
             "#d8576b"
            ],
            [
             0.6666666666666666,
             "#ed7953"
            ],
            [
             0.7777777777777778,
             "#fb9f3a"
            ],
            [
             0.8888888888888888,
             "#fdca26"
            ],
            [
             1,
             "#f0f921"
            ]
           ]
          },
          "colorway": [
           "#636efa",
           "#EF553B",
           "#00cc96",
           "#ab63fa",
           "#FFA15A",
           "#19d3f3",
           "#FF6692",
           "#B6E880",
           "#FF97FF",
           "#FECB52"
          ],
          "font": {
           "color": "#2a3f5f"
          },
          "geo": {
           "bgcolor": "white",
           "lakecolor": "white",
           "landcolor": "#E5ECF6",
           "showlakes": true,
           "showland": true,
           "subunitcolor": "white"
          },
          "hoverlabel": {
           "align": "left"
          },
          "hovermode": "closest",
          "mapbox": {
           "style": "light"
          },
          "paper_bgcolor": "white",
          "plot_bgcolor": "#E5ECF6",
          "polar": {
           "angularaxis": {
            "gridcolor": "white",
            "linecolor": "white",
            "ticks": ""
           },
           "bgcolor": "#E5ECF6",
           "radialaxis": {
            "gridcolor": "white",
            "linecolor": "white",
            "ticks": ""
           }
          },
          "scene": {
           "xaxis": {
            "backgroundcolor": "#E5ECF6",
            "gridcolor": "white",
            "gridwidth": 2,
            "linecolor": "white",
            "showbackground": true,
            "ticks": "",
            "zerolinecolor": "white"
           },
           "yaxis": {
            "backgroundcolor": "#E5ECF6",
            "gridcolor": "white",
            "gridwidth": 2,
            "linecolor": "white",
            "showbackground": true,
            "ticks": "",
            "zerolinecolor": "white"
           },
           "zaxis": {
            "backgroundcolor": "#E5ECF6",
            "gridcolor": "white",
            "gridwidth": 2,
            "linecolor": "white",
            "showbackground": true,
            "ticks": "",
            "zerolinecolor": "white"
           }
          },
          "shapedefaults": {
           "line": {
            "color": "#2a3f5f"
           }
          },
          "ternary": {
           "aaxis": {
            "gridcolor": "white",
            "linecolor": "white",
            "ticks": ""
           },
           "baxis": {
            "gridcolor": "white",
            "linecolor": "white",
            "ticks": ""
           },
           "bgcolor": "#E5ECF6",
           "caxis": {
            "gridcolor": "white",
            "linecolor": "white",
            "ticks": ""
           }
          },
          "title": {
           "x": 0.05
          },
          "xaxis": {
           "automargin": true,
           "gridcolor": "white",
           "linecolor": "white",
           "ticks": "",
           "title": {
            "standoff": 15
           },
           "zerolinecolor": "white",
           "zerolinewidth": 2
          },
          "yaxis": {
           "automargin": true,
           "gridcolor": "white",
           "linecolor": "white",
           "ticks": "",
           "title": {
            "standoff": 15
           },
           "zerolinecolor": "white",
           "zerolinewidth": 2
          }
         }
        },
        "title": {
         "text": "2016"
        }
       }
      }
     },
     "metadata": {},
     "output_type": "display_data"
    },
    {
     "name": "stdout",
     "output_type": "stream",
     "text": [
      "\n",
      "\n",
      "\n",
      "\n",
      "\n",
      "                                                   2020\n"
     ]
    },
    {
     "data": {
      "application/vnd.plotly.v1+json": {
       "config": {
        "plotlyServerURL": "https://plot.ly"
       },
       "data": [
        {
         "coloraxis": "coloraxis",
         "customdata": [
          [
           "ALABAMA",
           2020,
           "Trump",
           "R",
           "Biden",
           "D",
           0.620316431668648,
           0.36569990212122333,
           0.2546165295474247
          ],
          [
           "ALASKA",
           2020,
           "Trump",
           "R",
           "Biden",
           "D",
           0.5283314327038078,
           0.42771952271020497,
           0.10061190999360281
          ],
          [
           "ARIZONA",
           2020,
           "Biden",
           "D",
           "Trump",
           "R",
           0.49364690614366613,
           0.4905598103046474,
           0.0030870958390187275
          ],
          [
           "ARKANSAS",
           2020,
           "Trump",
           "R",
           "Biden",
           "D",
           0.6239572985614432,
           0.34775061953014963,
           0.2762066790312936
          ],
          [
           "CALIFORNIA",
           2020,
           "Biden",
           "D",
           "Trump",
           "R",
           0.6348394689387351,
           0.3432072362528492,
           0.2916322326858859
          ],
          [
           "COLORADO",
           2020,
           "Biden",
           "D",
           "Trump",
           "R",
           0.5501106714065329,
           0.4160412563491241,
           0.13406941505740883
          ],
          [
           "CONNECTICUT",
           2020,
           "Biden",
           "D",
           "Trump",
           "R",
           0.5926073151568352,
           0.3918711828833072,
           0.200736132273528
          ],
          [
           "DELAWARE",
           2020,
           "Biden",
           "D",
           "Trump",
           "R",
           0.5874300579364167,
           0.3977487677110555,
           0.18968129022536118
          ],
          [
           "DISTRICT OF COLUMBIA",
           2020,
           "Biden",
           "D",
           "Trump",
           "R",
           0.9214969392140692,
           0.05397321376714795,
           0.8675237254469212
          ],
          [
           "FLORIDA",
           2020,
           "Trump",
           "R",
           "Biden",
           "D",
           0.5121981962250404,
           0.47861450725442234,
           0.03358368897061803
          ],
          [
           "GEORGIA",
           2020,
           "Biden",
           "D",
           "Trump",
           "R",
           0.49473055784446274,
           0.492374738997912,
           0.002355818846550728
          ],
          [
           "HAWAII",
           2020,
           "Biden",
           "D",
           "Trump",
           "R",
           0.6314937976901742,
           0.3395471416941482,
           0.29194665599602604
          ],
          [
           "IDAHO",
           2020,
           "Trump",
           "R",
           "Biden",
           "D",
           0.6383756483190364,
           0.33066402154803953,
           0.30771162677099684
          ],
          [
           "ILLINOIS",
           2020,
           "Biden",
           "D",
           "Trump",
           "R",
           0.5754164537667581,
           0.40553450818173725,
           0.16988194558502084
          ],
          [
           "INDIANA",
           2020,
           "Trump",
           "R",
           "Biden",
           "D",
           0.5702115776570512,
           0.4096167705971215,
           0.16059480705992973
          ],
          [
           "IOWA",
           2020,
           "Trump",
           "R",
           "Biden",
           "D",
           0.5280019763194579,
           0.4464723285866375,
           0.0815296477328204
          ],
          [
           "KANSAS",
           2020,
           "Trump",
           "R",
           "Biden",
           "D",
           0.5621251283426474,
           0.41559553538832167,
           0.14652959295432572
          ],
          [
           "KENTUCKY",
           2020,
           "Trump",
           "R",
           "Biden",
           "D",
           0.6208657186929044,
           0.3615151481115404,
           0.259350570581364
          ],
          [
           "LOUISIANA",
           2020,
           "Trump",
           "R",
           "Biden",
           "D",
           0.5846088241400853,
           0.39851456801526214,
           0.18609425612482317
          ],
          [
           "MAINE",
           2020,
           "Biden",
           "D",
           "Trump",
           "R",
           0.5252557934577239,
           0.43551228110418266,
           0.08974351235354122
          ],
          [
           "MARYLAND",
           2020,
           "Biden",
           "D",
           "Trump",
           "R",
           0.6536066486007711,
           0.32150291567748757,
           0.33210373292328355
          ],
          [
           "MASSACHUSETTS",
           2020,
           "Biden",
           "D",
           "Trump",
           "R",
           0.6512298370286536,
           0.3190815758863096,
           0.33214826114234397
          ],
          [
           "MICHIGAN",
           2020,
           "Biden",
           "D",
           "Trump",
           "R",
           0.5062081829082437,
           0.4783729069113762,
           0.02783527599686747
          ],
          [
           "MINNESOTA",
           2020,
           "Biden",
           "D",
           "Trump",
           "R",
           0.5239509930974001,
           0.4528494240916937,
           0.07110156900570641
          ],
          [
           "MISSISSIPPI",
           2020,
           "Trump",
           "R",
           "Biden",
           "D",
           0.5760295457538255,
           0.41057606455978607,
           0.1654534811940394
          ],
          [
           "MISSOURI",
           2020,
           "Trump",
           "R",
           "Biden",
           "D",
           0.5679965577888949,
           0.4140878173618836,
           0.1539087404270113
          ],
          [
           "MONTANA",
           2020,
           "Trump",
           "R",
           "Biden",
           "D",
           0.5691846924002028,
           0.4054936936160908,
           0.16369099878411197
          ],
          [
           "NEBRASKA",
           2020,
           "Trump",
           "R",
           "Biden",
           "D",
           0.5822416333205421,
           0.39166630941787967,
           0.19057532390266246
          ],
          [
           "NEVADA",
           2020,
           "Biden",
           "D",
           "Trump",
           "R",
           0.5005678195728402,
           0.4766624732455941,
           0.02390534632724617
          ],
          [
           "NEW HAMPSHIRE",
           2020,
           "Biden",
           "D",
           "Trump",
           "R",
           0.5270782528014766,
           0.45356259504677604,
           0.07351565775470054
          ],
          [
           "NEW JERSEY",
           2020,
           "Biden",
           "D",
           "Trump",
           "R",
           0.5733419675281298,
           0.41396523857348505,
           0.15937672895464478
          ],
          [
           "NEW MEXICO",
           2020,
           "Biden",
           "D",
           "Trump",
           "R",
           0.5428928584957222,
           0.43496669246129455,
           0.10792616603442767
          ],
          [
           "NEW YORK",
           2020,
           "Biden",
           "D",
           "Trump",
           "R",
           0.603918845358349,
           0.3746129384009093,
           0.22930590695743974
          ],
          [
           "NORTH CAROLINA",
           2020,
           "Trump",
           "R",
           "Biden",
           "D",
           0.4993433248829551,
           0.4858621177736324,
           0.013481207109322657
          ],
          [
           "NORTH DAKOTA",
           2020,
           "Trump",
           "R",
           "Biden",
           "D",
           0.6511404873707572,
           0.31756762359080093,
           0.3335728637799563
          ],
          [
           "OHIO",
           2020,
           "Trump",
           "R",
           "Biden",
           "D",
           0.5327130010087464,
           0.45239338340705026,
           0.08031961760169615
          ],
          [
           "OKLAHOMA",
           2020,
           "Trump",
           "R",
           "Biden",
           "D",
           0.6537327184806295,
           0.32286174335986634,
           0.3308709751207632
          ],
          [
           "OREGON",
           2020,
           "Biden",
           "D",
           "Trump",
           "R",
           0.5645331865404888,
           0.4036724604634335,
           0.16086072607705526
          ],
          [
           "PENNSYLVANIA",
           2020,
           "Biden",
           "D",
           "Trump",
           "R",
           0.5000849567544814,
           0.4884361204017247,
           0.011648836352756708
          ],
          [
           "RHODE ISLAND",
           2020,
           "Biden",
           "D",
           "Trump",
           "R",
           0.5947619876593357,
           0.38670380471575855,
           0.2080581829435772
          ],
          [
           "SOUTH CAROLINA",
           2020,
           "Trump",
           "R",
           "Biden",
           "D",
           0.5509348091719648,
           0.43416838497813925,
           0.11676642419382555
          ],
          [
           "SOUTH DAKOTA",
           2020,
           "Trump",
           "R",
           "Biden",
           "D",
           0.6176938967225024,
           0.3560525213613529,
           0.2616413753611495
          ],
          [
           "TENNESSEE",
           2020,
           "Trump",
           "R",
           "Biden",
           "D",
           0.6066029416628381,
           0.37451434271023704,
           0.2320885989526011
          ],
          [
           "TEXAS",
           2020,
           "Trump",
           "R",
           "Biden",
           "D",
           0.5205760360355265,
           0.4647900991387051,
           0.055785936896821375
          ],
          [
           "UTAH",
           2020,
           "Trump",
           "R",
           "Biden",
           "D",
           0.5812983902991959,
           0.37646048583306063,
           0.2048379044661353
          ],
          [
           "VERMONT",
           2020,
           "Biden",
           "D",
           "Trump",
           "R",
           0.6545578055250049,
           0.3038105712622113,
           0.3507472342627936
          ],
          [
           "VIRGINIA",
           2020,
           "Biden",
           "D",
           "Trump",
           "R",
           0.5410951717780242,
           0.4399550366728214,
           0.10114013510520287
          ],
          [
           "WASHINGTON",
           2020,
           "Biden",
           "D",
           "Trump",
           "R",
           0.5797030113530306,
           0.3876697774334327,
           0.19203323391959787
          ],
          [
           "WEST VIRGINIA",
           2020,
           "Trump",
           "R",
           "Biden",
           "D",
           0.6863155192461606,
           0.29696521244519614,
           0.3893503068009645
          ],
          [
           "WISCONSIN",
           2020,
           "Biden",
           "D",
           "Trump",
           "R",
           0.4944953686142774,
           0.48822437319608825,
           0.006270995418189151
          ],
          [
           "WYOMING",
           2020,
           "Trump",
           "R",
           "Biden",
           "D",
           0.6949978994840271,
           0.26387866557990397,
           0.43111923390412316
          ]
         ],
         "geo": "geo",
         "geojson": "https://raw.githubusercontent.com/plotly/datasets/master/geojson-counties-fips.json",
         "hovertemplate": "%{customdata[0]}: %{customdata[1]}<br>%{customdata[2]}-%{customdata[3]} def. %{customdata[4]}-%{customdata[5]}<br>%{customdata[6]:.1%} to %{customdata[7]:.1%}<br>Margin: %{customdata[8]:.1%}<br><extra></extra>",
         "locationmode": "USA-states",
         "locations": [
          "AL",
          "AK",
          "AZ",
          "AR",
          "CA",
          "CO",
          "CT",
          "DE",
          "DC",
          "FL",
          "GA",
          "HI",
          "ID",
          "IL",
          "IN",
          "IA",
          "KS",
          "KY",
          "LA",
          "ME",
          "MD",
          "MA",
          "MI",
          "MN",
          "MS",
          "MO",
          "MT",
          "NE",
          "NV",
          "NH",
          "NJ",
          "NM",
          "NY",
          "NC",
          "ND",
          "OH",
          "OK",
          "OR",
          "PA",
          "RI",
          "SC",
          "SD",
          "TN",
          "TX",
          "UT",
          "VT",
          "VA",
          "WA",
          "WV",
          "WI",
          "WY"
         ],
         "name": "",
         "type": "choropleth",
         "z": [
          -0.2546165295474247,
          -0.10061190999360281,
          0.0030870958390187275,
          -0.2762066790312936,
          0.2916322326858859,
          0.13406941505740883,
          0.200736132273528,
          0.18968129022536118,
          0.8675237254469212,
          -0.03358368897061803,
          0.002355818846550728,
          0.29194665599602604,
          -0.30771162677099684,
          0.16988194558502084,
          -0.16059480705992973,
          -0.0815296477328204,
          -0.14652959295432572,
          -0.259350570581364,
          -0.18609425612482317,
          0.08974351235354122,
          0.33210373292328355,
          0.33214826114234397,
          0.02783527599686747,
          0.07110156900570641,
          -0.1654534811940394,
          -0.1539087404270113,
          -0.16369099878411197,
          -0.19057532390266246,
          0.02390534632724617,
          0.07351565775470054,
          0.15937672895464478,
          0.10792616603442767,
          0.22930590695743974,
          -0.013481207109322657,
          -0.3335728637799563,
          -0.08031961760169615,
          -0.3308709751207632,
          0.16086072607705526,
          0.011648836352756708,
          0.2080581829435772,
          -0.11676642419382555,
          -0.2616413753611495,
          -0.2320885989526011,
          -0.055785936896821375,
          -0.2048379044661353,
          0.3507472342627936,
          0.10114013510520287,
          0.19203323391959787,
          -0.3893503068009645,
          0.006270995418189151,
          -0.43111923390412316
         ]
        }
       ],
       "layout": {
        "coloraxis": {
         "cmax": 0.35,
         "cmid": 0,
         "cmin": -0.35,
         "colorbar": {
          "title": {
           "text": "DIFF_PCT"
          }
         },
         "colorscale": [
          [
           0,
           "rgb(103,0,31)"
          ],
          [
           0.1,
           "rgb(178,24,43)"
          ],
          [
           0.2,
           "rgb(214,96,77)"
          ],
          [
           0.3,
           "rgb(244,165,130)"
          ],
          [
           0.4,
           "rgb(253,219,199)"
          ],
          [
           0.5,
           "rgb(247,247,247)"
          ],
          [
           0.6,
           "rgb(209,229,240)"
          ],
          [
           0.7,
           "rgb(146,197,222)"
          ],
          [
           0.8,
           "rgb(67,147,195)"
          ],
          [
           0.9,
           "rgb(33,102,172)"
          ],
          [
           1,
           "rgb(5,48,97)"
          ]
         ]
        },
        "geo": {
         "center": {},
         "domain": {
          "x": [
           0,
           1
          ],
          "y": [
           0,
           1
          ]
         },
         "scope": "usa"
        },
        "legend": {
         "tracegroupgap": 0
        },
        "margin": {
         "b": 0,
         "l": 0,
         "r": 0,
         "t": 0
        },
        "template": {
         "data": {
          "bar": [
           {
            "error_x": {
             "color": "#2a3f5f"
            },
            "error_y": {
             "color": "#2a3f5f"
            },
            "marker": {
             "line": {
              "color": "#E5ECF6",
              "width": 0.5
             },
             "pattern": {
              "fillmode": "overlay",
              "size": 10,
              "solidity": 0.2
             }
            },
            "type": "bar"
           }
          ],
          "barpolar": [
           {
            "marker": {
             "line": {
              "color": "#E5ECF6",
              "width": 0.5
             },
             "pattern": {
              "fillmode": "overlay",
              "size": 10,
              "solidity": 0.2
             }
            },
            "type": "barpolar"
           }
          ],
          "carpet": [
           {
            "aaxis": {
             "endlinecolor": "#2a3f5f",
             "gridcolor": "white",
             "linecolor": "white",
             "minorgridcolor": "white",
             "startlinecolor": "#2a3f5f"
            },
            "baxis": {
             "endlinecolor": "#2a3f5f",
             "gridcolor": "white",
             "linecolor": "white",
             "minorgridcolor": "white",
             "startlinecolor": "#2a3f5f"
            },
            "type": "carpet"
           }
          ],
          "choropleth": [
           {
            "colorbar": {
             "outlinewidth": 0,
             "ticks": ""
            },
            "type": "choropleth"
           }
          ],
          "contour": [
           {
            "colorbar": {
             "outlinewidth": 0,
             "ticks": ""
            },
            "colorscale": [
             [
              0,
              "#0d0887"
             ],
             [
              0.1111111111111111,
              "#46039f"
             ],
             [
              0.2222222222222222,
              "#7201a8"
             ],
             [
              0.3333333333333333,
              "#9c179e"
             ],
             [
              0.4444444444444444,
              "#bd3786"
             ],
             [
              0.5555555555555556,
              "#d8576b"
             ],
             [
              0.6666666666666666,
              "#ed7953"
             ],
             [
              0.7777777777777778,
              "#fb9f3a"
             ],
             [
              0.8888888888888888,
              "#fdca26"
             ],
             [
              1,
              "#f0f921"
             ]
            ],
            "type": "contour"
           }
          ],
          "contourcarpet": [
           {
            "colorbar": {
             "outlinewidth": 0,
             "ticks": ""
            },
            "type": "contourcarpet"
           }
          ],
          "heatmap": [
           {
            "colorbar": {
             "outlinewidth": 0,
             "ticks": ""
            },
            "colorscale": [
             [
              0,
              "#0d0887"
             ],
             [
              0.1111111111111111,
              "#46039f"
             ],
             [
              0.2222222222222222,
              "#7201a8"
             ],
             [
              0.3333333333333333,
              "#9c179e"
             ],
             [
              0.4444444444444444,
              "#bd3786"
             ],
             [
              0.5555555555555556,
              "#d8576b"
             ],
             [
              0.6666666666666666,
              "#ed7953"
             ],
             [
              0.7777777777777778,
              "#fb9f3a"
             ],
             [
              0.8888888888888888,
              "#fdca26"
             ],
             [
              1,
              "#f0f921"
             ]
            ],
            "type": "heatmap"
           }
          ],
          "heatmapgl": [
           {
            "colorbar": {
             "outlinewidth": 0,
             "ticks": ""
            },
            "colorscale": [
             [
              0,
              "#0d0887"
             ],
             [
              0.1111111111111111,
              "#46039f"
             ],
             [
              0.2222222222222222,
              "#7201a8"
             ],
             [
              0.3333333333333333,
              "#9c179e"
             ],
             [
              0.4444444444444444,
              "#bd3786"
             ],
             [
              0.5555555555555556,
              "#d8576b"
             ],
             [
              0.6666666666666666,
              "#ed7953"
             ],
             [
              0.7777777777777778,
              "#fb9f3a"
             ],
             [
              0.8888888888888888,
              "#fdca26"
             ],
             [
              1,
              "#f0f921"
             ]
            ],
            "type": "heatmapgl"
           }
          ],
          "histogram": [
           {
            "marker": {
             "pattern": {
              "fillmode": "overlay",
              "size": 10,
              "solidity": 0.2
             }
            },
            "type": "histogram"
           }
          ],
          "histogram2d": [
           {
            "colorbar": {
             "outlinewidth": 0,
             "ticks": ""
            },
            "colorscale": [
             [
              0,
              "#0d0887"
             ],
             [
              0.1111111111111111,
              "#46039f"
             ],
             [
              0.2222222222222222,
              "#7201a8"
             ],
             [
              0.3333333333333333,
              "#9c179e"
             ],
             [
              0.4444444444444444,
              "#bd3786"
             ],
             [
              0.5555555555555556,
              "#d8576b"
             ],
             [
              0.6666666666666666,
              "#ed7953"
             ],
             [
              0.7777777777777778,
              "#fb9f3a"
             ],
             [
              0.8888888888888888,
              "#fdca26"
             ],
             [
              1,
              "#f0f921"
             ]
            ],
            "type": "histogram2d"
           }
          ],
          "histogram2dcontour": [
           {
            "colorbar": {
             "outlinewidth": 0,
             "ticks": ""
            },
            "colorscale": [
             [
              0,
              "#0d0887"
             ],
             [
              0.1111111111111111,
              "#46039f"
             ],
             [
              0.2222222222222222,
              "#7201a8"
             ],
             [
              0.3333333333333333,
              "#9c179e"
             ],
             [
              0.4444444444444444,
              "#bd3786"
             ],
             [
              0.5555555555555556,
              "#d8576b"
             ],
             [
              0.6666666666666666,
              "#ed7953"
             ],
             [
              0.7777777777777778,
              "#fb9f3a"
             ],
             [
              0.8888888888888888,
              "#fdca26"
             ],
             [
              1,
              "#f0f921"
             ]
            ],
            "type": "histogram2dcontour"
           }
          ],
          "mesh3d": [
           {
            "colorbar": {
             "outlinewidth": 0,
             "ticks": ""
            },
            "type": "mesh3d"
           }
          ],
          "parcoords": [
           {
            "line": {
             "colorbar": {
              "outlinewidth": 0,
              "ticks": ""
             }
            },
            "type": "parcoords"
           }
          ],
          "pie": [
           {
            "automargin": true,
            "type": "pie"
           }
          ],
          "scatter": [
           {
            "fillpattern": {
             "fillmode": "overlay",
             "size": 10,
             "solidity": 0.2
            },
            "type": "scatter"
           }
          ],
          "scatter3d": [
           {
            "line": {
             "colorbar": {
              "outlinewidth": 0,
              "ticks": ""
             }
            },
            "marker": {
             "colorbar": {
              "outlinewidth": 0,
              "ticks": ""
             }
            },
            "type": "scatter3d"
           }
          ],
          "scattercarpet": [
           {
            "marker": {
             "colorbar": {
              "outlinewidth": 0,
              "ticks": ""
             }
            },
            "type": "scattercarpet"
           }
          ],
          "scattergeo": [
           {
            "marker": {
             "colorbar": {
              "outlinewidth": 0,
              "ticks": ""
             }
            },
            "type": "scattergeo"
           }
          ],
          "scattergl": [
           {
            "marker": {
             "colorbar": {
              "outlinewidth": 0,
              "ticks": ""
             }
            },
            "type": "scattergl"
           }
          ],
          "scattermapbox": [
           {
            "marker": {
             "colorbar": {
              "outlinewidth": 0,
              "ticks": ""
             }
            },
            "type": "scattermapbox"
           }
          ],
          "scatterpolar": [
           {
            "marker": {
             "colorbar": {
              "outlinewidth": 0,
              "ticks": ""
             }
            },
            "type": "scatterpolar"
           }
          ],
          "scatterpolargl": [
           {
            "marker": {
             "colorbar": {
              "outlinewidth": 0,
              "ticks": ""
             }
            },
            "type": "scatterpolargl"
           }
          ],
          "scatterternary": [
           {
            "marker": {
             "colorbar": {
              "outlinewidth": 0,
              "ticks": ""
             }
            },
            "type": "scatterternary"
           }
          ],
          "surface": [
           {
            "colorbar": {
             "outlinewidth": 0,
             "ticks": ""
            },
            "colorscale": [
             [
              0,
              "#0d0887"
             ],
             [
              0.1111111111111111,
              "#46039f"
             ],
             [
              0.2222222222222222,
              "#7201a8"
             ],
             [
              0.3333333333333333,
              "#9c179e"
             ],
             [
              0.4444444444444444,
              "#bd3786"
             ],
             [
              0.5555555555555556,
              "#d8576b"
             ],
             [
              0.6666666666666666,
              "#ed7953"
             ],
             [
              0.7777777777777778,
              "#fb9f3a"
             ],
             [
              0.8888888888888888,
              "#fdca26"
             ],
             [
              1,
              "#f0f921"
             ]
            ],
            "type": "surface"
           }
          ],
          "table": [
           {
            "cells": {
             "fill": {
              "color": "#EBF0F8"
             },
             "line": {
              "color": "white"
             }
            },
            "header": {
             "fill": {
              "color": "#C8D4E3"
             },
             "line": {
              "color": "white"
             }
            },
            "type": "table"
           }
          ]
         },
         "layout": {
          "annotationdefaults": {
           "arrowcolor": "#2a3f5f",
           "arrowhead": 0,
           "arrowwidth": 1
          },
          "autotypenumbers": "strict",
          "coloraxis": {
           "colorbar": {
            "outlinewidth": 0,
            "ticks": ""
           }
          },
          "colorscale": {
           "diverging": [
            [
             0,
             "#8e0152"
            ],
            [
             0.1,
             "#c51b7d"
            ],
            [
             0.2,
             "#de77ae"
            ],
            [
             0.3,
             "#f1b6da"
            ],
            [
             0.4,
             "#fde0ef"
            ],
            [
             0.5,
             "#f7f7f7"
            ],
            [
             0.6,
             "#e6f5d0"
            ],
            [
             0.7,
             "#b8e186"
            ],
            [
             0.8,
             "#7fbc41"
            ],
            [
             0.9,
             "#4d9221"
            ],
            [
             1,
             "#276419"
            ]
           ],
           "sequential": [
            [
             0,
             "#0d0887"
            ],
            [
             0.1111111111111111,
             "#46039f"
            ],
            [
             0.2222222222222222,
             "#7201a8"
            ],
            [
             0.3333333333333333,
             "#9c179e"
            ],
            [
             0.4444444444444444,
             "#bd3786"
            ],
            [
             0.5555555555555556,
             "#d8576b"
            ],
            [
             0.6666666666666666,
             "#ed7953"
            ],
            [
             0.7777777777777778,
             "#fb9f3a"
            ],
            [
             0.8888888888888888,
             "#fdca26"
            ],
            [
             1,
             "#f0f921"
            ]
           ],
           "sequentialminus": [
            [
             0,
             "#0d0887"
            ],
            [
             0.1111111111111111,
             "#46039f"
            ],
            [
             0.2222222222222222,
             "#7201a8"
            ],
            [
             0.3333333333333333,
             "#9c179e"
            ],
            [
             0.4444444444444444,
             "#bd3786"
            ],
            [
             0.5555555555555556,
             "#d8576b"
            ],
            [
             0.6666666666666666,
             "#ed7953"
            ],
            [
             0.7777777777777778,
             "#fb9f3a"
            ],
            [
             0.8888888888888888,
             "#fdca26"
            ],
            [
             1,
             "#f0f921"
            ]
           ]
          },
          "colorway": [
           "#636efa",
           "#EF553B",
           "#00cc96",
           "#ab63fa",
           "#FFA15A",
           "#19d3f3",
           "#FF6692",
           "#B6E880",
           "#FF97FF",
           "#FECB52"
          ],
          "font": {
           "color": "#2a3f5f"
          },
          "geo": {
           "bgcolor": "white",
           "lakecolor": "white",
           "landcolor": "#E5ECF6",
           "showlakes": true,
           "showland": true,
           "subunitcolor": "white"
          },
          "hoverlabel": {
           "align": "left"
          },
          "hovermode": "closest",
          "mapbox": {
           "style": "light"
          },
          "paper_bgcolor": "white",
          "plot_bgcolor": "#E5ECF6",
          "polar": {
           "angularaxis": {
            "gridcolor": "white",
            "linecolor": "white",
            "ticks": ""
           },
           "bgcolor": "#E5ECF6",
           "radialaxis": {
            "gridcolor": "white",
            "linecolor": "white",
            "ticks": ""
           }
          },
          "scene": {
           "xaxis": {
            "backgroundcolor": "#E5ECF6",
            "gridcolor": "white",
            "gridwidth": 2,
            "linecolor": "white",
            "showbackground": true,
            "ticks": "",
            "zerolinecolor": "white"
           },
           "yaxis": {
            "backgroundcolor": "#E5ECF6",
            "gridcolor": "white",
            "gridwidth": 2,
            "linecolor": "white",
            "showbackground": true,
            "ticks": "",
            "zerolinecolor": "white"
           },
           "zaxis": {
            "backgroundcolor": "#E5ECF6",
            "gridcolor": "white",
            "gridwidth": 2,
            "linecolor": "white",
            "showbackground": true,
            "ticks": "",
            "zerolinecolor": "white"
           }
          },
          "shapedefaults": {
           "line": {
            "color": "#2a3f5f"
           }
          },
          "ternary": {
           "aaxis": {
            "gridcolor": "white",
            "linecolor": "white",
            "ticks": ""
           },
           "baxis": {
            "gridcolor": "white",
            "linecolor": "white",
            "ticks": ""
           },
           "bgcolor": "#E5ECF6",
           "caxis": {
            "gridcolor": "white",
            "linecolor": "white",
            "ticks": ""
           }
          },
          "title": {
           "x": 0.05
          },
          "xaxis": {
           "automargin": true,
           "gridcolor": "white",
           "linecolor": "white",
           "ticks": "",
           "title": {
            "standoff": 15
           },
           "zerolinecolor": "white",
           "zerolinewidth": 2
          },
          "yaxis": {
           "automargin": true,
           "gridcolor": "white",
           "linecolor": "white",
           "ticks": "",
           "title": {
            "standoff": 15
           },
           "zerolinecolor": "white",
           "zerolinewidth": 2
          }
         }
        },
        "title": {
         "text": "2020"
        }
       }
      }
     },
     "metadata": {},
     "output_type": "display_data"
    }
   ],
   "source": [
    "import plotly.express as px\n",
    "import plotly.graph_objects as go\n",
    "import polars as pl\n",
    "# pl.Config().set_tbl_rows(30)\n",
    "# pl.Config().set_tbl_cols(20)\n",
    "import numpy as np\n",
    "\n",
    "#------------------------------------------------------------------------------#\n",
    "#     Read dataset from local file, clean up - uses polars LazyFrame           #\n",
    "#------------------------------------------------------------------------------#\n",
    "df = (\n",
    "    pl.scan_csv(       # pl.scan_csv creates Lazy Frame for query optimization\n",
    "    './Dataset/1976-2020-president.csv',\n",
    "    ignore_errors=True\n",
    "    )\n",
    "    .select(\n",
    "        pl.col('candidate', 'year', 'state', 'state_po', \n",
    "               'party_simplified', 'candidatevotes','totalvotes'))\n",
    "    .filter(pl.col('party_simplified').is_in(['DEMOCRAT', 'REPUBLICAN']))\n",
    "    .with_columns(\n",
    "        pl.col('party_simplified')\n",
    "        .str.replace('DEMOCRAT', 'DEM')\n",
    "        .str.replace('REPUBLICAN', 'REP')\n",
    "    )\n",
    "    .filter(pl.col('candidate') != 'OTHER')\n",
    "    .with_columns(\n",
    "        pl.col('candidate')\n",
    "            # for unique candidate family names, fix the Bushes\n",
    "            .str.replace('BUSH, GEORGE H.W.', 'Bush Senior')\n",
    "            .str.replace('BUSH, GEORGE W.', 'Bush Junior')\n",
    "            # for unique candidate family names, fix the Clintons\n",
    "            .str.replace('CLINTON, BILL', 'Clinton B.')\n",
    "            .str.replace('CLINTON, HILLARY', 'Clinton H.')\n",
    "            # ROMNEY, MITT wrongly listed as MITT ROMNEY, Washington 2012\n",
    "            .str.replace('MITT, ROMNEY', 'ROMNEY, MITT'),\n",
    "        pl.col('year').cast(pl.Int16)\n",
    "    )\n",
    "    .with_columns(             # get last name of candidate\n",
    "        pl.col('candidate')\n",
    "        .str.split(',')        \n",
    "        .list.first()           # gets all text up to first comma, usually the last name\n",
    "        .str.to_titlecase()     # Title case breaks on McCain, next line fixes is\n",
    "        .str.replace('Mccain', 'McCain')\n",
    "    )\n",
    "    # Un-named DEMOCRATIC candidate from ARIZONA in 2016 won 4 votes, drop nulls to remove\n",
    "    .drop_nulls('candidate')\n",
    "    .collect()    # collect applies auto-optimization to covert Lazy Frame to usable Data Frame\n",
    ")\n",
    "\n",
    "#------------------------------------------------------------------------------#\n",
    "#     Make a list of candidate last names by election year. Special attention  #\n",
    "#     for the Bushes (Junior & Senior) & the Clintons (Bill & Hillary)         #\n",
    "#------------------------------------------------------------------------------#\n",
    "df_candidates = (\n",
    "    df\n",
    "    .select(pl.col('candidate', 'year','party_simplified'))\n",
    "    .unique()\n",
    "    .sort('year')\n",
    "    .pivot(index='year', on='party_simplified', values='candidate')\n",
    ")\n",
    "\n",
    "#------------------------------------------------------------------------------#\n",
    "#     Group by year, state, calc difference between DEM_VOTES and REP_VOTES    #\n",
    "#------------------------------------------------------------------------------#\n",
    "df_votes = (\n",
    "    df\n",
    "    .rename({'totalvotes':'TOT_VOTES'})\n",
    "    .pivot(\n",
    "        index=['year', 'state', 'state_po','TOT_VOTES'],  # , 'candidate'], \n",
    "        on ='party_simplified', \n",
    "        values='candidatevotes', \n",
    "        aggregate_function='sum'\n",
    "        )\n",
    "    .with_columns(pl.col('year').cast(pl.Int16))\n",
    "    .rename({'DEM': 'DEM_VOTES', 'REP': 'REP_VOTES'})\n",
    ")\n",
    "\n",
    "#------------------------------------------------------------------------------#\n",
    "#     Use a lazy frame to join df_votes and df_candidates, and finish          #\n",
    "#     Remaining calculations                                                   #\n",
    "#------------------------------------------------------------------------------#\n",
    "final_df = (\n",
    "    pl.LazyFrame(\n",
    "        df_candidates.join(\n",
    "            df_votes,\n",
    "            on='year',\n",
    "            how='left'\n",
    "        )\n",
    "        .with_columns(\n",
    "            DEM_PCT = pl.col('DEM_VOTES') / pl.col('TOT_VOTES'),\n",
    "            REP_PCT = pl.col('REP_VOTES') / pl.col('TOT_VOTES'),\n",
    "        )\n",
    "        .with_columns(   # DIFF_PCT is used for coloring each state\n",
    "            DIFF_PCT = pl.col('DEM_PCT') -  pl.col('REP_PCT'),\n",
    "        )\n",
    "        .with_columns(   # absolute value of vote margin used by hovertemplate\n",
    "            ABS_DIFF_PCT = abs(pl.col('DIFF_PCT'))\n",
    "        )\n",
    "        # make columns with winner's name and party for hovertemplate\n",
    "        .with_columns(\n",
    "            STATE_WINNER = \n",
    "                pl.when(pl.col('DEM_PCT')> pl.col('REP_PCT'))\n",
    "                .then('DEM')\n",
    "                .otherwise('REP'),\n",
    "            WINNING_PARTY = \n",
    "                pl.when(pl.col('DEM_PCT')> pl.col('REP_PCT'))\n",
    "                .then(pl.lit('D'))\n",
    "                .otherwise(pl.lit('R'))\n",
    "        )\n",
    "        # make columns with loser's name and party for hovertemplate\n",
    "        .with_columns(\n",
    "            STATE_LOSER = \n",
    "                pl.when(pl.col('DEM_PCT')> pl.col('REP_PCT'))\n",
    "                .then('REP')\n",
    "                .otherwise('DEM'),\n",
    "            LOSING_PARTY = \n",
    "                pl.when(pl.col('DEM_PCT')> pl.col('REP_PCT'))\n",
    "                .then(pl.lit('R'))\n",
    "                .otherwise(pl.lit('D'))\n",
    "        )\n",
    "         # make column with winers's vote percentage for hovertemplate\n",
    "        .with_columns(\n",
    "            WINNING_PCT = \n",
    "                pl.when(pl.col('DEM_PCT')> pl.col('REP_PCT'))\n",
    "                .then('DEM_PCT')\n",
    "                .otherwise('REP_PCT')\n",
    "        )\n",
    "         # make column with losers's vote percentage for hovertemplate\n",
    "        .with_columns(\n",
    "            LOSING_PCT = \n",
    "                pl.when(pl.col('DEM_PCT')> pl.col('REP_PCT'))\n",
    "                .then('REP_PCT')\n",
    "                .otherwise('DEM_PCT')\n",
    "        )\n",
    "    )\n",
    "    .collect()\n",
    ")\n",
    "\n",
    "#------------------------------------------------------------------------------#\n",
    "#     Assemle hover data                                                       #\n",
    "#------------------------------------------------------------------------------#\n",
    "customdata=np.stack(\n",
    "    (\n",
    "        final_df['state'],            #  customdata[0]\n",
    "        final_df['year'],             #  customdata[1]\n",
    "        final_df['STATE_WINNER'],     #  customdata[2]\n",
    "        final_df['WINNING_PARTY'],    #  customdata[3]\n",
    "        final_df['STATE_LOSER'],      #  customdata[4]\n",
    "        final_df['LOSING_PARTY'],     #  customdata[5]\n",
    "        final_df['WINNING_PCT'],      #  customdata[6]\n",
    "        final_df['LOSING_PCT'],       #  customdata[7]\n",
    "        final_df['ABS_DIFF_PCT']      #  customdata[8]\n",
    "        ), \n",
    "        axis=-1\n",
    "    )\n",
    "\n",
    "#------------------------------------------------------------------------------#\n",
    "#     make map of each election year                                           #\n",
    "#------------------------------------------------------------------------------#\n",
    "for year in sorted(final_df['year'].unique()):\n",
    "    print('\\n\\n\\n\\n\\n                                                  ', year)\n",
    "    year_df = final_df.filter(pl.col('year') == year)\n",
    "    fig = px.choropleth(\n",
    "        year_df,\n",
    "        geojson=\"https://raw.githubusercontent.com/plotly/datasets/master/geojson-counties-fips.json\",\n",
    "        locationmode='USA-states',\n",
    "        locations='state_po',\n",
    "        color='DIFF_PCT',\n",
    "        scope=\"usa\",\n",
    "        color_continuous_scale=px.colors.diverging.RdBu,\n",
    "        color_continuous_midpoint=0,\n",
    "        range_color=[-0.35,0.35],\n",
    "        animation_frame='year',\n",
    "        custom_data=[\n",
    "            'state', 'year', \n",
    "            'STATE_WINNER', 'WINNING_PARTY',\n",
    "            'STATE_LOSER', 'LOSING_PARTY', \n",
    "            'WINNING_PCT', 'LOSING_PCT',\n",
    "            'ABS_DIFF_PCT'\n",
    "        ],\n",
    "        title = str(year)\n",
    "    )\n",
    "#------------------------------------------------------------------------------#\n",
    "#     Update trace with hovertemplate                                          #\n",
    "#------------------------------------------------------------------------------#\n",
    "    fig.update_traces(\n",
    "        hovertemplate =\n",
    "            '%{customdata[0]}: %{customdata[1]}<br>' +\n",
    "            '%{customdata[2]}-%{customdata[3]} def. %{customdata[4]}-%{customdata[5]}<br>' +\n",
    "            '%{customdata[6]:.1%} to %{customdata[7]:.1%}<br>' +\n",
    "            'Margin: %{customdata[8]:.1%}<br>' +\n",
    "            '<extra></extra>'\n",
    "    )\n",
    "    fig.update_layout(\n",
    "        margin={\"r\":0, \"t\":0, \"l\":0, \"b\":0},\n",
    "        )\n",
    "    \n",
    "    # fig.write_html(f'{str(year)}_Pres_Election_State_Res_Map.html')\n",
    "    fig.show()"
   ]
  },
  {
   "cell_type": "markdown",
   "metadata": {},
   "source": []
  }
 ],
 "metadata": {
  "kernelspec": {
   "display_name": "Python 3",
   "language": "python",
   "name": "python3"
  },
  "language_info": {
   "codemirror_mode": {
    "name": "ipython",
    "version": 3
   },
   "file_extension": ".py",
   "mimetype": "text/x-python",
   "name": "python",
   "nbconvert_exporter": "python",
   "pygments_lexer": "ipython3",
   "version": "3.13.1"
  }
 },
 "nbformat": 4,
 "nbformat_minor": 4
}
