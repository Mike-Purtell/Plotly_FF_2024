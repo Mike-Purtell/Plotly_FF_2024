{
 "cells": [
  {
   "cell_type": "markdown",
   "metadata": {},
   "source": [
    "## Plotly Figure Friday 2024 - Week 33- August 16 - US Presidential Elections\n",
    "This week's Figure Friday explores the Irish Gender Pay Gap. Work on the following plots:\n",
    "4x2 heat map showing percentages of males females in each of 4 quantiles\n",
    "Make 2-point line plots to see if any differences between 2022 and 2023 (only years with data)\n"
   ]
  },
  {
   "cell_type": "code",
   "execution_count": 6,
   "metadata": {},
   "outputs": [
    {
     "name": "stdout",
     "output_type": "stream",
     "text": [
      "1976\n"
     ]
    },
    {
     "data": {
      "application/vnd.plotly.v1+json": {
       "config": {
        "plotlyServerURL": "https://plot.ly"
       },
       "data": [
        {
         "coloraxis": "coloraxis",
         "customdata": [
          [
           1976,
           "ALABAMA",
           "Carter",
           "Ford",
           0.13112398021727178
          ],
          [
           1976,
           "ALASKA",
           "Carter",
           "Ford",
           -0.2225144447861201
          ],
          [
           1976,
           "ARIZONA",
           "Carter",
           "Ford",
           -0.16566157591228986
          ],
          [
           1976,
           "ARKANSAS",
           "Carter",
           "Ford",
           0.30057391519604976
          ],
          [
           1976,
           "CALIFORNIA",
           "Carter",
           "Ford",
           -0.01793492119834389
          ],
          [
           1976,
           "COLORADO",
           "Carter",
           "Ford",
           -0.11417831779849086
          ],
          [
           1976,
           "CONNECTICUT",
           "Carter",
           "Ford",
           -0.05147743543320438
          ],
          [
           1976,
           "DELAWARE",
           "Carter",
           "Ford",
           0.053814684988244876
          ],
          [
           1976,
           "DISTRICT OF COLUMBIA",
           "Carter",
           "Ford",
           0.6512172007344667
          ],
          [
           1976,
           "FLORIDA",
           "Carter",
           "Ford",
           0.05283671747024643
          ],
          [
           1976,
           "GEORGIA",
           "Carter",
           "Ford",
           0.33876589718634836
          ],
          [
           1976,
           "HAWAII",
           "Carter",
           "Ford",
           0.025307156515082363
          ],
          [
           1976,
           "IDAHO",
           "Carter",
           "Ford",
           -0.2276172374549763
          ],
          [
           1976,
           "ILLINOIS",
           "Carter",
           "Ford",
           -0.01969253266379767
          ],
          [
           1976,
           "INDIANA",
           "Carter",
           "Ford",
           -0.07622360678123663
          ],
          [
           1976,
           "IOWA",
           "Carter",
           "Ford",
           -0.010109411140285018
          ],
          [
           1976,
           "KANSAS",
           "Carter",
           "Ford",
           -0.0755143055504805
          ],
          [
           1976,
           "KENTUCKY",
           "Carter",
           "Ford",
           0.07185500993023991
          ],
          [
           1976,
           "LOUISIANA",
           "Carter",
           "Ford",
           0.05786753072492745
          ],
          [
           1976,
           "MAINE",
           "Carter",
           "Ford",
           -0.008367013963658021
          ],
          [
           1976,
           "MARYLAND",
           "Carter",
           "Ford",
           0.06070839846872772
          ],
          [
           1976,
           "MASSACHUSETTS",
           "Carter",
           "Ford",
           0.15669868949009214
          ],
          [
           1976,
           "MICHIGAN",
           "Carter",
           "Ford",
           -0.05395676951684064
          ],
          [
           1976,
           "MINNESOTA",
           "Carter",
           "Ford",
           0.12874558125390073
          ],
          [
           1976,
           "MISSISSIPPI",
           "Carter",
           "Ford",
           0.01884850141204336
          ],
          [
           1976,
           "MISSOURI",
           "Carter",
           "Ford",
           0.03631449631449635
          ],
          [
           1976,
           "MONTANA",
           "Carter",
           "Ford",
           -0.07435799156765044
          ],
          [
           1976,
           "NEBRASKA",
           "Carter",
           "Ford",
           -0.20754216323389074
          ],
          [
           1976,
           "NEVADA",
           "Carter",
           "Ford",
           -0.04356139412312515
          ],
          [
           1976,
           "NEW HAMPSHIRE",
           "Carter",
           "Ford",
           -0.11274133093069755
          ],
          [
           1976,
           "NEW JERSEY",
           "Carter",
           "Ford",
           -0.02157425910739924
          ],
          [
           1976,
           "NEW MEXICO",
           "Carter",
           "Ford",
           -0.024654936508317515
          ],
          [
           1976,
           "NEW YORK",
           "Carter",
           "Ford",
           0.06272279043624857
          ],
          [
           1976,
           "NORTH CAROLINA",
           "Carter",
           "Ford",
           0.11049784672085328
          ],
          [
           1976,
           "NORTH DAKOTA",
           "Carter",
           "Ford",
           -0.05921804996838298
          ],
          [
           1976,
           "OHIO",
           "Carter",
           "Ford",
           0.002270551004560084
          ],
          [
           1976,
           "OKLAHOMA",
           "Carter",
           "Ford",
           -0.012145559949132578
          ],
          [
           1976,
           "OREGON",
           "Carter",
           "Ford",
           -0.0016633070389056592
          ],
          [
           1976,
           "PENNSYLVANIA",
           "Carter",
           "Ford",
           0.026634640376195673
          ],
          [
           1976,
           "RHODE ISLAND",
           "Carter",
           "Ford",
           0.11297809948755916
          ],
          [
           1976,
           "SOUTH CAROLINA",
           "Carter",
           "Ford",
           0.1304014662657943
          ],
          [
           1976,
           "SOUTH DAKOTA",
           "Carter",
           "Ford",
           -0.014756649971065405
          ],
          [
           1976,
           "TENNESSEE",
           "Carter",
           "Ford",
           0.12998985332706559
          ],
          [
           1976,
           "TEXAS",
           "Carter",
           "Ford",
           0.03168533288276387
          ],
          [
           1976,
           "UTAH",
           "Carter",
           "Ford",
           -0.28786551814610745
          ],
          [
           1976,
           "VERMONT",
           "Carter",
           "Ford",
           -0.12283172559297889
          ],
          [
           1976,
           "VIRGINIA",
           "Carter",
           "Ford",
           -0.013351057749305617
          ],
          [
           1976,
           "WASHINGTON",
           "Carter",
           "Ford",
           -0.03883489528354894
          ],
          [
           1976,
           "WEST VIRGINIA",
           "Carter",
           "Ford",
           0.16139037290664682
          ],
          [
           1976,
           "WISCONSIN",
           "Carter",
           "Ford",
           0.016772662725047294
          ],
          [
           1976,
           "WYOMING",
           "Carter",
           "Ford",
           -0.19494316982531995
          ]
         ],
         "geo": "geo",
         "geojson": "https://raw.githubusercontent.com/plotly/datasets/master/geojson-counties-fips.json",
         "hovertemplate": "%{customdata[0]}<br>%{customdata[1]}<br>%{customdata[2]}(D) vs %{customdata[3]}(R)<br>Dem Margin:%{customdata[4]:.1%}%<br><extra></extra>",
         "locationmode": "USA-states",
         "locations": [
          "AL",
          "AK",
          "AZ",
          "AR",
          "CA",
          "CO",
          "CT",
          "DE",
          "DC",
          "FL",
          "GA",
          "HI",
          "ID",
          "IL",
          "IN",
          "IA",
          "KS",
          "KY",
          "LA",
          "ME",
          "MD",
          "MA",
          "MI",
          "MN",
          "MS",
          "MO",
          "MT",
          "NE",
          "NV",
          "NH",
          "NJ",
          "NM",
          "NY",
          "NC",
          "ND",
          "OH",
          "OK",
          "OR",
          "PA",
          "RI",
          "SC",
          "SD",
          "TN",
          "TX",
          "UT",
          "VT",
          "VA",
          "WA",
          "WV",
          "WI",
          "WY"
         ],
         "name": "",
         "type": "choropleth",
         "z": [
          0.13112398021727178,
          -0.2225144447861201,
          -0.16566157591228986,
          0.30057391519604976,
          -0.01793492119834389,
          -0.11417831779849086,
          -0.05147743543320438,
          0.053814684988244876,
          0.6512172007344667,
          0.05283671747024643,
          0.33876589718634836,
          0.025307156515082363,
          -0.2276172374549763,
          -0.01969253266379767,
          -0.07622360678123663,
          -0.010109411140285018,
          -0.0755143055504805,
          0.07185500993023991,
          0.05786753072492745,
          -0.008367013963658021,
          0.06070839846872772,
          0.15669868949009214,
          -0.05395676951684064,
          0.12874558125390073,
          0.01884850141204336,
          0.03631449631449635,
          -0.07435799156765044,
          -0.20754216323389074,
          -0.04356139412312515,
          -0.11274133093069755,
          -0.02157425910739924,
          -0.024654936508317515,
          0.06272279043624857,
          0.11049784672085328,
          -0.05921804996838298,
          0.002270551004560084,
          -0.012145559949132578,
          -0.0016633070389056592,
          0.026634640376195673,
          0.11297809948755916,
          0.1304014662657943,
          -0.014756649971065405,
          0.12998985332706559,
          0.03168533288276387,
          -0.28786551814610745,
          -0.12283172559297889,
          -0.013351057749305617,
          -0.03883489528354894,
          0.16139037290664682,
          0.016772662725047294,
          -0.19494316982531995
         ]
        }
       ],
       "layout": {
        "coloraxis": {
         "cmax": 0.2,
         "cmid": 0,
         "cmin": -0.2,
         "colorbar": {
          "title": {
           "text": "DIFF_PCT"
          }
         },
         "colorscale": [
          [
           0,
           "rgb(103,0,31)"
          ],
          [
           0.1,
           "rgb(178,24,43)"
          ],
          [
           0.2,
           "rgb(214,96,77)"
          ],
          [
           0.3,
           "rgb(244,165,130)"
          ],
          [
           0.4,
           "rgb(253,219,199)"
          ],
          [
           0.5,
           "rgb(247,247,247)"
          ],
          [
           0.6,
           "rgb(209,229,240)"
          ],
          [
           0.7,
           "rgb(146,197,222)"
          ],
          [
           0.8,
           "rgb(67,147,195)"
          ],
          [
           0.9,
           "rgb(33,102,172)"
          ],
          [
           1,
           "rgb(5,48,97)"
          ]
         ]
        },
        "geo": {
         "center": {},
         "domain": {
          "x": [
           0,
           1
          ],
          "y": [
           0,
           1
          ]
         },
         "scope": "usa"
        },
        "legend": {
         "tracegroupgap": 0
        },
        "margin": {
         "b": 0,
         "l": 0,
         "r": 0,
         "t": 0
        },
        "template": {
         "data": {
          "bar": [
           {
            "error_x": {
             "color": "#2a3f5f"
            },
            "error_y": {
             "color": "#2a3f5f"
            },
            "marker": {
             "line": {
              "color": "#E5ECF6",
              "width": 0.5
             },
             "pattern": {
              "fillmode": "overlay",
              "size": 10,
              "solidity": 0.2
             }
            },
            "type": "bar"
           }
          ],
          "barpolar": [
           {
            "marker": {
             "line": {
              "color": "#E5ECF6",
              "width": 0.5
             },
             "pattern": {
              "fillmode": "overlay",
              "size": 10,
              "solidity": 0.2
             }
            },
            "type": "barpolar"
           }
          ],
          "carpet": [
           {
            "aaxis": {
             "endlinecolor": "#2a3f5f",
             "gridcolor": "white",
             "linecolor": "white",
             "minorgridcolor": "white",
             "startlinecolor": "#2a3f5f"
            },
            "baxis": {
             "endlinecolor": "#2a3f5f",
             "gridcolor": "white",
             "linecolor": "white",
             "minorgridcolor": "white",
             "startlinecolor": "#2a3f5f"
            },
            "type": "carpet"
           }
          ],
          "choropleth": [
           {
            "colorbar": {
             "outlinewidth": 0,
             "ticks": ""
            },
            "type": "choropleth"
           }
          ],
          "contour": [
           {
            "colorbar": {
             "outlinewidth": 0,
             "ticks": ""
            },
            "colorscale": [
             [
              0,
              "#0d0887"
             ],
             [
              0.1111111111111111,
              "#46039f"
             ],
             [
              0.2222222222222222,
              "#7201a8"
             ],
             [
              0.3333333333333333,
              "#9c179e"
             ],
             [
              0.4444444444444444,
              "#bd3786"
             ],
             [
              0.5555555555555556,
              "#d8576b"
             ],
             [
              0.6666666666666666,
              "#ed7953"
             ],
             [
              0.7777777777777778,
              "#fb9f3a"
             ],
             [
              0.8888888888888888,
              "#fdca26"
             ],
             [
              1,
              "#f0f921"
             ]
            ],
            "type": "contour"
           }
          ],
          "contourcarpet": [
           {
            "colorbar": {
             "outlinewidth": 0,
             "ticks": ""
            },
            "type": "contourcarpet"
           }
          ],
          "heatmap": [
           {
            "colorbar": {
             "outlinewidth": 0,
             "ticks": ""
            },
            "colorscale": [
             [
              0,
              "#0d0887"
             ],
             [
              0.1111111111111111,
              "#46039f"
             ],
             [
              0.2222222222222222,
              "#7201a8"
             ],
             [
              0.3333333333333333,
              "#9c179e"
             ],
             [
              0.4444444444444444,
              "#bd3786"
             ],
             [
              0.5555555555555556,
              "#d8576b"
             ],
             [
              0.6666666666666666,
              "#ed7953"
             ],
             [
              0.7777777777777778,
              "#fb9f3a"
             ],
             [
              0.8888888888888888,
              "#fdca26"
             ],
             [
              1,
              "#f0f921"
             ]
            ],
            "type": "heatmap"
           }
          ],
          "heatmapgl": [
           {
            "colorbar": {
             "outlinewidth": 0,
             "ticks": ""
            },
            "colorscale": [
             [
              0,
              "#0d0887"
             ],
             [
              0.1111111111111111,
              "#46039f"
             ],
             [
              0.2222222222222222,
              "#7201a8"
             ],
             [
              0.3333333333333333,
              "#9c179e"
             ],
             [
              0.4444444444444444,
              "#bd3786"
             ],
             [
              0.5555555555555556,
              "#d8576b"
             ],
             [
              0.6666666666666666,
              "#ed7953"
             ],
             [
              0.7777777777777778,
              "#fb9f3a"
             ],
             [
              0.8888888888888888,
              "#fdca26"
             ],
             [
              1,
              "#f0f921"
             ]
            ],
            "type": "heatmapgl"
           }
          ],
          "histogram": [
           {
            "marker": {
             "pattern": {
              "fillmode": "overlay",
              "size": 10,
              "solidity": 0.2
             }
            },
            "type": "histogram"
           }
          ],
          "histogram2d": [
           {
            "colorbar": {
             "outlinewidth": 0,
             "ticks": ""
            },
            "colorscale": [
             [
              0,
              "#0d0887"
             ],
             [
              0.1111111111111111,
              "#46039f"
             ],
             [
              0.2222222222222222,
              "#7201a8"
             ],
             [
              0.3333333333333333,
              "#9c179e"
             ],
             [
              0.4444444444444444,
              "#bd3786"
             ],
             [
              0.5555555555555556,
              "#d8576b"
             ],
             [
              0.6666666666666666,
              "#ed7953"
             ],
             [
              0.7777777777777778,
              "#fb9f3a"
             ],
             [
              0.8888888888888888,
              "#fdca26"
             ],
             [
              1,
              "#f0f921"
             ]
            ],
            "type": "histogram2d"
           }
          ],
          "histogram2dcontour": [
           {
            "colorbar": {
             "outlinewidth": 0,
             "ticks": ""
            },
            "colorscale": [
             [
              0,
              "#0d0887"
             ],
             [
              0.1111111111111111,
              "#46039f"
             ],
             [
              0.2222222222222222,
              "#7201a8"
             ],
             [
              0.3333333333333333,
              "#9c179e"
             ],
             [
              0.4444444444444444,
              "#bd3786"
             ],
             [
              0.5555555555555556,
              "#d8576b"
             ],
             [
              0.6666666666666666,
              "#ed7953"
             ],
             [
              0.7777777777777778,
              "#fb9f3a"
             ],
             [
              0.8888888888888888,
              "#fdca26"
             ],
             [
              1,
              "#f0f921"
             ]
            ],
            "type": "histogram2dcontour"
           }
          ],
          "mesh3d": [
           {
            "colorbar": {
             "outlinewidth": 0,
             "ticks": ""
            },
            "type": "mesh3d"
           }
          ],
          "parcoords": [
           {
            "line": {
             "colorbar": {
              "outlinewidth": 0,
              "ticks": ""
             }
            },
            "type": "parcoords"
           }
          ],
          "pie": [
           {
            "automargin": true,
            "type": "pie"
           }
          ],
          "scatter": [
           {
            "fillpattern": {
             "fillmode": "overlay",
             "size": 10,
             "solidity": 0.2
            },
            "type": "scatter"
           }
          ],
          "scatter3d": [
           {
            "line": {
             "colorbar": {
              "outlinewidth": 0,
              "ticks": ""
             }
            },
            "marker": {
             "colorbar": {
              "outlinewidth": 0,
              "ticks": ""
             }
            },
            "type": "scatter3d"
           }
          ],
          "scattercarpet": [
           {
            "marker": {
             "colorbar": {
              "outlinewidth": 0,
              "ticks": ""
             }
            },
            "type": "scattercarpet"
           }
          ],
          "scattergeo": [
           {
            "marker": {
             "colorbar": {
              "outlinewidth": 0,
              "ticks": ""
             }
            },
            "type": "scattergeo"
           }
          ],
          "scattergl": [
           {
            "marker": {
             "colorbar": {
              "outlinewidth": 0,
              "ticks": ""
             }
            },
            "type": "scattergl"
           }
          ],
          "scattermapbox": [
           {
            "marker": {
             "colorbar": {
              "outlinewidth": 0,
              "ticks": ""
             }
            },
            "type": "scattermapbox"
           }
          ],
          "scatterpolar": [
           {
            "marker": {
             "colorbar": {
              "outlinewidth": 0,
              "ticks": ""
             }
            },
            "type": "scatterpolar"
           }
          ],
          "scatterpolargl": [
           {
            "marker": {
             "colorbar": {
              "outlinewidth": 0,
              "ticks": ""
             }
            },
            "type": "scatterpolargl"
           }
          ],
          "scatterternary": [
           {
            "marker": {
             "colorbar": {
              "outlinewidth": 0,
              "ticks": ""
             }
            },
            "type": "scatterternary"
           }
          ],
          "surface": [
           {
            "colorbar": {
             "outlinewidth": 0,
             "ticks": ""
            },
            "colorscale": [
             [
              0,
              "#0d0887"
             ],
             [
              0.1111111111111111,
              "#46039f"
             ],
             [
              0.2222222222222222,
              "#7201a8"
             ],
             [
              0.3333333333333333,
              "#9c179e"
             ],
             [
              0.4444444444444444,
              "#bd3786"
             ],
             [
              0.5555555555555556,
              "#d8576b"
             ],
             [
              0.6666666666666666,
              "#ed7953"
             ],
             [
              0.7777777777777778,
              "#fb9f3a"
             ],
             [
              0.8888888888888888,
              "#fdca26"
             ],
             [
              1,
              "#f0f921"
             ]
            ],
            "type": "surface"
           }
          ],
          "table": [
           {
            "cells": {
             "fill": {
              "color": "#EBF0F8"
             },
             "line": {
              "color": "white"
             }
            },
            "header": {
             "fill": {
              "color": "#C8D4E3"
             },
             "line": {
              "color": "white"
             }
            },
            "type": "table"
           }
          ]
         },
         "layout": {
          "annotationdefaults": {
           "arrowcolor": "#2a3f5f",
           "arrowhead": 0,
           "arrowwidth": 1
          },
          "autotypenumbers": "strict",
          "coloraxis": {
           "colorbar": {
            "outlinewidth": 0,
            "ticks": ""
           }
          },
          "colorscale": {
           "diverging": [
            [
             0,
             "#8e0152"
            ],
            [
             0.1,
             "#c51b7d"
            ],
            [
             0.2,
             "#de77ae"
            ],
            [
             0.3,
             "#f1b6da"
            ],
            [
             0.4,
             "#fde0ef"
            ],
            [
             0.5,
             "#f7f7f7"
            ],
            [
             0.6,
             "#e6f5d0"
            ],
            [
             0.7,
             "#b8e186"
            ],
            [
             0.8,
             "#7fbc41"
            ],
            [
             0.9,
             "#4d9221"
            ],
            [
             1,
             "#276419"
            ]
           ],
           "sequential": [
            [
             0,
             "#0d0887"
            ],
            [
             0.1111111111111111,
             "#46039f"
            ],
            [
             0.2222222222222222,
             "#7201a8"
            ],
            [
             0.3333333333333333,
             "#9c179e"
            ],
            [
             0.4444444444444444,
             "#bd3786"
            ],
            [
             0.5555555555555556,
             "#d8576b"
            ],
            [
             0.6666666666666666,
             "#ed7953"
            ],
            [
             0.7777777777777778,
             "#fb9f3a"
            ],
            [
             0.8888888888888888,
             "#fdca26"
            ],
            [
             1,
             "#f0f921"
            ]
           ],
           "sequentialminus": [
            [
             0,
             "#0d0887"
            ],
            [
             0.1111111111111111,
             "#46039f"
            ],
            [
             0.2222222222222222,
             "#7201a8"
            ],
            [
             0.3333333333333333,
             "#9c179e"
            ],
            [
             0.4444444444444444,
             "#bd3786"
            ],
            [
             0.5555555555555556,
             "#d8576b"
            ],
            [
             0.6666666666666666,
             "#ed7953"
            ],
            [
             0.7777777777777778,
             "#fb9f3a"
            ],
            [
             0.8888888888888888,
             "#fdca26"
            ],
            [
             1,
             "#f0f921"
            ]
           ]
          },
          "colorway": [
           "#636efa",
           "#EF553B",
           "#00cc96",
           "#ab63fa",
           "#FFA15A",
           "#19d3f3",
           "#FF6692",
           "#B6E880",
           "#FF97FF",
           "#FECB52"
          ],
          "font": {
           "color": "#2a3f5f"
          },
          "geo": {
           "bgcolor": "white",
           "lakecolor": "white",
           "landcolor": "#E5ECF6",
           "showlakes": true,
           "showland": true,
           "subunitcolor": "white"
          },
          "hoverlabel": {
           "align": "left"
          },
          "hovermode": "closest",
          "mapbox": {
           "style": "light"
          },
          "paper_bgcolor": "white",
          "plot_bgcolor": "#E5ECF6",
          "polar": {
           "angularaxis": {
            "gridcolor": "white",
            "linecolor": "white",
            "ticks": ""
           },
           "bgcolor": "#E5ECF6",
           "radialaxis": {
            "gridcolor": "white",
            "linecolor": "white",
            "ticks": ""
           }
          },
          "scene": {
           "xaxis": {
            "backgroundcolor": "#E5ECF6",
            "gridcolor": "white",
            "gridwidth": 2,
            "linecolor": "white",
            "showbackground": true,
            "ticks": "",
            "zerolinecolor": "white"
           },
           "yaxis": {
            "backgroundcolor": "#E5ECF6",
            "gridcolor": "white",
            "gridwidth": 2,
            "linecolor": "white",
            "showbackground": true,
            "ticks": "",
            "zerolinecolor": "white"
           },
           "zaxis": {
            "backgroundcolor": "#E5ECF6",
            "gridcolor": "white",
            "gridwidth": 2,
            "linecolor": "white",
            "showbackground": true,
            "ticks": "",
            "zerolinecolor": "white"
           }
          },
          "shapedefaults": {
           "line": {
            "color": "#2a3f5f"
           }
          },
          "ternary": {
           "aaxis": {
            "gridcolor": "white",
            "linecolor": "white",
            "ticks": ""
           },
           "baxis": {
            "gridcolor": "white",
            "linecolor": "white",
            "ticks": ""
           },
           "bgcolor": "#E5ECF6",
           "caxis": {
            "gridcolor": "white",
            "linecolor": "white",
            "ticks": ""
           }
          },
          "title": {
           "x": 0.05
          },
          "xaxis": {
           "automargin": true,
           "gridcolor": "white",
           "linecolor": "white",
           "ticks": "",
           "title": {
            "standoff": 15
           },
           "zerolinecolor": "white",
           "zerolinewidth": 2
          },
          "yaxis": {
           "automargin": true,
           "gridcolor": "white",
           "linecolor": "white",
           "ticks": "",
           "title": {
            "standoff": 15
           },
           "zerolinecolor": "white",
           "zerolinewidth": 2
          }
         }
        },
        "title": {
         "text": "1976"
        }
       }
      }
     },
     "metadata": {},
     "output_type": "display_data"
    },
    {
     "name": "stdout",
     "output_type": "stream",
     "text": [
      "1980\n"
     ]
    },
    {
     "data": {
      "application/vnd.plotly.v1+json": {
       "config": {
        "plotlyServerURL": "https://plot.ly"
       },
       "data": [
        {
         "coloraxis": "coloraxis",
         "customdata": [
          [
           1980,
           "ALABAMA",
           "Carter",
           "Reagan",
           -0.013012610950355774
          ],
          [
           1980,
           "ALASKA",
           "Carter",
           "Reagan",
           -0.27940294739499516
          ],
          [
           1980,
           "ARIZONA",
           "Carter",
           "Reagan",
           -0.3236416479297896
          ],
          [
           1980,
           "ARKANSAS",
           "Carter",
           "Reagan",
           -0.006116416064337604
          ],
          [
           1980,
           "CALIFORNIA",
           "Carter",
           "Reagan",
           -0.16778065972281286
          ],
          [
           1980,
           "COLORADO",
           "Carter",
           "Reagan",
           -0.23998902444172399
          ],
          [
           1980,
           "CONNECTICUT",
           "Carter",
           "Reagan",
           -0.09633751337744478
          ],
          [
           1980,
           "DELAWARE",
           "Carter",
           "Reagan",
           -0.02332942953646655
          ],
          [
           1980,
           "DISTRICT OF COLUMBIA",
           "Carter",
           "Reagan",
           0.6148635048795495
          ],
          [
           1980,
           "FLORIDA",
           "Carter",
           "Reagan",
           -0.17018942875733645
          ],
          [
           1980,
           "GEORGIA",
           "Carter",
           "Reagan",
           0.14828798757518918
          ],
          [
           1980,
           "HAWAII",
           "Carter",
           "Reagan",
           0.019014992399938035
          ],
          [
           1980,
           "IDAHO",
           "Carter",
           "Reagan",
           -0.4126525097672547
          ],
          [
           1980,
           "ILLINOIS",
           "Carter",
           "Reagan",
           -0.0792964470965768
          ],
          [
           1980,
           "INDIANA",
           "Carter",
           "Reagan",
           -0.1835204923388728
          ],
          [
           1980,
           "IOWA",
           "Carter",
           "Reagan",
           -0.12700838834874822
          ],
          [
           1980,
           "KANSAS",
           "Carter",
           "Reagan",
           -0.24562485009619361
          ],
          [
           1980,
           "KENTUCKY",
           "Carter",
           "Reagan",
           -0.013782516109960674
          ],
          [
           1980,
           "LOUISIANA",
           "Carter",
           "Reagan",
           -0.0545011562123246
          ],
          [
           1980,
           "MAINE",
           "Carter",
           "Reagan",
           -0.033551875581966706
          ],
          [
           1980,
           "MARYLAND",
           "Carter",
           "Reagan",
           0.029571644457369595
          ],
          [
           1980,
           "MASSACHUSETTS",
           "Carter",
           "Reagan",
           -0.0015169823579982977
          ],
          [
           1980,
           "MICHIGAN",
           "Carter",
           "Reagan",
           -0.064887683916388
          ],
          [
           1980,
           "MINNESOTA",
           "Carter",
           "Reagan",
           0.0394290019669421
          ],
          [
           1980,
           "MISSISSIPPI",
           "Carter",
           "Reagan",
           -0.013241379310344803
          ],
          [
           1980,
           "MISSOURI",
           "Carter",
           "Reagan",
           -0.06810046937267122
          ],
          [
           1980,
           "MONTANA",
           "Carter",
           "Reagan",
           -0.2439387611553172
          ],
          [
           1980,
           "NEBRASKA",
           "Carter",
           "Reagan",
           -0.3952728006217036
          ],
          [
           1980,
           "NEVADA",
           "Carter",
           "Reagan",
           -0.36255190978776486
          ],
          [
           1980,
           "NEW HAMPSHIRE",
           "Carter",
           "Reagan",
           -0.2938644235526967
          ],
          [
           1980,
           "NEW JERSEY",
           "Carter",
           "Reagan",
           -0.1341516773958526
          ],
          [
           1980,
           "NEW MEXICO",
           "Carter",
           "Reagan",
           -0.18181997514449727
          ],
          [
           1980,
           "NEW YORK",
           "Carter",
           "Reagan",
           0.0146198967132804
          ],
          [
           1980,
           "NORTH CAROLINA",
           "Carter",
           "Reagan",
           -0.02122119824359192
          ],
          [
           1980,
           "NORTH DAKOTA",
           "Carter",
           "Reagan",
           -0.3802720546234674
          ],
          [
           1980,
           "OHIO",
           "Carter",
           "Reagan",
           -0.10601612707806957
          ],
          [
           1980,
           "OKLAHOMA",
           "Carter",
           "Reagan",
           -0.2553204813744011
          ],
          [
           1980,
           "OREGON",
           "Carter",
           "Reagan",
           -0.09661655026254407
          ],
          [
           1980,
           "PENNSYLVANIA",
           "Carter",
           "Reagan",
           -0.07110203417690797
          ],
          [
           1980,
           "RHODE ISLAND",
           "Carter",
           "Reagan",
           0.1046934011592266
          ],
          [
           1980,
           "SOUTH CAROLINA",
           "Carter",
           "Reagan",
           -0.0124479599395671
          ],
          [
           1980,
           "SOUTH DAKOTA",
           "Carter",
           "Reagan",
           -0.28833425388232636
          ],
          [
           1980,
           "TENNESSEE",
           "Carter",
           "Reagan",
           -0.0029116922681278745
          ],
          [
           1980,
           "TEXAS",
           "Carter",
           "Reagan",
           -0.13861921122696758
          ],
          [
           1980,
           "UTAH",
           "Carter",
           "Reagan",
           -0.5220888120870244
          ],
          [
           1980,
           "VERMONT",
           "Carter",
           "Reagan",
           -0.05942831424432371
          ],
          [
           1980,
           "VIRGINIA",
           "Carter",
           "Reagan",
           -0.1272405832268686
          ],
          [
           1980,
           "WASHINGTON",
           "Carter",
           "Reagan",
           -0.1234227161020986
          ],
          [
           1980,
           "WEST VIRGINIA",
           "Carter",
           "Reagan",
           0.045079739465782864
          ],
          [
           1980,
           "WISCONSIN",
           "Carter",
           "Reagan",
           -0.04718458961975097
          ],
          [
           1980,
           "WYOMING",
           "Carter",
           "Reagan",
           -0.34673736510613257
          ]
         ],
         "geo": "geo",
         "geojson": "https://raw.githubusercontent.com/plotly/datasets/master/geojson-counties-fips.json",
         "hovertemplate": "%{customdata[0]}<br>%{customdata[1]}<br>%{customdata[2]}(D) vs %{customdata[3]}(R)<br>Dem Margin:%{customdata[4]:.1%}%<br><extra></extra>",
         "locationmode": "USA-states",
         "locations": [
          "AL",
          "AK",
          "AZ",
          "AR",
          "CA",
          "CO",
          "CT",
          "DE",
          "DC",
          "FL",
          "GA",
          "HI",
          "ID",
          "IL",
          "IN",
          "IA",
          "KS",
          "KY",
          "LA",
          "ME",
          "MD",
          "MA",
          "MI",
          "MN",
          "MS",
          "MO",
          "MT",
          "NE",
          "NV",
          "NH",
          "NJ",
          "NM",
          "NY",
          "NC",
          "ND",
          "OH",
          "OK",
          "OR",
          "PA",
          "RI",
          "SC",
          "SD",
          "TN",
          "TX",
          "UT",
          "VT",
          "VA",
          "WA",
          "WV",
          "WI",
          "WY"
         ],
         "name": "",
         "type": "choropleth",
         "z": [
          -0.013012610950355774,
          -0.27940294739499516,
          -0.3236416479297896,
          -0.006116416064337604,
          -0.16778065972281286,
          -0.23998902444172399,
          -0.09633751337744478,
          -0.02332942953646655,
          0.6148635048795495,
          -0.17018942875733645,
          0.14828798757518918,
          0.019014992399938035,
          -0.4126525097672547,
          -0.0792964470965768,
          -0.1835204923388728,
          -0.12700838834874822,
          -0.24562485009619361,
          -0.013782516109960674,
          -0.0545011562123246,
          -0.033551875581966706,
          0.029571644457369595,
          -0.0015169823579982977,
          -0.064887683916388,
          0.0394290019669421,
          -0.013241379310344803,
          -0.06810046937267122,
          -0.2439387611553172,
          -0.3952728006217036,
          -0.36255190978776486,
          -0.2938644235526967,
          -0.1341516773958526,
          -0.18181997514449727,
          0.0146198967132804,
          -0.02122119824359192,
          -0.3802720546234674,
          -0.10601612707806957,
          -0.2553204813744011,
          -0.09661655026254407,
          -0.07110203417690797,
          0.1046934011592266,
          -0.0124479599395671,
          -0.28833425388232636,
          -0.0029116922681278745,
          -0.13861921122696758,
          -0.5220888120870244,
          -0.05942831424432371,
          -0.1272405832268686,
          -0.1234227161020986,
          0.045079739465782864,
          -0.04718458961975097,
          -0.34673736510613257
         ]
        }
       ],
       "layout": {
        "coloraxis": {
         "cmax": 0.2,
         "cmid": 0,
         "cmin": -0.2,
         "colorbar": {
          "title": {
           "text": "DIFF_PCT"
          }
         },
         "colorscale": [
          [
           0,
           "rgb(103,0,31)"
          ],
          [
           0.1,
           "rgb(178,24,43)"
          ],
          [
           0.2,
           "rgb(214,96,77)"
          ],
          [
           0.3,
           "rgb(244,165,130)"
          ],
          [
           0.4,
           "rgb(253,219,199)"
          ],
          [
           0.5,
           "rgb(247,247,247)"
          ],
          [
           0.6,
           "rgb(209,229,240)"
          ],
          [
           0.7,
           "rgb(146,197,222)"
          ],
          [
           0.8,
           "rgb(67,147,195)"
          ],
          [
           0.9,
           "rgb(33,102,172)"
          ],
          [
           1,
           "rgb(5,48,97)"
          ]
         ]
        },
        "geo": {
         "center": {},
         "domain": {
          "x": [
           0,
           1
          ],
          "y": [
           0,
           1
          ]
         },
         "scope": "usa"
        },
        "legend": {
         "tracegroupgap": 0
        },
        "margin": {
         "b": 0,
         "l": 0,
         "r": 0,
         "t": 0
        },
        "template": {
         "data": {
          "bar": [
           {
            "error_x": {
             "color": "#2a3f5f"
            },
            "error_y": {
             "color": "#2a3f5f"
            },
            "marker": {
             "line": {
              "color": "#E5ECF6",
              "width": 0.5
             },
             "pattern": {
              "fillmode": "overlay",
              "size": 10,
              "solidity": 0.2
             }
            },
            "type": "bar"
           }
          ],
          "barpolar": [
           {
            "marker": {
             "line": {
              "color": "#E5ECF6",
              "width": 0.5
             },
             "pattern": {
              "fillmode": "overlay",
              "size": 10,
              "solidity": 0.2
             }
            },
            "type": "barpolar"
           }
          ],
          "carpet": [
           {
            "aaxis": {
             "endlinecolor": "#2a3f5f",
             "gridcolor": "white",
             "linecolor": "white",
             "minorgridcolor": "white",
             "startlinecolor": "#2a3f5f"
            },
            "baxis": {
             "endlinecolor": "#2a3f5f",
             "gridcolor": "white",
             "linecolor": "white",
             "minorgridcolor": "white",
             "startlinecolor": "#2a3f5f"
            },
            "type": "carpet"
           }
          ],
          "choropleth": [
           {
            "colorbar": {
             "outlinewidth": 0,
             "ticks": ""
            },
            "type": "choropleth"
           }
          ],
          "contour": [
           {
            "colorbar": {
             "outlinewidth": 0,
             "ticks": ""
            },
            "colorscale": [
             [
              0,
              "#0d0887"
             ],
             [
              0.1111111111111111,
              "#46039f"
             ],
             [
              0.2222222222222222,
              "#7201a8"
             ],
             [
              0.3333333333333333,
              "#9c179e"
             ],
             [
              0.4444444444444444,
              "#bd3786"
             ],
             [
              0.5555555555555556,
              "#d8576b"
             ],
             [
              0.6666666666666666,
              "#ed7953"
             ],
             [
              0.7777777777777778,
              "#fb9f3a"
             ],
             [
              0.8888888888888888,
              "#fdca26"
             ],
             [
              1,
              "#f0f921"
             ]
            ],
            "type": "contour"
           }
          ],
          "contourcarpet": [
           {
            "colorbar": {
             "outlinewidth": 0,
             "ticks": ""
            },
            "type": "contourcarpet"
           }
          ],
          "heatmap": [
           {
            "colorbar": {
             "outlinewidth": 0,
             "ticks": ""
            },
            "colorscale": [
             [
              0,
              "#0d0887"
             ],
             [
              0.1111111111111111,
              "#46039f"
             ],
             [
              0.2222222222222222,
              "#7201a8"
             ],
             [
              0.3333333333333333,
              "#9c179e"
             ],
             [
              0.4444444444444444,
              "#bd3786"
             ],
             [
              0.5555555555555556,
              "#d8576b"
             ],
             [
              0.6666666666666666,
              "#ed7953"
             ],
             [
              0.7777777777777778,
              "#fb9f3a"
             ],
             [
              0.8888888888888888,
              "#fdca26"
             ],
             [
              1,
              "#f0f921"
             ]
            ],
            "type": "heatmap"
           }
          ],
          "heatmapgl": [
           {
            "colorbar": {
             "outlinewidth": 0,
             "ticks": ""
            },
            "colorscale": [
             [
              0,
              "#0d0887"
             ],
             [
              0.1111111111111111,
              "#46039f"
             ],
             [
              0.2222222222222222,
              "#7201a8"
             ],
             [
              0.3333333333333333,
              "#9c179e"
             ],
             [
              0.4444444444444444,
              "#bd3786"
             ],
             [
              0.5555555555555556,
              "#d8576b"
             ],
             [
              0.6666666666666666,
              "#ed7953"
             ],
             [
              0.7777777777777778,
              "#fb9f3a"
             ],
             [
              0.8888888888888888,
              "#fdca26"
             ],
             [
              1,
              "#f0f921"
             ]
            ],
            "type": "heatmapgl"
           }
          ],
          "histogram": [
           {
            "marker": {
             "pattern": {
              "fillmode": "overlay",
              "size": 10,
              "solidity": 0.2
             }
            },
            "type": "histogram"
           }
          ],
          "histogram2d": [
           {
            "colorbar": {
             "outlinewidth": 0,
             "ticks": ""
            },
            "colorscale": [
             [
              0,
              "#0d0887"
             ],
             [
              0.1111111111111111,
              "#46039f"
             ],
             [
              0.2222222222222222,
              "#7201a8"
             ],
             [
              0.3333333333333333,
              "#9c179e"
             ],
             [
              0.4444444444444444,
              "#bd3786"
             ],
             [
              0.5555555555555556,
              "#d8576b"
             ],
             [
              0.6666666666666666,
              "#ed7953"
             ],
             [
              0.7777777777777778,
              "#fb9f3a"
             ],
             [
              0.8888888888888888,
              "#fdca26"
             ],
             [
              1,
              "#f0f921"
             ]
            ],
            "type": "histogram2d"
           }
          ],
          "histogram2dcontour": [
           {
            "colorbar": {
             "outlinewidth": 0,
             "ticks": ""
            },
            "colorscale": [
             [
              0,
              "#0d0887"
             ],
             [
              0.1111111111111111,
              "#46039f"
             ],
             [
              0.2222222222222222,
              "#7201a8"
             ],
             [
              0.3333333333333333,
              "#9c179e"
             ],
             [
              0.4444444444444444,
              "#bd3786"
             ],
             [
              0.5555555555555556,
              "#d8576b"
             ],
             [
              0.6666666666666666,
              "#ed7953"
             ],
             [
              0.7777777777777778,
              "#fb9f3a"
             ],
             [
              0.8888888888888888,
              "#fdca26"
             ],
             [
              1,
              "#f0f921"
             ]
            ],
            "type": "histogram2dcontour"
           }
          ],
          "mesh3d": [
           {
            "colorbar": {
             "outlinewidth": 0,
             "ticks": ""
            },
            "type": "mesh3d"
           }
          ],
          "parcoords": [
           {
            "line": {
             "colorbar": {
              "outlinewidth": 0,
              "ticks": ""
             }
            },
            "type": "parcoords"
           }
          ],
          "pie": [
           {
            "automargin": true,
            "type": "pie"
           }
          ],
          "scatter": [
           {
            "fillpattern": {
             "fillmode": "overlay",
             "size": 10,
             "solidity": 0.2
            },
            "type": "scatter"
           }
          ],
          "scatter3d": [
           {
            "line": {
             "colorbar": {
              "outlinewidth": 0,
              "ticks": ""
             }
            },
            "marker": {
             "colorbar": {
              "outlinewidth": 0,
              "ticks": ""
             }
            },
            "type": "scatter3d"
           }
          ],
          "scattercarpet": [
           {
            "marker": {
             "colorbar": {
              "outlinewidth": 0,
              "ticks": ""
             }
            },
            "type": "scattercarpet"
           }
          ],
          "scattergeo": [
           {
            "marker": {
             "colorbar": {
              "outlinewidth": 0,
              "ticks": ""
             }
            },
            "type": "scattergeo"
           }
          ],
          "scattergl": [
           {
            "marker": {
             "colorbar": {
              "outlinewidth": 0,
              "ticks": ""
             }
            },
            "type": "scattergl"
           }
          ],
          "scattermapbox": [
           {
            "marker": {
             "colorbar": {
              "outlinewidth": 0,
              "ticks": ""
             }
            },
            "type": "scattermapbox"
           }
          ],
          "scatterpolar": [
           {
            "marker": {
             "colorbar": {
              "outlinewidth": 0,
              "ticks": ""
             }
            },
            "type": "scatterpolar"
           }
          ],
          "scatterpolargl": [
           {
            "marker": {
             "colorbar": {
              "outlinewidth": 0,
              "ticks": ""
             }
            },
            "type": "scatterpolargl"
           }
          ],
          "scatterternary": [
           {
            "marker": {
             "colorbar": {
              "outlinewidth": 0,
              "ticks": ""
             }
            },
            "type": "scatterternary"
           }
          ],
          "surface": [
           {
            "colorbar": {
             "outlinewidth": 0,
             "ticks": ""
            },
            "colorscale": [
             [
              0,
              "#0d0887"
             ],
             [
              0.1111111111111111,
              "#46039f"
             ],
             [
              0.2222222222222222,
              "#7201a8"
             ],
             [
              0.3333333333333333,
              "#9c179e"
             ],
             [
              0.4444444444444444,
              "#bd3786"
             ],
             [
              0.5555555555555556,
              "#d8576b"
             ],
             [
              0.6666666666666666,
              "#ed7953"
             ],
             [
              0.7777777777777778,
              "#fb9f3a"
             ],
             [
              0.8888888888888888,
              "#fdca26"
             ],
             [
              1,
              "#f0f921"
             ]
            ],
            "type": "surface"
           }
          ],
          "table": [
           {
            "cells": {
             "fill": {
              "color": "#EBF0F8"
             },
             "line": {
              "color": "white"
             }
            },
            "header": {
             "fill": {
              "color": "#C8D4E3"
             },
             "line": {
              "color": "white"
             }
            },
            "type": "table"
           }
          ]
         },
         "layout": {
          "annotationdefaults": {
           "arrowcolor": "#2a3f5f",
           "arrowhead": 0,
           "arrowwidth": 1
          },
          "autotypenumbers": "strict",
          "coloraxis": {
           "colorbar": {
            "outlinewidth": 0,
            "ticks": ""
           }
          },
          "colorscale": {
           "diverging": [
            [
             0,
             "#8e0152"
            ],
            [
             0.1,
             "#c51b7d"
            ],
            [
             0.2,
             "#de77ae"
            ],
            [
             0.3,
             "#f1b6da"
            ],
            [
             0.4,
             "#fde0ef"
            ],
            [
             0.5,
             "#f7f7f7"
            ],
            [
             0.6,
             "#e6f5d0"
            ],
            [
             0.7,
             "#b8e186"
            ],
            [
             0.8,
             "#7fbc41"
            ],
            [
             0.9,
             "#4d9221"
            ],
            [
             1,
             "#276419"
            ]
           ],
           "sequential": [
            [
             0,
             "#0d0887"
            ],
            [
             0.1111111111111111,
             "#46039f"
            ],
            [
             0.2222222222222222,
             "#7201a8"
            ],
            [
             0.3333333333333333,
             "#9c179e"
            ],
            [
             0.4444444444444444,
             "#bd3786"
            ],
            [
             0.5555555555555556,
             "#d8576b"
            ],
            [
             0.6666666666666666,
             "#ed7953"
            ],
            [
             0.7777777777777778,
             "#fb9f3a"
            ],
            [
             0.8888888888888888,
             "#fdca26"
            ],
            [
             1,
             "#f0f921"
            ]
           ],
           "sequentialminus": [
            [
             0,
             "#0d0887"
            ],
            [
             0.1111111111111111,
             "#46039f"
            ],
            [
             0.2222222222222222,
             "#7201a8"
            ],
            [
             0.3333333333333333,
             "#9c179e"
            ],
            [
             0.4444444444444444,
             "#bd3786"
            ],
            [
             0.5555555555555556,
             "#d8576b"
            ],
            [
             0.6666666666666666,
             "#ed7953"
            ],
            [
             0.7777777777777778,
             "#fb9f3a"
            ],
            [
             0.8888888888888888,
             "#fdca26"
            ],
            [
             1,
             "#f0f921"
            ]
           ]
          },
          "colorway": [
           "#636efa",
           "#EF553B",
           "#00cc96",
           "#ab63fa",
           "#FFA15A",
           "#19d3f3",
           "#FF6692",
           "#B6E880",
           "#FF97FF",
           "#FECB52"
          ],
          "font": {
           "color": "#2a3f5f"
          },
          "geo": {
           "bgcolor": "white",
           "lakecolor": "white",
           "landcolor": "#E5ECF6",
           "showlakes": true,
           "showland": true,
           "subunitcolor": "white"
          },
          "hoverlabel": {
           "align": "left"
          },
          "hovermode": "closest",
          "mapbox": {
           "style": "light"
          },
          "paper_bgcolor": "white",
          "plot_bgcolor": "#E5ECF6",
          "polar": {
           "angularaxis": {
            "gridcolor": "white",
            "linecolor": "white",
            "ticks": ""
           },
           "bgcolor": "#E5ECF6",
           "radialaxis": {
            "gridcolor": "white",
            "linecolor": "white",
            "ticks": ""
           }
          },
          "scene": {
           "xaxis": {
            "backgroundcolor": "#E5ECF6",
            "gridcolor": "white",
            "gridwidth": 2,
            "linecolor": "white",
            "showbackground": true,
            "ticks": "",
            "zerolinecolor": "white"
           },
           "yaxis": {
            "backgroundcolor": "#E5ECF6",
            "gridcolor": "white",
            "gridwidth": 2,
            "linecolor": "white",
            "showbackground": true,
            "ticks": "",
            "zerolinecolor": "white"
           },
           "zaxis": {
            "backgroundcolor": "#E5ECF6",
            "gridcolor": "white",
            "gridwidth": 2,
            "linecolor": "white",
            "showbackground": true,
            "ticks": "",
            "zerolinecolor": "white"
           }
          },
          "shapedefaults": {
           "line": {
            "color": "#2a3f5f"
           }
          },
          "ternary": {
           "aaxis": {
            "gridcolor": "white",
            "linecolor": "white",
            "ticks": ""
           },
           "baxis": {
            "gridcolor": "white",
            "linecolor": "white",
            "ticks": ""
           },
           "bgcolor": "#E5ECF6",
           "caxis": {
            "gridcolor": "white",
            "linecolor": "white",
            "ticks": ""
           }
          },
          "title": {
           "x": 0.05
          },
          "xaxis": {
           "automargin": true,
           "gridcolor": "white",
           "linecolor": "white",
           "ticks": "",
           "title": {
            "standoff": 15
           },
           "zerolinecolor": "white",
           "zerolinewidth": 2
          },
          "yaxis": {
           "automargin": true,
           "gridcolor": "white",
           "linecolor": "white",
           "ticks": "",
           "title": {
            "standoff": 15
           },
           "zerolinecolor": "white",
           "zerolinewidth": 2
          }
         }
        },
        "title": {
         "text": "1980"
        }
       }
      }
     },
     "metadata": {},
     "output_type": "display_data"
    },
    {
     "name": "stdout",
     "output_type": "stream",
     "text": [
      "1984\n"
     ]
    },
    {
     "data": {
      "application/vnd.plotly.v1+json": {
       "config": {
        "plotlyServerURL": "https://plot.ly"
       },
       "data": [
        {
         "coloraxis": "coloraxis",
         "customdata": [
          [
           1984,
           "ALABAMA",
           "Mondale",
           "Reagan",
           -0.22261712282541668
          ],
          [
           1984,
           "ALASKA",
           "Mondale",
           "Reagan",
           -0.36786204571180847
          ],
          [
           1984,
           "ARIZONA",
           "Mondale",
           "Reagan",
           -0.3387883968858473
          ],
          [
           1984,
           "ARKANSAS",
           "Mondale",
           "Reagan",
           -0.22176240324014085
          ],
          [
           1984,
           "CALIFORNIA",
           "Mondale",
           "Reagan",
           -0.16249167152461524
          ],
          [
           1984,
           "COLORADO",
           "Mondale",
           "Reagan",
           -0.2831925766956414
          ],
          [
           1984,
           "CONNECTICUT",
           "Mondale",
           "Reagan",
           -0.2190197014111392
          ],
          [
           1984,
           "DELAWARE",
           "Mondale",
           "Reagan",
           -0.19850572725987148
          ],
          [
           1984,
           "DISTRICT OF COLUMBIA",
           "Mondale",
           "Reagan",
           0.7165527621066979
          ],
          [
           1984,
           "FLORIDA",
           "Mondale",
           "Reagan",
           -0.3065833407295748
          ],
          [
           1984,
           "GEORGIA",
           "Mondale",
           "Reagan",
           -0.20386993321896307
          ],
          [
           1984,
           "HAWAII",
           "Mondale",
           "Reagan",
           -0.11283743144179176
          ],
          [
           1984,
           "IDAHO",
           "Mondale",
           "Reagan",
           -0.45972457338548056
          ],
          [
           1984,
           "ILLINOIS",
           "Mondale",
           "Reagan",
           -0.1287803833422423
          ],
          [
           1984,
           "INDIANA",
           "Mondale",
           "Reagan",
           -0.23991600796930151
          ],
          [
           1984,
           "IOWA",
           "Mondale",
           "Reagan",
           -0.07385030364334128
          ],
          [
           1984,
           "KANSAS",
           "Mondale",
           "Reagan",
           -0.3367417129896447
          ],
          [
           1984,
           "KENTUCKY",
           "Mondale",
           "Reagan",
           -0.20605691042067553
          ],
          [
           1984,
           "LOUISIANA",
           "Mondale",
           "Reagan",
           -0.2259831429405058
          ],
          [
           1984,
           "MAINE",
           "Mondale",
           "Reagan",
           -0.22053027783000445
          ],
          [
           1984,
           "MARYLAND",
           "Mondale",
           "Reagan",
           -0.05488661730333977
          ],
          [
           1984,
           "MASSACHUSETTS",
           "Mondale",
           "Reagan",
           -0.027869998355072367
          ],
          [
           1984,
           "MICHIGAN",
           "Mondale",
           "Reagan",
           -0.18989951226543783
          ],
          [
           1984,
           "MINNESOTA",
           "Mondale",
           "Reagan",
           0.001804313753898501
          ],
          [
           1984,
           "MISSISSIPPI",
           "Mondale",
           "Reagan",
           -0.24459039596048898
          ],
          [
           1984,
           "MISSOURI",
           "Mondale",
           "Reagan",
           -0.20049501335754072
          ],
          [
           1984,
           "MONTANA",
           "Mondale",
           "Reagan",
           -0.22297900238567864
          ],
          [
           1984,
           "NEBRASKA",
           "Mondale",
           "Reagan",
           -0.41740863991166866
          ],
          [
           1984,
           "NEVADA",
           "Mondale",
           "Reagan",
           -0.3435060502198311
          ],
          [
           1984,
           "NEW HAMPSHIRE",
           "Mondale",
           "Reagan",
           -0.3772216279595993
          ],
          [
           1984,
           "NEW JERSEY",
           "Mondale",
           "Reagan",
           -0.2089297179307254
          ],
          [
           1984,
           "NEW MEXICO",
           "Mondale",
           "Reagan",
           -0.2047786612749577
          ],
          [
           1984,
           "NEW YORK",
           "Mondale",
           "Reagan",
           -0.05512626325694414
          ],
          [
           1984,
           "NORTH CAROLINA",
           "Mondale",
           "Reagan",
           -0.24004935272812183
          ],
          [
           1984,
           "NORTH DAKOTA",
           "Mondale",
           "Reagan",
           -0.31040777289778004
          ],
          [
           1984,
           "OHIO",
           "Mondale",
           "Reagan",
           -0.18695486864033956
          ],
          [
           1984,
           "OKLAHOMA",
           "Mondale",
           "Reagan",
           -0.37943705223321944
          ],
          [
           1984,
           "OREGON",
           "Mondale",
           "Reagan",
           -0.1216614065568879
          ],
          [
           1984,
           "PENNSYLVANIA",
           "Mondale",
           "Reagan",
           -0.07351891255614407
          ],
          [
           1984,
           "RHODE ISLAND",
           "Mondale",
           "Reagan",
           -0.0364784440021535
          ],
          [
           1984,
           "SOUTH CAROLINA",
           "Mondale",
           "Reagan",
           -0.2798883667912886
          ],
          [
           1984,
           "SOUTH DAKOTA",
           "Mondale",
           "Reagan",
           -0.26474594720433386
          ],
          [
           1984,
           "TENNESSEE",
           "Mondale",
           "Reagan",
           -0.16267473056256654
          ],
          [
           1984,
           "TEXAS",
           "Mondale",
           "Reagan",
           -0.27496664703437895
          ],
          [
           1984,
           "UTAH",
           "Mondale",
           "Reagan",
           -0.49826571969456335
          ],
          [
           1984,
           "VERMONT",
           "Mondale",
           "Reagan",
           -0.17110687624967497
          ],
          [
           1984,
           "VIRGINIA",
           "Mondale",
           "Reagan",
           -0.2519422258558162
          ],
          [
           1984,
           "WASHINGTON",
           "Mondale",
           "Reagan",
           -0.1351094185854254
          ],
          [
           1984,
           "WEST VIRGINIA",
           "Mondale",
           "Reagan",
           -0.10514283539610358
          ],
          [
           1984,
           "WISCONSIN",
           "Mondale",
           "Reagan",
           -0.09171452224973764
          ],
          [
           1984,
           "WYOMING",
           "Mondale",
           "Reagan",
           -0.42266944667880274
          ]
         ],
         "geo": "geo",
         "geojson": "https://raw.githubusercontent.com/plotly/datasets/master/geojson-counties-fips.json",
         "hovertemplate": "%{customdata[0]}<br>%{customdata[1]}<br>%{customdata[2]}(D) vs %{customdata[3]}(R)<br>Dem Margin:%{customdata[4]:.1%}%<br><extra></extra>",
         "locationmode": "USA-states",
         "locations": [
          "AL",
          "AK",
          "AZ",
          "AR",
          "CA",
          "CO",
          "CT",
          "DE",
          "DC",
          "FL",
          "GA",
          "HI",
          "ID",
          "IL",
          "IN",
          "IA",
          "KS",
          "KY",
          "LA",
          "ME",
          "MD",
          "MA",
          "MI",
          "MN",
          "MS",
          "MO",
          "MT",
          "NE",
          "NV",
          "NH",
          "NJ",
          "NM",
          "NY",
          "NC",
          "ND",
          "OH",
          "OK",
          "OR",
          "PA",
          "RI",
          "SC",
          "SD",
          "TN",
          "TX",
          "UT",
          "VT",
          "VA",
          "WA",
          "WV",
          "WI",
          "WY"
         ],
         "name": "",
         "type": "choropleth",
         "z": [
          -0.22261712282541668,
          -0.36786204571180847,
          -0.3387883968858473,
          -0.22176240324014085,
          -0.16249167152461524,
          -0.2831925766956414,
          -0.2190197014111392,
          -0.19850572725987148,
          0.7165527621066979,
          -0.3065833407295748,
          -0.20386993321896307,
          -0.11283743144179176,
          -0.45972457338548056,
          -0.1287803833422423,
          -0.23991600796930151,
          -0.07385030364334128,
          -0.3367417129896447,
          -0.20605691042067553,
          -0.2259831429405058,
          -0.22053027783000445,
          -0.05488661730333977,
          -0.027869998355072367,
          -0.18989951226543783,
          0.001804313753898501,
          -0.24459039596048898,
          -0.20049501335754072,
          -0.22297900238567864,
          -0.41740863991166866,
          -0.3435060502198311,
          -0.3772216279595993,
          -0.2089297179307254,
          -0.2047786612749577,
          -0.05512626325694414,
          -0.24004935272812183,
          -0.31040777289778004,
          -0.18695486864033956,
          -0.37943705223321944,
          -0.1216614065568879,
          -0.07351891255614407,
          -0.0364784440021535,
          -0.2798883667912886,
          -0.26474594720433386,
          -0.16267473056256654,
          -0.27496664703437895,
          -0.49826571969456335,
          -0.17110687624967497,
          -0.2519422258558162,
          -0.1351094185854254,
          -0.10514283539610358,
          -0.09171452224973764,
          -0.42266944667880274
         ]
        }
       ],
       "layout": {
        "coloraxis": {
         "cmax": 0.2,
         "cmid": 0,
         "cmin": -0.2,
         "colorbar": {
          "title": {
           "text": "DIFF_PCT"
          }
         },
         "colorscale": [
          [
           0,
           "rgb(103,0,31)"
          ],
          [
           0.1,
           "rgb(178,24,43)"
          ],
          [
           0.2,
           "rgb(214,96,77)"
          ],
          [
           0.3,
           "rgb(244,165,130)"
          ],
          [
           0.4,
           "rgb(253,219,199)"
          ],
          [
           0.5,
           "rgb(247,247,247)"
          ],
          [
           0.6,
           "rgb(209,229,240)"
          ],
          [
           0.7,
           "rgb(146,197,222)"
          ],
          [
           0.8,
           "rgb(67,147,195)"
          ],
          [
           0.9,
           "rgb(33,102,172)"
          ],
          [
           1,
           "rgb(5,48,97)"
          ]
         ]
        },
        "geo": {
         "center": {},
         "domain": {
          "x": [
           0,
           1
          ],
          "y": [
           0,
           1
          ]
         },
         "scope": "usa"
        },
        "legend": {
         "tracegroupgap": 0
        },
        "margin": {
         "b": 0,
         "l": 0,
         "r": 0,
         "t": 0
        },
        "template": {
         "data": {
          "bar": [
           {
            "error_x": {
             "color": "#2a3f5f"
            },
            "error_y": {
             "color": "#2a3f5f"
            },
            "marker": {
             "line": {
              "color": "#E5ECF6",
              "width": 0.5
             },
             "pattern": {
              "fillmode": "overlay",
              "size": 10,
              "solidity": 0.2
             }
            },
            "type": "bar"
           }
          ],
          "barpolar": [
           {
            "marker": {
             "line": {
              "color": "#E5ECF6",
              "width": 0.5
             },
             "pattern": {
              "fillmode": "overlay",
              "size": 10,
              "solidity": 0.2
             }
            },
            "type": "barpolar"
           }
          ],
          "carpet": [
           {
            "aaxis": {
             "endlinecolor": "#2a3f5f",
             "gridcolor": "white",
             "linecolor": "white",
             "minorgridcolor": "white",
             "startlinecolor": "#2a3f5f"
            },
            "baxis": {
             "endlinecolor": "#2a3f5f",
             "gridcolor": "white",
             "linecolor": "white",
             "minorgridcolor": "white",
             "startlinecolor": "#2a3f5f"
            },
            "type": "carpet"
           }
          ],
          "choropleth": [
           {
            "colorbar": {
             "outlinewidth": 0,
             "ticks": ""
            },
            "type": "choropleth"
           }
          ],
          "contour": [
           {
            "colorbar": {
             "outlinewidth": 0,
             "ticks": ""
            },
            "colorscale": [
             [
              0,
              "#0d0887"
             ],
             [
              0.1111111111111111,
              "#46039f"
             ],
             [
              0.2222222222222222,
              "#7201a8"
             ],
             [
              0.3333333333333333,
              "#9c179e"
             ],
             [
              0.4444444444444444,
              "#bd3786"
             ],
             [
              0.5555555555555556,
              "#d8576b"
             ],
             [
              0.6666666666666666,
              "#ed7953"
             ],
             [
              0.7777777777777778,
              "#fb9f3a"
             ],
             [
              0.8888888888888888,
              "#fdca26"
             ],
             [
              1,
              "#f0f921"
             ]
            ],
            "type": "contour"
           }
          ],
          "contourcarpet": [
           {
            "colorbar": {
             "outlinewidth": 0,
             "ticks": ""
            },
            "type": "contourcarpet"
           }
          ],
          "heatmap": [
           {
            "colorbar": {
             "outlinewidth": 0,
             "ticks": ""
            },
            "colorscale": [
             [
              0,
              "#0d0887"
             ],
             [
              0.1111111111111111,
              "#46039f"
             ],
             [
              0.2222222222222222,
              "#7201a8"
             ],
             [
              0.3333333333333333,
              "#9c179e"
             ],
             [
              0.4444444444444444,
              "#bd3786"
             ],
             [
              0.5555555555555556,
              "#d8576b"
             ],
             [
              0.6666666666666666,
              "#ed7953"
             ],
             [
              0.7777777777777778,
              "#fb9f3a"
             ],
             [
              0.8888888888888888,
              "#fdca26"
             ],
             [
              1,
              "#f0f921"
             ]
            ],
            "type": "heatmap"
           }
          ],
          "heatmapgl": [
           {
            "colorbar": {
             "outlinewidth": 0,
             "ticks": ""
            },
            "colorscale": [
             [
              0,
              "#0d0887"
             ],
             [
              0.1111111111111111,
              "#46039f"
             ],
             [
              0.2222222222222222,
              "#7201a8"
             ],
             [
              0.3333333333333333,
              "#9c179e"
             ],
             [
              0.4444444444444444,
              "#bd3786"
             ],
             [
              0.5555555555555556,
              "#d8576b"
             ],
             [
              0.6666666666666666,
              "#ed7953"
             ],
             [
              0.7777777777777778,
              "#fb9f3a"
             ],
             [
              0.8888888888888888,
              "#fdca26"
             ],
             [
              1,
              "#f0f921"
             ]
            ],
            "type": "heatmapgl"
           }
          ],
          "histogram": [
           {
            "marker": {
             "pattern": {
              "fillmode": "overlay",
              "size": 10,
              "solidity": 0.2
             }
            },
            "type": "histogram"
           }
          ],
          "histogram2d": [
           {
            "colorbar": {
             "outlinewidth": 0,
             "ticks": ""
            },
            "colorscale": [
             [
              0,
              "#0d0887"
             ],
             [
              0.1111111111111111,
              "#46039f"
             ],
             [
              0.2222222222222222,
              "#7201a8"
             ],
             [
              0.3333333333333333,
              "#9c179e"
             ],
             [
              0.4444444444444444,
              "#bd3786"
             ],
             [
              0.5555555555555556,
              "#d8576b"
             ],
             [
              0.6666666666666666,
              "#ed7953"
             ],
             [
              0.7777777777777778,
              "#fb9f3a"
             ],
             [
              0.8888888888888888,
              "#fdca26"
             ],
             [
              1,
              "#f0f921"
             ]
            ],
            "type": "histogram2d"
           }
          ],
          "histogram2dcontour": [
           {
            "colorbar": {
             "outlinewidth": 0,
             "ticks": ""
            },
            "colorscale": [
             [
              0,
              "#0d0887"
             ],
             [
              0.1111111111111111,
              "#46039f"
             ],
             [
              0.2222222222222222,
              "#7201a8"
             ],
             [
              0.3333333333333333,
              "#9c179e"
             ],
             [
              0.4444444444444444,
              "#bd3786"
             ],
             [
              0.5555555555555556,
              "#d8576b"
             ],
             [
              0.6666666666666666,
              "#ed7953"
             ],
             [
              0.7777777777777778,
              "#fb9f3a"
             ],
             [
              0.8888888888888888,
              "#fdca26"
             ],
             [
              1,
              "#f0f921"
             ]
            ],
            "type": "histogram2dcontour"
           }
          ],
          "mesh3d": [
           {
            "colorbar": {
             "outlinewidth": 0,
             "ticks": ""
            },
            "type": "mesh3d"
           }
          ],
          "parcoords": [
           {
            "line": {
             "colorbar": {
              "outlinewidth": 0,
              "ticks": ""
             }
            },
            "type": "parcoords"
           }
          ],
          "pie": [
           {
            "automargin": true,
            "type": "pie"
           }
          ],
          "scatter": [
           {
            "fillpattern": {
             "fillmode": "overlay",
             "size": 10,
             "solidity": 0.2
            },
            "type": "scatter"
           }
          ],
          "scatter3d": [
           {
            "line": {
             "colorbar": {
              "outlinewidth": 0,
              "ticks": ""
             }
            },
            "marker": {
             "colorbar": {
              "outlinewidth": 0,
              "ticks": ""
             }
            },
            "type": "scatter3d"
           }
          ],
          "scattercarpet": [
           {
            "marker": {
             "colorbar": {
              "outlinewidth": 0,
              "ticks": ""
             }
            },
            "type": "scattercarpet"
           }
          ],
          "scattergeo": [
           {
            "marker": {
             "colorbar": {
              "outlinewidth": 0,
              "ticks": ""
             }
            },
            "type": "scattergeo"
           }
          ],
          "scattergl": [
           {
            "marker": {
             "colorbar": {
              "outlinewidth": 0,
              "ticks": ""
             }
            },
            "type": "scattergl"
           }
          ],
          "scattermapbox": [
           {
            "marker": {
             "colorbar": {
              "outlinewidth": 0,
              "ticks": ""
             }
            },
            "type": "scattermapbox"
           }
          ],
          "scatterpolar": [
           {
            "marker": {
             "colorbar": {
              "outlinewidth": 0,
              "ticks": ""
             }
            },
            "type": "scatterpolar"
           }
          ],
          "scatterpolargl": [
           {
            "marker": {
             "colorbar": {
              "outlinewidth": 0,
              "ticks": ""
             }
            },
            "type": "scatterpolargl"
           }
          ],
          "scatterternary": [
           {
            "marker": {
             "colorbar": {
              "outlinewidth": 0,
              "ticks": ""
             }
            },
            "type": "scatterternary"
           }
          ],
          "surface": [
           {
            "colorbar": {
             "outlinewidth": 0,
             "ticks": ""
            },
            "colorscale": [
             [
              0,
              "#0d0887"
             ],
             [
              0.1111111111111111,
              "#46039f"
             ],
             [
              0.2222222222222222,
              "#7201a8"
             ],
             [
              0.3333333333333333,
              "#9c179e"
             ],
             [
              0.4444444444444444,
              "#bd3786"
             ],
             [
              0.5555555555555556,
              "#d8576b"
             ],
             [
              0.6666666666666666,
              "#ed7953"
             ],
             [
              0.7777777777777778,
              "#fb9f3a"
             ],
             [
              0.8888888888888888,
              "#fdca26"
             ],
             [
              1,
              "#f0f921"
             ]
            ],
            "type": "surface"
           }
          ],
          "table": [
           {
            "cells": {
             "fill": {
              "color": "#EBF0F8"
             },
             "line": {
              "color": "white"
             }
            },
            "header": {
             "fill": {
              "color": "#C8D4E3"
             },
             "line": {
              "color": "white"
             }
            },
            "type": "table"
           }
          ]
         },
         "layout": {
          "annotationdefaults": {
           "arrowcolor": "#2a3f5f",
           "arrowhead": 0,
           "arrowwidth": 1
          },
          "autotypenumbers": "strict",
          "coloraxis": {
           "colorbar": {
            "outlinewidth": 0,
            "ticks": ""
           }
          },
          "colorscale": {
           "diverging": [
            [
             0,
             "#8e0152"
            ],
            [
             0.1,
             "#c51b7d"
            ],
            [
             0.2,
             "#de77ae"
            ],
            [
             0.3,
             "#f1b6da"
            ],
            [
             0.4,
             "#fde0ef"
            ],
            [
             0.5,
             "#f7f7f7"
            ],
            [
             0.6,
             "#e6f5d0"
            ],
            [
             0.7,
             "#b8e186"
            ],
            [
             0.8,
             "#7fbc41"
            ],
            [
             0.9,
             "#4d9221"
            ],
            [
             1,
             "#276419"
            ]
           ],
           "sequential": [
            [
             0,
             "#0d0887"
            ],
            [
             0.1111111111111111,
             "#46039f"
            ],
            [
             0.2222222222222222,
             "#7201a8"
            ],
            [
             0.3333333333333333,
             "#9c179e"
            ],
            [
             0.4444444444444444,
             "#bd3786"
            ],
            [
             0.5555555555555556,
             "#d8576b"
            ],
            [
             0.6666666666666666,
             "#ed7953"
            ],
            [
             0.7777777777777778,
             "#fb9f3a"
            ],
            [
             0.8888888888888888,
             "#fdca26"
            ],
            [
             1,
             "#f0f921"
            ]
           ],
           "sequentialminus": [
            [
             0,
             "#0d0887"
            ],
            [
             0.1111111111111111,
             "#46039f"
            ],
            [
             0.2222222222222222,
             "#7201a8"
            ],
            [
             0.3333333333333333,
             "#9c179e"
            ],
            [
             0.4444444444444444,
             "#bd3786"
            ],
            [
             0.5555555555555556,
             "#d8576b"
            ],
            [
             0.6666666666666666,
             "#ed7953"
            ],
            [
             0.7777777777777778,
             "#fb9f3a"
            ],
            [
             0.8888888888888888,
             "#fdca26"
            ],
            [
             1,
             "#f0f921"
            ]
           ]
          },
          "colorway": [
           "#636efa",
           "#EF553B",
           "#00cc96",
           "#ab63fa",
           "#FFA15A",
           "#19d3f3",
           "#FF6692",
           "#B6E880",
           "#FF97FF",
           "#FECB52"
          ],
          "font": {
           "color": "#2a3f5f"
          },
          "geo": {
           "bgcolor": "white",
           "lakecolor": "white",
           "landcolor": "#E5ECF6",
           "showlakes": true,
           "showland": true,
           "subunitcolor": "white"
          },
          "hoverlabel": {
           "align": "left"
          },
          "hovermode": "closest",
          "mapbox": {
           "style": "light"
          },
          "paper_bgcolor": "white",
          "plot_bgcolor": "#E5ECF6",
          "polar": {
           "angularaxis": {
            "gridcolor": "white",
            "linecolor": "white",
            "ticks": ""
           },
           "bgcolor": "#E5ECF6",
           "radialaxis": {
            "gridcolor": "white",
            "linecolor": "white",
            "ticks": ""
           }
          },
          "scene": {
           "xaxis": {
            "backgroundcolor": "#E5ECF6",
            "gridcolor": "white",
            "gridwidth": 2,
            "linecolor": "white",
            "showbackground": true,
            "ticks": "",
            "zerolinecolor": "white"
           },
           "yaxis": {
            "backgroundcolor": "#E5ECF6",
            "gridcolor": "white",
            "gridwidth": 2,
            "linecolor": "white",
            "showbackground": true,
            "ticks": "",
            "zerolinecolor": "white"
           },
           "zaxis": {
            "backgroundcolor": "#E5ECF6",
            "gridcolor": "white",
            "gridwidth": 2,
            "linecolor": "white",
            "showbackground": true,
            "ticks": "",
            "zerolinecolor": "white"
           }
          },
          "shapedefaults": {
           "line": {
            "color": "#2a3f5f"
           }
          },
          "ternary": {
           "aaxis": {
            "gridcolor": "white",
            "linecolor": "white",
            "ticks": ""
           },
           "baxis": {
            "gridcolor": "white",
            "linecolor": "white",
            "ticks": ""
           },
           "bgcolor": "#E5ECF6",
           "caxis": {
            "gridcolor": "white",
            "linecolor": "white",
            "ticks": ""
           }
          },
          "title": {
           "x": 0.05
          },
          "xaxis": {
           "automargin": true,
           "gridcolor": "white",
           "linecolor": "white",
           "ticks": "",
           "title": {
            "standoff": 15
           },
           "zerolinecolor": "white",
           "zerolinewidth": 2
          },
          "yaxis": {
           "automargin": true,
           "gridcolor": "white",
           "linecolor": "white",
           "ticks": "",
           "title": {
            "standoff": 15
           },
           "zerolinecolor": "white",
           "zerolinewidth": 2
          }
         }
        },
        "title": {
         "text": "1984"
        }
       }
      }
     },
     "metadata": {},
     "output_type": "display_data"
    },
    {
     "name": "stdout",
     "output_type": "stream",
     "text": [
      "1988\n"
     ]
    },
    {
     "data": {
      "application/vnd.plotly.v1+json": {
       "config": {
        "plotlyServerURL": "https://plot.ly"
       },
       "data": [
        {
         "coloraxis": "coloraxis",
         "customdata": [
          [
           1988,
           "ALABAMA",
           "Dukakis",
           "Bush Senior",
           -0.19301750628955455
          ],
          [
           1988,
           "ALASKA",
           "Dukakis",
           "Bush Senior",
           -0.23319974414839395
          ],
          [
           1988,
           "ARIZONA",
           "Dukakis",
           "Bush Senior",
           -0.21206393525578288
          ],
          [
           1988,
           "ARKANSAS",
           "Dukakis",
           "Bush Senior",
           -0.1417610403291863
          ],
          [
           1988,
           "CALIFORNIA",
           "Dukakis",
           "Bush Senior",
           -0.03567125329913379
          ],
          [
           1988,
           "COLORADO",
           "Dukakis",
           "Bush Senior",
           -0.07776484012608625
          ],
          [
           1988,
           "CONNECTICUT",
           "Dukakis",
           "Bush Senior",
           -0.05103041858286794
          ],
          [
           1988,
           "DELAWARE",
           "Dukakis",
           "Bush Senior",
           -0.12402207362410012
          ],
          [
           1988,
           "DISTRICT OF COLUMBIA",
           "Dukakis",
           "Bush Senior",
           0.683425188073228
          ],
          [
           1988,
           "FLORIDA",
           "Dukakis",
           "Bush Senior",
           -0.22364342157346523
          ],
          [
           1988,
           "GEORGIA",
           "Dukakis",
           "Bush Senior",
           -0.20254443899225932
          ],
          [
           1988,
           "HAWAII",
           "Dukakis",
           "Bush Senior",
           0.09518395535757107
          ],
          [
           1988,
           "IDAHO",
           "Dukakis",
           "Bush Senior",
           -0.26067809706382894
          ],
          [
           1988,
           "ILLINOIS",
           "Dukakis",
           "Bush Senior",
           -0.02083713523662456
          ],
          [
           1988,
           "INDIANA",
           "Dukakis",
           "Bush Senior",
           -0.2015658798840369
          ],
          [
           1988,
           "IOWA",
           "Dukakis",
           "Bush Senior",
           0.10215451194258551
          ],
          [
           1988,
           "KANSAS",
           "Dukakis",
           "Bush Senior",
           -0.1323335119088379
          ],
          [
           1988,
           "KENTUCKY",
           "Dukakis",
           "Bush Senior",
           -0.11637884427950645
          ],
          [
           1988,
           "LOUISIANA",
           "Dukakis",
           "Bush Senior",
           -0.10210158199044095
          ],
          [
           1988,
           "MAINE",
           "Dukakis",
           "Bush Senior",
           -0.11451890421324784
          ],
          [
           1988,
           "MARYLAND",
           "Dukakis",
           "Bush Senior",
           -0.029085523560423265
          ],
          [
           1988,
           "MASSACHUSETTS",
           "Dukakis",
           "Bush Senior",
           0.07853992762840789
          ],
          [
           1988,
           "MICHIGAN",
           "Dukakis",
           "Bush Senior",
           -0.07895615430549147
          ],
          [
           1988,
           "MINNESOTA",
           "Dukakis",
           "Bush Senior",
           0.07017107101807996
          ],
          [
           1988,
           "MISSISSIPPI",
           "Dukakis",
           "Bush Senior",
           -0.20822692203231902
          ],
          [
           1988,
           "MISSOURI",
           "Dukakis",
           "Bush Senior",
           -0.0398112389094738
          ],
          [
           1988,
           "MONTANA",
           "Dukakis",
           "Bush Senior",
           -0.05872990696631425
          ],
          [
           1988,
           "NEBRASKA",
           "Dukakis",
           "Bush Senior",
           -0.20971782331642647
          ],
          [
           1988,
           "NEVADA",
           "Dukakis",
           "Bush Senior",
           -0.21362562038626415
          ],
          [
           1988,
           "NEW HAMPSHIRE",
           "Dukakis",
           "Bush Senior",
           -0.261563731202486
          ],
          [
           1988,
           "NEW JERSEY",
           "Dukakis",
           "Bush Senior",
           -0.1364196708364077
          ],
          [
           1988,
           "NEW MEXICO",
           "Dukakis",
           "Bush Senior",
           -0.04956778745921936
          ],
          [
           1988,
           "NEW YORK",
           "Dukakis",
           "Bush Senior",
           0.06430671989364878
          ],
          [
           1988,
           "NORTH CAROLINA",
           "Dukakis",
           "Bush Senior",
           -0.16261988315053155
          ],
          [
           1988,
           "NORTH DAKOTA",
           "Dukakis",
           "Bush Senior",
           -0.13059230776993952
          ],
          [
           1988,
           "OHIO",
           "Dukakis",
           "Bush Senior",
           -0.10854916884503196
          ],
          [
           1988,
           "OKLAHOMA",
           "Dukakis",
           "Bush Senior",
           -0.1664713979758095
          ],
          [
           1988,
           "OREGON",
           "Dukakis",
           "Bush Senior",
           0.04666745444347725
          ],
          [
           1988,
           "PENNSYLVANIA",
           "Dukakis",
           "Bush Senior",
           -0.023178391142818167
          ],
          [
           1988,
           "RHODE ISLAND",
           "Dukakis",
           "Bush Senior",
           0.11705245883812548
          ],
          [
           1988,
           "SOUTH CAROLINA",
           "Dukakis",
           "Bush Senior",
           -0.2392361530168589
          ],
          [
           1988,
           "SOUTH DAKOTA",
           "Dukakis",
           "Bush Senior",
           -0.06343632884012645
          ],
          [
           1988,
           "TENNESSEE",
           "Dukakis",
           "Bush Senior",
           -0.16344629488158896
          ],
          [
           1988,
           "TEXAS",
           "Dukakis",
           "Bush Senior",
           -0.12604188738274796
          ],
          [
           1988,
           "UTAH",
           "Dukakis",
           "Bush Senior",
           -0.3417252955141204
          ],
          [
           1988,
           "VERMONT",
           "Dukakis",
           "Bush Senior",
           -0.035162414518674356
          ],
          [
           1988,
           "VIRGINIA",
           "Dukakis",
           "Bush Senior",
           -0.20503794244320045
          ],
          [
           1988,
           "WASHINGTON",
           "Dukakis",
           "Bush Senior",
           0.015912586657145178
          ],
          [
           1988,
           "WEST VIRGINIA",
           "Dukakis",
           "Bush Senior",
           0.047375599063845586
          ],
          [
           1988,
           "WISCONSIN",
           "Dukakis",
           "Bush Senior",
           0.03618119663735481
          ],
          [
           1988,
           "WYOMING",
           "Dukakis",
           "Bush Senior",
           -0.2251700641740914
          ]
         ],
         "geo": "geo",
         "geojson": "https://raw.githubusercontent.com/plotly/datasets/master/geojson-counties-fips.json",
         "hovertemplate": "%{customdata[0]}<br>%{customdata[1]}<br>%{customdata[2]}(D) vs %{customdata[3]}(R)<br>Dem Margin:%{customdata[4]:.1%}%<br><extra></extra>",
         "locationmode": "USA-states",
         "locations": [
          "AL",
          "AK",
          "AZ",
          "AR",
          "CA",
          "CO",
          "CT",
          "DE",
          "DC",
          "FL",
          "GA",
          "HI",
          "ID",
          "IL",
          "IN",
          "IA",
          "KS",
          "KY",
          "LA",
          "ME",
          "MD",
          "MA",
          "MI",
          "MN",
          "MS",
          "MO",
          "MT",
          "NE",
          "NV",
          "NH",
          "NJ",
          "NM",
          "NY",
          "NC",
          "ND",
          "OH",
          "OK",
          "OR",
          "PA",
          "RI",
          "SC",
          "SD",
          "TN",
          "TX",
          "UT",
          "VT",
          "VA",
          "WA",
          "WV",
          "WI",
          "WY"
         ],
         "name": "",
         "type": "choropleth",
         "z": [
          -0.19301750628955455,
          -0.23319974414839395,
          -0.21206393525578288,
          -0.1417610403291863,
          -0.03567125329913379,
          -0.07776484012608625,
          -0.05103041858286794,
          -0.12402207362410012,
          0.683425188073228,
          -0.22364342157346523,
          -0.20254443899225932,
          0.09518395535757107,
          -0.26067809706382894,
          -0.02083713523662456,
          -0.2015658798840369,
          0.10215451194258551,
          -0.1323335119088379,
          -0.11637884427950645,
          -0.10210158199044095,
          -0.11451890421324784,
          -0.029085523560423265,
          0.07853992762840789,
          -0.07895615430549147,
          0.07017107101807996,
          -0.20822692203231902,
          -0.0398112389094738,
          -0.05872990696631425,
          -0.20971782331642647,
          -0.21362562038626415,
          -0.261563731202486,
          -0.1364196708364077,
          -0.04956778745921936,
          0.06430671989364878,
          -0.16261988315053155,
          -0.13059230776993952,
          -0.10854916884503196,
          -0.1664713979758095,
          0.04666745444347725,
          -0.023178391142818167,
          0.11705245883812548,
          -0.2392361530168589,
          -0.06343632884012645,
          -0.16344629488158896,
          -0.12604188738274796,
          -0.3417252955141204,
          -0.035162414518674356,
          -0.20503794244320045,
          0.015912586657145178,
          0.047375599063845586,
          0.03618119663735481,
          -0.2251700641740914
         ]
        }
       ],
       "layout": {
        "coloraxis": {
         "cmax": 0.2,
         "cmid": 0,
         "cmin": -0.2,
         "colorbar": {
          "title": {
           "text": "DIFF_PCT"
          }
         },
         "colorscale": [
          [
           0,
           "rgb(103,0,31)"
          ],
          [
           0.1,
           "rgb(178,24,43)"
          ],
          [
           0.2,
           "rgb(214,96,77)"
          ],
          [
           0.3,
           "rgb(244,165,130)"
          ],
          [
           0.4,
           "rgb(253,219,199)"
          ],
          [
           0.5,
           "rgb(247,247,247)"
          ],
          [
           0.6,
           "rgb(209,229,240)"
          ],
          [
           0.7,
           "rgb(146,197,222)"
          ],
          [
           0.8,
           "rgb(67,147,195)"
          ],
          [
           0.9,
           "rgb(33,102,172)"
          ],
          [
           1,
           "rgb(5,48,97)"
          ]
         ]
        },
        "geo": {
         "center": {},
         "domain": {
          "x": [
           0,
           1
          ],
          "y": [
           0,
           1
          ]
         },
         "scope": "usa"
        },
        "legend": {
         "tracegroupgap": 0
        },
        "margin": {
         "b": 0,
         "l": 0,
         "r": 0,
         "t": 0
        },
        "template": {
         "data": {
          "bar": [
           {
            "error_x": {
             "color": "#2a3f5f"
            },
            "error_y": {
             "color": "#2a3f5f"
            },
            "marker": {
             "line": {
              "color": "#E5ECF6",
              "width": 0.5
             },
             "pattern": {
              "fillmode": "overlay",
              "size": 10,
              "solidity": 0.2
             }
            },
            "type": "bar"
           }
          ],
          "barpolar": [
           {
            "marker": {
             "line": {
              "color": "#E5ECF6",
              "width": 0.5
             },
             "pattern": {
              "fillmode": "overlay",
              "size": 10,
              "solidity": 0.2
             }
            },
            "type": "barpolar"
           }
          ],
          "carpet": [
           {
            "aaxis": {
             "endlinecolor": "#2a3f5f",
             "gridcolor": "white",
             "linecolor": "white",
             "minorgridcolor": "white",
             "startlinecolor": "#2a3f5f"
            },
            "baxis": {
             "endlinecolor": "#2a3f5f",
             "gridcolor": "white",
             "linecolor": "white",
             "minorgridcolor": "white",
             "startlinecolor": "#2a3f5f"
            },
            "type": "carpet"
           }
          ],
          "choropleth": [
           {
            "colorbar": {
             "outlinewidth": 0,
             "ticks": ""
            },
            "type": "choropleth"
           }
          ],
          "contour": [
           {
            "colorbar": {
             "outlinewidth": 0,
             "ticks": ""
            },
            "colorscale": [
             [
              0,
              "#0d0887"
             ],
             [
              0.1111111111111111,
              "#46039f"
             ],
             [
              0.2222222222222222,
              "#7201a8"
             ],
             [
              0.3333333333333333,
              "#9c179e"
             ],
             [
              0.4444444444444444,
              "#bd3786"
             ],
             [
              0.5555555555555556,
              "#d8576b"
             ],
             [
              0.6666666666666666,
              "#ed7953"
             ],
             [
              0.7777777777777778,
              "#fb9f3a"
             ],
             [
              0.8888888888888888,
              "#fdca26"
             ],
             [
              1,
              "#f0f921"
             ]
            ],
            "type": "contour"
           }
          ],
          "contourcarpet": [
           {
            "colorbar": {
             "outlinewidth": 0,
             "ticks": ""
            },
            "type": "contourcarpet"
           }
          ],
          "heatmap": [
           {
            "colorbar": {
             "outlinewidth": 0,
             "ticks": ""
            },
            "colorscale": [
             [
              0,
              "#0d0887"
             ],
             [
              0.1111111111111111,
              "#46039f"
             ],
             [
              0.2222222222222222,
              "#7201a8"
             ],
             [
              0.3333333333333333,
              "#9c179e"
             ],
             [
              0.4444444444444444,
              "#bd3786"
             ],
             [
              0.5555555555555556,
              "#d8576b"
             ],
             [
              0.6666666666666666,
              "#ed7953"
             ],
             [
              0.7777777777777778,
              "#fb9f3a"
             ],
             [
              0.8888888888888888,
              "#fdca26"
             ],
             [
              1,
              "#f0f921"
             ]
            ],
            "type": "heatmap"
           }
          ],
          "heatmapgl": [
           {
            "colorbar": {
             "outlinewidth": 0,
             "ticks": ""
            },
            "colorscale": [
             [
              0,
              "#0d0887"
             ],
             [
              0.1111111111111111,
              "#46039f"
             ],
             [
              0.2222222222222222,
              "#7201a8"
             ],
             [
              0.3333333333333333,
              "#9c179e"
             ],
             [
              0.4444444444444444,
              "#bd3786"
             ],
             [
              0.5555555555555556,
              "#d8576b"
             ],
             [
              0.6666666666666666,
              "#ed7953"
             ],
             [
              0.7777777777777778,
              "#fb9f3a"
             ],
             [
              0.8888888888888888,
              "#fdca26"
             ],
             [
              1,
              "#f0f921"
             ]
            ],
            "type": "heatmapgl"
           }
          ],
          "histogram": [
           {
            "marker": {
             "pattern": {
              "fillmode": "overlay",
              "size": 10,
              "solidity": 0.2
             }
            },
            "type": "histogram"
           }
          ],
          "histogram2d": [
           {
            "colorbar": {
             "outlinewidth": 0,
             "ticks": ""
            },
            "colorscale": [
             [
              0,
              "#0d0887"
             ],
             [
              0.1111111111111111,
              "#46039f"
             ],
             [
              0.2222222222222222,
              "#7201a8"
             ],
             [
              0.3333333333333333,
              "#9c179e"
             ],
             [
              0.4444444444444444,
              "#bd3786"
             ],
             [
              0.5555555555555556,
              "#d8576b"
             ],
             [
              0.6666666666666666,
              "#ed7953"
             ],
             [
              0.7777777777777778,
              "#fb9f3a"
             ],
             [
              0.8888888888888888,
              "#fdca26"
             ],
             [
              1,
              "#f0f921"
             ]
            ],
            "type": "histogram2d"
           }
          ],
          "histogram2dcontour": [
           {
            "colorbar": {
             "outlinewidth": 0,
             "ticks": ""
            },
            "colorscale": [
             [
              0,
              "#0d0887"
             ],
             [
              0.1111111111111111,
              "#46039f"
             ],
             [
              0.2222222222222222,
              "#7201a8"
             ],
             [
              0.3333333333333333,
              "#9c179e"
             ],
             [
              0.4444444444444444,
              "#bd3786"
             ],
             [
              0.5555555555555556,
              "#d8576b"
             ],
             [
              0.6666666666666666,
              "#ed7953"
             ],
             [
              0.7777777777777778,
              "#fb9f3a"
             ],
             [
              0.8888888888888888,
              "#fdca26"
             ],
             [
              1,
              "#f0f921"
             ]
            ],
            "type": "histogram2dcontour"
           }
          ],
          "mesh3d": [
           {
            "colorbar": {
             "outlinewidth": 0,
             "ticks": ""
            },
            "type": "mesh3d"
           }
          ],
          "parcoords": [
           {
            "line": {
             "colorbar": {
              "outlinewidth": 0,
              "ticks": ""
             }
            },
            "type": "parcoords"
           }
          ],
          "pie": [
           {
            "automargin": true,
            "type": "pie"
           }
          ],
          "scatter": [
           {
            "fillpattern": {
             "fillmode": "overlay",
             "size": 10,
             "solidity": 0.2
            },
            "type": "scatter"
           }
          ],
          "scatter3d": [
           {
            "line": {
             "colorbar": {
              "outlinewidth": 0,
              "ticks": ""
             }
            },
            "marker": {
             "colorbar": {
              "outlinewidth": 0,
              "ticks": ""
             }
            },
            "type": "scatter3d"
           }
          ],
          "scattercarpet": [
           {
            "marker": {
             "colorbar": {
              "outlinewidth": 0,
              "ticks": ""
             }
            },
            "type": "scattercarpet"
           }
          ],
          "scattergeo": [
           {
            "marker": {
             "colorbar": {
              "outlinewidth": 0,
              "ticks": ""
             }
            },
            "type": "scattergeo"
           }
          ],
          "scattergl": [
           {
            "marker": {
             "colorbar": {
              "outlinewidth": 0,
              "ticks": ""
             }
            },
            "type": "scattergl"
           }
          ],
          "scattermapbox": [
           {
            "marker": {
             "colorbar": {
              "outlinewidth": 0,
              "ticks": ""
             }
            },
            "type": "scattermapbox"
           }
          ],
          "scatterpolar": [
           {
            "marker": {
             "colorbar": {
              "outlinewidth": 0,
              "ticks": ""
             }
            },
            "type": "scatterpolar"
           }
          ],
          "scatterpolargl": [
           {
            "marker": {
             "colorbar": {
              "outlinewidth": 0,
              "ticks": ""
             }
            },
            "type": "scatterpolargl"
           }
          ],
          "scatterternary": [
           {
            "marker": {
             "colorbar": {
              "outlinewidth": 0,
              "ticks": ""
             }
            },
            "type": "scatterternary"
           }
          ],
          "surface": [
           {
            "colorbar": {
             "outlinewidth": 0,
             "ticks": ""
            },
            "colorscale": [
             [
              0,
              "#0d0887"
             ],
             [
              0.1111111111111111,
              "#46039f"
             ],
             [
              0.2222222222222222,
              "#7201a8"
             ],
             [
              0.3333333333333333,
              "#9c179e"
             ],
             [
              0.4444444444444444,
              "#bd3786"
             ],
             [
              0.5555555555555556,
              "#d8576b"
             ],
             [
              0.6666666666666666,
              "#ed7953"
             ],
             [
              0.7777777777777778,
              "#fb9f3a"
             ],
             [
              0.8888888888888888,
              "#fdca26"
             ],
             [
              1,
              "#f0f921"
             ]
            ],
            "type": "surface"
           }
          ],
          "table": [
           {
            "cells": {
             "fill": {
              "color": "#EBF0F8"
             },
             "line": {
              "color": "white"
             }
            },
            "header": {
             "fill": {
              "color": "#C8D4E3"
             },
             "line": {
              "color": "white"
             }
            },
            "type": "table"
           }
          ]
         },
         "layout": {
          "annotationdefaults": {
           "arrowcolor": "#2a3f5f",
           "arrowhead": 0,
           "arrowwidth": 1
          },
          "autotypenumbers": "strict",
          "coloraxis": {
           "colorbar": {
            "outlinewidth": 0,
            "ticks": ""
           }
          },
          "colorscale": {
           "diverging": [
            [
             0,
             "#8e0152"
            ],
            [
             0.1,
             "#c51b7d"
            ],
            [
             0.2,
             "#de77ae"
            ],
            [
             0.3,
             "#f1b6da"
            ],
            [
             0.4,
             "#fde0ef"
            ],
            [
             0.5,
             "#f7f7f7"
            ],
            [
             0.6,
             "#e6f5d0"
            ],
            [
             0.7,
             "#b8e186"
            ],
            [
             0.8,
             "#7fbc41"
            ],
            [
             0.9,
             "#4d9221"
            ],
            [
             1,
             "#276419"
            ]
           ],
           "sequential": [
            [
             0,
             "#0d0887"
            ],
            [
             0.1111111111111111,
             "#46039f"
            ],
            [
             0.2222222222222222,
             "#7201a8"
            ],
            [
             0.3333333333333333,
             "#9c179e"
            ],
            [
             0.4444444444444444,
             "#bd3786"
            ],
            [
             0.5555555555555556,
             "#d8576b"
            ],
            [
             0.6666666666666666,
             "#ed7953"
            ],
            [
             0.7777777777777778,
             "#fb9f3a"
            ],
            [
             0.8888888888888888,
             "#fdca26"
            ],
            [
             1,
             "#f0f921"
            ]
           ],
           "sequentialminus": [
            [
             0,
             "#0d0887"
            ],
            [
             0.1111111111111111,
             "#46039f"
            ],
            [
             0.2222222222222222,
             "#7201a8"
            ],
            [
             0.3333333333333333,
             "#9c179e"
            ],
            [
             0.4444444444444444,
             "#bd3786"
            ],
            [
             0.5555555555555556,
             "#d8576b"
            ],
            [
             0.6666666666666666,
             "#ed7953"
            ],
            [
             0.7777777777777778,
             "#fb9f3a"
            ],
            [
             0.8888888888888888,
             "#fdca26"
            ],
            [
             1,
             "#f0f921"
            ]
           ]
          },
          "colorway": [
           "#636efa",
           "#EF553B",
           "#00cc96",
           "#ab63fa",
           "#FFA15A",
           "#19d3f3",
           "#FF6692",
           "#B6E880",
           "#FF97FF",
           "#FECB52"
          ],
          "font": {
           "color": "#2a3f5f"
          },
          "geo": {
           "bgcolor": "white",
           "lakecolor": "white",
           "landcolor": "#E5ECF6",
           "showlakes": true,
           "showland": true,
           "subunitcolor": "white"
          },
          "hoverlabel": {
           "align": "left"
          },
          "hovermode": "closest",
          "mapbox": {
           "style": "light"
          },
          "paper_bgcolor": "white",
          "plot_bgcolor": "#E5ECF6",
          "polar": {
           "angularaxis": {
            "gridcolor": "white",
            "linecolor": "white",
            "ticks": ""
           },
           "bgcolor": "#E5ECF6",
           "radialaxis": {
            "gridcolor": "white",
            "linecolor": "white",
            "ticks": ""
           }
          },
          "scene": {
           "xaxis": {
            "backgroundcolor": "#E5ECF6",
            "gridcolor": "white",
            "gridwidth": 2,
            "linecolor": "white",
            "showbackground": true,
            "ticks": "",
            "zerolinecolor": "white"
           },
           "yaxis": {
            "backgroundcolor": "#E5ECF6",
            "gridcolor": "white",
            "gridwidth": 2,
            "linecolor": "white",
            "showbackground": true,
            "ticks": "",
            "zerolinecolor": "white"
           },
           "zaxis": {
            "backgroundcolor": "#E5ECF6",
            "gridcolor": "white",
            "gridwidth": 2,
            "linecolor": "white",
            "showbackground": true,
            "ticks": "",
            "zerolinecolor": "white"
           }
          },
          "shapedefaults": {
           "line": {
            "color": "#2a3f5f"
           }
          },
          "ternary": {
           "aaxis": {
            "gridcolor": "white",
            "linecolor": "white",
            "ticks": ""
           },
           "baxis": {
            "gridcolor": "white",
            "linecolor": "white",
            "ticks": ""
           },
           "bgcolor": "#E5ECF6",
           "caxis": {
            "gridcolor": "white",
            "linecolor": "white",
            "ticks": ""
           }
          },
          "title": {
           "x": 0.05
          },
          "xaxis": {
           "automargin": true,
           "gridcolor": "white",
           "linecolor": "white",
           "ticks": "",
           "title": {
            "standoff": 15
           },
           "zerolinecolor": "white",
           "zerolinewidth": 2
          },
          "yaxis": {
           "automargin": true,
           "gridcolor": "white",
           "linecolor": "white",
           "ticks": "",
           "title": {
            "standoff": 15
           },
           "zerolinecolor": "white",
           "zerolinewidth": 2
          }
         }
        },
        "title": {
         "text": "1988"
        }
       }
      }
     },
     "metadata": {},
     "output_type": "display_data"
    },
    {
     "name": "stdout",
     "output_type": "stream",
     "text": [
      "1992\n"
     ]
    },
    {
     "data": {
      "application/vnd.plotly.v1+json": {
       "config": {
        "plotlyServerURL": "https://plot.ly"
       },
       "data": [
        {
         "coloraxis": "coloraxis",
         "customdata": [
          [
           1992,
           "ALABAMA",
           "Clinton B.",
           "Bush Senior",
           -0.06765340094546407
          ],
          [
           1992,
           "ALASKA",
           "Clinton B.",
           "Bush Senior",
           -0.09170386760848875
          ],
          [
           1992,
           "ARIZONA",
           "Clinton B.",
           "Bush Senior",
           -0.019526891844180272
          ],
          [
           1992,
           "ARKANSAS",
           "Clinton B.",
           "Bush Senior",
           0.1772455354372205
          ],
          [
           1992,
           "CALIFORNIA",
           "Clinton B.",
           "Bush Senior",
           0.13391918464359648
          ],
          [
           1992,
           "COLORADO",
           "Clinton B.",
           "Bush Senior",
           0.042589760256949494
          ],
          [
           1992,
           "CONNECTICUT",
           "Clinton B.",
           "Bush Senior",
           0.06435331737777789
          ],
          [
           1992,
           "DELAWARE",
           "Clinton B.",
           "Bush Senior",
           0.08197293004626749
          ],
          [
           1992,
           "DISTRICT OF COLUMBIA",
           "Clinton B.",
           "Bush Senior",
           0.7554576134146556
          ],
          [
           1992,
           "FLORIDA",
           "Clinton B.",
           "Bush Senior",
           -0.019123753715140912
          ],
          [
           1992,
           "GEORGIA",
           "Clinton B.",
           "Bush Senior",
           0.005908321496441604
          ],
          [
           1992,
           "HAWAII",
           "Clinton B.",
           "Bush Senior",
           0.11395711856496854
          ],
          [
           1992,
           "IDAHO",
           "Clinton B.",
           "Bush Senior",
           -0.1361337774883119
          ],
          [
           1992,
           "ILLINOIS",
           "Clinton B.",
           "Bush Senior",
           0.14242210687707335
          ],
          [
           1992,
           "INDIANA",
           "Clinton B.",
           "Bush Senior",
           -0.06112874484305497
          ],
          [
           1992,
           "IOWA",
           "Clinton B.",
           "Bush Senior",
           0.06013699914440129
          ],
          [
           1992,
           "KANSAS",
           "Clinton B.",
           "Bush Senior",
           -0.05143030462239334
          ],
          [
           1992,
           "KENTUCKY",
           "Clinton B.",
           "Bush Senior",
           0.032102619063567595
          ],
          [
           1992,
           "LOUISIANA",
           "Clinton B.",
           "Bush Senior",
           0.046136433341135874
          ],
          [
           1992,
           "MAINE",
           "Clinton B.",
           "Bush Senior",
           0.08376171267360216
          ],
          [
           1992,
           "MARYLAND",
           "Clinton B.",
           "Bush Senior",
           0.14183202491207209
          ],
          [
           1992,
           "MASSACHUSETTS",
           "Clinton B.",
           "Bush Senior",
           0.18517022970338154
          ],
          [
           1992,
           "MICHIGAN",
           "Clinton B.",
           "Bush Senior",
           0.07398039569342496
          ],
          [
           1992,
           "MINNESOTA",
           "Clinton B.",
           "Bush Senior",
           0.11633818125444007
          ],
          [
           1992,
           "MISSISSIPPI",
           "Clinton B.",
           "Bush Senior",
           -0.08915830526394058
          ],
          [
           1992,
           "MISSOURI",
           "Clinton B.",
           "Bush Senior",
           0.10150003972784333
          ],
          [
           1992,
           "MONTANA",
           "Clinton B.",
           "Bush Senior",
           0.025086279753423812
          ],
          [
           1992,
           "NEBRASKA",
           "Clinton B.",
           "Bush Senior",
           -0.17194046201864016
          ],
          [
           1992,
           "NEVADA",
           "Clinton B.",
           "Bush Senior",
           0.02630757745132506
          ],
          [
           1992,
           "NEW HAMPSHIRE",
           "Clinton B.",
           "Bush Senior",
           0.012203680090838886
          ],
          [
           1992,
           "NEW JERSEY",
           "Clinton B.",
           "Bush Senior",
           0.02372925660232672
          ],
          [
           1992,
           "NEW MEXICO",
           "Clinton B.",
           "Bush Senior",
           0.08560385693683703
          ],
          [
           1992,
           "NEW YORK",
           "Clinton B.",
           "Bush Senior",
           0.184365638373248
          ],
          [
           1992,
           "NORTH CAROLINA",
           "Clinton B.",
           "Bush Senior",
           -0.007894404349407524
          ],
          [
           1992,
           "NORTH DAKOTA",
           "Clinton B.",
           "Bush Senior",
           -0.12032466499855582
          ],
          [
           1992,
           "OHIO",
           "Clinton B.",
           "Bush Senior",
           0.01834668126325545
          ],
          [
           1992,
           "OKLAHOMA",
           "Clinton B.",
           "Bush Senior",
           -0.08621010832454062
          ],
          [
           1992,
           "OREGON",
           "Clinton B.",
           "Bush Senior",
           0.09951642335142613
          ],
          [
           1992,
           "PENNSYLVANIA",
           "Clinton B.",
           "Bush Senior",
           0.09018954355106346
          ],
          [
           1992,
           "RHODE ISLAND",
           "Clinton B.",
           "Bush Senior",
           0.1802035887199056
          ],
          [
           1992,
           "SOUTH CAROLINA",
           "Clinton B.",
           "Bush Senior",
           -0.04230815550665956
          ],
          [
           1992,
           "SOUTH DAKOTA",
           "Clinton B.",
           "Bush Senior",
           -0.03518173761501725
          ],
          [
           1992,
           "TENNESSEE",
           "Clinton B.",
           "Bush Senior",
           0.04651429055631939
          ],
          [
           1992,
           "TEXAS",
           "Clinton B.",
           "Bush Senior",
           -0.034815627773594426
          ],
          [
           1992,
           "UTAH",
           "Clinton B.",
           "Bush Senior",
           -0.18710130941212205
          ],
          [
           1992,
           "VERMONT",
           "Clinton B.",
           "Bush Senior",
           0.1569549293927187
          ],
          [
           1992,
           "VIRGINIA",
           "Clinton B.",
           "Bush Senior",
           -0.04371291951284989
          ],
          [
           1992,
           "WASHINGTON",
           "Clinton B.",
           "Bush Senior",
           0.11444614688544369
          ],
          [
           1992,
           "WEST VIRGINIA",
           "Clinton B.",
           "Bush Senior",
           0.13021792454624037
          ],
          [
           1992,
           "WISCONSIN",
           "Clinton B.",
           "Bush Senior",
           0.04354334777785157
          ],
          [
           1992,
           "WYOMING",
           "Clinton B.",
           "Bush Senior",
           -0.05596746112745393
          ]
         ],
         "geo": "geo",
         "geojson": "https://raw.githubusercontent.com/plotly/datasets/master/geojson-counties-fips.json",
         "hovertemplate": "%{customdata[0]}<br>%{customdata[1]}<br>%{customdata[2]}(D) vs %{customdata[3]}(R)<br>Dem Margin:%{customdata[4]:.1%}%<br><extra></extra>",
         "locationmode": "USA-states",
         "locations": [
          "AL",
          "AK",
          "AZ",
          "AR",
          "CA",
          "CO",
          "CT",
          "DE",
          "DC",
          "FL",
          "GA",
          "HI",
          "ID",
          "IL",
          "IN",
          "IA",
          "KS",
          "KY",
          "LA",
          "ME",
          "MD",
          "MA",
          "MI",
          "MN",
          "MS",
          "MO",
          "MT",
          "NE",
          "NV",
          "NH",
          "NJ",
          "NM",
          "NY",
          "NC",
          "ND",
          "OH",
          "OK",
          "OR",
          "PA",
          "RI",
          "SC",
          "SD",
          "TN",
          "TX",
          "UT",
          "VT",
          "VA",
          "WA",
          "WV",
          "WI",
          "WY"
         ],
         "name": "",
         "type": "choropleth",
         "z": [
          -0.06765340094546407,
          -0.09170386760848875,
          -0.019526891844180272,
          0.1772455354372205,
          0.13391918464359648,
          0.042589760256949494,
          0.06435331737777789,
          0.08197293004626749,
          0.7554576134146556,
          -0.019123753715140912,
          0.005908321496441604,
          0.11395711856496854,
          -0.1361337774883119,
          0.14242210687707335,
          -0.06112874484305497,
          0.06013699914440129,
          -0.05143030462239334,
          0.032102619063567595,
          0.046136433341135874,
          0.08376171267360216,
          0.14183202491207209,
          0.18517022970338154,
          0.07398039569342496,
          0.11633818125444007,
          -0.08915830526394058,
          0.10150003972784333,
          0.025086279753423812,
          -0.17194046201864016,
          0.02630757745132506,
          0.012203680090838886,
          0.02372925660232672,
          0.08560385693683703,
          0.184365638373248,
          -0.007894404349407524,
          -0.12032466499855582,
          0.01834668126325545,
          -0.08621010832454062,
          0.09951642335142613,
          0.09018954355106346,
          0.1802035887199056,
          -0.04230815550665956,
          -0.03518173761501725,
          0.04651429055631939,
          -0.034815627773594426,
          -0.18710130941212205,
          0.1569549293927187,
          -0.04371291951284989,
          0.11444614688544369,
          0.13021792454624037,
          0.04354334777785157,
          -0.05596746112745393
         ]
        }
       ],
       "layout": {
        "coloraxis": {
         "cmax": 0.2,
         "cmid": 0,
         "cmin": -0.2,
         "colorbar": {
          "title": {
           "text": "DIFF_PCT"
          }
         },
         "colorscale": [
          [
           0,
           "rgb(103,0,31)"
          ],
          [
           0.1,
           "rgb(178,24,43)"
          ],
          [
           0.2,
           "rgb(214,96,77)"
          ],
          [
           0.3,
           "rgb(244,165,130)"
          ],
          [
           0.4,
           "rgb(253,219,199)"
          ],
          [
           0.5,
           "rgb(247,247,247)"
          ],
          [
           0.6,
           "rgb(209,229,240)"
          ],
          [
           0.7,
           "rgb(146,197,222)"
          ],
          [
           0.8,
           "rgb(67,147,195)"
          ],
          [
           0.9,
           "rgb(33,102,172)"
          ],
          [
           1,
           "rgb(5,48,97)"
          ]
         ]
        },
        "geo": {
         "center": {},
         "domain": {
          "x": [
           0,
           1
          ],
          "y": [
           0,
           1
          ]
         },
         "scope": "usa"
        },
        "legend": {
         "tracegroupgap": 0
        },
        "margin": {
         "b": 0,
         "l": 0,
         "r": 0,
         "t": 0
        },
        "template": {
         "data": {
          "bar": [
           {
            "error_x": {
             "color": "#2a3f5f"
            },
            "error_y": {
             "color": "#2a3f5f"
            },
            "marker": {
             "line": {
              "color": "#E5ECF6",
              "width": 0.5
             },
             "pattern": {
              "fillmode": "overlay",
              "size": 10,
              "solidity": 0.2
             }
            },
            "type": "bar"
           }
          ],
          "barpolar": [
           {
            "marker": {
             "line": {
              "color": "#E5ECF6",
              "width": 0.5
             },
             "pattern": {
              "fillmode": "overlay",
              "size": 10,
              "solidity": 0.2
             }
            },
            "type": "barpolar"
           }
          ],
          "carpet": [
           {
            "aaxis": {
             "endlinecolor": "#2a3f5f",
             "gridcolor": "white",
             "linecolor": "white",
             "minorgridcolor": "white",
             "startlinecolor": "#2a3f5f"
            },
            "baxis": {
             "endlinecolor": "#2a3f5f",
             "gridcolor": "white",
             "linecolor": "white",
             "minorgridcolor": "white",
             "startlinecolor": "#2a3f5f"
            },
            "type": "carpet"
           }
          ],
          "choropleth": [
           {
            "colorbar": {
             "outlinewidth": 0,
             "ticks": ""
            },
            "type": "choropleth"
           }
          ],
          "contour": [
           {
            "colorbar": {
             "outlinewidth": 0,
             "ticks": ""
            },
            "colorscale": [
             [
              0,
              "#0d0887"
             ],
             [
              0.1111111111111111,
              "#46039f"
             ],
             [
              0.2222222222222222,
              "#7201a8"
             ],
             [
              0.3333333333333333,
              "#9c179e"
             ],
             [
              0.4444444444444444,
              "#bd3786"
             ],
             [
              0.5555555555555556,
              "#d8576b"
             ],
             [
              0.6666666666666666,
              "#ed7953"
             ],
             [
              0.7777777777777778,
              "#fb9f3a"
             ],
             [
              0.8888888888888888,
              "#fdca26"
             ],
             [
              1,
              "#f0f921"
             ]
            ],
            "type": "contour"
           }
          ],
          "contourcarpet": [
           {
            "colorbar": {
             "outlinewidth": 0,
             "ticks": ""
            },
            "type": "contourcarpet"
           }
          ],
          "heatmap": [
           {
            "colorbar": {
             "outlinewidth": 0,
             "ticks": ""
            },
            "colorscale": [
             [
              0,
              "#0d0887"
             ],
             [
              0.1111111111111111,
              "#46039f"
             ],
             [
              0.2222222222222222,
              "#7201a8"
             ],
             [
              0.3333333333333333,
              "#9c179e"
             ],
             [
              0.4444444444444444,
              "#bd3786"
             ],
             [
              0.5555555555555556,
              "#d8576b"
             ],
             [
              0.6666666666666666,
              "#ed7953"
             ],
             [
              0.7777777777777778,
              "#fb9f3a"
             ],
             [
              0.8888888888888888,
              "#fdca26"
             ],
             [
              1,
              "#f0f921"
             ]
            ],
            "type": "heatmap"
           }
          ],
          "heatmapgl": [
           {
            "colorbar": {
             "outlinewidth": 0,
             "ticks": ""
            },
            "colorscale": [
             [
              0,
              "#0d0887"
             ],
             [
              0.1111111111111111,
              "#46039f"
             ],
             [
              0.2222222222222222,
              "#7201a8"
             ],
             [
              0.3333333333333333,
              "#9c179e"
             ],
             [
              0.4444444444444444,
              "#bd3786"
             ],
             [
              0.5555555555555556,
              "#d8576b"
             ],
             [
              0.6666666666666666,
              "#ed7953"
             ],
             [
              0.7777777777777778,
              "#fb9f3a"
             ],
             [
              0.8888888888888888,
              "#fdca26"
             ],
             [
              1,
              "#f0f921"
             ]
            ],
            "type": "heatmapgl"
           }
          ],
          "histogram": [
           {
            "marker": {
             "pattern": {
              "fillmode": "overlay",
              "size": 10,
              "solidity": 0.2
             }
            },
            "type": "histogram"
           }
          ],
          "histogram2d": [
           {
            "colorbar": {
             "outlinewidth": 0,
             "ticks": ""
            },
            "colorscale": [
             [
              0,
              "#0d0887"
             ],
             [
              0.1111111111111111,
              "#46039f"
             ],
             [
              0.2222222222222222,
              "#7201a8"
             ],
             [
              0.3333333333333333,
              "#9c179e"
             ],
             [
              0.4444444444444444,
              "#bd3786"
             ],
             [
              0.5555555555555556,
              "#d8576b"
             ],
             [
              0.6666666666666666,
              "#ed7953"
             ],
             [
              0.7777777777777778,
              "#fb9f3a"
             ],
             [
              0.8888888888888888,
              "#fdca26"
             ],
             [
              1,
              "#f0f921"
             ]
            ],
            "type": "histogram2d"
           }
          ],
          "histogram2dcontour": [
           {
            "colorbar": {
             "outlinewidth": 0,
             "ticks": ""
            },
            "colorscale": [
             [
              0,
              "#0d0887"
             ],
             [
              0.1111111111111111,
              "#46039f"
             ],
             [
              0.2222222222222222,
              "#7201a8"
             ],
             [
              0.3333333333333333,
              "#9c179e"
             ],
             [
              0.4444444444444444,
              "#bd3786"
             ],
             [
              0.5555555555555556,
              "#d8576b"
             ],
             [
              0.6666666666666666,
              "#ed7953"
             ],
             [
              0.7777777777777778,
              "#fb9f3a"
             ],
             [
              0.8888888888888888,
              "#fdca26"
             ],
             [
              1,
              "#f0f921"
             ]
            ],
            "type": "histogram2dcontour"
           }
          ],
          "mesh3d": [
           {
            "colorbar": {
             "outlinewidth": 0,
             "ticks": ""
            },
            "type": "mesh3d"
           }
          ],
          "parcoords": [
           {
            "line": {
             "colorbar": {
              "outlinewidth": 0,
              "ticks": ""
             }
            },
            "type": "parcoords"
           }
          ],
          "pie": [
           {
            "automargin": true,
            "type": "pie"
           }
          ],
          "scatter": [
           {
            "fillpattern": {
             "fillmode": "overlay",
             "size": 10,
             "solidity": 0.2
            },
            "type": "scatter"
           }
          ],
          "scatter3d": [
           {
            "line": {
             "colorbar": {
              "outlinewidth": 0,
              "ticks": ""
             }
            },
            "marker": {
             "colorbar": {
              "outlinewidth": 0,
              "ticks": ""
             }
            },
            "type": "scatter3d"
           }
          ],
          "scattercarpet": [
           {
            "marker": {
             "colorbar": {
              "outlinewidth": 0,
              "ticks": ""
             }
            },
            "type": "scattercarpet"
           }
          ],
          "scattergeo": [
           {
            "marker": {
             "colorbar": {
              "outlinewidth": 0,
              "ticks": ""
             }
            },
            "type": "scattergeo"
           }
          ],
          "scattergl": [
           {
            "marker": {
             "colorbar": {
              "outlinewidth": 0,
              "ticks": ""
             }
            },
            "type": "scattergl"
           }
          ],
          "scattermapbox": [
           {
            "marker": {
             "colorbar": {
              "outlinewidth": 0,
              "ticks": ""
             }
            },
            "type": "scattermapbox"
           }
          ],
          "scatterpolar": [
           {
            "marker": {
             "colorbar": {
              "outlinewidth": 0,
              "ticks": ""
             }
            },
            "type": "scatterpolar"
           }
          ],
          "scatterpolargl": [
           {
            "marker": {
             "colorbar": {
              "outlinewidth": 0,
              "ticks": ""
             }
            },
            "type": "scatterpolargl"
           }
          ],
          "scatterternary": [
           {
            "marker": {
             "colorbar": {
              "outlinewidth": 0,
              "ticks": ""
             }
            },
            "type": "scatterternary"
           }
          ],
          "surface": [
           {
            "colorbar": {
             "outlinewidth": 0,
             "ticks": ""
            },
            "colorscale": [
             [
              0,
              "#0d0887"
             ],
             [
              0.1111111111111111,
              "#46039f"
             ],
             [
              0.2222222222222222,
              "#7201a8"
             ],
             [
              0.3333333333333333,
              "#9c179e"
             ],
             [
              0.4444444444444444,
              "#bd3786"
             ],
             [
              0.5555555555555556,
              "#d8576b"
             ],
             [
              0.6666666666666666,
              "#ed7953"
             ],
             [
              0.7777777777777778,
              "#fb9f3a"
             ],
             [
              0.8888888888888888,
              "#fdca26"
             ],
             [
              1,
              "#f0f921"
             ]
            ],
            "type": "surface"
           }
          ],
          "table": [
           {
            "cells": {
             "fill": {
              "color": "#EBF0F8"
             },
             "line": {
              "color": "white"
             }
            },
            "header": {
             "fill": {
              "color": "#C8D4E3"
             },
             "line": {
              "color": "white"
             }
            },
            "type": "table"
           }
          ]
         },
         "layout": {
          "annotationdefaults": {
           "arrowcolor": "#2a3f5f",
           "arrowhead": 0,
           "arrowwidth": 1
          },
          "autotypenumbers": "strict",
          "coloraxis": {
           "colorbar": {
            "outlinewidth": 0,
            "ticks": ""
           }
          },
          "colorscale": {
           "diverging": [
            [
             0,
             "#8e0152"
            ],
            [
             0.1,
             "#c51b7d"
            ],
            [
             0.2,
             "#de77ae"
            ],
            [
             0.3,
             "#f1b6da"
            ],
            [
             0.4,
             "#fde0ef"
            ],
            [
             0.5,
             "#f7f7f7"
            ],
            [
             0.6,
             "#e6f5d0"
            ],
            [
             0.7,
             "#b8e186"
            ],
            [
             0.8,
             "#7fbc41"
            ],
            [
             0.9,
             "#4d9221"
            ],
            [
             1,
             "#276419"
            ]
           ],
           "sequential": [
            [
             0,
             "#0d0887"
            ],
            [
             0.1111111111111111,
             "#46039f"
            ],
            [
             0.2222222222222222,
             "#7201a8"
            ],
            [
             0.3333333333333333,
             "#9c179e"
            ],
            [
             0.4444444444444444,
             "#bd3786"
            ],
            [
             0.5555555555555556,
             "#d8576b"
            ],
            [
             0.6666666666666666,
             "#ed7953"
            ],
            [
             0.7777777777777778,
             "#fb9f3a"
            ],
            [
             0.8888888888888888,
             "#fdca26"
            ],
            [
             1,
             "#f0f921"
            ]
           ],
           "sequentialminus": [
            [
             0,
             "#0d0887"
            ],
            [
             0.1111111111111111,
             "#46039f"
            ],
            [
             0.2222222222222222,
             "#7201a8"
            ],
            [
             0.3333333333333333,
             "#9c179e"
            ],
            [
             0.4444444444444444,
             "#bd3786"
            ],
            [
             0.5555555555555556,
             "#d8576b"
            ],
            [
             0.6666666666666666,
             "#ed7953"
            ],
            [
             0.7777777777777778,
             "#fb9f3a"
            ],
            [
             0.8888888888888888,
             "#fdca26"
            ],
            [
             1,
             "#f0f921"
            ]
           ]
          },
          "colorway": [
           "#636efa",
           "#EF553B",
           "#00cc96",
           "#ab63fa",
           "#FFA15A",
           "#19d3f3",
           "#FF6692",
           "#B6E880",
           "#FF97FF",
           "#FECB52"
          ],
          "font": {
           "color": "#2a3f5f"
          },
          "geo": {
           "bgcolor": "white",
           "lakecolor": "white",
           "landcolor": "#E5ECF6",
           "showlakes": true,
           "showland": true,
           "subunitcolor": "white"
          },
          "hoverlabel": {
           "align": "left"
          },
          "hovermode": "closest",
          "mapbox": {
           "style": "light"
          },
          "paper_bgcolor": "white",
          "plot_bgcolor": "#E5ECF6",
          "polar": {
           "angularaxis": {
            "gridcolor": "white",
            "linecolor": "white",
            "ticks": ""
           },
           "bgcolor": "#E5ECF6",
           "radialaxis": {
            "gridcolor": "white",
            "linecolor": "white",
            "ticks": ""
           }
          },
          "scene": {
           "xaxis": {
            "backgroundcolor": "#E5ECF6",
            "gridcolor": "white",
            "gridwidth": 2,
            "linecolor": "white",
            "showbackground": true,
            "ticks": "",
            "zerolinecolor": "white"
           },
           "yaxis": {
            "backgroundcolor": "#E5ECF6",
            "gridcolor": "white",
            "gridwidth": 2,
            "linecolor": "white",
            "showbackground": true,
            "ticks": "",
            "zerolinecolor": "white"
           },
           "zaxis": {
            "backgroundcolor": "#E5ECF6",
            "gridcolor": "white",
            "gridwidth": 2,
            "linecolor": "white",
            "showbackground": true,
            "ticks": "",
            "zerolinecolor": "white"
           }
          },
          "shapedefaults": {
           "line": {
            "color": "#2a3f5f"
           }
          },
          "ternary": {
           "aaxis": {
            "gridcolor": "white",
            "linecolor": "white",
            "ticks": ""
           },
           "baxis": {
            "gridcolor": "white",
            "linecolor": "white",
            "ticks": ""
           },
           "bgcolor": "#E5ECF6",
           "caxis": {
            "gridcolor": "white",
            "linecolor": "white",
            "ticks": ""
           }
          },
          "title": {
           "x": 0.05
          },
          "xaxis": {
           "automargin": true,
           "gridcolor": "white",
           "linecolor": "white",
           "ticks": "",
           "title": {
            "standoff": 15
           },
           "zerolinecolor": "white",
           "zerolinewidth": 2
          },
          "yaxis": {
           "automargin": true,
           "gridcolor": "white",
           "linecolor": "white",
           "ticks": "",
           "title": {
            "standoff": 15
           },
           "zerolinecolor": "white",
           "zerolinewidth": 2
          }
         }
        },
        "title": {
         "text": "1992"
        }
       }
      }
     },
     "metadata": {},
     "output_type": "display_data"
    },
    {
     "name": "stdout",
     "output_type": "stream",
     "text": [
      "1996\n"
     ]
    },
    {
     "data": {
      "application/vnd.plotly.v1+json": {
       "config": {
        "plotlyServerURL": "https://plot.ly"
       },
       "data": [
        {
         "coloraxis": "coloraxis",
         "customdata": [
          [
           1996,
           "ALABAMA",
           "Clinton B.",
           "Dole",
           -0.06965755509339794
          ],
          [
           1996,
           "ALASKA",
           "Clinton B.",
           "Dole",
           -0.17534144524459888
          ],
          [
           1996,
           "ARIZONA",
           "Clinton B.",
           "Dole",
           0.022226494494109572
          ],
          [
           1996,
           "ARKANSAS",
           "Clinton B.",
           "Dole",
           0.1693559148759078
          ],
          [
           1996,
           "CALIFORNIA",
           "Clinton B.",
           "Dole",
           0.1288944553848113
          ],
          [
           1996,
           "COLORADO",
           "Clinton B.",
           "Dole",
           -0.013699591315825377
          ],
          [
           1996,
           "CONNECTICUT",
           "Clinton B.",
           "Dole",
           0.18140776984864437
          ],
          [
           1996,
           "DELAWARE",
           "Clinton B.",
           "Dole",
           0.15247959824231017
          ],
          [
           1996,
           "DISTRICT OF COLUMBIA",
           "Clinton B.",
           "Dole",
           0.7585421534949334
          ],
          [
           1996,
           "FLORIDA",
           "Clinton B.",
           "Dole",
           0.057010224481506666
          ],
          [
           1996,
           "GEORGIA",
           "Clinton B.",
           "Dole",
           -0.011742142651765042
          ],
          [
           1996,
           "HAWAII",
           "Clinton B.",
           "Dole",
           0.25288514939464624
          ],
          [
           1996,
           "IDAHO",
           "Clinton B.",
           "Dole",
           -0.1853771829387587
          ],
          [
           1996,
           "ILLINOIS",
           "Clinton B.",
           "Dole",
           0.17505324847595594
          ],
          [
           1996,
           "INDIANA",
           "Clinton B.",
           "Dole",
           -0.05585242510762467
          ],
          [
           1996,
           "IOWA",
           "Clinton B.",
           "Dole",
           0.1034086258938881
          ],
          [
           1996,
           "KANSAS",
           "Clinton B.",
           "Dole",
           -0.1820590151726706
          ],
          [
           1996,
           "KENTUCKY",
           "Clinton B.",
           "Dole",
           0.009599570248029099
          ],
          [
           1996,
           "LOUISIANA",
           "Clinton B.",
           "Dole",
           0.12065916313099123
          ],
          [
           1996,
           "MAINE",
           "Clinton B.",
           "Dole",
           0.20863282042987508
          ],
          [
           1996,
           "MARYLAND",
           "Clinton B.",
           "Dole",
           0.1598527685906327
          ],
          [
           1996,
           "MASSACHUSETTS",
           "Clinton B.",
           "Dole",
           0.3338410668819644
          ],
          [
           1996,
           "MICHIGAN",
           "Clinton B.",
           "Dole",
           0.1321022623935914
          ],
          [
           1996,
           "MINNESOTA",
           "Clinton B.",
           "Dole",
           0.16145326870063836
          ],
          [
           1996,
           "MISSISSIPPI",
           "Clinton B.",
           "Dole",
           -0.05125652089763799
          ],
          [
           1996,
           "MISSOURI",
           "Clinton B.",
           "Dole",
           0.06298188423425616
          ],
          [
           1996,
           "MONTANA",
           "Clinton B.",
           "Dole",
           -0.02881476259141258
          ],
          [
           1996,
           "NEBRASKA",
           "Clinton B.",
           "Dole",
           -0.18704339289800193
          ],
          [
           1996,
           "NEVADA",
           "Clinton B.",
           "Dole",
           0.01018783963952713
          ],
          [
           1996,
           "NEW HAMPSHIRE",
           "Clinton B.",
           "Dole",
           0.10004087821714591
          ],
          [
           1996,
           "NEW JERSEY",
           "Clinton B.",
           "Dole",
           0.17857184657299097
          ],
          [
           1996,
           "NEW MEXICO",
           "Clinton B.",
           "Dole",
           0.0732708236673536
          ],
          [
           1996,
           "NEW YORK",
           "Clinton B.",
           "Dole",
           0.29676731123106864
          ],
          [
           1996,
           "NORTH CAROLINA",
           "Clinton B.",
           "Dole",
           -0.046938815258881106
          ],
          [
           1996,
           "NORTH DAKOTA",
           "Clinton B.",
           "Dole",
           -0.06810904955125724
          ],
          [
           1996,
           "OHIO",
           "Clinton B.",
           "Dole",
           0.06358875220148758
          ],
          [
           1996,
           "OKLAHOMA",
           "Clinton B.",
           "Dole",
           -0.07807158785891927
          ],
          [
           1996,
           "OREGON",
           "Clinton B.",
           "Dole",
           0.08092047961909182
          ],
          [
           1996,
           "PENNSYLVANIA",
           "Clinton B.",
           "Dole",
           0.09211768937333092
          ],
          [
           1996,
           "RHODE ISLAND",
           "Clinton B.",
           "Dole",
           0.3289378265560018
          ],
          [
           1996,
           "SOUTH CAROLINA",
           "Clinton B.",
           "Dole",
           -0.058414233573469254
          ],
          [
           1996,
           "SOUTH DAKOTA",
           "Clinton B.",
           "Dole",
           -0.034617356234521
          ],
          [
           1996,
           "TENNESSEE",
           "Clinton B.",
           "Dole",
           0.024083142170048644
          ],
          [
           1996,
           "TEXAS",
           "Clinton B.",
           "Dole",
           -0.04926969707985751
          ],
          [
           1996,
           "UTAH",
           "Clinton B.",
           "Dole",
           -0.21074502463083794
          ],
          [
           1996,
           "VERMONT",
           "Clinton B.",
           "Dole",
           0.22264353895739586
          ],
          [
           1996,
           "VIRGINIA",
           "Clinton B.",
           "Dole",
           -0.019568475595475032
          ],
          [
           1996,
           "WASHINGTON",
           "Clinton B.",
           "Dole",
           0.12539105534251144
          ],
          [
           1996,
           "WEST VIRGINIA",
           "Clinton B.",
           "Dole",
           0.14748161311254926
          ],
          [
           1996,
           "WISCONSIN",
           "Clinton B.",
           "Dole",
           0.10333539905171235
          ],
          [
           1996,
           "WYOMING",
           "Clinton B.",
           "Dole",
           -0.129762585609559
          ]
         ],
         "geo": "geo",
         "geojson": "https://raw.githubusercontent.com/plotly/datasets/master/geojson-counties-fips.json",
         "hovertemplate": "%{customdata[0]}<br>%{customdata[1]}<br>%{customdata[2]}(D) vs %{customdata[3]}(R)<br>Dem Margin:%{customdata[4]:.1%}%<br><extra></extra>",
         "locationmode": "USA-states",
         "locations": [
          "AL",
          "AK",
          "AZ",
          "AR",
          "CA",
          "CO",
          "CT",
          "DE",
          "DC",
          "FL",
          "GA",
          "HI",
          "ID",
          "IL",
          "IN",
          "IA",
          "KS",
          "KY",
          "LA",
          "ME",
          "MD",
          "MA",
          "MI",
          "MN",
          "MS",
          "MO",
          "MT",
          "NE",
          "NV",
          "NH",
          "NJ",
          "NM",
          "NY",
          "NC",
          "ND",
          "OH",
          "OK",
          "OR",
          "PA",
          "RI",
          "SC",
          "SD",
          "TN",
          "TX",
          "UT",
          "VT",
          "VA",
          "WA",
          "WV",
          "WI",
          "WY"
         ],
         "name": "",
         "type": "choropleth",
         "z": [
          -0.06965755509339794,
          -0.17534144524459888,
          0.022226494494109572,
          0.1693559148759078,
          0.1288944553848113,
          -0.013699591315825377,
          0.18140776984864437,
          0.15247959824231017,
          0.7585421534949334,
          0.057010224481506666,
          -0.011742142651765042,
          0.25288514939464624,
          -0.1853771829387587,
          0.17505324847595594,
          -0.05585242510762467,
          0.1034086258938881,
          -0.1820590151726706,
          0.009599570248029099,
          0.12065916313099123,
          0.20863282042987508,
          0.1598527685906327,
          0.3338410668819644,
          0.1321022623935914,
          0.16145326870063836,
          -0.05125652089763799,
          0.06298188423425616,
          -0.02881476259141258,
          -0.18704339289800193,
          0.01018783963952713,
          0.10004087821714591,
          0.17857184657299097,
          0.0732708236673536,
          0.29676731123106864,
          -0.046938815258881106,
          -0.06810904955125724,
          0.06358875220148758,
          -0.07807158785891927,
          0.08092047961909182,
          0.09211768937333092,
          0.3289378265560018,
          -0.058414233573469254,
          -0.034617356234521,
          0.024083142170048644,
          -0.04926969707985751,
          -0.21074502463083794,
          0.22264353895739586,
          -0.019568475595475032,
          0.12539105534251144,
          0.14748161311254926,
          0.10333539905171235,
          -0.129762585609559
         ]
        }
       ],
       "layout": {
        "coloraxis": {
         "cmax": 0.2,
         "cmid": 0,
         "cmin": -0.2,
         "colorbar": {
          "title": {
           "text": "DIFF_PCT"
          }
         },
         "colorscale": [
          [
           0,
           "rgb(103,0,31)"
          ],
          [
           0.1,
           "rgb(178,24,43)"
          ],
          [
           0.2,
           "rgb(214,96,77)"
          ],
          [
           0.3,
           "rgb(244,165,130)"
          ],
          [
           0.4,
           "rgb(253,219,199)"
          ],
          [
           0.5,
           "rgb(247,247,247)"
          ],
          [
           0.6,
           "rgb(209,229,240)"
          ],
          [
           0.7,
           "rgb(146,197,222)"
          ],
          [
           0.8,
           "rgb(67,147,195)"
          ],
          [
           0.9,
           "rgb(33,102,172)"
          ],
          [
           1,
           "rgb(5,48,97)"
          ]
         ]
        },
        "geo": {
         "center": {},
         "domain": {
          "x": [
           0,
           1
          ],
          "y": [
           0,
           1
          ]
         },
         "scope": "usa"
        },
        "legend": {
         "tracegroupgap": 0
        },
        "margin": {
         "b": 0,
         "l": 0,
         "r": 0,
         "t": 0
        },
        "template": {
         "data": {
          "bar": [
           {
            "error_x": {
             "color": "#2a3f5f"
            },
            "error_y": {
             "color": "#2a3f5f"
            },
            "marker": {
             "line": {
              "color": "#E5ECF6",
              "width": 0.5
             },
             "pattern": {
              "fillmode": "overlay",
              "size": 10,
              "solidity": 0.2
             }
            },
            "type": "bar"
           }
          ],
          "barpolar": [
           {
            "marker": {
             "line": {
              "color": "#E5ECF6",
              "width": 0.5
             },
             "pattern": {
              "fillmode": "overlay",
              "size": 10,
              "solidity": 0.2
             }
            },
            "type": "barpolar"
           }
          ],
          "carpet": [
           {
            "aaxis": {
             "endlinecolor": "#2a3f5f",
             "gridcolor": "white",
             "linecolor": "white",
             "minorgridcolor": "white",
             "startlinecolor": "#2a3f5f"
            },
            "baxis": {
             "endlinecolor": "#2a3f5f",
             "gridcolor": "white",
             "linecolor": "white",
             "minorgridcolor": "white",
             "startlinecolor": "#2a3f5f"
            },
            "type": "carpet"
           }
          ],
          "choropleth": [
           {
            "colorbar": {
             "outlinewidth": 0,
             "ticks": ""
            },
            "type": "choropleth"
           }
          ],
          "contour": [
           {
            "colorbar": {
             "outlinewidth": 0,
             "ticks": ""
            },
            "colorscale": [
             [
              0,
              "#0d0887"
             ],
             [
              0.1111111111111111,
              "#46039f"
             ],
             [
              0.2222222222222222,
              "#7201a8"
             ],
             [
              0.3333333333333333,
              "#9c179e"
             ],
             [
              0.4444444444444444,
              "#bd3786"
             ],
             [
              0.5555555555555556,
              "#d8576b"
             ],
             [
              0.6666666666666666,
              "#ed7953"
             ],
             [
              0.7777777777777778,
              "#fb9f3a"
             ],
             [
              0.8888888888888888,
              "#fdca26"
             ],
             [
              1,
              "#f0f921"
             ]
            ],
            "type": "contour"
           }
          ],
          "contourcarpet": [
           {
            "colorbar": {
             "outlinewidth": 0,
             "ticks": ""
            },
            "type": "contourcarpet"
           }
          ],
          "heatmap": [
           {
            "colorbar": {
             "outlinewidth": 0,
             "ticks": ""
            },
            "colorscale": [
             [
              0,
              "#0d0887"
             ],
             [
              0.1111111111111111,
              "#46039f"
             ],
             [
              0.2222222222222222,
              "#7201a8"
             ],
             [
              0.3333333333333333,
              "#9c179e"
             ],
             [
              0.4444444444444444,
              "#bd3786"
             ],
             [
              0.5555555555555556,
              "#d8576b"
             ],
             [
              0.6666666666666666,
              "#ed7953"
             ],
             [
              0.7777777777777778,
              "#fb9f3a"
             ],
             [
              0.8888888888888888,
              "#fdca26"
             ],
             [
              1,
              "#f0f921"
             ]
            ],
            "type": "heatmap"
           }
          ],
          "heatmapgl": [
           {
            "colorbar": {
             "outlinewidth": 0,
             "ticks": ""
            },
            "colorscale": [
             [
              0,
              "#0d0887"
             ],
             [
              0.1111111111111111,
              "#46039f"
             ],
             [
              0.2222222222222222,
              "#7201a8"
             ],
             [
              0.3333333333333333,
              "#9c179e"
             ],
             [
              0.4444444444444444,
              "#bd3786"
             ],
             [
              0.5555555555555556,
              "#d8576b"
             ],
             [
              0.6666666666666666,
              "#ed7953"
             ],
             [
              0.7777777777777778,
              "#fb9f3a"
             ],
             [
              0.8888888888888888,
              "#fdca26"
             ],
             [
              1,
              "#f0f921"
             ]
            ],
            "type": "heatmapgl"
           }
          ],
          "histogram": [
           {
            "marker": {
             "pattern": {
              "fillmode": "overlay",
              "size": 10,
              "solidity": 0.2
             }
            },
            "type": "histogram"
           }
          ],
          "histogram2d": [
           {
            "colorbar": {
             "outlinewidth": 0,
             "ticks": ""
            },
            "colorscale": [
             [
              0,
              "#0d0887"
             ],
             [
              0.1111111111111111,
              "#46039f"
             ],
             [
              0.2222222222222222,
              "#7201a8"
             ],
             [
              0.3333333333333333,
              "#9c179e"
             ],
             [
              0.4444444444444444,
              "#bd3786"
             ],
             [
              0.5555555555555556,
              "#d8576b"
             ],
             [
              0.6666666666666666,
              "#ed7953"
             ],
             [
              0.7777777777777778,
              "#fb9f3a"
             ],
             [
              0.8888888888888888,
              "#fdca26"
             ],
             [
              1,
              "#f0f921"
             ]
            ],
            "type": "histogram2d"
           }
          ],
          "histogram2dcontour": [
           {
            "colorbar": {
             "outlinewidth": 0,
             "ticks": ""
            },
            "colorscale": [
             [
              0,
              "#0d0887"
             ],
             [
              0.1111111111111111,
              "#46039f"
             ],
             [
              0.2222222222222222,
              "#7201a8"
             ],
             [
              0.3333333333333333,
              "#9c179e"
             ],
             [
              0.4444444444444444,
              "#bd3786"
             ],
             [
              0.5555555555555556,
              "#d8576b"
             ],
             [
              0.6666666666666666,
              "#ed7953"
             ],
             [
              0.7777777777777778,
              "#fb9f3a"
             ],
             [
              0.8888888888888888,
              "#fdca26"
             ],
             [
              1,
              "#f0f921"
             ]
            ],
            "type": "histogram2dcontour"
           }
          ],
          "mesh3d": [
           {
            "colorbar": {
             "outlinewidth": 0,
             "ticks": ""
            },
            "type": "mesh3d"
           }
          ],
          "parcoords": [
           {
            "line": {
             "colorbar": {
              "outlinewidth": 0,
              "ticks": ""
             }
            },
            "type": "parcoords"
           }
          ],
          "pie": [
           {
            "automargin": true,
            "type": "pie"
           }
          ],
          "scatter": [
           {
            "fillpattern": {
             "fillmode": "overlay",
             "size": 10,
             "solidity": 0.2
            },
            "type": "scatter"
           }
          ],
          "scatter3d": [
           {
            "line": {
             "colorbar": {
              "outlinewidth": 0,
              "ticks": ""
             }
            },
            "marker": {
             "colorbar": {
              "outlinewidth": 0,
              "ticks": ""
             }
            },
            "type": "scatter3d"
           }
          ],
          "scattercarpet": [
           {
            "marker": {
             "colorbar": {
              "outlinewidth": 0,
              "ticks": ""
             }
            },
            "type": "scattercarpet"
           }
          ],
          "scattergeo": [
           {
            "marker": {
             "colorbar": {
              "outlinewidth": 0,
              "ticks": ""
             }
            },
            "type": "scattergeo"
           }
          ],
          "scattergl": [
           {
            "marker": {
             "colorbar": {
              "outlinewidth": 0,
              "ticks": ""
             }
            },
            "type": "scattergl"
           }
          ],
          "scattermapbox": [
           {
            "marker": {
             "colorbar": {
              "outlinewidth": 0,
              "ticks": ""
             }
            },
            "type": "scattermapbox"
           }
          ],
          "scatterpolar": [
           {
            "marker": {
             "colorbar": {
              "outlinewidth": 0,
              "ticks": ""
             }
            },
            "type": "scatterpolar"
           }
          ],
          "scatterpolargl": [
           {
            "marker": {
             "colorbar": {
              "outlinewidth": 0,
              "ticks": ""
             }
            },
            "type": "scatterpolargl"
           }
          ],
          "scatterternary": [
           {
            "marker": {
             "colorbar": {
              "outlinewidth": 0,
              "ticks": ""
             }
            },
            "type": "scatterternary"
           }
          ],
          "surface": [
           {
            "colorbar": {
             "outlinewidth": 0,
             "ticks": ""
            },
            "colorscale": [
             [
              0,
              "#0d0887"
             ],
             [
              0.1111111111111111,
              "#46039f"
             ],
             [
              0.2222222222222222,
              "#7201a8"
             ],
             [
              0.3333333333333333,
              "#9c179e"
             ],
             [
              0.4444444444444444,
              "#bd3786"
             ],
             [
              0.5555555555555556,
              "#d8576b"
             ],
             [
              0.6666666666666666,
              "#ed7953"
             ],
             [
              0.7777777777777778,
              "#fb9f3a"
             ],
             [
              0.8888888888888888,
              "#fdca26"
             ],
             [
              1,
              "#f0f921"
             ]
            ],
            "type": "surface"
           }
          ],
          "table": [
           {
            "cells": {
             "fill": {
              "color": "#EBF0F8"
             },
             "line": {
              "color": "white"
             }
            },
            "header": {
             "fill": {
              "color": "#C8D4E3"
             },
             "line": {
              "color": "white"
             }
            },
            "type": "table"
           }
          ]
         },
         "layout": {
          "annotationdefaults": {
           "arrowcolor": "#2a3f5f",
           "arrowhead": 0,
           "arrowwidth": 1
          },
          "autotypenumbers": "strict",
          "coloraxis": {
           "colorbar": {
            "outlinewidth": 0,
            "ticks": ""
           }
          },
          "colorscale": {
           "diverging": [
            [
             0,
             "#8e0152"
            ],
            [
             0.1,
             "#c51b7d"
            ],
            [
             0.2,
             "#de77ae"
            ],
            [
             0.3,
             "#f1b6da"
            ],
            [
             0.4,
             "#fde0ef"
            ],
            [
             0.5,
             "#f7f7f7"
            ],
            [
             0.6,
             "#e6f5d0"
            ],
            [
             0.7,
             "#b8e186"
            ],
            [
             0.8,
             "#7fbc41"
            ],
            [
             0.9,
             "#4d9221"
            ],
            [
             1,
             "#276419"
            ]
           ],
           "sequential": [
            [
             0,
             "#0d0887"
            ],
            [
             0.1111111111111111,
             "#46039f"
            ],
            [
             0.2222222222222222,
             "#7201a8"
            ],
            [
             0.3333333333333333,
             "#9c179e"
            ],
            [
             0.4444444444444444,
             "#bd3786"
            ],
            [
             0.5555555555555556,
             "#d8576b"
            ],
            [
             0.6666666666666666,
             "#ed7953"
            ],
            [
             0.7777777777777778,
             "#fb9f3a"
            ],
            [
             0.8888888888888888,
             "#fdca26"
            ],
            [
             1,
             "#f0f921"
            ]
           ],
           "sequentialminus": [
            [
             0,
             "#0d0887"
            ],
            [
             0.1111111111111111,
             "#46039f"
            ],
            [
             0.2222222222222222,
             "#7201a8"
            ],
            [
             0.3333333333333333,
             "#9c179e"
            ],
            [
             0.4444444444444444,
             "#bd3786"
            ],
            [
             0.5555555555555556,
             "#d8576b"
            ],
            [
             0.6666666666666666,
             "#ed7953"
            ],
            [
             0.7777777777777778,
             "#fb9f3a"
            ],
            [
             0.8888888888888888,
             "#fdca26"
            ],
            [
             1,
             "#f0f921"
            ]
           ]
          },
          "colorway": [
           "#636efa",
           "#EF553B",
           "#00cc96",
           "#ab63fa",
           "#FFA15A",
           "#19d3f3",
           "#FF6692",
           "#B6E880",
           "#FF97FF",
           "#FECB52"
          ],
          "font": {
           "color": "#2a3f5f"
          },
          "geo": {
           "bgcolor": "white",
           "lakecolor": "white",
           "landcolor": "#E5ECF6",
           "showlakes": true,
           "showland": true,
           "subunitcolor": "white"
          },
          "hoverlabel": {
           "align": "left"
          },
          "hovermode": "closest",
          "mapbox": {
           "style": "light"
          },
          "paper_bgcolor": "white",
          "plot_bgcolor": "#E5ECF6",
          "polar": {
           "angularaxis": {
            "gridcolor": "white",
            "linecolor": "white",
            "ticks": ""
           },
           "bgcolor": "#E5ECF6",
           "radialaxis": {
            "gridcolor": "white",
            "linecolor": "white",
            "ticks": ""
           }
          },
          "scene": {
           "xaxis": {
            "backgroundcolor": "#E5ECF6",
            "gridcolor": "white",
            "gridwidth": 2,
            "linecolor": "white",
            "showbackground": true,
            "ticks": "",
            "zerolinecolor": "white"
           },
           "yaxis": {
            "backgroundcolor": "#E5ECF6",
            "gridcolor": "white",
            "gridwidth": 2,
            "linecolor": "white",
            "showbackground": true,
            "ticks": "",
            "zerolinecolor": "white"
           },
           "zaxis": {
            "backgroundcolor": "#E5ECF6",
            "gridcolor": "white",
            "gridwidth": 2,
            "linecolor": "white",
            "showbackground": true,
            "ticks": "",
            "zerolinecolor": "white"
           }
          },
          "shapedefaults": {
           "line": {
            "color": "#2a3f5f"
           }
          },
          "ternary": {
           "aaxis": {
            "gridcolor": "white",
            "linecolor": "white",
            "ticks": ""
           },
           "baxis": {
            "gridcolor": "white",
            "linecolor": "white",
            "ticks": ""
           },
           "bgcolor": "#E5ECF6",
           "caxis": {
            "gridcolor": "white",
            "linecolor": "white",
            "ticks": ""
           }
          },
          "title": {
           "x": 0.05
          },
          "xaxis": {
           "automargin": true,
           "gridcolor": "white",
           "linecolor": "white",
           "ticks": "",
           "title": {
            "standoff": 15
           },
           "zerolinecolor": "white",
           "zerolinewidth": 2
          },
          "yaxis": {
           "automargin": true,
           "gridcolor": "white",
           "linecolor": "white",
           "ticks": "",
           "title": {
            "standoff": 15
           },
           "zerolinecolor": "white",
           "zerolinewidth": 2
          }
         }
        },
        "title": {
         "text": "1996"
        }
       }
      }
     },
     "metadata": {},
     "output_type": "display_data"
    },
    {
     "name": "stdout",
     "output_type": "stream",
     "text": [
      "2000\n"
     ]
    },
    {
     "data": {
      "application/vnd.plotly.v1+json": {
       "config": {
        "plotlyServerURL": "https://plot.ly"
       },
       "data": [
        {
         "coloraxis": "coloraxis",
         "customdata": [
          [
           2000,
           "ALABAMA",
           "Gore",
           "Bush Junior",
           -0.1491725240536959
          ],
          [
           2000,
           "ALASKA",
           "Gore",
           "Bush Junior",
           -0.3095461549236588
          ],
          [
           2000,
           "ARIZONA",
           "Gore",
           "Bush Junior",
           -0.06286553143048113
          ],
          [
           2000,
           "ARKANSAS",
           "Gore",
           "Bush Junior",
           -0.05442941436197973
          ],
          [
           2000,
           "CALIFORNIA",
           "Gore",
           "Bush Junior",
           0.11798240022499001
          ],
          [
           2000,
           "COLORADO",
           "Gore",
           "Bush Junior",
           -0.08356705762366146
          ],
          [
           2000,
           "CONNECTICUT",
           "Gore",
           "Bush Junior",
           0.17466024905363048
          ],
          [
           2000,
           "DELAWARE",
           "Gore",
           "Bush Junior",
           0.13061438834423827
          ],
          [
           2000,
           "DISTRICT OF COLUMBIA",
           "Gore",
           "Bush Junior",
           0.7620335423539085
          ],
          [
           2000,
           "FLORIDA",
           "Gore",
           "Bush Junior",
           -0.0000900536800428342
          ],
          [
           2000,
           "GEORGIA",
           "Gore",
           "Bush Junior",
           -0.11748569995137825
          ],
          [
           2000,
           "HAWAII",
           "Gore",
           "Bush Junior",
           0.18328799215112884
          ],
          [
           2000,
           "IDAHO",
           "Gore",
           "Bush Junior",
           -0.39532310636643647
          ],
          [
           2000,
           "ILLINOIS",
           "Gore",
           "Bush Junior",
           0.12011641236344678
          ],
          [
           2000,
           "INDIANA",
           "Gore",
           "Bush Junior",
           -0.15634778670687333
          ],
          [
           2000,
           "IOWA",
           "Gore",
           "Bush Junior",
           0.003062773554310283
          ],
          [
           2000,
           "KANSAS",
           "Gore",
           "Bush Junior",
           -0.20803270982712435
          ],
          [
           2000,
           "KENTUCKY",
           "Gore",
           "Bush Junior",
           -0.15128300777278247
          ],
          [
           2000,
           "LOUISIANA",
           "Gore",
           "Bush Junior",
           -0.07675730719913737
          ],
          [
           2000,
           "MAINE",
           "Gore",
           "Bush Junior",
           0.051141654789611246
          ],
          [
           2000,
           "MARYLAND",
           "Gore",
           "Bush Junior",
           0.1630352772944264
          ],
          [
           2000,
           "MASSACHUSETTS",
           "Gore",
           "Bush Junior",
           0.2699322302707716
          ],
          [
           2000,
           "MICHIGAN",
           "Gore",
           "Bush Junior",
           0.051335841385507064
          ],
          [
           2000,
           "MINNESOTA",
           "Gore",
           "Bush Junior",
           0.024032214082589598
          ],
          [
           2000,
           "MISSISSIPPI",
           "Gore",
           "Bush Junior",
           -0.16921414949345398
          ],
          [
           2000,
           "MISSOURI",
           "Gore",
           "Bush Junior",
           -0.033385426112720384
          ],
          [
           2000,
           "MONTANA",
           "Gore",
           "Bush Junior",
           -0.25074333432282364
          ],
          [
           2000,
           "NEBRASKA",
           "Gore",
           "Bush Junior",
           -0.2899232302132366
          ],
          [
           2000,
           "NEVADA",
           "Gore",
           "Bush Junior",
           -0.03543826485906415
          ],
          [
           2000,
           "NEW HAMPSHIRE",
           "Gore",
           "Bush Junior",
           -0.012671306896557766
          ],
          [
           2000,
           "NEW JERSEY",
           "Gore",
           "Bush Junior",
           0.15834365056007954
          ],
          [
           2000,
           "NEW MEXICO",
           "Gore",
           "Bush Junior",
           0.000611421555115621
          ],
          [
           2000,
           "NEW YORK",
           "Gore",
           "Bush Junior",
           0.2418945391773099
          ],
          [
           2000,
           "NORTH CAROLINA",
           "Gore",
           "Bush Junior",
           -0.12812085118645344
          ],
          [
           2000,
           "NORTH DAKOTA",
           "Gore",
           "Bush Junior",
           -0.2760324156305506
          ],
          [
           2000,
           "OHIO",
           "Gore",
           "Bush Junior",
           -0.03546045744808907
          ],
          [
           2000,
           "OKLAHOMA",
           "Gore",
           "Bush Junior",
           -0.21880947538908901
          ],
          [
           2000,
           "OREGON",
           "Gore",
           "Bush Junior",
           0.004410182861240564
          ],
          [
           2000,
           "PENNSYLVANIA",
           "Gore",
           "Bush Junior",
           0.041700383841406674
          ],
          [
           2000,
           "RHODE ISLAND",
           "Gore",
           "Bush Junior",
           0.2907590097577191
          ],
          [
           2000,
           "SOUTH CAROLINA",
           "Gore",
           "Bush Junior",
           -0.15958861248845657
          ],
          [
           2000,
           "SOUTH DAKOTA",
           "Gore",
           "Bush Junior",
           -0.2273254729360133
          ],
          [
           2000,
           "TENNESSEE",
           "Gore",
           "Bush Junior",
           -0.03864258463014547
          ],
          [
           2000,
           "TEXAS",
           "Gore",
           "Bush Junior",
           -0.21316641376532408
          ],
          [
           2000,
           "UTAH",
           "Gore",
           "Bush Junior",
           -0.4048542076979166
          ],
          [
           2000,
           "VERMONT",
           "Gore",
           "Bush Junior",
           0.09937548418663444
          ],
          [
           2000,
           "VIRGINIA",
           "Gore",
           "Bush Junior",
           -0.08038118642193115
          ],
          [
           2000,
           "WASHINGTON",
           "Gore",
           "Bush Junior",
           0.05579567369251759
          ],
          [
           2000,
           "WEST VIRGINIA",
           "Gore",
           "Bush Junior",
           -0.0632255556035573
          ],
          [
           2000,
           "WISCONSIN",
           "Gore",
           "Bush Junior",
           0.0021965614654312904
          ],
          [
           2000,
           "WYOMING",
           "Gore",
           "Bush Junior",
           -0.40924361097854256
          ]
         ],
         "geo": "geo",
         "geojson": "https://raw.githubusercontent.com/plotly/datasets/master/geojson-counties-fips.json",
         "hovertemplate": "%{customdata[0]}<br>%{customdata[1]}<br>%{customdata[2]}(D) vs %{customdata[3]}(R)<br>Dem Margin:%{customdata[4]:.1%}%<br><extra></extra>",
         "locationmode": "USA-states",
         "locations": [
          "AL",
          "AK",
          "AZ",
          "AR",
          "CA",
          "CO",
          "CT",
          "DE",
          "DC",
          "FL",
          "GA",
          "HI",
          "ID",
          "IL",
          "IN",
          "IA",
          "KS",
          "KY",
          "LA",
          "ME",
          "MD",
          "MA",
          "MI",
          "MN",
          "MS",
          "MO",
          "MT",
          "NE",
          "NV",
          "NH",
          "NJ",
          "NM",
          "NY",
          "NC",
          "ND",
          "OH",
          "OK",
          "OR",
          "PA",
          "RI",
          "SC",
          "SD",
          "TN",
          "TX",
          "UT",
          "VT",
          "VA",
          "WA",
          "WV",
          "WI",
          "WY"
         ],
         "name": "",
         "type": "choropleth",
         "z": [
          -0.1491725240536959,
          -0.3095461549236588,
          -0.06286553143048113,
          -0.05442941436197973,
          0.11798240022499001,
          -0.08356705762366146,
          0.17466024905363048,
          0.13061438834423827,
          0.7620335423539085,
          -0.0000900536800428342,
          -0.11748569995137825,
          0.18328799215112884,
          -0.39532310636643647,
          0.12011641236344678,
          -0.15634778670687333,
          0.003062773554310283,
          -0.20803270982712435,
          -0.15128300777278247,
          -0.07675730719913737,
          0.051141654789611246,
          0.1630352772944264,
          0.2699322302707716,
          0.051335841385507064,
          0.024032214082589598,
          -0.16921414949345398,
          -0.033385426112720384,
          -0.25074333432282364,
          -0.2899232302132366,
          -0.03543826485906415,
          -0.012671306896557766,
          0.15834365056007954,
          0.000611421555115621,
          0.2418945391773099,
          -0.12812085118645344,
          -0.2760324156305506,
          -0.03546045744808907,
          -0.21880947538908901,
          0.004410182861240564,
          0.041700383841406674,
          0.2907590097577191,
          -0.15958861248845657,
          -0.2273254729360133,
          -0.03864258463014547,
          -0.21316641376532408,
          -0.4048542076979166,
          0.09937548418663444,
          -0.08038118642193115,
          0.05579567369251759,
          -0.0632255556035573,
          0.0021965614654312904,
          -0.40924361097854256
         ]
        }
       ],
       "layout": {
        "coloraxis": {
         "cmax": 0.2,
         "cmid": 0,
         "cmin": -0.2,
         "colorbar": {
          "title": {
           "text": "DIFF_PCT"
          }
         },
         "colorscale": [
          [
           0,
           "rgb(103,0,31)"
          ],
          [
           0.1,
           "rgb(178,24,43)"
          ],
          [
           0.2,
           "rgb(214,96,77)"
          ],
          [
           0.3,
           "rgb(244,165,130)"
          ],
          [
           0.4,
           "rgb(253,219,199)"
          ],
          [
           0.5,
           "rgb(247,247,247)"
          ],
          [
           0.6,
           "rgb(209,229,240)"
          ],
          [
           0.7,
           "rgb(146,197,222)"
          ],
          [
           0.8,
           "rgb(67,147,195)"
          ],
          [
           0.9,
           "rgb(33,102,172)"
          ],
          [
           1,
           "rgb(5,48,97)"
          ]
         ]
        },
        "geo": {
         "center": {},
         "domain": {
          "x": [
           0,
           1
          ],
          "y": [
           0,
           1
          ]
         },
         "scope": "usa"
        },
        "legend": {
         "tracegroupgap": 0
        },
        "margin": {
         "b": 0,
         "l": 0,
         "r": 0,
         "t": 0
        },
        "template": {
         "data": {
          "bar": [
           {
            "error_x": {
             "color": "#2a3f5f"
            },
            "error_y": {
             "color": "#2a3f5f"
            },
            "marker": {
             "line": {
              "color": "#E5ECF6",
              "width": 0.5
             },
             "pattern": {
              "fillmode": "overlay",
              "size": 10,
              "solidity": 0.2
             }
            },
            "type": "bar"
           }
          ],
          "barpolar": [
           {
            "marker": {
             "line": {
              "color": "#E5ECF6",
              "width": 0.5
             },
             "pattern": {
              "fillmode": "overlay",
              "size": 10,
              "solidity": 0.2
             }
            },
            "type": "barpolar"
           }
          ],
          "carpet": [
           {
            "aaxis": {
             "endlinecolor": "#2a3f5f",
             "gridcolor": "white",
             "linecolor": "white",
             "minorgridcolor": "white",
             "startlinecolor": "#2a3f5f"
            },
            "baxis": {
             "endlinecolor": "#2a3f5f",
             "gridcolor": "white",
             "linecolor": "white",
             "minorgridcolor": "white",
             "startlinecolor": "#2a3f5f"
            },
            "type": "carpet"
           }
          ],
          "choropleth": [
           {
            "colorbar": {
             "outlinewidth": 0,
             "ticks": ""
            },
            "type": "choropleth"
           }
          ],
          "contour": [
           {
            "colorbar": {
             "outlinewidth": 0,
             "ticks": ""
            },
            "colorscale": [
             [
              0,
              "#0d0887"
             ],
             [
              0.1111111111111111,
              "#46039f"
             ],
             [
              0.2222222222222222,
              "#7201a8"
             ],
             [
              0.3333333333333333,
              "#9c179e"
             ],
             [
              0.4444444444444444,
              "#bd3786"
             ],
             [
              0.5555555555555556,
              "#d8576b"
             ],
             [
              0.6666666666666666,
              "#ed7953"
             ],
             [
              0.7777777777777778,
              "#fb9f3a"
             ],
             [
              0.8888888888888888,
              "#fdca26"
             ],
             [
              1,
              "#f0f921"
             ]
            ],
            "type": "contour"
           }
          ],
          "contourcarpet": [
           {
            "colorbar": {
             "outlinewidth": 0,
             "ticks": ""
            },
            "type": "contourcarpet"
           }
          ],
          "heatmap": [
           {
            "colorbar": {
             "outlinewidth": 0,
             "ticks": ""
            },
            "colorscale": [
             [
              0,
              "#0d0887"
             ],
             [
              0.1111111111111111,
              "#46039f"
             ],
             [
              0.2222222222222222,
              "#7201a8"
             ],
             [
              0.3333333333333333,
              "#9c179e"
             ],
             [
              0.4444444444444444,
              "#bd3786"
             ],
             [
              0.5555555555555556,
              "#d8576b"
             ],
             [
              0.6666666666666666,
              "#ed7953"
             ],
             [
              0.7777777777777778,
              "#fb9f3a"
             ],
             [
              0.8888888888888888,
              "#fdca26"
             ],
             [
              1,
              "#f0f921"
             ]
            ],
            "type": "heatmap"
           }
          ],
          "heatmapgl": [
           {
            "colorbar": {
             "outlinewidth": 0,
             "ticks": ""
            },
            "colorscale": [
             [
              0,
              "#0d0887"
             ],
             [
              0.1111111111111111,
              "#46039f"
             ],
             [
              0.2222222222222222,
              "#7201a8"
             ],
             [
              0.3333333333333333,
              "#9c179e"
             ],
             [
              0.4444444444444444,
              "#bd3786"
             ],
             [
              0.5555555555555556,
              "#d8576b"
             ],
             [
              0.6666666666666666,
              "#ed7953"
             ],
             [
              0.7777777777777778,
              "#fb9f3a"
             ],
             [
              0.8888888888888888,
              "#fdca26"
             ],
             [
              1,
              "#f0f921"
             ]
            ],
            "type": "heatmapgl"
           }
          ],
          "histogram": [
           {
            "marker": {
             "pattern": {
              "fillmode": "overlay",
              "size": 10,
              "solidity": 0.2
             }
            },
            "type": "histogram"
           }
          ],
          "histogram2d": [
           {
            "colorbar": {
             "outlinewidth": 0,
             "ticks": ""
            },
            "colorscale": [
             [
              0,
              "#0d0887"
             ],
             [
              0.1111111111111111,
              "#46039f"
             ],
             [
              0.2222222222222222,
              "#7201a8"
             ],
             [
              0.3333333333333333,
              "#9c179e"
             ],
             [
              0.4444444444444444,
              "#bd3786"
             ],
             [
              0.5555555555555556,
              "#d8576b"
             ],
             [
              0.6666666666666666,
              "#ed7953"
             ],
             [
              0.7777777777777778,
              "#fb9f3a"
             ],
             [
              0.8888888888888888,
              "#fdca26"
             ],
             [
              1,
              "#f0f921"
             ]
            ],
            "type": "histogram2d"
           }
          ],
          "histogram2dcontour": [
           {
            "colorbar": {
             "outlinewidth": 0,
             "ticks": ""
            },
            "colorscale": [
             [
              0,
              "#0d0887"
             ],
             [
              0.1111111111111111,
              "#46039f"
             ],
             [
              0.2222222222222222,
              "#7201a8"
             ],
             [
              0.3333333333333333,
              "#9c179e"
             ],
             [
              0.4444444444444444,
              "#bd3786"
             ],
             [
              0.5555555555555556,
              "#d8576b"
             ],
             [
              0.6666666666666666,
              "#ed7953"
             ],
             [
              0.7777777777777778,
              "#fb9f3a"
             ],
             [
              0.8888888888888888,
              "#fdca26"
             ],
             [
              1,
              "#f0f921"
             ]
            ],
            "type": "histogram2dcontour"
           }
          ],
          "mesh3d": [
           {
            "colorbar": {
             "outlinewidth": 0,
             "ticks": ""
            },
            "type": "mesh3d"
           }
          ],
          "parcoords": [
           {
            "line": {
             "colorbar": {
              "outlinewidth": 0,
              "ticks": ""
             }
            },
            "type": "parcoords"
           }
          ],
          "pie": [
           {
            "automargin": true,
            "type": "pie"
           }
          ],
          "scatter": [
           {
            "fillpattern": {
             "fillmode": "overlay",
             "size": 10,
             "solidity": 0.2
            },
            "type": "scatter"
           }
          ],
          "scatter3d": [
           {
            "line": {
             "colorbar": {
              "outlinewidth": 0,
              "ticks": ""
             }
            },
            "marker": {
             "colorbar": {
              "outlinewidth": 0,
              "ticks": ""
             }
            },
            "type": "scatter3d"
           }
          ],
          "scattercarpet": [
           {
            "marker": {
             "colorbar": {
              "outlinewidth": 0,
              "ticks": ""
             }
            },
            "type": "scattercarpet"
           }
          ],
          "scattergeo": [
           {
            "marker": {
             "colorbar": {
              "outlinewidth": 0,
              "ticks": ""
             }
            },
            "type": "scattergeo"
           }
          ],
          "scattergl": [
           {
            "marker": {
             "colorbar": {
              "outlinewidth": 0,
              "ticks": ""
             }
            },
            "type": "scattergl"
           }
          ],
          "scattermapbox": [
           {
            "marker": {
             "colorbar": {
              "outlinewidth": 0,
              "ticks": ""
             }
            },
            "type": "scattermapbox"
           }
          ],
          "scatterpolar": [
           {
            "marker": {
             "colorbar": {
              "outlinewidth": 0,
              "ticks": ""
             }
            },
            "type": "scatterpolar"
           }
          ],
          "scatterpolargl": [
           {
            "marker": {
             "colorbar": {
              "outlinewidth": 0,
              "ticks": ""
             }
            },
            "type": "scatterpolargl"
           }
          ],
          "scatterternary": [
           {
            "marker": {
             "colorbar": {
              "outlinewidth": 0,
              "ticks": ""
             }
            },
            "type": "scatterternary"
           }
          ],
          "surface": [
           {
            "colorbar": {
             "outlinewidth": 0,
             "ticks": ""
            },
            "colorscale": [
             [
              0,
              "#0d0887"
             ],
             [
              0.1111111111111111,
              "#46039f"
             ],
             [
              0.2222222222222222,
              "#7201a8"
             ],
             [
              0.3333333333333333,
              "#9c179e"
             ],
             [
              0.4444444444444444,
              "#bd3786"
             ],
             [
              0.5555555555555556,
              "#d8576b"
             ],
             [
              0.6666666666666666,
              "#ed7953"
             ],
             [
              0.7777777777777778,
              "#fb9f3a"
             ],
             [
              0.8888888888888888,
              "#fdca26"
             ],
             [
              1,
              "#f0f921"
             ]
            ],
            "type": "surface"
           }
          ],
          "table": [
           {
            "cells": {
             "fill": {
              "color": "#EBF0F8"
             },
             "line": {
              "color": "white"
             }
            },
            "header": {
             "fill": {
              "color": "#C8D4E3"
             },
             "line": {
              "color": "white"
             }
            },
            "type": "table"
           }
          ]
         },
         "layout": {
          "annotationdefaults": {
           "arrowcolor": "#2a3f5f",
           "arrowhead": 0,
           "arrowwidth": 1
          },
          "autotypenumbers": "strict",
          "coloraxis": {
           "colorbar": {
            "outlinewidth": 0,
            "ticks": ""
           }
          },
          "colorscale": {
           "diverging": [
            [
             0,
             "#8e0152"
            ],
            [
             0.1,
             "#c51b7d"
            ],
            [
             0.2,
             "#de77ae"
            ],
            [
             0.3,
             "#f1b6da"
            ],
            [
             0.4,
             "#fde0ef"
            ],
            [
             0.5,
             "#f7f7f7"
            ],
            [
             0.6,
             "#e6f5d0"
            ],
            [
             0.7,
             "#b8e186"
            ],
            [
             0.8,
             "#7fbc41"
            ],
            [
             0.9,
             "#4d9221"
            ],
            [
             1,
             "#276419"
            ]
           ],
           "sequential": [
            [
             0,
             "#0d0887"
            ],
            [
             0.1111111111111111,
             "#46039f"
            ],
            [
             0.2222222222222222,
             "#7201a8"
            ],
            [
             0.3333333333333333,
             "#9c179e"
            ],
            [
             0.4444444444444444,
             "#bd3786"
            ],
            [
             0.5555555555555556,
             "#d8576b"
            ],
            [
             0.6666666666666666,
             "#ed7953"
            ],
            [
             0.7777777777777778,
             "#fb9f3a"
            ],
            [
             0.8888888888888888,
             "#fdca26"
            ],
            [
             1,
             "#f0f921"
            ]
           ],
           "sequentialminus": [
            [
             0,
             "#0d0887"
            ],
            [
             0.1111111111111111,
             "#46039f"
            ],
            [
             0.2222222222222222,
             "#7201a8"
            ],
            [
             0.3333333333333333,
             "#9c179e"
            ],
            [
             0.4444444444444444,
             "#bd3786"
            ],
            [
             0.5555555555555556,
             "#d8576b"
            ],
            [
             0.6666666666666666,
             "#ed7953"
            ],
            [
             0.7777777777777778,
             "#fb9f3a"
            ],
            [
             0.8888888888888888,
             "#fdca26"
            ],
            [
             1,
             "#f0f921"
            ]
           ]
          },
          "colorway": [
           "#636efa",
           "#EF553B",
           "#00cc96",
           "#ab63fa",
           "#FFA15A",
           "#19d3f3",
           "#FF6692",
           "#B6E880",
           "#FF97FF",
           "#FECB52"
          ],
          "font": {
           "color": "#2a3f5f"
          },
          "geo": {
           "bgcolor": "white",
           "lakecolor": "white",
           "landcolor": "#E5ECF6",
           "showlakes": true,
           "showland": true,
           "subunitcolor": "white"
          },
          "hoverlabel": {
           "align": "left"
          },
          "hovermode": "closest",
          "mapbox": {
           "style": "light"
          },
          "paper_bgcolor": "white",
          "plot_bgcolor": "#E5ECF6",
          "polar": {
           "angularaxis": {
            "gridcolor": "white",
            "linecolor": "white",
            "ticks": ""
           },
           "bgcolor": "#E5ECF6",
           "radialaxis": {
            "gridcolor": "white",
            "linecolor": "white",
            "ticks": ""
           }
          },
          "scene": {
           "xaxis": {
            "backgroundcolor": "#E5ECF6",
            "gridcolor": "white",
            "gridwidth": 2,
            "linecolor": "white",
            "showbackground": true,
            "ticks": "",
            "zerolinecolor": "white"
           },
           "yaxis": {
            "backgroundcolor": "#E5ECF6",
            "gridcolor": "white",
            "gridwidth": 2,
            "linecolor": "white",
            "showbackground": true,
            "ticks": "",
            "zerolinecolor": "white"
           },
           "zaxis": {
            "backgroundcolor": "#E5ECF6",
            "gridcolor": "white",
            "gridwidth": 2,
            "linecolor": "white",
            "showbackground": true,
            "ticks": "",
            "zerolinecolor": "white"
           }
          },
          "shapedefaults": {
           "line": {
            "color": "#2a3f5f"
           }
          },
          "ternary": {
           "aaxis": {
            "gridcolor": "white",
            "linecolor": "white",
            "ticks": ""
           },
           "baxis": {
            "gridcolor": "white",
            "linecolor": "white",
            "ticks": ""
           },
           "bgcolor": "#E5ECF6",
           "caxis": {
            "gridcolor": "white",
            "linecolor": "white",
            "ticks": ""
           }
          },
          "title": {
           "x": 0.05
          },
          "xaxis": {
           "automargin": true,
           "gridcolor": "white",
           "linecolor": "white",
           "ticks": "",
           "title": {
            "standoff": 15
           },
           "zerolinecolor": "white",
           "zerolinewidth": 2
          },
          "yaxis": {
           "automargin": true,
           "gridcolor": "white",
           "linecolor": "white",
           "ticks": "",
           "title": {
            "standoff": 15
           },
           "zerolinecolor": "white",
           "zerolinewidth": 2
          }
         }
        },
        "title": {
         "text": "2000"
        }
       }
      }
     },
     "metadata": {},
     "output_type": "display_data"
    },
    {
     "name": "stdout",
     "output_type": "stream",
     "text": [
      "2004\n"
     ]
    },
    {
     "data": {
      "application/vnd.plotly.v1+json": {
       "config": {
        "plotlyServerURL": "https://plot.ly"
       },
       "data": [
        {
         "coloraxis": "coloraxis",
         "customdata": [
          [
           2004,
           "ALABAMA",
           "Kerry",
           "Bush Junior",
           -0.256162874353236
          ],
          [
           2004,
           "ALASKA",
           "Kerry",
           "Bush Junior",
           -0.2554846800043506
          ],
          [
           2004,
           "ARIZONA",
           "Kerry",
           "Bush Junior",
           -0.10472601157218203
          ],
          [
           2004,
           "ARKANSAS",
           "Kerry",
           "Bush Junior",
           -0.09758328633246288
          ],
          [
           2004,
           "CALIFORNIA",
           "Kerry",
           "Bush Junior",
           0.09947861557432591
          ],
          [
           2004,
           "COLORADO",
           "Kerry",
           "Bush Junior",
           -0.046732531003038036
          ],
          [
           2004,
           "CONNECTICUT",
           "Kerry",
           "Bush Junior",
           0.10366431061162212
          ],
          [
           2004,
           "DELAWARE",
           "Kerry",
           "Bush Junior",
           0.07594019030357957
          ],
          [
           2004,
           "DISTRICT OF COLUMBIA",
           "Kerry",
           "Bush Junior",
           0.7984410288857838
          ],
          [
           2004,
           "FLORIDA",
           "Kerry",
           "Bush Junior",
           -0.05006406204622721
          ],
          [
           2004,
           "GEORGIA",
           "Kerry",
           "Bush Junior",
           -0.16599810713609692
          ],
          [
           2004,
           "HAWAII",
           "Kerry",
           "Bush Junior",
           0.08744956446541247
          ],
          [
           2004,
           "IDAHO",
           "Kerry",
           "Bush Junior",
           -0.38126027781862903
          ],
          [
           2004,
           "ILLINOIS",
           "Kerry",
           "Bush Junior",
           0.10344533382679322
          ],
          [
           2004,
           "INDIANA",
           "Kerry",
           "Bush Junior",
           -0.20681790371320602
          ],
          [
           2004,
           "IOWA",
           "Kerry",
           "Bush Junior",
           -0.0066752582108529634
          ],
          [
           2004,
           "KANSAS",
           "Kerry",
           "Bush Junior",
           -0.25380886309982864
          ],
          [
           2004,
           "KENTUCKY",
           "Kerry",
           "Bush Junior",
           -0.19862440850790858
          ],
          [
           2004,
           "LOUISIANA",
           "Kerry",
           "Bush Junior",
           -0.1450615663787771
          ],
          [
           2004,
           "MAINE",
           "Kerry",
           "Bush Junior",
           0.08996398254746524
          ],
          [
           2004,
           "MARYLAND",
           "Kerry",
           "Bush Junior",
           0.12993543429808596
          ],
          [
           2004,
           "MASSACHUSETTS",
           "Kerry",
           "Bush Junior",
           0.2502825833360376
          ],
          [
           2004,
           "MICHIGAN",
           "Kerry",
           "Bush Junior",
           0.034186481712463024
          ],
          [
           2004,
           "MINNESOTA",
           "Kerry",
           "Bush Junior",
           0.03476150894485086
          ],
          [
           2004,
           "MISSISSIPPI",
           "Kerry",
           "Bush Junior",
           -0.18853261556170076
          ],
          [
           2004,
           "MISSOURI",
           "Kerry",
           "Bush Junior",
           -0.0719574542243363
          ],
          [
           2004,
           "MONTANA",
           "Kerry",
           "Bush Junior",
           -0.20503114773751535
          ],
          [
           2004,
           "NEBRASKA",
           "Kerry",
           "Bush Junior",
           -0.3321648037872693
          ],
          [
           2004,
           "NEVADA",
           "Kerry",
           "Bush Junior",
           -0.025916510263540804
          ],
          [
           2004,
           "NEW HAMPSHIRE",
           "Kerry",
           "Bush Junior",
           0.013672678379505976
          ],
          [
           2004,
           "NEW JERSEY",
           "Kerry",
           "Bush Junior",
           0.06684597325740216
          ],
          [
           2004,
           "NEW MEXICO",
           "Kerry",
           "Bush Junior",
           -0.007917451183651003
          ],
          [
           2004,
           "NEW YORK",
           "Kerry",
           "Bush Junior",
           0.18444051273141965
          ],
          [
           2004,
           "NORTH CAROLINA",
           "Kerry",
           "Bush Junior",
           -0.12434051117292821
          ],
          [
           2004,
           "NORTH DAKOTA",
           "Kerry",
           "Bush Junior",
           -0.27362522496028235
          ],
          [
           2004,
           "OHIO",
           "Kerry",
           "Bush Junior",
           -0.021073390923759705
          ],
          [
           2004,
           "OKLAHOMA",
           "Kerry",
           "Bush Junior",
           -0.31140803329512123
          ],
          [
           2004,
           "OREGON",
           "Kerry",
           "Bush Junior",
           0.0415574629977864
          ],
          [
           2004,
           "PENNSYLVANIA",
           "Kerry",
           "Bush Junior",
           0.025001429910964212
          ],
          [
           2004,
           "RHODE ISLAND",
           "Kerry",
           "Bush Junior",
           0.20751989092589457
          ],
          [
           2004,
           "SOUTH CAROLINA",
           "Kerry",
           "Bush Junior",
           -0.1708011374173209
          ],
          [
           2004,
           "SOUTH DAKOTA",
           "Kerry",
           "Bush Junior",
           -0.21467485800394115
          ],
          [
           2004,
           "TENNESSEE",
           "Kerry",
           "Bush Junior",
           -0.1427379838256707
          ],
          [
           2004,
           "TEXAS",
           "Kerry",
           "Bush Junior",
           -0.22861562306320188
          ],
          [
           2004,
           "UTAH",
           "Kerry",
           "Bush Junior",
           -0.45540306344601034
          ],
          [
           2004,
           "VERMONT",
           "Kerry",
           "Bush Junior",
           0.20136147213176697
          ],
          [
           2004,
           "VIRGINIA",
           "Kerry",
           "Bush Junior",
           -0.08206038965204837
          ],
          [
           2004,
           "WASHINGTON",
           "Kerry",
           "Bush Junior",
           0.07180866319422585
          ],
          [
           2004,
           "WEST VIRGINIA",
           "Kerry",
           "Bush Junior",
           -0.1286557677244533
          ],
          [
           2004,
           "WISCONSIN",
           "Kerry",
           "Bush Junior",
           0.0037984562598619154
          ],
          [
           2004,
           "WYOMING",
           "Kerry",
           "Bush Junior",
           -0.3971647782958324
          ]
         ],
         "geo": "geo",
         "geojson": "https://raw.githubusercontent.com/plotly/datasets/master/geojson-counties-fips.json",
         "hovertemplate": "%{customdata[0]}<br>%{customdata[1]}<br>%{customdata[2]}(D) vs %{customdata[3]}(R)<br>Dem Margin:%{customdata[4]:.1%}%<br><extra></extra>",
         "locationmode": "USA-states",
         "locations": [
          "AL",
          "AK",
          "AZ",
          "AR",
          "CA",
          "CO",
          "CT",
          "DE",
          "DC",
          "FL",
          "GA",
          "HI",
          "ID",
          "IL",
          "IN",
          "IA",
          "KS",
          "KY",
          "LA",
          "ME",
          "MD",
          "MA",
          "MI",
          "MN",
          "MS",
          "MO",
          "MT",
          "NE",
          "NV",
          "NH",
          "NJ",
          "NM",
          "NY",
          "NC",
          "ND",
          "OH",
          "OK",
          "OR",
          "PA",
          "RI",
          "SC",
          "SD",
          "TN",
          "TX",
          "UT",
          "VT",
          "VA",
          "WA",
          "WV",
          "WI",
          "WY"
         ],
         "name": "",
         "type": "choropleth",
         "z": [
          -0.256162874353236,
          -0.2554846800043506,
          -0.10472601157218203,
          -0.09758328633246288,
          0.09947861557432591,
          -0.046732531003038036,
          0.10366431061162212,
          0.07594019030357957,
          0.7984410288857838,
          -0.05006406204622721,
          -0.16599810713609692,
          0.08744956446541247,
          -0.38126027781862903,
          0.10344533382679322,
          -0.20681790371320602,
          -0.0066752582108529634,
          -0.25380886309982864,
          -0.19862440850790858,
          -0.1450615663787771,
          0.08996398254746524,
          0.12993543429808596,
          0.2502825833360376,
          0.034186481712463024,
          0.03476150894485086,
          -0.18853261556170076,
          -0.0719574542243363,
          -0.20503114773751535,
          -0.3321648037872693,
          -0.025916510263540804,
          0.013672678379505976,
          0.06684597325740216,
          -0.007917451183651003,
          0.18444051273141965,
          -0.12434051117292821,
          -0.27362522496028235,
          -0.021073390923759705,
          -0.31140803329512123,
          0.0415574629977864,
          0.025001429910964212,
          0.20751989092589457,
          -0.1708011374173209,
          -0.21467485800394115,
          -0.1427379838256707,
          -0.22861562306320188,
          -0.45540306344601034,
          0.20136147213176697,
          -0.08206038965204837,
          0.07180866319422585,
          -0.1286557677244533,
          0.0037984562598619154,
          -0.3971647782958324
         ]
        }
       ],
       "layout": {
        "coloraxis": {
         "cmax": 0.2,
         "cmid": 0,
         "cmin": -0.2,
         "colorbar": {
          "title": {
           "text": "DIFF_PCT"
          }
         },
         "colorscale": [
          [
           0,
           "rgb(103,0,31)"
          ],
          [
           0.1,
           "rgb(178,24,43)"
          ],
          [
           0.2,
           "rgb(214,96,77)"
          ],
          [
           0.3,
           "rgb(244,165,130)"
          ],
          [
           0.4,
           "rgb(253,219,199)"
          ],
          [
           0.5,
           "rgb(247,247,247)"
          ],
          [
           0.6,
           "rgb(209,229,240)"
          ],
          [
           0.7,
           "rgb(146,197,222)"
          ],
          [
           0.8,
           "rgb(67,147,195)"
          ],
          [
           0.9,
           "rgb(33,102,172)"
          ],
          [
           1,
           "rgb(5,48,97)"
          ]
         ]
        },
        "geo": {
         "center": {},
         "domain": {
          "x": [
           0,
           1
          ],
          "y": [
           0,
           1
          ]
         },
         "scope": "usa"
        },
        "legend": {
         "tracegroupgap": 0
        },
        "margin": {
         "b": 0,
         "l": 0,
         "r": 0,
         "t": 0
        },
        "template": {
         "data": {
          "bar": [
           {
            "error_x": {
             "color": "#2a3f5f"
            },
            "error_y": {
             "color": "#2a3f5f"
            },
            "marker": {
             "line": {
              "color": "#E5ECF6",
              "width": 0.5
             },
             "pattern": {
              "fillmode": "overlay",
              "size": 10,
              "solidity": 0.2
             }
            },
            "type": "bar"
           }
          ],
          "barpolar": [
           {
            "marker": {
             "line": {
              "color": "#E5ECF6",
              "width": 0.5
             },
             "pattern": {
              "fillmode": "overlay",
              "size": 10,
              "solidity": 0.2
             }
            },
            "type": "barpolar"
           }
          ],
          "carpet": [
           {
            "aaxis": {
             "endlinecolor": "#2a3f5f",
             "gridcolor": "white",
             "linecolor": "white",
             "minorgridcolor": "white",
             "startlinecolor": "#2a3f5f"
            },
            "baxis": {
             "endlinecolor": "#2a3f5f",
             "gridcolor": "white",
             "linecolor": "white",
             "minorgridcolor": "white",
             "startlinecolor": "#2a3f5f"
            },
            "type": "carpet"
           }
          ],
          "choropleth": [
           {
            "colorbar": {
             "outlinewidth": 0,
             "ticks": ""
            },
            "type": "choropleth"
           }
          ],
          "contour": [
           {
            "colorbar": {
             "outlinewidth": 0,
             "ticks": ""
            },
            "colorscale": [
             [
              0,
              "#0d0887"
             ],
             [
              0.1111111111111111,
              "#46039f"
             ],
             [
              0.2222222222222222,
              "#7201a8"
             ],
             [
              0.3333333333333333,
              "#9c179e"
             ],
             [
              0.4444444444444444,
              "#bd3786"
             ],
             [
              0.5555555555555556,
              "#d8576b"
             ],
             [
              0.6666666666666666,
              "#ed7953"
             ],
             [
              0.7777777777777778,
              "#fb9f3a"
             ],
             [
              0.8888888888888888,
              "#fdca26"
             ],
             [
              1,
              "#f0f921"
             ]
            ],
            "type": "contour"
           }
          ],
          "contourcarpet": [
           {
            "colorbar": {
             "outlinewidth": 0,
             "ticks": ""
            },
            "type": "contourcarpet"
           }
          ],
          "heatmap": [
           {
            "colorbar": {
             "outlinewidth": 0,
             "ticks": ""
            },
            "colorscale": [
             [
              0,
              "#0d0887"
             ],
             [
              0.1111111111111111,
              "#46039f"
             ],
             [
              0.2222222222222222,
              "#7201a8"
             ],
             [
              0.3333333333333333,
              "#9c179e"
             ],
             [
              0.4444444444444444,
              "#bd3786"
             ],
             [
              0.5555555555555556,
              "#d8576b"
             ],
             [
              0.6666666666666666,
              "#ed7953"
             ],
             [
              0.7777777777777778,
              "#fb9f3a"
             ],
             [
              0.8888888888888888,
              "#fdca26"
             ],
             [
              1,
              "#f0f921"
             ]
            ],
            "type": "heatmap"
           }
          ],
          "heatmapgl": [
           {
            "colorbar": {
             "outlinewidth": 0,
             "ticks": ""
            },
            "colorscale": [
             [
              0,
              "#0d0887"
             ],
             [
              0.1111111111111111,
              "#46039f"
             ],
             [
              0.2222222222222222,
              "#7201a8"
             ],
             [
              0.3333333333333333,
              "#9c179e"
             ],
             [
              0.4444444444444444,
              "#bd3786"
             ],
             [
              0.5555555555555556,
              "#d8576b"
             ],
             [
              0.6666666666666666,
              "#ed7953"
             ],
             [
              0.7777777777777778,
              "#fb9f3a"
             ],
             [
              0.8888888888888888,
              "#fdca26"
             ],
             [
              1,
              "#f0f921"
             ]
            ],
            "type": "heatmapgl"
           }
          ],
          "histogram": [
           {
            "marker": {
             "pattern": {
              "fillmode": "overlay",
              "size": 10,
              "solidity": 0.2
             }
            },
            "type": "histogram"
           }
          ],
          "histogram2d": [
           {
            "colorbar": {
             "outlinewidth": 0,
             "ticks": ""
            },
            "colorscale": [
             [
              0,
              "#0d0887"
             ],
             [
              0.1111111111111111,
              "#46039f"
             ],
             [
              0.2222222222222222,
              "#7201a8"
             ],
             [
              0.3333333333333333,
              "#9c179e"
             ],
             [
              0.4444444444444444,
              "#bd3786"
             ],
             [
              0.5555555555555556,
              "#d8576b"
             ],
             [
              0.6666666666666666,
              "#ed7953"
             ],
             [
              0.7777777777777778,
              "#fb9f3a"
             ],
             [
              0.8888888888888888,
              "#fdca26"
             ],
             [
              1,
              "#f0f921"
             ]
            ],
            "type": "histogram2d"
           }
          ],
          "histogram2dcontour": [
           {
            "colorbar": {
             "outlinewidth": 0,
             "ticks": ""
            },
            "colorscale": [
             [
              0,
              "#0d0887"
             ],
             [
              0.1111111111111111,
              "#46039f"
             ],
             [
              0.2222222222222222,
              "#7201a8"
             ],
             [
              0.3333333333333333,
              "#9c179e"
             ],
             [
              0.4444444444444444,
              "#bd3786"
             ],
             [
              0.5555555555555556,
              "#d8576b"
             ],
             [
              0.6666666666666666,
              "#ed7953"
             ],
             [
              0.7777777777777778,
              "#fb9f3a"
             ],
             [
              0.8888888888888888,
              "#fdca26"
             ],
             [
              1,
              "#f0f921"
             ]
            ],
            "type": "histogram2dcontour"
           }
          ],
          "mesh3d": [
           {
            "colorbar": {
             "outlinewidth": 0,
             "ticks": ""
            },
            "type": "mesh3d"
           }
          ],
          "parcoords": [
           {
            "line": {
             "colorbar": {
              "outlinewidth": 0,
              "ticks": ""
             }
            },
            "type": "parcoords"
           }
          ],
          "pie": [
           {
            "automargin": true,
            "type": "pie"
           }
          ],
          "scatter": [
           {
            "fillpattern": {
             "fillmode": "overlay",
             "size": 10,
             "solidity": 0.2
            },
            "type": "scatter"
           }
          ],
          "scatter3d": [
           {
            "line": {
             "colorbar": {
              "outlinewidth": 0,
              "ticks": ""
             }
            },
            "marker": {
             "colorbar": {
              "outlinewidth": 0,
              "ticks": ""
             }
            },
            "type": "scatter3d"
           }
          ],
          "scattercarpet": [
           {
            "marker": {
             "colorbar": {
              "outlinewidth": 0,
              "ticks": ""
             }
            },
            "type": "scattercarpet"
           }
          ],
          "scattergeo": [
           {
            "marker": {
             "colorbar": {
              "outlinewidth": 0,
              "ticks": ""
             }
            },
            "type": "scattergeo"
           }
          ],
          "scattergl": [
           {
            "marker": {
             "colorbar": {
              "outlinewidth": 0,
              "ticks": ""
             }
            },
            "type": "scattergl"
           }
          ],
          "scattermapbox": [
           {
            "marker": {
             "colorbar": {
              "outlinewidth": 0,
              "ticks": ""
             }
            },
            "type": "scattermapbox"
           }
          ],
          "scatterpolar": [
           {
            "marker": {
             "colorbar": {
              "outlinewidth": 0,
              "ticks": ""
             }
            },
            "type": "scatterpolar"
           }
          ],
          "scatterpolargl": [
           {
            "marker": {
             "colorbar": {
              "outlinewidth": 0,
              "ticks": ""
             }
            },
            "type": "scatterpolargl"
           }
          ],
          "scatterternary": [
           {
            "marker": {
             "colorbar": {
              "outlinewidth": 0,
              "ticks": ""
             }
            },
            "type": "scatterternary"
           }
          ],
          "surface": [
           {
            "colorbar": {
             "outlinewidth": 0,
             "ticks": ""
            },
            "colorscale": [
             [
              0,
              "#0d0887"
             ],
             [
              0.1111111111111111,
              "#46039f"
             ],
             [
              0.2222222222222222,
              "#7201a8"
             ],
             [
              0.3333333333333333,
              "#9c179e"
             ],
             [
              0.4444444444444444,
              "#bd3786"
             ],
             [
              0.5555555555555556,
              "#d8576b"
             ],
             [
              0.6666666666666666,
              "#ed7953"
             ],
             [
              0.7777777777777778,
              "#fb9f3a"
             ],
             [
              0.8888888888888888,
              "#fdca26"
             ],
             [
              1,
              "#f0f921"
             ]
            ],
            "type": "surface"
           }
          ],
          "table": [
           {
            "cells": {
             "fill": {
              "color": "#EBF0F8"
             },
             "line": {
              "color": "white"
             }
            },
            "header": {
             "fill": {
              "color": "#C8D4E3"
             },
             "line": {
              "color": "white"
             }
            },
            "type": "table"
           }
          ]
         },
         "layout": {
          "annotationdefaults": {
           "arrowcolor": "#2a3f5f",
           "arrowhead": 0,
           "arrowwidth": 1
          },
          "autotypenumbers": "strict",
          "coloraxis": {
           "colorbar": {
            "outlinewidth": 0,
            "ticks": ""
           }
          },
          "colorscale": {
           "diverging": [
            [
             0,
             "#8e0152"
            ],
            [
             0.1,
             "#c51b7d"
            ],
            [
             0.2,
             "#de77ae"
            ],
            [
             0.3,
             "#f1b6da"
            ],
            [
             0.4,
             "#fde0ef"
            ],
            [
             0.5,
             "#f7f7f7"
            ],
            [
             0.6,
             "#e6f5d0"
            ],
            [
             0.7,
             "#b8e186"
            ],
            [
             0.8,
             "#7fbc41"
            ],
            [
             0.9,
             "#4d9221"
            ],
            [
             1,
             "#276419"
            ]
           ],
           "sequential": [
            [
             0,
             "#0d0887"
            ],
            [
             0.1111111111111111,
             "#46039f"
            ],
            [
             0.2222222222222222,
             "#7201a8"
            ],
            [
             0.3333333333333333,
             "#9c179e"
            ],
            [
             0.4444444444444444,
             "#bd3786"
            ],
            [
             0.5555555555555556,
             "#d8576b"
            ],
            [
             0.6666666666666666,
             "#ed7953"
            ],
            [
             0.7777777777777778,
             "#fb9f3a"
            ],
            [
             0.8888888888888888,
             "#fdca26"
            ],
            [
             1,
             "#f0f921"
            ]
           ],
           "sequentialminus": [
            [
             0,
             "#0d0887"
            ],
            [
             0.1111111111111111,
             "#46039f"
            ],
            [
             0.2222222222222222,
             "#7201a8"
            ],
            [
             0.3333333333333333,
             "#9c179e"
            ],
            [
             0.4444444444444444,
             "#bd3786"
            ],
            [
             0.5555555555555556,
             "#d8576b"
            ],
            [
             0.6666666666666666,
             "#ed7953"
            ],
            [
             0.7777777777777778,
             "#fb9f3a"
            ],
            [
             0.8888888888888888,
             "#fdca26"
            ],
            [
             1,
             "#f0f921"
            ]
           ]
          },
          "colorway": [
           "#636efa",
           "#EF553B",
           "#00cc96",
           "#ab63fa",
           "#FFA15A",
           "#19d3f3",
           "#FF6692",
           "#B6E880",
           "#FF97FF",
           "#FECB52"
          ],
          "font": {
           "color": "#2a3f5f"
          },
          "geo": {
           "bgcolor": "white",
           "lakecolor": "white",
           "landcolor": "#E5ECF6",
           "showlakes": true,
           "showland": true,
           "subunitcolor": "white"
          },
          "hoverlabel": {
           "align": "left"
          },
          "hovermode": "closest",
          "mapbox": {
           "style": "light"
          },
          "paper_bgcolor": "white",
          "plot_bgcolor": "#E5ECF6",
          "polar": {
           "angularaxis": {
            "gridcolor": "white",
            "linecolor": "white",
            "ticks": ""
           },
           "bgcolor": "#E5ECF6",
           "radialaxis": {
            "gridcolor": "white",
            "linecolor": "white",
            "ticks": ""
           }
          },
          "scene": {
           "xaxis": {
            "backgroundcolor": "#E5ECF6",
            "gridcolor": "white",
            "gridwidth": 2,
            "linecolor": "white",
            "showbackground": true,
            "ticks": "",
            "zerolinecolor": "white"
           },
           "yaxis": {
            "backgroundcolor": "#E5ECF6",
            "gridcolor": "white",
            "gridwidth": 2,
            "linecolor": "white",
            "showbackground": true,
            "ticks": "",
            "zerolinecolor": "white"
           },
           "zaxis": {
            "backgroundcolor": "#E5ECF6",
            "gridcolor": "white",
            "gridwidth": 2,
            "linecolor": "white",
            "showbackground": true,
            "ticks": "",
            "zerolinecolor": "white"
           }
          },
          "shapedefaults": {
           "line": {
            "color": "#2a3f5f"
           }
          },
          "ternary": {
           "aaxis": {
            "gridcolor": "white",
            "linecolor": "white",
            "ticks": ""
           },
           "baxis": {
            "gridcolor": "white",
            "linecolor": "white",
            "ticks": ""
           },
           "bgcolor": "#E5ECF6",
           "caxis": {
            "gridcolor": "white",
            "linecolor": "white",
            "ticks": ""
           }
          },
          "title": {
           "x": 0.05
          },
          "xaxis": {
           "automargin": true,
           "gridcolor": "white",
           "linecolor": "white",
           "ticks": "",
           "title": {
            "standoff": 15
           },
           "zerolinecolor": "white",
           "zerolinewidth": 2
          },
          "yaxis": {
           "automargin": true,
           "gridcolor": "white",
           "linecolor": "white",
           "ticks": "",
           "title": {
            "standoff": 15
           },
           "zerolinecolor": "white",
           "zerolinewidth": 2
          }
         }
        },
        "title": {
         "text": "2004"
        }
       }
      }
     },
     "metadata": {},
     "output_type": "display_data"
    },
    {
     "name": "stdout",
     "output_type": "stream",
     "text": [
      "2008\n"
     ]
    },
    {
     "data": {
      "application/vnd.plotly.v1+json": {
       "config": {
        "plotlyServerURL": "https://plot.ly"
       },
       "data": [
        {
         "coloraxis": "coloraxis",
         "customdata": [
          [
           2008,
           "ALABAMA",
           "Obama",
           "McCain",
           -0.2157647873459569
          ],
          [
           2008,
           "ALASKA",
           "Obama",
           "McCain",
           -0.21535145939416983
          ],
          [
           2008,
           "ARIZONA",
           "Obama",
           "McCain",
           -0.08519996947862962
          ],
          [
           2008,
           "ARKANSAS",
           "Obama",
           "McCain",
           -0.19851244734805362
          ],
          [
           2008,
           "CALIFORNIA",
           "Obama",
           "McCain",
           0.24057779514669775
          ],
          [
           2008,
           "COLORADO",
           "Obama",
           "McCain",
           0.08952714731354428
          ],
          [
           2008,
           "CONNECTICUT",
           "Obama",
           "McCain",
           0.22367366370494873
          ],
          [
           2008,
           "DELAWARE",
           "Obama",
           "McCain",
           0.2499563543252864
          ],
          [
           2008,
           "DISTRICT OF COLUMBIA",
           "Obama",
           "McCain",
           0.8592455229017539
          ],
          [
           2008,
           "FLORIDA",
           "Obama",
           "McCain",
           0.028179861046886856
          ],
          [
           2008,
           "GEORGIA",
           "Obama",
           "McCain",
           -0.052143388968644566
          ],
          [
           2008,
           "HAWAII",
           "Obama",
           "McCain",
           0.4501670818130788
          ],
          [
           2008,
           "IDAHO",
           "Obama",
           "McCain",
           -0.2542610384020076
          ],
          [
           2008,
           "ILLINOIS",
           "Obama",
           "McCain",
           0.2513719197786603
          ],
          [
           2008,
           "INDIANA",
           "Obama",
           "McCain",
           0.010320044608357393
          ],
          [
           2008,
           "IOWA",
           "Obama",
           "McCain",
           0.0953476071856319
          ],
          [
           2008,
           "KANSAS",
           "Obama",
           "McCain",
           -0.14960287149478269
          ],
          [
           2008,
           "KENTUCKY",
           "Obama",
           "McCain",
           -0.16230907358947128
          ],
          [
           2008,
           "LOUISIANA",
           "Obama",
           "McCain",
           -0.18629807508411272
          ],
          [
           2008,
           "MAINE",
           "Obama",
           "McCain",
           0.17321718960067733
          ],
          [
           2008,
           "MARYLAND",
           "Obama",
           "McCain",
           0.2544482511753323
          ],
          [
           2008,
           "MASSACHUSETTS",
           "Obama",
           "McCain",
           0.2562823981347053
          ],
          [
           2008,
           "MICHIGAN",
           "Obama",
           "McCain",
           0.1647354164550675
          ],
          [
           2008,
           "MINNESOTA",
           "Obama",
           "McCain",
           0.1023736165414077
          ],
          [
           2008,
           "MISSISSIPPI",
           "Obama",
           "McCain",
           -0.1317463455477899
          ],
          [
           2008,
           "MISSOURI",
           "Obama",
           "McCain",
           -0.001334265461736872
          ],
          [
           2008,
           "MONTANA",
           "Obama",
           "McCain",
           -0.0226398617450404
          ],
          [
           2008,
           "NEBRASKA",
           "Obama",
           "McCain",
           -0.1493358759286692
          ],
          [
           2008,
           "NEVADA",
           "Obama",
           "McCain",
           0.12492560815334647
          ],
          [
           2008,
           "NEW HAMPSHIRE",
           "Obama",
           "McCain",
           0.09605468585172378
          ],
          [
           2008,
           "NEW JERSEY",
           "Obama",
           "McCain",
           0.15568203292611082
          ],
          [
           2008,
           "NEW MEXICO",
           "Obama",
           "McCain",
           0.15128445428460613
          ],
          [
           2008,
           "NEW YORK",
           "Obama",
           "McCain",
           0.2883972442958247
          ],
          [
           2008,
           "NORTH CAROLINA",
           "Obama",
           "McCain",
           0.003288677803988116
          ],
          [
           2008,
           "NORTH DAKOTA",
           "Obama",
           "McCain",
           -0.0862956026290107
          ],
          [
           2008,
           "OHIO",
           "Obama",
           "McCain",
           0.04593691697250518
          ],
          [
           2008,
           "OKLAHOMA",
           "Obama",
           "McCain",
           -0.31290162245387004
          ],
          [
           2008,
           "OREGON",
           "Obama",
           "McCain",
           0.16347824564628444
          ],
          [
           2008,
           "PENNSYLVANIA",
           "Obama",
           "McCain",
           0.10318475532122945
          ],
          [
           2008,
           "RHODE ISLAND",
           "Obama",
           "McCain",
           0.27806158137720816
          ],
          [
           2008,
           "SOUTH CAROLINA",
           "Obama",
           "McCain",
           -0.08977083961271626
          ],
          [
           2008,
           "SOUTH DAKOTA",
           "Obama",
           "McCain",
           -0.08411545258197528
          ],
          [
           2008,
           "TENNESSEE",
           "Obama",
           "McCain",
           -0.15068416220181252
          ],
          [
           2008,
           "TEXAS",
           "Obama",
           "McCain",
           -0.11769239006436782
          ],
          [
           2008,
           "UTAH",
           "Obama",
           "McCain",
           -0.28178124048426556
          ],
          [
           2008,
           "VERMONT",
           "Obama",
           "McCain",
           0.37006454471059486
          ],
          [
           2008,
           "VIRGINIA",
           "Obama",
           "McCain",
           0.06298969182920344
          ],
          [
           2008,
           "WASHINGTON",
           "Obama",
           "McCain",
           0.1717658727153346
          ],
          [
           2008,
           "WEST VIRGINIA",
           "Obama",
           "McCain",
           -0.1312059272465803
          ],
          [
           2008,
           "WISCONSIN",
           "Obama",
           "McCain",
           0.13904124029594256
          ],
          [
           2008,
           "WYOMING",
           "Obama",
           "McCain",
           -0.3220428082729185
          ]
         ],
         "geo": "geo",
         "geojson": "https://raw.githubusercontent.com/plotly/datasets/master/geojson-counties-fips.json",
         "hovertemplate": "%{customdata[0]}<br>%{customdata[1]}<br>%{customdata[2]}(D) vs %{customdata[3]}(R)<br>Dem Margin:%{customdata[4]:.1%}%<br><extra></extra>",
         "locationmode": "USA-states",
         "locations": [
          "AL",
          "AK",
          "AZ",
          "AR",
          "CA",
          "CO",
          "CT",
          "DE",
          "DC",
          "FL",
          "GA",
          "HI",
          "ID",
          "IL",
          "IN",
          "IA",
          "KS",
          "KY",
          "LA",
          "ME",
          "MD",
          "MA",
          "MI",
          "MN",
          "MS",
          "MO",
          "MT",
          "NE",
          "NV",
          "NH",
          "NJ",
          "NM",
          "NY",
          "NC",
          "ND",
          "OH",
          "OK",
          "OR",
          "PA",
          "RI",
          "SC",
          "SD",
          "TN",
          "TX",
          "UT",
          "VT",
          "VA",
          "WA",
          "WV",
          "WI",
          "WY"
         ],
         "name": "",
         "type": "choropleth",
         "z": [
          -0.2157647873459569,
          -0.21535145939416983,
          -0.08519996947862962,
          -0.19851244734805362,
          0.24057779514669775,
          0.08952714731354428,
          0.22367366370494873,
          0.2499563543252864,
          0.8592455229017539,
          0.028179861046886856,
          -0.052143388968644566,
          0.4501670818130788,
          -0.2542610384020076,
          0.2513719197786603,
          0.010320044608357393,
          0.0953476071856319,
          -0.14960287149478269,
          -0.16230907358947128,
          -0.18629807508411272,
          0.17321718960067733,
          0.2544482511753323,
          0.2562823981347053,
          0.1647354164550675,
          0.1023736165414077,
          -0.1317463455477899,
          -0.001334265461736872,
          -0.0226398617450404,
          -0.1493358759286692,
          0.12492560815334647,
          0.09605468585172378,
          0.15568203292611082,
          0.15128445428460613,
          0.2883972442958247,
          0.003288677803988116,
          -0.0862956026290107,
          0.04593691697250518,
          -0.31290162245387004,
          0.16347824564628444,
          0.10318475532122945,
          0.27806158137720816,
          -0.08977083961271626,
          -0.08411545258197528,
          -0.15068416220181252,
          -0.11769239006436782,
          -0.28178124048426556,
          0.37006454471059486,
          0.06298969182920344,
          0.1717658727153346,
          -0.1312059272465803,
          0.13904124029594256,
          -0.3220428082729185
         ]
        }
       ],
       "layout": {
        "coloraxis": {
         "cmax": 0.2,
         "cmid": 0,
         "cmin": -0.2,
         "colorbar": {
          "title": {
           "text": "DIFF_PCT"
          }
         },
         "colorscale": [
          [
           0,
           "rgb(103,0,31)"
          ],
          [
           0.1,
           "rgb(178,24,43)"
          ],
          [
           0.2,
           "rgb(214,96,77)"
          ],
          [
           0.3,
           "rgb(244,165,130)"
          ],
          [
           0.4,
           "rgb(253,219,199)"
          ],
          [
           0.5,
           "rgb(247,247,247)"
          ],
          [
           0.6,
           "rgb(209,229,240)"
          ],
          [
           0.7,
           "rgb(146,197,222)"
          ],
          [
           0.8,
           "rgb(67,147,195)"
          ],
          [
           0.9,
           "rgb(33,102,172)"
          ],
          [
           1,
           "rgb(5,48,97)"
          ]
         ]
        },
        "geo": {
         "center": {},
         "domain": {
          "x": [
           0,
           1
          ],
          "y": [
           0,
           1
          ]
         },
         "scope": "usa"
        },
        "legend": {
         "tracegroupgap": 0
        },
        "margin": {
         "b": 0,
         "l": 0,
         "r": 0,
         "t": 0
        },
        "template": {
         "data": {
          "bar": [
           {
            "error_x": {
             "color": "#2a3f5f"
            },
            "error_y": {
             "color": "#2a3f5f"
            },
            "marker": {
             "line": {
              "color": "#E5ECF6",
              "width": 0.5
             },
             "pattern": {
              "fillmode": "overlay",
              "size": 10,
              "solidity": 0.2
             }
            },
            "type": "bar"
           }
          ],
          "barpolar": [
           {
            "marker": {
             "line": {
              "color": "#E5ECF6",
              "width": 0.5
             },
             "pattern": {
              "fillmode": "overlay",
              "size": 10,
              "solidity": 0.2
             }
            },
            "type": "barpolar"
           }
          ],
          "carpet": [
           {
            "aaxis": {
             "endlinecolor": "#2a3f5f",
             "gridcolor": "white",
             "linecolor": "white",
             "minorgridcolor": "white",
             "startlinecolor": "#2a3f5f"
            },
            "baxis": {
             "endlinecolor": "#2a3f5f",
             "gridcolor": "white",
             "linecolor": "white",
             "minorgridcolor": "white",
             "startlinecolor": "#2a3f5f"
            },
            "type": "carpet"
           }
          ],
          "choropleth": [
           {
            "colorbar": {
             "outlinewidth": 0,
             "ticks": ""
            },
            "type": "choropleth"
           }
          ],
          "contour": [
           {
            "colorbar": {
             "outlinewidth": 0,
             "ticks": ""
            },
            "colorscale": [
             [
              0,
              "#0d0887"
             ],
             [
              0.1111111111111111,
              "#46039f"
             ],
             [
              0.2222222222222222,
              "#7201a8"
             ],
             [
              0.3333333333333333,
              "#9c179e"
             ],
             [
              0.4444444444444444,
              "#bd3786"
             ],
             [
              0.5555555555555556,
              "#d8576b"
             ],
             [
              0.6666666666666666,
              "#ed7953"
             ],
             [
              0.7777777777777778,
              "#fb9f3a"
             ],
             [
              0.8888888888888888,
              "#fdca26"
             ],
             [
              1,
              "#f0f921"
             ]
            ],
            "type": "contour"
           }
          ],
          "contourcarpet": [
           {
            "colorbar": {
             "outlinewidth": 0,
             "ticks": ""
            },
            "type": "contourcarpet"
           }
          ],
          "heatmap": [
           {
            "colorbar": {
             "outlinewidth": 0,
             "ticks": ""
            },
            "colorscale": [
             [
              0,
              "#0d0887"
             ],
             [
              0.1111111111111111,
              "#46039f"
             ],
             [
              0.2222222222222222,
              "#7201a8"
             ],
             [
              0.3333333333333333,
              "#9c179e"
             ],
             [
              0.4444444444444444,
              "#bd3786"
             ],
             [
              0.5555555555555556,
              "#d8576b"
             ],
             [
              0.6666666666666666,
              "#ed7953"
             ],
             [
              0.7777777777777778,
              "#fb9f3a"
             ],
             [
              0.8888888888888888,
              "#fdca26"
             ],
             [
              1,
              "#f0f921"
             ]
            ],
            "type": "heatmap"
           }
          ],
          "heatmapgl": [
           {
            "colorbar": {
             "outlinewidth": 0,
             "ticks": ""
            },
            "colorscale": [
             [
              0,
              "#0d0887"
             ],
             [
              0.1111111111111111,
              "#46039f"
             ],
             [
              0.2222222222222222,
              "#7201a8"
             ],
             [
              0.3333333333333333,
              "#9c179e"
             ],
             [
              0.4444444444444444,
              "#bd3786"
             ],
             [
              0.5555555555555556,
              "#d8576b"
             ],
             [
              0.6666666666666666,
              "#ed7953"
             ],
             [
              0.7777777777777778,
              "#fb9f3a"
             ],
             [
              0.8888888888888888,
              "#fdca26"
             ],
             [
              1,
              "#f0f921"
             ]
            ],
            "type": "heatmapgl"
           }
          ],
          "histogram": [
           {
            "marker": {
             "pattern": {
              "fillmode": "overlay",
              "size": 10,
              "solidity": 0.2
             }
            },
            "type": "histogram"
           }
          ],
          "histogram2d": [
           {
            "colorbar": {
             "outlinewidth": 0,
             "ticks": ""
            },
            "colorscale": [
             [
              0,
              "#0d0887"
             ],
             [
              0.1111111111111111,
              "#46039f"
             ],
             [
              0.2222222222222222,
              "#7201a8"
             ],
             [
              0.3333333333333333,
              "#9c179e"
             ],
             [
              0.4444444444444444,
              "#bd3786"
             ],
             [
              0.5555555555555556,
              "#d8576b"
             ],
             [
              0.6666666666666666,
              "#ed7953"
             ],
             [
              0.7777777777777778,
              "#fb9f3a"
             ],
             [
              0.8888888888888888,
              "#fdca26"
             ],
             [
              1,
              "#f0f921"
             ]
            ],
            "type": "histogram2d"
           }
          ],
          "histogram2dcontour": [
           {
            "colorbar": {
             "outlinewidth": 0,
             "ticks": ""
            },
            "colorscale": [
             [
              0,
              "#0d0887"
             ],
             [
              0.1111111111111111,
              "#46039f"
             ],
             [
              0.2222222222222222,
              "#7201a8"
             ],
             [
              0.3333333333333333,
              "#9c179e"
             ],
             [
              0.4444444444444444,
              "#bd3786"
             ],
             [
              0.5555555555555556,
              "#d8576b"
             ],
             [
              0.6666666666666666,
              "#ed7953"
             ],
             [
              0.7777777777777778,
              "#fb9f3a"
             ],
             [
              0.8888888888888888,
              "#fdca26"
             ],
             [
              1,
              "#f0f921"
             ]
            ],
            "type": "histogram2dcontour"
           }
          ],
          "mesh3d": [
           {
            "colorbar": {
             "outlinewidth": 0,
             "ticks": ""
            },
            "type": "mesh3d"
           }
          ],
          "parcoords": [
           {
            "line": {
             "colorbar": {
              "outlinewidth": 0,
              "ticks": ""
             }
            },
            "type": "parcoords"
           }
          ],
          "pie": [
           {
            "automargin": true,
            "type": "pie"
           }
          ],
          "scatter": [
           {
            "fillpattern": {
             "fillmode": "overlay",
             "size": 10,
             "solidity": 0.2
            },
            "type": "scatter"
           }
          ],
          "scatter3d": [
           {
            "line": {
             "colorbar": {
              "outlinewidth": 0,
              "ticks": ""
             }
            },
            "marker": {
             "colorbar": {
              "outlinewidth": 0,
              "ticks": ""
             }
            },
            "type": "scatter3d"
           }
          ],
          "scattercarpet": [
           {
            "marker": {
             "colorbar": {
              "outlinewidth": 0,
              "ticks": ""
             }
            },
            "type": "scattercarpet"
           }
          ],
          "scattergeo": [
           {
            "marker": {
             "colorbar": {
              "outlinewidth": 0,
              "ticks": ""
             }
            },
            "type": "scattergeo"
           }
          ],
          "scattergl": [
           {
            "marker": {
             "colorbar": {
              "outlinewidth": 0,
              "ticks": ""
             }
            },
            "type": "scattergl"
           }
          ],
          "scattermapbox": [
           {
            "marker": {
             "colorbar": {
              "outlinewidth": 0,
              "ticks": ""
             }
            },
            "type": "scattermapbox"
           }
          ],
          "scatterpolar": [
           {
            "marker": {
             "colorbar": {
              "outlinewidth": 0,
              "ticks": ""
             }
            },
            "type": "scatterpolar"
           }
          ],
          "scatterpolargl": [
           {
            "marker": {
             "colorbar": {
              "outlinewidth": 0,
              "ticks": ""
             }
            },
            "type": "scatterpolargl"
           }
          ],
          "scatterternary": [
           {
            "marker": {
             "colorbar": {
              "outlinewidth": 0,
              "ticks": ""
             }
            },
            "type": "scatterternary"
           }
          ],
          "surface": [
           {
            "colorbar": {
             "outlinewidth": 0,
             "ticks": ""
            },
            "colorscale": [
             [
              0,
              "#0d0887"
             ],
             [
              0.1111111111111111,
              "#46039f"
             ],
             [
              0.2222222222222222,
              "#7201a8"
             ],
             [
              0.3333333333333333,
              "#9c179e"
             ],
             [
              0.4444444444444444,
              "#bd3786"
             ],
             [
              0.5555555555555556,
              "#d8576b"
             ],
             [
              0.6666666666666666,
              "#ed7953"
             ],
             [
              0.7777777777777778,
              "#fb9f3a"
             ],
             [
              0.8888888888888888,
              "#fdca26"
             ],
             [
              1,
              "#f0f921"
             ]
            ],
            "type": "surface"
           }
          ],
          "table": [
           {
            "cells": {
             "fill": {
              "color": "#EBF0F8"
             },
             "line": {
              "color": "white"
             }
            },
            "header": {
             "fill": {
              "color": "#C8D4E3"
             },
             "line": {
              "color": "white"
             }
            },
            "type": "table"
           }
          ]
         },
         "layout": {
          "annotationdefaults": {
           "arrowcolor": "#2a3f5f",
           "arrowhead": 0,
           "arrowwidth": 1
          },
          "autotypenumbers": "strict",
          "coloraxis": {
           "colorbar": {
            "outlinewidth": 0,
            "ticks": ""
           }
          },
          "colorscale": {
           "diverging": [
            [
             0,
             "#8e0152"
            ],
            [
             0.1,
             "#c51b7d"
            ],
            [
             0.2,
             "#de77ae"
            ],
            [
             0.3,
             "#f1b6da"
            ],
            [
             0.4,
             "#fde0ef"
            ],
            [
             0.5,
             "#f7f7f7"
            ],
            [
             0.6,
             "#e6f5d0"
            ],
            [
             0.7,
             "#b8e186"
            ],
            [
             0.8,
             "#7fbc41"
            ],
            [
             0.9,
             "#4d9221"
            ],
            [
             1,
             "#276419"
            ]
           ],
           "sequential": [
            [
             0,
             "#0d0887"
            ],
            [
             0.1111111111111111,
             "#46039f"
            ],
            [
             0.2222222222222222,
             "#7201a8"
            ],
            [
             0.3333333333333333,
             "#9c179e"
            ],
            [
             0.4444444444444444,
             "#bd3786"
            ],
            [
             0.5555555555555556,
             "#d8576b"
            ],
            [
             0.6666666666666666,
             "#ed7953"
            ],
            [
             0.7777777777777778,
             "#fb9f3a"
            ],
            [
             0.8888888888888888,
             "#fdca26"
            ],
            [
             1,
             "#f0f921"
            ]
           ],
           "sequentialminus": [
            [
             0,
             "#0d0887"
            ],
            [
             0.1111111111111111,
             "#46039f"
            ],
            [
             0.2222222222222222,
             "#7201a8"
            ],
            [
             0.3333333333333333,
             "#9c179e"
            ],
            [
             0.4444444444444444,
             "#bd3786"
            ],
            [
             0.5555555555555556,
             "#d8576b"
            ],
            [
             0.6666666666666666,
             "#ed7953"
            ],
            [
             0.7777777777777778,
             "#fb9f3a"
            ],
            [
             0.8888888888888888,
             "#fdca26"
            ],
            [
             1,
             "#f0f921"
            ]
           ]
          },
          "colorway": [
           "#636efa",
           "#EF553B",
           "#00cc96",
           "#ab63fa",
           "#FFA15A",
           "#19d3f3",
           "#FF6692",
           "#B6E880",
           "#FF97FF",
           "#FECB52"
          ],
          "font": {
           "color": "#2a3f5f"
          },
          "geo": {
           "bgcolor": "white",
           "lakecolor": "white",
           "landcolor": "#E5ECF6",
           "showlakes": true,
           "showland": true,
           "subunitcolor": "white"
          },
          "hoverlabel": {
           "align": "left"
          },
          "hovermode": "closest",
          "mapbox": {
           "style": "light"
          },
          "paper_bgcolor": "white",
          "plot_bgcolor": "#E5ECF6",
          "polar": {
           "angularaxis": {
            "gridcolor": "white",
            "linecolor": "white",
            "ticks": ""
           },
           "bgcolor": "#E5ECF6",
           "radialaxis": {
            "gridcolor": "white",
            "linecolor": "white",
            "ticks": ""
           }
          },
          "scene": {
           "xaxis": {
            "backgroundcolor": "#E5ECF6",
            "gridcolor": "white",
            "gridwidth": 2,
            "linecolor": "white",
            "showbackground": true,
            "ticks": "",
            "zerolinecolor": "white"
           },
           "yaxis": {
            "backgroundcolor": "#E5ECF6",
            "gridcolor": "white",
            "gridwidth": 2,
            "linecolor": "white",
            "showbackground": true,
            "ticks": "",
            "zerolinecolor": "white"
           },
           "zaxis": {
            "backgroundcolor": "#E5ECF6",
            "gridcolor": "white",
            "gridwidth": 2,
            "linecolor": "white",
            "showbackground": true,
            "ticks": "",
            "zerolinecolor": "white"
           }
          },
          "shapedefaults": {
           "line": {
            "color": "#2a3f5f"
           }
          },
          "ternary": {
           "aaxis": {
            "gridcolor": "white",
            "linecolor": "white",
            "ticks": ""
           },
           "baxis": {
            "gridcolor": "white",
            "linecolor": "white",
            "ticks": ""
           },
           "bgcolor": "#E5ECF6",
           "caxis": {
            "gridcolor": "white",
            "linecolor": "white",
            "ticks": ""
           }
          },
          "title": {
           "x": 0.05
          },
          "xaxis": {
           "automargin": true,
           "gridcolor": "white",
           "linecolor": "white",
           "ticks": "",
           "title": {
            "standoff": 15
           },
           "zerolinecolor": "white",
           "zerolinewidth": 2
          },
          "yaxis": {
           "automargin": true,
           "gridcolor": "white",
           "linecolor": "white",
           "ticks": "",
           "title": {
            "standoff": 15
           },
           "zerolinecolor": "white",
           "zerolinewidth": 2
          }
         }
        },
        "title": {
         "text": "2008"
        }
       }
      }
     },
     "metadata": {},
     "output_type": "display_data"
    },
    {
     "name": "stdout",
     "output_type": "stream",
     "text": [
      "2012\n"
     ]
    },
    {
     "data": {
      "application/vnd.plotly.v1+json": {
       "config": {
        "plotlyServerURL": "https://plot.ly"
       },
       "data": [
        {
         "coloraxis": "coloraxis",
         "customdata": [
          [
           2012,
           "ALABAMA",
           "Obama",
           "Romney",
           -0.22186789231070347
          ],
          [
           2012,
           "ALASKA",
           "Obama",
           "Romney",
           -0.13988918284830032
          ],
          [
           2012,
           "ARIZONA",
           "Obama",
           "Romney",
           -0.09064766224175319
          ],
          [
           2012,
           "ARKANSAS",
           "Obama",
           "Romney",
           -0.23687945782389008
          ],
          [
           2012,
           "CALIFORNIA",
           "Obama",
           "Romney",
           0.2311858062098484
          ],
          [
           2012,
           "COLORADO",
           "Obama",
           "Romney",
           0.05365134912567193
          ],
          [
           2012,
           "CONNECTICUT",
           "Obama",
           "Romney",
           0.17339899011939386
          ],
          [
           2012,
           "DELAWARE",
           "Obama",
           "Romney",
           0.18628137911039166
          ],
          [
           2012,
           "DISTRICT OF COLUMBIA",
           "Obama",
           "Romney",
           0.8363482251058673
          ],
          [
           2012,
           "FLORIDA",
           "Obama",
           "Romney",
           0.00876887306723162
          ],
          [
           2012,
           "GEORGIA",
           "Obama",
           "Romney",
           -0.0782128251064243
          ],
          [
           2012,
           "HAWAII",
           "Obama",
           "Romney",
           0.4246578476023598
          ],
          [
           2012,
           "IDAHO",
           "Obama",
           "Romney",
           -0.3190744993668305
          ],
          [
           2012,
           "ILLINOIS",
           "Obama",
           "Romney",
           0.1686939409166019
          ],
          [
           2012,
           "INDIANA",
           "Obama",
           "Romney",
           -0.10198229476166054
          ],
          [
           2012,
           "IOWA",
           "Obama",
           "Romney",
           0.05810148023612988
          ],
          [
           2012,
           "KANSAS",
           "Obama",
           "Romney",
           -0.21716749815297104
          ],
          [
           2012,
           "KENTUCKY",
           "Obama",
           "Romney",
           -0.22691813764875823
          ],
          [
           2012,
           "LOUISIANA",
           "Obama",
           "Romney",
           -0.172071121051721
          ],
          [
           2012,
           "MAINE",
           "Obama",
           "Romney",
           0.1504364215365681
          ],
          [
           2012,
           "MARYLAND",
           "Obama",
           "Romney",
           0.26076458440373107
          ],
          [
           2012,
           "MASSACHUSETTS",
           "Obama",
           "Romney",
           0.2301918600488161
          ],
          [
           2012,
           "MICHIGAN",
           "Obama",
           "Romney",
           0.09497288183098529
          ],
          [
           2012,
           "MINNESOTA",
           "Obama",
           "Romney",
           0.07694102046577611
          ],
          [
           2012,
           "MISSISSIPPI",
           "Obama",
           "Romney",
           -0.11496487199591776
          ],
          [
           2012,
           "MISSOURI",
           "Obama",
           "Romney",
           -0.09380257590423757
          ],
          [
           2012,
           "MONTANA",
           "Obama",
           "Romney",
           -0.13653398010114698
          ],
          [
           2012,
           "NEBRASKA",
           "Obama",
           "Romney",
           -0.2177587776111906
          ],
          [
           2012,
           "NEVADA",
           "Obama",
           "Romney",
           0.06680933829136931
          ],
          [
           2012,
           "NEW HAMPSHIRE",
           "Obama",
           "Romney",
           0.05575887658023099
          ],
          [
           2012,
           "NEW JERSEY",
           "Obama",
           "Romney",
           0.17718790083493224
          ],
          [
           2012,
           "NEW MEXICO",
           "Obama",
           "Romney",
           0.10149433881376646
          ],
          [
           2012,
           "NEW YORK",
           "Obama",
           "Romney",
           0.29519386846643086
          ],
          [
           2012,
           "NORTH CAROLINA",
           "Obama",
           "Romney",
           -0.020420955250753936
          ],
          [
           2012,
           "NORTH DAKOTA",
           "Obama",
           "Romney",
           -0.196183716695775
          ],
          [
           2012,
           "OHIO",
           "Obama",
           "Romney",
           0.029783067798972995
          ],
          [
           2012,
           "OKLAHOMA",
           "Obama",
           "Romney",
           -0.33544639486033123
          ],
          [
           2012,
           "OREGON",
           "Obama",
           "Romney",
           0.12089455476255678
          ],
          [
           2012,
           "PENNSYLVANIA",
           "Obama",
           "Romney",
           0.053959916684662546
          ],
          [
           2012,
           "RHODE ISLAND",
           "Obama",
           "Romney",
           0.27457297292449934
          ],
          [
           2012,
           "SOUTH CAROLINA",
           "Obama",
           "Romney",
           -0.10473097848499935
          ],
          [
           2012,
           "SOUTH DAKOTA",
           "Obama",
           "Romney",
           -0.1802317111718868
          ],
          [
           2012,
           "TENNESSEE",
           "Obama",
           "Romney",
           -0.20402899726142393
          ],
          [
           2012,
           "TEXAS",
           "Obama",
           "Romney",
           -0.15783619184295533
          ],
          [
           2012,
           "UTAH",
           "Obama",
           "Romney",
           -0.4804086727472873
          ],
          [
           2012,
           "VERMONT",
           "Obama",
           "Romney",
           0.35597915065655383
          ],
          [
           2012,
           "VIRGINIA",
           "Obama",
           "Romney",
           0.038733538998295236
          ],
          [
           2012,
           "WASHINGTON",
           "Obama",
           "Romney",
           0.14868776867563632
          ],
          [
           2012,
           "WEST VIRGINIA",
           "Obama",
           "Romney",
           -0.2675653826304595
          ],
          [
           2012,
           "WISCONSIN",
           "Obama",
           "Romney",
           0.06837815821534832
          ],
          [
           2012,
           "WYOMING",
           "Obama",
           "Romney",
           -0.40556679071882445
          ]
         ],
         "geo": "geo",
         "geojson": "https://raw.githubusercontent.com/plotly/datasets/master/geojson-counties-fips.json",
         "hovertemplate": "%{customdata[0]}<br>%{customdata[1]}<br>%{customdata[2]}(D) vs %{customdata[3]}(R)<br>Dem Margin:%{customdata[4]:.1%}%<br><extra></extra>",
         "locationmode": "USA-states",
         "locations": [
          "AL",
          "AK",
          "AZ",
          "AR",
          "CA",
          "CO",
          "CT",
          "DE",
          "DC",
          "FL",
          "GA",
          "HI",
          "ID",
          "IL",
          "IN",
          "IA",
          "KS",
          "KY",
          "LA",
          "ME",
          "MD",
          "MA",
          "MI",
          "MN",
          "MS",
          "MO",
          "MT",
          "NE",
          "NV",
          "NH",
          "NJ",
          "NM",
          "NY",
          "NC",
          "ND",
          "OH",
          "OK",
          "OR",
          "PA",
          "RI",
          "SC",
          "SD",
          "TN",
          "TX",
          "UT",
          "VT",
          "VA",
          "WA",
          "WV",
          "WI",
          "WY"
         ],
         "name": "",
         "type": "choropleth",
         "z": [
          -0.22186789231070347,
          -0.13988918284830032,
          -0.09064766224175319,
          -0.23687945782389008,
          0.2311858062098484,
          0.05365134912567193,
          0.17339899011939386,
          0.18628137911039166,
          0.8363482251058673,
          0.00876887306723162,
          -0.0782128251064243,
          0.4246578476023598,
          -0.3190744993668305,
          0.1686939409166019,
          -0.10198229476166054,
          0.05810148023612988,
          -0.21716749815297104,
          -0.22691813764875823,
          -0.172071121051721,
          0.1504364215365681,
          0.26076458440373107,
          0.2301918600488161,
          0.09497288183098529,
          0.07694102046577611,
          -0.11496487199591776,
          -0.09380257590423757,
          -0.13653398010114698,
          -0.2177587776111906,
          0.06680933829136931,
          0.05575887658023099,
          0.17718790083493224,
          0.10149433881376646,
          0.29519386846643086,
          -0.020420955250753936,
          -0.196183716695775,
          0.029783067798972995,
          -0.33544639486033123,
          0.12089455476255678,
          0.053959916684662546,
          0.27457297292449934,
          -0.10473097848499935,
          -0.1802317111718868,
          -0.20402899726142393,
          -0.15783619184295533,
          -0.4804086727472873,
          0.35597915065655383,
          0.038733538998295236,
          0.14868776867563632,
          -0.2675653826304595,
          0.06837815821534832,
          -0.40556679071882445
         ]
        }
       ],
       "layout": {
        "coloraxis": {
         "cmax": 0.2,
         "cmid": 0,
         "cmin": -0.2,
         "colorbar": {
          "title": {
           "text": "DIFF_PCT"
          }
         },
         "colorscale": [
          [
           0,
           "rgb(103,0,31)"
          ],
          [
           0.1,
           "rgb(178,24,43)"
          ],
          [
           0.2,
           "rgb(214,96,77)"
          ],
          [
           0.3,
           "rgb(244,165,130)"
          ],
          [
           0.4,
           "rgb(253,219,199)"
          ],
          [
           0.5,
           "rgb(247,247,247)"
          ],
          [
           0.6,
           "rgb(209,229,240)"
          ],
          [
           0.7,
           "rgb(146,197,222)"
          ],
          [
           0.8,
           "rgb(67,147,195)"
          ],
          [
           0.9,
           "rgb(33,102,172)"
          ],
          [
           1,
           "rgb(5,48,97)"
          ]
         ]
        },
        "geo": {
         "center": {},
         "domain": {
          "x": [
           0,
           1
          ],
          "y": [
           0,
           1
          ]
         },
         "scope": "usa"
        },
        "legend": {
         "tracegroupgap": 0
        },
        "margin": {
         "b": 0,
         "l": 0,
         "r": 0,
         "t": 0
        },
        "template": {
         "data": {
          "bar": [
           {
            "error_x": {
             "color": "#2a3f5f"
            },
            "error_y": {
             "color": "#2a3f5f"
            },
            "marker": {
             "line": {
              "color": "#E5ECF6",
              "width": 0.5
             },
             "pattern": {
              "fillmode": "overlay",
              "size": 10,
              "solidity": 0.2
             }
            },
            "type": "bar"
           }
          ],
          "barpolar": [
           {
            "marker": {
             "line": {
              "color": "#E5ECF6",
              "width": 0.5
             },
             "pattern": {
              "fillmode": "overlay",
              "size": 10,
              "solidity": 0.2
             }
            },
            "type": "barpolar"
           }
          ],
          "carpet": [
           {
            "aaxis": {
             "endlinecolor": "#2a3f5f",
             "gridcolor": "white",
             "linecolor": "white",
             "minorgridcolor": "white",
             "startlinecolor": "#2a3f5f"
            },
            "baxis": {
             "endlinecolor": "#2a3f5f",
             "gridcolor": "white",
             "linecolor": "white",
             "minorgridcolor": "white",
             "startlinecolor": "#2a3f5f"
            },
            "type": "carpet"
           }
          ],
          "choropleth": [
           {
            "colorbar": {
             "outlinewidth": 0,
             "ticks": ""
            },
            "type": "choropleth"
           }
          ],
          "contour": [
           {
            "colorbar": {
             "outlinewidth": 0,
             "ticks": ""
            },
            "colorscale": [
             [
              0,
              "#0d0887"
             ],
             [
              0.1111111111111111,
              "#46039f"
             ],
             [
              0.2222222222222222,
              "#7201a8"
             ],
             [
              0.3333333333333333,
              "#9c179e"
             ],
             [
              0.4444444444444444,
              "#bd3786"
             ],
             [
              0.5555555555555556,
              "#d8576b"
             ],
             [
              0.6666666666666666,
              "#ed7953"
             ],
             [
              0.7777777777777778,
              "#fb9f3a"
             ],
             [
              0.8888888888888888,
              "#fdca26"
             ],
             [
              1,
              "#f0f921"
             ]
            ],
            "type": "contour"
           }
          ],
          "contourcarpet": [
           {
            "colorbar": {
             "outlinewidth": 0,
             "ticks": ""
            },
            "type": "contourcarpet"
           }
          ],
          "heatmap": [
           {
            "colorbar": {
             "outlinewidth": 0,
             "ticks": ""
            },
            "colorscale": [
             [
              0,
              "#0d0887"
             ],
             [
              0.1111111111111111,
              "#46039f"
             ],
             [
              0.2222222222222222,
              "#7201a8"
             ],
             [
              0.3333333333333333,
              "#9c179e"
             ],
             [
              0.4444444444444444,
              "#bd3786"
             ],
             [
              0.5555555555555556,
              "#d8576b"
             ],
             [
              0.6666666666666666,
              "#ed7953"
             ],
             [
              0.7777777777777778,
              "#fb9f3a"
             ],
             [
              0.8888888888888888,
              "#fdca26"
             ],
             [
              1,
              "#f0f921"
             ]
            ],
            "type": "heatmap"
           }
          ],
          "heatmapgl": [
           {
            "colorbar": {
             "outlinewidth": 0,
             "ticks": ""
            },
            "colorscale": [
             [
              0,
              "#0d0887"
             ],
             [
              0.1111111111111111,
              "#46039f"
             ],
             [
              0.2222222222222222,
              "#7201a8"
             ],
             [
              0.3333333333333333,
              "#9c179e"
             ],
             [
              0.4444444444444444,
              "#bd3786"
             ],
             [
              0.5555555555555556,
              "#d8576b"
             ],
             [
              0.6666666666666666,
              "#ed7953"
             ],
             [
              0.7777777777777778,
              "#fb9f3a"
             ],
             [
              0.8888888888888888,
              "#fdca26"
             ],
             [
              1,
              "#f0f921"
             ]
            ],
            "type": "heatmapgl"
           }
          ],
          "histogram": [
           {
            "marker": {
             "pattern": {
              "fillmode": "overlay",
              "size": 10,
              "solidity": 0.2
             }
            },
            "type": "histogram"
           }
          ],
          "histogram2d": [
           {
            "colorbar": {
             "outlinewidth": 0,
             "ticks": ""
            },
            "colorscale": [
             [
              0,
              "#0d0887"
             ],
             [
              0.1111111111111111,
              "#46039f"
             ],
             [
              0.2222222222222222,
              "#7201a8"
             ],
             [
              0.3333333333333333,
              "#9c179e"
             ],
             [
              0.4444444444444444,
              "#bd3786"
             ],
             [
              0.5555555555555556,
              "#d8576b"
             ],
             [
              0.6666666666666666,
              "#ed7953"
             ],
             [
              0.7777777777777778,
              "#fb9f3a"
             ],
             [
              0.8888888888888888,
              "#fdca26"
             ],
             [
              1,
              "#f0f921"
             ]
            ],
            "type": "histogram2d"
           }
          ],
          "histogram2dcontour": [
           {
            "colorbar": {
             "outlinewidth": 0,
             "ticks": ""
            },
            "colorscale": [
             [
              0,
              "#0d0887"
             ],
             [
              0.1111111111111111,
              "#46039f"
             ],
             [
              0.2222222222222222,
              "#7201a8"
             ],
             [
              0.3333333333333333,
              "#9c179e"
             ],
             [
              0.4444444444444444,
              "#bd3786"
             ],
             [
              0.5555555555555556,
              "#d8576b"
             ],
             [
              0.6666666666666666,
              "#ed7953"
             ],
             [
              0.7777777777777778,
              "#fb9f3a"
             ],
             [
              0.8888888888888888,
              "#fdca26"
             ],
             [
              1,
              "#f0f921"
             ]
            ],
            "type": "histogram2dcontour"
           }
          ],
          "mesh3d": [
           {
            "colorbar": {
             "outlinewidth": 0,
             "ticks": ""
            },
            "type": "mesh3d"
           }
          ],
          "parcoords": [
           {
            "line": {
             "colorbar": {
              "outlinewidth": 0,
              "ticks": ""
             }
            },
            "type": "parcoords"
           }
          ],
          "pie": [
           {
            "automargin": true,
            "type": "pie"
           }
          ],
          "scatter": [
           {
            "fillpattern": {
             "fillmode": "overlay",
             "size": 10,
             "solidity": 0.2
            },
            "type": "scatter"
           }
          ],
          "scatter3d": [
           {
            "line": {
             "colorbar": {
              "outlinewidth": 0,
              "ticks": ""
             }
            },
            "marker": {
             "colorbar": {
              "outlinewidth": 0,
              "ticks": ""
             }
            },
            "type": "scatter3d"
           }
          ],
          "scattercarpet": [
           {
            "marker": {
             "colorbar": {
              "outlinewidth": 0,
              "ticks": ""
             }
            },
            "type": "scattercarpet"
           }
          ],
          "scattergeo": [
           {
            "marker": {
             "colorbar": {
              "outlinewidth": 0,
              "ticks": ""
             }
            },
            "type": "scattergeo"
           }
          ],
          "scattergl": [
           {
            "marker": {
             "colorbar": {
              "outlinewidth": 0,
              "ticks": ""
             }
            },
            "type": "scattergl"
           }
          ],
          "scattermapbox": [
           {
            "marker": {
             "colorbar": {
              "outlinewidth": 0,
              "ticks": ""
             }
            },
            "type": "scattermapbox"
           }
          ],
          "scatterpolar": [
           {
            "marker": {
             "colorbar": {
              "outlinewidth": 0,
              "ticks": ""
             }
            },
            "type": "scatterpolar"
           }
          ],
          "scatterpolargl": [
           {
            "marker": {
             "colorbar": {
              "outlinewidth": 0,
              "ticks": ""
             }
            },
            "type": "scatterpolargl"
           }
          ],
          "scatterternary": [
           {
            "marker": {
             "colorbar": {
              "outlinewidth": 0,
              "ticks": ""
             }
            },
            "type": "scatterternary"
           }
          ],
          "surface": [
           {
            "colorbar": {
             "outlinewidth": 0,
             "ticks": ""
            },
            "colorscale": [
             [
              0,
              "#0d0887"
             ],
             [
              0.1111111111111111,
              "#46039f"
             ],
             [
              0.2222222222222222,
              "#7201a8"
             ],
             [
              0.3333333333333333,
              "#9c179e"
             ],
             [
              0.4444444444444444,
              "#bd3786"
             ],
             [
              0.5555555555555556,
              "#d8576b"
             ],
             [
              0.6666666666666666,
              "#ed7953"
             ],
             [
              0.7777777777777778,
              "#fb9f3a"
             ],
             [
              0.8888888888888888,
              "#fdca26"
             ],
             [
              1,
              "#f0f921"
             ]
            ],
            "type": "surface"
           }
          ],
          "table": [
           {
            "cells": {
             "fill": {
              "color": "#EBF0F8"
             },
             "line": {
              "color": "white"
             }
            },
            "header": {
             "fill": {
              "color": "#C8D4E3"
             },
             "line": {
              "color": "white"
             }
            },
            "type": "table"
           }
          ]
         },
         "layout": {
          "annotationdefaults": {
           "arrowcolor": "#2a3f5f",
           "arrowhead": 0,
           "arrowwidth": 1
          },
          "autotypenumbers": "strict",
          "coloraxis": {
           "colorbar": {
            "outlinewidth": 0,
            "ticks": ""
           }
          },
          "colorscale": {
           "diverging": [
            [
             0,
             "#8e0152"
            ],
            [
             0.1,
             "#c51b7d"
            ],
            [
             0.2,
             "#de77ae"
            ],
            [
             0.3,
             "#f1b6da"
            ],
            [
             0.4,
             "#fde0ef"
            ],
            [
             0.5,
             "#f7f7f7"
            ],
            [
             0.6,
             "#e6f5d0"
            ],
            [
             0.7,
             "#b8e186"
            ],
            [
             0.8,
             "#7fbc41"
            ],
            [
             0.9,
             "#4d9221"
            ],
            [
             1,
             "#276419"
            ]
           ],
           "sequential": [
            [
             0,
             "#0d0887"
            ],
            [
             0.1111111111111111,
             "#46039f"
            ],
            [
             0.2222222222222222,
             "#7201a8"
            ],
            [
             0.3333333333333333,
             "#9c179e"
            ],
            [
             0.4444444444444444,
             "#bd3786"
            ],
            [
             0.5555555555555556,
             "#d8576b"
            ],
            [
             0.6666666666666666,
             "#ed7953"
            ],
            [
             0.7777777777777778,
             "#fb9f3a"
            ],
            [
             0.8888888888888888,
             "#fdca26"
            ],
            [
             1,
             "#f0f921"
            ]
           ],
           "sequentialminus": [
            [
             0,
             "#0d0887"
            ],
            [
             0.1111111111111111,
             "#46039f"
            ],
            [
             0.2222222222222222,
             "#7201a8"
            ],
            [
             0.3333333333333333,
             "#9c179e"
            ],
            [
             0.4444444444444444,
             "#bd3786"
            ],
            [
             0.5555555555555556,
             "#d8576b"
            ],
            [
             0.6666666666666666,
             "#ed7953"
            ],
            [
             0.7777777777777778,
             "#fb9f3a"
            ],
            [
             0.8888888888888888,
             "#fdca26"
            ],
            [
             1,
             "#f0f921"
            ]
           ]
          },
          "colorway": [
           "#636efa",
           "#EF553B",
           "#00cc96",
           "#ab63fa",
           "#FFA15A",
           "#19d3f3",
           "#FF6692",
           "#B6E880",
           "#FF97FF",
           "#FECB52"
          ],
          "font": {
           "color": "#2a3f5f"
          },
          "geo": {
           "bgcolor": "white",
           "lakecolor": "white",
           "landcolor": "#E5ECF6",
           "showlakes": true,
           "showland": true,
           "subunitcolor": "white"
          },
          "hoverlabel": {
           "align": "left"
          },
          "hovermode": "closest",
          "mapbox": {
           "style": "light"
          },
          "paper_bgcolor": "white",
          "plot_bgcolor": "#E5ECF6",
          "polar": {
           "angularaxis": {
            "gridcolor": "white",
            "linecolor": "white",
            "ticks": ""
           },
           "bgcolor": "#E5ECF6",
           "radialaxis": {
            "gridcolor": "white",
            "linecolor": "white",
            "ticks": ""
           }
          },
          "scene": {
           "xaxis": {
            "backgroundcolor": "#E5ECF6",
            "gridcolor": "white",
            "gridwidth": 2,
            "linecolor": "white",
            "showbackground": true,
            "ticks": "",
            "zerolinecolor": "white"
           },
           "yaxis": {
            "backgroundcolor": "#E5ECF6",
            "gridcolor": "white",
            "gridwidth": 2,
            "linecolor": "white",
            "showbackground": true,
            "ticks": "",
            "zerolinecolor": "white"
           },
           "zaxis": {
            "backgroundcolor": "#E5ECF6",
            "gridcolor": "white",
            "gridwidth": 2,
            "linecolor": "white",
            "showbackground": true,
            "ticks": "",
            "zerolinecolor": "white"
           }
          },
          "shapedefaults": {
           "line": {
            "color": "#2a3f5f"
           }
          },
          "ternary": {
           "aaxis": {
            "gridcolor": "white",
            "linecolor": "white",
            "ticks": ""
           },
           "baxis": {
            "gridcolor": "white",
            "linecolor": "white",
            "ticks": ""
           },
           "bgcolor": "#E5ECF6",
           "caxis": {
            "gridcolor": "white",
            "linecolor": "white",
            "ticks": ""
           }
          },
          "title": {
           "x": 0.05
          },
          "xaxis": {
           "automargin": true,
           "gridcolor": "white",
           "linecolor": "white",
           "ticks": "",
           "title": {
            "standoff": 15
           },
           "zerolinecolor": "white",
           "zerolinewidth": 2
          },
          "yaxis": {
           "automargin": true,
           "gridcolor": "white",
           "linecolor": "white",
           "ticks": "",
           "title": {
            "standoff": 15
           },
           "zerolinecolor": "white",
           "zerolinewidth": 2
          }
         }
        },
        "title": {
         "text": "2012"
        }
       }
      }
     },
     "metadata": {},
     "output_type": "display_data"
    },
    {
     "name": "stdout",
     "output_type": "stream",
     "text": [
      "2016\n"
     ]
    },
    {
     "data": {
      "application/vnd.plotly.v1+json": {
       "config": {
        "plotlyServerURL": "https://plot.ly"
       },
       "data": [
        {
         "coloraxis": "coloraxis",
         "customdata": [
          [
           2016,
           "ALABAMA",
           "Clinton H.",
           "Trump",
           -0.27725146606435425
          ],
          [
           2016,
           "ALASKA",
           "Clinton H.",
           "Trump",
           -0.14730640787425298
          ],
          [
           2016,
           "ARIZONA",
           "Clinton H.",
           "Trump",
           -0.035439623965039135
          ],
          [
           2016,
           "ARKANSAS",
           "Clinton H.",
           "Trump",
           -0.2692097803446736
          ],
          [
           2016,
           "CALIFORNIA",
           "Clinton H.",
           "Trump",
           0.3010929306611845
          ],
          [
           2016,
           "COLORADO",
           "Clinton H.",
           "Trump",
           0.049055830114163645
          ],
          [
           2016,
           "CONNECTICUT",
           "Clinton H.",
           "Trump",
           0.1363938671789509
          ],
          [
           2016,
           "DELAWARE",
           "Clinton H.",
           "Trump",
           0.11430512466314913
          ],
          [
           2016,
           "DISTRICT OF COLUMBIA",
           "Clinton H.",
           "Trump",
           0.8641350075981764
          ],
          [
           2016,
           "FLORIDA",
           "Clinton H.",
           "Trump",
           -0.011986256107856863
          ],
          [
           2016,
           "GEORGIA",
           "Clinton H.",
           "Trump",
           -0.05131342697410185
          ],
          [
           2016,
           "HAWAII",
           "Clinton H.",
           "Trump",
           0.31541090882503475
          ],
          [
           2016,
           "IDAHO",
           "Clinton H.",
           "Trump",
           -0.3176941854821768
          ],
          [
           2016,
           "ILLINOIS",
           "Clinton H.",
           "Trump",
           0.17063613624968027
          ],
          [
           2016,
           "INDIANA",
           "Clinton H.",
           "Trump",
           -0.19165193761659233
          ],
          [
           2016,
           "IOWA",
           "Clinton H.",
           "Trump",
           -0.09409547899181131
          ],
          [
           2016,
           "KANSAS",
           "Clinton H.",
           "Trump",
           -0.2060221107360508
          ],
          [
           2016,
           "KENTUCKY",
           "Clinton H.",
           "Trump",
           -0.2983745021825233
          ],
          [
           2016,
           "LOUISIANA",
           "Clinton H.",
           "Trump",
           -0.1963911855505483
          ],
          [
           2016,
           "MAINE",
           "Clinton H.",
           "Trump",
           0.028685360128100856
          ],
          [
           2016,
           "MARYLAND",
           "Clinton H.",
           "Trump",
           0.2640993210006593
          ],
          [
           2016,
           "MASSACHUSETTS",
           "Clinton H.",
           "Trump",
           0.2676386230581614
          ],
          [
           2016,
           "MICHIGAN",
           "Clinton H.",
           "Trump",
           -0.00223033269129308
          ],
          [
           2016,
           "MINNESOTA",
           "Clinton H.",
           "Trump",
           0.015198408574896238
          ],
          [
           2016,
           "MISSISSIPPI",
           "Clinton H.",
           "Trump",
           -0.17826249817051543
          ],
          [
           2016,
           "MISSOURI",
           "Clinton H.",
           "Trump",
           -0.1863711700292494
          ],
          [
           2016,
           "MONTANA",
           "Clinton H.",
           "Trump",
           -0.2053097309342684
          ],
          [
           2016,
           "NEBRASKA",
           "Clinton H.",
           "Trump",
           -0.2504859474999022
          ],
          [
           2016,
           "NEVADA",
           "Clinton H.",
           "Trump",
           0.02417128360516624
          ],
          [
           2016,
           "NEW HAMPSHIRE",
           "Clinton H.",
           "Trump",
           0.003675956877371378
          ],
          [
           2016,
           "NEW JERSEY",
           "Clinton H.",
           "Trump",
           0.14102697799664748
          ],
          [
           2016,
           "NEW MEXICO",
           "Clinton H.",
           "Trump",
           0.0821313284539138
          ],
          [
           2016,
           "NEW YORK",
           "Clinton H.",
           "Trump",
           0.23745540294106032
          ],
          [
           2016,
           "NORTH CAROLINA",
           "Clinton H.",
           "Trump",
           -0.036552285279709384
          ],
          [
           2016,
           "NORTH DAKOTA",
           "Clinton H.",
           "Trump",
           -0.35728888372633294
          ],
          [
           2016,
           "OHIO",
           "Clinton H.",
           "Trump",
           -0.0812957439906617
          ],
          [
           2016,
           "OKLAHOMA",
           "Clinton H.",
           "Trump",
           -0.36391184535083465
          ],
          [
           2016,
           "OREGON",
           "Clinton H.",
           "Trump",
           0.10977816818365327
          ],
          [
           2016,
           "PENNSYLVANIA",
           "Clinton H.",
           "Trump",
           -0.007242696391831671
          ],
          [
           2016,
           "RHODE ISLAND",
           "Clinton H.",
           "Trump",
           0.15508549070977978
          ],
          [
           2016,
           "SOUTH CAROLINA",
           "Clinton H.",
           "Trump",
           -0.14265912896030342
          ],
          [
           2016,
           "SOUTH DAKOTA",
           "Clinton H.",
           "Trump",
           -0.2979332221900981
          ],
          [
           2016,
           "TENNESSEE",
           "Clinton H.",
           "Trump",
           -0.2600570089556452
          ],
          [
           2016,
           "TEXAS",
           "Clinton H.",
           "Trump",
           -0.08999427598323423
          ],
          [
           2016,
           "UTAH",
           "Clinton H.",
           "Trump",
           -0.18079547995831408
          ],
          [
           2016,
           "VERMONT",
           "Clinton H.",
           "Trump",
           0.2596335972190584
          ],
          [
           2016,
           "VIRGINIA",
           "Clinton H.",
           "Trump",
           0.053237058194936515
          ],
          [
           2016,
           "WASHINGTON",
           "Clinton H.",
           "Trump",
           0.1570599987518913
          ],
          [
           2016,
           "WEST VIRGINIA",
           "Clinton H.",
           "Trump",
           -0.42153646793847843
          ],
          [
           2016,
           "WISCONSIN",
           "Clinton H.",
           "Trump",
           -0.007643431950674573
          ],
          [
           2016,
           "WYOMING",
           "Clinton H.",
           "Trump",
           -0.4576951017821538
          ]
         ],
         "geo": "geo",
         "geojson": "https://raw.githubusercontent.com/plotly/datasets/master/geojson-counties-fips.json",
         "hovertemplate": "%{customdata[0]}<br>%{customdata[1]}<br>%{customdata[2]}(D) vs %{customdata[3]}(R)<br>Dem Margin:%{customdata[4]:.1%}%<br><extra></extra>",
         "locationmode": "USA-states",
         "locations": [
          "AL",
          "AK",
          "AZ",
          "AR",
          "CA",
          "CO",
          "CT",
          "DE",
          "DC",
          "FL",
          "GA",
          "HI",
          "ID",
          "IL",
          "IN",
          "IA",
          "KS",
          "KY",
          "LA",
          "ME",
          "MD",
          "MA",
          "MI",
          "MN",
          "MS",
          "MO",
          "MT",
          "NE",
          "NV",
          "NH",
          "NJ",
          "NM",
          "NY",
          "NC",
          "ND",
          "OH",
          "OK",
          "OR",
          "PA",
          "RI",
          "SC",
          "SD",
          "TN",
          "TX",
          "UT",
          "VT",
          "VA",
          "WA",
          "WV",
          "WI",
          "WY"
         ],
         "name": "",
         "type": "choropleth",
         "z": [
          -0.27725146606435425,
          -0.14730640787425298,
          -0.035439623965039135,
          -0.2692097803446736,
          0.3010929306611845,
          0.049055830114163645,
          0.1363938671789509,
          0.11430512466314913,
          0.8641350075981764,
          -0.011986256107856863,
          -0.05131342697410185,
          0.31541090882503475,
          -0.3176941854821768,
          0.17063613624968027,
          -0.19165193761659233,
          -0.09409547899181131,
          -0.2060221107360508,
          -0.2983745021825233,
          -0.1963911855505483,
          0.028685360128100856,
          0.2640993210006593,
          0.2676386230581614,
          -0.00223033269129308,
          0.015198408574896238,
          -0.17826249817051543,
          -0.1863711700292494,
          -0.2053097309342684,
          -0.2504859474999022,
          0.02417128360516624,
          0.003675956877371378,
          0.14102697799664748,
          0.0821313284539138,
          0.23745540294106032,
          -0.036552285279709384,
          -0.35728888372633294,
          -0.0812957439906617,
          -0.36391184535083465,
          0.10977816818365327,
          -0.007242696391831671,
          0.15508549070977978,
          -0.14265912896030342,
          -0.2979332221900981,
          -0.2600570089556452,
          -0.08999427598323423,
          -0.18079547995831408,
          0.2596335972190584,
          0.053237058194936515,
          0.1570599987518913,
          -0.42153646793847843,
          -0.007643431950674573,
          -0.4576951017821538
         ]
        }
       ],
       "layout": {
        "coloraxis": {
         "cmax": 0.2,
         "cmid": 0,
         "cmin": -0.2,
         "colorbar": {
          "title": {
           "text": "DIFF_PCT"
          }
         },
         "colorscale": [
          [
           0,
           "rgb(103,0,31)"
          ],
          [
           0.1,
           "rgb(178,24,43)"
          ],
          [
           0.2,
           "rgb(214,96,77)"
          ],
          [
           0.3,
           "rgb(244,165,130)"
          ],
          [
           0.4,
           "rgb(253,219,199)"
          ],
          [
           0.5,
           "rgb(247,247,247)"
          ],
          [
           0.6,
           "rgb(209,229,240)"
          ],
          [
           0.7,
           "rgb(146,197,222)"
          ],
          [
           0.8,
           "rgb(67,147,195)"
          ],
          [
           0.9,
           "rgb(33,102,172)"
          ],
          [
           1,
           "rgb(5,48,97)"
          ]
         ]
        },
        "geo": {
         "center": {},
         "domain": {
          "x": [
           0,
           1
          ],
          "y": [
           0,
           1
          ]
         },
         "scope": "usa"
        },
        "legend": {
         "tracegroupgap": 0
        },
        "margin": {
         "b": 0,
         "l": 0,
         "r": 0,
         "t": 0
        },
        "template": {
         "data": {
          "bar": [
           {
            "error_x": {
             "color": "#2a3f5f"
            },
            "error_y": {
             "color": "#2a3f5f"
            },
            "marker": {
             "line": {
              "color": "#E5ECF6",
              "width": 0.5
             },
             "pattern": {
              "fillmode": "overlay",
              "size": 10,
              "solidity": 0.2
             }
            },
            "type": "bar"
           }
          ],
          "barpolar": [
           {
            "marker": {
             "line": {
              "color": "#E5ECF6",
              "width": 0.5
             },
             "pattern": {
              "fillmode": "overlay",
              "size": 10,
              "solidity": 0.2
             }
            },
            "type": "barpolar"
           }
          ],
          "carpet": [
           {
            "aaxis": {
             "endlinecolor": "#2a3f5f",
             "gridcolor": "white",
             "linecolor": "white",
             "minorgridcolor": "white",
             "startlinecolor": "#2a3f5f"
            },
            "baxis": {
             "endlinecolor": "#2a3f5f",
             "gridcolor": "white",
             "linecolor": "white",
             "minorgridcolor": "white",
             "startlinecolor": "#2a3f5f"
            },
            "type": "carpet"
           }
          ],
          "choropleth": [
           {
            "colorbar": {
             "outlinewidth": 0,
             "ticks": ""
            },
            "type": "choropleth"
           }
          ],
          "contour": [
           {
            "colorbar": {
             "outlinewidth": 0,
             "ticks": ""
            },
            "colorscale": [
             [
              0,
              "#0d0887"
             ],
             [
              0.1111111111111111,
              "#46039f"
             ],
             [
              0.2222222222222222,
              "#7201a8"
             ],
             [
              0.3333333333333333,
              "#9c179e"
             ],
             [
              0.4444444444444444,
              "#bd3786"
             ],
             [
              0.5555555555555556,
              "#d8576b"
             ],
             [
              0.6666666666666666,
              "#ed7953"
             ],
             [
              0.7777777777777778,
              "#fb9f3a"
             ],
             [
              0.8888888888888888,
              "#fdca26"
             ],
             [
              1,
              "#f0f921"
             ]
            ],
            "type": "contour"
           }
          ],
          "contourcarpet": [
           {
            "colorbar": {
             "outlinewidth": 0,
             "ticks": ""
            },
            "type": "contourcarpet"
           }
          ],
          "heatmap": [
           {
            "colorbar": {
             "outlinewidth": 0,
             "ticks": ""
            },
            "colorscale": [
             [
              0,
              "#0d0887"
             ],
             [
              0.1111111111111111,
              "#46039f"
             ],
             [
              0.2222222222222222,
              "#7201a8"
             ],
             [
              0.3333333333333333,
              "#9c179e"
             ],
             [
              0.4444444444444444,
              "#bd3786"
             ],
             [
              0.5555555555555556,
              "#d8576b"
             ],
             [
              0.6666666666666666,
              "#ed7953"
             ],
             [
              0.7777777777777778,
              "#fb9f3a"
             ],
             [
              0.8888888888888888,
              "#fdca26"
             ],
             [
              1,
              "#f0f921"
             ]
            ],
            "type": "heatmap"
           }
          ],
          "heatmapgl": [
           {
            "colorbar": {
             "outlinewidth": 0,
             "ticks": ""
            },
            "colorscale": [
             [
              0,
              "#0d0887"
             ],
             [
              0.1111111111111111,
              "#46039f"
             ],
             [
              0.2222222222222222,
              "#7201a8"
             ],
             [
              0.3333333333333333,
              "#9c179e"
             ],
             [
              0.4444444444444444,
              "#bd3786"
             ],
             [
              0.5555555555555556,
              "#d8576b"
             ],
             [
              0.6666666666666666,
              "#ed7953"
             ],
             [
              0.7777777777777778,
              "#fb9f3a"
             ],
             [
              0.8888888888888888,
              "#fdca26"
             ],
             [
              1,
              "#f0f921"
             ]
            ],
            "type": "heatmapgl"
           }
          ],
          "histogram": [
           {
            "marker": {
             "pattern": {
              "fillmode": "overlay",
              "size": 10,
              "solidity": 0.2
             }
            },
            "type": "histogram"
           }
          ],
          "histogram2d": [
           {
            "colorbar": {
             "outlinewidth": 0,
             "ticks": ""
            },
            "colorscale": [
             [
              0,
              "#0d0887"
             ],
             [
              0.1111111111111111,
              "#46039f"
             ],
             [
              0.2222222222222222,
              "#7201a8"
             ],
             [
              0.3333333333333333,
              "#9c179e"
             ],
             [
              0.4444444444444444,
              "#bd3786"
             ],
             [
              0.5555555555555556,
              "#d8576b"
             ],
             [
              0.6666666666666666,
              "#ed7953"
             ],
             [
              0.7777777777777778,
              "#fb9f3a"
             ],
             [
              0.8888888888888888,
              "#fdca26"
             ],
             [
              1,
              "#f0f921"
             ]
            ],
            "type": "histogram2d"
           }
          ],
          "histogram2dcontour": [
           {
            "colorbar": {
             "outlinewidth": 0,
             "ticks": ""
            },
            "colorscale": [
             [
              0,
              "#0d0887"
             ],
             [
              0.1111111111111111,
              "#46039f"
             ],
             [
              0.2222222222222222,
              "#7201a8"
             ],
             [
              0.3333333333333333,
              "#9c179e"
             ],
             [
              0.4444444444444444,
              "#bd3786"
             ],
             [
              0.5555555555555556,
              "#d8576b"
             ],
             [
              0.6666666666666666,
              "#ed7953"
             ],
             [
              0.7777777777777778,
              "#fb9f3a"
             ],
             [
              0.8888888888888888,
              "#fdca26"
             ],
             [
              1,
              "#f0f921"
             ]
            ],
            "type": "histogram2dcontour"
           }
          ],
          "mesh3d": [
           {
            "colorbar": {
             "outlinewidth": 0,
             "ticks": ""
            },
            "type": "mesh3d"
           }
          ],
          "parcoords": [
           {
            "line": {
             "colorbar": {
              "outlinewidth": 0,
              "ticks": ""
             }
            },
            "type": "parcoords"
           }
          ],
          "pie": [
           {
            "automargin": true,
            "type": "pie"
           }
          ],
          "scatter": [
           {
            "fillpattern": {
             "fillmode": "overlay",
             "size": 10,
             "solidity": 0.2
            },
            "type": "scatter"
           }
          ],
          "scatter3d": [
           {
            "line": {
             "colorbar": {
              "outlinewidth": 0,
              "ticks": ""
             }
            },
            "marker": {
             "colorbar": {
              "outlinewidth": 0,
              "ticks": ""
             }
            },
            "type": "scatter3d"
           }
          ],
          "scattercarpet": [
           {
            "marker": {
             "colorbar": {
              "outlinewidth": 0,
              "ticks": ""
             }
            },
            "type": "scattercarpet"
           }
          ],
          "scattergeo": [
           {
            "marker": {
             "colorbar": {
              "outlinewidth": 0,
              "ticks": ""
             }
            },
            "type": "scattergeo"
           }
          ],
          "scattergl": [
           {
            "marker": {
             "colorbar": {
              "outlinewidth": 0,
              "ticks": ""
             }
            },
            "type": "scattergl"
           }
          ],
          "scattermapbox": [
           {
            "marker": {
             "colorbar": {
              "outlinewidth": 0,
              "ticks": ""
             }
            },
            "type": "scattermapbox"
           }
          ],
          "scatterpolar": [
           {
            "marker": {
             "colorbar": {
              "outlinewidth": 0,
              "ticks": ""
             }
            },
            "type": "scatterpolar"
           }
          ],
          "scatterpolargl": [
           {
            "marker": {
             "colorbar": {
              "outlinewidth": 0,
              "ticks": ""
             }
            },
            "type": "scatterpolargl"
           }
          ],
          "scatterternary": [
           {
            "marker": {
             "colorbar": {
              "outlinewidth": 0,
              "ticks": ""
             }
            },
            "type": "scatterternary"
           }
          ],
          "surface": [
           {
            "colorbar": {
             "outlinewidth": 0,
             "ticks": ""
            },
            "colorscale": [
             [
              0,
              "#0d0887"
             ],
             [
              0.1111111111111111,
              "#46039f"
             ],
             [
              0.2222222222222222,
              "#7201a8"
             ],
             [
              0.3333333333333333,
              "#9c179e"
             ],
             [
              0.4444444444444444,
              "#bd3786"
             ],
             [
              0.5555555555555556,
              "#d8576b"
             ],
             [
              0.6666666666666666,
              "#ed7953"
             ],
             [
              0.7777777777777778,
              "#fb9f3a"
             ],
             [
              0.8888888888888888,
              "#fdca26"
             ],
             [
              1,
              "#f0f921"
             ]
            ],
            "type": "surface"
           }
          ],
          "table": [
           {
            "cells": {
             "fill": {
              "color": "#EBF0F8"
             },
             "line": {
              "color": "white"
             }
            },
            "header": {
             "fill": {
              "color": "#C8D4E3"
             },
             "line": {
              "color": "white"
             }
            },
            "type": "table"
           }
          ]
         },
         "layout": {
          "annotationdefaults": {
           "arrowcolor": "#2a3f5f",
           "arrowhead": 0,
           "arrowwidth": 1
          },
          "autotypenumbers": "strict",
          "coloraxis": {
           "colorbar": {
            "outlinewidth": 0,
            "ticks": ""
           }
          },
          "colorscale": {
           "diverging": [
            [
             0,
             "#8e0152"
            ],
            [
             0.1,
             "#c51b7d"
            ],
            [
             0.2,
             "#de77ae"
            ],
            [
             0.3,
             "#f1b6da"
            ],
            [
             0.4,
             "#fde0ef"
            ],
            [
             0.5,
             "#f7f7f7"
            ],
            [
             0.6,
             "#e6f5d0"
            ],
            [
             0.7,
             "#b8e186"
            ],
            [
             0.8,
             "#7fbc41"
            ],
            [
             0.9,
             "#4d9221"
            ],
            [
             1,
             "#276419"
            ]
           ],
           "sequential": [
            [
             0,
             "#0d0887"
            ],
            [
             0.1111111111111111,
             "#46039f"
            ],
            [
             0.2222222222222222,
             "#7201a8"
            ],
            [
             0.3333333333333333,
             "#9c179e"
            ],
            [
             0.4444444444444444,
             "#bd3786"
            ],
            [
             0.5555555555555556,
             "#d8576b"
            ],
            [
             0.6666666666666666,
             "#ed7953"
            ],
            [
             0.7777777777777778,
             "#fb9f3a"
            ],
            [
             0.8888888888888888,
             "#fdca26"
            ],
            [
             1,
             "#f0f921"
            ]
           ],
           "sequentialminus": [
            [
             0,
             "#0d0887"
            ],
            [
             0.1111111111111111,
             "#46039f"
            ],
            [
             0.2222222222222222,
             "#7201a8"
            ],
            [
             0.3333333333333333,
             "#9c179e"
            ],
            [
             0.4444444444444444,
             "#bd3786"
            ],
            [
             0.5555555555555556,
             "#d8576b"
            ],
            [
             0.6666666666666666,
             "#ed7953"
            ],
            [
             0.7777777777777778,
             "#fb9f3a"
            ],
            [
             0.8888888888888888,
             "#fdca26"
            ],
            [
             1,
             "#f0f921"
            ]
           ]
          },
          "colorway": [
           "#636efa",
           "#EF553B",
           "#00cc96",
           "#ab63fa",
           "#FFA15A",
           "#19d3f3",
           "#FF6692",
           "#B6E880",
           "#FF97FF",
           "#FECB52"
          ],
          "font": {
           "color": "#2a3f5f"
          },
          "geo": {
           "bgcolor": "white",
           "lakecolor": "white",
           "landcolor": "#E5ECF6",
           "showlakes": true,
           "showland": true,
           "subunitcolor": "white"
          },
          "hoverlabel": {
           "align": "left"
          },
          "hovermode": "closest",
          "mapbox": {
           "style": "light"
          },
          "paper_bgcolor": "white",
          "plot_bgcolor": "#E5ECF6",
          "polar": {
           "angularaxis": {
            "gridcolor": "white",
            "linecolor": "white",
            "ticks": ""
           },
           "bgcolor": "#E5ECF6",
           "radialaxis": {
            "gridcolor": "white",
            "linecolor": "white",
            "ticks": ""
           }
          },
          "scene": {
           "xaxis": {
            "backgroundcolor": "#E5ECF6",
            "gridcolor": "white",
            "gridwidth": 2,
            "linecolor": "white",
            "showbackground": true,
            "ticks": "",
            "zerolinecolor": "white"
           },
           "yaxis": {
            "backgroundcolor": "#E5ECF6",
            "gridcolor": "white",
            "gridwidth": 2,
            "linecolor": "white",
            "showbackground": true,
            "ticks": "",
            "zerolinecolor": "white"
           },
           "zaxis": {
            "backgroundcolor": "#E5ECF6",
            "gridcolor": "white",
            "gridwidth": 2,
            "linecolor": "white",
            "showbackground": true,
            "ticks": "",
            "zerolinecolor": "white"
           }
          },
          "shapedefaults": {
           "line": {
            "color": "#2a3f5f"
           }
          },
          "ternary": {
           "aaxis": {
            "gridcolor": "white",
            "linecolor": "white",
            "ticks": ""
           },
           "baxis": {
            "gridcolor": "white",
            "linecolor": "white",
            "ticks": ""
           },
           "bgcolor": "#E5ECF6",
           "caxis": {
            "gridcolor": "white",
            "linecolor": "white",
            "ticks": ""
           }
          },
          "title": {
           "x": 0.05
          },
          "xaxis": {
           "automargin": true,
           "gridcolor": "white",
           "linecolor": "white",
           "ticks": "",
           "title": {
            "standoff": 15
           },
           "zerolinecolor": "white",
           "zerolinewidth": 2
          },
          "yaxis": {
           "automargin": true,
           "gridcolor": "white",
           "linecolor": "white",
           "ticks": "",
           "title": {
            "standoff": 15
           },
           "zerolinecolor": "white",
           "zerolinewidth": 2
          }
         }
        },
        "title": {
         "text": "2016"
        }
       }
      }
     },
     "metadata": {},
     "output_type": "display_data"
    },
    {
     "name": "stdout",
     "output_type": "stream",
     "text": [
      "2020\n"
     ]
    },
    {
     "data": {
      "application/vnd.plotly.v1+json": {
       "config": {
        "plotlyServerURL": "https://plot.ly"
       },
       "data": [
        {
         "coloraxis": "coloraxis",
         "customdata": [
          [
           2020,
           "ALABAMA",
           "Biden",
           "Trump",
           -0.2546165295474247
          ],
          [
           2020,
           "ALASKA",
           "Biden",
           "Trump",
           -0.10061190999360281
          ],
          [
           2020,
           "ARIZONA",
           "Biden",
           "Trump",
           0.0030870958390187275
          ],
          [
           2020,
           "ARKANSAS",
           "Biden",
           "Trump",
           -0.2762066790312936
          ],
          [
           2020,
           "CALIFORNIA",
           "Biden",
           "Trump",
           0.2916322326858859
          ],
          [
           2020,
           "COLORADO",
           "Biden",
           "Trump",
           0.13406941505740883
          ],
          [
           2020,
           "CONNECTICUT",
           "Biden",
           "Trump",
           0.200736132273528
          ],
          [
           2020,
           "DELAWARE",
           "Biden",
           "Trump",
           0.18968129022536118
          ],
          [
           2020,
           "DISTRICT OF COLUMBIA",
           "Biden",
           "Trump",
           0.8675237254469212
          ],
          [
           2020,
           "FLORIDA",
           "Biden",
           "Trump",
           -0.03358368897061803
          ],
          [
           2020,
           "GEORGIA",
           "Biden",
           "Trump",
           0.002355818846550728
          ],
          [
           2020,
           "HAWAII",
           "Biden",
           "Trump",
           0.29194665599602604
          ],
          [
           2020,
           "IDAHO",
           "Biden",
           "Trump",
           -0.30771162677099684
          ],
          [
           2020,
           "ILLINOIS",
           "Biden",
           "Trump",
           0.16988194558502084
          ],
          [
           2020,
           "INDIANA",
           "Biden",
           "Trump",
           -0.16059480705992973
          ],
          [
           2020,
           "IOWA",
           "Biden",
           "Trump",
           -0.0815296477328204
          ],
          [
           2020,
           "KANSAS",
           "Biden",
           "Trump",
           -0.14652959295432572
          ],
          [
           2020,
           "KENTUCKY",
           "Biden",
           "Trump",
           -0.259350570581364
          ],
          [
           2020,
           "LOUISIANA",
           "Biden",
           "Trump",
           -0.18609425612482317
          ],
          [
           2020,
           "MAINE",
           "Biden",
           "Trump",
           0.08974351235354122
          ],
          [
           2020,
           "MARYLAND",
           "Biden",
           "Trump",
           0.33210373292328355
          ],
          [
           2020,
           "MASSACHUSETTS",
           "Biden",
           "Trump",
           0.33214826114234397
          ],
          [
           2020,
           "MICHIGAN",
           "Biden",
           "Trump",
           0.02783527599686747
          ],
          [
           2020,
           "MINNESOTA",
           "Biden",
           "Trump",
           0.07110156900570641
          ],
          [
           2020,
           "MISSISSIPPI",
           "Biden",
           "Trump",
           -0.1654534811940394
          ],
          [
           2020,
           "MISSOURI",
           "Biden",
           "Trump",
           -0.1539087404270113
          ],
          [
           2020,
           "MONTANA",
           "Biden",
           "Trump",
           -0.16369099878411197
          ],
          [
           2020,
           "NEBRASKA",
           "Biden",
           "Trump",
           -0.19057532390266246
          ],
          [
           2020,
           "NEVADA",
           "Biden",
           "Trump",
           0.02390534632724617
          ],
          [
           2020,
           "NEW HAMPSHIRE",
           "Biden",
           "Trump",
           0.07351565775470054
          ],
          [
           2020,
           "NEW JERSEY",
           "Biden",
           "Trump",
           0.15937672895464478
          ],
          [
           2020,
           "NEW MEXICO",
           "Biden",
           "Trump",
           0.10792616603442767
          ],
          [
           2020,
           "NEW YORK",
           "Biden",
           "Trump",
           0.22930590695743974
          ],
          [
           2020,
           "NORTH CAROLINA",
           "Biden",
           "Trump",
           -0.013481207109322657
          ],
          [
           2020,
           "NORTH DAKOTA",
           "Biden",
           "Trump",
           -0.3335728637799563
          ],
          [
           2020,
           "OHIO",
           "Biden",
           "Trump",
           -0.08031961760169615
          ],
          [
           2020,
           "OKLAHOMA",
           "Biden",
           "Trump",
           -0.3308709751207632
          ],
          [
           2020,
           "OREGON",
           "Biden",
           "Trump",
           0.16086072607705526
          ],
          [
           2020,
           "PENNSYLVANIA",
           "Biden",
           "Trump",
           0.011648836352756708
          ],
          [
           2020,
           "RHODE ISLAND",
           "Biden",
           "Trump",
           0.2080581829435772
          ],
          [
           2020,
           "SOUTH CAROLINA",
           "Biden",
           "Trump",
           -0.11676642419382555
          ],
          [
           2020,
           "SOUTH DAKOTA",
           "Biden",
           "Trump",
           -0.2616413753611495
          ],
          [
           2020,
           "TENNESSEE",
           "Biden",
           "Trump",
           -0.2320885989526011
          ],
          [
           2020,
           "TEXAS",
           "Biden",
           "Trump",
           -0.055785936896821375
          ],
          [
           2020,
           "UTAH",
           "Biden",
           "Trump",
           -0.2048379044661353
          ],
          [
           2020,
           "VERMONT",
           "Biden",
           "Trump",
           0.3507472342627936
          ],
          [
           2020,
           "VIRGINIA",
           "Biden",
           "Trump",
           0.10114013510520287
          ],
          [
           2020,
           "WASHINGTON",
           "Biden",
           "Trump",
           0.19203323391959787
          ],
          [
           2020,
           "WEST VIRGINIA",
           "Biden",
           "Trump",
           -0.3893503068009645
          ],
          [
           2020,
           "WISCONSIN",
           "Biden",
           "Trump",
           0.006270995418189151
          ],
          [
           2020,
           "WYOMING",
           "Biden",
           "Trump",
           -0.43111923390412316
          ]
         ],
         "geo": "geo",
         "geojson": "https://raw.githubusercontent.com/plotly/datasets/master/geojson-counties-fips.json",
         "hovertemplate": "%{customdata[0]}<br>%{customdata[1]}<br>%{customdata[2]}(D) vs %{customdata[3]}(R)<br>Dem Margin:%{customdata[4]:.1%}%<br><extra></extra>",
         "locationmode": "USA-states",
         "locations": [
          "AL",
          "AK",
          "AZ",
          "AR",
          "CA",
          "CO",
          "CT",
          "DE",
          "DC",
          "FL",
          "GA",
          "HI",
          "ID",
          "IL",
          "IN",
          "IA",
          "KS",
          "KY",
          "LA",
          "ME",
          "MD",
          "MA",
          "MI",
          "MN",
          "MS",
          "MO",
          "MT",
          "NE",
          "NV",
          "NH",
          "NJ",
          "NM",
          "NY",
          "NC",
          "ND",
          "OH",
          "OK",
          "OR",
          "PA",
          "RI",
          "SC",
          "SD",
          "TN",
          "TX",
          "UT",
          "VT",
          "VA",
          "WA",
          "WV",
          "WI",
          "WY"
         ],
         "name": "",
         "type": "choropleth",
         "z": [
          -0.2546165295474247,
          -0.10061190999360281,
          0.0030870958390187275,
          -0.2762066790312936,
          0.2916322326858859,
          0.13406941505740883,
          0.200736132273528,
          0.18968129022536118,
          0.8675237254469212,
          -0.03358368897061803,
          0.002355818846550728,
          0.29194665599602604,
          -0.30771162677099684,
          0.16988194558502084,
          -0.16059480705992973,
          -0.0815296477328204,
          -0.14652959295432572,
          -0.259350570581364,
          -0.18609425612482317,
          0.08974351235354122,
          0.33210373292328355,
          0.33214826114234397,
          0.02783527599686747,
          0.07110156900570641,
          -0.1654534811940394,
          -0.1539087404270113,
          -0.16369099878411197,
          -0.19057532390266246,
          0.02390534632724617,
          0.07351565775470054,
          0.15937672895464478,
          0.10792616603442767,
          0.22930590695743974,
          -0.013481207109322657,
          -0.3335728637799563,
          -0.08031961760169615,
          -0.3308709751207632,
          0.16086072607705526,
          0.011648836352756708,
          0.2080581829435772,
          -0.11676642419382555,
          -0.2616413753611495,
          -0.2320885989526011,
          -0.055785936896821375,
          -0.2048379044661353,
          0.3507472342627936,
          0.10114013510520287,
          0.19203323391959787,
          -0.3893503068009645,
          0.006270995418189151,
          -0.43111923390412316
         ]
        }
       ],
       "layout": {
        "coloraxis": {
         "cmax": 0.2,
         "cmid": 0,
         "cmin": -0.2,
         "colorbar": {
          "title": {
           "text": "DIFF_PCT"
          }
         },
         "colorscale": [
          [
           0,
           "rgb(103,0,31)"
          ],
          [
           0.1,
           "rgb(178,24,43)"
          ],
          [
           0.2,
           "rgb(214,96,77)"
          ],
          [
           0.3,
           "rgb(244,165,130)"
          ],
          [
           0.4,
           "rgb(253,219,199)"
          ],
          [
           0.5,
           "rgb(247,247,247)"
          ],
          [
           0.6,
           "rgb(209,229,240)"
          ],
          [
           0.7,
           "rgb(146,197,222)"
          ],
          [
           0.8,
           "rgb(67,147,195)"
          ],
          [
           0.9,
           "rgb(33,102,172)"
          ],
          [
           1,
           "rgb(5,48,97)"
          ]
         ]
        },
        "geo": {
         "center": {},
         "domain": {
          "x": [
           0,
           1
          ],
          "y": [
           0,
           1
          ]
         },
         "scope": "usa"
        },
        "legend": {
         "tracegroupgap": 0
        },
        "margin": {
         "b": 0,
         "l": 0,
         "r": 0,
         "t": 0
        },
        "template": {
         "data": {
          "bar": [
           {
            "error_x": {
             "color": "#2a3f5f"
            },
            "error_y": {
             "color": "#2a3f5f"
            },
            "marker": {
             "line": {
              "color": "#E5ECF6",
              "width": 0.5
             },
             "pattern": {
              "fillmode": "overlay",
              "size": 10,
              "solidity": 0.2
             }
            },
            "type": "bar"
           }
          ],
          "barpolar": [
           {
            "marker": {
             "line": {
              "color": "#E5ECF6",
              "width": 0.5
             },
             "pattern": {
              "fillmode": "overlay",
              "size": 10,
              "solidity": 0.2
             }
            },
            "type": "barpolar"
           }
          ],
          "carpet": [
           {
            "aaxis": {
             "endlinecolor": "#2a3f5f",
             "gridcolor": "white",
             "linecolor": "white",
             "minorgridcolor": "white",
             "startlinecolor": "#2a3f5f"
            },
            "baxis": {
             "endlinecolor": "#2a3f5f",
             "gridcolor": "white",
             "linecolor": "white",
             "minorgridcolor": "white",
             "startlinecolor": "#2a3f5f"
            },
            "type": "carpet"
           }
          ],
          "choropleth": [
           {
            "colorbar": {
             "outlinewidth": 0,
             "ticks": ""
            },
            "type": "choropleth"
           }
          ],
          "contour": [
           {
            "colorbar": {
             "outlinewidth": 0,
             "ticks": ""
            },
            "colorscale": [
             [
              0,
              "#0d0887"
             ],
             [
              0.1111111111111111,
              "#46039f"
             ],
             [
              0.2222222222222222,
              "#7201a8"
             ],
             [
              0.3333333333333333,
              "#9c179e"
             ],
             [
              0.4444444444444444,
              "#bd3786"
             ],
             [
              0.5555555555555556,
              "#d8576b"
             ],
             [
              0.6666666666666666,
              "#ed7953"
             ],
             [
              0.7777777777777778,
              "#fb9f3a"
             ],
             [
              0.8888888888888888,
              "#fdca26"
             ],
             [
              1,
              "#f0f921"
             ]
            ],
            "type": "contour"
           }
          ],
          "contourcarpet": [
           {
            "colorbar": {
             "outlinewidth": 0,
             "ticks": ""
            },
            "type": "contourcarpet"
           }
          ],
          "heatmap": [
           {
            "colorbar": {
             "outlinewidth": 0,
             "ticks": ""
            },
            "colorscale": [
             [
              0,
              "#0d0887"
             ],
             [
              0.1111111111111111,
              "#46039f"
             ],
             [
              0.2222222222222222,
              "#7201a8"
             ],
             [
              0.3333333333333333,
              "#9c179e"
             ],
             [
              0.4444444444444444,
              "#bd3786"
             ],
             [
              0.5555555555555556,
              "#d8576b"
             ],
             [
              0.6666666666666666,
              "#ed7953"
             ],
             [
              0.7777777777777778,
              "#fb9f3a"
             ],
             [
              0.8888888888888888,
              "#fdca26"
             ],
             [
              1,
              "#f0f921"
             ]
            ],
            "type": "heatmap"
           }
          ],
          "heatmapgl": [
           {
            "colorbar": {
             "outlinewidth": 0,
             "ticks": ""
            },
            "colorscale": [
             [
              0,
              "#0d0887"
             ],
             [
              0.1111111111111111,
              "#46039f"
             ],
             [
              0.2222222222222222,
              "#7201a8"
             ],
             [
              0.3333333333333333,
              "#9c179e"
             ],
             [
              0.4444444444444444,
              "#bd3786"
             ],
             [
              0.5555555555555556,
              "#d8576b"
             ],
             [
              0.6666666666666666,
              "#ed7953"
             ],
             [
              0.7777777777777778,
              "#fb9f3a"
             ],
             [
              0.8888888888888888,
              "#fdca26"
             ],
             [
              1,
              "#f0f921"
             ]
            ],
            "type": "heatmapgl"
           }
          ],
          "histogram": [
           {
            "marker": {
             "pattern": {
              "fillmode": "overlay",
              "size": 10,
              "solidity": 0.2
             }
            },
            "type": "histogram"
           }
          ],
          "histogram2d": [
           {
            "colorbar": {
             "outlinewidth": 0,
             "ticks": ""
            },
            "colorscale": [
             [
              0,
              "#0d0887"
             ],
             [
              0.1111111111111111,
              "#46039f"
             ],
             [
              0.2222222222222222,
              "#7201a8"
             ],
             [
              0.3333333333333333,
              "#9c179e"
             ],
             [
              0.4444444444444444,
              "#bd3786"
             ],
             [
              0.5555555555555556,
              "#d8576b"
             ],
             [
              0.6666666666666666,
              "#ed7953"
             ],
             [
              0.7777777777777778,
              "#fb9f3a"
             ],
             [
              0.8888888888888888,
              "#fdca26"
             ],
             [
              1,
              "#f0f921"
             ]
            ],
            "type": "histogram2d"
           }
          ],
          "histogram2dcontour": [
           {
            "colorbar": {
             "outlinewidth": 0,
             "ticks": ""
            },
            "colorscale": [
             [
              0,
              "#0d0887"
             ],
             [
              0.1111111111111111,
              "#46039f"
             ],
             [
              0.2222222222222222,
              "#7201a8"
             ],
             [
              0.3333333333333333,
              "#9c179e"
             ],
             [
              0.4444444444444444,
              "#bd3786"
             ],
             [
              0.5555555555555556,
              "#d8576b"
             ],
             [
              0.6666666666666666,
              "#ed7953"
             ],
             [
              0.7777777777777778,
              "#fb9f3a"
             ],
             [
              0.8888888888888888,
              "#fdca26"
             ],
             [
              1,
              "#f0f921"
             ]
            ],
            "type": "histogram2dcontour"
           }
          ],
          "mesh3d": [
           {
            "colorbar": {
             "outlinewidth": 0,
             "ticks": ""
            },
            "type": "mesh3d"
           }
          ],
          "parcoords": [
           {
            "line": {
             "colorbar": {
              "outlinewidth": 0,
              "ticks": ""
             }
            },
            "type": "parcoords"
           }
          ],
          "pie": [
           {
            "automargin": true,
            "type": "pie"
           }
          ],
          "scatter": [
           {
            "fillpattern": {
             "fillmode": "overlay",
             "size": 10,
             "solidity": 0.2
            },
            "type": "scatter"
           }
          ],
          "scatter3d": [
           {
            "line": {
             "colorbar": {
              "outlinewidth": 0,
              "ticks": ""
             }
            },
            "marker": {
             "colorbar": {
              "outlinewidth": 0,
              "ticks": ""
             }
            },
            "type": "scatter3d"
           }
          ],
          "scattercarpet": [
           {
            "marker": {
             "colorbar": {
              "outlinewidth": 0,
              "ticks": ""
             }
            },
            "type": "scattercarpet"
           }
          ],
          "scattergeo": [
           {
            "marker": {
             "colorbar": {
              "outlinewidth": 0,
              "ticks": ""
             }
            },
            "type": "scattergeo"
           }
          ],
          "scattergl": [
           {
            "marker": {
             "colorbar": {
              "outlinewidth": 0,
              "ticks": ""
             }
            },
            "type": "scattergl"
           }
          ],
          "scattermapbox": [
           {
            "marker": {
             "colorbar": {
              "outlinewidth": 0,
              "ticks": ""
             }
            },
            "type": "scattermapbox"
           }
          ],
          "scatterpolar": [
           {
            "marker": {
             "colorbar": {
              "outlinewidth": 0,
              "ticks": ""
             }
            },
            "type": "scatterpolar"
           }
          ],
          "scatterpolargl": [
           {
            "marker": {
             "colorbar": {
              "outlinewidth": 0,
              "ticks": ""
             }
            },
            "type": "scatterpolargl"
           }
          ],
          "scatterternary": [
           {
            "marker": {
             "colorbar": {
              "outlinewidth": 0,
              "ticks": ""
             }
            },
            "type": "scatterternary"
           }
          ],
          "surface": [
           {
            "colorbar": {
             "outlinewidth": 0,
             "ticks": ""
            },
            "colorscale": [
             [
              0,
              "#0d0887"
             ],
             [
              0.1111111111111111,
              "#46039f"
             ],
             [
              0.2222222222222222,
              "#7201a8"
             ],
             [
              0.3333333333333333,
              "#9c179e"
             ],
             [
              0.4444444444444444,
              "#bd3786"
             ],
             [
              0.5555555555555556,
              "#d8576b"
             ],
             [
              0.6666666666666666,
              "#ed7953"
             ],
             [
              0.7777777777777778,
              "#fb9f3a"
             ],
             [
              0.8888888888888888,
              "#fdca26"
             ],
             [
              1,
              "#f0f921"
             ]
            ],
            "type": "surface"
           }
          ],
          "table": [
           {
            "cells": {
             "fill": {
              "color": "#EBF0F8"
             },
             "line": {
              "color": "white"
             }
            },
            "header": {
             "fill": {
              "color": "#C8D4E3"
             },
             "line": {
              "color": "white"
             }
            },
            "type": "table"
           }
          ]
         },
         "layout": {
          "annotationdefaults": {
           "arrowcolor": "#2a3f5f",
           "arrowhead": 0,
           "arrowwidth": 1
          },
          "autotypenumbers": "strict",
          "coloraxis": {
           "colorbar": {
            "outlinewidth": 0,
            "ticks": ""
           }
          },
          "colorscale": {
           "diverging": [
            [
             0,
             "#8e0152"
            ],
            [
             0.1,
             "#c51b7d"
            ],
            [
             0.2,
             "#de77ae"
            ],
            [
             0.3,
             "#f1b6da"
            ],
            [
             0.4,
             "#fde0ef"
            ],
            [
             0.5,
             "#f7f7f7"
            ],
            [
             0.6,
             "#e6f5d0"
            ],
            [
             0.7,
             "#b8e186"
            ],
            [
             0.8,
             "#7fbc41"
            ],
            [
             0.9,
             "#4d9221"
            ],
            [
             1,
             "#276419"
            ]
           ],
           "sequential": [
            [
             0,
             "#0d0887"
            ],
            [
             0.1111111111111111,
             "#46039f"
            ],
            [
             0.2222222222222222,
             "#7201a8"
            ],
            [
             0.3333333333333333,
             "#9c179e"
            ],
            [
             0.4444444444444444,
             "#bd3786"
            ],
            [
             0.5555555555555556,
             "#d8576b"
            ],
            [
             0.6666666666666666,
             "#ed7953"
            ],
            [
             0.7777777777777778,
             "#fb9f3a"
            ],
            [
             0.8888888888888888,
             "#fdca26"
            ],
            [
             1,
             "#f0f921"
            ]
           ],
           "sequentialminus": [
            [
             0,
             "#0d0887"
            ],
            [
             0.1111111111111111,
             "#46039f"
            ],
            [
             0.2222222222222222,
             "#7201a8"
            ],
            [
             0.3333333333333333,
             "#9c179e"
            ],
            [
             0.4444444444444444,
             "#bd3786"
            ],
            [
             0.5555555555555556,
             "#d8576b"
            ],
            [
             0.6666666666666666,
             "#ed7953"
            ],
            [
             0.7777777777777778,
             "#fb9f3a"
            ],
            [
             0.8888888888888888,
             "#fdca26"
            ],
            [
             1,
             "#f0f921"
            ]
           ]
          },
          "colorway": [
           "#636efa",
           "#EF553B",
           "#00cc96",
           "#ab63fa",
           "#FFA15A",
           "#19d3f3",
           "#FF6692",
           "#B6E880",
           "#FF97FF",
           "#FECB52"
          ],
          "font": {
           "color": "#2a3f5f"
          },
          "geo": {
           "bgcolor": "white",
           "lakecolor": "white",
           "landcolor": "#E5ECF6",
           "showlakes": true,
           "showland": true,
           "subunitcolor": "white"
          },
          "hoverlabel": {
           "align": "left"
          },
          "hovermode": "closest",
          "mapbox": {
           "style": "light"
          },
          "paper_bgcolor": "white",
          "plot_bgcolor": "#E5ECF6",
          "polar": {
           "angularaxis": {
            "gridcolor": "white",
            "linecolor": "white",
            "ticks": ""
           },
           "bgcolor": "#E5ECF6",
           "radialaxis": {
            "gridcolor": "white",
            "linecolor": "white",
            "ticks": ""
           }
          },
          "scene": {
           "xaxis": {
            "backgroundcolor": "#E5ECF6",
            "gridcolor": "white",
            "gridwidth": 2,
            "linecolor": "white",
            "showbackground": true,
            "ticks": "",
            "zerolinecolor": "white"
           },
           "yaxis": {
            "backgroundcolor": "#E5ECF6",
            "gridcolor": "white",
            "gridwidth": 2,
            "linecolor": "white",
            "showbackground": true,
            "ticks": "",
            "zerolinecolor": "white"
           },
           "zaxis": {
            "backgroundcolor": "#E5ECF6",
            "gridcolor": "white",
            "gridwidth": 2,
            "linecolor": "white",
            "showbackground": true,
            "ticks": "",
            "zerolinecolor": "white"
           }
          },
          "shapedefaults": {
           "line": {
            "color": "#2a3f5f"
           }
          },
          "ternary": {
           "aaxis": {
            "gridcolor": "white",
            "linecolor": "white",
            "ticks": ""
           },
           "baxis": {
            "gridcolor": "white",
            "linecolor": "white",
            "ticks": ""
           },
           "bgcolor": "#E5ECF6",
           "caxis": {
            "gridcolor": "white",
            "linecolor": "white",
            "ticks": ""
           }
          },
          "title": {
           "x": 0.05
          },
          "xaxis": {
           "automargin": true,
           "gridcolor": "white",
           "linecolor": "white",
           "ticks": "",
           "title": {
            "standoff": 15
           },
           "zerolinecolor": "white",
           "zerolinewidth": 2
          },
          "yaxis": {
           "automargin": true,
           "gridcolor": "white",
           "linecolor": "white",
           "ticks": "",
           "title": {
            "standoff": 15
           },
           "zerolinecolor": "white",
           "zerolinewidth": 2
          }
         }
        },
        "title": {
         "text": "2020"
        }
       }
      }
     },
     "metadata": {},
     "output_type": "display_data"
    }
   ],
   "source": [
    "# Un-named DEMOCRATIC candidate from ARIZONA in 2016 won 4 votes, drup nulls to remove\n",
    "\n",
    "import plotly.express as px\n",
    "import plotly.graph_objects as go\n",
    "import polars as pl\n",
    "pl.Config().set_tbl_rows(30)\n",
    "import numpy as np\n",
    "\n",
    "df = pl.read_csv(\n",
    "    './Dataset/1976-2020-president.csv',\n",
    "    ignore_errors=True\n",
    "    )\n",
    "\n",
    "# df_candidates used to make dictionaries where keys are years, values are candidates\n",
    "# take care of multiple candidates from clinton and bush families\n",
    "# fix an error with Mitt Romney in 2012. Washington state has his first and last names swapped.\n",
    "df_candidates = (\n",
    "    df\n",
    "    .select(pl.col('candidate', 'year','party_simplified'))\n",
    "    .filter(pl.col('party_simplified').is_in(['DEMOCRAT', 'REPUBLICAN']))\n",
    "    .filter(pl.col('candidate') != 'OTHER')\n",
    "    # Un-named DEMOCRATIC candidate from ARIZONA in 2016 won 4 votes, drup nulls to remove\n",
    "    .drop_nulls('candidate')\n",
    "    .with_columns(\n",
    "        pl.col('candidate')\n",
    "        .str.replace('BUSH, GEORGE H.W.', 'Bush Senior')\n",
    "        .str.replace('BUSH, GEORGE W.', 'Bush Junior')\n",
    "        .str.replace('MITT, ROMNEY', 'ROMNEY, MITT')\n",
    "        .str.replace('CLINTON, BILL', 'Clinton B.')\n",
    "        .str.replace('CLINTON, HILLARY', 'Clinton H.'),\n",
    "        pl.col('year').cast(pl.Int16)\n",
    "        )\n",
    "    .with_columns(\n",
    "        pl.col('candidate')\n",
    "        .str.split(',')\n",
    "        .list.slice(0, 1)\n",
    "        .list.first()\n",
    "        .str.to_titlecase()\n",
    "        .str.replace('Mccain', 'McCain')\n",
    "        # .alias('surname')\n",
    "        )\n",
    "    .unique()\n",
    "    .sort('year')\n",
    "    .pivot(index='year', on='party_simplified', values='candidate')\n",
    ")\n",
    "# print('df_candidates')\n",
    "# print(df_candidates)\n",
    "\n",
    "# Group by year and state, then calculate the vote difference between DEMOCRAT and REPUBLICAN\n",
    "df_votes = (\n",
    "    df\n",
    "    .filter(pl.col('party_simplified').is_in(['DEMOCRAT', 'REPUBLICAN']))\n",
    "    .with_columns(\n",
    "        pl.col('party_simplified')\n",
    "        .str.replace('DEMOCRAT', 'DEM_VOTES')\n",
    "        .str.replace('REPUBLICAN', 'REP_VOTES')\n",
    "    )\n",
    "    .rename({'totalvotes':'TOT_VOTES'})\n",
    "    .pivot(\n",
    "        index=['year', 'state', 'state_po','TOT_VOTES'],  # , 'candidate'], \n",
    "        on ='party_simplified', \n",
    "        values='candidatevotes', \n",
    "        aggregate_function='sum'\n",
    "        )\n",
    "    .with_columns(pl.col('year').cast(pl.Int16))\n",
    ")\n",
    "# print('df_votes')\n",
    "# print(df_votes)\n",
    "\n",
    "final_df = (\n",
    "    df_candidates.join(\n",
    "        df_votes,\n",
    "        on='year',\n",
    "        how='left'\n",
    "    )\n",
    "    .with_columns(\n",
    "        DEM_PCT = pl.col('DEM_VOTES') / pl.col('TOT_VOTES'),\n",
    "        REP_PCT = pl.col('REP_VOTES') / pl.col('TOT_VOTES'),\n",
    "    )\n",
    "    .with_columns(\n",
    "        DIFF_PCT = pl.col('DEM_PCT') -  pl.col('REP_PCT'),\n",
    "    )\n",
    "    .rename({'DEMOCRAT': 'DEM', 'REPUBLICAN': 'REP'})\n",
    ")\n",
    "\n",
    "# Create the map\n",
    "customdata=np.stack((final_df['year'], final_df['state'], final_df['DEM'], final_df['REP'],final_df['DIFF_PCT'] ), axis=-1)\n",
    "for year in sorted(final_df['year'].unique()):\n",
    "    print(year)\n",
    "    year_df = final_df.filter(pl.col('year') == year)\n",
    "    fig = px.choropleth(year_df,\n",
    "                        geojson=\"https://raw.githubusercontent.com/plotly/datasets/master/geojson-counties-fips.json\",\n",
    "                        locationmode='USA-states',\n",
    "                        locations='state_po',\n",
    "                        color='DIFF_PCT',\n",
    "                        scope=\"usa\",\n",
    "                        color_continuous_scale=px.colors.diverging.RdBu,\n",
    "                        color_continuous_midpoint=0,\n",
    "                        range_color=[-0.2,0.2],\n",
    "                        animation_frame='year',\n",
    "                        custom_data=['year', 'state', 'DEM', 'REP', 'DIFF_PCT'],\n",
    "                        title = str(year)\n",
    "    )\n",
    "    fig.update_traces(\n",
    "        hovertemplate =\n",
    "            '%{customdata[0]}<br>%{customdata[1]}<br>' +\n",
    "            '%{customdata[2]}(D) vs %{customdata[3]}(R)<br>' +\n",
    "            'Dem Margin:%{customdata[4]:.1%}%<br>' +\n",
    "            '<extra></extra>'\n",
    "    )\n",
    "    fig.update_layout(\n",
    "        margin={\"r\":0, \"t\":0, \"l\":0, \"b\":0},\n",
    "        )\n",
    "    fig.show()"
   ]
  },
  {
   "cell_type": "code",
   "execution_count": null,
   "metadata": {},
   "outputs": [],
   "source": []
  }
 ],
 "metadata": {
  "kernelspec": {
   "display_name": "Python 3",
   "language": "python",
   "name": "python3"
  },
  "language_info": {
   "codemirror_mode": {
    "name": "ipython",
    "version": 3
   },
   "file_extension": ".py",
   "mimetype": "text/x-python",
   "name": "python",
   "nbconvert_exporter": "python",
   "pygments_lexer": "ipython3",
   "version": "3.13.1"
  }
 },
 "nbformat": 4,
 "nbformat_minor": 4
}
